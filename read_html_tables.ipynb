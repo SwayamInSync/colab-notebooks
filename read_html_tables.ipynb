{
  "nbformat": 4,
  "nbformat_minor": 0,
  "metadata": {
    "kernelspec": {
      "display_name": "Python 3",
      "language": "python",
      "name": "python3"
    },
    "language_info": {
      "codemirror_mode": {
        "name": "ipython",
        "version": 3
      },
      "file_extension": ".py",
      "mimetype": "text/x-python",
      "name": "python",
      "nbconvert_exporter": "python",
      "pygments_lexer": "ipython3",
      "version": "3.6.8"
    },
    "colab": {
      "name": "Lecture.ipynb",
      "provenance": [],
      "include_colab_link": true
    }
  },
  "cells": [
    {
      "cell_type": "markdown",
      "metadata": {
        "id": "view-in-github",
        "colab_type": "text"
      },
      "source": [
        "<a href=\"https://colab.research.google.com/github/practice404/colab-notebooks/blob/main/read_html_tables.ipynb\" target=\"_parent\"><img src=\"https://colab.research.google.com/assets/colab-badge.svg\" alt=\"Open In Colab\"/></a>"
      ]
    },
    {
      "cell_type": "markdown",
      "metadata": {
        "id": "fsmLToMAqziy"
      },
      "source": [
        "![rmotr](https://user-images.githubusercontent.com/7065401/52071918-bda15380-2562-11e9-828c-7f95297e4a82.png)\n",
        "<hr style=\"margin-bottom: 40px;\">\n",
        "\n",
        "<img src=\"https://user-images.githubusercontent.com/7065401/68501079-0695df00-023c-11ea-841f-455dac84a089.jpg\"\n",
        "    style=\"width:400px; float: right; margin: 0 40px 40px 40px;\"></img>\n",
        "\n",
        "# Reading HTML tables\n",
        "\n",
        "In this lecture we'll learn how to read and parse HTML tables from websites into a list of `DataFrame` objects to work with."
      ]
    },
    {
      "cell_type": "markdown",
      "metadata": {
        "id": "iZWeFe1Yqziz"
      },
      "source": [
        "![purple-divider](https://user-images.githubusercontent.com/7065401/52071927-c1cd7100-2562-11e9-908a-dde91ba14e59.png)\n",
        "\n",
        "## Hands on! "
      ]
    },
    {
      "cell_type": "code",
      "metadata": {
        "id": "p5lCznFDqzi0",
        "outputId": "5ab2e657-c1c7-4758-8f78-2b612f4409e2"
      },
      "source": [
        "!pip install lxml"
      ],
      "execution_count": null,
      "outputs": [
        {
          "output_type": "stream",
          "text": [
            "Requirement already satisfied: lxml in /Users/mati/.virtualenvs/jupyter-ext/lib/python3.6/site-packages (4.4.1)\r\n"
          ],
          "name": "stdout"
        }
      ]
    },
    {
      "cell_type": "code",
      "metadata": {
        "id": "HsXl-tEmqzi0"
      },
      "source": [
        "import pandas as pd"
      ],
      "execution_count": null,
      "outputs": []
    },
    {
      "cell_type": "markdown",
      "metadata": {
        "id": "DXoLeSn5qzi0"
      },
      "source": [
        "![green-divider](https://user-images.githubusercontent.com/7065401/52071924-c003ad80-2562-11e9-8297-1c6595f8a7ff.png)\n",
        "\n",
        "## Parsing raw HTML strings\n",
        "\n",
        "Another useful pandas method is `read_html()`. This method will read HTML tables from a given URL, a file-like object, or a raw string containing HTML, and return a list of `DataFrame` objects.\n",
        "\n",
        "Let's try to read the following `html_string` into a `DataFrame`."
      ]
    },
    {
      "cell_type": "code",
      "metadata": {
        "id": "VQ7IS2NAqzi0"
      },
      "source": [
        "html_string = \"\"\"\n",
        "<table>\n",
        "    <thead>\n",
        "      <tr>\n",
        "        <th>Order date</th>\n",
        "        <th>Region</th> \n",
        "        <th>Item</th>\n",
        "        <th>Units</th>\n",
        "        <th>Unit cost</th>\n",
        "      </tr>\n",
        "    </thead>\n",
        "    <tbody>\n",
        "      <tr>\n",
        "        <td>1/6/2018</td>\n",
        "        <td>East</td> \n",
        "        <td>Pencil</td>\n",
        "        <td>95</td>\n",
        "        <td>1.99</td>\n",
        "      </tr>\n",
        "      <tr>\n",
        "        <td>1/23/2018</td>\n",
        "        <td>Central</td> \n",
        "        <td>Binder</td>\n",
        "        <td>50</td>\n",
        "        <td>19.99</td>\n",
        "      </tr>\n",
        "      <tr>\n",
        "        <td>2/9/2018</td>\n",
        "        <td>Central</td> \n",
        "        <td>Pencil</td>\n",
        "        <td>36</td>\n",
        "        <td>4.99</td>\n",
        "      </tr>\n",
        "      <tr>\n",
        "        <td>3/15/2018</td>\n",
        "        <td>West</td> \n",
        "        <td>Pen</td>\n",
        "        <td>27</td>\n",
        "        <td>19.99</td>\n",
        "      </tr>\n",
        "    </tbody>\n",
        "</table>\n",
        "\"\"\""
      ],
      "execution_count": null,
      "outputs": []
    },
    {
      "cell_type": "code",
      "metadata": {
        "scrolled": true,
        "id": "WkFr43T1qzi1"
      },
      "source": [
        "dfs = pd.read_html(html_string)"
      ],
      "execution_count": null,
      "outputs": []
    },
    {
      "cell_type": "markdown",
      "metadata": {
        "id": "A4fJdCiyqzi1"
      },
      "source": [
        "The `read_html` just returned one `DataFrame` object:"
      ]
    },
    {
      "cell_type": "code",
      "metadata": {
        "id": "EefSFqtGqzi1",
        "outputId": "5a53c3e5-862c-49eb-a972-76bf9c66bd4e"
      },
      "source": [
        "len(dfs)"
      ],
      "execution_count": null,
      "outputs": [
        {
          "output_type": "execute_result",
          "data": {
            "text/plain": [
              "1"
            ]
          },
          "metadata": {
            "tags": []
          },
          "execution_count": 4
        }
      ]
    },
    {
      "cell_type": "code",
      "metadata": {
        "id": "R80v1Jd4qzi1",
        "outputId": "b4527c2e-13dc-43a6-a1a4-f4b7c51f1138"
      },
      "source": [
        "df = dfs[0]\n",
        "\n",
        "df"
      ],
      "execution_count": null,
      "outputs": [
        {
          "output_type": "execute_result",
          "data": {
            "text/html": [
              "<div>\n",
              "<style scoped>\n",
              "    .dataframe tbody tr th:only-of-type {\n",
              "        vertical-align: middle;\n",
              "    }\n",
              "\n",
              "    .dataframe tbody tr th {\n",
              "        vertical-align: top;\n",
              "    }\n",
              "\n",
              "    .dataframe thead th {\n",
              "        text-align: right;\n",
              "    }\n",
              "</style>\n",
              "<table border=\"1\" class=\"dataframe\">\n",
              "  <thead>\n",
              "    <tr style=\"text-align: right;\">\n",
              "      <th></th>\n",
              "      <th>Order date</th>\n",
              "      <th>Region</th>\n",
              "      <th>Item</th>\n",
              "      <th>Units</th>\n",
              "      <th>Unit cost</th>\n",
              "    </tr>\n",
              "  </thead>\n",
              "  <tbody>\n",
              "    <tr>\n",
              "      <th>0</th>\n",
              "      <td>1/6/2018</td>\n",
              "      <td>East</td>\n",
              "      <td>Pencil</td>\n",
              "      <td>95</td>\n",
              "      <td>1.99</td>\n",
              "    </tr>\n",
              "    <tr>\n",
              "      <th>1</th>\n",
              "      <td>1/23/2018</td>\n",
              "      <td>Central</td>\n",
              "      <td>Binder</td>\n",
              "      <td>50</td>\n",
              "      <td>19.99</td>\n",
              "    </tr>\n",
              "    <tr>\n",
              "      <th>2</th>\n",
              "      <td>2/9/2018</td>\n",
              "      <td>Central</td>\n",
              "      <td>Pencil</td>\n",
              "      <td>36</td>\n",
              "      <td>4.99</td>\n",
              "    </tr>\n",
              "    <tr>\n",
              "      <th>3</th>\n",
              "      <td>3/15/2018</td>\n",
              "      <td>West</td>\n",
              "      <td>Pen</td>\n",
              "      <td>27</td>\n",
              "      <td>19.99</td>\n",
              "    </tr>\n",
              "  </tbody>\n",
              "</table>\n",
              "</div>"
            ],
            "text/plain": [
              "  Order date   Region    Item  Units  Unit cost\n",
              "0   1/6/2018     East  Pencil     95       1.99\n",
              "1  1/23/2018  Central  Binder     50      19.99\n",
              "2   2/9/2018  Central  Pencil     36       4.99\n",
              "3  3/15/2018     West     Pen     27      19.99"
            ]
          },
          "metadata": {
            "tags": []
          },
          "execution_count": 5
        }
      ]
    },
    {
      "cell_type": "markdown",
      "metadata": {
        "id": "hu_O4W3zqzi1"
      },
      "source": [
        "Previous `DataFrame` looks quite similar to the raw HTML table, but now we have a `DataFrame` object, so we can apply any pandas operation we want to it."
      ]
    },
    {
      "cell_type": "code",
      "metadata": {
        "id": "0vxv7D72qzi1",
        "outputId": "8acfad36-8dc0-452b-8f2c-4580f4f07830"
      },
      "source": [
        "df.shape"
      ],
      "execution_count": null,
      "outputs": [
        {
          "output_type": "execute_result",
          "data": {
            "text/plain": [
              "(4, 5)"
            ]
          },
          "metadata": {
            "tags": []
          },
          "execution_count": 7
        }
      ]
    },
    {
      "cell_type": "code",
      "metadata": {
        "id": "BzHacKGwqzi2",
        "outputId": "063e7f54-cd52-4f3a-e8b5-40be366a77cc"
      },
      "source": [
        "df.loc[df['Region'] == 'Central']"
      ],
      "execution_count": null,
      "outputs": [
        {
          "output_type": "execute_result",
          "data": {
            "text/html": [
              "<div>\n",
              "<style scoped>\n",
              "    .dataframe tbody tr th:only-of-type {\n",
              "        vertical-align: middle;\n",
              "    }\n",
              "\n",
              "    .dataframe tbody tr th {\n",
              "        vertical-align: top;\n",
              "    }\n",
              "\n",
              "    .dataframe thead th {\n",
              "        text-align: right;\n",
              "    }\n",
              "</style>\n",
              "<table border=\"1\" class=\"dataframe\">\n",
              "  <thead>\n",
              "    <tr style=\"text-align: right;\">\n",
              "      <th></th>\n",
              "      <th>Order date</th>\n",
              "      <th>Region</th>\n",
              "      <th>Item</th>\n",
              "      <th>Units</th>\n",
              "      <th>Unit cost</th>\n",
              "    </tr>\n",
              "  </thead>\n",
              "  <tbody>\n",
              "    <tr>\n",
              "      <th>1</th>\n",
              "      <td>1/23/2018</td>\n",
              "      <td>Central</td>\n",
              "      <td>Binder</td>\n",
              "      <td>50</td>\n",
              "      <td>19.99</td>\n",
              "    </tr>\n",
              "    <tr>\n",
              "      <th>2</th>\n",
              "      <td>2/9/2018</td>\n",
              "      <td>Central</td>\n",
              "      <td>Pencil</td>\n",
              "      <td>36</td>\n",
              "      <td>4.99</td>\n",
              "    </tr>\n",
              "  </tbody>\n",
              "</table>\n",
              "</div>"
            ],
            "text/plain": [
              "  Order date   Region    Item  Units  Unit cost\n",
              "1  1/23/2018  Central  Binder     50      19.99\n",
              "2   2/9/2018  Central  Pencil     36       4.99"
            ]
          },
          "metadata": {
            "tags": []
          },
          "execution_count": 8
        }
      ]
    },
    {
      "cell_type": "code",
      "metadata": {
        "id": "ujN9Yzzqqzi2",
        "outputId": "c6903d29-91cc-42cb-dd20-118b96ae5c96"
      },
      "source": [
        "df.loc[df['Units'] > 35]"
      ],
      "execution_count": null,
      "outputs": [
        {
          "output_type": "execute_result",
          "data": {
            "text/html": [
              "<div>\n",
              "<style scoped>\n",
              "    .dataframe tbody tr th:only-of-type {\n",
              "        vertical-align: middle;\n",
              "    }\n",
              "\n",
              "    .dataframe tbody tr th {\n",
              "        vertical-align: top;\n",
              "    }\n",
              "\n",
              "    .dataframe thead th {\n",
              "        text-align: right;\n",
              "    }\n",
              "</style>\n",
              "<table border=\"1\" class=\"dataframe\">\n",
              "  <thead>\n",
              "    <tr style=\"text-align: right;\">\n",
              "      <th></th>\n",
              "      <th>Order date</th>\n",
              "      <th>Region</th>\n",
              "      <th>Item</th>\n",
              "      <th>Units</th>\n",
              "      <th>Unit cost</th>\n",
              "    </tr>\n",
              "  </thead>\n",
              "  <tbody>\n",
              "    <tr>\n",
              "      <th>0</th>\n",
              "      <td>1/6/2018</td>\n",
              "      <td>East</td>\n",
              "      <td>Pencil</td>\n",
              "      <td>95</td>\n",
              "      <td>1.99</td>\n",
              "    </tr>\n",
              "    <tr>\n",
              "      <th>1</th>\n",
              "      <td>1/23/2018</td>\n",
              "      <td>Central</td>\n",
              "      <td>Binder</td>\n",
              "      <td>50</td>\n",
              "      <td>19.99</td>\n",
              "    </tr>\n",
              "    <tr>\n",
              "      <th>2</th>\n",
              "      <td>2/9/2018</td>\n",
              "      <td>Central</td>\n",
              "      <td>Pencil</td>\n",
              "      <td>36</td>\n",
              "      <td>4.99</td>\n",
              "    </tr>\n",
              "  </tbody>\n",
              "</table>\n",
              "</div>"
            ],
            "text/plain": [
              "  Order date   Region    Item  Units  Unit cost\n",
              "0   1/6/2018     East  Pencil     95       1.99\n",
              "1  1/23/2018  Central  Binder     50      19.99\n",
              "2   2/9/2018  Central  Pencil     36       4.99"
            ]
          },
          "metadata": {
            "tags": []
          },
          "execution_count": 9
        }
      ]
    },
    {
      "cell_type": "markdown",
      "metadata": {
        "id": "vjUNF6cNqzi2"
      },
      "source": [
        "### Defining header\n",
        "\n",
        "Pandas will automatically find the header to use thanks to the <thead> tag.\n",
        "    \n",
        "But in many cases we'll find wrong or incomplete tables that make the `read_html` method parse the tables in a wrong way without the proper headers.\n",
        "\n",
        "To fix them we can use the `header` parameter."
      ]
    },
    {
      "cell_type": "code",
      "metadata": {
        "id": "mzNx7VuYqzi2"
      },
      "source": [
        "html_string = \"\"\"\n",
        "<table>\n",
        "  <tr>\n",
        "    <td>Order date</td>\n",
        "    <td>Region</td> \n",
        "    <td>Item</td>\n",
        "    <td>Units</td>\n",
        "    <td>Unit cost</td>\n",
        "  </tr>\n",
        "  <tr>\n",
        "    <td>1/6/2018</td>\n",
        "    <td>East</td> \n",
        "    <td>Pencil</td>\n",
        "    <td>95</td>\n",
        "    <td>1.99</td>\n",
        "  </tr>\n",
        "  <tr>\n",
        "    <td>1/23/2018</td>\n",
        "    <td>Central</td> \n",
        "    <td>Binder</td>\n",
        "    <td>50</td>\n",
        "    <td>19.99</td>\n",
        "  </tr>\n",
        "  <tr>\n",
        "    <td>2/9/2018</td>\n",
        "    <td>Central</td> \n",
        "    <td>Pencil</td>\n",
        "    <td>36</td>\n",
        "    <td>4.99</td>\n",
        "  </tr>\n",
        "  <tr>\n",
        "    <td>3/15/2018</td>\n",
        "    <td>West</td> \n",
        "    <td>Pen</td>\n",
        "    <td>27</td>\n",
        "    <td>19.99</td>\n",
        "  </tr>\n",
        "</table>\n",
        "\"\"\""
      ],
      "execution_count": null,
      "outputs": []
    },
    {
      "cell_type": "code",
      "metadata": {
        "id": "QM3hGciuqzi2",
        "outputId": "51846758-3910-41e7-f8c8-caefdef24bfc"
      },
      "source": [
        "pd.read_html(html_string)[0]"
      ],
      "execution_count": null,
      "outputs": [
        {
          "output_type": "execute_result",
          "data": {
            "text/html": [
              "<div>\n",
              "<style scoped>\n",
              "    .dataframe tbody tr th:only-of-type {\n",
              "        vertical-align: middle;\n",
              "    }\n",
              "\n",
              "    .dataframe tbody tr th {\n",
              "        vertical-align: top;\n",
              "    }\n",
              "\n",
              "    .dataframe thead th {\n",
              "        text-align: right;\n",
              "    }\n",
              "</style>\n",
              "<table border=\"1\" class=\"dataframe\">\n",
              "  <thead>\n",
              "    <tr style=\"text-align: right;\">\n",
              "      <th></th>\n",
              "      <th>0</th>\n",
              "      <th>1</th>\n",
              "      <th>2</th>\n",
              "      <th>3</th>\n",
              "      <th>4</th>\n",
              "    </tr>\n",
              "  </thead>\n",
              "  <tbody>\n",
              "    <tr>\n",
              "      <th>0</th>\n",
              "      <td>Order date</td>\n",
              "      <td>Region</td>\n",
              "      <td>Item</td>\n",
              "      <td>Units</td>\n",
              "      <td>Unit cost</td>\n",
              "    </tr>\n",
              "    <tr>\n",
              "      <th>1</th>\n",
              "      <td>1/6/2018</td>\n",
              "      <td>East</td>\n",
              "      <td>Pencil</td>\n",
              "      <td>95</td>\n",
              "      <td>1.99</td>\n",
              "    </tr>\n",
              "    <tr>\n",
              "      <th>2</th>\n",
              "      <td>1/23/2018</td>\n",
              "      <td>Central</td>\n",
              "      <td>Binder</td>\n",
              "      <td>50</td>\n",
              "      <td>19.99</td>\n",
              "    </tr>\n",
              "    <tr>\n",
              "      <th>3</th>\n",
              "      <td>2/9/2018</td>\n",
              "      <td>Central</td>\n",
              "      <td>Pencil</td>\n",
              "      <td>36</td>\n",
              "      <td>4.99</td>\n",
              "    </tr>\n",
              "    <tr>\n",
              "      <th>4</th>\n",
              "      <td>3/15/2018</td>\n",
              "      <td>West</td>\n",
              "      <td>Pen</td>\n",
              "      <td>27</td>\n",
              "      <td>19.99</td>\n",
              "    </tr>\n",
              "  </tbody>\n",
              "</table>\n",
              "</div>"
            ],
            "text/plain": [
              "            0        1       2      3          4\n",
              "0  Order date   Region    Item  Units  Unit cost\n",
              "1    1/6/2018     East  Pencil     95       1.99\n",
              "2   1/23/2018  Central  Binder     50      19.99\n",
              "3    2/9/2018  Central  Pencil     36       4.99\n",
              "4   3/15/2018     West     Pen     27      19.99"
            ]
          },
          "metadata": {
            "tags": []
          },
          "execution_count": 7
        }
      ]
    },
    {
      "cell_type": "markdown",
      "metadata": {
        "id": "hBeLFc1gqzi2"
      },
      "source": [
        "In this case, we'll need to pass the row number to use as header using the `header` parameter."
      ]
    },
    {
      "cell_type": "code",
      "metadata": {
        "id": "gj1UX3ASqzi2",
        "outputId": "51d63031-9f8c-4765-f9ed-05aa0e31c4d7"
      },
      "source": [
        "pd.read_html(html_string, header=0)[0]"
      ],
      "execution_count": null,
      "outputs": [
        {
          "output_type": "execute_result",
          "data": {
            "text/html": [
              "<div>\n",
              "<style scoped>\n",
              "    .dataframe tbody tr th:only-of-type {\n",
              "        vertical-align: middle;\n",
              "    }\n",
              "\n",
              "    .dataframe tbody tr th {\n",
              "        vertical-align: top;\n",
              "    }\n",
              "\n",
              "    .dataframe thead th {\n",
              "        text-align: right;\n",
              "    }\n",
              "</style>\n",
              "<table border=\"1\" class=\"dataframe\">\n",
              "  <thead>\n",
              "    <tr style=\"text-align: right;\">\n",
              "      <th></th>\n",
              "      <th>Order date</th>\n",
              "      <th>Region</th>\n",
              "      <th>Item</th>\n",
              "      <th>Units</th>\n",
              "      <th>Unit cost</th>\n",
              "    </tr>\n",
              "  </thead>\n",
              "  <tbody>\n",
              "    <tr>\n",
              "      <th>0</th>\n",
              "      <td>1/6/2018</td>\n",
              "      <td>East</td>\n",
              "      <td>Pencil</td>\n",
              "      <td>95</td>\n",
              "      <td>1.99</td>\n",
              "    </tr>\n",
              "    <tr>\n",
              "      <th>1</th>\n",
              "      <td>1/23/2018</td>\n",
              "      <td>Central</td>\n",
              "      <td>Binder</td>\n",
              "      <td>50</td>\n",
              "      <td>19.99</td>\n",
              "    </tr>\n",
              "    <tr>\n",
              "      <th>2</th>\n",
              "      <td>2/9/2018</td>\n",
              "      <td>Central</td>\n",
              "      <td>Pencil</td>\n",
              "      <td>36</td>\n",
              "      <td>4.99</td>\n",
              "    </tr>\n",
              "    <tr>\n",
              "      <th>3</th>\n",
              "      <td>3/15/2018</td>\n",
              "      <td>West</td>\n",
              "      <td>Pen</td>\n",
              "      <td>27</td>\n",
              "      <td>19.99</td>\n",
              "    </tr>\n",
              "  </tbody>\n",
              "</table>\n",
              "</div>"
            ],
            "text/plain": [
              "  Order date   Region    Item  Units  Unit cost\n",
              "0   1/6/2018     East  Pencil     95       1.99\n",
              "1  1/23/2018  Central  Binder     50      19.99\n",
              "2   2/9/2018  Central  Pencil     36       4.99\n",
              "3  3/15/2018     West     Pen     27      19.99"
            ]
          },
          "metadata": {
            "tags": []
          },
          "execution_count": 12
        }
      ]
    },
    {
      "cell_type": "markdown",
      "metadata": {
        "id": "amGCKXXpqzi2"
      },
      "source": [
        "![green-divider](https://user-images.githubusercontent.com/7065401/52071924-c003ad80-2562-11e9-8297-1c6595f8a7ff.png)\n",
        "\n",
        "## Parsing HTML tables from the web\n",
        "\n",
        "Now that we know how `read_html` works, go one step beyond and try to parse HTML tables directly from an URL.\n",
        "\n",
        "To do that we'll call the `read_html` method with an URL as paramter."
      ]
    },
    {
      "cell_type": "markdown",
      "metadata": {
        "id": "yr3ssPQPqzi2"
      },
      "source": [
        "### Simple example"
      ]
    },
    {
      "cell_type": "code",
      "metadata": {
        "id": "ghm3RH1Xqzi3"
      },
      "source": [
        "html_url = \"https://www.basketball-reference.com/leagues/NBA_2019_per_game.html\""
      ],
      "execution_count": null,
      "outputs": []
    },
    {
      "cell_type": "code",
      "metadata": {
        "id": "I8Lxgv0qqzi3"
      },
      "source": [
        "nba_tables = pd.read_html(html_url)"
      ],
      "execution_count": null,
      "outputs": []
    },
    {
      "cell_type": "code",
      "metadata": {
        "id": "TH0pYfLGqzi3",
        "outputId": "ffab2026-781b-491b-f409-148814d4a9e6"
      },
      "source": [
        "len(nba_tables)"
      ],
      "execution_count": null,
      "outputs": [
        {
          "output_type": "execute_result",
          "data": {
            "text/plain": [
              "1"
            ]
          },
          "metadata": {
            "tags": []
          },
          "execution_count": 10
        }
      ]
    },
    {
      "cell_type": "markdown",
      "metadata": {
        "id": "QwyeYCNXqzi3"
      },
      "source": [
        "We'll work with the only one table found:"
      ]
    },
    {
      "cell_type": "code",
      "metadata": {
        "id": "akfjmSzIqzi3"
      },
      "source": [
        "nba = nba_tables[0]"
      ],
      "execution_count": null,
      "outputs": []
    },
    {
      "cell_type": "code",
      "metadata": {
        "id": "TXTBJv7mqzi3",
        "outputId": "a8f5ad73-7a04-4cf8-d351-ad038e942828"
      },
      "source": [
        "nba.head()"
      ],
      "execution_count": null,
      "outputs": [
        {
          "output_type": "execute_result",
          "data": {
            "text/html": [
              "<div>\n",
              "<style scoped>\n",
              "    .dataframe tbody tr th:only-of-type {\n",
              "        vertical-align: middle;\n",
              "    }\n",
              "\n",
              "    .dataframe tbody tr th {\n",
              "        vertical-align: top;\n",
              "    }\n",
              "\n",
              "    .dataframe thead th {\n",
              "        text-align: right;\n",
              "    }\n",
              "</style>\n",
              "<table border=\"1\" class=\"dataframe\">\n",
              "  <thead>\n",
              "    <tr style=\"text-align: right;\">\n",
              "      <th></th>\n",
              "      <th>Rk</th>\n",
              "      <th>Player</th>\n",
              "      <th>Pos</th>\n",
              "      <th>Age</th>\n",
              "      <th>Tm</th>\n",
              "      <th>G</th>\n",
              "      <th>GS</th>\n",
              "      <th>MP</th>\n",
              "      <th>FG</th>\n",
              "      <th>FGA</th>\n",
              "      <th>...</th>\n",
              "      <th>FT%</th>\n",
              "      <th>ORB</th>\n",
              "      <th>DRB</th>\n",
              "      <th>TRB</th>\n",
              "      <th>AST</th>\n",
              "      <th>STL</th>\n",
              "      <th>BLK</th>\n",
              "      <th>TOV</th>\n",
              "      <th>PF</th>\n",
              "      <th>PTS</th>\n",
              "    </tr>\n",
              "  </thead>\n",
              "  <tbody>\n",
              "    <tr>\n",
              "      <th>0</th>\n",
              "      <td>1</td>\n",
              "      <td>Álex Abrines</td>\n",
              "      <td>SG</td>\n",
              "      <td>25</td>\n",
              "      <td>OKC</td>\n",
              "      <td>31</td>\n",
              "      <td>2</td>\n",
              "      <td>19.0</td>\n",
              "      <td>1.8</td>\n",
              "      <td>5.1</td>\n",
              "      <td>...</td>\n",
              "      <td>.923</td>\n",
              "      <td>0.2</td>\n",
              "      <td>1.4</td>\n",
              "      <td>1.5</td>\n",
              "      <td>0.6</td>\n",
              "      <td>0.5</td>\n",
              "      <td>0.2</td>\n",
              "      <td>0.5</td>\n",
              "      <td>1.7</td>\n",
              "      <td>5.3</td>\n",
              "    </tr>\n",
              "    <tr>\n",
              "      <th>1</th>\n",
              "      <td>2</td>\n",
              "      <td>Quincy Acy</td>\n",
              "      <td>PF</td>\n",
              "      <td>28</td>\n",
              "      <td>PHO</td>\n",
              "      <td>10</td>\n",
              "      <td>0</td>\n",
              "      <td>12.3</td>\n",
              "      <td>0.4</td>\n",
              "      <td>1.8</td>\n",
              "      <td>...</td>\n",
              "      <td>.700</td>\n",
              "      <td>0.3</td>\n",
              "      <td>2.2</td>\n",
              "      <td>2.5</td>\n",
              "      <td>0.8</td>\n",
              "      <td>0.1</td>\n",
              "      <td>0.4</td>\n",
              "      <td>0.4</td>\n",
              "      <td>2.4</td>\n",
              "      <td>1.7</td>\n",
              "    </tr>\n",
              "    <tr>\n",
              "      <th>2</th>\n",
              "      <td>3</td>\n",
              "      <td>Jaylen Adams</td>\n",
              "      <td>PG</td>\n",
              "      <td>22</td>\n",
              "      <td>ATL</td>\n",
              "      <td>34</td>\n",
              "      <td>1</td>\n",
              "      <td>12.6</td>\n",
              "      <td>1.1</td>\n",
              "      <td>3.2</td>\n",
              "      <td>...</td>\n",
              "      <td>.778</td>\n",
              "      <td>0.3</td>\n",
              "      <td>1.4</td>\n",
              "      <td>1.8</td>\n",
              "      <td>1.9</td>\n",
              "      <td>0.4</td>\n",
              "      <td>0.1</td>\n",
              "      <td>0.8</td>\n",
              "      <td>1.3</td>\n",
              "      <td>3.2</td>\n",
              "    </tr>\n",
              "    <tr>\n",
              "      <th>3</th>\n",
              "      <td>4</td>\n",
              "      <td>Steven Adams</td>\n",
              "      <td>C</td>\n",
              "      <td>25</td>\n",
              "      <td>OKC</td>\n",
              "      <td>80</td>\n",
              "      <td>80</td>\n",
              "      <td>33.4</td>\n",
              "      <td>6.0</td>\n",
              "      <td>10.1</td>\n",
              "      <td>...</td>\n",
              "      <td>.500</td>\n",
              "      <td>4.9</td>\n",
              "      <td>4.6</td>\n",
              "      <td>9.5</td>\n",
              "      <td>1.6</td>\n",
              "      <td>1.5</td>\n",
              "      <td>1.0</td>\n",
              "      <td>1.7</td>\n",
              "      <td>2.6</td>\n",
              "      <td>13.9</td>\n",
              "    </tr>\n",
              "    <tr>\n",
              "      <th>4</th>\n",
              "      <td>5</td>\n",
              "      <td>Bam Adebayo</td>\n",
              "      <td>C</td>\n",
              "      <td>21</td>\n",
              "      <td>MIA</td>\n",
              "      <td>82</td>\n",
              "      <td>28</td>\n",
              "      <td>23.3</td>\n",
              "      <td>3.4</td>\n",
              "      <td>5.9</td>\n",
              "      <td>...</td>\n",
              "      <td>.735</td>\n",
              "      <td>2.0</td>\n",
              "      <td>5.3</td>\n",
              "      <td>7.3</td>\n",
              "      <td>2.2</td>\n",
              "      <td>0.9</td>\n",
              "      <td>0.8</td>\n",
              "      <td>1.5</td>\n",
              "      <td>2.5</td>\n",
              "      <td>8.9</td>\n",
              "    </tr>\n",
              "  </tbody>\n",
              "</table>\n",
              "<p>5 rows × 30 columns</p>\n",
              "</div>"
            ],
            "text/plain": [
              "  Rk        Player Pos Age   Tm   G  GS    MP   FG   FGA  ...   FT%  ORB  DRB  \\\n",
              "0  1  Álex Abrines  SG  25  OKC  31   2  19.0  1.8   5.1  ...  .923  0.2  1.4   \n",
              "1  2    Quincy Acy  PF  28  PHO  10   0  12.3  0.4   1.8  ...  .700  0.3  2.2   \n",
              "2  3  Jaylen Adams  PG  22  ATL  34   1  12.6  1.1   3.2  ...  .778  0.3  1.4   \n",
              "3  4  Steven Adams   C  25  OKC  80  80  33.4  6.0  10.1  ...  .500  4.9  4.6   \n",
              "4  5   Bam Adebayo   C  21  MIA  82  28  23.3  3.4   5.9  ...  .735  2.0  5.3   \n",
              "\n",
              "   TRB  AST  STL  BLK  TOV   PF   PTS  \n",
              "0  1.5  0.6  0.5  0.2  0.5  1.7   5.3  \n",
              "1  2.5  0.8  0.1  0.4  0.4  2.4   1.7  \n",
              "2  1.8  1.9  0.4  0.1  0.8  1.3   3.2  \n",
              "3  9.5  1.6  1.5  1.0  1.7  2.6  13.9  \n",
              "4  7.3  2.2  0.9  0.8  1.5  2.5   8.9  \n",
              "\n",
              "[5 rows x 30 columns]"
            ]
          },
          "metadata": {
            "tags": []
          },
          "execution_count": 17
        }
      ]
    },
    {
      "cell_type": "markdown",
      "metadata": {
        "id": "knBZSMNiqzi3"
      },
      "source": [
        "### Complex example\n",
        "\n",
        "We can also use the `requests` module to get HTML code from an URL to parse it into `DataFrame` objects.\n",
        "\n",
        "If we look at the given URL we can see multiple tables about The Simpsons TV show.\n",
        "\n",
        "We want to keep the table with information about each season."
      ]
    },
    {
      "cell_type": "code",
      "metadata": {
        "id": "C-9XRcdUqzi3"
      },
      "source": [
        "import requests\n",
        "\n",
        "html_url = \"https://en.wikipedia.org/wiki/The_Simpsons\""
      ],
      "execution_count": null,
      "outputs": []
    },
    {
      "cell_type": "code",
      "metadata": {
        "id": "aQ-oemxIqzi3"
      },
      "source": [
        "r = requests.get(html_url)\n",
        "\n",
        "wiki_tables = pd.read_html(r.text, header=0)"
      ],
      "execution_count": null,
      "outputs": []
    },
    {
      "cell_type": "code",
      "metadata": {
        "id": "QVeWwAhkqzi3",
        "outputId": "04de632d-6181-4cf2-ffe9-1e25eda794f9"
      },
      "source": [
        "len(wiki_tables)"
      ],
      "execution_count": null,
      "outputs": [
        {
          "output_type": "execute_result",
          "data": {
            "text/plain": [
              "27"
            ]
          },
          "metadata": {
            "tags": []
          },
          "execution_count": 13
        }
      ]
    },
    {
      "cell_type": "code",
      "metadata": {
        "id": "gG04BKs8qzi3"
      },
      "source": [
        "simpsons = wiki_tables[1]"
      ],
      "execution_count": null,
      "outputs": []
    },
    {
      "cell_type": "code",
      "metadata": {
        "id": "0mHreQnYqzi4",
        "outputId": "1848d6c6-4954-40f2-ff16-09b48744ee6f"
      },
      "source": [
        "simpsons.head()"
      ],
      "execution_count": null,
      "outputs": [
        {
          "output_type": "execute_result",
          "data": {
            "text/html": [
              "<div>\n",
              "<style scoped>\n",
              "    .dataframe tbody tr th:only-of-type {\n",
              "        vertical-align: middle;\n",
              "    }\n",
              "\n",
              "    .dataframe tbody tr th {\n",
              "        vertical-align: top;\n",
              "    }\n",
              "\n",
              "    .dataframe thead th {\n",
              "        text-align: right;\n",
              "    }\n",
              "</style>\n",
              "<table border=\"1\" class=\"dataframe\">\n",
              "  <thead>\n",
              "    <tr style=\"text-align: right;\">\n",
              "      <th></th>\n",
              "      <th>Season</th>\n",
              "      <th>Season.1</th>\n",
              "      <th>No. ofepisodes</th>\n",
              "      <th>Originally aired</th>\n",
              "      <th>Originally aired.1</th>\n",
              "      <th>Originally aired.2</th>\n",
              "      <th>Viewership</th>\n",
              "      <th>Viewership.1</th>\n",
              "      <th>Viewership.2</th>\n",
              "    </tr>\n",
              "  </thead>\n",
              "  <tbody>\n",
              "    <tr>\n",
              "      <th>0</th>\n",
              "      <td>Season</td>\n",
              "      <td>Season</td>\n",
              "      <td>No. ofepisodes</td>\n",
              "      <td>Season premiere</td>\n",
              "      <td>Season finale</td>\n",
              "      <td>Time Slot (ET)</td>\n",
              "      <td>Avg. viewers(in millions)</td>\n",
              "      <td>Most watched episode</td>\n",
              "      <td>Most watched episode</td>\n",
              "    </tr>\n",
              "    <tr>\n",
              "      <th>1</th>\n",
              "      <td>Season</td>\n",
              "      <td>Season</td>\n",
              "      <td>No. ofepisodes</td>\n",
              "      <td>Season premiere</td>\n",
              "      <td>Season finale</td>\n",
              "      <td>Time Slot (ET)</td>\n",
              "      <td>Avg. viewers(in millions)</td>\n",
              "      <td>Viewers(millions)</td>\n",
              "      <td>Episode Title</td>\n",
              "    </tr>\n",
              "    <tr>\n",
              "      <th>2</th>\n",
              "      <td>1</td>\n",
              "      <td>1989–90</td>\n",
              "      <td>13</td>\n",
              "      <td>December 17, 1989</td>\n",
              "      <td>May 13, 1990</td>\n",
              "      <td>Sunday 8:30 PM</td>\n",
              "      <td>27.8</td>\n",
              "      <td>33.5</td>\n",
              "      <td>\"Life on the Fast Lane\"</td>\n",
              "    </tr>\n",
              "    <tr>\n",
              "      <th>3</th>\n",
              "      <td>2</td>\n",
              "      <td>1990–91</td>\n",
              "      <td>22</td>\n",
              "      <td>October 11, 1990</td>\n",
              "      <td>July 11, 1991</td>\n",
              "      <td>Thursday 8:00 PM</td>\n",
              "      <td>24.4</td>\n",
              "      <td>33.6</td>\n",
              "      <td>\"Bart Gets an F\"</td>\n",
              "    </tr>\n",
              "    <tr>\n",
              "      <th>4</th>\n",
              "      <td>3</td>\n",
              "      <td>1991–92</td>\n",
              "      <td>24</td>\n",
              "      <td>September 19, 1991</td>\n",
              "      <td>August 27, 1992</td>\n",
              "      <td>Thursday 8:00 PM</td>\n",
              "      <td>21.8</td>\n",
              "      <td>25.5</td>\n",
              "      <td>\"Colonel Homer\"</td>\n",
              "    </tr>\n",
              "  </tbody>\n",
              "</table>\n",
              "</div>"
            ],
            "text/plain": [
              "   Season Season.1  No. ofepisodes    Originally aired Originally aired.1  \\\n",
              "0  Season   Season  No. ofepisodes     Season premiere      Season finale   \n",
              "1  Season   Season  No. ofepisodes     Season premiere      Season finale   \n",
              "2       1  1989–90              13   December 17, 1989       May 13, 1990   \n",
              "3       2  1990–91              22    October 11, 1990      July 11, 1991   \n",
              "4       3  1991–92              24  September 19, 1991    August 27, 1992   \n",
              "\n",
              "  Originally aired.2                 Viewership          Viewership.1  \\\n",
              "0     Time Slot (ET)  Avg. viewers(in millions)  Most watched episode   \n",
              "1     Time Slot (ET)  Avg. viewers(in millions)     Viewers(millions)   \n",
              "2     Sunday 8:30 PM                       27.8                  33.5   \n",
              "3   Thursday 8:00 PM                       24.4                  33.6   \n",
              "4   Thursday 8:00 PM                       21.8                  25.5   \n",
              "\n",
              "              Viewership.2  \n",
              "0     Most watched episode  \n",
              "1            Episode Title  \n",
              "2  \"Life on the Fast Lane\"  \n",
              "3         \"Bart Gets an F\"  \n",
              "4          \"Colonel Homer\"  "
            ]
          },
          "metadata": {
            "tags": []
          },
          "execution_count": 15
        }
      ]
    },
    {
      "cell_type": "markdown",
      "metadata": {
        "id": "-Nld_yJZqzi4"
      },
      "source": [
        "Quick clean on the table: remove extra header rows and set `Season` as index."
      ]
    },
    {
      "cell_type": "code",
      "metadata": {
        "id": "TEZRGvniqzi4"
      },
      "source": [
        "simpsons.drop([0, 1], inplace=True)"
      ],
      "execution_count": null,
      "outputs": []
    },
    {
      "cell_type": "code",
      "metadata": {
        "id": "V0nHTV2Fqzi4"
      },
      "source": [
        "simpsons.set_index('Season', inplace=True)"
      ],
      "execution_count": null,
      "outputs": []
    },
    {
      "cell_type": "markdown",
      "metadata": {
        "id": "k4bvAPBrqzi4"
      },
      "source": [
        "Which season has the lowest number of episodes?"
      ]
    },
    {
      "cell_type": "code",
      "metadata": {
        "id": "V43LHrqpqzi4",
        "outputId": "bfae6741-b566-4a41-8a8f-bf2abfffb3f7"
      },
      "source": [
        "simpsons['No. ofepisodes'].unique()"
      ],
      "execution_count": null,
      "outputs": [
        {
          "output_type": "execute_result",
          "data": {
            "text/plain": [
              "array(['13', '22', '24', '25', '23', '21', '20', 'TBA'], dtype=object)"
            ]
          },
          "metadata": {
            "tags": []
          },
          "execution_count": 18
        }
      ]
    },
    {
      "cell_type": "code",
      "metadata": {
        "id": "SCWeHOGKqzi4"
      },
      "source": [
        "simpsons = simpsons.loc[simpsons['No. ofepisodes'] != 'TBA']"
      ],
      "execution_count": null,
      "outputs": []
    },
    {
      "cell_type": "code",
      "metadata": {
        "id": "VA2cPih2qzi4",
        "outputId": "0865d63e-b22b-4275-c851-bdd04d811b88"
      },
      "source": [
        "min_season = simpsons['No. ofepisodes'].min()\n",
        "\n",
        "min_season"
      ],
      "execution_count": null,
      "outputs": [
        {
          "output_type": "execute_result",
          "data": {
            "text/plain": [
              "'13'"
            ]
          },
          "metadata": {
            "tags": []
          },
          "execution_count": 19
        }
      ]
    },
    {
      "cell_type": "code",
      "metadata": {
        "id": "LjrWW2ILqzi4",
        "outputId": "cdad7f5a-1c3d-489e-ca27-22e3b72f180c"
      },
      "source": [
        "simpsons.loc[simpsons['No. ofepisodes'] == min_season]"
      ],
      "execution_count": null,
      "outputs": [
        {
          "output_type": "execute_result",
          "data": {
            "text/html": [
              "<div>\n",
              "<style scoped>\n",
              "    .dataframe tbody tr th:only-of-type {\n",
              "        vertical-align: middle;\n",
              "    }\n",
              "\n",
              "    .dataframe tbody tr th {\n",
              "        vertical-align: top;\n",
              "    }\n",
              "\n",
              "    .dataframe thead th {\n",
              "        text-align: right;\n",
              "    }\n",
              "</style>\n",
              "<table border=\"1\" class=\"dataframe\">\n",
              "  <thead>\n",
              "    <tr style=\"text-align: right;\">\n",
              "      <th></th>\n",
              "      <th>Season.1</th>\n",
              "      <th>No. ofepisodes</th>\n",
              "      <th>Originally aired</th>\n",
              "      <th>Originally aired.1</th>\n",
              "      <th>Originally aired.2</th>\n",
              "      <th>Viewership</th>\n",
              "      <th>Viewership.1</th>\n",
              "      <th>Viewership.2</th>\n",
              "    </tr>\n",
              "    <tr>\n",
              "      <th>Season</th>\n",
              "      <th></th>\n",
              "      <th></th>\n",
              "      <th></th>\n",
              "      <th></th>\n",
              "      <th></th>\n",
              "      <th></th>\n",
              "      <th></th>\n",
              "      <th></th>\n",
              "    </tr>\n",
              "  </thead>\n",
              "  <tbody>\n",
              "    <tr>\n",
              "      <th>1</th>\n",
              "      <td>1989–90</td>\n",
              "      <td>13</td>\n",
              "      <td>December 17, 1989</td>\n",
              "      <td>May 13, 1990</td>\n",
              "      <td>Sunday 8:30 PM</td>\n",
              "      <td>27.8</td>\n",
              "      <td>33.5</td>\n",
              "      <td>\"Life on the Fast Lane\"</td>\n",
              "    </tr>\n",
              "  </tbody>\n",
              "</table>\n",
              "</div>"
            ],
            "text/plain": [
              "       Season.1 No. ofepisodes   Originally aired Originally aired.1  \\\n",
              "Season                                                                 \n",
              "1       1989–90             13  December 17, 1989       May 13, 1990   \n",
              "\n",
              "       Originally aired.2 Viewership Viewership.1             Viewership.2  \n",
              "Season                                                                      \n",
              "1          Sunday 8:30 PM       27.8         33.5  \"Life on the Fast Lane\"  "
            ]
          },
          "metadata": {
            "tags": []
          },
          "execution_count": 29
        }
      ]
    },
    {
      "cell_type": "markdown",
      "metadata": {
        "id": "nXy1O5Xzqzi4"
      },
      "source": [
        "![green-divider](https://user-images.githubusercontent.com/7065401/52071924-c003ad80-2562-11e9-8297-1c6595f8a7ff.png)\n",
        "\n",
        "## Save to CSV file\n",
        "\n",
        "Finally save the `DataFrame` to a CSV file as we saw on previous lectures."
      ]
    },
    {
      "cell_type": "code",
      "metadata": {
        "id": "SvE5sHEsqzi4",
        "outputId": "3de4488a-49a5-4794-b19a-7d03357c2e7f"
      },
      "source": [
        "simpsons.head()"
      ],
      "execution_count": null,
      "outputs": [
        {
          "output_type": "execute_result",
          "data": {
            "text/html": [
              "<div>\n",
              "<style scoped>\n",
              "    .dataframe tbody tr th:only-of-type {\n",
              "        vertical-align: middle;\n",
              "    }\n",
              "\n",
              "    .dataframe tbody tr th {\n",
              "        vertical-align: top;\n",
              "    }\n",
              "\n",
              "    .dataframe thead th {\n",
              "        text-align: right;\n",
              "    }\n",
              "</style>\n",
              "<table border=\"1\" class=\"dataframe\">\n",
              "  <thead>\n",
              "    <tr style=\"text-align: right;\">\n",
              "      <th></th>\n",
              "      <th>Season.1</th>\n",
              "      <th>No. ofepisodes</th>\n",
              "      <th>Originally aired</th>\n",
              "      <th>Originally aired.1</th>\n",
              "      <th>Originally aired.2</th>\n",
              "      <th>Viewership</th>\n",
              "      <th>Viewership.1</th>\n",
              "      <th>Viewership.2</th>\n",
              "    </tr>\n",
              "    <tr>\n",
              "      <th>Season</th>\n",
              "      <th></th>\n",
              "      <th></th>\n",
              "      <th></th>\n",
              "      <th></th>\n",
              "      <th></th>\n",
              "      <th></th>\n",
              "      <th></th>\n",
              "      <th></th>\n",
              "    </tr>\n",
              "  </thead>\n",
              "  <tbody>\n",
              "    <tr>\n",
              "      <th>1</th>\n",
              "      <td>1989–90</td>\n",
              "      <td>13</td>\n",
              "      <td>December 17, 1989</td>\n",
              "      <td>May 13, 1990</td>\n",
              "      <td>Sunday 8:30 PM</td>\n",
              "      <td>27.8</td>\n",
              "      <td>33.5</td>\n",
              "      <td>\"Life on the Fast Lane\"</td>\n",
              "    </tr>\n",
              "    <tr>\n",
              "      <th>2</th>\n",
              "      <td>1990–91</td>\n",
              "      <td>22</td>\n",
              "      <td>October 11, 1990</td>\n",
              "      <td>July 11, 1991</td>\n",
              "      <td>Thursday 8:00 PM</td>\n",
              "      <td>24.4</td>\n",
              "      <td>33.6</td>\n",
              "      <td>\"Bart Gets an F\"</td>\n",
              "    </tr>\n",
              "    <tr>\n",
              "      <th>3</th>\n",
              "      <td>1991–92</td>\n",
              "      <td>24</td>\n",
              "      <td>September 19, 1991</td>\n",
              "      <td>August 27, 1992</td>\n",
              "      <td>Thursday 8:00 PM</td>\n",
              "      <td>21.8</td>\n",
              "      <td>25.5</td>\n",
              "      <td>\"Colonel Homer\"</td>\n",
              "    </tr>\n",
              "    <tr>\n",
              "      <th>4</th>\n",
              "      <td>1992–93</td>\n",
              "      <td>22</td>\n",
              "      <td>September 24, 1992</td>\n",
              "      <td>May 13, 1993</td>\n",
              "      <td>Thursday 8:00 PM</td>\n",
              "      <td>22.4</td>\n",
              "      <td>28.6</td>\n",
              "      <td>\"Lisa's First Word\"</td>\n",
              "    </tr>\n",
              "    <tr>\n",
              "      <th>5</th>\n",
              "      <td>1993–94</td>\n",
              "      <td>22</td>\n",
              "      <td>September 30, 1993</td>\n",
              "      <td>May 19, 1994</td>\n",
              "      <td>Thursday 8:00 PM</td>\n",
              "      <td>18.9</td>\n",
              "      <td>24.0</td>\n",
              "      <td>\"Treehouse of Horror IV\"</td>\n",
              "    </tr>\n",
              "  </tbody>\n",
              "</table>\n",
              "</div>"
            ],
            "text/plain": [
              "       Season.1 No. ofepisodes    Originally aired Originally aired.1  \\\n",
              "Season                                                                  \n",
              "1       1989–90             13   December 17, 1989       May 13, 1990   \n",
              "2       1990–91             22    October 11, 1990      July 11, 1991   \n",
              "3       1991–92             24  September 19, 1991    August 27, 1992   \n",
              "4       1992–93             22  September 24, 1992       May 13, 1993   \n",
              "5       1993–94             22  September 30, 1993       May 19, 1994   \n",
              "\n",
              "       Originally aired.2 Viewership Viewership.1              Viewership.2  \n",
              "Season                                                                       \n",
              "1          Sunday 8:30 PM       27.8         33.5   \"Life on the Fast Lane\"  \n",
              "2        Thursday 8:00 PM       24.4         33.6          \"Bart Gets an F\"  \n",
              "3        Thursday 8:00 PM       21.8         25.5           \"Colonel Homer\"  \n",
              "4        Thursday 8:00 PM       22.4         28.6       \"Lisa's First Word\"  \n",
              "5        Thursday 8:00 PM       18.9         24.0  \"Treehouse of Horror IV\"  "
            ]
          },
          "metadata": {
            "tags": []
          },
          "execution_count": 30
        }
      ]
    },
    {
      "cell_type": "code",
      "metadata": {
        "id": "tC3IKXcjqzi4"
      },
      "source": [
        "simpsons.to_csv('out.csv')"
      ],
      "execution_count": null,
      "outputs": []
    },
    {
      "cell_type": "code",
      "metadata": {
        "scrolled": false,
        "id": "MvQXrrLwqzi5",
        "outputId": "9d788d08-2708-4da5-f50c-13d9b57e5c15"
      },
      "source": [
        "pd.read_csv('out.csv', index_col='Season').head()"
      ],
      "execution_count": null,
      "outputs": [
        {
          "output_type": "execute_result",
          "data": {
            "text/html": [
              "<div>\n",
              "<style scoped>\n",
              "    .dataframe tbody tr th:only-of-type {\n",
              "        vertical-align: middle;\n",
              "    }\n",
              "\n",
              "    .dataframe tbody tr th {\n",
              "        vertical-align: top;\n",
              "    }\n",
              "\n",
              "    .dataframe thead th {\n",
              "        text-align: right;\n",
              "    }\n",
              "</style>\n",
              "<table border=\"1\" class=\"dataframe\">\n",
              "  <thead>\n",
              "    <tr style=\"text-align: right;\">\n",
              "      <th></th>\n",
              "      <th>Season.1</th>\n",
              "      <th>No. ofepisodes</th>\n",
              "      <th>Originally aired</th>\n",
              "      <th>Originally aired.1</th>\n",
              "      <th>Originally aired.2</th>\n",
              "      <th>Viewership</th>\n",
              "      <th>Viewership.1</th>\n",
              "      <th>Viewership.2</th>\n",
              "    </tr>\n",
              "    <tr>\n",
              "      <th>Season</th>\n",
              "      <th></th>\n",
              "      <th></th>\n",
              "      <th></th>\n",
              "      <th></th>\n",
              "      <th></th>\n",
              "      <th></th>\n",
              "      <th></th>\n",
              "      <th></th>\n",
              "    </tr>\n",
              "  </thead>\n",
              "  <tbody>\n",
              "    <tr>\n",
              "      <th>1</th>\n",
              "      <td>1989–90</td>\n",
              "      <td>13</td>\n",
              "      <td>December 17, 1989</td>\n",
              "      <td>May 13, 1990</td>\n",
              "      <td>Sunday 8:30 PM</td>\n",
              "      <td>27.8</td>\n",
              "      <td>33.5</td>\n",
              "      <td>\"Life on the Fast Lane\"</td>\n",
              "    </tr>\n",
              "    <tr>\n",
              "      <th>2</th>\n",
              "      <td>1990–91</td>\n",
              "      <td>22</td>\n",
              "      <td>October 11, 1990</td>\n",
              "      <td>July 11, 1991</td>\n",
              "      <td>Thursday 8:00 PM</td>\n",
              "      <td>24.4</td>\n",
              "      <td>33.6</td>\n",
              "      <td>\"Bart Gets an F\"</td>\n",
              "    </tr>\n",
              "    <tr>\n",
              "      <th>3</th>\n",
              "      <td>1991–92</td>\n",
              "      <td>24</td>\n",
              "      <td>September 19, 1991</td>\n",
              "      <td>August 27, 1992</td>\n",
              "      <td>Thursday 8:00 PM</td>\n",
              "      <td>21.8</td>\n",
              "      <td>25.5</td>\n",
              "      <td>\"Colonel Homer\"</td>\n",
              "    </tr>\n",
              "    <tr>\n",
              "      <th>4</th>\n",
              "      <td>1992–93</td>\n",
              "      <td>22</td>\n",
              "      <td>September 24, 1992</td>\n",
              "      <td>May 13, 1993</td>\n",
              "      <td>Thursday 8:00 PM</td>\n",
              "      <td>22.4</td>\n",
              "      <td>28.6</td>\n",
              "      <td>\"Lisa's First Word\"</td>\n",
              "    </tr>\n",
              "    <tr>\n",
              "      <th>5</th>\n",
              "      <td>1993–94</td>\n",
              "      <td>22</td>\n",
              "      <td>September 30, 1993</td>\n",
              "      <td>May 19, 1994</td>\n",
              "      <td>Thursday 8:00 PM</td>\n",
              "      <td>18.9</td>\n",
              "      <td>24.0</td>\n",
              "      <td>\"Treehouse of Horror IV\"</td>\n",
              "    </tr>\n",
              "  </tbody>\n",
              "</table>\n",
              "</div>"
            ],
            "text/plain": [
              "       Season.1  No. ofepisodes    Originally aired Originally aired.1  \\\n",
              "Season                                                                   \n",
              "1       1989–90              13   December 17, 1989       May 13, 1990   \n",
              "2       1990–91              22    October 11, 1990      July 11, 1991   \n",
              "3       1991–92              24  September 19, 1991    August 27, 1992   \n",
              "4       1992–93              22  September 24, 1992       May 13, 1993   \n",
              "5       1993–94              22  September 30, 1993       May 19, 1994   \n",
              "\n",
              "       Originally aired.2 Viewership  Viewership.1              Viewership.2  \n",
              "Season                                                                        \n",
              "1          Sunday 8:30 PM       27.8          33.5   \"Life on the Fast Lane\"  \n",
              "2        Thursday 8:00 PM       24.4          33.6          \"Bart Gets an F\"  \n",
              "3        Thursday 8:00 PM       21.8          25.5           \"Colonel Homer\"  \n",
              "4        Thursday 8:00 PM       22.4          28.6       \"Lisa's First Word\"  \n",
              "5        Thursday 8:00 PM       18.9          24.0  \"Treehouse of Horror IV\"  "
            ]
          },
          "metadata": {
            "tags": []
          },
          "execution_count": 32
        }
      ]
    },
    {
      "cell_type": "markdown",
      "metadata": {
        "id": "RrUQkdihqzi5"
      },
      "source": [
        "![purple-divider](https://user-images.githubusercontent.com/7065401/52071927-c1cd7100-2562-11e9-908a-dde91ba14e59.png)"
      ]
    }
  ]
}