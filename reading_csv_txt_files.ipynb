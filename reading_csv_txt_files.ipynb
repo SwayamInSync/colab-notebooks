{
  "nbformat": 4,
  "nbformat_minor": 0,
  "metadata": {
    "kernelspec": {
      "display_name": "Python 3",
      "language": "python",
      "name": "python3"
    },
    "language_info": {
      "codemirror_mode": {
        "name": "ipython",
        "version": 3
      },
      "file_extension": ".py",
      "mimetype": "text/x-python",
      "name": "python",
      "nbconvert_exporter": "python",
      "pygments_lexer": "ipython3",
      "version": "3.6.8"
    },
    "colab": {
      "name": "Lecture.ipynb",
      "provenance": [],
      "include_colab_link": true
    }
  },
  "cells": [
    {
      "cell_type": "markdown",
      "metadata": {
        "id": "view-in-github",
        "colab_type": "text"
      },
      "source": [
        "<a href=\"https://colab.research.google.com/github/practice404/colab-notebooks/blob/main/reading_csv_txt_files.ipynb\" target=\"_parent\"><img src=\"https://colab.research.google.com/assets/colab-badge.svg\" alt=\"Open In Colab\"/></a>"
      ]
    },
    {
      "cell_type": "markdown",
      "metadata": {
        "id": "XN_sU_VmcBrH"
      },
      "source": [
        "![rmotr](https://user-images.githubusercontent.com/7065401/52071918-bda15380-2562-11e9-828c-7f95297e4a82.png)\n",
        "<hr style=\"margin-bottom: 40px;\">\n",
        "\n",
        "<img src=\"https://user-images.githubusercontent.com/7065401/68501079-0695df00-023c-11ea-841f-455dac84a089.jpg\"\n",
        "    style=\"width:400px; float: right; margin: 0 40px 40px 40px;\"></img>\n",
        "\n",
        "# Reading CSV and TXT files\n",
        "\n",
        "Rather than creating `Series` or `DataFrames` strutures from scratch, or even from Python core sequences or `ndarrays`, the most typical use of **pandas** is based on the loading of information from files or sources of information for further exploration, transformation and analysis.\n",
        "\n",
        "In this lecture we'll learn how to read comma-separated values files (.csv) and raw text files (.txt) into pandas `DataFrame`s."
      ]
    },
    {
      "cell_type": "markdown",
      "metadata": {
        "id": "EuaoOzH_cBrK"
      },
      "source": [
        "![purple-divider](https://user-images.githubusercontent.com/7065401/52071927-c1cd7100-2562-11e9-908a-dde91ba14e59.png)\n",
        "\n",
        "## Hands on! "
      ]
    },
    {
      "cell_type": "code",
      "metadata": {
        "id": "YJ1LhospcBrL"
      },
      "source": [
        "import pandas as pd"
      ],
      "execution_count": null,
      "outputs": []
    },
    {
      "cell_type": "markdown",
      "metadata": {
        "id": "kc4euh2NcBrL"
      },
      "source": [
        "![green-divider](https://user-images.githubusercontent.com/7065401/52071924-c003ad80-2562-11e9-8297-1c6595f8a7ff.png)\n",
        "\n",
        "## Reading data with Python\n",
        "\n",
        "As we saw on previous courses we can read data simply using Python.\n",
        "\n",
        "When you want to work with a file, the first thing to do is to open it. This is done by invoking the `open()` built-in function.\n",
        "\n",
        "`open()` has a single required argument that is the path to the file and has a single return, the file object.\n",
        "\n",
        "The `with` statement automatically takes care of closing the file once it leaves the `with` block, even in cases of error."
      ]
    },
    {
      "cell_type": "code",
      "metadata": {
        "id": "BrdX0sCCcBrM",
        "outputId": "cd902774-cc7e-4b6b-b99c-4aede5720542"
      },
      "source": [
        "filepath = 'btc-market-price.csv'\n",
        "\n",
        "with open(filepath, 'r') as reader:\n",
        "    print(reader)"
      ],
      "execution_count": null,
      "outputs": [
        {
          "output_type": "stream",
          "text": [
            "<_io.TextIOWrapper name='btc-market-price.csv' mode='r' encoding='UTF-8'>\n"
          ],
          "name": "stdout"
        }
      ]
    },
    {
      "cell_type": "markdown",
      "metadata": {
        "id": "nvF3leGDcBrN"
      },
      "source": [
        "Once the file is opened, we can read its content as follows:"
      ]
    },
    {
      "cell_type": "code",
      "metadata": {
        "id": "LS-JxBRxcBrN",
        "outputId": "12c6d7c0-1619-45aa-8d45-b44286cb02e8"
      },
      "source": [
        "filepath = 'btc-market-price.csv'\n",
        "\n",
        "with open(filepath, 'r') as reader:\n",
        "    for index, line in enumerate(reader.readlines()):\n",
        "        # read just the first 10 lines\n",
        "        if (index < 10):\n",
        "            print(index, line)"
      ],
      "execution_count": null,
      "outputs": [
        {
          "output_type": "stream",
          "text": [
            "0 2/4/17 0:00,1099.169125\n",
            "\n",
            "1 3/4/17 0:00,1141.813\n",
            "\n",
            "2 4/4/17 0:00,?\n",
            "\n",
            "3 5/4/17 0:00,1133.079314\n",
            "\n",
            "4 6/4/17 0:00,-\n",
            "\n",
            "5 7/4/17 0:00,-\n",
            "\n",
            "6 8/4/17 0:00,1181.149838\n",
            "\n",
            "7 9/4/17 0:00,1208.8005\n",
            "\n",
            "8 10/4/17 0:00,1207.744875\n",
            "\n",
            "9 11/4/17 0:00,1226.617038\n",
            "\n"
          ],
          "name": "stdout"
        }
      ]
    },
    {
      "cell_type": "markdown",
      "metadata": {
        "id": "qxY38EEVcBrO"
      },
      "source": [
        "![green-divider](https://user-images.githubusercontent.com/7065401/52071924-c003ad80-2562-11e9-8297-1c6595f8a7ff.png)\n",
        "\n",
        "## Reading data with Pandas\n",
        "\n",
        "Probably one of the most recurrent types of work for data analysis: public data sources, logs, historical information tables, exports from databases. So the pandas library offers us functions to read and write files in multiple formats like CSV, JSON, XML and Excel's XLSX, all of them creating a `DataFrame` with the information read from the file.\n",
        "\n",
        "We'll learn how to read different type of data including:\n",
        "- CSV files (.csv)\n",
        "- Raw text files (.txt)\n",
        "- JSON data from a file and from an API\n",
        "- Data from a SQL query over a database\n",
        "\n",
        "There are many other available reading functions as the following table shows:\n",
        "\n",
        "![pandas read data table](https://user-images.githubusercontent.com/7065401/68400151-51d5c200-0156-11ea-9732-aa00400c8e4b.png)"
      ]
    },
    {
      "cell_type": "markdown",
      "metadata": {
        "id": "XWrDKQ8LcBrO"
      },
      "source": [
        "![green-divider](https://user-images.githubusercontent.com/7065401/52071924-c003ad80-2562-11e9-8297-1c6595f8a7ff.png)\n",
        "\n",
        "## The `read_csv` method\n",
        "\n",
        "The first method we'll learn is **read_csv**, that let us read comma-separated values (CSV) files and raw text (TXT) files into a `DataFrame`.\n",
        "\n",
        "The `read_csv` function is extremely powerful and you can specify a very broad set of parameters at import time that allow us to accurately configure how the data will be read and parsed by specifying the correct structure, enconding and other details. The most common parameters are as follows:\n",
        "\n",
        "- `filepath`: Path of the file to be read.\n",
        "- `sep`: Character(s) that are used as a field separator in the file.\n",
        "- `header`: Index of the row containing the names of the columns (None if none).\n",
        "- `index_col`: Index of the column or sequence of indexes that should be used as index of rows of the data.\n",
        "- `names`: Sequence containing the names of the columns (used together with header = None).\n",
        "- `skiprows`: Number of rows or sequence of row indexes to ignore in the load.\n",
        "- `na_values`: Sequence of values that, if found in the file, should be treated as NaN.\n",
        "- `dtype`: Dictionary in which the keys will be column names and the values will be types of NumPy to which their content must be converted.\n",
        "- `parse_dates`: Flag that indicates if Python should try to parse data with a format similar to dates as dates. You can enter a list of column names that must be joined for the parsing as a date.\n",
        "- `date_parser`: Function to use to try to parse dates.\n",
        "- `nrows`: Number of rows to read from the beginning of the file.\n",
        "- `skip_footer`: Number of rows to ignore at the end of the file.\n",
        "- `encoding`: Encoding to be expected from the file read.\n",
        "- `squeeze`: Flag that indicates that if the data read only contains one column the result is a Series instead of a DataFrame.\n",
        "- `thousands`: Character to use to detect the thousands separator.\n",
        "- `decimal`: Character to use to detect the decimal separator.\n",
        "- `skip_blank_lines`: Flag that indicates whether blank lines should be ignored.\n",
        "\n",
        "> Full `read_csv` documentation can be found here: https://pandas.pydata.org/pandas-docs/stable/reference/api/pandas.read_csv.html."
      ]
    },
    {
      "cell_type": "markdown",
      "metadata": {
        "id": "dDAfGD4kcBrP"
      },
      "source": [
        "In this case we'll try to read our `btc-market-price.csv` CSV file using different parameters to parse it correctly.\n",
        "\n",
        "This file contains records of the mean price of Bitcoin per date."
      ]
    },
    {
      "cell_type": "markdown",
      "metadata": {
        "id": "1qbFXdsgcBrQ"
      },
      "source": [
        "![green-divider](https://user-images.githubusercontent.com/7065401/52071924-c003ad80-2562-11e9-8297-1c6595f8a7ff.png)\n",
        "\n",
        "## Reading our first CSV file\n",
        "\n",
        "Everytime we call `read_csv` method, we'll need to pass an explicit `filepath` parameter indicating the path where our CSV file is.\n",
        "\n",
        "Any valid string path is acceptable. The string could be a URL. Valid URL schemes include HTTP, FTP, S3, and file. For file URLs, a host is expected. A local file could be: `file://localhost/path/to/table.csv`.\n",
        "\n",
        "For example we can use `read_csv` method to load data directly from an URL:"
      ]
    },
    {
      "cell_type": "code",
      "metadata": {
        "id": "4pkoRST1cBrQ",
        "outputId": "12b2ea86-0faf-4306-950e-a48b94245d23"
      },
      "source": [
        "csv_url = \"https://raw.githubusercontent.com/datasets/gdp/master/data/gdp.csv\"\n",
        "\n",
        "pd.read_csv(csv_url).head()"
      ],
      "execution_count": null,
      "outputs": [
        {
          "output_type": "execute_result",
          "data": {
            "text/html": [
              "<div>\n",
              "<style scoped>\n",
              "    .dataframe tbody tr th:only-of-type {\n",
              "        vertical-align: middle;\n",
              "    }\n",
              "\n",
              "    .dataframe tbody tr th {\n",
              "        vertical-align: top;\n",
              "    }\n",
              "\n",
              "    .dataframe thead th {\n",
              "        text-align: right;\n",
              "    }\n",
              "</style>\n",
              "<table border=\"1\" class=\"dataframe\">\n",
              "  <thead>\n",
              "    <tr style=\"text-align: right;\">\n",
              "      <th></th>\n",
              "      <th>Country Name</th>\n",
              "      <th>Country Code</th>\n",
              "      <th>Year</th>\n",
              "      <th>Value</th>\n",
              "    </tr>\n",
              "  </thead>\n",
              "  <tbody>\n",
              "    <tr>\n",
              "      <th>0</th>\n",
              "      <td>Arab World</td>\n",
              "      <td>ARB</td>\n",
              "      <td>1968</td>\n",
              "      <td>2.576068e+10</td>\n",
              "    </tr>\n",
              "    <tr>\n",
              "      <th>1</th>\n",
              "      <td>Arab World</td>\n",
              "      <td>ARB</td>\n",
              "      <td>1969</td>\n",
              "      <td>2.843420e+10</td>\n",
              "    </tr>\n",
              "    <tr>\n",
              "      <th>2</th>\n",
              "      <td>Arab World</td>\n",
              "      <td>ARB</td>\n",
              "      <td>1970</td>\n",
              "      <td>3.138550e+10</td>\n",
              "    </tr>\n",
              "    <tr>\n",
              "      <th>3</th>\n",
              "      <td>Arab World</td>\n",
              "      <td>ARB</td>\n",
              "      <td>1971</td>\n",
              "      <td>3.642691e+10</td>\n",
              "    </tr>\n",
              "    <tr>\n",
              "      <th>4</th>\n",
              "      <td>Arab World</td>\n",
              "      <td>ARB</td>\n",
              "      <td>1972</td>\n",
              "      <td>4.331606e+10</td>\n",
              "    </tr>\n",
              "  </tbody>\n",
              "</table>\n",
              "</div>"
            ],
            "text/plain": [
              "  Country Name Country Code  Year         Value\n",
              "0   Arab World          ARB  1968  2.576068e+10\n",
              "1   Arab World          ARB  1969  2.843420e+10\n",
              "2   Arab World          ARB  1970  3.138550e+10\n",
              "3   Arab World          ARB  1971  3.642691e+10\n",
              "4   Arab World          ARB  1972  4.331606e+10"
            ]
          },
          "metadata": {
            "tags": []
          },
          "execution_count": 4
        }
      ]
    },
    {
      "cell_type": "markdown",
      "metadata": {
        "id": "G4mfVHNGcBrR"
      },
      "source": [
        "Or just use a local file:"
      ]
    },
    {
      "cell_type": "code",
      "metadata": {
        "scrolled": true,
        "id": "OXcAN5-FcBrR",
        "outputId": "a1c06413-6e9e-4708-b475-12352787cc2e"
      },
      "source": [
        "df = pd.read_csv('btc-market-price.csv')\n",
        "\n",
        "df.head()"
      ],
      "execution_count": null,
      "outputs": [
        {
          "output_type": "execute_result",
          "data": {
            "text/html": [
              "<div>\n",
              "<style scoped>\n",
              "    .dataframe tbody tr th:only-of-type {\n",
              "        vertical-align: middle;\n",
              "    }\n",
              "\n",
              "    .dataframe tbody tr th {\n",
              "        vertical-align: top;\n",
              "    }\n",
              "\n",
              "    .dataframe thead th {\n",
              "        text-align: right;\n",
              "    }\n",
              "</style>\n",
              "<table border=\"1\" class=\"dataframe\">\n",
              "  <thead>\n",
              "    <tr style=\"text-align: right;\">\n",
              "      <th></th>\n",
              "      <th>2/4/17 0:00</th>\n",
              "      <th>1099.169125</th>\n",
              "    </tr>\n",
              "  </thead>\n",
              "  <tbody>\n",
              "    <tr>\n",
              "      <th>0</th>\n",
              "      <td>3/4/17 0:00</td>\n",
              "      <td>1141.813</td>\n",
              "    </tr>\n",
              "    <tr>\n",
              "      <th>1</th>\n",
              "      <td>4/4/17 0:00</td>\n",
              "      <td>?</td>\n",
              "    </tr>\n",
              "    <tr>\n",
              "      <th>2</th>\n",
              "      <td>5/4/17 0:00</td>\n",
              "      <td>1133.079314</td>\n",
              "    </tr>\n",
              "    <tr>\n",
              "      <th>3</th>\n",
              "      <td>6/4/17 0:00</td>\n",
              "      <td>-</td>\n",
              "    </tr>\n",
              "    <tr>\n",
              "      <th>4</th>\n",
              "      <td>7/4/17 0:00</td>\n",
              "      <td>-</td>\n",
              "    </tr>\n",
              "  </tbody>\n",
              "</table>\n",
              "</div>"
            ],
            "text/plain": [
              "   2/4/17 0:00  1099.169125\n",
              "0  3/4/17 0:00     1141.813\n",
              "1  4/4/17 0:00            ?\n",
              "2  5/4/17 0:00  1133.079314\n",
              "3  6/4/17 0:00            -\n",
              "4  7/4/17 0:00            -"
            ]
          },
          "metadata": {
            "tags": []
          },
          "execution_count": 5
        }
      ]
    },
    {
      "cell_type": "markdown",
      "metadata": {
        "id": "X6KZi1jicBrR"
      },
      "source": [
        "In this case we let pandas infer everything related to our data, but in most of the cases we'll need to explicitly tell pandas how we want our data to be loaded. To do that we use parameters.\n",
        "\n",
        "Let's see how theses parameters work."
      ]
    },
    {
      "cell_type": "markdown",
      "metadata": {
        "id": "4GQYlix-cBrS"
      },
      "source": [
        "![green-divider](https://user-images.githubusercontent.com/7065401/52071924-c003ad80-2562-11e9-8297-1c6595f8a7ff.png)\n",
        "\n",
        "## First row behaviour with `header` parameter\n",
        "\n",
        "The CSV file we're reading has only two columns: `Timestamp` and `Price`. It doesn't have a header. Pandas automatically assigned the first row of data as headers, which is incorrect. We can overwrite this behavior with the `header` parameter."
      ]
    },
    {
      "cell_type": "code",
      "metadata": {
        "id": "9wS7u83NcBrS"
      },
      "source": [
        "df = pd.read_csv('btc-market-price.csv',\n",
        "                 header=None)"
      ],
      "execution_count": null,
      "outputs": []
    },
    {
      "cell_type": "code",
      "metadata": {
        "id": "yyCRcSdxcBrS",
        "outputId": "c6904131-b148-4305-8102-02f5e508028d"
      },
      "source": [
        "df.head()"
      ],
      "execution_count": null,
      "outputs": [
        {
          "output_type": "execute_result",
          "data": {
            "text/html": [
              "<div>\n",
              "<style scoped>\n",
              "    .dataframe tbody tr th:only-of-type {\n",
              "        vertical-align: middle;\n",
              "    }\n",
              "\n",
              "    .dataframe tbody tr th {\n",
              "        vertical-align: top;\n",
              "    }\n",
              "\n",
              "    .dataframe thead th {\n",
              "        text-align: right;\n",
              "    }\n",
              "</style>\n",
              "<table border=\"1\" class=\"dataframe\">\n",
              "  <thead>\n",
              "    <tr style=\"text-align: right;\">\n",
              "      <th></th>\n",
              "      <th>0</th>\n",
              "      <th>1</th>\n",
              "    </tr>\n",
              "  </thead>\n",
              "  <tbody>\n",
              "    <tr>\n",
              "      <th>0</th>\n",
              "      <td>2/4/17 0:00</td>\n",
              "      <td>1099.169125</td>\n",
              "    </tr>\n",
              "    <tr>\n",
              "      <th>1</th>\n",
              "      <td>3/4/17 0:00</td>\n",
              "      <td>1141.813</td>\n",
              "    </tr>\n",
              "    <tr>\n",
              "      <th>2</th>\n",
              "      <td>4/4/17 0:00</td>\n",
              "      <td>?</td>\n",
              "    </tr>\n",
              "    <tr>\n",
              "      <th>3</th>\n",
              "      <td>5/4/17 0:00</td>\n",
              "      <td>1133.079314</td>\n",
              "    </tr>\n",
              "    <tr>\n",
              "      <th>4</th>\n",
              "      <td>6/4/17 0:00</td>\n",
              "      <td>-</td>\n",
              "    </tr>\n",
              "  </tbody>\n",
              "</table>\n",
              "</div>"
            ],
            "text/plain": [
              "             0            1\n",
              "0  2/4/17 0:00  1099.169125\n",
              "1  3/4/17 0:00     1141.813\n",
              "2  4/4/17 0:00            ?\n",
              "3  5/4/17 0:00  1133.079314\n",
              "4  6/4/17 0:00            -"
            ]
          },
          "metadata": {
            "tags": []
          },
          "execution_count": 7
        }
      ]
    },
    {
      "cell_type": "markdown",
      "metadata": {
        "id": "AvzNPqdMcBrS"
      },
      "source": [
        "![green-divider](https://user-images.githubusercontent.com/7065401/52071924-c003ad80-2562-11e9-8297-1c6595f8a7ff.png)\n",
        "\n",
        "## Missing values with `na_values` parameter\n",
        "\n",
        "We can define a `na_values` parameter with the values we want to be recognized as NA/NaN. In this case empty strings `''`, `?` and `-` will be recognized as null values."
      ]
    },
    {
      "cell_type": "code",
      "metadata": {
        "id": "CY-Xi9TwcBrT"
      },
      "source": [
        "df = pd.read_csv('btc-market-price.csv',\n",
        "                 header=None,\n",
        "                 na_values=['', '?', '-'])"
      ],
      "execution_count": null,
      "outputs": []
    },
    {
      "cell_type": "code",
      "metadata": {
        "id": "SiAHtMn6cBrT",
        "outputId": "b42d3f63-482f-4795-89f6-66625249a212"
      },
      "source": [
        "df.head()"
      ],
      "execution_count": null,
      "outputs": [
        {
          "output_type": "execute_result",
          "data": {
            "text/html": [
              "<div>\n",
              "<style scoped>\n",
              "    .dataframe tbody tr th:only-of-type {\n",
              "        vertical-align: middle;\n",
              "    }\n",
              "\n",
              "    .dataframe tbody tr th {\n",
              "        vertical-align: top;\n",
              "    }\n",
              "\n",
              "    .dataframe thead th {\n",
              "        text-align: right;\n",
              "    }\n",
              "</style>\n",
              "<table border=\"1\" class=\"dataframe\">\n",
              "  <thead>\n",
              "    <tr style=\"text-align: right;\">\n",
              "      <th></th>\n",
              "      <th>0</th>\n",
              "      <th>1</th>\n",
              "    </tr>\n",
              "  </thead>\n",
              "  <tbody>\n",
              "    <tr>\n",
              "      <th>0</th>\n",
              "      <td>2/4/17 0:00</td>\n",
              "      <td>1099.169125</td>\n",
              "    </tr>\n",
              "    <tr>\n",
              "      <th>1</th>\n",
              "      <td>3/4/17 0:00</td>\n",
              "      <td>1141.813000</td>\n",
              "    </tr>\n",
              "    <tr>\n",
              "      <th>2</th>\n",
              "      <td>4/4/17 0:00</td>\n",
              "      <td>NaN</td>\n",
              "    </tr>\n",
              "    <tr>\n",
              "      <th>3</th>\n",
              "      <td>5/4/17 0:00</td>\n",
              "      <td>1133.079314</td>\n",
              "    </tr>\n",
              "    <tr>\n",
              "      <th>4</th>\n",
              "      <td>6/4/17 0:00</td>\n",
              "      <td>NaN</td>\n",
              "    </tr>\n",
              "  </tbody>\n",
              "</table>\n",
              "</div>"
            ],
            "text/plain": [
              "             0            1\n",
              "0  2/4/17 0:00  1099.169125\n",
              "1  3/4/17 0:00  1141.813000\n",
              "2  4/4/17 0:00          NaN\n",
              "3  5/4/17 0:00  1133.079314\n",
              "4  6/4/17 0:00          NaN"
            ]
          },
          "metadata": {
            "tags": []
          },
          "execution_count": 9
        }
      ]
    },
    {
      "cell_type": "markdown",
      "metadata": {
        "id": "hsKaYr_CcBrT"
      },
      "source": [
        "![green-divider](https://user-images.githubusercontent.com/7065401/52071924-c003ad80-2562-11e9-8297-1c6595f8a7ff.png)\n",
        "\n",
        "## Column names using `names` parameter\n",
        "\n",
        "We'll add that columns names using the `names` parameter. "
      ]
    },
    {
      "cell_type": "code",
      "metadata": {
        "id": "us8kUFECcBrT"
      },
      "source": [
        "df = pd.read_csv('btc-market-price.csv',\n",
        "                 header=None,\n",
        "                 na_values=['', '?', '-'],\n",
        "                 names=['Timestamp', 'Price'])"
      ],
      "execution_count": null,
      "outputs": []
    },
    {
      "cell_type": "code",
      "metadata": {
        "scrolled": true,
        "id": "XjBgMjxmcBrT",
        "outputId": "6a36c008-13be-4a62-822d-65ac162d1155"
      },
      "source": [
        "df.head()"
      ],
      "execution_count": null,
      "outputs": [
        {
          "output_type": "execute_result",
          "data": {
            "text/html": [
              "<div>\n",
              "<style scoped>\n",
              "    .dataframe tbody tr th:only-of-type {\n",
              "        vertical-align: middle;\n",
              "    }\n",
              "\n",
              "    .dataframe tbody tr th {\n",
              "        vertical-align: top;\n",
              "    }\n",
              "\n",
              "    .dataframe thead th {\n",
              "        text-align: right;\n",
              "    }\n",
              "</style>\n",
              "<table border=\"1\" class=\"dataframe\">\n",
              "  <thead>\n",
              "    <tr style=\"text-align: right;\">\n",
              "      <th></th>\n",
              "      <th>Timestamp</th>\n",
              "      <th>Price</th>\n",
              "    </tr>\n",
              "  </thead>\n",
              "  <tbody>\n",
              "    <tr>\n",
              "      <th>0</th>\n",
              "      <td>2/4/17 0:00</td>\n",
              "      <td>1099.169125</td>\n",
              "    </tr>\n",
              "    <tr>\n",
              "      <th>1</th>\n",
              "      <td>3/4/17 0:00</td>\n",
              "      <td>1141.813000</td>\n",
              "    </tr>\n",
              "    <tr>\n",
              "      <th>2</th>\n",
              "      <td>4/4/17 0:00</td>\n",
              "      <td>NaN</td>\n",
              "    </tr>\n",
              "    <tr>\n",
              "      <th>3</th>\n",
              "      <td>5/4/17 0:00</td>\n",
              "      <td>1133.079314</td>\n",
              "    </tr>\n",
              "    <tr>\n",
              "      <th>4</th>\n",
              "      <td>6/4/17 0:00</td>\n",
              "      <td>NaN</td>\n",
              "    </tr>\n",
              "  </tbody>\n",
              "</table>\n",
              "</div>"
            ],
            "text/plain": [
              "     Timestamp        Price\n",
              "0  2/4/17 0:00  1099.169125\n",
              "1  3/4/17 0:00  1141.813000\n",
              "2  4/4/17 0:00          NaN\n",
              "3  5/4/17 0:00  1133.079314\n",
              "4  6/4/17 0:00          NaN"
            ]
          },
          "metadata": {
            "tags": []
          },
          "execution_count": 11
        }
      ]
    },
    {
      "cell_type": "markdown",
      "metadata": {
        "id": "Hkmxu_XMcBrU"
      },
      "source": [
        "![green-divider](https://user-images.githubusercontent.com/7065401/52071924-c003ad80-2562-11e9-8297-1c6595f8a7ff.png)\n",
        "\n",
        "## Column types using `dtype` parameter\n",
        "\n",
        "\n",
        "Without using the `dtype` parameter pandas will try to figure it out the type of each column automatically. We can use `dtype` parameter to force pandas to use certain dtype.\n",
        "\n",
        "In this case we'll force the `Price` column to be `float`."
      ]
    },
    {
      "cell_type": "code",
      "metadata": {
        "id": "n89xsD9ucBrU"
      },
      "source": [
        "df = pd.read_csv('btc-market-price.csv',\n",
        "                 header=None,\n",
        "                 na_values=['', '?', '-'],\n",
        "                 names=['Timestamp', 'Price'],\n",
        "                 dtype={'Price': 'float'})"
      ],
      "execution_count": null,
      "outputs": []
    },
    {
      "cell_type": "code",
      "metadata": {
        "id": "DaGw_qeMcBrU",
        "outputId": "15360765-58b8-4bf1-9c7f-01a3c5db4b4b"
      },
      "source": [
        "df.head()"
      ],
      "execution_count": null,
      "outputs": [
        {
          "output_type": "execute_result",
          "data": {
            "text/html": [
              "<div>\n",
              "<style scoped>\n",
              "    .dataframe tbody tr th:only-of-type {\n",
              "        vertical-align: middle;\n",
              "    }\n",
              "\n",
              "    .dataframe tbody tr th {\n",
              "        vertical-align: top;\n",
              "    }\n",
              "\n",
              "    .dataframe thead th {\n",
              "        text-align: right;\n",
              "    }\n",
              "</style>\n",
              "<table border=\"1\" class=\"dataframe\">\n",
              "  <thead>\n",
              "    <tr style=\"text-align: right;\">\n",
              "      <th></th>\n",
              "      <th>Timestamp</th>\n",
              "      <th>Price</th>\n",
              "    </tr>\n",
              "  </thead>\n",
              "  <tbody>\n",
              "    <tr>\n",
              "      <th>0</th>\n",
              "      <td>2/4/17 0:00</td>\n",
              "      <td>1099.169125</td>\n",
              "    </tr>\n",
              "    <tr>\n",
              "      <th>1</th>\n",
              "      <td>3/4/17 0:00</td>\n",
              "      <td>1141.813000</td>\n",
              "    </tr>\n",
              "    <tr>\n",
              "      <th>2</th>\n",
              "      <td>4/4/17 0:00</td>\n",
              "      <td>NaN</td>\n",
              "    </tr>\n",
              "    <tr>\n",
              "      <th>3</th>\n",
              "      <td>5/4/17 0:00</td>\n",
              "      <td>1133.079314</td>\n",
              "    </tr>\n",
              "    <tr>\n",
              "      <th>4</th>\n",
              "      <td>6/4/17 0:00</td>\n",
              "      <td>NaN</td>\n",
              "    </tr>\n",
              "  </tbody>\n",
              "</table>\n",
              "</div>"
            ],
            "text/plain": [
              "     Timestamp        Price\n",
              "0  2/4/17 0:00  1099.169125\n",
              "1  3/4/17 0:00  1141.813000\n",
              "2  4/4/17 0:00          NaN\n",
              "3  5/4/17 0:00  1133.079314\n",
              "4  6/4/17 0:00          NaN"
            ]
          },
          "metadata": {
            "tags": []
          },
          "execution_count": 13
        }
      ]
    },
    {
      "cell_type": "code",
      "metadata": {
        "id": "5p9ivk62cBrU",
        "outputId": "093d27a3-5ae6-49a4-d6e3-ac54d9959d07"
      },
      "source": [
        "df.dtypes"
      ],
      "execution_count": null,
      "outputs": [
        {
          "output_type": "execute_result",
          "data": {
            "text/plain": [
              "Timestamp     object\n",
              "Price        float64\n",
              "dtype: object"
            ]
          },
          "metadata": {
            "tags": []
          },
          "execution_count": 14
        }
      ]
    },
    {
      "cell_type": "markdown",
      "metadata": {
        "id": "C50m_Nj7cBrV"
      },
      "source": [
        "The `Timestamp` column was interpreted as a regular string (`object` in pandas notation), we can parse it manually using a vectorized operation as we saw on previous courses.\n",
        "\n",
        "We'll parse `Timestamp` column to `Datetime` objects using `to_datetime` method:"
      ]
    },
    {
      "cell_type": "code",
      "metadata": {
        "id": "-RPTfBnpcBrV",
        "outputId": "e6b76957-0815-4490-f4d0-a29eed818da1"
      },
      "source": [
        "pd.to_datetime(df['Timestamp']).head()"
      ],
      "execution_count": null,
      "outputs": [
        {
          "output_type": "execute_result",
          "data": {
            "text/plain": [
              "0   2017-02-04\n",
              "1   2017-03-04\n",
              "2   2017-04-04\n",
              "3   2017-05-04\n",
              "4   2017-06-04\n",
              "Name: Timestamp, dtype: datetime64[ns]"
            ]
          },
          "metadata": {
            "tags": []
          },
          "execution_count": 15
        }
      ]
    },
    {
      "cell_type": "code",
      "metadata": {
        "id": "-azoTif7cBrV"
      },
      "source": [
        "df['Timestamp'] = pd.to_datetime(df['Timestamp'])"
      ],
      "execution_count": null,
      "outputs": []
    },
    {
      "cell_type": "code",
      "metadata": {
        "id": "P-FIgjw4cBrV",
        "outputId": "873c5522-108c-4fee-bc02-bda2aa37c89b"
      },
      "source": [
        "df.head()"
      ],
      "execution_count": null,
      "outputs": [
        {
          "output_type": "execute_result",
          "data": {
            "text/html": [
              "<div>\n",
              "<style scoped>\n",
              "    .dataframe tbody tr th:only-of-type {\n",
              "        vertical-align: middle;\n",
              "    }\n",
              "\n",
              "    .dataframe tbody tr th {\n",
              "        vertical-align: top;\n",
              "    }\n",
              "\n",
              "    .dataframe thead th {\n",
              "        text-align: right;\n",
              "    }\n",
              "</style>\n",
              "<table border=\"1\" class=\"dataframe\">\n",
              "  <thead>\n",
              "    <tr style=\"text-align: right;\">\n",
              "      <th></th>\n",
              "      <th>Timestamp</th>\n",
              "      <th>Price</th>\n",
              "    </tr>\n",
              "  </thead>\n",
              "  <tbody>\n",
              "    <tr>\n",
              "      <th>0</th>\n",
              "      <td>2017-02-04</td>\n",
              "      <td>1099.169125</td>\n",
              "    </tr>\n",
              "    <tr>\n",
              "      <th>1</th>\n",
              "      <td>2017-03-04</td>\n",
              "      <td>1141.813000</td>\n",
              "    </tr>\n",
              "    <tr>\n",
              "      <th>2</th>\n",
              "      <td>2017-04-04</td>\n",
              "      <td>NaN</td>\n",
              "    </tr>\n",
              "    <tr>\n",
              "      <th>3</th>\n",
              "      <td>2017-05-04</td>\n",
              "      <td>1133.079314</td>\n",
              "    </tr>\n",
              "    <tr>\n",
              "      <th>4</th>\n",
              "      <td>2017-06-04</td>\n",
              "      <td>NaN</td>\n",
              "    </tr>\n",
              "  </tbody>\n",
              "</table>\n",
              "</div>"
            ],
            "text/plain": [
              "   Timestamp        Price\n",
              "0 2017-02-04  1099.169125\n",
              "1 2017-03-04  1141.813000\n",
              "2 2017-04-04          NaN\n",
              "3 2017-05-04  1133.079314\n",
              "4 2017-06-04          NaN"
            ]
          },
          "metadata": {
            "tags": []
          },
          "execution_count": 17
        }
      ]
    },
    {
      "cell_type": "code",
      "metadata": {
        "id": "3At_lJCJcBrV",
        "outputId": "eae75a9d-ec7a-4356-9cea-0a086a844e75"
      },
      "source": [
        "df.dtypes"
      ],
      "execution_count": null,
      "outputs": [
        {
          "output_type": "execute_result",
          "data": {
            "text/plain": [
              "Timestamp    datetime64[ns]\n",
              "Price               float64\n",
              "dtype: object"
            ]
          },
          "metadata": {
            "tags": []
          },
          "execution_count": 18
        }
      ]
    },
    {
      "cell_type": "markdown",
      "metadata": {
        "id": "JOD0XGG8cBrW"
      },
      "source": [
        "![green-divider](https://user-images.githubusercontent.com/7065401/52071924-c003ad80-2562-11e9-8297-1c6595f8a7ff.png)\n",
        "\n",
        "## Date parser using `parse_dates` parameter\n",
        "\n",
        "Another way of dealing with `Datetime` objects is using `parse_dates` parameter with the position of the columns with dates."
      ]
    },
    {
      "cell_type": "code",
      "metadata": {
        "scrolled": false,
        "id": "5L8VvYTccBrW"
      },
      "source": [
        "df = pd.read_csv('btc-market-price.csv',\n",
        "                 header=None,\n",
        "                 na_values=['', '?', '-'],\n",
        "                 names=['Timestamp', 'Price'],\n",
        "                 dtype={'Price': 'float'},\n",
        "                 parse_dates=[0])"
      ],
      "execution_count": null,
      "outputs": []
    },
    {
      "cell_type": "code",
      "metadata": {
        "id": "W7EZYP-IcBrW",
        "outputId": "2bda9ec2-a508-41a2-80ef-012be8721a71"
      },
      "source": [
        "df.head()"
      ],
      "execution_count": null,
      "outputs": [
        {
          "output_type": "execute_result",
          "data": {
            "text/html": [
              "<div>\n",
              "<style scoped>\n",
              "    .dataframe tbody tr th:only-of-type {\n",
              "        vertical-align: middle;\n",
              "    }\n",
              "\n",
              "    .dataframe tbody tr th {\n",
              "        vertical-align: top;\n",
              "    }\n",
              "\n",
              "    .dataframe thead th {\n",
              "        text-align: right;\n",
              "    }\n",
              "</style>\n",
              "<table border=\"1\" class=\"dataframe\">\n",
              "  <thead>\n",
              "    <tr style=\"text-align: right;\">\n",
              "      <th></th>\n",
              "      <th>Timestamp</th>\n",
              "      <th>Price</th>\n",
              "    </tr>\n",
              "  </thead>\n",
              "  <tbody>\n",
              "    <tr>\n",
              "      <th>0</th>\n",
              "      <td>2017-02-04</td>\n",
              "      <td>1099.169125</td>\n",
              "    </tr>\n",
              "    <tr>\n",
              "      <th>1</th>\n",
              "      <td>2017-03-04</td>\n",
              "      <td>1141.813000</td>\n",
              "    </tr>\n",
              "    <tr>\n",
              "      <th>2</th>\n",
              "      <td>2017-04-04</td>\n",
              "      <td>NaN</td>\n",
              "    </tr>\n",
              "    <tr>\n",
              "      <th>3</th>\n",
              "      <td>2017-05-04</td>\n",
              "      <td>1133.079314</td>\n",
              "    </tr>\n",
              "    <tr>\n",
              "      <th>4</th>\n",
              "      <td>2017-06-04</td>\n",
              "      <td>NaN</td>\n",
              "    </tr>\n",
              "  </tbody>\n",
              "</table>\n",
              "</div>"
            ],
            "text/plain": [
              "   Timestamp        Price\n",
              "0 2017-02-04  1099.169125\n",
              "1 2017-03-04  1141.813000\n",
              "2 2017-04-04          NaN\n",
              "3 2017-05-04  1133.079314\n",
              "4 2017-06-04          NaN"
            ]
          },
          "metadata": {
            "tags": []
          },
          "execution_count": 20
        }
      ]
    },
    {
      "cell_type": "code",
      "metadata": {
        "id": "Ue47D9OncBrW",
        "outputId": "eec5c14c-415c-4f82-ac6e-71acae007349"
      },
      "source": [
        "df.dtypes"
      ],
      "execution_count": null,
      "outputs": [
        {
          "output_type": "execute_result",
          "data": {
            "text/plain": [
              "Timestamp    datetime64[ns]\n",
              "Price               float64\n",
              "dtype: object"
            ]
          },
          "metadata": {
            "tags": []
          },
          "execution_count": 21
        }
      ]
    },
    {
      "cell_type": "markdown",
      "metadata": {
        "id": "w9Shd_oqcBrW"
      },
      "source": [
        "![green-divider](https://user-images.githubusercontent.com/7065401/52071924-c003ad80-2562-11e9-8297-1c6595f8a7ff.png)\n",
        "\n",
        "## Adding index to our data using `index_col` parameter\n",
        "\n",
        "By default, pandas will automatically assign a numeric autoincremental index or row label starting with zero. You may want to leave the default index as such if your data doesn’t have a column with unique values that can serve as a better index. In case there is a column that you feel would serve as a better index, you can override the default behavior by setting `index_col` property to a column. It takes a numeric value representing the index or a string of the column name for setting a single column as index or a list of numeric values or strings for creating a multi-index.\n",
        "\n",
        "In our data, we are choosing the first column, `Timestamp`, as index (index=0) by passing zero to the `index_col` argument."
      ]
    },
    {
      "cell_type": "code",
      "metadata": {
        "id": "TKNiRAPccBrX"
      },
      "source": [
        "df = pd.read_csv('btc-market-price.csv',\n",
        "                 header=None,\n",
        "                 na_values=['', '?', '-'],\n",
        "                 names=['Timestamp', 'Price'],\n",
        "                 dtype={'Price': 'float'},\n",
        "                 parse_dates=[0],\n",
        "                 index_col=[0])"
      ],
      "execution_count": null,
      "outputs": []
    },
    {
      "cell_type": "code",
      "metadata": {
        "id": "sT-9vjpwcBrX",
        "outputId": "7834246f-a957-444a-cdbd-d389ed34ef54"
      },
      "source": [
        "df.head()"
      ],
      "execution_count": null,
      "outputs": [
        {
          "output_type": "execute_result",
          "data": {
            "text/html": [
              "<div>\n",
              "<style scoped>\n",
              "    .dataframe tbody tr th:only-of-type {\n",
              "        vertical-align: middle;\n",
              "    }\n",
              "\n",
              "    .dataframe tbody tr th {\n",
              "        vertical-align: top;\n",
              "    }\n",
              "\n",
              "    .dataframe thead th {\n",
              "        text-align: right;\n",
              "    }\n",
              "</style>\n",
              "<table border=\"1\" class=\"dataframe\">\n",
              "  <thead>\n",
              "    <tr style=\"text-align: right;\">\n",
              "      <th></th>\n",
              "      <th>Price</th>\n",
              "    </tr>\n",
              "    <tr>\n",
              "      <th>Timestamp</th>\n",
              "      <th></th>\n",
              "    </tr>\n",
              "  </thead>\n",
              "  <tbody>\n",
              "    <tr>\n",
              "      <th>2017-02-04</th>\n",
              "      <td>1099.169125</td>\n",
              "    </tr>\n",
              "    <tr>\n",
              "      <th>2017-03-04</th>\n",
              "      <td>1141.813000</td>\n",
              "    </tr>\n",
              "    <tr>\n",
              "      <th>2017-04-04</th>\n",
              "      <td>NaN</td>\n",
              "    </tr>\n",
              "    <tr>\n",
              "      <th>2017-05-04</th>\n",
              "      <td>1133.079314</td>\n",
              "    </tr>\n",
              "    <tr>\n",
              "      <th>2017-06-04</th>\n",
              "      <td>NaN</td>\n",
              "    </tr>\n",
              "  </tbody>\n",
              "</table>\n",
              "</div>"
            ],
            "text/plain": [
              "                  Price\n",
              "Timestamp              \n",
              "2017-02-04  1099.169125\n",
              "2017-03-04  1141.813000\n",
              "2017-04-04          NaN\n",
              "2017-05-04  1133.079314\n",
              "2017-06-04          NaN"
            ]
          },
          "metadata": {
            "tags": []
          },
          "execution_count": 5
        }
      ]
    },
    {
      "cell_type": "code",
      "metadata": {
        "id": "A8mGnEs0cBrX",
        "outputId": "fde862a3-a3ec-40ec-ee11-df0d0449a1db"
      },
      "source": [
        "df.dtypes"
      ],
      "execution_count": null,
      "outputs": [
        {
          "output_type": "execute_result",
          "data": {
            "text/plain": [
              "Price    float64\n",
              "dtype: object"
            ]
          },
          "metadata": {
            "tags": []
          },
          "execution_count": 24
        }
      ]
    },
    {
      "cell_type": "markdown",
      "metadata": {
        "id": "G98pMP9pcBrX"
      },
      "source": [
        "![green-divider](https://user-images.githubusercontent.com/7065401/52071924-c003ad80-2562-11e9-8297-1c6595f8a7ff.png)\n",
        "\n",
        "## A more challenging parsing\n",
        "\n",
        "Now we'll read another CSV file. This file has the following columns:\n",
        "\n",
        "- `first_name`\n",
        "- `last_name`\n",
        "- `age`\n",
        "- `math_score`\n",
        "- `french_score`\n",
        "- `next_test_date`\n",
        "\n",
        "Let's read it and see how it looks like."
      ]
    },
    {
      "cell_type": "code",
      "metadata": {
        "id": "kVVCiZTycBrX"
      },
      "source": [
        "exam_df = pd.read_csv('exam_review.csv')"
      ],
      "execution_count": null,
      "outputs": []
    },
    {
      "cell_type": "code",
      "metadata": {
        "scrolled": true,
        "id": "vnVgP8xHcBrY",
        "outputId": "dd55f9a8-61fb-4b12-e1ae-943ae2227738"
      },
      "source": [
        "exam_df"
      ],
      "execution_count": null,
      "outputs": [
        {
          "output_type": "execute_result",
          "data": {
            "text/html": [
              "<div>\n",
              "<style scoped>\n",
              "    .dataframe tbody tr th:only-of-type {\n",
              "        vertical-align: middle;\n",
              "    }\n",
              "\n",
              "    .dataframe tbody tr th {\n",
              "        vertical-align: top;\n",
              "    }\n",
              "\n",
              "    .dataframe thead th {\n",
              "        text-align: right;\n",
              "    }\n",
              "</style>\n",
              "<table border=\"1\" class=\"dataframe\">\n",
              "  <thead>\n",
              "    <tr style=\"text-align: right;\">\n",
              "      <th></th>\n",
              "      <th></th>\n",
              "      <th>first_name&gt;last_name&gt;age&gt;math_score&gt;french_score</th>\n",
              "    </tr>\n",
              "  </thead>\n",
              "  <tbody>\n",
              "    <tr>\n",
              "      <th>Ray&gt;Morley&gt;18&gt;\"68</th>\n",
              "      <th>000\"&gt;\"75</th>\n",
              "      <td>000\"</td>\n",
              "    </tr>\n",
              "    <tr>\n",
              "      <th>Melvin&gt;Scott&gt;24&gt;77&gt;83</th>\n",
              "      <th>NaN</th>\n",
              "      <td>NaN</td>\n",
              "    </tr>\n",
              "    <tr>\n",
              "      <th>Amirah&gt;Haley&gt;22&gt;92&gt;67</th>\n",
              "      <th>NaN</th>\n",
              "      <td>NaN</td>\n",
              "    </tr>\n",
              "    <tr>\n",
              "      <th>Gerard&gt;Mills&gt;19&gt;\"78</th>\n",
              "      <th>000\"&gt;72</th>\n",
              "      <td>NaN</td>\n",
              "    </tr>\n",
              "    <tr>\n",
              "      <th>Amy&gt;Grimes&gt;23&gt;91&gt;81</th>\n",
              "      <th>NaN</th>\n",
              "      <td>NaN</td>\n",
              "    </tr>\n",
              "  </tbody>\n",
              "</table>\n",
              "</div>"
            ],
            "text/plain": [
              "                               first_name>last_name>age>math_score>french_score\n",
              "Ray>Morley>18>\"68     000\">\"75                                             000\"\n",
              "Melvin>Scott>24>77>83 NaN                                                   NaN\n",
              "Amirah>Haley>22>92>67 NaN                                                   NaN\n",
              "Gerard>Mills>19>\"78   000\">72                                               NaN\n",
              "Amy>Grimes>23>91>81   NaN                                                   NaN"
            ]
          },
          "metadata": {
            "tags": []
          },
          "execution_count": 7
        }
      ]
    },
    {
      "cell_type": "markdown",
      "metadata": {
        "id": "CAFq99ZGcBrY"
      },
      "source": [
        "![green-divider](https://user-images.githubusercontent.com/7065401/52071924-c003ad80-2562-11e9-8297-1c6595f8a7ff.png)\n",
        "\n",
        "## Custom data delimiters using `sep` parameter\n",
        "\n",
        "We can define which delimiter to use by using the `sep` parameter. If we don't use the `sep` parameter, pandas will automatically detect the separator.\n",
        "\n",
        "In most of the CSV files separator will be comma (`,`) and will be automatically detected. But we can find files with other separators like semicolon (`;`), tabs (`\\t`, specially on TSV files), whitespaces or any other special character.\n",
        "\n",
        "In this case the separator is a `>` character."
      ]
    },
    {
      "cell_type": "code",
      "metadata": {
        "id": "0HYh7oRCcBrY"
      },
      "source": [
        "exam_df = pd.read_csv('exam_review.csv',\n",
        "                      sep='>')"
      ],
      "execution_count": null,
      "outputs": []
    },
    {
      "cell_type": "code",
      "metadata": {
        "scrolled": true,
        "id": "9J415HRJcBrY",
        "outputId": "13e91801-9489-45ff-9e02-744ef31d45a3"
      },
      "source": [
        "exam_df"
      ],
      "execution_count": null,
      "outputs": [
        {
          "output_type": "execute_result",
          "data": {
            "text/html": [
              "<div>\n",
              "<style scoped>\n",
              "    .dataframe tbody tr th:only-of-type {\n",
              "        vertical-align: middle;\n",
              "    }\n",
              "\n",
              "    .dataframe tbody tr th {\n",
              "        vertical-align: top;\n",
              "    }\n",
              "\n",
              "    .dataframe thead th {\n",
              "        text-align: right;\n",
              "    }\n",
              "</style>\n",
              "<table border=\"1\" class=\"dataframe\">\n",
              "  <thead>\n",
              "    <tr style=\"text-align: right;\">\n",
              "      <th></th>\n",
              "      <th>first_name</th>\n",
              "      <th>last_name</th>\n",
              "      <th>age</th>\n",
              "      <th>math_score</th>\n",
              "      <th>french_score</th>\n",
              "    </tr>\n",
              "  </thead>\n",
              "  <tbody>\n",
              "    <tr>\n",
              "      <th>0</th>\n",
              "      <td>Ray</td>\n",
              "      <td>Morley</td>\n",
              "      <td>18</td>\n",
              "      <td>68,000</td>\n",
              "      <td>75,000</td>\n",
              "    </tr>\n",
              "    <tr>\n",
              "      <th>1</th>\n",
              "      <td>Melvin</td>\n",
              "      <td>Scott</td>\n",
              "      <td>24</td>\n",
              "      <td>77</td>\n",
              "      <td>83</td>\n",
              "    </tr>\n",
              "    <tr>\n",
              "      <th>2</th>\n",
              "      <td>Amirah</td>\n",
              "      <td>Haley</td>\n",
              "      <td>22</td>\n",
              "      <td>92</td>\n",
              "      <td>67</td>\n",
              "    </tr>\n",
              "    <tr>\n",
              "      <th>3</th>\n",
              "      <td>Gerard</td>\n",
              "      <td>Mills</td>\n",
              "      <td>19</td>\n",
              "      <td>78,000</td>\n",
              "      <td>72</td>\n",
              "    </tr>\n",
              "    <tr>\n",
              "      <th>4</th>\n",
              "      <td>Amy</td>\n",
              "      <td>Grimes</td>\n",
              "      <td>23</td>\n",
              "      <td>91</td>\n",
              "      <td>81</td>\n",
              "    </tr>\n",
              "  </tbody>\n",
              "</table>\n",
              "</div>"
            ],
            "text/plain": [
              "  first_name last_name  age math_score french_score\n",
              "0        Ray    Morley   18     68,000       75,000\n",
              "1     Melvin     Scott   24         77           83\n",
              "2     Amirah     Haley   22         92           67\n",
              "3     Gerard     Mills   19     78,000           72\n",
              "4        Amy    Grimes   23         91           81"
            ]
          },
          "metadata": {
            "tags": []
          },
          "execution_count": 9
        }
      ]
    },
    {
      "cell_type": "markdown",
      "metadata": {
        "id": "grifzJwhcBrY"
      },
      "source": [
        "![green-divider](https://user-images.githubusercontent.com/7065401/52071924-c003ad80-2562-11e9-8297-1c6595f8a7ff.png)\n",
        "\n",
        "## Custom data encoding\n",
        "\n",
        "Files are stored using different \"encodings\". You've probably heard about ASCII, UTF-8, latin1, etc.\n",
        "\n",
        "While reading data custom encoding can be defined with the `encoding` parameter.\n",
        "\n",
        "- `encoding='UTF-8'`: will be used if data is UTF-8 encoded.\n",
        "- `encoding='iso-8859-1'`: will be used if data is ISO/IEC 8859-1 (\"extended ASCII\") encoded.\n",
        "\n",
        "In our case we don't need a custom enconding as data is properly loaded."
      ]
    },
    {
      "cell_type": "markdown",
      "metadata": {
        "id": "JwgRXUnBcBrZ"
      },
      "source": [
        "![green-divider](https://user-images.githubusercontent.com/7065401/52071924-c003ad80-2562-11e9-8297-1c6595f8a7ff.png)\n",
        "\n",
        "## Custom numeric `decimal` and `thousands` character  \n",
        "\n",
        "The decimal and thousands characters could change between datasets. If we have a column containing a comma (`,`) to indicate the decimal or thousands place, then this column would be considered a string and not numeric."
      ]
    },
    {
      "cell_type": "code",
      "metadata": {
        "id": "eY6wHoQhcBrZ"
      },
      "source": [
        "exam_df = pd.read_csv('exam_review.csv',\n",
        "                      sep='>')"
      ],
      "execution_count": null,
      "outputs": []
    },
    {
      "cell_type": "code",
      "metadata": {
        "id": "742IR29mcBrZ",
        "outputId": "54822249-3a3c-4401-9ca4-212a6a5f735f"
      },
      "source": [
        "exam_df"
      ],
      "execution_count": null,
      "outputs": [
        {
          "output_type": "execute_result",
          "data": {
            "text/html": [
              "<div>\n",
              "<style scoped>\n",
              "    .dataframe tbody tr th:only-of-type {\n",
              "        vertical-align: middle;\n",
              "    }\n",
              "\n",
              "    .dataframe tbody tr th {\n",
              "        vertical-align: top;\n",
              "    }\n",
              "\n",
              "    .dataframe thead th {\n",
              "        text-align: right;\n",
              "    }\n",
              "</style>\n",
              "<table border=\"1\" class=\"dataframe\">\n",
              "  <thead>\n",
              "    <tr style=\"text-align: right;\">\n",
              "      <th></th>\n",
              "      <th>first_name</th>\n",
              "      <th>last_name</th>\n",
              "      <th>age</th>\n",
              "      <th>math_score</th>\n",
              "      <th>french_score</th>\n",
              "    </tr>\n",
              "  </thead>\n",
              "  <tbody>\n",
              "    <tr>\n",
              "      <th>0</th>\n",
              "      <td>Ray</td>\n",
              "      <td>Morley</td>\n",
              "      <td>18</td>\n",
              "      <td>68,000</td>\n",
              "      <td>75,000</td>\n",
              "    </tr>\n",
              "    <tr>\n",
              "      <th>1</th>\n",
              "      <td>Melvin</td>\n",
              "      <td>Scott</td>\n",
              "      <td>24</td>\n",
              "      <td>77</td>\n",
              "      <td>83</td>\n",
              "    </tr>\n",
              "    <tr>\n",
              "      <th>2</th>\n",
              "      <td>Amirah</td>\n",
              "      <td>Haley</td>\n",
              "      <td>22</td>\n",
              "      <td>92</td>\n",
              "      <td>67</td>\n",
              "    </tr>\n",
              "    <tr>\n",
              "      <th>3</th>\n",
              "      <td>Gerard</td>\n",
              "      <td>Mills</td>\n",
              "      <td>19</td>\n",
              "      <td>78,000</td>\n",
              "      <td>72</td>\n",
              "    </tr>\n",
              "    <tr>\n",
              "      <th>4</th>\n",
              "      <td>Amy</td>\n",
              "      <td>Grimes</td>\n",
              "      <td>23</td>\n",
              "      <td>91</td>\n",
              "      <td>81</td>\n",
              "    </tr>\n",
              "  </tbody>\n",
              "</table>\n",
              "</div>"
            ],
            "text/plain": [
              "  first_name last_name  age math_score french_score\n",
              "0        Ray    Morley   18     68,000       75,000\n",
              "1     Melvin     Scott   24         77           83\n",
              "2     Amirah     Haley   22         92           67\n",
              "3     Gerard     Mills   19     78,000           72\n",
              "4        Amy    Grimes   23         91           81"
            ]
          },
          "metadata": {
            "tags": []
          },
          "execution_count": 13
        }
      ]
    },
    {
      "cell_type": "code",
      "metadata": {
        "id": "FDoiJJ6wcBrZ",
        "outputId": "a7852440-d76c-4e83-c243-c7d662cf67e5"
      },
      "source": [
        "exam_df[['math_score', 'french_score']].dtypes"
      ],
      "execution_count": null,
      "outputs": [
        {
          "output_type": "execute_result",
          "data": {
            "text/plain": [
              "math_score      object\n",
              "french_score    object\n",
              "dtype: object"
            ]
          },
          "metadata": {
            "tags": []
          },
          "execution_count": 14
        }
      ]
    },
    {
      "cell_type": "markdown",
      "metadata": {
        "id": "eFSv6Od3cBrZ"
      },
      "source": [
        "To solve that, ensuring such columns are interpreted as integer values, we'll need to use the `decimal` and/or `thousands` parameters to indicate correct decimal and/or thousands indicators."
      ]
    },
    {
      "cell_type": "code",
      "metadata": {
        "id": "o4lRut0EcBrZ"
      },
      "source": [
        "exam_df = pd.read_csv('exam_review.csv',\n",
        "                      sep='>',\n",
        "                      decimal=',')"
      ],
      "execution_count": null,
      "outputs": []
    },
    {
      "cell_type": "code",
      "metadata": {
        "id": "sMVbRNeWcBra",
        "outputId": "7de74776-27b0-4910-b279-f1370f2ea03f"
      },
      "source": [
        "exam_df"
      ],
      "execution_count": null,
      "outputs": [
        {
          "output_type": "execute_result",
          "data": {
            "text/html": [
              "<div>\n",
              "<style scoped>\n",
              "    .dataframe tbody tr th:only-of-type {\n",
              "        vertical-align: middle;\n",
              "    }\n",
              "\n",
              "    .dataframe tbody tr th {\n",
              "        vertical-align: top;\n",
              "    }\n",
              "\n",
              "    .dataframe thead th {\n",
              "        text-align: right;\n",
              "    }\n",
              "</style>\n",
              "<table border=\"1\" class=\"dataframe\">\n",
              "  <thead>\n",
              "    <tr style=\"text-align: right;\">\n",
              "      <th></th>\n",
              "      <th>first_name</th>\n",
              "      <th>last_name</th>\n",
              "      <th>age</th>\n",
              "      <th>math_score</th>\n",
              "      <th>french_score</th>\n",
              "    </tr>\n",
              "  </thead>\n",
              "  <tbody>\n",
              "    <tr>\n",
              "      <th>0</th>\n",
              "      <td>Ray</td>\n",
              "      <td>Morley</td>\n",
              "      <td>18</td>\n",
              "      <td>68.0</td>\n",
              "      <td>75.0</td>\n",
              "    </tr>\n",
              "    <tr>\n",
              "      <th>1</th>\n",
              "      <td>Melvin</td>\n",
              "      <td>Scott</td>\n",
              "      <td>24</td>\n",
              "      <td>77.0</td>\n",
              "      <td>83.0</td>\n",
              "    </tr>\n",
              "    <tr>\n",
              "      <th>2</th>\n",
              "      <td>Amirah</td>\n",
              "      <td>Haley</td>\n",
              "      <td>22</td>\n",
              "      <td>92.0</td>\n",
              "      <td>67.0</td>\n",
              "    </tr>\n",
              "    <tr>\n",
              "      <th>3</th>\n",
              "      <td>Gerard</td>\n",
              "      <td>Mills</td>\n",
              "      <td>19</td>\n",
              "      <td>78.0</td>\n",
              "      <td>72.0</td>\n",
              "    </tr>\n",
              "    <tr>\n",
              "      <th>4</th>\n",
              "      <td>Amy</td>\n",
              "      <td>Grimes</td>\n",
              "      <td>23</td>\n",
              "      <td>91.0</td>\n",
              "      <td>81.0</td>\n",
              "    </tr>\n",
              "  </tbody>\n",
              "</table>\n",
              "</div>"
            ],
            "text/plain": [
              "  first_name last_name  age  math_score  french_score\n",
              "0        Ray    Morley   18        68.0          75.0\n",
              "1     Melvin     Scott   24        77.0          83.0\n",
              "2     Amirah     Haley   22        92.0          67.0\n",
              "3     Gerard     Mills   19        78.0          72.0\n",
              "4        Amy    Grimes   23        91.0          81.0"
            ]
          },
          "metadata": {
            "tags": []
          },
          "execution_count": 16
        }
      ]
    },
    {
      "cell_type": "code",
      "metadata": {
        "id": "Up4sskgCcBra",
        "outputId": "349344bf-ccb6-4949-b65b-566976404590"
      },
      "source": [
        "exam_df[['math_score', 'french_score']].dtypes"
      ],
      "execution_count": null,
      "outputs": [
        {
          "output_type": "execute_result",
          "data": {
            "text/plain": [
              "math_score      float64\n",
              "french_score    float64\n",
              "dtype: object"
            ]
          },
          "metadata": {
            "tags": []
          },
          "execution_count": 34
        }
      ]
    },
    {
      "cell_type": "markdown",
      "metadata": {
        "id": "o6ZcAakOcBra"
      },
      "source": [
        "Let's see what happens with the `thousands` parameter:"
      ]
    },
    {
      "cell_type": "code",
      "metadata": {
        "id": "smc1U9KZcBra",
        "outputId": "a804c2d1-f5de-49d2-e7fe-5a6602e791cc"
      },
      "source": [
        "pd.read_csv('exam_review.csv',\n",
        "            sep='>',\n",
        "            thousands=',')"
      ],
      "execution_count": null,
      "outputs": [
        {
          "output_type": "execute_result",
          "data": {
            "text/html": [
              "<div>\n",
              "<style scoped>\n",
              "    .dataframe tbody tr th:only-of-type {\n",
              "        vertical-align: middle;\n",
              "    }\n",
              "\n",
              "    .dataframe tbody tr th {\n",
              "        vertical-align: top;\n",
              "    }\n",
              "\n",
              "    .dataframe thead th {\n",
              "        text-align: right;\n",
              "    }\n",
              "</style>\n",
              "<table border=\"1\" class=\"dataframe\">\n",
              "  <thead>\n",
              "    <tr style=\"text-align: right;\">\n",
              "      <th></th>\n",
              "      <th>first_name</th>\n",
              "      <th>last_name</th>\n",
              "      <th>age</th>\n",
              "      <th>math_score</th>\n",
              "      <th>french_score</th>\n",
              "    </tr>\n",
              "  </thead>\n",
              "  <tbody>\n",
              "    <tr>\n",
              "      <th>0</th>\n",
              "      <td>Ray</td>\n",
              "      <td>Morley</td>\n",
              "      <td>18</td>\n",
              "      <td>68000</td>\n",
              "      <td>75000</td>\n",
              "    </tr>\n",
              "    <tr>\n",
              "      <th>1</th>\n",
              "      <td>Melvin</td>\n",
              "      <td>Scott</td>\n",
              "      <td>24</td>\n",
              "      <td>77</td>\n",
              "      <td>83</td>\n",
              "    </tr>\n",
              "    <tr>\n",
              "      <th>2</th>\n",
              "      <td>Amirah</td>\n",
              "      <td>Haley</td>\n",
              "      <td>22</td>\n",
              "      <td>92</td>\n",
              "      <td>67</td>\n",
              "    </tr>\n",
              "    <tr>\n",
              "      <th>3</th>\n",
              "      <td>Gerard</td>\n",
              "      <td>Mills</td>\n",
              "      <td>19</td>\n",
              "      <td>78000</td>\n",
              "      <td>72</td>\n",
              "    </tr>\n",
              "    <tr>\n",
              "      <th>4</th>\n",
              "      <td>Amy</td>\n",
              "      <td>Grimes</td>\n",
              "      <td>23</td>\n",
              "      <td>91</td>\n",
              "      <td>81</td>\n",
              "    </tr>\n",
              "  </tbody>\n",
              "</table>\n",
              "</div>"
            ],
            "text/plain": [
              "  first_name last_name  age  math_score  french_score\n",
              "0        Ray    Morley   18       68000         75000\n",
              "1     Melvin     Scott   24          77            83\n",
              "2     Amirah     Haley   22          92            67\n",
              "3     Gerard     Mills   19       78000            72\n",
              "4        Amy    Grimes   23          91            81"
            ]
          },
          "metadata": {
            "tags": []
          },
          "execution_count": 35
        }
      ]
    },
    {
      "cell_type": "markdown",
      "metadata": {
        "id": "5b6oxbgncBrb"
      },
      "source": [
        "![green-divider](https://user-images.githubusercontent.com/7065401/52071924-c003ad80-2562-11e9-8297-1c6595f8a7ff.png)\n",
        "\n",
        "## Excluding specific rows\n",
        "\n",
        "We can use the `skiprows` to:\n",
        "\n",
        "- Exclude reading specified number of rows from the beginning of a file, by passing an integer argument. **This removes the header too**.\n",
        "- Skip reading specific row indices from a file, by passing a list containing row indices to skip."
      ]
    },
    {
      "cell_type": "code",
      "metadata": {
        "id": "O0SU8lFfcBrb"
      },
      "source": [
        "exam_df = pd.read_csv('exam_review.csv',\n",
        "                      sep='>',\n",
        "                      decimal=',')"
      ],
      "execution_count": null,
      "outputs": []
    },
    {
      "cell_type": "code",
      "metadata": {
        "id": "0GC0wsMIcBrb",
        "outputId": "aeaa86f3-ca61-483d-f6a8-3c4a610471ad"
      },
      "source": [
        "exam_df"
      ],
      "execution_count": null,
      "outputs": [
        {
          "output_type": "execute_result",
          "data": {
            "text/html": [
              "<div>\n",
              "<style scoped>\n",
              "    .dataframe tbody tr th:only-of-type {\n",
              "        vertical-align: middle;\n",
              "    }\n",
              "\n",
              "    .dataframe tbody tr th {\n",
              "        vertical-align: top;\n",
              "    }\n",
              "\n",
              "    .dataframe thead th {\n",
              "        text-align: right;\n",
              "    }\n",
              "</style>\n",
              "<table border=\"1\" class=\"dataframe\">\n",
              "  <thead>\n",
              "    <tr style=\"text-align: right;\">\n",
              "      <th></th>\n",
              "      <th>first_name</th>\n",
              "      <th>last_name</th>\n",
              "      <th>age</th>\n",
              "      <th>math_score</th>\n",
              "      <th>french_score</th>\n",
              "    </tr>\n",
              "  </thead>\n",
              "  <tbody>\n",
              "    <tr>\n",
              "      <th>0</th>\n",
              "      <td>Ray</td>\n",
              "      <td>Morley</td>\n",
              "      <td>18</td>\n",
              "      <td>68.0</td>\n",
              "      <td>75.0</td>\n",
              "    </tr>\n",
              "    <tr>\n",
              "      <th>1</th>\n",
              "      <td>Melvin</td>\n",
              "      <td>Scott</td>\n",
              "      <td>24</td>\n",
              "      <td>77.0</td>\n",
              "      <td>83.0</td>\n",
              "    </tr>\n",
              "    <tr>\n",
              "      <th>2</th>\n",
              "      <td>Amirah</td>\n",
              "      <td>Haley</td>\n",
              "      <td>22</td>\n",
              "      <td>92.0</td>\n",
              "      <td>67.0</td>\n",
              "    </tr>\n",
              "    <tr>\n",
              "      <th>3</th>\n",
              "      <td>Gerard</td>\n",
              "      <td>Mills</td>\n",
              "      <td>19</td>\n",
              "      <td>78.0</td>\n",
              "      <td>72.0</td>\n",
              "    </tr>\n",
              "    <tr>\n",
              "      <th>4</th>\n",
              "      <td>Amy</td>\n",
              "      <td>Grimes</td>\n",
              "      <td>23</td>\n",
              "      <td>91.0</td>\n",
              "      <td>81.0</td>\n",
              "    </tr>\n",
              "  </tbody>\n",
              "</table>\n",
              "</div>"
            ],
            "text/plain": [
              "  first_name last_name  age  math_score  french_score\n",
              "0        Ray    Morley   18        68.0          75.0\n",
              "1     Melvin     Scott   24        77.0          83.0\n",
              "2     Amirah     Haley   22        92.0          67.0\n",
              "3     Gerard     Mills   19        78.0          72.0\n",
              "4        Amy    Grimes   23        91.0          81.0"
            ]
          },
          "metadata": {
            "tags": []
          },
          "execution_count": 18
        }
      ]
    },
    {
      "cell_type": "markdown",
      "metadata": {
        "id": "em1lx9MbcBrb"
      },
      "source": [
        "To skip reading the first 2 rows from this file, we can use `skiprows=2`:"
      ]
    },
    {
      "cell_type": "code",
      "metadata": {
        "id": "9QIPdiHvcBrb",
        "outputId": "088266fa-5df7-4c98-ddb9-93a0da5f81ea"
      },
      "source": [
        "pd.read_csv('exam_review.csv',\n",
        "            sep='>',\n",
        "            skiprows=2)"
      ],
      "execution_count": null,
      "outputs": [
        {
          "output_type": "execute_result",
          "data": {
            "text/html": [
              "<div>\n",
              "<style scoped>\n",
              "    .dataframe tbody tr th:only-of-type {\n",
              "        vertical-align: middle;\n",
              "    }\n",
              "\n",
              "    .dataframe tbody tr th {\n",
              "        vertical-align: top;\n",
              "    }\n",
              "\n",
              "    .dataframe thead th {\n",
              "        text-align: right;\n",
              "    }\n",
              "</style>\n",
              "<table border=\"1\" class=\"dataframe\">\n",
              "  <thead>\n",
              "    <tr style=\"text-align: right;\">\n",
              "      <th></th>\n",
              "      <th>Melvin</th>\n",
              "      <th>Scott</th>\n",
              "      <th>24</th>\n",
              "      <th>77</th>\n",
              "      <th>83</th>\n",
              "    </tr>\n",
              "  </thead>\n",
              "  <tbody>\n",
              "    <tr>\n",
              "      <th>0</th>\n",
              "      <td>Amirah</td>\n",
              "      <td>Haley</td>\n",
              "      <td>22</td>\n",
              "      <td>92</td>\n",
              "      <td>67</td>\n",
              "    </tr>\n",
              "    <tr>\n",
              "      <th>1</th>\n",
              "      <td>Gerard</td>\n",
              "      <td>Mills</td>\n",
              "      <td>19</td>\n",
              "      <td>78,000</td>\n",
              "      <td>72</td>\n",
              "    </tr>\n",
              "    <tr>\n",
              "      <th>2</th>\n",
              "      <td>Amy</td>\n",
              "      <td>Grimes</td>\n",
              "      <td>23</td>\n",
              "      <td>91</td>\n",
              "      <td>81</td>\n",
              "    </tr>\n",
              "  </tbody>\n",
              "</table>\n",
              "</div>"
            ],
            "text/plain": [
              "   Melvin   Scott  24      77  83\n",
              "0  Amirah   Haley  22      92  67\n",
              "1  Gerard   Mills  19  78,000  72\n",
              "2     Amy  Grimes  23      91  81"
            ]
          },
          "metadata": {
            "tags": []
          },
          "execution_count": 19
        }
      ]
    },
    {
      "cell_type": "markdown",
      "metadata": {
        "id": "NnJb3M-IcBrc"
      },
      "source": [
        "As the header is considered as the first row, to skip reading data rows 1 and 3, we can use `skiprows=[1,3]`:"
      ]
    },
    {
      "cell_type": "code",
      "metadata": {
        "id": "7oq0P89lcBrc"
      },
      "source": [
        "exam_df = pd.read_csv('exam_review.csv',\n",
        "                      sep='>',\n",
        "                      decimal=',',\n",
        "                      skiprows=[1,3])"
      ],
      "execution_count": null,
      "outputs": []
    },
    {
      "cell_type": "code",
      "metadata": {
        "id": "NEnNUYpxcBrc",
        "outputId": "60c8ae23-822f-47a5-e139-38eac37c59e7"
      },
      "source": [
        "exam_df"
      ],
      "execution_count": null,
      "outputs": [
        {
          "output_type": "execute_result",
          "data": {
            "text/html": [
              "<div>\n",
              "<style scoped>\n",
              "    .dataframe tbody tr th:only-of-type {\n",
              "        vertical-align: middle;\n",
              "    }\n",
              "\n",
              "    .dataframe tbody tr th {\n",
              "        vertical-align: top;\n",
              "    }\n",
              "\n",
              "    .dataframe thead th {\n",
              "        text-align: right;\n",
              "    }\n",
              "</style>\n",
              "<table border=\"1\" class=\"dataframe\">\n",
              "  <thead>\n",
              "    <tr style=\"text-align: right;\">\n",
              "      <th></th>\n",
              "      <th>first_name</th>\n",
              "      <th>last_name</th>\n",
              "      <th>age</th>\n",
              "      <th>math_score</th>\n",
              "      <th>french_score</th>\n",
              "    </tr>\n",
              "  </thead>\n",
              "  <tbody>\n",
              "    <tr>\n",
              "      <th>0</th>\n",
              "      <td>Melvin</td>\n",
              "      <td>Scott</td>\n",
              "      <td>24</td>\n",
              "      <td>77.0</td>\n",
              "      <td>83</td>\n",
              "    </tr>\n",
              "    <tr>\n",
              "      <th>1</th>\n",
              "      <td>Gerard</td>\n",
              "      <td>Mills</td>\n",
              "      <td>19</td>\n",
              "      <td>78.0</td>\n",
              "      <td>72</td>\n",
              "    </tr>\n",
              "    <tr>\n",
              "      <th>2</th>\n",
              "      <td>Amy</td>\n",
              "      <td>Grimes</td>\n",
              "      <td>23</td>\n",
              "      <td>91.0</td>\n",
              "      <td>81</td>\n",
              "    </tr>\n",
              "  </tbody>\n",
              "</table>\n",
              "</div>"
            ],
            "text/plain": [
              "  first_name last_name  age  math_score  french_score\n",
              "0     Melvin     Scott   24        77.0            83\n",
              "1     Gerard     Mills   19        78.0            72\n",
              "2        Amy    Grimes   23        91.0            81"
            ]
          },
          "metadata": {
            "tags": []
          },
          "execution_count": 21
        }
      ]
    },
    {
      "cell_type": "markdown",
      "metadata": {
        "id": "w7dUcnaAcBrc"
      },
      "source": [
        "![green-divider](https://user-images.githubusercontent.com/7065401/52071924-c003ad80-2562-11e9-8297-1c6595f8a7ff.png)\n",
        "\n",
        "## Get rid of blank lines\n",
        "\n",
        "The `skip_blank_lines` parameter is set to `True` so blank lines are skipped while we read files.\n",
        "\n",
        "If we set this parameter to `False`, then every blank line will be loaded with `NaN` values into the `DataFrame`."
      ]
    },
    {
      "cell_type": "code",
      "metadata": {
        "id": "GG78mrKocBrc",
        "outputId": "ca77102a-8fd3-4f8a-83c1-145bc592b03d"
      },
      "source": [
        "pd.read_csv('exam_review.csv',\n",
        "            sep='>',\n",
        "            skip_blank_lines=False)"
      ],
      "execution_count": null,
      "outputs": [
        {
          "output_type": "execute_result",
          "data": {
            "text/html": [
              "<div>\n",
              "<style scoped>\n",
              "    .dataframe tbody tr th:only-of-type {\n",
              "        vertical-align: middle;\n",
              "    }\n",
              "\n",
              "    .dataframe tbody tr th {\n",
              "        vertical-align: top;\n",
              "    }\n",
              "\n",
              "    .dataframe thead th {\n",
              "        text-align: right;\n",
              "    }\n",
              "</style>\n",
              "<table border=\"1\" class=\"dataframe\">\n",
              "  <thead>\n",
              "    <tr style=\"text-align: right;\">\n",
              "      <th></th>\n",
              "      <th>first_name</th>\n",
              "      <th>last_name</th>\n",
              "      <th>age</th>\n",
              "      <th>math_score</th>\n",
              "      <th>french_score</th>\n",
              "    </tr>\n",
              "  </thead>\n",
              "  <tbody>\n",
              "    <tr>\n",
              "      <th>0</th>\n",
              "      <td>Ray</td>\n",
              "      <td>Morley</td>\n",
              "      <td>18.0</td>\n",
              "      <td>68,000</td>\n",
              "      <td>75,000</td>\n",
              "    </tr>\n",
              "    <tr>\n",
              "      <th>1</th>\n",
              "      <td>Melvin</td>\n",
              "      <td>Scott</td>\n",
              "      <td>24.0</td>\n",
              "      <td>77</td>\n",
              "      <td>83</td>\n",
              "    </tr>\n",
              "    <tr>\n",
              "      <th>2</th>\n",
              "      <td>Amirah</td>\n",
              "      <td>Haley</td>\n",
              "      <td>22.0</td>\n",
              "      <td>92</td>\n",
              "      <td>67</td>\n",
              "    </tr>\n",
              "    <tr>\n",
              "      <th>3</th>\n",
              "      <td>NaN</td>\n",
              "      <td>NaN</td>\n",
              "      <td>NaN</td>\n",
              "      <td>NaN</td>\n",
              "      <td>NaN</td>\n",
              "    </tr>\n",
              "    <tr>\n",
              "      <th>4</th>\n",
              "      <td>Gerard</td>\n",
              "      <td>Mills</td>\n",
              "      <td>19.0</td>\n",
              "      <td>78,000</td>\n",
              "      <td>72</td>\n",
              "    </tr>\n",
              "    <tr>\n",
              "      <th>5</th>\n",
              "      <td>Amy</td>\n",
              "      <td>Grimes</td>\n",
              "      <td>23.0</td>\n",
              "      <td>91</td>\n",
              "      <td>81</td>\n",
              "    </tr>\n",
              "  </tbody>\n",
              "</table>\n",
              "</div>"
            ],
            "text/plain": [
              "  first_name last_name   age math_score french_score\n",
              "0        Ray    Morley  18.0     68,000       75,000\n",
              "1     Melvin     Scott  24.0         77           83\n",
              "2     Amirah     Haley  22.0         92           67\n",
              "3        NaN       NaN   NaN        NaN          NaN\n",
              "4     Gerard     Mills  19.0     78,000           72\n",
              "5        Amy    Grimes  23.0         91           81"
            ]
          },
          "metadata": {
            "tags": []
          },
          "execution_count": 22
        }
      ]
    },
    {
      "cell_type": "markdown",
      "metadata": {
        "id": "voBxqDmJcBrd"
      },
      "source": [
        "![green-divider](https://user-images.githubusercontent.com/7065401/52071924-c003ad80-2562-11e9-8297-1c6595f8a7ff.png)\n",
        "\n",
        "## Loading specific columns\n",
        "\n",
        "We can use the `usecols` parameter when we want to load just specific columns and not all of them.\n",
        "\n",
        "Performance wise, it is better because instead of loading an entire dataframe into memory and then deleting the not required columns, we can select the columns that we’ll need, while loading the dataset itself.\n",
        "\n",
        "As a parameter to `usecols`, you can pass either a list of strings corresponding to the column names or a list of integers corresponding to column index."
      ]
    },
    {
      "cell_type": "code",
      "metadata": {
        "id": "tBFDg29EcBrd",
        "outputId": "3a85a1a0-201d-45a8-e556-232d2d6deabc"
      },
      "source": [
        "pd.read_csv('exam_review.csv',\n",
        "            usecols=['first_name', 'last_name', 'age'],\n",
        "            sep='>')"
      ],
      "execution_count": null,
      "outputs": [
        {
          "output_type": "execute_result",
          "data": {
            "text/html": [
              "<div>\n",
              "<style scoped>\n",
              "    .dataframe tbody tr th:only-of-type {\n",
              "        vertical-align: middle;\n",
              "    }\n",
              "\n",
              "    .dataframe tbody tr th {\n",
              "        vertical-align: top;\n",
              "    }\n",
              "\n",
              "    .dataframe thead th {\n",
              "        text-align: right;\n",
              "    }\n",
              "</style>\n",
              "<table border=\"1\" class=\"dataframe\">\n",
              "  <thead>\n",
              "    <tr style=\"text-align: right;\">\n",
              "      <th></th>\n",
              "      <th>first_name</th>\n",
              "      <th>last_name</th>\n",
              "      <th>age</th>\n",
              "    </tr>\n",
              "  </thead>\n",
              "  <tbody>\n",
              "    <tr>\n",
              "      <th>0</th>\n",
              "      <td>Ray</td>\n",
              "      <td>Morley</td>\n",
              "      <td>18</td>\n",
              "    </tr>\n",
              "    <tr>\n",
              "      <th>1</th>\n",
              "      <td>Melvin</td>\n",
              "      <td>Scott</td>\n",
              "      <td>24</td>\n",
              "    </tr>\n",
              "    <tr>\n",
              "      <th>2</th>\n",
              "      <td>Amirah</td>\n",
              "      <td>Haley</td>\n",
              "      <td>22</td>\n",
              "    </tr>\n",
              "    <tr>\n",
              "      <th>3</th>\n",
              "      <td>Gerard</td>\n",
              "      <td>Mills</td>\n",
              "      <td>19</td>\n",
              "    </tr>\n",
              "    <tr>\n",
              "      <th>4</th>\n",
              "      <td>Amy</td>\n",
              "      <td>Grimes</td>\n",
              "      <td>23</td>\n",
              "    </tr>\n",
              "  </tbody>\n",
              "</table>\n",
              "</div>"
            ],
            "text/plain": [
              "  first_name last_name  age\n",
              "0        Ray    Morley   18\n",
              "1     Melvin     Scott   24\n",
              "2     Amirah     Haley   22\n",
              "3     Gerard     Mills   19\n",
              "4        Amy    Grimes   23"
            ]
          },
          "metadata": {
            "tags": []
          },
          "execution_count": 42
        }
      ]
    },
    {
      "cell_type": "markdown",
      "metadata": {
        "id": "9uXiXTvCcBrd"
      },
      "source": [
        "Or using just the column position:"
      ]
    },
    {
      "cell_type": "code",
      "metadata": {
        "id": "KYrocjRCcBrd",
        "outputId": "31454885-b3ca-42f1-9954-996814a97a47"
      },
      "source": [
        "pd.read_csv('exam_review.csv',\n",
        "            usecols=[0, 1, 2],\n",
        "            sep='>')"
      ],
      "execution_count": null,
      "outputs": [
        {
          "output_type": "execute_result",
          "data": {
            "text/html": [
              "<div>\n",
              "<style scoped>\n",
              "    .dataframe tbody tr th:only-of-type {\n",
              "        vertical-align: middle;\n",
              "    }\n",
              "\n",
              "    .dataframe tbody tr th {\n",
              "        vertical-align: top;\n",
              "    }\n",
              "\n",
              "    .dataframe thead th {\n",
              "        text-align: right;\n",
              "    }\n",
              "</style>\n",
              "<table border=\"1\" class=\"dataframe\">\n",
              "  <thead>\n",
              "    <tr style=\"text-align: right;\">\n",
              "      <th></th>\n",
              "      <th>first_name</th>\n",
              "      <th>last_name</th>\n",
              "      <th>age</th>\n",
              "    </tr>\n",
              "  </thead>\n",
              "  <tbody>\n",
              "    <tr>\n",
              "      <th>0</th>\n",
              "      <td>Ray</td>\n",
              "      <td>Morley</td>\n",
              "      <td>18</td>\n",
              "    </tr>\n",
              "    <tr>\n",
              "      <th>1</th>\n",
              "      <td>Melvin</td>\n",
              "      <td>Scott</td>\n",
              "      <td>24</td>\n",
              "    </tr>\n",
              "    <tr>\n",
              "      <th>2</th>\n",
              "      <td>Amirah</td>\n",
              "      <td>Haley</td>\n",
              "      <td>22</td>\n",
              "    </tr>\n",
              "    <tr>\n",
              "      <th>3</th>\n",
              "      <td>Gerard</td>\n",
              "      <td>Mills</td>\n",
              "      <td>19</td>\n",
              "    </tr>\n",
              "    <tr>\n",
              "      <th>4</th>\n",
              "      <td>Amy</td>\n",
              "      <td>Grimes</td>\n",
              "      <td>23</td>\n",
              "    </tr>\n",
              "  </tbody>\n",
              "</table>\n",
              "</div>"
            ],
            "text/plain": [
              "  first_name last_name  age\n",
              "0        Ray    Morley   18\n",
              "1     Melvin     Scott   24\n",
              "2     Amirah     Haley   22\n",
              "3     Gerard     Mills   19\n",
              "4        Amy    Grimes   23"
            ]
          },
          "metadata": {
            "tags": []
          },
          "execution_count": 43
        }
      ]
    },
    {
      "cell_type": "markdown",
      "metadata": {
        "id": "xuOqteSZcBrd"
      },
      "source": [
        "![green-divider](https://user-images.githubusercontent.com/7065401/52071924-c003ad80-2562-11e9-8297-1c6595f8a7ff.png)\n",
        "\n",
        "## Using a `Series` instead of `DataFrame`\n",
        "\n",
        "If the parsed data only contains one column then we can return a Series by setting the `squeeze` parameter to `True`."
      ]
    },
    {
      "cell_type": "code",
      "metadata": {
        "id": "Odn_igCucBre"
      },
      "source": [
        "exam_test_1 = pd.read_csv('exam_review.csv',\n",
        "                          sep='>',\n",
        "                          usecols=['last_name'])"
      ],
      "execution_count": null,
      "outputs": []
    },
    {
      "cell_type": "code",
      "metadata": {
        "id": "0pNC2ZRJcBre",
        "outputId": "d80e5c24-c6e1-4b58-89fe-38c21ec4f0c3"
      },
      "source": [
        "type(exam_test_1)"
      ],
      "execution_count": null,
      "outputs": [
        {
          "output_type": "execute_result",
          "data": {
            "text/plain": [
              "pandas.core.frame.DataFrame"
            ]
          },
          "metadata": {
            "tags": []
          },
          "execution_count": 45
        }
      ]
    },
    {
      "cell_type": "code",
      "metadata": {
        "id": "k8MjuGzwcBre"
      },
      "source": [
        "exam_test_2 = pd.read_csv('exam_review.csv',\n",
        "                          sep='>',\n",
        "                          usecols=['last_name'],\n",
        "                          squeeze=True)"
      ],
      "execution_count": null,
      "outputs": []
    },
    {
      "cell_type": "code",
      "metadata": {
        "id": "OUKd4DLNcBre",
        "outputId": "1d2287eb-f34b-4397-ce28-0ff27753a3b0"
      },
      "source": [
        "type(exam_test_2)"
      ],
      "execution_count": null,
      "outputs": [
        {
          "output_type": "execute_result",
          "data": {
            "text/plain": [
              "pandas.core.series.Series"
            ]
          },
          "metadata": {
            "tags": []
          },
          "execution_count": 47
        }
      ]
    },
    {
      "cell_type": "markdown",
      "metadata": {
        "id": "_zhfEMgxcBre"
      },
      "source": [
        "![green-divider](https://user-images.githubusercontent.com/7065401/52071924-c003ad80-2562-11e9-8297-1c6595f8a7ff.png)\n",
        "\n",
        "## Save to CSV file\n",
        "\n",
        "Finally we can also save our `DataFrame` as a CSV file."
      ]
    },
    {
      "cell_type": "code",
      "metadata": {
        "id": "CxX5_xK6cBre",
        "outputId": "69a6545d-b91a-4db5-d902-47af0d8d9582"
      },
      "source": [
        "exam_df"
      ],
      "execution_count": null,
      "outputs": [
        {
          "output_type": "execute_result",
          "data": {
            "text/html": [
              "<div>\n",
              "<style scoped>\n",
              "    .dataframe tbody tr th:only-of-type {\n",
              "        vertical-align: middle;\n",
              "    }\n",
              "\n",
              "    .dataframe tbody tr th {\n",
              "        vertical-align: top;\n",
              "    }\n",
              "\n",
              "    .dataframe thead th {\n",
              "        text-align: right;\n",
              "    }\n",
              "</style>\n",
              "<table border=\"1\" class=\"dataframe\">\n",
              "  <thead>\n",
              "    <tr style=\"text-align: right;\">\n",
              "      <th></th>\n",
              "      <th>first_name</th>\n",
              "      <th>last_name</th>\n",
              "      <th>age</th>\n",
              "      <th>math_score</th>\n",
              "      <th>french_score</th>\n",
              "    </tr>\n",
              "  </thead>\n",
              "  <tbody>\n",
              "    <tr>\n",
              "      <th>0</th>\n",
              "      <td>Melvin</td>\n",
              "      <td>Scott</td>\n",
              "      <td>24</td>\n",
              "      <td>77.0</td>\n",
              "      <td>83</td>\n",
              "    </tr>\n",
              "    <tr>\n",
              "      <th>1</th>\n",
              "      <td>Gerard</td>\n",
              "      <td>Mills</td>\n",
              "      <td>19</td>\n",
              "      <td>78.0</td>\n",
              "      <td>72</td>\n",
              "    </tr>\n",
              "    <tr>\n",
              "      <th>2</th>\n",
              "      <td>Amy</td>\n",
              "      <td>Grimes</td>\n",
              "      <td>23</td>\n",
              "      <td>91.0</td>\n",
              "      <td>81</td>\n",
              "    </tr>\n",
              "  </tbody>\n",
              "</table>\n",
              "</div>"
            ],
            "text/plain": [
              "  first_name last_name  age  math_score  french_score\n",
              "0     Melvin     Scott   24        77.0            83\n",
              "1     Gerard     Mills   19        78.0            72\n",
              "2        Amy    Grimes   23        91.0            81"
            ]
          },
          "metadata": {
            "tags": []
          },
          "execution_count": 48
        }
      ]
    },
    {
      "cell_type": "markdown",
      "metadata": {
        "id": "jDXoXGJncBrf"
      },
      "source": [
        "We can simply generate a CSV string from our `DataFrame`:"
      ]
    },
    {
      "cell_type": "code",
      "metadata": {
        "id": "2oX6NJp5cBrf",
        "outputId": "024dac20-85fe-4b98-cde6-c5210c3f2801"
      },
      "source": [
        "exam_df.to_csv()"
      ],
      "execution_count": null,
      "outputs": [
        {
          "output_type": "execute_result",
          "data": {
            "text/plain": [
              "',first_name,last_name,age,math_score,french_score\\n0,Melvin,Scott,24,77.0,83\\n1,Gerard,Mills,19,78.0,72\\n2,Amy,Grimes,23,91.0,81\\n'"
            ]
          },
          "metadata": {
            "tags": []
          },
          "execution_count": 49
        }
      ]
    },
    {
      "cell_type": "markdown",
      "metadata": {
        "id": "rVHGDJZPcBrf"
      },
      "source": [
        "Or specify a file path where we want our generated CSV code to be saved:"
      ]
    },
    {
      "cell_type": "code",
      "metadata": {
        "id": "kp_lD6e_cBrf"
      },
      "source": [
        "exam_df.to_csv('out.csv')"
      ],
      "execution_count": null,
      "outputs": []
    },
    {
      "cell_type": "code",
      "metadata": {
        "id": "ekvza6mUcBrf",
        "outputId": "2df49453-6e6e-45ad-e115-5adf28bf82ec"
      },
      "source": [
        "pd.read_csv('out.csv')"
      ],
      "execution_count": null,
      "outputs": [
        {
          "output_type": "execute_result",
          "data": {
            "text/html": [
              "<div>\n",
              "<style scoped>\n",
              "    .dataframe tbody tr th:only-of-type {\n",
              "        vertical-align: middle;\n",
              "    }\n",
              "\n",
              "    .dataframe tbody tr th {\n",
              "        vertical-align: top;\n",
              "    }\n",
              "\n",
              "    .dataframe thead th {\n",
              "        text-align: right;\n",
              "    }\n",
              "</style>\n",
              "<table border=\"1\" class=\"dataframe\">\n",
              "  <thead>\n",
              "    <tr style=\"text-align: right;\">\n",
              "      <th></th>\n",
              "      <th>Unnamed: 0</th>\n",
              "      <th>first_name</th>\n",
              "      <th>last_name</th>\n",
              "      <th>age</th>\n",
              "      <th>math_score</th>\n",
              "      <th>french_score</th>\n",
              "    </tr>\n",
              "  </thead>\n",
              "  <tbody>\n",
              "    <tr>\n",
              "      <th>0</th>\n",
              "      <td>0</td>\n",
              "      <td>Melvin</td>\n",
              "      <td>Scott</td>\n",
              "      <td>24</td>\n",
              "      <td>77.0</td>\n",
              "      <td>83</td>\n",
              "    </tr>\n",
              "    <tr>\n",
              "      <th>1</th>\n",
              "      <td>1</td>\n",
              "      <td>Gerard</td>\n",
              "      <td>Mills</td>\n",
              "      <td>19</td>\n",
              "      <td>78.0</td>\n",
              "      <td>72</td>\n",
              "    </tr>\n",
              "    <tr>\n",
              "      <th>2</th>\n",
              "      <td>2</td>\n",
              "      <td>Amy</td>\n",
              "      <td>Grimes</td>\n",
              "      <td>23</td>\n",
              "      <td>91.0</td>\n",
              "      <td>81</td>\n",
              "    </tr>\n",
              "  </tbody>\n",
              "</table>\n",
              "</div>"
            ],
            "text/plain": [
              "   Unnamed: 0 first_name last_name  age  math_score  french_score\n",
              "0           0     Melvin     Scott   24        77.0            83\n",
              "1           1     Gerard     Mills   19        78.0            72\n",
              "2           2        Amy    Grimes   23        91.0            81"
            ]
          },
          "metadata": {
            "tags": []
          },
          "execution_count": 51
        }
      ]
    },
    {
      "cell_type": "code",
      "metadata": {
        "id": "L5d_WXyfcBrf"
      },
      "source": [
        "exam_df.to_csv('out.csv',\n",
        "               index=None)"
      ],
      "execution_count": null,
      "outputs": []
    },
    {
      "cell_type": "code",
      "metadata": {
        "scrolled": true,
        "id": "cWywGkyCcBrf",
        "outputId": "370f39b5-7039-4055-9673-f1cd852e2668"
      },
      "source": [
        "pd.read_csv('out.csv')"
      ],
      "execution_count": null,
      "outputs": [
        {
          "output_type": "execute_result",
          "data": {
            "text/html": [
              "<div>\n",
              "<style scoped>\n",
              "    .dataframe tbody tr th:only-of-type {\n",
              "        vertical-align: middle;\n",
              "    }\n",
              "\n",
              "    .dataframe tbody tr th {\n",
              "        vertical-align: top;\n",
              "    }\n",
              "\n",
              "    .dataframe thead th {\n",
              "        text-align: right;\n",
              "    }\n",
              "</style>\n",
              "<table border=\"1\" class=\"dataframe\">\n",
              "  <thead>\n",
              "    <tr style=\"text-align: right;\">\n",
              "      <th></th>\n",
              "      <th>first_name</th>\n",
              "      <th>last_name</th>\n",
              "      <th>age</th>\n",
              "      <th>math_score</th>\n",
              "      <th>french_score</th>\n",
              "    </tr>\n",
              "  </thead>\n",
              "  <tbody>\n",
              "    <tr>\n",
              "      <th>0</th>\n",
              "      <td>Melvin</td>\n",
              "      <td>Scott</td>\n",
              "      <td>24</td>\n",
              "      <td>77.0</td>\n",
              "      <td>83</td>\n",
              "    </tr>\n",
              "    <tr>\n",
              "      <th>1</th>\n",
              "      <td>Gerard</td>\n",
              "      <td>Mills</td>\n",
              "      <td>19</td>\n",
              "      <td>78.0</td>\n",
              "      <td>72</td>\n",
              "    </tr>\n",
              "    <tr>\n",
              "      <th>2</th>\n",
              "      <td>Amy</td>\n",
              "      <td>Grimes</td>\n",
              "      <td>23</td>\n",
              "      <td>91.0</td>\n",
              "      <td>81</td>\n",
              "    </tr>\n",
              "  </tbody>\n",
              "</table>\n",
              "</div>"
            ],
            "text/plain": [
              "  first_name last_name  age  math_score  french_score\n",
              "0     Melvin     Scott   24        77.0            83\n",
              "1     Gerard     Mills   19        78.0            72\n",
              "2        Amy    Grimes   23        91.0            81"
            ]
          },
          "metadata": {
            "tags": []
          },
          "execution_count": 53
        }
      ]
    },
    {
      "cell_type": "markdown",
      "metadata": {
        "id": "3gZtZ67fcBrg"
      },
      "source": [
        "![purple-divider](https://user-images.githubusercontent.com/7065401/52071927-c1cd7100-2562-11e9-908a-dde91ba14e59.png)"
      ]
    }
  ]
}