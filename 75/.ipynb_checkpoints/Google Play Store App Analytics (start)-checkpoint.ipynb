{
 "cells": [
  {
   "cell_type": "markdown",
   "metadata": {
    "dc": {
     "key": "4"
    },
    "id": "-Sxae4jbdiT2",
    "run_control": {
     "frozen": true
    },
    "tags": [
     "context"
    ]
   },
   "source": [
    "# Introduction\n",
    "\n",
    "In this notebook, we will do a comprehensive analysis of the Android app market by comparing thousands of apps in the Google Play store."
   ]
  },
  {
   "cell_type": "markdown",
   "metadata": {
    "id": "sDT5lMxadiT3"
   },
   "source": [
    "# About the Dataset of Google Play Store Apps & Reviews"
   ]
  },
  {
   "cell_type": "markdown",
   "metadata": {
    "id": "5CiydsdNdiT3"
   },
   "source": [
    "**Data Source:** <br>\n",
    "App and review data was scraped from the Google Play Store by Lavanya Gupta in 2018. Original files listed [here](\n",
    "https://www.kaggle.com/lava18/google-play-store-apps)."
   ]
  },
  {
   "cell_type": "markdown",
   "metadata": {
    "id": "BBKBNy4UdiT4"
   },
   "source": [
    "# Import Statements"
   ]
  },
  {
   "cell_type": "code",
   "execution_count": 75,
   "metadata": {
    "executionInfo": {
     "elapsed": 594,
     "status": "ok",
     "timestamp": 1602234478794,
     "user": {
      "displayName": "Philipp Muellauer",
      "photoUrl": "https://lh3.googleusercontent.com/a-/AOh14GjjWitgsmZ0M9Wmzf-SRYD005WcMGhejWWHMUiZnFw=s64",
      "userId": "02749974243016517270"
     },
     "user_tz": -60
    },
    "id": "_5mfFH4_diT4"
   },
   "outputs": [],
   "source": [
    "import pandas as pd\n"
   ]
  },
  {
   "cell_type": "markdown",
   "metadata": {
    "id": "KegC9nPDdiT7"
   },
   "source": [
    "# Notebook Presentation"
   ]
  },
  {
   "cell_type": "code",
   "execution_count": 76,
   "metadata": {
    "id": "WPL7rhJndiT7"
   },
   "outputs": [],
   "source": [
    "# Show numeric output in decimal format e.g., 2.15\n",
    "pd.options.display.float_format = '{:,.2f}'.format"
   ]
  },
  {
   "cell_type": "markdown",
   "metadata": {
    "id": "Uc9LOZu9diT-"
   },
   "source": [
    "# Read the Dataset"
   ]
  },
  {
   "cell_type": "code",
   "execution_count": 77,
   "metadata": {
    "colab": {
     "base_uri": "https://localhost:8080/",
     "height": 375
    },
    "executionInfo": {
     "elapsed": 441,
     "status": "error",
     "timestamp": 1602234486357,
     "user": {
      "displayName": "Philipp Muellauer",
      "photoUrl": "https://lh3.googleusercontent.com/a-/AOh14GjjWitgsmZ0M9Wmzf-SRYD005WcMGhejWWHMUiZnFw=s64",
      "userId": "02749974243016517270"
     },
     "user_tz": -60
    },
    "id": "zU0Zisv_diT-",
    "outputId": "f88a917e-30a1-45a4-b17a-ab21e557913c"
   },
   "outputs": [],
   "source": [
    "df_apps = pd.read_csv('apps.csv')"
   ]
  },
  {
   "cell_type": "markdown",
   "metadata": {
    "id": "iKvSUwQldiUA"
   },
   "source": [
    "# Data Cleaning"
   ]
  },
  {
   "cell_type": "markdown",
   "metadata": {
    "id": "MWTzYZIds5L9"
   },
   "source": [
    "**Challenge**: How many rows and columns does `df_apps` have? What are the column names? Look at a random sample of 5 different rows with [.sample()](https://pandas.pydata.org/pandas-docs/stable/reference/api/pandas.DataFrame.sample.html)."
   ]
  },
  {
   "cell_type": "code",
   "execution_count": 78,
   "metadata": {
    "id": "HJI7UsPrnuRf"
   },
   "outputs": [
    {
     "data": {
      "text/plain": [
       "(10841, 12)"
      ]
     },
     "execution_count": 78,
     "metadata": {},
     "output_type": "execute_result"
    }
   ],
   "source": [
    "df_apps.shape"
   ]
  },
  {
   "cell_type": "code",
   "execution_count": 79,
   "metadata": {
    "id": "fKXFjPkmnuYA"
   },
   "outputs": [
    {
     "data": {
      "text/plain": [
       "Index(['App', 'Category', 'Rating', 'Reviews', 'Size_MBs', 'Installs', 'Type',\n",
       "       'Price', 'Content_Rating', 'Genres', 'Last_Updated', 'Android_Ver'],\n",
       "      dtype='object')"
      ]
     },
     "execution_count": 79,
     "metadata": {},
     "output_type": "execute_result"
    }
   ],
   "source": [
    "df_apps.columns"
   ]
  },
  {
   "cell_type": "code",
   "execution_count": 80,
   "metadata": {
    "id": "MUluaHF5nueH"
   },
   "outputs": [
    {
     "data": {
      "text/html": [
       "<div>\n",
       "<style scoped>\n",
       "    .dataframe tbody tr th:only-of-type {\n",
       "        vertical-align: middle;\n",
       "    }\n",
       "\n",
       "    .dataframe tbody tr th {\n",
       "        vertical-align: top;\n",
       "    }\n",
       "\n",
       "    .dataframe thead th {\n",
       "        text-align: right;\n",
       "    }\n",
       "</style>\n",
       "<table border=\"1\" class=\"dataframe\">\n",
       "  <thead>\n",
       "    <tr style=\"text-align: right;\">\n",
       "      <th></th>\n",
       "      <th>App</th>\n",
       "      <th>Category</th>\n",
       "      <th>Rating</th>\n",
       "      <th>Reviews</th>\n",
       "      <th>Size_MBs</th>\n",
       "      <th>Installs</th>\n",
       "      <th>Type</th>\n",
       "      <th>Price</th>\n",
       "      <th>Content_Rating</th>\n",
       "      <th>Genres</th>\n",
       "      <th>Last_Updated</th>\n",
       "      <th>Android_Ver</th>\n",
       "    </tr>\n",
       "  </thead>\n",
       "  <tbody>\n",
       "    <tr>\n",
       "      <th>9139</th>\n",
       "      <td>Runkeeper - GPS Track Run Walk</td>\n",
       "      <td>HEALTH_AND_FITNESS</td>\n",
       "      <td>4.50</td>\n",
       "      <td>501144</td>\n",
       "      <td>8.80</td>\n",
       "      <td>10,000,000</td>\n",
       "      <td>Free</td>\n",
       "      <td>0</td>\n",
       "      <td>Everyone</td>\n",
       "      <td>Health &amp; Fitness</td>\n",
       "      <td>July 16, 2018</td>\n",
       "      <td>Varies with device</td>\n",
       "    </tr>\n",
       "    <tr>\n",
       "      <th>6838</th>\n",
       "      <td>join.me - Simple Meetings</td>\n",
       "      <td>BUSINESS</td>\n",
       "      <td>4.00</td>\n",
       "      <td>6989</td>\n",
       "      <td>7.20</td>\n",
       "      <td>1,000,000</td>\n",
       "      <td>Free</td>\n",
       "      <td>0</td>\n",
       "      <td>Everyone</td>\n",
       "      <td>Business</td>\n",
       "      <td>July 16, 2018</td>\n",
       "      <td>4.4 and up</td>\n",
       "    </tr>\n",
       "    <tr>\n",
       "      <th>9317</th>\n",
       "      <td>ESPN</td>\n",
       "      <td>SPORTS</td>\n",
       "      <td>4.20</td>\n",
       "      <td>521140</td>\n",
       "      <td>14.00</td>\n",
       "      <td>10,000,000</td>\n",
       "      <td>Free</td>\n",
       "      <td>0</td>\n",
       "      <td>Everyone 10+</td>\n",
       "      <td>Sports</td>\n",
       "      <td>July 19, 2018</td>\n",
       "      <td>5.0 and up</td>\n",
       "    </tr>\n",
       "    <tr>\n",
       "      <th>7061</th>\n",
       "      <td>SMHI Weather</td>\n",
       "      <td>WEATHER</td>\n",
       "      <td>3.50</td>\n",
       "      <td>11297</td>\n",
       "      <td>4.75</td>\n",
       "      <td>1,000,000</td>\n",
       "      <td>Free</td>\n",
       "      <td>0</td>\n",
       "      <td>Everyone</td>\n",
       "      <td>Weather</td>\n",
       "      <td>June 26, 2018</td>\n",
       "      <td>Varies with device</td>\n",
       "    </tr>\n",
       "    <tr>\n",
       "      <th>9320</th>\n",
       "      <td>SofaScore Live Score</td>\n",
       "      <td>SPORTS</td>\n",
       "      <td>4.80</td>\n",
       "      <td>221722</td>\n",
       "      <td>14.00</td>\n",
       "      <td>10,000,000</td>\n",
       "      <td>Free</td>\n",
       "      <td>0</td>\n",
       "      <td>Everyone</td>\n",
       "      <td>Sports</td>\n",
       "      <td>July 26, 2018</td>\n",
       "      <td>Varies with device</td>\n",
       "    </tr>\n",
       "  </tbody>\n",
       "</table>\n",
       "</div>"
      ],
      "text/plain": [
       "                                 App            Category  Rating  Reviews  \\\n",
       "9139  Runkeeper - GPS Track Run Walk  HEALTH_AND_FITNESS    4.50   501144   \n",
       "6838       join.me - Simple Meetings            BUSINESS    4.00     6989   \n",
       "9317                            ESPN              SPORTS    4.20   521140   \n",
       "7061                    SMHI Weather             WEATHER    3.50    11297   \n",
       "9320            SofaScore Live Score              SPORTS    4.80   221722   \n",
       "\n",
       "      Size_MBs    Installs  Type Price Content_Rating            Genres  \\\n",
       "9139      8.80  10,000,000  Free     0       Everyone  Health & Fitness   \n",
       "6838      7.20   1,000,000  Free     0       Everyone          Business   \n",
       "9317     14.00  10,000,000  Free     0   Everyone 10+            Sports   \n",
       "7061      4.75   1,000,000  Free     0       Everyone           Weather   \n",
       "9320     14.00  10,000,000  Free     0       Everyone            Sports   \n",
       "\n",
       "       Last_Updated         Android_Ver  \n",
       "9139  July 16, 2018  Varies with device  \n",
       "6838  July 16, 2018          4.4 and up  \n",
       "9317  July 19, 2018          5.0 and up  \n",
       "7061  June 26, 2018  Varies with device  \n",
       "9320  July 26, 2018  Varies with device  "
      ]
     },
     "execution_count": 80,
     "metadata": {},
     "output_type": "execute_result"
    }
   ],
   "source": [
    "df_apps.sample(5)"
   ]
  },
  {
   "cell_type": "markdown",
   "metadata": {
    "id": "Hh81sMcvdiUI"
   },
   "source": [
    "### Drop Unused Columns\n",
    "\n",
    "**Challenge**: Remove the columns called `Last_Updated` and `Android_Version` from the DataFrame. We will not use these columns. "
   ]
  },
  {
   "cell_type": "code",
   "execution_count": 81,
   "metadata": {
    "id": "t7EMSKAOnyzI"
   },
   "outputs": [],
   "source": [
    "df_apps.drop(columns=['Last_Updated', 'Android_Ver'], inplace=True)"
   ]
  },
  {
   "cell_type": "code",
   "execution_count": 82,
   "metadata": {},
   "outputs": [
    {
     "data": {
      "text/html": [
       "<div>\n",
       "<style scoped>\n",
       "    .dataframe tbody tr th:only-of-type {\n",
       "        vertical-align: middle;\n",
       "    }\n",
       "\n",
       "    .dataframe tbody tr th {\n",
       "        vertical-align: top;\n",
       "    }\n",
       "\n",
       "    .dataframe thead th {\n",
       "        text-align: right;\n",
       "    }\n",
       "</style>\n",
       "<table border=\"1\" class=\"dataframe\">\n",
       "  <thead>\n",
       "    <tr style=\"text-align: right;\">\n",
       "      <th></th>\n",
       "      <th>App</th>\n",
       "      <th>Category</th>\n",
       "      <th>Rating</th>\n",
       "      <th>Reviews</th>\n",
       "      <th>Size_MBs</th>\n",
       "      <th>Installs</th>\n",
       "      <th>Type</th>\n",
       "      <th>Price</th>\n",
       "      <th>Content_Rating</th>\n",
       "      <th>Genres</th>\n",
       "    </tr>\n",
       "  </thead>\n",
       "  <tbody>\n",
       "    <tr>\n",
       "      <th>3711</th>\n",
       "      <td>The Vietnam Story - Fun Stories</td>\n",
       "      <td>COMICS</td>\n",
       "      <td>4.50</td>\n",
       "      <td>438</td>\n",
       "      <td>3.40</td>\n",
       "      <td>10,000</td>\n",
       "      <td>Free</td>\n",
       "      <td>0</td>\n",
       "      <td>Everyone</td>\n",
       "      <td>Comics</td>\n",
       "    </tr>\n",
       "    <tr>\n",
       "      <th>596</th>\n",
       "      <td>FORD V SERIES CALC - NO LIMIT</td>\n",
       "      <td>AUTO_AND_VEHICLES</td>\n",
       "      <td>NaN</td>\n",
       "      <td>2</td>\n",
       "      <td>17.00</td>\n",
       "      <td>50</td>\n",
       "      <td>Paid</td>\n",
       "      <td>$9.99</td>\n",
       "      <td>Everyone</td>\n",
       "      <td>Auto &amp; Vehicles</td>\n",
       "    </tr>\n",
       "    <tr>\n",
       "      <th>8996</th>\n",
       "      <td>Marble - Temple Quest</td>\n",
       "      <td>GAME</td>\n",
       "      <td>4.30</td>\n",
       "      <td>42053</td>\n",
       "      <td>24.00</td>\n",
       "      <td>10,000,000</td>\n",
       "      <td>Free</td>\n",
       "      <td>0</td>\n",
       "      <td>Everyone</td>\n",
       "      <td>Puzzle</td>\n",
       "    </tr>\n",
       "    <tr>\n",
       "      <th>3375</th>\n",
       "      <td>DRAGON QUEST V</td>\n",
       "      <td>FAMILY</td>\n",
       "      <td>4.70</td>\n",
       "      <td>1667</td>\n",
       "      <td>17.00</td>\n",
       "      <td>10,000</td>\n",
       "      <td>Paid</td>\n",
       "      <td>$14.99</td>\n",
       "      <td>Teen</td>\n",
       "      <td>Role Playing</td>\n",
       "    </tr>\n",
       "    <tr>\n",
       "      <th>8452</th>\n",
       "      <td>Daily Yoga - Yoga Fitness Plans</td>\n",
       "      <td>HEALTH_AND_FITNESS</td>\n",
       "      <td>4.40</td>\n",
       "      <td>70769</td>\n",
       "      <td>35.00</td>\n",
       "      <td>5,000,000</td>\n",
       "      <td>Free</td>\n",
       "      <td>0</td>\n",
       "      <td>Everyone</td>\n",
       "      <td>Health &amp; Fitness</td>\n",
       "    </tr>\n",
       "  </tbody>\n",
       "</table>\n",
       "</div>"
      ],
      "text/plain": [
       "                                  App            Category  Rating  Reviews  \\\n",
       "3711  The Vietnam Story - Fun Stories              COMICS    4.50      438   \n",
       "596     FORD V SERIES CALC - NO LIMIT   AUTO_AND_VEHICLES     NaN        2   \n",
       "8996            Marble - Temple Quest                GAME    4.30    42053   \n",
       "3375                   DRAGON QUEST V              FAMILY    4.70     1667   \n",
       "8452  Daily Yoga - Yoga Fitness Plans  HEALTH_AND_FITNESS    4.40    70769   \n",
       "\n",
       "      Size_MBs    Installs  Type   Price Content_Rating            Genres  \n",
       "3711      3.40      10,000  Free       0       Everyone            Comics  \n",
       "596      17.00          50  Paid   $9.99       Everyone   Auto & Vehicles  \n",
       "8996     24.00  10,000,000  Free       0       Everyone            Puzzle  \n",
       "3375     17.00      10,000  Paid  $14.99           Teen      Role Playing  \n",
       "8452     35.00   5,000,000  Free       0       Everyone  Health & Fitness  "
      ]
     },
     "execution_count": 82,
     "metadata": {},
     "output_type": "execute_result"
    }
   ],
   "source": [
    "df_apps.sample(5)"
   ]
  },
  {
   "cell_type": "markdown",
   "metadata": {
    "id": "YQGe1DIKdiUM"
   },
   "source": [
    "### Find and Remove NaN values in Ratings\n",
    "\n",
    "**Challenge**: How may rows have a NaN value (not-a-number) in the Ratings column? Create DataFrame called `df_apps_clean` that does not include these rows. "
   ]
  },
  {
   "cell_type": "code",
   "execution_count": 83,
   "metadata": {
    "id": "grcP1IOZn1Wv"
   },
   "outputs": [
    {
     "data": {
      "text/plain": [
       "1474"
      ]
     },
     "execution_count": 83,
     "metadata": {},
     "output_type": "execute_result"
    }
   ],
   "source": [
    "df_apps.Rating.isna().values.sum()"
   ]
  },
  {
   "cell_type": "code",
   "execution_count": 84,
   "metadata": {
    "id": "IbQnnPaUn1Pw"
   },
   "outputs": [],
   "source": [
    "df_apps_clean = df_apps.dropna()"
   ]
  },
  {
   "cell_type": "code",
   "execution_count": 85,
   "metadata": {},
   "outputs": [
    {
     "data": {
      "text/plain": [
       "(9367, 10)"
      ]
     },
     "execution_count": 85,
     "metadata": {},
     "output_type": "execute_result"
    }
   ],
   "source": [
    "df_apps_clean.shape"
   ]
  },
  {
   "cell_type": "markdown",
   "metadata": {
    "id": "pD26SWlxdiUV"
   },
   "source": [
    "### Find and Remove Duplicates\n",
    "\n",
    "**Challenge**: Are there any duplicates in data? Check for duplicates using the [.duplicated()](https://pandas.pydata.org/pandas-docs/stable/reference/api/pandas.DataFrame.duplicated.html) function. How many entries can you find for the \"Instagram\" app? Use [.drop_duplicates()](https://pandas.pydata.org/pandas-docs/stable/reference/api/pandas.DataFrame.drop_duplicates.html) to remove any duplicates from `df_apps_clean`. \n"
   ]
  },
  {
   "cell_type": "code",
   "execution_count": 86,
   "metadata": {
    "id": "lE7X6KG3n5pR"
   },
   "outputs": [
    {
     "name": "stdout",
     "output_type": "stream",
     "text": [
      "(476, 10)\n"
     ]
    },
    {
     "data": {
      "text/html": [
       "<div>\n",
       "<style scoped>\n",
       "    .dataframe tbody tr th:only-of-type {\n",
       "        vertical-align: middle;\n",
       "    }\n",
       "\n",
       "    .dataframe tbody tr th {\n",
       "        vertical-align: top;\n",
       "    }\n",
       "\n",
       "    .dataframe thead th {\n",
       "        text-align: right;\n",
       "    }\n",
       "</style>\n",
       "<table border=\"1\" class=\"dataframe\">\n",
       "  <thead>\n",
       "    <tr style=\"text-align: right;\">\n",
       "      <th></th>\n",
       "      <th>App</th>\n",
       "      <th>Category</th>\n",
       "      <th>Rating</th>\n",
       "      <th>Reviews</th>\n",
       "      <th>Size_MBs</th>\n",
       "      <th>Installs</th>\n",
       "      <th>Type</th>\n",
       "      <th>Price</th>\n",
       "      <th>Content_Rating</th>\n",
       "      <th>Genres</th>\n",
       "    </tr>\n",
       "  </thead>\n",
       "  <tbody>\n",
       "    <tr>\n",
       "      <th>946</th>\n",
       "      <td>420 BZ Budeze Delivery</td>\n",
       "      <td>MEDICAL</td>\n",
       "      <td>5.00</td>\n",
       "      <td>2</td>\n",
       "      <td>11.00</td>\n",
       "      <td>100</td>\n",
       "      <td>Free</td>\n",
       "      <td>0</td>\n",
       "      <td>Mature 17+</td>\n",
       "      <td>Medical</td>\n",
       "    </tr>\n",
       "    <tr>\n",
       "      <th>1133</th>\n",
       "      <td>MouseMingle</td>\n",
       "      <td>DATING</td>\n",
       "      <td>2.70</td>\n",
       "      <td>3</td>\n",
       "      <td>3.90</td>\n",
       "      <td>100</td>\n",
       "      <td>Free</td>\n",
       "      <td>0</td>\n",
       "      <td>Mature 17+</td>\n",
       "      <td>Dating</td>\n",
       "    </tr>\n",
       "    <tr>\n",
       "      <th>1196</th>\n",
       "      <td>Cardiac diagnosis (heart rate, arrhythmia)</td>\n",
       "      <td>MEDICAL</td>\n",
       "      <td>4.40</td>\n",
       "      <td>8</td>\n",
       "      <td>6.50</td>\n",
       "      <td>100</td>\n",
       "      <td>Paid</td>\n",
       "      <td>$12.99</td>\n",
       "      <td>Everyone</td>\n",
       "      <td>Medical</td>\n",
       "    </tr>\n",
       "    <tr>\n",
       "      <th>1231</th>\n",
       "      <td>Sway Medical</td>\n",
       "      <td>MEDICAL</td>\n",
       "      <td>5.00</td>\n",
       "      <td>3</td>\n",
       "      <td>22.00</td>\n",
       "      <td>100</td>\n",
       "      <td>Free</td>\n",
       "      <td>0</td>\n",
       "      <td>Everyone</td>\n",
       "      <td>Medical</td>\n",
       "    </tr>\n",
       "    <tr>\n",
       "      <th>1247</th>\n",
       "      <td>Chat Kids - Chat Room For Kids</td>\n",
       "      <td>DATING</td>\n",
       "      <td>4.70</td>\n",
       "      <td>6</td>\n",
       "      <td>4.90</td>\n",
       "      <td>100</td>\n",
       "      <td>Free</td>\n",
       "      <td>0</td>\n",
       "      <td>Mature 17+</td>\n",
       "      <td>Dating</td>\n",
       "    </tr>\n",
       "  </tbody>\n",
       "</table>\n",
       "</div>"
      ],
      "text/plain": [
       "                                             App Category  Rating  Reviews  \\\n",
       "946                       420 BZ Budeze Delivery  MEDICAL    5.00        2   \n",
       "1133                                 MouseMingle   DATING    2.70        3   \n",
       "1196  Cardiac diagnosis (heart rate, arrhythmia)  MEDICAL    4.40        8   \n",
       "1231                                Sway Medical  MEDICAL    5.00        3   \n",
       "1247              Chat Kids - Chat Room For Kids   DATING    4.70        6   \n",
       "\n",
       "      Size_MBs Installs  Type   Price Content_Rating   Genres  \n",
       "946      11.00      100  Free       0     Mature 17+  Medical  \n",
       "1133      3.90      100  Free       0     Mature 17+   Dating  \n",
       "1196      6.50      100  Paid  $12.99       Everyone  Medical  \n",
       "1231     22.00      100  Free       0       Everyone  Medical  \n",
       "1247      4.90      100  Free       0     Mature 17+   Dating  "
      ]
     },
     "execution_count": 86,
     "metadata": {},
     "output_type": "execute_result"
    }
   ],
   "source": [
    "duplicated_rows = df_apps_clean[df_apps_clean.duplicated()]\n",
    "print(duplicated_rows.shape)\n",
    "duplicated_rows.head()"
   ]
  },
  {
   "cell_type": "code",
   "execution_count": 87,
   "metadata": {
    "id": "GK2rP7wgn53-"
   },
   "outputs": [],
   "source": [
    "df_apps_clean = df_apps_clean.drop_duplicates(subset=['App','Type','Price'])\n",
    "# drop_duplicated() is very strict, it checks for all values on all cols to check for duplicates\n",
    "# we need to specify cols as subset=[], to make it check for few cols only to judge duplciates and remove them"
   ]
  },
  {
   "cell_type": "code",
   "execution_count": 88,
   "metadata": {
    "id": "Wtt09kiRn6GS"
   },
   "outputs": [
    {
     "data": {
      "text/html": [
       "<div>\n",
       "<style scoped>\n",
       "    .dataframe tbody tr th:only-of-type {\n",
       "        vertical-align: middle;\n",
       "    }\n",
       "\n",
       "    .dataframe tbody tr th {\n",
       "        vertical-align: top;\n",
       "    }\n",
       "\n",
       "    .dataframe thead th {\n",
       "        text-align: right;\n",
       "    }\n",
       "</style>\n",
       "<table border=\"1\" class=\"dataframe\">\n",
       "  <thead>\n",
       "    <tr style=\"text-align: right;\">\n",
       "      <th></th>\n",
       "      <th>App</th>\n",
       "      <th>Category</th>\n",
       "      <th>Rating</th>\n",
       "      <th>Reviews</th>\n",
       "      <th>Size_MBs</th>\n",
       "      <th>Installs</th>\n",
       "      <th>Type</th>\n",
       "      <th>Price</th>\n",
       "      <th>Content_Rating</th>\n",
       "      <th>Genres</th>\n",
       "    </tr>\n",
       "  </thead>\n",
       "  <tbody>\n",
       "    <tr>\n",
       "      <th>10806</th>\n",
       "      <td>Instagram</td>\n",
       "      <td>SOCIAL</td>\n",
       "      <td>4.50</td>\n",
       "      <td>66577313</td>\n",
       "      <td>5.30</td>\n",
       "      <td>1,000,000,000</td>\n",
       "      <td>Free</td>\n",
       "      <td>0</td>\n",
       "      <td>Teen</td>\n",
       "      <td>Social</td>\n",
       "    </tr>\n",
       "  </tbody>\n",
       "</table>\n",
       "</div>"
      ],
      "text/plain": [
       "             App Category  Rating   Reviews  Size_MBs       Installs  Type  \\\n",
       "10806  Instagram   SOCIAL    4.50  66577313      5.30  1,000,000,000  Free   \n",
       "\n",
       "      Price Content_Rating  Genres  \n",
       "10806     0           Teen  Social  "
      ]
     },
     "execution_count": 88,
     "metadata": {},
     "output_type": "execute_result"
    }
   ],
   "source": [
    "df_apps_clean[df_apps_clean.App == 'Instagram']"
   ]
  },
  {
   "cell_type": "code",
   "execution_count": null,
   "metadata": {
    "id": "30yZCwtKn5xC"
   },
   "outputs": [],
   "source": []
  },
  {
   "cell_type": "code",
   "execution_count": null,
   "metadata": {
    "id": "AagS_wgWn5ib"
   },
   "outputs": [],
   "source": []
  },
  {
   "cell_type": "markdown",
   "metadata": {
    "id": "GJrM69CfdiUh"
   },
   "source": [
    "# Find Highest Rated Apps\n",
    "\n",
    "**Challenge**: Identify which apps are the highest rated. What problem might you encounter if you rely exclusively on ratings alone to determine the quality of an app?"
   ]
  },
  {
   "cell_type": "code",
   "execution_count": 89,
   "metadata": {
    "id": "rp7vFHBMn7st"
   },
   "outputs": [
    {
     "data": {
      "text/html": [
       "<div>\n",
       "<style scoped>\n",
       "    .dataframe tbody tr th:only-of-type {\n",
       "        vertical-align: middle;\n",
       "    }\n",
       "\n",
       "    .dataframe tbody tr th {\n",
       "        vertical-align: top;\n",
       "    }\n",
       "\n",
       "    .dataframe thead th {\n",
       "        text-align: right;\n",
       "    }\n",
       "</style>\n",
       "<table border=\"1\" class=\"dataframe\">\n",
       "  <thead>\n",
       "    <tr style=\"text-align: right;\">\n",
       "      <th></th>\n",
       "      <th>App</th>\n",
       "      <th>Category</th>\n",
       "      <th>Rating</th>\n",
       "      <th>Reviews</th>\n",
       "      <th>Size_MBs</th>\n",
       "      <th>Installs</th>\n",
       "      <th>Type</th>\n",
       "      <th>Price</th>\n",
       "      <th>Content_Rating</th>\n",
       "      <th>Genres</th>\n",
       "    </tr>\n",
       "  </thead>\n",
       "  <tbody>\n",
       "    <tr>\n",
       "      <th>21</th>\n",
       "      <td>KBA-EZ Health Guide</td>\n",
       "      <td>MEDICAL</td>\n",
       "      <td>5.00</td>\n",
       "      <td>4</td>\n",
       "      <td>25.00</td>\n",
       "      <td>1</td>\n",
       "      <td>Free</td>\n",
       "      <td>0</td>\n",
       "      <td>Everyone</td>\n",
       "      <td>Medical</td>\n",
       "    </tr>\n",
       "    <tr>\n",
       "      <th>1230</th>\n",
       "      <td>Sway Medical</td>\n",
       "      <td>MEDICAL</td>\n",
       "      <td>5.00</td>\n",
       "      <td>3</td>\n",
       "      <td>22.00</td>\n",
       "      <td>100</td>\n",
       "      <td>Free</td>\n",
       "      <td>0</td>\n",
       "      <td>Everyone</td>\n",
       "      <td>Medical</td>\n",
       "    </tr>\n",
       "    <tr>\n",
       "      <th>1227</th>\n",
       "      <td>AJ Men's Grooming</td>\n",
       "      <td>LIFESTYLE</td>\n",
       "      <td>5.00</td>\n",
       "      <td>2</td>\n",
       "      <td>22.00</td>\n",
       "      <td>100</td>\n",
       "      <td>Free</td>\n",
       "      <td>0</td>\n",
       "      <td>Everyone</td>\n",
       "      <td>Lifestyle</td>\n",
       "    </tr>\n",
       "    <tr>\n",
       "      <th>1224</th>\n",
       "      <td>FK Dedinje BGD</td>\n",
       "      <td>SPORTS</td>\n",
       "      <td>5.00</td>\n",
       "      <td>36</td>\n",
       "      <td>2.60</td>\n",
       "      <td>100</td>\n",
       "      <td>Free</td>\n",
       "      <td>0</td>\n",
       "      <td>Everyone</td>\n",
       "      <td>Sports</td>\n",
       "    </tr>\n",
       "    <tr>\n",
       "      <th>1223</th>\n",
       "      <td>CB VIDEO VISION</td>\n",
       "      <td>PHOTOGRAPHY</td>\n",
       "      <td>5.00</td>\n",
       "      <td>13</td>\n",
       "      <td>2.60</td>\n",
       "      <td>100</td>\n",
       "      <td>Free</td>\n",
       "      <td>0</td>\n",
       "      <td>Everyone</td>\n",
       "      <td>Photography</td>\n",
       "    </tr>\n",
       "    <tr>\n",
       "      <th>...</th>\n",
       "      <td>...</td>\n",
       "      <td>...</td>\n",
       "      <td>...</td>\n",
       "      <td>...</td>\n",
       "      <td>...</td>\n",
       "      <td>...</td>\n",
       "      <td>...</td>\n",
       "      <td>...</td>\n",
       "      <td>...</td>\n",
       "      <td>...</td>\n",
       "    </tr>\n",
       "    <tr>\n",
       "      <th>1314</th>\n",
       "      <td>CR Magazine</td>\n",
       "      <td>BUSINESS</td>\n",
       "      <td>1.00</td>\n",
       "      <td>1</td>\n",
       "      <td>7.80</td>\n",
       "      <td>100</td>\n",
       "      <td>Free</td>\n",
       "      <td>0</td>\n",
       "      <td>Everyone</td>\n",
       "      <td>Business</td>\n",
       "    </tr>\n",
       "    <tr>\n",
       "      <th>1932</th>\n",
       "      <td>FE Mechanical Engineering Prep</td>\n",
       "      <td>FAMILY</td>\n",
       "      <td>1.00</td>\n",
       "      <td>2</td>\n",
       "      <td>21.00</td>\n",
       "      <td>1,000</td>\n",
       "      <td>Free</td>\n",
       "      <td>0</td>\n",
       "      <td>Everyone</td>\n",
       "      <td>Education</td>\n",
       "    </tr>\n",
       "    <tr>\n",
       "      <th>357</th>\n",
       "      <td>Speech Therapy: F</td>\n",
       "      <td>FAMILY</td>\n",
       "      <td>1.00</td>\n",
       "      <td>1</td>\n",
       "      <td>16.00</td>\n",
       "      <td>10</td>\n",
       "      <td>Paid</td>\n",
       "      <td>$2.99</td>\n",
       "      <td>Everyone</td>\n",
       "      <td>Education</td>\n",
       "    </tr>\n",
       "    <tr>\n",
       "      <th>818</th>\n",
       "      <td>Familial Hypercholesterolaemia Handbook</td>\n",
       "      <td>MEDICAL</td>\n",
       "      <td>1.00</td>\n",
       "      <td>2</td>\n",
       "      <td>33.00</td>\n",
       "      <td>100</td>\n",
       "      <td>Free</td>\n",
       "      <td>0</td>\n",
       "      <td>Everyone</td>\n",
       "      <td>Medical</td>\n",
       "    </tr>\n",
       "    <tr>\n",
       "      <th>1208</th>\n",
       "      <td>Thistletown CI</td>\n",
       "      <td>PRODUCTIVITY</td>\n",
       "      <td>1.00</td>\n",
       "      <td>1</td>\n",
       "      <td>6.60</td>\n",
       "      <td>100</td>\n",
       "      <td>Free</td>\n",
       "      <td>0</td>\n",
       "      <td>Everyone</td>\n",
       "      <td>Productivity</td>\n",
       "    </tr>\n",
       "  </tbody>\n",
       "</table>\n",
       "<p>8199 rows × 10 columns</p>\n",
       "</div>"
      ],
      "text/plain": [
       "                                          App      Category  Rating  Reviews  \\\n",
       "21                        KBA-EZ Health Guide       MEDICAL    5.00        4   \n",
       "1230                             Sway Medical       MEDICAL    5.00        3   \n",
       "1227                        AJ Men's Grooming     LIFESTYLE    5.00        2   \n",
       "1224                           FK Dedinje BGD        SPORTS    5.00       36   \n",
       "1223                          CB VIDEO VISION   PHOTOGRAPHY    5.00       13   \n",
       "...                                       ...           ...     ...      ...   \n",
       "1314                              CR Magazine      BUSINESS    1.00        1   \n",
       "1932           FE Mechanical Engineering Prep        FAMILY    1.00        2   \n",
       "357                         Speech Therapy: F        FAMILY    1.00        1   \n",
       "818   Familial Hypercholesterolaemia Handbook       MEDICAL    1.00        2   \n",
       "1208                           Thistletown CI  PRODUCTIVITY    1.00        1   \n",
       "\n",
       "      Size_MBs Installs  Type  Price Content_Rating        Genres  \n",
       "21       25.00        1  Free      0       Everyone       Medical  \n",
       "1230     22.00      100  Free      0       Everyone       Medical  \n",
       "1227     22.00      100  Free      0       Everyone     Lifestyle  \n",
       "1224      2.60      100  Free      0       Everyone        Sports  \n",
       "1223      2.60      100  Free      0       Everyone   Photography  \n",
       "...        ...      ...   ...    ...            ...           ...  \n",
       "1314      7.80      100  Free      0       Everyone      Business  \n",
       "1932     21.00    1,000  Free      0       Everyone     Education  \n",
       "357      16.00       10  Paid  $2.99       Everyone     Education  \n",
       "818      33.00      100  Free      0       Everyone       Medical  \n",
       "1208      6.60      100  Free      0       Everyone  Productivity  \n",
       "\n",
       "[8199 rows x 10 columns]"
      ]
     },
     "execution_count": 89,
     "metadata": {},
     "output_type": "execute_result"
    }
   ],
   "source": [
    "df_apps_clean.sort_values('Rating', ascending=False)"
   ]
  },
  {
   "cell_type": "markdown",
   "metadata": {
    "id": "28o1Tro4diUi"
   },
   "source": [
    "# Find 5 Largest Apps in terms of Size (MBs)\n",
    "\n",
    "**Challenge**: What's the size in megabytes (MB) of the largest Android apps in the Google Play Store. Based on the data, do you think there could be limit in place or can developers make apps as large as they please? "
   ]
  },
  {
   "cell_type": "code",
   "execution_count": 90,
   "metadata": {
    "id": "n5r0pJCOn9Vu"
   },
   "outputs": [
    {
     "data": {
      "text/html": [
       "<div>\n",
       "<style scoped>\n",
       "    .dataframe tbody tr th:only-of-type {\n",
       "        vertical-align: middle;\n",
       "    }\n",
       "\n",
       "    .dataframe tbody tr th {\n",
       "        vertical-align: top;\n",
       "    }\n",
       "\n",
       "    .dataframe thead th {\n",
       "        text-align: right;\n",
       "    }\n",
       "</style>\n",
       "<table border=\"1\" class=\"dataframe\">\n",
       "  <thead>\n",
       "    <tr style=\"text-align: right;\">\n",
       "      <th></th>\n",
       "      <th>App</th>\n",
       "      <th>Category</th>\n",
       "      <th>Rating</th>\n",
       "      <th>Reviews</th>\n",
       "      <th>Size_MBs</th>\n",
       "      <th>Installs</th>\n",
       "      <th>Type</th>\n",
       "      <th>Price</th>\n",
       "      <th>Content_Rating</th>\n",
       "      <th>Genres</th>\n",
       "    </tr>\n",
       "  </thead>\n",
       "  <tbody>\n",
       "    <tr>\n",
       "      <th>9942</th>\n",
       "      <td>Talking Babsy Baby: Baby Games</td>\n",
       "      <td>LIFESTYLE</td>\n",
       "      <td>4.00</td>\n",
       "      <td>140995</td>\n",
       "      <td>100.00</td>\n",
       "      <td>10,000,000</td>\n",
       "      <td>Free</td>\n",
       "      <td>0</td>\n",
       "      <td>Everyone</td>\n",
       "      <td>Lifestyle;Pretend Play</td>\n",
       "    </tr>\n",
       "    <tr>\n",
       "      <th>10687</th>\n",
       "      <td>Hungry Shark Evolution</td>\n",
       "      <td>GAME</td>\n",
       "      <td>4.50</td>\n",
       "      <td>6074334</td>\n",
       "      <td>100.00</td>\n",
       "      <td>100,000,000</td>\n",
       "      <td>Free</td>\n",
       "      <td>0</td>\n",
       "      <td>Teen</td>\n",
       "      <td>Arcade</td>\n",
       "    </tr>\n",
       "    <tr>\n",
       "      <th>9943</th>\n",
       "      <td>Miami crime simulator</td>\n",
       "      <td>GAME</td>\n",
       "      <td>4.00</td>\n",
       "      <td>254518</td>\n",
       "      <td>100.00</td>\n",
       "      <td>10,000,000</td>\n",
       "      <td>Free</td>\n",
       "      <td>0</td>\n",
       "      <td>Mature 17+</td>\n",
       "      <td>Action</td>\n",
       "    </tr>\n",
       "    <tr>\n",
       "      <th>9944</th>\n",
       "      <td>Gangster Town: Vice District</td>\n",
       "      <td>FAMILY</td>\n",
       "      <td>4.30</td>\n",
       "      <td>65146</td>\n",
       "      <td>100.00</td>\n",
       "      <td>10,000,000</td>\n",
       "      <td>Free</td>\n",
       "      <td>0</td>\n",
       "      <td>Mature 17+</td>\n",
       "      <td>Simulation</td>\n",
       "    </tr>\n",
       "    <tr>\n",
       "      <th>3144</th>\n",
       "      <td>Vi Trainer</td>\n",
       "      <td>HEALTH_AND_FITNESS</td>\n",
       "      <td>3.60</td>\n",
       "      <td>124</td>\n",
       "      <td>100.00</td>\n",
       "      <td>5,000</td>\n",
       "      <td>Free</td>\n",
       "      <td>0</td>\n",
       "      <td>Everyone</td>\n",
       "      <td>Health &amp; Fitness</td>\n",
       "    </tr>\n",
       "  </tbody>\n",
       "</table>\n",
       "</div>"
      ],
      "text/plain": [
       "                                  App            Category  Rating  Reviews  \\\n",
       "9942   Talking Babsy Baby: Baby Games           LIFESTYLE    4.00   140995   \n",
       "10687          Hungry Shark Evolution                GAME    4.50  6074334   \n",
       "9943            Miami crime simulator                GAME    4.00   254518   \n",
       "9944     Gangster Town: Vice District              FAMILY    4.30    65146   \n",
       "3144                       Vi Trainer  HEALTH_AND_FITNESS    3.60      124   \n",
       "\n",
       "       Size_MBs     Installs  Type Price Content_Rating  \\\n",
       "9942     100.00   10,000,000  Free     0       Everyone   \n",
       "10687    100.00  100,000,000  Free     0           Teen   \n",
       "9943     100.00   10,000,000  Free     0     Mature 17+   \n",
       "9944     100.00   10,000,000  Free     0     Mature 17+   \n",
       "3144     100.00        5,000  Free     0       Everyone   \n",
       "\n",
       "                       Genres  \n",
       "9942   Lifestyle;Pretend Play  \n",
       "10687                  Arcade  \n",
       "9943                   Action  \n",
       "9944               Simulation  \n",
       "3144         Health & Fitness  "
      ]
     },
     "execution_count": 90,
     "metadata": {},
     "output_type": "execute_result"
    }
   ],
   "source": [
    "df_apps_clean.sort_values('Size_MBs', ascending=False).head()"
   ]
  },
  {
   "cell_type": "markdown",
   "metadata": {
    "id": "C3gTckh7diUk"
   },
   "source": [
    "# Find the 5 App with Most Reviews\n",
    "\n",
    "**Challenge**: Which apps have the highest number of reviews? Are there any paid apps among the top 50?"
   ]
  },
  {
   "cell_type": "code",
   "execution_count": 91,
   "metadata": {
    "id": "TLt98G0Sn_De"
   },
   "outputs": [
    {
     "data": {
      "text/html": [
       "<div>\n",
       "<style scoped>\n",
       "    .dataframe tbody tr th:only-of-type {\n",
       "        vertical-align: middle;\n",
       "    }\n",
       "\n",
       "    .dataframe tbody tr th {\n",
       "        vertical-align: top;\n",
       "    }\n",
       "\n",
       "    .dataframe thead th {\n",
       "        text-align: right;\n",
       "    }\n",
       "</style>\n",
       "<table border=\"1\" class=\"dataframe\">\n",
       "  <thead>\n",
       "    <tr style=\"text-align: right;\">\n",
       "      <th></th>\n",
       "      <th>App</th>\n",
       "      <th>Category</th>\n",
       "      <th>Rating</th>\n",
       "      <th>Reviews</th>\n",
       "      <th>Size_MBs</th>\n",
       "      <th>Installs</th>\n",
       "      <th>Type</th>\n",
       "      <th>Price</th>\n",
       "      <th>Content_Rating</th>\n",
       "      <th>Genres</th>\n",
       "    </tr>\n",
       "  </thead>\n",
       "  <tbody>\n",
       "    <tr>\n",
       "      <th>10805</th>\n",
       "      <td>Facebook</td>\n",
       "      <td>SOCIAL</td>\n",
       "      <td>4.10</td>\n",
       "      <td>78158306</td>\n",
       "      <td>5.30</td>\n",
       "      <td>1,000,000,000</td>\n",
       "      <td>Free</td>\n",
       "      <td>0</td>\n",
       "      <td>Teen</td>\n",
       "      <td>Social</td>\n",
       "    </tr>\n",
       "    <tr>\n",
       "      <th>10785</th>\n",
       "      <td>WhatsApp Messenger</td>\n",
       "      <td>COMMUNICATION</td>\n",
       "      <td>4.40</td>\n",
       "      <td>69119316</td>\n",
       "      <td>3.50</td>\n",
       "      <td>1,000,000,000</td>\n",
       "      <td>Free</td>\n",
       "      <td>0</td>\n",
       "      <td>Everyone</td>\n",
       "      <td>Communication</td>\n",
       "    </tr>\n",
       "    <tr>\n",
       "      <th>10806</th>\n",
       "      <td>Instagram</td>\n",
       "      <td>SOCIAL</td>\n",
       "      <td>4.50</td>\n",
       "      <td>66577313</td>\n",
       "      <td>5.30</td>\n",
       "      <td>1,000,000,000</td>\n",
       "      <td>Free</td>\n",
       "      <td>0</td>\n",
       "      <td>Teen</td>\n",
       "      <td>Social</td>\n",
       "    </tr>\n",
       "    <tr>\n",
       "      <th>10784</th>\n",
       "      <td>Messenger – Text and Video Chat for Free</td>\n",
       "      <td>COMMUNICATION</td>\n",
       "      <td>4.00</td>\n",
       "      <td>56642847</td>\n",
       "      <td>3.50</td>\n",
       "      <td>1,000,000,000</td>\n",
       "      <td>Free</td>\n",
       "      <td>0</td>\n",
       "      <td>Everyone</td>\n",
       "      <td>Communication</td>\n",
       "    </tr>\n",
       "    <tr>\n",
       "      <th>10650</th>\n",
       "      <td>Clash of Clans</td>\n",
       "      <td>GAME</td>\n",
       "      <td>4.60</td>\n",
       "      <td>44891723</td>\n",
       "      <td>98.00</td>\n",
       "      <td>100,000,000</td>\n",
       "      <td>Free</td>\n",
       "      <td>0</td>\n",
       "      <td>Everyone 10+</td>\n",
       "      <td>Strategy</td>\n",
       "    </tr>\n",
       "  </tbody>\n",
       "</table>\n",
       "</div>"
      ],
      "text/plain": [
       "                                            App       Category  Rating  \\\n",
       "10805                                  Facebook         SOCIAL    4.10   \n",
       "10785                        WhatsApp Messenger  COMMUNICATION    4.40   \n",
       "10806                                 Instagram         SOCIAL    4.50   \n",
       "10784  Messenger – Text and Video Chat for Free  COMMUNICATION    4.00   \n",
       "10650                            Clash of Clans           GAME    4.60   \n",
       "\n",
       "        Reviews  Size_MBs       Installs  Type Price Content_Rating  \\\n",
       "10805  78158306      5.30  1,000,000,000  Free     0           Teen   \n",
       "10785  69119316      3.50  1,000,000,000  Free     0       Everyone   \n",
       "10806  66577313      5.30  1,000,000,000  Free     0           Teen   \n",
       "10784  56642847      3.50  1,000,000,000  Free     0       Everyone   \n",
       "10650  44891723     98.00    100,000,000  Free     0   Everyone 10+   \n",
       "\n",
       "              Genres  \n",
       "10805         Social  \n",
       "10785  Communication  \n",
       "10806         Social  \n",
       "10784  Communication  \n",
       "10650       Strategy  "
      ]
     },
     "execution_count": 91,
     "metadata": {},
     "output_type": "execute_result"
    }
   ],
   "source": [
    "df_apps_clean.sort_values('Reviews', ascending=False).head()"
   ]
  },
  {
   "cell_type": "markdown",
   "metadata": {
    "id": "BFoRqpezjebe"
   },
   "source": [
    "# Plotly Pie and Donut Charts - Visualise Categorical Data: Content Ratings"
   ]
  },
  {
   "cell_type": "code",
   "execution_count": 92,
   "metadata": {
    "id": "c0IIxNGnoFKM"
   },
   "outputs": [
    {
     "data": {
      "text/plain": [
       "Everyone           6621\n",
       "Teen                912\n",
       "Mature 17+          357\n",
       "Everyone 10+        305\n",
       "Adults only 18+       3\n",
       "Unrated               1\n",
       "Name: Content_Rating, dtype: int64"
      ]
     },
     "execution_count": 92,
     "metadata": {},
     "output_type": "execute_result"
    }
   ],
   "source": [
    "ratings = df_apps_clean.Content_Rating.value_counts()\n",
    "ratings"
   ]
  },
  {
   "cell_type": "code",
   "execution_count": 93,
   "metadata": {},
   "outputs": [
    {
     "name": "stdout",
     "output_type": "stream",
     "text": [
      "Requirement already satisfied: plotly in /Users/swayam/Desktop/data-science/venv/lib/python3.8/site-packages (5.1.0)\n",
      "Requirement already satisfied: six in /Users/swayam/Desktop/data-science/venv/lib/python3.8/site-packages (from plotly) (1.16.0)\n",
      "Requirement already satisfied: tenacity>=6.2.0 in /Users/swayam/Desktop/data-science/venv/lib/python3.8/site-packages (from plotly) (8.0.1)\n"
     ]
    }
   ],
   "source": [
    "! pip install plotly"
   ]
  },
  {
   "cell_type": "code",
   "execution_count": 94,
   "metadata": {},
   "outputs": [],
   "source": [
    "import plotly.express as px"
   ]
  },
  {
   "cell_type": "code",
   "execution_count": 95,
   "metadata": {},
   "outputs": [
    {
     "name": "stdout",
     "output_type": "stream",
     "text": [
      "Requirement already satisfied: nbformat in /Users/swayam/Desktop/data-science/venv/lib/python3.8/site-packages (5.1.3)\n",
      "Requirement already satisfied: traitlets>=4.1 in /Users/swayam/Desktop/data-science/venv/lib/python3.8/site-packages (from nbformat) (5.0.5)\n",
      "Requirement already satisfied: jsonschema!=2.5.0,>=2.4 in /Users/swayam/Desktop/data-science/venv/lib/python3.8/site-packages (from nbformat) (3.2.0)\n",
      "Requirement already satisfied: ipython-genutils in /Users/swayam/Desktop/data-science/venv/lib/python3.8/site-packages (from nbformat) (0.2.0)\n",
      "Requirement already satisfied: jupyter-core in /Users/swayam/Desktop/data-science/venv/lib/python3.8/site-packages (from nbformat) (4.7.1)\n",
      "Requirement already satisfied: setuptools in /Users/swayam/Desktop/data-science/venv/lib/python3.8/site-packages (from jsonschema!=2.5.0,>=2.4->nbformat) (57.0.0)\n",
      "Requirement already satisfied: attrs>=17.4.0 in /Users/swayam/Desktop/data-science/venv/lib/python3.8/site-packages (from jsonschema!=2.5.0,>=2.4->nbformat) (21.2.0)\n",
      "Requirement already satisfied: six>=1.11.0 in /Users/swayam/Desktop/data-science/venv/lib/python3.8/site-packages (from jsonschema!=2.5.0,>=2.4->nbformat) (1.16.0)\n",
      "Requirement already satisfied: pyrsistent>=0.14.0 in /Users/swayam/Desktop/data-science/venv/lib/python3.8/site-packages (from jsonschema!=2.5.0,>=2.4->nbformat) (0.18.0)\n"
     ]
    }
   ],
   "source": [
    "!pip install --upgrade nbformat"
   ]
  },
  {
   "cell_type": "code",
   "execution_count": 96,
   "metadata": {
    "id": "TSiV6ZkjoFVg"
   },
   "outputs": [
    {
     "data": {
      "application/vnd.plotly.v1+json": {
       "config": {
        "plotlyServerURL": "https://plot.ly"
       },
       "data": [
        {
         "domain": {
          "x": [
           0,
           1
          ],
          "y": [
           0,
           1
          ]
         },
         "hovertemplate": "value=%{value}<extra></extra>",
         "legendgroup": "",
         "name": "",
         "showlegend": false,
         "type": "pie",
         "values": [
          6621,
          912,
          357,
          305,
          3,
          1
         ]
        }
       ],
       "layout": {
        "legend": {
         "tracegroupgap": 0
        },
        "margin": {
         "t": 60
        },
        "template": {
         "data": {
          "bar": [
           {
            "error_x": {
             "color": "#2a3f5f"
            },
            "error_y": {
             "color": "#2a3f5f"
            },
            "marker": {
             "line": {
              "color": "#E5ECF6",
              "width": 0.5
             },
             "pattern": {
              "fillmode": "overlay",
              "size": 10,
              "solidity": 0.2
             }
            },
            "type": "bar"
           }
          ],
          "barpolar": [
           {
            "marker": {
             "line": {
              "color": "#E5ECF6",
              "width": 0.5
             },
             "pattern": {
              "fillmode": "overlay",
              "size": 10,
              "solidity": 0.2
             }
            },
            "type": "barpolar"
           }
          ],
          "carpet": [
           {
            "aaxis": {
             "endlinecolor": "#2a3f5f",
             "gridcolor": "white",
             "linecolor": "white",
             "minorgridcolor": "white",
             "startlinecolor": "#2a3f5f"
            },
            "baxis": {
             "endlinecolor": "#2a3f5f",
             "gridcolor": "white",
             "linecolor": "white",
             "minorgridcolor": "white",
             "startlinecolor": "#2a3f5f"
            },
            "type": "carpet"
           }
          ],
          "choropleth": [
           {
            "colorbar": {
             "outlinewidth": 0,
             "ticks": ""
            },
            "type": "choropleth"
           }
          ],
          "contour": [
           {
            "colorbar": {
             "outlinewidth": 0,
             "ticks": ""
            },
            "colorscale": [
             [
              0,
              "#0d0887"
             ],
             [
              0.1111111111111111,
              "#46039f"
             ],
             [
              0.2222222222222222,
              "#7201a8"
             ],
             [
              0.3333333333333333,
              "#9c179e"
             ],
             [
              0.4444444444444444,
              "#bd3786"
             ],
             [
              0.5555555555555556,
              "#d8576b"
             ],
             [
              0.6666666666666666,
              "#ed7953"
             ],
             [
              0.7777777777777778,
              "#fb9f3a"
             ],
             [
              0.8888888888888888,
              "#fdca26"
             ],
             [
              1,
              "#f0f921"
             ]
            ],
            "type": "contour"
           }
          ],
          "contourcarpet": [
           {
            "colorbar": {
             "outlinewidth": 0,
             "ticks": ""
            },
            "type": "contourcarpet"
           }
          ],
          "heatmap": [
           {
            "colorbar": {
             "outlinewidth": 0,
             "ticks": ""
            },
            "colorscale": [
             [
              0,
              "#0d0887"
             ],
             [
              0.1111111111111111,
              "#46039f"
             ],
             [
              0.2222222222222222,
              "#7201a8"
             ],
             [
              0.3333333333333333,
              "#9c179e"
             ],
             [
              0.4444444444444444,
              "#bd3786"
             ],
             [
              0.5555555555555556,
              "#d8576b"
             ],
             [
              0.6666666666666666,
              "#ed7953"
             ],
             [
              0.7777777777777778,
              "#fb9f3a"
             ],
             [
              0.8888888888888888,
              "#fdca26"
             ],
             [
              1,
              "#f0f921"
             ]
            ],
            "type": "heatmap"
           }
          ],
          "heatmapgl": [
           {
            "colorbar": {
             "outlinewidth": 0,
             "ticks": ""
            },
            "colorscale": [
             [
              0,
              "#0d0887"
             ],
             [
              0.1111111111111111,
              "#46039f"
             ],
             [
              0.2222222222222222,
              "#7201a8"
             ],
             [
              0.3333333333333333,
              "#9c179e"
             ],
             [
              0.4444444444444444,
              "#bd3786"
             ],
             [
              0.5555555555555556,
              "#d8576b"
             ],
             [
              0.6666666666666666,
              "#ed7953"
             ],
             [
              0.7777777777777778,
              "#fb9f3a"
             ],
             [
              0.8888888888888888,
              "#fdca26"
             ],
             [
              1,
              "#f0f921"
             ]
            ],
            "type": "heatmapgl"
           }
          ],
          "histogram": [
           {
            "marker": {
             "pattern": {
              "fillmode": "overlay",
              "size": 10,
              "solidity": 0.2
             }
            },
            "type": "histogram"
           }
          ],
          "histogram2d": [
           {
            "colorbar": {
             "outlinewidth": 0,
             "ticks": ""
            },
            "colorscale": [
             [
              0,
              "#0d0887"
             ],
             [
              0.1111111111111111,
              "#46039f"
             ],
             [
              0.2222222222222222,
              "#7201a8"
             ],
             [
              0.3333333333333333,
              "#9c179e"
             ],
             [
              0.4444444444444444,
              "#bd3786"
             ],
             [
              0.5555555555555556,
              "#d8576b"
             ],
             [
              0.6666666666666666,
              "#ed7953"
             ],
             [
              0.7777777777777778,
              "#fb9f3a"
             ],
             [
              0.8888888888888888,
              "#fdca26"
             ],
             [
              1,
              "#f0f921"
             ]
            ],
            "type": "histogram2d"
           }
          ],
          "histogram2dcontour": [
           {
            "colorbar": {
             "outlinewidth": 0,
             "ticks": ""
            },
            "colorscale": [
             [
              0,
              "#0d0887"
             ],
             [
              0.1111111111111111,
              "#46039f"
             ],
             [
              0.2222222222222222,
              "#7201a8"
             ],
             [
              0.3333333333333333,
              "#9c179e"
             ],
             [
              0.4444444444444444,
              "#bd3786"
             ],
             [
              0.5555555555555556,
              "#d8576b"
             ],
             [
              0.6666666666666666,
              "#ed7953"
             ],
             [
              0.7777777777777778,
              "#fb9f3a"
             ],
             [
              0.8888888888888888,
              "#fdca26"
             ],
             [
              1,
              "#f0f921"
             ]
            ],
            "type": "histogram2dcontour"
           }
          ],
          "mesh3d": [
           {
            "colorbar": {
             "outlinewidth": 0,
             "ticks": ""
            },
            "type": "mesh3d"
           }
          ],
          "parcoords": [
           {
            "line": {
             "colorbar": {
              "outlinewidth": 0,
              "ticks": ""
             }
            },
            "type": "parcoords"
           }
          ],
          "pie": [
           {
            "automargin": true,
            "type": "pie"
           }
          ],
          "scatter": [
           {
            "marker": {
             "colorbar": {
              "outlinewidth": 0,
              "ticks": ""
             }
            },
            "type": "scatter"
           }
          ],
          "scatter3d": [
           {
            "line": {
             "colorbar": {
              "outlinewidth": 0,
              "ticks": ""
             }
            },
            "marker": {
             "colorbar": {
              "outlinewidth": 0,
              "ticks": ""
             }
            },
            "type": "scatter3d"
           }
          ],
          "scattercarpet": [
           {
            "marker": {
             "colorbar": {
              "outlinewidth": 0,
              "ticks": ""
             }
            },
            "type": "scattercarpet"
           }
          ],
          "scattergeo": [
           {
            "marker": {
             "colorbar": {
              "outlinewidth": 0,
              "ticks": ""
             }
            },
            "type": "scattergeo"
           }
          ],
          "scattergl": [
           {
            "marker": {
             "colorbar": {
              "outlinewidth": 0,
              "ticks": ""
             }
            },
            "type": "scattergl"
           }
          ],
          "scattermapbox": [
           {
            "marker": {
             "colorbar": {
              "outlinewidth": 0,
              "ticks": ""
             }
            },
            "type": "scattermapbox"
           }
          ],
          "scatterpolar": [
           {
            "marker": {
             "colorbar": {
              "outlinewidth": 0,
              "ticks": ""
             }
            },
            "type": "scatterpolar"
           }
          ],
          "scatterpolargl": [
           {
            "marker": {
             "colorbar": {
              "outlinewidth": 0,
              "ticks": ""
             }
            },
            "type": "scatterpolargl"
           }
          ],
          "scatterternary": [
           {
            "marker": {
             "colorbar": {
              "outlinewidth": 0,
              "ticks": ""
             }
            },
            "type": "scatterternary"
           }
          ],
          "surface": [
           {
            "colorbar": {
             "outlinewidth": 0,
             "ticks": ""
            },
            "colorscale": [
             [
              0,
              "#0d0887"
             ],
             [
              0.1111111111111111,
              "#46039f"
             ],
             [
              0.2222222222222222,
              "#7201a8"
             ],
             [
              0.3333333333333333,
              "#9c179e"
             ],
             [
              0.4444444444444444,
              "#bd3786"
             ],
             [
              0.5555555555555556,
              "#d8576b"
             ],
             [
              0.6666666666666666,
              "#ed7953"
             ],
             [
              0.7777777777777778,
              "#fb9f3a"
             ],
             [
              0.8888888888888888,
              "#fdca26"
             ],
             [
              1,
              "#f0f921"
             ]
            ],
            "type": "surface"
           }
          ],
          "table": [
           {
            "cells": {
             "fill": {
              "color": "#EBF0F8"
             },
             "line": {
              "color": "white"
             }
            },
            "header": {
             "fill": {
              "color": "#C8D4E3"
             },
             "line": {
              "color": "white"
             }
            },
            "type": "table"
           }
          ]
         },
         "layout": {
          "annotationdefaults": {
           "arrowcolor": "#2a3f5f",
           "arrowhead": 0,
           "arrowwidth": 1
          },
          "autotypenumbers": "strict",
          "coloraxis": {
           "colorbar": {
            "outlinewidth": 0,
            "ticks": ""
           }
          },
          "colorscale": {
           "diverging": [
            [
             0,
             "#8e0152"
            ],
            [
             0.1,
             "#c51b7d"
            ],
            [
             0.2,
             "#de77ae"
            ],
            [
             0.3,
             "#f1b6da"
            ],
            [
             0.4,
             "#fde0ef"
            ],
            [
             0.5,
             "#f7f7f7"
            ],
            [
             0.6,
             "#e6f5d0"
            ],
            [
             0.7,
             "#b8e186"
            ],
            [
             0.8,
             "#7fbc41"
            ],
            [
             0.9,
             "#4d9221"
            ],
            [
             1,
             "#276419"
            ]
           ],
           "sequential": [
            [
             0,
             "#0d0887"
            ],
            [
             0.1111111111111111,
             "#46039f"
            ],
            [
             0.2222222222222222,
             "#7201a8"
            ],
            [
             0.3333333333333333,
             "#9c179e"
            ],
            [
             0.4444444444444444,
             "#bd3786"
            ],
            [
             0.5555555555555556,
             "#d8576b"
            ],
            [
             0.6666666666666666,
             "#ed7953"
            ],
            [
             0.7777777777777778,
             "#fb9f3a"
            ],
            [
             0.8888888888888888,
             "#fdca26"
            ],
            [
             1,
             "#f0f921"
            ]
           ],
           "sequentialminus": [
            [
             0,
             "#0d0887"
            ],
            [
             0.1111111111111111,
             "#46039f"
            ],
            [
             0.2222222222222222,
             "#7201a8"
            ],
            [
             0.3333333333333333,
             "#9c179e"
            ],
            [
             0.4444444444444444,
             "#bd3786"
            ],
            [
             0.5555555555555556,
             "#d8576b"
            ],
            [
             0.6666666666666666,
             "#ed7953"
            ],
            [
             0.7777777777777778,
             "#fb9f3a"
            ],
            [
             0.8888888888888888,
             "#fdca26"
            ],
            [
             1,
             "#f0f921"
            ]
           ]
          },
          "colorway": [
           "#636efa",
           "#EF553B",
           "#00cc96",
           "#ab63fa",
           "#FFA15A",
           "#19d3f3",
           "#FF6692",
           "#B6E880",
           "#FF97FF",
           "#FECB52"
          ],
          "font": {
           "color": "#2a3f5f"
          },
          "geo": {
           "bgcolor": "white",
           "lakecolor": "white",
           "landcolor": "#E5ECF6",
           "showlakes": true,
           "showland": true,
           "subunitcolor": "white"
          },
          "hoverlabel": {
           "align": "left"
          },
          "hovermode": "closest",
          "mapbox": {
           "style": "light"
          },
          "paper_bgcolor": "white",
          "plot_bgcolor": "#E5ECF6",
          "polar": {
           "angularaxis": {
            "gridcolor": "white",
            "linecolor": "white",
            "ticks": ""
           },
           "bgcolor": "#E5ECF6",
           "radialaxis": {
            "gridcolor": "white",
            "linecolor": "white",
            "ticks": ""
           }
          },
          "scene": {
           "xaxis": {
            "backgroundcolor": "#E5ECF6",
            "gridcolor": "white",
            "gridwidth": 2,
            "linecolor": "white",
            "showbackground": true,
            "ticks": "",
            "zerolinecolor": "white"
           },
           "yaxis": {
            "backgroundcolor": "#E5ECF6",
            "gridcolor": "white",
            "gridwidth": 2,
            "linecolor": "white",
            "showbackground": true,
            "ticks": "",
            "zerolinecolor": "white"
           },
           "zaxis": {
            "backgroundcolor": "#E5ECF6",
            "gridcolor": "white",
            "gridwidth": 2,
            "linecolor": "white",
            "showbackground": true,
            "ticks": "",
            "zerolinecolor": "white"
           }
          },
          "shapedefaults": {
           "line": {
            "color": "#2a3f5f"
           }
          },
          "ternary": {
           "aaxis": {
            "gridcolor": "white",
            "linecolor": "white",
            "ticks": ""
           },
           "baxis": {
            "gridcolor": "white",
            "linecolor": "white",
            "ticks": ""
           },
           "bgcolor": "#E5ECF6",
           "caxis": {
            "gridcolor": "white",
            "linecolor": "white",
            "ticks": ""
           }
          },
          "title": {
           "x": 0.05
          },
          "xaxis": {
           "automargin": true,
           "gridcolor": "white",
           "linecolor": "white",
           "ticks": "",
           "title": {
            "standoff": 15
           },
           "zerolinecolor": "white",
           "zerolinewidth": 2
          },
          "yaxis": {
           "automargin": true,
           "gridcolor": "white",
           "linecolor": "white",
           "ticks": "",
           "title": {
            "standoff": 15
           },
           "zerolinecolor": "white",
           "zerolinewidth": 2
          }
         }
        }
       }
      },
      "text/html": [
       "<div>                            <div id=\"b3a26bb7-53d0-4c4a-8ffb-df0b98280607\" class=\"plotly-graph-div\" style=\"height:525px; width:100%;\"></div>            <script type=\"text/javascript\">                require([\"plotly\"], function(Plotly) {                    window.PLOTLYENV=window.PLOTLYENV || {};                                    if (document.getElementById(\"b3a26bb7-53d0-4c4a-8ffb-df0b98280607\")) {                    Plotly.newPlot(                        \"b3a26bb7-53d0-4c4a-8ffb-df0b98280607\",                        [{\"domain\":{\"x\":[0.0,1.0],\"y\":[0.0,1.0]},\"hovertemplate\":\"value=%{value}<extra></extra>\",\"legendgroup\":\"\",\"name\":\"\",\"showlegend\":false,\"type\":\"pie\",\"values\":[6621,912,357,305,3,1]}],                        {\"legend\":{\"tracegroupgap\":0},\"margin\":{\"t\":60},\"template\":{\"data\":{\"bar\":[{\"error_x\":{\"color\":\"#2a3f5f\"},\"error_y\":{\"color\":\"#2a3f5f\"},\"marker\":{\"line\":{\"color\":\"#E5ECF6\",\"width\":0.5},\"pattern\":{\"fillmode\":\"overlay\",\"size\":10,\"solidity\":0.2}},\"type\":\"bar\"}],\"barpolar\":[{\"marker\":{\"line\":{\"color\":\"#E5ECF6\",\"width\":0.5},\"pattern\":{\"fillmode\":\"overlay\",\"size\":10,\"solidity\":0.2}},\"type\":\"barpolar\"}],\"carpet\":[{\"aaxis\":{\"endlinecolor\":\"#2a3f5f\",\"gridcolor\":\"white\",\"linecolor\":\"white\",\"minorgridcolor\":\"white\",\"startlinecolor\":\"#2a3f5f\"},\"baxis\":{\"endlinecolor\":\"#2a3f5f\",\"gridcolor\":\"white\",\"linecolor\":\"white\",\"minorgridcolor\":\"white\",\"startlinecolor\":\"#2a3f5f\"},\"type\":\"carpet\"}],\"choropleth\":[{\"colorbar\":{\"outlinewidth\":0,\"ticks\":\"\"},\"type\":\"choropleth\"}],\"contour\":[{\"colorbar\":{\"outlinewidth\":0,\"ticks\":\"\"},\"colorscale\":[[0.0,\"#0d0887\"],[0.1111111111111111,\"#46039f\"],[0.2222222222222222,\"#7201a8\"],[0.3333333333333333,\"#9c179e\"],[0.4444444444444444,\"#bd3786\"],[0.5555555555555556,\"#d8576b\"],[0.6666666666666666,\"#ed7953\"],[0.7777777777777778,\"#fb9f3a\"],[0.8888888888888888,\"#fdca26\"],[1.0,\"#f0f921\"]],\"type\":\"contour\"}],\"contourcarpet\":[{\"colorbar\":{\"outlinewidth\":0,\"ticks\":\"\"},\"type\":\"contourcarpet\"}],\"heatmap\":[{\"colorbar\":{\"outlinewidth\":0,\"ticks\":\"\"},\"colorscale\":[[0.0,\"#0d0887\"],[0.1111111111111111,\"#46039f\"],[0.2222222222222222,\"#7201a8\"],[0.3333333333333333,\"#9c179e\"],[0.4444444444444444,\"#bd3786\"],[0.5555555555555556,\"#d8576b\"],[0.6666666666666666,\"#ed7953\"],[0.7777777777777778,\"#fb9f3a\"],[0.8888888888888888,\"#fdca26\"],[1.0,\"#f0f921\"]],\"type\":\"heatmap\"}],\"heatmapgl\":[{\"colorbar\":{\"outlinewidth\":0,\"ticks\":\"\"},\"colorscale\":[[0.0,\"#0d0887\"],[0.1111111111111111,\"#46039f\"],[0.2222222222222222,\"#7201a8\"],[0.3333333333333333,\"#9c179e\"],[0.4444444444444444,\"#bd3786\"],[0.5555555555555556,\"#d8576b\"],[0.6666666666666666,\"#ed7953\"],[0.7777777777777778,\"#fb9f3a\"],[0.8888888888888888,\"#fdca26\"],[1.0,\"#f0f921\"]],\"type\":\"heatmapgl\"}],\"histogram\":[{\"marker\":{\"pattern\":{\"fillmode\":\"overlay\",\"size\":10,\"solidity\":0.2}},\"type\":\"histogram\"}],\"histogram2d\":[{\"colorbar\":{\"outlinewidth\":0,\"ticks\":\"\"},\"colorscale\":[[0.0,\"#0d0887\"],[0.1111111111111111,\"#46039f\"],[0.2222222222222222,\"#7201a8\"],[0.3333333333333333,\"#9c179e\"],[0.4444444444444444,\"#bd3786\"],[0.5555555555555556,\"#d8576b\"],[0.6666666666666666,\"#ed7953\"],[0.7777777777777778,\"#fb9f3a\"],[0.8888888888888888,\"#fdca26\"],[1.0,\"#f0f921\"]],\"type\":\"histogram2d\"}],\"histogram2dcontour\":[{\"colorbar\":{\"outlinewidth\":0,\"ticks\":\"\"},\"colorscale\":[[0.0,\"#0d0887\"],[0.1111111111111111,\"#46039f\"],[0.2222222222222222,\"#7201a8\"],[0.3333333333333333,\"#9c179e\"],[0.4444444444444444,\"#bd3786\"],[0.5555555555555556,\"#d8576b\"],[0.6666666666666666,\"#ed7953\"],[0.7777777777777778,\"#fb9f3a\"],[0.8888888888888888,\"#fdca26\"],[1.0,\"#f0f921\"]],\"type\":\"histogram2dcontour\"}],\"mesh3d\":[{\"colorbar\":{\"outlinewidth\":0,\"ticks\":\"\"},\"type\":\"mesh3d\"}],\"parcoords\":[{\"line\":{\"colorbar\":{\"outlinewidth\":0,\"ticks\":\"\"}},\"type\":\"parcoords\"}],\"pie\":[{\"automargin\":true,\"type\":\"pie\"}],\"scatter\":[{\"marker\":{\"colorbar\":{\"outlinewidth\":0,\"ticks\":\"\"}},\"type\":\"scatter\"}],\"scatter3d\":[{\"line\":{\"colorbar\":{\"outlinewidth\":0,\"ticks\":\"\"}},\"marker\":{\"colorbar\":{\"outlinewidth\":0,\"ticks\":\"\"}},\"type\":\"scatter3d\"}],\"scattercarpet\":[{\"marker\":{\"colorbar\":{\"outlinewidth\":0,\"ticks\":\"\"}},\"type\":\"scattercarpet\"}],\"scattergeo\":[{\"marker\":{\"colorbar\":{\"outlinewidth\":0,\"ticks\":\"\"}},\"type\":\"scattergeo\"}],\"scattergl\":[{\"marker\":{\"colorbar\":{\"outlinewidth\":0,\"ticks\":\"\"}},\"type\":\"scattergl\"}],\"scattermapbox\":[{\"marker\":{\"colorbar\":{\"outlinewidth\":0,\"ticks\":\"\"}},\"type\":\"scattermapbox\"}],\"scatterpolar\":[{\"marker\":{\"colorbar\":{\"outlinewidth\":0,\"ticks\":\"\"}},\"type\":\"scatterpolar\"}],\"scatterpolargl\":[{\"marker\":{\"colorbar\":{\"outlinewidth\":0,\"ticks\":\"\"}},\"type\":\"scatterpolargl\"}],\"scatterternary\":[{\"marker\":{\"colorbar\":{\"outlinewidth\":0,\"ticks\":\"\"}},\"type\":\"scatterternary\"}],\"surface\":[{\"colorbar\":{\"outlinewidth\":0,\"ticks\":\"\"},\"colorscale\":[[0.0,\"#0d0887\"],[0.1111111111111111,\"#46039f\"],[0.2222222222222222,\"#7201a8\"],[0.3333333333333333,\"#9c179e\"],[0.4444444444444444,\"#bd3786\"],[0.5555555555555556,\"#d8576b\"],[0.6666666666666666,\"#ed7953\"],[0.7777777777777778,\"#fb9f3a\"],[0.8888888888888888,\"#fdca26\"],[1.0,\"#f0f921\"]],\"type\":\"surface\"}],\"table\":[{\"cells\":{\"fill\":{\"color\":\"#EBF0F8\"},\"line\":{\"color\":\"white\"}},\"header\":{\"fill\":{\"color\":\"#C8D4E3\"},\"line\":{\"color\":\"white\"}},\"type\":\"table\"}]},\"layout\":{\"annotationdefaults\":{\"arrowcolor\":\"#2a3f5f\",\"arrowhead\":0,\"arrowwidth\":1},\"autotypenumbers\":\"strict\",\"coloraxis\":{\"colorbar\":{\"outlinewidth\":0,\"ticks\":\"\"}},\"colorscale\":{\"diverging\":[[0,\"#8e0152\"],[0.1,\"#c51b7d\"],[0.2,\"#de77ae\"],[0.3,\"#f1b6da\"],[0.4,\"#fde0ef\"],[0.5,\"#f7f7f7\"],[0.6,\"#e6f5d0\"],[0.7,\"#b8e186\"],[0.8,\"#7fbc41\"],[0.9,\"#4d9221\"],[1,\"#276419\"]],\"sequential\":[[0.0,\"#0d0887\"],[0.1111111111111111,\"#46039f\"],[0.2222222222222222,\"#7201a8\"],[0.3333333333333333,\"#9c179e\"],[0.4444444444444444,\"#bd3786\"],[0.5555555555555556,\"#d8576b\"],[0.6666666666666666,\"#ed7953\"],[0.7777777777777778,\"#fb9f3a\"],[0.8888888888888888,\"#fdca26\"],[1.0,\"#f0f921\"]],\"sequentialminus\":[[0.0,\"#0d0887\"],[0.1111111111111111,\"#46039f\"],[0.2222222222222222,\"#7201a8\"],[0.3333333333333333,\"#9c179e\"],[0.4444444444444444,\"#bd3786\"],[0.5555555555555556,\"#d8576b\"],[0.6666666666666666,\"#ed7953\"],[0.7777777777777778,\"#fb9f3a\"],[0.8888888888888888,\"#fdca26\"],[1.0,\"#f0f921\"]]},\"colorway\":[\"#636efa\",\"#EF553B\",\"#00cc96\",\"#ab63fa\",\"#FFA15A\",\"#19d3f3\",\"#FF6692\",\"#B6E880\",\"#FF97FF\",\"#FECB52\"],\"font\":{\"color\":\"#2a3f5f\"},\"geo\":{\"bgcolor\":\"white\",\"lakecolor\":\"white\",\"landcolor\":\"#E5ECF6\",\"showlakes\":true,\"showland\":true,\"subunitcolor\":\"white\"},\"hoverlabel\":{\"align\":\"left\"},\"hovermode\":\"closest\",\"mapbox\":{\"style\":\"light\"},\"paper_bgcolor\":\"white\",\"plot_bgcolor\":\"#E5ECF6\",\"polar\":{\"angularaxis\":{\"gridcolor\":\"white\",\"linecolor\":\"white\",\"ticks\":\"\"},\"bgcolor\":\"#E5ECF6\",\"radialaxis\":{\"gridcolor\":\"white\",\"linecolor\":\"white\",\"ticks\":\"\"}},\"scene\":{\"xaxis\":{\"backgroundcolor\":\"#E5ECF6\",\"gridcolor\":\"white\",\"gridwidth\":2,\"linecolor\":\"white\",\"showbackground\":true,\"ticks\":\"\",\"zerolinecolor\":\"white\"},\"yaxis\":{\"backgroundcolor\":\"#E5ECF6\",\"gridcolor\":\"white\",\"gridwidth\":2,\"linecolor\":\"white\",\"showbackground\":true,\"ticks\":\"\",\"zerolinecolor\":\"white\"},\"zaxis\":{\"backgroundcolor\":\"#E5ECF6\",\"gridcolor\":\"white\",\"gridwidth\":2,\"linecolor\":\"white\",\"showbackground\":true,\"ticks\":\"\",\"zerolinecolor\":\"white\"}},\"shapedefaults\":{\"line\":{\"color\":\"#2a3f5f\"}},\"ternary\":{\"aaxis\":{\"gridcolor\":\"white\",\"linecolor\":\"white\",\"ticks\":\"\"},\"baxis\":{\"gridcolor\":\"white\",\"linecolor\":\"white\",\"ticks\":\"\"},\"bgcolor\":\"#E5ECF6\",\"caxis\":{\"gridcolor\":\"white\",\"linecolor\":\"white\",\"ticks\":\"\"}},\"title\":{\"x\":0.05},\"xaxis\":{\"automargin\":true,\"gridcolor\":\"white\",\"linecolor\":\"white\",\"ticks\":\"\",\"title\":{\"standoff\":15},\"zerolinecolor\":\"white\",\"zerolinewidth\":2},\"yaxis\":{\"automargin\":true,\"gridcolor\":\"white\",\"linecolor\":\"white\",\"ticks\":\"\",\"title\":{\"standoff\":15},\"zerolinecolor\":\"white\",\"zerolinewidth\":2}}}},                        {\"responsive\": true}                    ).then(function(){\n",
       "                            \n",
       "var gd = document.getElementById('b3a26bb7-53d0-4c4a-8ffb-df0b98280607');\n",
       "var x = new MutationObserver(function (mutations, observer) {{\n",
       "        var display = window.getComputedStyle(gd).display;\n",
       "        if (!display || display === 'none') {{\n",
       "            console.log([gd, 'removed!']);\n",
       "            Plotly.purge(gd);\n",
       "            observer.disconnect();\n",
       "        }}\n",
       "}});\n",
       "\n",
       "// Listen for the removal of the full notebook cells\n",
       "var notebookContainer = gd.closest('#notebook-container');\n",
       "if (notebookContainer) {{\n",
       "    x.observe(notebookContainer, {childList: true});\n",
       "}}\n",
       "\n",
       "// Listen for the clearing of the current output cell\n",
       "var outputEl = gd.closest('.output');\n",
       "if (outputEl) {{\n",
       "    x.observe(outputEl, {childList: true});\n",
       "}}\n",
       "\n",
       "                        })                };                });            </script>        </div>"
      ]
     },
     "metadata": {},
     "output_type": "display_data"
    }
   ],
   "source": [
    "fig = px.pie(labels=ratings.index, values=ratings.values)\n",
    "fig.show()"
   ]
  },
  {
   "cell_type": "code",
   "execution_count": 97,
   "metadata": {
    "id": "7kil2mdfoFOr"
   },
   "outputs": [
    {
     "data": {
      "application/vnd.plotly.v1+json": {
       "config": {
        "plotlyServerURL": "https://plot.ly"
       },
       "data": [
        {
         "domain": {
          "x": [
           0,
           1
          ],
          "y": [
           0,
           1
          ]
         },
         "hovertemplate": "label=%{label}<br>value=%{value}<extra></extra>",
         "labels": [
          "Everyone",
          "Teen",
          "Mature 17+",
          "Everyone 10+",
          "Adults only 18+",
          "Unrated"
         ],
         "legendgroup": "",
         "name": "",
         "showlegend": true,
         "textinfo": "percent+label",
         "textposition": "outside",
         "type": "pie",
         "values": [
          6621,
          912,
          357,
          305,
          3,
          1
         ]
        }
       ],
       "layout": {
        "legend": {
         "tracegroupgap": 0
        },
        "template": {
         "data": {
          "bar": [
           {
            "error_x": {
             "color": "#2a3f5f"
            },
            "error_y": {
             "color": "#2a3f5f"
            },
            "marker": {
             "line": {
              "color": "#E5ECF6",
              "width": 0.5
             },
             "pattern": {
              "fillmode": "overlay",
              "size": 10,
              "solidity": 0.2
             }
            },
            "type": "bar"
           }
          ],
          "barpolar": [
           {
            "marker": {
             "line": {
              "color": "#E5ECF6",
              "width": 0.5
             },
             "pattern": {
              "fillmode": "overlay",
              "size": 10,
              "solidity": 0.2
             }
            },
            "type": "barpolar"
           }
          ],
          "carpet": [
           {
            "aaxis": {
             "endlinecolor": "#2a3f5f",
             "gridcolor": "white",
             "linecolor": "white",
             "minorgridcolor": "white",
             "startlinecolor": "#2a3f5f"
            },
            "baxis": {
             "endlinecolor": "#2a3f5f",
             "gridcolor": "white",
             "linecolor": "white",
             "minorgridcolor": "white",
             "startlinecolor": "#2a3f5f"
            },
            "type": "carpet"
           }
          ],
          "choropleth": [
           {
            "colorbar": {
             "outlinewidth": 0,
             "ticks": ""
            },
            "type": "choropleth"
           }
          ],
          "contour": [
           {
            "colorbar": {
             "outlinewidth": 0,
             "ticks": ""
            },
            "colorscale": [
             [
              0,
              "#0d0887"
             ],
             [
              0.1111111111111111,
              "#46039f"
             ],
             [
              0.2222222222222222,
              "#7201a8"
             ],
             [
              0.3333333333333333,
              "#9c179e"
             ],
             [
              0.4444444444444444,
              "#bd3786"
             ],
             [
              0.5555555555555556,
              "#d8576b"
             ],
             [
              0.6666666666666666,
              "#ed7953"
             ],
             [
              0.7777777777777778,
              "#fb9f3a"
             ],
             [
              0.8888888888888888,
              "#fdca26"
             ],
             [
              1,
              "#f0f921"
             ]
            ],
            "type": "contour"
           }
          ],
          "contourcarpet": [
           {
            "colorbar": {
             "outlinewidth": 0,
             "ticks": ""
            },
            "type": "contourcarpet"
           }
          ],
          "heatmap": [
           {
            "colorbar": {
             "outlinewidth": 0,
             "ticks": ""
            },
            "colorscale": [
             [
              0,
              "#0d0887"
             ],
             [
              0.1111111111111111,
              "#46039f"
             ],
             [
              0.2222222222222222,
              "#7201a8"
             ],
             [
              0.3333333333333333,
              "#9c179e"
             ],
             [
              0.4444444444444444,
              "#bd3786"
             ],
             [
              0.5555555555555556,
              "#d8576b"
             ],
             [
              0.6666666666666666,
              "#ed7953"
             ],
             [
              0.7777777777777778,
              "#fb9f3a"
             ],
             [
              0.8888888888888888,
              "#fdca26"
             ],
             [
              1,
              "#f0f921"
             ]
            ],
            "type": "heatmap"
           }
          ],
          "heatmapgl": [
           {
            "colorbar": {
             "outlinewidth": 0,
             "ticks": ""
            },
            "colorscale": [
             [
              0,
              "#0d0887"
             ],
             [
              0.1111111111111111,
              "#46039f"
             ],
             [
              0.2222222222222222,
              "#7201a8"
             ],
             [
              0.3333333333333333,
              "#9c179e"
             ],
             [
              0.4444444444444444,
              "#bd3786"
             ],
             [
              0.5555555555555556,
              "#d8576b"
             ],
             [
              0.6666666666666666,
              "#ed7953"
             ],
             [
              0.7777777777777778,
              "#fb9f3a"
             ],
             [
              0.8888888888888888,
              "#fdca26"
             ],
             [
              1,
              "#f0f921"
             ]
            ],
            "type": "heatmapgl"
           }
          ],
          "histogram": [
           {
            "marker": {
             "pattern": {
              "fillmode": "overlay",
              "size": 10,
              "solidity": 0.2
             }
            },
            "type": "histogram"
           }
          ],
          "histogram2d": [
           {
            "colorbar": {
             "outlinewidth": 0,
             "ticks": ""
            },
            "colorscale": [
             [
              0,
              "#0d0887"
             ],
             [
              0.1111111111111111,
              "#46039f"
             ],
             [
              0.2222222222222222,
              "#7201a8"
             ],
             [
              0.3333333333333333,
              "#9c179e"
             ],
             [
              0.4444444444444444,
              "#bd3786"
             ],
             [
              0.5555555555555556,
              "#d8576b"
             ],
             [
              0.6666666666666666,
              "#ed7953"
             ],
             [
              0.7777777777777778,
              "#fb9f3a"
             ],
             [
              0.8888888888888888,
              "#fdca26"
             ],
             [
              1,
              "#f0f921"
             ]
            ],
            "type": "histogram2d"
           }
          ],
          "histogram2dcontour": [
           {
            "colorbar": {
             "outlinewidth": 0,
             "ticks": ""
            },
            "colorscale": [
             [
              0,
              "#0d0887"
             ],
             [
              0.1111111111111111,
              "#46039f"
             ],
             [
              0.2222222222222222,
              "#7201a8"
             ],
             [
              0.3333333333333333,
              "#9c179e"
             ],
             [
              0.4444444444444444,
              "#bd3786"
             ],
             [
              0.5555555555555556,
              "#d8576b"
             ],
             [
              0.6666666666666666,
              "#ed7953"
             ],
             [
              0.7777777777777778,
              "#fb9f3a"
             ],
             [
              0.8888888888888888,
              "#fdca26"
             ],
             [
              1,
              "#f0f921"
             ]
            ],
            "type": "histogram2dcontour"
           }
          ],
          "mesh3d": [
           {
            "colorbar": {
             "outlinewidth": 0,
             "ticks": ""
            },
            "type": "mesh3d"
           }
          ],
          "parcoords": [
           {
            "line": {
             "colorbar": {
              "outlinewidth": 0,
              "ticks": ""
             }
            },
            "type": "parcoords"
           }
          ],
          "pie": [
           {
            "automargin": true,
            "type": "pie"
           }
          ],
          "scatter": [
           {
            "marker": {
             "colorbar": {
              "outlinewidth": 0,
              "ticks": ""
             }
            },
            "type": "scatter"
           }
          ],
          "scatter3d": [
           {
            "line": {
             "colorbar": {
              "outlinewidth": 0,
              "ticks": ""
             }
            },
            "marker": {
             "colorbar": {
              "outlinewidth": 0,
              "ticks": ""
             }
            },
            "type": "scatter3d"
           }
          ],
          "scattercarpet": [
           {
            "marker": {
             "colorbar": {
              "outlinewidth": 0,
              "ticks": ""
             }
            },
            "type": "scattercarpet"
           }
          ],
          "scattergeo": [
           {
            "marker": {
             "colorbar": {
              "outlinewidth": 0,
              "ticks": ""
             }
            },
            "type": "scattergeo"
           }
          ],
          "scattergl": [
           {
            "marker": {
             "colorbar": {
              "outlinewidth": 0,
              "ticks": ""
             }
            },
            "type": "scattergl"
           }
          ],
          "scattermapbox": [
           {
            "marker": {
             "colorbar": {
              "outlinewidth": 0,
              "ticks": ""
             }
            },
            "type": "scattermapbox"
           }
          ],
          "scatterpolar": [
           {
            "marker": {
             "colorbar": {
              "outlinewidth": 0,
              "ticks": ""
             }
            },
            "type": "scatterpolar"
           }
          ],
          "scatterpolargl": [
           {
            "marker": {
             "colorbar": {
              "outlinewidth": 0,
              "ticks": ""
             }
            },
            "type": "scatterpolargl"
           }
          ],
          "scatterternary": [
           {
            "marker": {
             "colorbar": {
              "outlinewidth": 0,
              "ticks": ""
             }
            },
            "type": "scatterternary"
           }
          ],
          "surface": [
           {
            "colorbar": {
             "outlinewidth": 0,
             "ticks": ""
            },
            "colorscale": [
             [
              0,
              "#0d0887"
             ],
             [
              0.1111111111111111,
              "#46039f"
             ],
             [
              0.2222222222222222,
              "#7201a8"
             ],
             [
              0.3333333333333333,
              "#9c179e"
             ],
             [
              0.4444444444444444,
              "#bd3786"
             ],
             [
              0.5555555555555556,
              "#d8576b"
             ],
             [
              0.6666666666666666,
              "#ed7953"
             ],
             [
              0.7777777777777778,
              "#fb9f3a"
             ],
             [
              0.8888888888888888,
              "#fdca26"
             ],
             [
              1,
              "#f0f921"
             ]
            ],
            "type": "surface"
           }
          ],
          "table": [
           {
            "cells": {
             "fill": {
              "color": "#EBF0F8"
             },
             "line": {
              "color": "white"
             }
            },
            "header": {
             "fill": {
              "color": "#C8D4E3"
             },
             "line": {
              "color": "white"
             }
            },
            "type": "table"
           }
          ]
         },
         "layout": {
          "annotationdefaults": {
           "arrowcolor": "#2a3f5f",
           "arrowhead": 0,
           "arrowwidth": 1
          },
          "autotypenumbers": "strict",
          "coloraxis": {
           "colorbar": {
            "outlinewidth": 0,
            "ticks": ""
           }
          },
          "colorscale": {
           "diverging": [
            [
             0,
             "#8e0152"
            ],
            [
             0.1,
             "#c51b7d"
            ],
            [
             0.2,
             "#de77ae"
            ],
            [
             0.3,
             "#f1b6da"
            ],
            [
             0.4,
             "#fde0ef"
            ],
            [
             0.5,
             "#f7f7f7"
            ],
            [
             0.6,
             "#e6f5d0"
            ],
            [
             0.7,
             "#b8e186"
            ],
            [
             0.8,
             "#7fbc41"
            ],
            [
             0.9,
             "#4d9221"
            ],
            [
             1,
             "#276419"
            ]
           ],
           "sequential": [
            [
             0,
             "#0d0887"
            ],
            [
             0.1111111111111111,
             "#46039f"
            ],
            [
             0.2222222222222222,
             "#7201a8"
            ],
            [
             0.3333333333333333,
             "#9c179e"
            ],
            [
             0.4444444444444444,
             "#bd3786"
            ],
            [
             0.5555555555555556,
             "#d8576b"
            ],
            [
             0.6666666666666666,
             "#ed7953"
            ],
            [
             0.7777777777777778,
             "#fb9f3a"
            ],
            [
             0.8888888888888888,
             "#fdca26"
            ],
            [
             1,
             "#f0f921"
            ]
           ],
           "sequentialminus": [
            [
             0,
             "#0d0887"
            ],
            [
             0.1111111111111111,
             "#46039f"
            ],
            [
             0.2222222222222222,
             "#7201a8"
            ],
            [
             0.3333333333333333,
             "#9c179e"
            ],
            [
             0.4444444444444444,
             "#bd3786"
            ],
            [
             0.5555555555555556,
             "#d8576b"
            ],
            [
             0.6666666666666666,
             "#ed7953"
            ],
            [
             0.7777777777777778,
             "#fb9f3a"
            ],
            [
             0.8888888888888888,
             "#fdca26"
            ],
            [
             1,
             "#f0f921"
            ]
           ]
          },
          "colorway": [
           "#636efa",
           "#EF553B",
           "#00cc96",
           "#ab63fa",
           "#FFA15A",
           "#19d3f3",
           "#FF6692",
           "#B6E880",
           "#FF97FF",
           "#FECB52"
          ],
          "font": {
           "color": "#2a3f5f"
          },
          "geo": {
           "bgcolor": "white",
           "lakecolor": "white",
           "landcolor": "#E5ECF6",
           "showlakes": true,
           "showland": true,
           "subunitcolor": "white"
          },
          "hoverlabel": {
           "align": "left"
          },
          "hovermode": "closest",
          "mapbox": {
           "style": "light"
          },
          "paper_bgcolor": "white",
          "plot_bgcolor": "#E5ECF6",
          "polar": {
           "angularaxis": {
            "gridcolor": "white",
            "linecolor": "white",
            "ticks": ""
           },
           "bgcolor": "#E5ECF6",
           "radialaxis": {
            "gridcolor": "white",
            "linecolor": "white",
            "ticks": ""
           }
          },
          "scene": {
           "xaxis": {
            "backgroundcolor": "#E5ECF6",
            "gridcolor": "white",
            "gridwidth": 2,
            "linecolor": "white",
            "showbackground": true,
            "ticks": "",
            "zerolinecolor": "white"
           },
           "yaxis": {
            "backgroundcolor": "#E5ECF6",
            "gridcolor": "white",
            "gridwidth": 2,
            "linecolor": "white",
            "showbackground": true,
            "ticks": "",
            "zerolinecolor": "white"
           },
           "zaxis": {
            "backgroundcolor": "#E5ECF6",
            "gridcolor": "white",
            "gridwidth": 2,
            "linecolor": "white",
            "showbackground": true,
            "ticks": "",
            "zerolinecolor": "white"
           }
          },
          "shapedefaults": {
           "line": {
            "color": "#2a3f5f"
           }
          },
          "ternary": {
           "aaxis": {
            "gridcolor": "white",
            "linecolor": "white",
            "ticks": ""
           },
           "baxis": {
            "gridcolor": "white",
            "linecolor": "white",
            "ticks": ""
           },
           "bgcolor": "#E5ECF6",
           "caxis": {
            "gridcolor": "white",
            "linecolor": "white",
            "ticks": ""
           }
          },
          "title": {
           "x": 0.05
          },
          "xaxis": {
           "automargin": true,
           "gridcolor": "white",
           "linecolor": "white",
           "ticks": "",
           "title": {
            "standoff": 15
           },
           "zerolinecolor": "white",
           "zerolinewidth": 2
          },
          "yaxis": {
           "automargin": true,
           "gridcolor": "white",
           "linecolor": "white",
           "ticks": "",
           "title": {
            "standoff": 15
           },
           "zerolinecolor": "white",
           "zerolinewidth": 2
          }
         }
        },
        "title": {
         "text": "Content Rating"
        }
       }
      },
      "text/html": [
       "<div>                            <div id=\"d3d0bc9c-83b1-4dc0-8a45-aa9be22a88f4\" class=\"plotly-graph-div\" style=\"height:525px; width:100%;\"></div>            <script type=\"text/javascript\">                require([\"plotly\"], function(Plotly) {                    window.PLOTLYENV=window.PLOTLYENV || {};                                    if (document.getElementById(\"d3d0bc9c-83b1-4dc0-8a45-aa9be22a88f4\")) {                    Plotly.newPlot(                        \"d3d0bc9c-83b1-4dc0-8a45-aa9be22a88f4\",                        [{\"domain\":{\"x\":[0.0,1.0],\"y\":[0.0,1.0]},\"hovertemplate\":\"label=%{label}<br>value=%{value}<extra></extra>\",\"labels\":[\"Everyone\",\"Teen\",\"Mature 17+\",\"Everyone 10+\",\"Adults only 18+\",\"Unrated\"],\"legendgroup\":\"\",\"name\":\"\",\"showlegend\":true,\"textinfo\":\"percent+label\",\"textposition\":\"outside\",\"type\":\"pie\",\"values\":[6621,912,357,305,3,1]}],                        {\"legend\":{\"tracegroupgap\":0},\"template\":{\"data\":{\"bar\":[{\"error_x\":{\"color\":\"#2a3f5f\"},\"error_y\":{\"color\":\"#2a3f5f\"},\"marker\":{\"line\":{\"color\":\"#E5ECF6\",\"width\":0.5},\"pattern\":{\"fillmode\":\"overlay\",\"size\":10,\"solidity\":0.2}},\"type\":\"bar\"}],\"barpolar\":[{\"marker\":{\"line\":{\"color\":\"#E5ECF6\",\"width\":0.5},\"pattern\":{\"fillmode\":\"overlay\",\"size\":10,\"solidity\":0.2}},\"type\":\"barpolar\"}],\"carpet\":[{\"aaxis\":{\"endlinecolor\":\"#2a3f5f\",\"gridcolor\":\"white\",\"linecolor\":\"white\",\"minorgridcolor\":\"white\",\"startlinecolor\":\"#2a3f5f\"},\"baxis\":{\"endlinecolor\":\"#2a3f5f\",\"gridcolor\":\"white\",\"linecolor\":\"white\",\"minorgridcolor\":\"white\",\"startlinecolor\":\"#2a3f5f\"},\"type\":\"carpet\"}],\"choropleth\":[{\"colorbar\":{\"outlinewidth\":0,\"ticks\":\"\"},\"type\":\"choropleth\"}],\"contour\":[{\"colorbar\":{\"outlinewidth\":0,\"ticks\":\"\"},\"colorscale\":[[0.0,\"#0d0887\"],[0.1111111111111111,\"#46039f\"],[0.2222222222222222,\"#7201a8\"],[0.3333333333333333,\"#9c179e\"],[0.4444444444444444,\"#bd3786\"],[0.5555555555555556,\"#d8576b\"],[0.6666666666666666,\"#ed7953\"],[0.7777777777777778,\"#fb9f3a\"],[0.8888888888888888,\"#fdca26\"],[1.0,\"#f0f921\"]],\"type\":\"contour\"}],\"contourcarpet\":[{\"colorbar\":{\"outlinewidth\":0,\"ticks\":\"\"},\"type\":\"contourcarpet\"}],\"heatmap\":[{\"colorbar\":{\"outlinewidth\":0,\"ticks\":\"\"},\"colorscale\":[[0.0,\"#0d0887\"],[0.1111111111111111,\"#46039f\"],[0.2222222222222222,\"#7201a8\"],[0.3333333333333333,\"#9c179e\"],[0.4444444444444444,\"#bd3786\"],[0.5555555555555556,\"#d8576b\"],[0.6666666666666666,\"#ed7953\"],[0.7777777777777778,\"#fb9f3a\"],[0.8888888888888888,\"#fdca26\"],[1.0,\"#f0f921\"]],\"type\":\"heatmap\"}],\"heatmapgl\":[{\"colorbar\":{\"outlinewidth\":0,\"ticks\":\"\"},\"colorscale\":[[0.0,\"#0d0887\"],[0.1111111111111111,\"#46039f\"],[0.2222222222222222,\"#7201a8\"],[0.3333333333333333,\"#9c179e\"],[0.4444444444444444,\"#bd3786\"],[0.5555555555555556,\"#d8576b\"],[0.6666666666666666,\"#ed7953\"],[0.7777777777777778,\"#fb9f3a\"],[0.8888888888888888,\"#fdca26\"],[1.0,\"#f0f921\"]],\"type\":\"heatmapgl\"}],\"histogram\":[{\"marker\":{\"pattern\":{\"fillmode\":\"overlay\",\"size\":10,\"solidity\":0.2}},\"type\":\"histogram\"}],\"histogram2d\":[{\"colorbar\":{\"outlinewidth\":0,\"ticks\":\"\"},\"colorscale\":[[0.0,\"#0d0887\"],[0.1111111111111111,\"#46039f\"],[0.2222222222222222,\"#7201a8\"],[0.3333333333333333,\"#9c179e\"],[0.4444444444444444,\"#bd3786\"],[0.5555555555555556,\"#d8576b\"],[0.6666666666666666,\"#ed7953\"],[0.7777777777777778,\"#fb9f3a\"],[0.8888888888888888,\"#fdca26\"],[1.0,\"#f0f921\"]],\"type\":\"histogram2d\"}],\"histogram2dcontour\":[{\"colorbar\":{\"outlinewidth\":0,\"ticks\":\"\"},\"colorscale\":[[0.0,\"#0d0887\"],[0.1111111111111111,\"#46039f\"],[0.2222222222222222,\"#7201a8\"],[0.3333333333333333,\"#9c179e\"],[0.4444444444444444,\"#bd3786\"],[0.5555555555555556,\"#d8576b\"],[0.6666666666666666,\"#ed7953\"],[0.7777777777777778,\"#fb9f3a\"],[0.8888888888888888,\"#fdca26\"],[1.0,\"#f0f921\"]],\"type\":\"histogram2dcontour\"}],\"mesh3d\":[{\"colorbar\":{\"outlinewidth\":0,\"ticks\":\"\"},\"type\":\"mesh3d\"}],\"parcoords\":[{\"line\":{\"colorbar\":{\"outlinewidth\":0,\"ticks\":\"\"}},\"type\":\"parcoords\"}],\"pie\":[{\"automargin\":true,\"type\":\"pie\"}],\"scatter\":[{\"marker\":{\"colorbar\":{\"outlinewidth\":0,\"ticks\":\"\"}},\"type\":\"scatter\"}],\"scatter3d\":[{\"line\":{\"colorbar\":{\"outlinewidth\":0,\"ticks\":\"\"}},\"marker\":{\"colorbar\":{\"outlinewidth\":0,\"ticks\":\"\"}},\"type\":\"scatter3d\"}],\"scattercarpet\":[{\"marker\":{\"colorbar\":{\"outlinewidth\":0,\"ticks\":\"\"}},\"type\":\"scattercarpet\"}],\"scattergeo\":[{\"marker\":{\"colorbar\":{\"outlinewidth\":0,\"ticks\":\"\"}},\"type\":\"scattergeo\"}],\"scattergl\":[{\"marker\":{\"colorbar\":{\"outlinewidth\":0,\"ticks\":\"\"}},\"type\":\"scattergl\"}],\"scattermapbox\":[{\"marker\":{\"colorbar\":{\"outlinewidth\":0,\"ticks\":\"\"}},\"type\":\"scattermapbox\"}],\"scatterpolar\":[{\"marker\":{\"colorbar\":{\"outlinewidth\":0,\"ticks\":\"\"}},\"type\":\"scatterpolar\"}],\"scatterpolargl\":[{\"marker\":{\"colorbar\":{\"outlinewidth\":0,\"ticks\":\"\"}},\"type\":\"scatterpolargl\"}],\"scatterternary\":[{\"marker\":{\"colorbar\":{\"outlinewidth\":0,\"ticks\":\"\"}},\"type\":\"scatterternary\"}],\"surface\":[{\"colorbar\":{\"outlinewidth\":0,\"ticks\":\"\"},\"colorscale\":[[0.0,\"#0d0887\"],[0.1111111111111111,\"#46039f\"],[0.2222222222222222,\"#7201a8\"],[0.3333333333333333,\"#9c179e\"],[0.4444444444444444,\"#bd3786\"],[0.5555555555555556,\"#d8576b\"],[0.6666666666666666,\"#ed7953\"],[0.7777777777777778,\"#fb9f3a\"],[0.8888888888888888,\"#fdca26\"],[1.0,\"#f0f921\"]],\"type\":\"surface\"}],\"table\":[{\"cells\":{\"fill\":{\"color\":\"#EBF0F8\"},\"line\":{\"color\":\"white\"}},\"header\":{\"fill\":{\"color\":\"#C8D4E3\"},\"line\":{\"color\":\"white\"}},\"type\":\"table\"}]},\"layout\":{\"annotationdefaults\":{\"arrowcolor\":\"#2a3f5f\",\"arrowhead\":0,\"arrowwidth\":1},\"autotypenumbers\":\"strict\",\"coloraxis\":{\"colorbar\":{\"outlinewidth\":0,\"ticks\":\"\"}},\"colorscale\":{\"diverging\":[[0,\"#8e0152\"],[0.1,\"#c51b7d\"],[0.2,\"#de77ae\"],[0.3,\"#f1b6da\"],[0.4,\"#fde0ef\"],[0.5,\"#f7f7f7\"],[0.6,\"#e6f5d0\"],[0.7,\"#b8e186\"],[0.8,\"#7fbc41\"],[0.9,\"#4d9221\"],[1,\"#276419\"]],\"sequential\":[[0.0,\"#0d0887\"],[0.1111111111111111,\"#46039f\"],[0.2222222222222222,\"#7201a8\"],[0.3333333333333333,\"#9c179e\"],[0.4444444444444444,\"#bd3786\"],[0.5555555555555556,\"#d8576b\"],[0.6666666666666666,\"#ed7953\"],[0.7777777777777778,\"#fb9f3a\"],[0.8888888888888888,\"#fdca26\"],[1.0,\"#f0f921\"]],\"sequentialminus\":[[0.0,\"#0d0887\"],[0.1111111111111111,\"#46039f\"],[0.2222222222222222,\"#7201a8\"],[0.3333333333333333,\"#9c179e\"],[0.4444444444444444,\"#bd3786\"],[0.5555555555555556,\"#d8576b\"],[0.6666666666666666,\"#ed7953\"],[0.7777777777777778,\"#fb9f3a\"],[0.8888888888888888,\"#fdca26\"],[1.0,\"#f0f921\"]]},\"colorway\":[\"#636efa\",\"#EF553B\",\"#00cc96\",\"#ab63fa\",\"#FFA15A\",\"#19d3f3\",\"#FF6692\",\"#B6E880\",\"#FF97FF\",\"#FECB52\"],\"font\":{\"color\":\"#2a3f5f\"},\"geo\":{\"bgcolor\":\"white\",\"lakecolor\":\"white\",\"landcolor\":\"#E5ECF6\",\"showlakes\":true,\"showland\":true,\"subunitcolor\":\"white\"},\"hoverlabel\":{\"align\":\"left\"},\"hovermode\":\"closest\",\"mapbox\":{\"style\":\"light\"},\"paper_bgcolor\":\"white\",\"plot_bgcolor\":\"#E5ECF6\",\"polar\":{\"angularaxis\":{\"gridcolor\":\"white\",\"linecolor\":\"white\",\"ticks\":\"\"},\"bgcolor\":\"#E5ECF6\",\"radialaxis\":{\"gridcolor\":\"white\",\"linecolor\":\"white\",\"ticks\":\"\"}},\"scene\":{\"xaxis\":{\"backgroundcolor\":\"#E5ECF6\",\"gridcolor\":\"white\",\"gridwidth\":2,\"linecolor\":\"white\",\"showbackground\":true,\"ticks\":\"\",\"zerolinecolor\":\"white\"},\"yaxis\":{\"backgroundcolor\":\"#E5ECF6\",\"gridcolor\":\"white\",\"gridwidth\":2,\"linecolor\":\"white\",\"showbackground\":true,\"ticks\":\"\",\"zerolinecolor\":\"white\"},\"zaxis\":{\"backgroundcolor\":\"#E5ECF6\",\"gridcolor\":\"white\",\"gridwidth\":2,\"linecolor\":\"white\",\"showbackground\":true,\"ticks\":\"\",\"zerolinecolor\":\"white\"}},\"shapedefaults\":{\"line\":{\"color\":\"#2a3f5f\"}},\"ternary\":{\"aaxis\":{\"gridcolor\":\"white\",\"linecolor\":\"white\",\"ticks\":\"\"},\"baxis\":{\"gridcolor\":\"white\",\"linecolor\":\"white\",\"ticks\":\"\"},\"bgcolor\":\"#E5ECF6\",\"caxis\":{\"gridcolor\":\"white\",\"linecolor\":\"white\",\"ticks\":\"\"}},\"title\":{\"x\":0.05},\"xaxis\":{\"automargin\":true,\"gridcolor\":\"white\",\"linecolor\":\"white\",\"ticks\":\"\",\"title\":{\"standoff\":15},\"zerolinecolor\":\"white\",\"zerolinewidth\":2},\"yaxis\":{\"automargin\":true,\"gridcolor\":\"white\",\"linecolor\":\"white\",\"ticks\":\"\",\"title\":{\"standoff\":15},\"zerolinecolor\":\"white\",\"zerolinewidth\":2}}},\"title\":{\"text\":\"Content Rating\"}},                        {\"responsive\": true}                    ).then(function(){\n",
       "                            \n",
       "var gd = document.getElementById('d3d0bc9c-83b1-4dc0-8a45-aa9be22a88f4');\n",
       "var x = new MutationObserver(function (mutations, observer) {{\n",
       "        var display = window.getComputedStyle(gd).display;\n",
       "        if (!display || display === 'none') {{\n",
       "            console.log([gd, 'removed!']);\n",
       "            Plotly.purge(gd);\n",
       "            observer.disconnect();\n",
       "        }}\n",
       "}});\n",
       "\n",
       "// Listen for the removal of the full notebook cells\n",
       "var notebookContainer = gd.closest('#notebook-container');\n",
       "if (notebookContainer) {{\n",
       "    x.observe(notebookContainer, {childList: true});\n",
       "}}\n",
       "\n",
       "// Listen for the clearing of the current output cell\n",
       "var outputEl = gd.closest('.output');\n",
       "if (outputEl) {{\n",
       "    x.observe(outputEl, {childList: true});\n",
       "}}\n",
       "\n",
       "                        })                };                });            </script>        </div>"
      ]
     },
     "metadata": {},
     "output_type": "display_data"
    }
   ],
   "source": [
    "fig = px.pie(labels=ratings.index,\n",
    "values=ratings.values,\n",
    "title=\"Content Rating\",\n",
    "names=ratings.index,\n",
    ")\n",
    "fig.update_traces(textposition='outside', textinfo='percent+label')\n",
    " \n",
    "fig.show()"
   ]
  },
  {
   "cell_type": "code",
   "execution_count": 98,
   "metadata": {
    "id": "6ZaHYNy2oFEE"
   },
   "outputs": [
    {
     "data": {
      "application/vnd.plotly.v1+json": {
       "config": {
        "plotlyServerURL": "https://plot.ly"
       },
       "data": [
        {
         "domain": {
          "x": [
           0,
           1
          ],
          "y": [
           0,
           1
          ]
         },
         "hole": 0.5,
         "hovertemplate": "label=%{label}<br>value=%{value}<extra></extra>",
         "labels": [
          "Everyone",
          "Teen",
          "Mature 17+",
          "Everyone 10+",
          "Adults only 18+",
          "Unrated"
         ],
         "legendgroup": "",
         "name": "",
         "showlegend": true,
         "textinfo": "percent+label",
         "textposition": "outside",
         "type": "pie",
         "values": [
          6621,
          912,
          357,
          305,
          3,
          1
         ]
        }
       ],
       "layout": {
        "legend": {
         "tracegroupgap": 0
        },
        "template": {
         "data": {
          "bar": [
           {
            "error_x": {
             "color": "#2a3f5f"
            },
            "error_y": {
             "color": "#2a3f5f"
            },
            "marker": {
             "line": {
              "color": "#E5ECF6",
              "width": 0.5
             },
             "pattern": {
              "fillmode": "overlay",
              "size": 10,
              "solidity": 0.2
             }
            },
            "type": "bar"
           }
          ],
          "barpolar": [
           {
            "marker": {
             "line": {
              "color": "#E5ECF6",
              "width": 0.5
             },
             "pattern": {
              "fillmode": "overlay",
              "size": 10,
              "solidity": 0.2
             }
            },
            "type": "barpolar"
           }
          ],
          "carpet": [
           {
            "aaxis": {
             "endlinecolor": "#2a3f5f",
             "gridcolor": "white",
             "linecolor": "white",
             "minorgridcolor": "white",
             "startlinecolor": "#2a3f5f"
            },
            "baxis": {
             "endlinecolor": "#2a3f5f",
             "gridcolor": "white",
             "linecolor": "white",
             "minorgridcolor": "white",
             "startlinecolor": "#2a3f5f"
            },
            "type": "carpet"
           }
          ],
          "choropleth": [
           {
            "colorbar": {
             "outlinewidth": 0,
             "ticks": ""
            },
            "type": "choropleth"
           }
          ],
          "contour": [
           {
            "colorbar": {
             "outlinewidth": 0,
             "ticks": ""
            },
            "colorscale": [
             [
              0,
              "#0d0887"
             ],
             [
              0.1111111111111111,
              "#46039f"
             ],
             [
              0.2222222222222222,
              "#7201a8"
             ],
             [
              0.3333333333333333,
              "#9c179e"
             ],
             [
              0.4444444444444444,
              "#bd3786"
             ],
             [
              0.5555555555555556,
              "#d8576b"
             ],
             [
              0.6666666666666666,
              "#ed7953"
             ],
             [
              0.7777777777777778,
              "#fb9f3a"
             ],
             [
              0.8888888888888888,
              "#fdca26"
             ],
             [
              1,
              "#f0f921"
             ]
            ],
            "type": "contour"
           }
          ],
          "contourcarpet": [
           {
            "colorbar": {
             "outlinewidth": 0,
             "ticks": ""
            },
            "type": "contourcarpet"
           }
          ],
          "heatmap": [
           {
            "colorbar": {
             "outlinewidth": 0,
             "ticks": ""
            },
            "colorscale": [
             [
              0,
              "#0d0887"
             ],
             [
              0.1111111111111111,
              "#46039f"
             ],
             [
              0.2222222222222222,
              "#7201a8"
             ],
             [
              0.3333333333333333,
              "#9c179e"
             ],
             [
              0.4444444444444444,
              "#bd3786"
             ],
             [
              0.5555555555555556,
              "#d8576b"
             ],
             [
              0.6666666666666666,
              "#ed7953"
             ],
             [
              0.7777777777777778,
              "#fb9f3a"
             ],
             [
              0.8888888888888888,
              "#fdca26"
             ],
             [
              1,
              "#f0f921"
             ]
            ],
            "type": "heatmap"
           }
          ],
          "heatmapgl": [
           {
            "colorbar": {
             "outlinewidth": 0,
             "ticks": ""
            },
            "colorscale": [
             [
              0,
              "#0d0887"
             ],
             [
              0.1111111111111111,
              "#46039f"
             ],
             [
              0.2222222222222222,
              "#7201a8"
             ],
             [
              0.3333333333333333,
              "#9c179e"
             ],
             [
              0.4444444444444444,
              "#bd3786"
             ],
             [
              0.5555555555555556,
              "#d8576b"
             ],
             [
              0.6666666666666666,
              "#ed7953"
             ],
             [
              0.7777777777777778,
              "#fb9f3a"
             ],
             [
              0.8888888888888888,
              "#fdca26"
             ],
             [
              1,
              "#f0f921"
             ]
            ],
            "type": "heatmapgl"
           }
          ],
          "histogram": [
           {
            "marker": {
             "pattern": {
              "fillmode": "overlay",
              "size": 10,
              "solidity": 0.2
             }
            },
            "type": "histogram"
           }
          ],
          "histogram2d": [
           {
            "colorbar": {
             "outlinewidth": 0,
             "ticks": ""
            },
            "colorscale": [
             [
              0,
              "#0d0887"
             ],
             [
              0.1111111111111111,
              "#46039f"
             ],
             [
              0.2222222222222222,
              "#7201a8"
             ],
             [
              0.3333333333333333,
              "#9c179e"
             ],
             [
              0.4444444444444444,
              "#bd3786"
             ],
             [
              0.5555555555555556,
              "#d8576b"
             ],
             [
              0.6666666666666666,
              "#ed7953"
             ],
             [
              0.7777777777777778,
              "#fb9f3a"
             ],
             [
              0.8888888888888888,
              "#fdca26"
             ],
             [
              1,
              "#f0f921"
             ]
            ],
            "type": "histogram2d"
           }
          ],
          "histogram2dcontour": [
           {
            "colorbar": {
             "outlinewidth": 0,
             "ticks": ""
            },
            "colorscale": [
             [
              0,
              "#0d0887"
             ],
             [
              0.1111111111111111,
              "#46039f"
             ],
             [
              0.2222222222222222,
              "#7201a8"
             ],
             [
              0.3333333333333333,
              "#9c179e"
             ],
             [
              0.4444444444444444,
              "#bd3786"
             ],
             [
              0.5555555555555556,
              "#d8576b"
             ],
             [
              0.6666666666666666,
              "#ed7953"
             ],
             [
              0.7777777777777778,
              "#fb9f3a"
             ],
             [
              0.8888888888888888,
              "#fdca26"
             ],
             [
              1,
              "#f0f921"
             ]
            ],
            "type": "histogram2dcontour"
           }
          ],
          "mesh3d": [
           {
            "colorbar": {
             "outlinewidth": 0,
             "ticks": ""
            },
            "type": "mesh3d"
           }
          ],
          "parcoords": [
           {
            "line": {
             "colorbar": {
              "outlinewidth": 0,
              "ticks": ""
             }
            },
            "type": "parcoords"
           }
          ],
          "pie": [
           {
            "automargin": true,
            "type": "pie"
           }
          ],
          "scatter": [
           {
            "marker": {
             "colorbar": {
              "outlinewidth": 0,
              "ticks": ""
             }
            },
            "type": "scatter"
           }
          ],
          "scatter3d": [
           {
            "line": {
             "colorbar": {
              "outlinewidth": 0,
              "ticks": ""
             }
            },
            "marker": {
             "colorbar": {
              "outlinewidth": 0,
              "ticks": ""
             }
            },
            "type": "scatter3d"
           }
          ],
          "scattercarpet": [
           {
            "marker": {
             "colorbar": {
              "outlinewidth": 0,
              "ticks": ""
             }
            },
            "type": "scattercarpet"
           }
          ],
          "scattergeo": [
           {
            "marker": {
             "colorbar": {
              "outlinewidth": 0,
              "ticks": ""
             }
            },
            "type": "scattergeo"
           }
          ],
          "scattergl": [
           {
            "marker": {
             "colorbar": {
              "outlinewidth": 0,
              "ticks": ""
             }
            },
            "type": "scattergl"
           }
          ],
          "scattermapbox": [
           {
            "marker": {
             "colorbar": {
              "outlinewidth": 0,
              "ticks": ""
             }
            },
            "type": "scattermapbox"
           }
          ],
          "scatterpolar": [
           {
            "marker": {
             "colorbar": {
              "outlinewidth": 0,
              "ticks": ""
             }
            },
            "type": "scatterpolar"
           }
          ],
          "scatterpolargl": [
           {
            "marker": {
             "colorbar": {
              "outlinewidth": 0,
              "ticks": ""
             }
            },
            "type": "scatterpolargl"
           }
          ],
          "scatterternary": [
           {
            "marker": {
             "colorbar": {
              "outlinewidth": 0,
              "ticks": ""
             }
            },
            "type": "scatterternary"
           }
          ],
          "surface": [
           {
            "colorbar": {
             "outlinewidth": 0,
             "ticks": ""
            },
            "colorscale": [
             [
              0,
              "#0d0887"
             ],
             [
              0.1111111111111111,
              "#46039f"
             ],
             [
              0.2222222222222222,
              "#7201a8"
             ],
             [
              0.3333333333333333,
              "#9c179e"
             ],
             [
              0.4444444444444444,
              "#bd3786"
             ],
             [
              0.5555555555555556,
              "#d8576b"
             ],
             [
              0.6666666666666666,
              "#ed7953"
             ],
             [
              0.7777777777777778,
              "#fb9f3a"
             ],
             [
              0.8888888888888888,
              "#fdca26"
             ],
             [
              1,
              "#f0f921"
             ]
            ],
            "type": "surface"
           }
          ],
          "table": [
           {
            "cells": {
             "fill": {
              "color": "#EBF0F8"
             },
             "line": {
              "color": "white"
             }
            },
            "header": {
             "fill": {
              "color": "#C8D4E3"
             },
             "line": {
              "color": "white"
             }
            },
            "type": "table"
           }
          ]
         },
         "layout": {
          "annotationdefaults": {
           "arrowcolor": "#2a3f5f",
           "arrowhead": 0,
           "arrowwidth": 1
          },
          "autotypenumbers": "strict",
          "coloraxis": {
           "colorbar": {
            "outlinewidth": 0,
            "ticks": ""
           }
          },
          "colorscale": {
           "diverging": [
            [
             0,
             "#8e0152"
            ],
            [
             0.1,
             "#c51b7d"
            ],
            [
             0.2,
             "#de77ae"
            ],
            [
             0.3,
             "#f1b6da"
            ],
            [
             0.4,
             "#fde0ef"
            ],
            [
             0.5,
             "#f7f7f7"
            ],
            [
             0.6,
             "#e6f5d0"
            ],
            [
             0.7,
             "#b8e186"
            ],
            [
             0.8,
             "#7fbc41"
            ],
            [
             0.9,
             "#4d9221"
            ],
            [
             1,
             "#276419"
            ]
           ],
           "sequential": [
            [
             0,
             "#0d0887"
            ],
            [
             0.1111111111111111,
             "#46039f"
            ],
            [
             0.2222222222222222,
             "#7201a8"
            ],
            [
             0.3333333333333333,
             "#9c179e"
            ],
            [
             0.4444444444444444,
             "#bd3786"
            ],
            [
             0.5555555555555556,
             "#d8576b"
            ],
            [
             0.6666666666666666,
             "#ed7953"
            ],
            [
             0.7777777777777778,
             "#fb9f3a"
            ],
            [
             0.8888888888888888,
             "#fdca26"
            ],
            [
             1,
             "#f0f921"
            ]
           ],
           "sequentialminus": [
            [
             0,
             "#0d0887"
            ],
            [
             0.1111111111111111,
             "#46039f"
            ],
            [
             0.2222222222222222,
             "#7201a8"
            ],
            [
             0.3333333333333333,
             "#9c179e"
            ],
            [
             0.4444444444444444,
             "#bd3786"
            ],
            [
             0.5555555555555556,
             "#d8576b"
            ],
            [
             0.6666666666666666,
             "#ed7953"
            ],
            [
             0.7777777777777778,
             "#fb9f3a"
            ],
            [
             0.8888888888888888,
             "#fdca26"
            ],
            [
             1,
             "#f0f921"
            ]
           ]
          },
          "colorway": [
           "#636efa",
           "#EF553B",
           "#00cc96",
           "#ab63fa",
           "#FFA15A",
           "#19d3f3",
           "#FF6692",
           "#B6E880",
           "#FF97FF",
           "#FECB52"
          ],
          "font": {
           "color": "#2a3f5f"
          },
          "geo": {
           "bgcolor": "white",
           "lakecolor": "white",
           "landcolor": "#E5ECF6",
           "showlakes": true,
           "showland": true,
           "subunitcolor": "white"
          },
          "hoverlabel": {
           "align": "left"
          },
          "hovermode": "closest",
          "mapbox": {
           "style": "light"
          },
          "paper_bgcolor": "white",
          "plot_bgcolor": "#E5ECF6",
          "polar": {
           "angularaxis": {
            "gridcolor": "white",
            "linecolor": "white",
            "ticks": ""
           },
           "bgcolor": "#E5ECF6",
           "radialaxis": {
            "gridcolor": "white",
            "linecolor": "white",
            "ticks": ""
           }
          },
          "scene": {
           "xaxis": {
            "backgroundcolor": "#E5ECF6",
            "gridcolor": "white",
            "gridwidth": 2,
            "linecolor": "white",
            "showbackground": true,
            "ticks": "",
            "zerolinecolor": "white"
           },
           "yaxis": {
            "backgroundcolor": "#E5ECF6",
            "gridcolor": "white",
            "gridwidth": 2,
            "linecolor": "white",
            "showbackground": true,
            "ticks": "",
            "zerolinecolor": "white"
           },
           "zaxis": {
            "backgroundcolor": "#E5ECF6",
            "gridcolor": "white",
            "gridwidth": 2,
            "linecolor": "white",
            "showbackground": true,
            "ticks": "",
            "zerolinecolor": "white"
           }
          },
          "shapedefaults": {
           "line": {
            "color": "#2a3f5f"
           }
          },
          "ternary": {
           "aaxis": {
            "gridcolor": "white",
            "linecolor": "white",
            "ticks": ""
           },
           "baxis": {
            "gridcolor": "white",
            "linecolor": "white",
            "ticks": ""
           },
           "bgcolor": "#E5ECF6",
           "caxis": {
            "gridcolor": "white",
            "linecolor": "white",
            "ticks": ""
           }
          },
          "title": {
           "x": 0.05
          },
          "xaxis": {
           "automargin": true,
           "gridcolor": "white",
           "linecolor": "white",
           "ticks": "",
           "title": {
            "standoff": 15
           },
           "zerolinecolor": "white",
           "zerolinewidth": 2
          },
          "yaxis": {
           "automargin": true,
           "gridcolor": "white",
           "linecolor": "white",
           "ticks": "",
           "title": {
            "standoff": 15
           },
           "zerolinecolor": "white",
           "zerolinewidth": 2
          }
         }
        },
        "title": {
         "text": "Content Rating"
        }
       }
      },
      "text/html": [
       "<div>                            <div id=\"9b05f49d-3471-45ea-b79d-0d965ebf7a31\" class=\"plotly-graph-div\" style=\"height:525px; width:100%;\"></div>            <script type=\"text/javascript\">                require([\"plotly\"], function(Plotly) {                    window.PLOTLYENV=window.PLOTLYENV || {};                                    if (document.getElementById(\"9b05f49d-3471-45ea-b79d-0d965ebf7a31\")) {                    Plotly.newPlot(                        \"9b05f49d-3471-45ea-b79d-0d965ebf7a31\",                        [{\"domain\":{\"x\":[0.0,1.0],\"y\":[0.0,1.0]},\"hole\":0.5,\"hovertemplate\":\"label=%{label}<br>value=%{value}<extra></extra>\",\"labels\":[\"Everyone\",\"Teen\",\"Mature 17+\",\"Everyone 10+\",\"Adults only 18+\",\"Unrated\"],\"legendgroup\":\"\",\"name\":\"\",\"showlegend\":true,\"textinfo\":\"percent+label\",\"textposition\":\"outside\",\"type\":\"pie\",\"values\":[6621,912,357,305,3,1]}],                        {\"legend\":{\"tracegroupgap\":0},\"template\":{\"data\":{\"bar\":[{\"error_x\":{\"color\":\"#2a3f5f\"},\"error_y\":{\"color\":\"#2a3f5f\"},\"marker\":{\"line\":{\"color\":\"#E5ECF6\",\"width\":0.5},\"pattern\":{\"fillmode\":\"overlay\",\"size\":10,\"solidity\":0.2}},\"type\":\"bar\"}],\"barpolar\":[{\"marker\":{\"line\":{\"color\":\"#E5ECF6\",\"width\":0.5},\"pattern\":{\"fillmode\":\"overlay\",\"size\":10,\"solidity\":0.2}},\"type\":\"barpolar\"}],\"carpet\":[{\"aaxis\":{\"endlinecolor\":\"#2a3f5f\",\"gridcolor\":\"white\",\"linecolor\":\"white\",\"minorgridcolor\":\"white\",\"startlinecolor\":\"#2a3f5f\"},\"baxis\":{\"endlinecolor\":\"#2a3f5f\",\"gridcolor\":\"white\",\"linecolor\":\"white\",\"minorgridcolor\":\"white\",\"startlinecolor\":\"#2a3f5f\"},\"type\":\"carpet\"}],\"choropleth\":[{\"colorbar\":{\"outlinewidth\":0,\"ticks\":\"\"},\"type\":\"choropleth\"}],\"contour\":[{\"colorbar\":{\"outlinewidth\":0,\"ticks\":\"\"},\"colorscale\":[[0.0,\"#0d0887\"],[0.1111111111111111,\"#46039f\"],[0.2222222222222222,\"#7201a8\"],[0.3333333333333333,\"#9c179e\"],[0.4444444444444444,\"#bd3786\"],[0.5555555555555556,\"#d8576b\"],[0.6666666666666666,\"#ed7953\"],[0.7777777777777778,\"#fb9f3a\"],[0.8888888888888888,\"#fdca26\"],[1.0,\"#f0f921\"]],\"type\":\"contour\"}],\"contourcarpet\":[{\"colorbar\":{\"outlinewidth\":0,\"ticks\":\"\"},\"type\":\"contourcarpet\"}],\"heatmap\":[{\"colorbar\":{\"outlinewidth\":0,\"ticks\":\"\"},\"colorscale\":[[0.0,\"#0d0887\"],[0.1111111111111111,\"#46039f\"],[0.2222222222222222,\"#7201a8\"],[0.3333333333333333,\"#9c179e\"],[0.4444444444444444,\"#bd3786\"],[0.5555555555555556,\"#d8576b\"],[0.6666666666666666,\"#ed7953\"],[0.7777777777777778,\"#fb9f3a\"],[0.8888888888888888,\"#fdca26\"],[1.0,\"#f0f921\"]],\"type\":\"heatmap\"}],\"heatmapgl\":[{\"colorbar\":{\"outlinewidth\":0,\"ticks\":\"\"},\"colorscale\":[[0.0,\"#0d0887\"],[0.1111111111111111,\"#46039f\"],[0.2222222222222222,\"#7201a8\"],[0.3333333333333333,\"#9c179e\"],[0.4444444444444444,\"#bd3786\"],[0.5555555555555556,\"#d8576b\"],[0.6666666666666666,\"#ed7953\"],[0.7777777777777778,\"#fb9f3a\"],[0.8888888888888888,\"#fdca26\"],[1.0,\"#f0f921\"]],\"type\":\"heatmapgl\"}],\"histogram\":[{\"marker\":{\"pattern\":{\"fillmode\":\"overlay\",\"size\":10,\"solidity\":0.2}},\"type\":\"histogram\"}],\"histogram2d\":[{\"colorbar\":{\"outlinewidth\":0,\"ticks\":\"\"},\"colorscale\":[[0.0,\"#0d0887\"],[0.1111111111111111,\"#46039f\"],[0.2222222222222222,\"#7201a8\"],[0.3333333333333333,\"#9c179e\"],[0.4444444444444444,\"#bd3786\"],[0.5555555555555556,\"#d8576b\"],[0.6666666666666666,\"#ed7953\"],[0.7777777777777778,\"#fb9f3a\"],[0.8888888888888888,\"#fdca26\"],[1.0,\"#f0f921\"]],\"type\":\"histogram2d\"}],\"histogram2dcontour\":[{\"colorbar\":{\"outlinewidth\":0,\"ticks\":\"\"},\"colorscale\":[[0.0,\"#0d0887\"],[0.1111111111111111,\"#46039f\"],[0.2222222222222222,\"#7201a8\"],[0.3333333333333333,\"#9c179e\"],[0.4444444444444444,\"#bd3786\"],[0.5555555555555556,\"#d8576b\"],[0.6666666666666666,\"#ed7953\"],[0.7777777777777778,\"#fb9f3a\"],[0.8888888888888888,\"#fdca26\"],[1.0,\"#f0f921\"]],\"type\":\"histogram2dcontour\"}],\"mesh3d\":[{\"colorbar\":{\"outlinewidth\":0,\"ticks\":\"\"},\"type\":\"mesh3d\"}],\"parcoords\":[{\"line\":{\"colorbar\":{\"outlinewidth\":0,\"ticks\":\"\"}},\"type\":\"parcoords\"}],\"pie\":[{\"automargin\":true,\"type\":\"pie\"}],\"scatter\":[{\"marker\":{\"colorbar\":{\"outlinewidth\":0,\"ticks\":\"\"}},\"type\":\"scatter\"}],\"scatter3d\":[{\"line\":{\"colorbar\":{\"outlinewidth\":0,\"ticks\":\"\"}},\"marker\":{\"colorbar\":{\"outlinewidth\":0,\"ticks\":\"\"}},\"type\":\"scatter3d\"}],\"scattercarpet\":[{\"marker\":{\"colorbar\":{\"outlinewidth\":0,\"ticks\":\"\"}},\"type\":\"scattercarpet\"}],\"scattergeo\":[{\"marker\":{\"colorbar\":{\"outlinewidth\":0,\"ticks\":\"\"}},\"type\":\"scattergeo\"}],\"scattergl\":[{\"marker\":{\"colorbar\":{\"outlinewidth\":0,\"ticks\":\"\"}},\"type\":\"scattergl\"}],\"scattermapbox\":[{\"marker\":{\"colorbar\":{\"outlinewidth\":0,\"ticks\":\"\"}},\"type\":\"scattermapbox\"}],\"scatterpolar\":[{\"marker\":{\"colorbar\":{\"outlinewidth\":0,\"ticks\":\"\"}},\"type\":\"scatterpolar\"}],\"scatterpolargl\":[{\"marker\":{\"colorbar\":{\"outlinewidth\":0,\"ticks\":\"\"}},\"type\":\"scatterpolargl\"}],\"scatterternary\":[{\"marker\":{\"colorbar\":{\"outlinewidth\":0,\"ticks\":\"\"}},\"type\":\"scatterternary\"}],\"surface\":[{\"colorbar\":{\"outlinewidth\":0,\"ticks\":\"\"},\"colorscale\":[[0.0,\"#0d0887\"],[0.1111111111111111,\"#46039f\"],[0.2222222222222222,\"#7201a8\"],[0.3333333333333333,\"#9c179e\"],[0.4444444444444444,\"#bd3786\"],[0.5555555555555556,\"#d8576b\"],[0.6666666666666666,\"#ed7953\"],[0.7777777777777778,\"#fb9f3a\"],[0.8888888888888888,\"#fdca26\"],[1.0,\"#f0f921\"]],\"type\":\"surface\"}],\"table\":[{\"cells\":{\"fill\":{\"color\":\"#EBF0F8\"},\"line\":{\"color\":\"white\"}},\"header\":{\"fill\":{\"color\":\"#C8D4E3\"},\"line\":{\"color\":\"white\"}},\"type\":\"table\"}]},\"layout\":{\"annotationdefaults\":{\"arrowcolor\":\"#2a3f5f\",\"arrowhead\":0,\"arrowwidth\":1},\"autotypenumbers\":\"strict\",\"coloraxis\":{\"colorbar\":{\"outlinewidth\":0,\"ticks\":\"\"}},\"colorscale\":{\"diverging\":[[0,\"#8e0152\"],[0.1,\"#c51b7d\"],[0.2,\"#de77ae\"],[0.3,\"#f1b6da\"],[0.4,\"#fde0ef\"],[0.5,\"#f7f7f7\"],[0.6,\"#e6f5d0\"],[0.7,\"#b8e186\"],[0.8,\"#7fbc41\"],[0.9,\"#4d9221\"],[1,\"#276419\"]],\"sequential\":[[0.0,\"#0d0887\"],[0.1111111111111111,\"#46039f\"],[0.2222222222222222,\"#7201a8\"],[0.3333333333333333,\"#9c179e\"],[0.4444444444444444,\"#bd3786\"],[0.5555555555555556,\"#d8576b\"],[0.6666666666666666,\"#ed7953\"],[0.7777777777777778,\"#fb9f3a\"],[0.8888888888888888,\"#fdca26\"],[1.0,\"#f0f921\"]],\"sequentialminus\":[[0.0,\"#0d0887\"],[0.1111111111111111,\"#46039f\"],[0.2222222222222222,\"#7201a8\"],[0.3333333333333333,\"#9c179e\"],[0.4444444444444444,\"#bd3786\"],[0.5555555555555556,\"#d8576b\"],[0.6666666666666666,\"#ed7953\"],[0.7777777777777778,\"#fb9f3a\"],[0.8888888888888888,\"#fdca26\"],[1.0,\"#f0f921\"]]},\"colorway\":[\"#636efa\",\"#EF553B\",\"#00cc96\",\"#ab63fa\",\"#FFA15A\",\"#19d3f3\",\"#FF6692\",\"#B6E880\",\"#FF97FF\",\"#FECB52\"],\"font\":{\"color\":\"#2a3f5f\"},\"geo\":{\"bgcolor\":\"white\",\"lakecolor\":\"white\",\"landcolor\":\"#E5ECF6\",\"showlakes\":true,\"showland\":true,\"subunitcolor\":\"white\"},\"hoverlabel\":{\"align\":\"left\"},\"hovermode\":\"closest\",\"mapbox\":{\"style\":\"light\"},\"paper_bgcolor\":\"white\",\"plot_bgcolor\":\"#E5ECF6\",\"polar\":{\"angularaxis\":{\"gridcolor\":\"white\",\"linecolor\":\"white\",\"ticks\":\"\"},\"bgcolor\":\"#E5ECF6\",\"radialaxis\":{\"gridcolor\":\"white\",\"linecolor\":\"white\",\"ticks\":\"\"}},\"scene\":{\"xaxis\":{\"backgroundcolor\":\"#E5ECF6\",\"gridcolor\":\"white\",\"gridwidth\":2,\"linecolor\":\"white\",\"showbackground\":true,\"ticks\":\"\",\"zerolinecolor\":\"white\"},\"yaxis\":{\"backgroundcolor\":\"#E5ECF6\",\"gridcolor\":\"white\",\"gridwidth\":2,\"linecolor\":\"white\",\"showbackground\":true,\"ticks\":\"\",\"zerolinecolor\":\"white\"},\"zaxis\":{\"backgroundcolor\":\"#E5ECF6\",\"gridcolor\":\"white\",\"gridwidth\":2,\"linecolor\":\"white\",\"showbackground\":true,\"ticks\":\"\",\"zerolinecolor\":\"white\"}},\"shapedefaults\":{\"line\":{\"color\":\"#2a3f5f\"}},\"ternary\":{\"aaxis\":{\"gridcolor\":\"white\",\"linecolor\":\"white\",\"ticks\":\"\"},\"baxis\":{\"gridcolor\":\"white\",\"linecolor\":\"white\",\"ticks\":\"\"},\"bgcolor\":\"#E5ECF6\",\"caxis\":{\"gridcolor\":\"white\",\"linecolor\":\"white\",\"ticks\":\"\"}},\"title\":{\"x\":0.05},\"xaxis\":{\"automargin\":true,\"gridcolor\":\"white\",\"linecolor\":\"white\",\"ticks\":\"\",\"title\":{\"standoff\":15},\"zerolinecolor\":\"white\",\"zerolinewidth\":2},\"yaxis\":{\"automargin\":true,\"gridcolor\":\"white\",\"linecolor\":\"white\",\"ticks\":\"\",\"title\":{\"standoff\":15},\"zerolinecolor\":\"white\",\"zerolinewidth\":2}}},\"title\":{\"text\":\"Content Rating\"}},                        {\"responsive\": true}                    ).then(function(){\n",
       "                            \n",
       "var gd = document.getElementById('9b05f49d-3471-45ea-b79d-0d965ebf7a31');\n",
       "var x = new MutationObserver(function (mutations, observer) {{\n",
       "        var display = window.getComputedStyle(gd).display;\n",
       "        if (!display || display === 'none') {{\n",
       "            console.log([gd, 'removed!']);\n",
       "            Plotly.purge(gd);\n",
       "            observer.disconnect();\n",
       "        }}\n",
       "}});\n",
       "\n",
       "// Listen for the removal of the full notebook cells\n",
       "var notebookContainer = gd.closest('#notebook-container');\n",
       "if (notebookContainer) {{\n",
       "    x.observe(notebookContainer, {childList: true});\n",
       "}}\n",
       "\n",
       "// Listen for the clearing of the current output cell\n",
       "var outputEl = gd.closest('.output');\n",
       "if (outputEl) {{\n",
       "    x.observe(outputEl, {childList: true});\n",
       "}}\n",
       "\n",
       "                        })                };                });            </script>        </div>"
      ]
     },
     "metadata": {},
     "output_type": "display_data"
    }
   ],
   "source": [
    "fig = px.pie(labels=ratings.index,\n",
    "values=ratings.values,\n",
    "title=\"Content Rating\",\n",
    "names=ratings.index,\n",
    "hole=0.5\n",
    ")\n",
    "fig.update_traces(textposition='outside', textinfo='percent+label')\n",
    " \n",
    "fig.show()"
   ]
  },
  {
   "cell_type": "markdown",
   "metadata": {
    "id": "RoPpW37xdiUm"
   },
   "source": [
    "# Numeric Type Conversion: Examine the Number of Installs\n",
    "\n",
    "**Challenge**: How many apps had over 1 billion (that's right - BILLION) installations? How many apps just had a single install? \n",
    "\n",
    "Check the datatype of the Installs column.\n",
    "\n",
    "Count the number of apps at each level of installations. \n",
    "\n",
    "Convert the number of installations (the Installs column) to a numeric data type. Hint: this is a 2-step process. You'll have make sure you remove non-numeric characters first. "
   ]
  },
  {
   "cell_type": "code",
   "execution_count": 99,
   "metadata": {
    "id": "uTNyWsPboJLq"
   },
   "outputs": [
    {
     "data": {
      "text/plain": [
       "dtype('O')"
      ]
     },
     "execution_count": 99,
     "metadata": {},
     "output_type": "execute_result"
    }
   ],
   "source": [
    "df_apps_clean.Installs.dtype"
   ]
  },
  {
   "cell_type": "code",
   "execution_count": 100,
   "metadata": {
    "id": "cFjptR-JoJOE"
   },
   "outputs": [
    {
     "data": {
      "text/html": [
       "<div>\n",
       "<style scoped>\n",
       "    .dataframe tbody tr th:only-of-type {\n",
       "        vertical-align: middle;\n",
       "    }\n",
       "\n",
       "    .dataframe tbody tr th {\n",
       "        vertical-align: top;\n",
       "    }\n",
       "\n",
       "    .dataframe thead th {\n",
       "        text-align: right;\n",
       "    }\n",
       "</style>\n",
       "<table border=\"1\" class=\"dataframe\">\n",
       "  <thead>\n",
       "    <tr style=\"text-align: right;\">\n",
       "      <th></th>\n",
       "      <th>App</th>\n",
       "    </tr>\n",
       "    <tr>\n",
       "      <th>Installs</th>\n",
       "      <th></th>\n",
       "    </tr>\n",
       "  </thead>\n",
       "  <tbody>\n",
       "    <tr>\n",
       "      <th>1</th>\n",
       "      <td>3</td>\n",
       "    </tr>\n",
       "    <tr>\n",
       "      <th>5</th>\n",
       "      <td>9</td>\n",
       "    </tr>\n",
       "    <tr>\n",
       "      <th>10</th>\n",
       "      <td>69</td>\n",
       "    </tr>\n",
       "    <tr>\n",
       "      <th>50</th>\n",
       "      <td>56</td>\n",
       "    </tr>\n",
       "    <tr>\n",
       "      <th>100</th>\n",
       "      <td>303</td>\n",
       "    </tr>\n",
       "    <tr>\n",
       "      <th>500</th>\n",
       "      <td>199</td>\n",
       "    </tr>\n",
       "    <tr>\n",
       "      <th>1000</th>\n",
       "      <td>698</td>\n",
       "    </tr>\n",
       "    <tr>\n",
       "      <th>5000</th>\n",
       "      <td>425</td>\n",
       "    </tr>\n",
       "    <tr>\n",
       "      <th>10000</th>\n",
       "      <td>988</td>\n",
       "    </tr>\n",
       "    <tr>\n",
       "      <th>50000</th>\n",
       "      <td>457</td>\n",
       "    </tr>\n",
       "    <tr>\n",
       "      <th>100000</th>\n",
       "      <td>1096</td>\n",
       "    </tr>\n",
       "    <tr>\n",
       "      <th>500000</th>\n",
       "      <td>504</td>\n",
       "    </tr>\n",
       "    <tr>\n",
       "      <th>1000000</th>\n",
       "      <td>1417</td>\n",
       "    </tr>\n",
       "    <tr>\n",
       "      <th>5000000</th>\n",
       "      <td>607</td>\n",
       "    </tr>\n",
       "    <tr>\n",
       "      <th>10000000</th>\n",
       "      <td>933</td>\n",
       "    </tr>\n",
       "    <tr>\n",
       "      <th>50000000</th>\n",
       "      <td>202</td>\n",
       "    </tr>\n",
       "    <tr>\n",
       "      <th>100000000</th>\n",
       "      <td>189</td>\n",
       "    </tr>\n",
       "    <tr>\n",
       "      <th>500000000</th>\n",
       "      <td>24</td>\n",
       "    </tr>\n",
       "    <tr>\n",
       "      <th>1000000000</th>\n",
       "      <td>20</td>\n",
       "    </tr>\n",
       "  </tbody>\n",
       "</table>\n",
       "</div>"
      ],
      "text/plain": [
       "             App\n",
       "Installs        \n",
       "1              3\n",
       "5              9\n",
       "10            69\n",
       "50            56\n",
       "100          303\n",
       "500          199\n",
       "1000         698\n",
       "5000         425\n",
       "10000        988\n",
       "50000        457\n",
       "100000      1096\n",
       "500000       504\n",
       "1000000     1417\n",
       "5000000      607\n",
       "10000000     933\n",
       "50000000     202\n",
       "100000000    189\n",
       "500000000     24\n",
       "1000000000    20"
      ]
     },
     "execution_count": 100,
     "metadata": {},
     "output_type": "execute_result"
    }
   ],
   "source": [
    "df_apps_clean.Installs = df_apps_clean.Installs.str.replace(',', \"\")\n",
    "df_apps_clean.Installs = pd.to_numeric(df_apps_clean.Installs)\n",
    "df_apps_clean[['App', 'Installs']].groupby('Installs').count()"
   ]
  },
  {
   "cell_type": "code",
   "execution_count": null,
   "metadata": {
    "id": "8AMmxKHgoJGT"
   },
   "outputs": [],
   "source": []
  },
  {
   "cell_type": "markdown",
   "metadata": {
    "id": "7T4sfNpFdiUv"
   },
   "source": [
    "# Find the Most Expensive Apps, Filter out the Junk, and Calculate a (ballpark) Sales Revenue Estimate\n",
    "\n",
    "Let's examine the Price column more closely.\n",
    "\n",
    "**Challenge**: Convert the price column to numeric data. Then investigate the top 20 most expensive apps in the dataset.\n",
    "\n",
    "Remove all apps that cost more than $250 from the `df_apps_clean` DataFrame.\n",
    "\n",
    "Add a column called 'Revenue_Estimate' to the DataFrame. This column should hold the price of the app times the number of installs. What are the top 10 highest grossing paid apps according to this estimate? Out of the top 10 highest grossing paid apps, how many are games?\n"
   ]
  },
  {
   "cell_type": "code",
   "execution_count": 103,
   "metadata": {
    "id": "CqhX2WCJoQEp"
   },
   "outputs": [
    {
     "data": {
      "text/plain": [
       "dtype('O')"
      ]
     },
     "execution_count": 103,
     "metadata": {},
     "output_type": "execute_result"
    }
   ],
   "source": [
    "df_apps_clean.Price.dtype"
   ]
  },
  {
   "cell_type": "code",
   "execution_count": 105,
   "metadata": {},
   "outputs": [
    {
     "name": "stderr",
     "output_type": "stream",
     "text": [
      "/var/folders/_v/bhr29ckd759fkz4gv9xgp72w0000gn/T/ipykernel_1525/2652854758.py:1: FutureWarning:\n",
      "\n",
      "The default value of regex will change from True to False in a future version. In addition, single character regular expressions will *not* be treated as literal strings when regex=True.\n",
      "\n"
     ]
    },
    {
     "data": {
      "text/html": [
       "<div>\n",
       "<style scoped>\n",
       "    .dataframe tbody tr th:only-of-type {\n",
       "        vertical-align: middle;\n",
       "    }\n",
       "\n",
       "    .dataframe tbody tr th {\n",
       "        vertical-align: top;\n",
       "    }\n",
       "\n",
       "    .dataframe thead th {\n",
       "        text-align: right;\n",
       "    }\n",
       "</style>\n",
       "<table border=\"1\" class=\"dataframe\">\n",
       "  <thead>\n",
       "    <tr style=\"text-align: right;\">\n",
       "      <th></th>\n",
       "      <th>App</th>\n",
       "      <th>Category</th>\n",
       "      <th>Rating</th>\n",
       "      <th>Reviews</th>\n",
       "      <th>Size_MBs</th>\n",
       "      <th>Installs</th>\n",
       "      <th>Type</th>\n",
       "      <th>Price</th>\n",
       "      <th>Content_Rating</th>\n",
       "      <th>Genres</th>\n",
       "    </tr>\n",
       "  </thead>\n",
       "  <tbody>\n",
       "    <tr>\n",
       "      <th>3946</th>\n",
       "      <td>I'm Rich - Trump Edition</td>\n",
       "      <td>LIFESTYLE</td>\n",
       "      <td>3.60</td>\n",
       "      <td>275</td>\n",
       "      <td>7.30</td>\n",
       "      <td>10000</td>\n",
       "      <td>Paid</td>\n",
       "      <td>400.00</td>\n",
       "      <td>Everyone</td>\n",
       "      <td>Lifestyle</td>\n",
       "    </tr>\n",
       "    <tr>\n",
       "      <th>2461</th>\n",
       "      <td>I AM RICH PRO PLUS</td>\n",
       "      <td>FINANCE</td>\n",
       "      <td>4.00</td>\n",
       "      <td>36</td>\n",
       "      <td>41.00</td>\n",
       "      <td>1000</td>\n",
       "      <td>Paid</td>\n",
       "      <td>399.99</td>\n",
       "      <td>Everyone</td>\n",
       "      <td>Finance</td>\n",
       "    </tr>\n",
       "    <tr>\n",
       "      <th>4606</th>\n",
       "      <td>I Am Rich Premium</td>\n",
       "      <td>FINANCE</td>\n",
       "      <td>4.10</td>\n",
       "      <td>1867</td>\n",
       "      <td>4.70</td>\n",
       "      <td>50000</td>\n",
       "      <td>Paid</td>\n",
       "      <td>399.99</td>\n",
       "      <td>Everyone</td>\n",
       "      <td>Finance</td>\n",
       "    </tr>\n",
       "    <tr>\n",
       "      <th>3145</th>\n",
       "      <td>I am rich(premium)</td>\n",
       "      <td>FINANCE</td>\n",
       "      <td>3.50</td>\n",
       "      <td>472</td>\n",
       "      <td>0.94</td>\n",
       "      <td>5000</td>\n",
       "      <td>Paid</td>\n",
       "      <td>399.99</td>\n",
       "      <td>Everyone</td>\n",
       "      <td>Finance</td>\n",
       "    </tr>\n",
       "    <tr>\n",
       "      <th>3554</th>\n",
       "      <td>💎 I'm rich</td>\n",
       "      <td>LIFESTYLE</td>\n",
       "      <td>3.80</td>\n",
       "      <td>718</td>\n",
       "      <td>26.00</td>\n",
       "      <td>10000</td>\n",
       "      <td>Paid</td>\n",
       "      <td>399.99</td>\n",
       "      <td>Everyone</td>\n",
       "      <td>Lifestyle</td>\n",
       "    </tr>\n",
       "    <tr>\n",
       "      <th>5765</th>\n",
       "      <td>I am rich</td>\n",
       "      <td>LIFESTYLE</td>\n",
       "      <td>3.80</td>\n",
       "      <td>3547</td>\n",
       "      <td>1.80</td>\n",
       "      <td>100000</td>\n",
       "      <td>Paid</td>\n",
       "      <td>399.99</td>\n",
       "      <td>Everyone</td>\n",
       "      <td>Lifestyle</td>\n",
       "    </tr>\n",
       "    <tr>\n",
       "      <th>1946</th>\n",
       "      <td>I am rich (Most expensive app)</td>\n",
       "      <td>FINANCE</td>\n",
       "      <td>4.10</td>\n",
       "      <td>129</td>\n",
       "      <td>2.70</td>\n",
       "      <td>1000</td>\n",
       "      <td>Paid</td>\n",
       "      <td>399.99</td>\n",
       "      <td>Teen</td>\n",
       "      <td>Finance</td>\n",
       "    </tr>\n",
       "    <tr>\n",
       "      <th>2775</th>\n",
       "      <td>I Am Rich Pro</td>\n",
       "      <td>FAMILY</td>\n",
       "      <td>4.40</td>\n",
       "      <td>201</td>\n",
       "      <td>2.70</td>\n",
       "      <td>5000</td>\n",
       "      <td>Paid</td>\n",
       "      <td>399.99</td>\n",
       "      <td>Everyone</td>\n",
       "      <td>Entertainment</td>\n",
       "    </tr>\n",
       "    <tr>\n",
       "      <th>3221</th>\n",
       "      <td>I am Rich Plus</td>\n",
       "      <td>FAMILY</td>\n",
       "      <td>4.00</td>\n",
       "      <td>856</td>\n",
       "      <td>8.70</td>\n",
       "      <td>10000</td>\n",
       "      <td>Paid</td>\n",
       "      <td>399.99</td>\n",
       "      <td>Everyone</td>\n",
       "      <td>Entertainment</td>\n",
       "    </tr>\n",
       "    <tr>\n",
       "      <th>3114</th>\n",
       "      <td>I am Rich</td>\n",
       "      <td>FINANCE</td>\n",
       "      <td>4.30</td>\n",
       "      <td>180</td>\n",
       "      <td>3.80</td>\n",
       "      <td>5000</td>\n",
       "      <td>Paid</td>\n",
       "      <td>399.99</td>\n",
       "      <td>Everyone</td>\n",
       "      <td>Finance</td>\n",
       "    </tr>\n",
       "    <tr>\n",
       "      <th>1331</th>\n",
       "      <td>most expensive app (H)</td>\n",
       "      <td>FAMILY</td>\n",
       "      <td>4.30</td>\n",
       "      <td>6</td>\n",
       "      <td>1.50</td>\n",
       "      <td>100</td>\n",
       "      <td>Paid</td>\n",
       "      <td>399.99</td>\n",
       "      <td>Everyone</td>\n",
       "      <td>Entertainment</td>\n",
       "    </tr>\n",
       "    <tr>\n",
       "      <th>2394</th>\n",
       "      <td>I am Rich!</td>\n",
       "      <td>FINANCE</td>\n",
       "      <td>3.80</td>\n",
       "      <td>93</td>\n",
       "      <td>22.00</td>\n",
       "      <td>1000</td>\n",
       "      <td>Paid</td>\n",
       "      <td>399.99</td>\n",
       "      <td>Everyone</td>\n",
       "      <td>Finance</td>\n",
       "    </tr>\n",
       "    <tr>\n",
       "      <th>3897</th>\n",
       "      <td>I Am Rich</td>\n",
       "      <td>FAMILY</td>\n",
       "      <td>3.60</td>\n",
       "      <td>217</td>\n",
       "      <td>4.90</td>\n",
       "      <td>10000</td>\n",
       "      <td>Paid</td>\n",
       "      <td>389.99</td>\n",
       "      <td>Everyone</td>\n",
       "      <td>Entertainment</td>\n",
       "    </tr>\n",
       "    <tr>\n",
       "      <th>2193</th>\n",
       "      <td>I am extremely Rich</td>\n",
       "      <td>LIFESTYLE</td>\n",
       "      <td>2.90</td>\n",
       "      <td>41</td>\n",
       "      <td>2.90</td>\n",
       "      <td>1000</td>\n",
       "      <td>Paid</td>\n",
       "      <td>379.99</td>\n",
       "      <td>Everyone</td>\n",
       "      <td>Lifestyle</td>\n",
       "    </tr>\n",
       "    <tr>\n",
       "      <th>3856</th>\n",
       "      <td>I am rich VIP</td>\n",
       "      <td>LIFESTYLE</td>\n",
       "      <td>3.80</td>\n",
       "      <td>411</td>\n",
       "      <td>2.60</td>\n",
       "      <td>10000</td>\n",
       "      <td>Paid</td>\n",
       "      <td>299.99</td>\n",
       "      <td>Everyone</td>\n",
       "      <td>Lifestyle</td>\n",
       "    </tr>\n",
       "    <tr>\n",
       "      <th>2281</th>\n",
       "      <td>Vargo Anesthesia Mega App</td>\n",
       "      <td>MEDICAL</td>\n",
       "      <td>4.60</td>\n",
       "      <td>92</td>\n",
       "      <td>32.00</td>\n",
       "      <td>1000</td>\n",
       "      <td>Paid</td>\n",
       "      <td>79.99</td>\n",
       "      <td>Everyone</td>\n",
       "      <td>Medical</td>\n",
       "    </tr>\n",
       "    <tr>\n",
       "      <th>1407</th>\n",
       "      <td>LTC AS Legal</td>\n",
       "      <td>MEDICAL</td>\n",
       "      <td>4.00</td>\n",
       "      <td>6</td>\n",
       "      <td>1.30</td>\n",
       "      <td>100</td>\n",
       "      <td>Paid</td>\n",
       "      <td>39.99</td>\n",
       "      <td>Everyone</td>\n",
       "      <td>Medical</td>\n",
       "    </tr>\n",
       "    <tr>\n",
       "      <th>2629</th>\n",
       "      <td>I am Rich Person</td>\n",
       "      <td>LIFESTYLE</td>\n",
       "      <td>4.20</td>\n",
       "      <td>134</td>\n",
       "      <td>1.80</td>\n",
       "      <td>1000</td>\n",
       "      <td>Paid</td>\n",
       "      <td>37.99</td>\n",
       "      <td>Everyone</td>\n",
       "      <td>Lifestyle</td>\n",
       "    </tr>\n",
       "    <tr>\n",
       "      <th>2481</th>\n",
       "      <td>A Manual of Acupuncture</td>\n",
       "      <td>MEDICAL</td>\n",
       "      <td>3.50</td>\n",
       "      <td>214</td>\n",
       "      <td>68.00</td>\n",
       "      <td>1000</td>\n",
       "      <td>Paid</td>\n",
       "      <td>33.99</td>\n",
       "      <td>Everyone</td>\n",
       "      <td>Medical</td>\n",
       "    </tr>\n",
       "    <tr>\n",
       "      <th>4264</th>\n",
       "      <td>Golfshot Plus: Golf GPS</td>\n",
       "      <td>SPORTS</td>\n",
       "      <td>4.10</td>\n",
       "      <td>3387</td>\n",
       "      <td>25.00</td>\n",
       "      <td>50000</td>\n",
       "      <td>Paid</td>\n",
       "      <td>29.99</td>\n",
       "      <td>Everyone</td>\n",
       "      <td>Sports</td>\n",
       "    </tr>\n",
       "  </tbody>\n",
       "</table>\n",
       "</div>"
      ],
      "text/plain": [
       "                                 App   Category  Rating  Reviews  Size_MBs  \\\n",
       "3946        I'm Rich - Trump Edition  LIFESTYLE    3.60      275      7.30   \n",
       "2461              I AM RICH PRO PLUS    FINANCE    4.00       36     41.00   \n",
       "4606               I Am Rich Premium    FINANCE    4.10     1867      4.70   \n",
       "3145              I am rich(premium)    FINANCE    3.50      472      0.94   \n",
       "3554                      💎 I'm rich  LIFESTYLE    3.80      718     26.00   \n",
       "5765                       I am rich  LIFESTYLE    3.80     3547      1.80   \n",
       "1946  I am rich (Most expensive app)    FINANCE    4.10      129      2.70   \n",
       "2775                   I Am Rich Pro     FAMILY    4.40      201      2.70   \n",
       "3221                  I am Rich Plus     FAMILY    4.00      856      8.70   \n",
       "3114                       I am Rich    FINANCE    4.30      180      3.80   \n",
       "1331          most expensive app (H)     FAMILY    4.30        6      1.50   \n",
       "2394                      I am Rich!    FINANCE    3.80       93     22.00   \n",
       "3897                       I Am Rich     FAMILY    3.60      217      4.90   \n",
       "2193             I am extremely Rich  LIFESTYLE    2.90       41      2.90   \n",
       "3856                   I am rich VIP  LIFESTYLE    3.80      411      2.60   \n",
       "2281       Vargo Anesthesia Mega App    MEDICAL    4.60       92     32.00   \n",
       "1407                    LTC AS Legal    MEDICAL    4.00        6      1.30   \n",
       "2629                I am Rich Person  LIFESTYLE    4.20      134      1.80   \n",
       "2481         A Manual of Acupuncture    MEDICAL    3.50      214     68.00   \n",
       "4264         Golfshot Plus: Golf GPS     SPORTS    4.10     3387     25.00   \n",
       "\n",
       "      Installs  Type  Price Content_Rating         Genres  \n",
       "3946     10000  Paid 400.00       Everyone      Lifestyle  \n",
       "2461      1000  Paid 399.99       Everyone        Finance  \n",
       "4606     50000  Paid 399.99       Everyone        Finance  \n",
       "3145      5000  Paid 399.99       Everyone        Finance  \n",
       "3554     10000  Paid 399.99       Everyone      Lifestyle  \n",
       "5765    100000  Paid 399.99       Everyone      Lifestyle  \n",
       "1946      1000  Paid 399.99           Teen        Finance  \n",
       "2775      5000  Paid 399.99       Everyone  Entertainment  \n",
       "3221     10000  Paid 399.99       Everyone  Entertainment  \n",
       "3114      5000  Paid 399.99       Everyone        Finance  \n",
       "1331       100  Paid 399.99       Everyone  Entertainment  \n",
       "2394      1000  Paid 399.99       Everyone        Finance  \n",
       "3897     10000  Paid 389.99       Everyone  Entertainment  \n",
       "2193      1000  Paid 379.99       Everyone      Lifestyle  \n",
       "3856     10000  Paid 299.99       Everyone      Lifestyle  \n",
       "2281      1000  Paid  79.99       Everyone        Medical  \n",
       "1407       100  Paid  39.99       Everyone        Medical  \n",
       "2629      1000  Paid  37.99       Everyone      Lifestyle  \n",
       "2481      1000  Paid  33.99       Everyone        Medical  \n",
       "4264     50000  Paid  29.99       Everyone         Sports  "
      ]
     },
     "execution_count": 105,
     "metadata": {},
     "output_type": "execute_result"
    }
   ],
   "source": [
    "df_apps_clean.Price = df_apps_clean.Price.str.replace('$', \"\")\n",
    "df_apps_clean.Price = pd.to_numeric(df_apps_clean.Price)\n",
    " \n",
    "df_apps_clean.sort_values('Price', ascending=False).head(20)"
   ]
  },
  {
   "cell_type": "markdown",
   "metadata": {
    "id": "Rgposh-CdiU4"
   },
   "source": [
    "### The most expensive apps sub $250"
   ]
  },
  {
   "cell_type": "code",
   "execution_count": 106,
   "metadata": {
    "id": "c8_n8z8XoUML"
   },
   "outputs": [
    {
     "data": {
      "text/html": [
       "<div>\n",
       "<style scoped>\n",
       "    .dataframe tbody tr th:only-of-type {\n",
       "        vertical-align: middle;\n",
       "    }\n",
       "\n",
       "    .dataframe tbody tr th {\n",
       "        vertical-align: top;\n",
       "    }\n",
       "\n",
       "    .dataframe thead th {\n",
       "        text-align: right;\n",
       "    }\n",
       "</style>\n",
       "<table border=\"1\" class=\"dataframe\">\n",
       "  <thead>\n",
       "    <tr style=\"text-align: right;\">\n",
       "      <th></th>\n",
       "      <th>App</th>\n",
       "      <th>Category</th>\n",
       "      <th>Rating</th>\n",
       "      <th>Reviews</th>\n",
       "      <th>Size_MBs</th>\n",
       "      <th>Installs</th>\n",
       "      <th>Type</th>\n",
       "      <th>Price</th>\n",
       "      <th>Content_Rating</th>\n",
       "      <th>Genres</th>\n",
       "    </tr>\n",
       "  </thead>\n",
       "  <tbody>\n",
       "    <tr>\n",
       "      <th>2281</th>\n",
       "      <td>Vargo Anesthesia Mega App</td>\n",
       "      <td>MEDICAL</td>\n",
       "      <td>4.60</td>\n",
       "      <td>92</td>\n",
       "      <td>32.00</td>\n",
       "      <td>1000</td>\n",
       "      <td>Paid</td>\n",
       "      <td>79.99</td>\n",
       "      <td>Everyone</td>\n",
       "      <td>Medical</td>\n",
       "    </tr>\n",
       "    <tr>\n",
       "      <th>1407</th>\n",
       "      <td>LTC AS Legal</td>\n",
       "      <td>MEDICAL</td>\n",
       "      <td>4.00</td>\n",
       "      <td>6</td>\n",
       "      <td>1.30</td>\n",
       "      <td>100</td>\n",
       "      <td>Paid</td>\n",
       "      <td>39.99</td>\n",
       "      <td>Everyone</td>\n",
       "      <td>Medical</td>\n",
       "    </tr>\n",
       "    <tr>\n",
       "      <th>2629</th>\n",
       "      <td>I am Rich Person</td>\n",
       "      <td>LIFESTYLE</td>\n",
       "      <td>4.20</td>\n",
       "      <td>134</td>\n",
       "      <td>1.80</td>\n",
       "      <td>1000</td>\n",
       "      <td>Paid</td>\n",
       "      <td>37.99</td>\n",
       "      <td>Everyone</td>\n",
       "      <td>Lifestyle</td>\n",
       "    </tr>\n",
       "    <tr>\n",
       "      <th>2481</th>\n",
       "      <td>A Manual of Acupuncture</td>\n",
       "      <td>MEDICAL</td>\n",
       "      <td>3.50</td>\n",
       "      <td>214</td>\n",
       "      <td>68.00</td>\n",
       "      <td>1000</td>\n",
       "      <td>Paid</td>\n",
       "      <td>33.99</td>\n",
       "      <td>Everyone</td>\n",
       "      <td>Medical</td>\n",
       "    </tr>\n",
       "    <tr>\n",
       "      <th>2463</th>\n",
       "      <td>PTA Content Master</td>\n",
       "      <td>MEDICAL</td>\n",
       "      <td>4.20</td>\n",
       "      <td>64</td>\n",
       "      <td>41.00</td>\n",
       "      <td>1000</td>\n",
       "      <td>Paid</td>\n",
       "      <td>29.99</td>\n",
       "      <td>Everyone</td>\n",
       "      <td>Medical</td>\n",
       "    </tr>\n",
       "  </tbody>\n",
       "</table>\n",
       "</div>"
      ],
      "text/plain": [
       "                            App   Category  Rating  Reviews  Size_MBs  \\\n",
       "2281  Vargo Anesthesia Mega App    MEDICAL    4.60       92     32.00   \n",
       "1407               LTC AS Legal    MEDICAL    4.00        6      1.30   \n",
       "2629           I am Rich Person  LIFESTYLE    4.20      134      1.80   \n",
       "2481    A Manual of Acupuncture    MEDICAL    3.50      214     68.00   \n",
       "2463         PTA Content Master    MEDICAL    4.20       64     41.00   \n",
       "\n",
       "      Installs  Type  Price Content_Rating     Genres  \n",
       "2281      1000  Paid  79.99       Everyone    Medical  \n",
       "1407       100  Paid  39.99       Everyone    Medical  \n",
       "2629      1000  Paid  37.99       Everyone  Lifestyle  \n",
       "2481      1000  Paid  33.99       Everyone    Medical  \n",
       "2463      1000  Paid  29.99       Everyone    Medical  "
      ]
     },
     "execution_count": 106,
     "metadata": {},
     "output_type": "execute_result"
    }
   ],
   "source": [
    "df_apps_clean = df_apps_clean[df_apps_clean['Price'] < 250]\n",
    "df_apps_clean.sort_values('Price', ascending=False).head(5)"
   ]
  },
  {
   "cell_type": "markdown",
   "metadata": {
    "id": "VGu85CLb4OOH"
   },
   "source": [
    "### Highest Grossing Paid Apps (ballpark estimate)"
   ]
  },
  {
   "cell_type": "code",
   "execution_count": 107,
   "metadata": {
    "id": "3mDi45iIoVzE"
   },
   "outputs": [
    {
     "name": "stderr",
     "output_type": "stream",
     "text": [
      "/Users/swayam/Desktop/data-science/venv/lib/python3.8/site-packages/pandas/core/frame.py:3607: SettingWithCopyWarning:\n",
      "\n",
      "\n",
      "A value is trying to be set on a copy of a slice from a DataFrame.\n",
      "Try using .loc[row_indexer,col_indexer] = value instead\n",
      "\n",
      "See the caveats in the documentation: https://pandas.pydata.org/pandas-docs/stable/user_guide/indexing.html#returning-a-view-versus-a-copy\n",
      "\n"
     ]
    },
    {
     "data": {
      "text/html": [
       "<div>\n",
       "<style scoped>\n",
       "    .dataframe tbody tr th:only-of-type {\n",
       "        vertical-align: middle;\n",
       "    }\n",
       "\n",
       "    .dataframe tbody tr th {\n",
       "        vertical-align: top;\n",
       "    }\n",
       "\n",
       "    .dataframe thead th {\n",
       "        text-align: right;\n",
       "    }\n",
       "</style>\n",
       "<table border=\"1\" class=\"dataframe\">\n",
       "  <thead>\n",
       "    <tr style=\"text-align: right;\">\n",
       "      <th></th>\n",
       "      <th>App</th>\n",
       "      <th>Category</th>\n",
       "      <th>Rating</th>\n",
       "      <th>Reviews</th>\n",
       "      <th>Size_MBs</th>\n",
       "      <th>Installs</th>\n",
       "      <th>Type</th>\n",
       "      <th>Price</th>\n",
       "      <th>Content_Rating</th>\n",
       "      <th>Genres</th>\n",
       "      <th>Revenue_Estimate</th>\n",
       "    </tr>\n",
       "  </thead>\n",
       "  <tbody>\n",
       "    <tr>\n",
       "      <th>9220</th>\n",
       "      <td>Minecraft</td>\n",
       "      <td>FAMILY</td>\n",
       "      <td>4.50</td>\n",
       "      <td>2376564</td>\n",
       "      <td>19.00</td>\n",
       "      <td>10000000</td>\n",
       "      <td>Paid</td>\n",
       "      <td>6.99</td>\n",
       "      <td>Everyone 10+</td>\n",
       "      <td>Arcade;Action &amp; Adventure</td>\n",
       "      <td>69,900,000.00</td>\n",
       "    </tr>\n",
       "    <tr>\n",
       "      <th>8825</th>\n",
       "      <td>Hitman Sniper</td>\n",
       "      <td>GAME</td>\n",
       "      <td>4.60</td>\n",
       "      <td>408292</td>\n",
       "      <td>29.00</td>\n",
       "      <td>10000000</td>\n",
       "      <td>Paid</td>\n",
       "      <td>0.99</td>\n",
       "      <td>Mature 17+</td>\n",
       "      <td>Action</td>\n",
       "      <td>9,900,000.00</td>\n",
       "    </tr>\n",
       "    <tr>\n",
       "      <th>7151</th>\n",
       "      <td>Grand Theft Auto: San Andreas</td>\n",
       "      <td>GAME</td>\n",
       "      <td>4.40</td>\n",
       "      <td>348962</td>\n",
       "      <td>26.00</td>\n",
       "      <td>1000000</td>\n",
       "      <td>Paid</td>\n",
       "      <td>6.99</td>\n",
       "      <td>Mature 17+</td>\n",
       "      <td>Action</td>\n",
       "      <td>6,990,000.00</td>\n",
       "    </tr>\n",
       "    <tr>\n",
       "      <th>7477</th>\n",
       "      <td>Facetune - For Free</td>\n",
       "      <td>PHOTOGRAPHY</td>\n",
       "      <td>4.40</td>\n",
       "      <td>49553</td>\n",
       "      <td>48.00</td>\n",
       "      <td>1000000</td>\n",
       "      <td>Paid</td>\n",
       "      <td>5.99</td>\n",
       "      <td>Everyone</td>\n",
       "      <td>Photography</td>\n",
       "      <td>5,990,000.00</td>\n",
       "    </tr>\n",
       "    <tr>\n",
       "      <th>7977</th>\n",
       "      <td>Sleep as Android Unlock</td>\n",
       "      <td>LIFESTYLE</td>\n",
       "      <td>4.50</td>\n",
       "      <td>23966</td>\n",
       "      <td>0.85</td>\n",
       "      <td>1000000</td>\n",
       "      <td>Paid</td>\n",
       "      <td>5.99</td>\n",
       "      <td>Everyone</td>\n",
       "      <td>Lifestyle</td>\n",
       "      <td>5,990,000.00</td>\n",
       "    </tr>\n",
       "    <tr>\n",
       "      <th>6594</th>\n",
       "      <td>DraStic DS Emulator</td>\n",
       "      <td>GAME</td>\n",
       "      <td>4.60</td>\n",
       "      <td>87766</td>\n",
       "      <td>12.00</td>\n",
       "      <td>1000000</td>\n",
       "      <td>Paid</td>\n",
       "      <td>4.99</td>\n",
       "      <td>Everyone</td>\n",
       "      <td>Action</td>\n",
       "      <td>4,990,000.00</td>\n",
       "    </tr>\n",
       "    <tr>\n",
       "      <th>6082</th>\n",
       "      <td>Weather Live</td>\n",
       "      <td>WEATHER</td>\n",
       "      <td>4.50</td>\n",
       "      <td>76593</td>\n",
       "      <td>4.75</td>\n",
       "      <td>500000</td>\n",
       "      <td>Paid</td>\n",
       "      <td>5.99</td>\n",
       "      <td>Everyone</td>\n",
       "      <td>Weather</td>\n",
       "      <td>2,995,000.00</td>\n",
       "    </tr>\n",
       "    <tr>\n",
       "      <th>7954</th>\n",
       "      <td>Bloons TD 5</td>\n",
       "      <td>FAMILY</td>\n",
       "      <td>4.60</td>\n",
       "      <td>190086</td>\n",
       "      <td>94.00</td>\n",
       "      <td>1000000</td>\n",
       "      <td>Paid</td>\n",
       "      <td>2.99</td>\n",
       "      <td>Everyone</td>\n",
       "      <td>Strategy</td>\n",
       "      <td>2,990,000.00</td>\n",
       "    </tr>\n",
       "    <tr>\n",
       "      <th>7633</th>\n",
       "      <td>Five Nights at Freddy's</td>\n",
       "      <td>GAME</td>\n",
       "      <td>4.60</td>\n",
       "      <td>100805</td>\n",
       "      <td>50.00</td>\n",
       "      <td>1000000</td>\n",
       "      <td>Paid</td>\n",
       "      <td>2.99</td>\n",
       "      <td>Teen</td>\n",
       "      <td>Action</td>\n",
       "      <td>2,990,000.00</td>\n",
       "    </tr>\n",
       "    <tr>\n",
       "      <th>6746</th>\n",
       "      <td>Card Wars - Adventure Time</td>\n",
       "      <td>FAMILY</td>\n",
       "      <td>4.30</td>\n",
       "      <td>129603</td>\n",
       "      <td>23.00</td>\n",
       "      <td>1000000</td>\n",
       "      <td>Paid</td>\n",
       "      <td>2.99</td>\n",
       "      <td>Everyone 10+</td>\n",
       "      <td>Card;Action &amp; Adventure</td>\n",
       "      <td>2,990,000.00</td>\n",
       "    </tr>\n",
       "  </tbody>\n",
       "</table>\n",
       "</div>"
      ],
      "text/plain": [
       "                                App     Category  Rating  Reviews  Size_MBs  \\\n",
       "9220                      Minecraft       FAMILY    4.50  2376564     19.00   \n",
       "8825                  Hitman Sniper         GAME    4.60   408292     29.00   \n",
       "7151  Grand Theft Auto: San Andreas         GAME    4.40   348962     26.00   \n",
       "7477            Facetune - For Free  PHOTOGRAPHY    4.40    49553     48.00   \n",
       "7977        Sleep as Android Unlock    LIFESTYLE    4.50    23966      0.85   \n",
       "6594            DraStic DS Emulator         GAME    4.60    87766     12.00   \n",
       "6082                   Weather Live      WEATHER    4.50    76593      4.75   \n",
       "7954                    Bloons TD 5       FAMILY    4.60   190086     94.00   \n",
       "7633        Five Nights at Freddy's         GAME    4.60   100805     50.00   \n",
       "6746     Card Wars - Adventure Time       FAMILY    4.30   129603     23.00   \n",
       "\n",
       "      Installs  Type  Price Content_Rating                     Genres  \\\n",
       "9220  10000000  Paid   6.99   Everyone 10+  Arcade;Action & Adventure   \n",
       "8825  10000000  Paid   0.99     Mature 17+                     Action   \n",
       "7151   1000000  Paid   6.99     Mature 17+                     Action   \n",
       "7477   1000000  Paid   5.99       Everyone                Photography   \n",
       "7977   1000000  Paid   5.99       Everyone                  Lifestyle   \n",
       "6594   1000000  Paid   4.99       Everyone                     Action   \n",
       "6082    500000  Paid   5.99       Everyone                    Weather   \n",
       "7954   1000000  Paid   2.99       Everyone                   Strategy   \n",
       "7633   1000000  Paid   2.99           Teen                     Action   \n",
       "6746   1000000  Paid   2.99   Everyone 10+    Card;Action & Adventure   \n",
       "\n",
       "      Revenue_Estimate  \n",
       "9220     69,900,000.00  \n",
       "8825      9,900,000.00  \n",
       "7151      6,990,000.00  \n",
       "7477      5,990,000.00  \n",
       "7977      5,990,000.00  \n",
       "6594      4,990,000.00  \n",
       "6082      2,995,000.00  \n",
       "7954      2,990,000.00  \n",
       "7633      2,990,000.00  \n",
       "6746      2,990,000.00  "
      ]
     },
     "execution_count": 107,
     "metadata": {},
     "output_type": "execute_result"
    }
   ],
   "source": [
    "df_apps_clean['Revenue_Estimate'] = df_apps_clean.Installs.mul(df_apps_clean.Price)\n",
    "df_apps_clean.sort_values('Revenue_Estimate', ascending=False)[:10]"
   ]
  },
  {
   "cell_type": "markdown",
   "metadata": {
    "dc": {
     "key": "18"
    },
    "id": "lvpM2MyTdiU6",
    "run_control": {
     "frozen": true
    },
    "tags": [
     "context"
    ]
   },
   "source": [
    "# Plotly Bar Charts & Scatter Plots: Analysing App Categories"
   ]
  },
  {
   "cell_type": "code",
   "execution_count": 108,
   "metadata": {
    "id": "3L6hK0aLoYxY"
   },
   "outputs": [
    {
     "data": {
      "text/plain": [
       "33"
      ]
     },
     "execution_count": 108,
     "metadata": {},
     "output_type": "execute_result"
    }
   ],
   "source": [
    "df_apps_clean.Category.nunique()"
   ]
  },
  {
   "cell_type": "code",
   "execution_count": 112,
   "metadata": {
    "id": "mg50Ts9joYz1"
   },
   "outputs": [
    {
     "data": {
      "text/plain": [
       "FAMILY             1606\n",
       "GAME                910\n",
       "TOOLS               719\n",
       "PRODUCTIVITY        301\n",
       "PERSONALIZATION     298\n",
       "LIFESTYLE           297\n",
       "FINANCE             296\n",
       "MEDICAL             292\n",
       "PHOTOGRAPHY         263\n",
       "BUSINESS            262\n",
       "Name: Category, dtype: int64"
      ]
     },
     "execution_count": 112,
     "metadata": {},
     "output_type": "execute_result"
    }
   ],
   "source": [
    "top_10_category = df_apps_clean.Category.value_counts()[:10]\n",
    "top_10_category"
   ]
  },
  {
   "cell_type": "code",
   "execution_count": 114,
   "metadata": {
    "id": "WZZizlGjoYfn"
   },
   "outputs": [
    {
     "data": {
      "application/vnd.plotly.v1+json": {
       "config": {
        "plotlyServerURL": "https://plot.ly"
       },
       "data": [
        {
         "alignmentgroup": "True",
         "hovertemplate": "x=%{x}<br>y=%{y}<extra></extra>",
         "legendgroup": "",
         "marker": {
          "color": "#636efa",
          "pattern": {
           "shape": ""
          }
         },
         "name": "",
         "offsetgroup": "",
         "orientation": "v",
         "showlegend": false,
         "textposition": "auto",
         "type": "bar",
         "x": [
          "FAMILY",
          "GAME",
          "TOOLS",
          "PRODUCTIVITY",
          "PERSONALIZATION",
          "LIFESTYLE",
          "FINANCE",
          "MEDICAL",
          "PHOTOGRAPHY",
          "BUSINESS"
         ],
         "xaxis": "x",
         "y": [
          1606,
          910,
          719,
          301,
          298,
          297,
          296,
          292,
          263,
          262
         ],
         "yaxis": "y"
        }
       ],
       "layout": {
        "barmode": "relative",
        "legend": {
         "tracegroupgap": 0
        },
        "margin": {
         "t": 60
        },
        "template": {
         "data": {
          "bar": [
           {
            "error_x": {
             "color": "#2a3f5f"
            },
            "error_y": {
             "color": "#2a3f5f"
            },
            "marker": {
             "line": {
              "color": "#E5ECF6",
              "width": 0.5
             },
             "pattern": {
              "fillmode": "overlay",
              "size": 10,
              "solidity": 0.2
             }
            },
            "type": "bar"
           }
          ],
          "barpolar": [
           {
            "marker": {
             "line": {
              "color": "#E5ECF6",
              "width": 0.5
             },
             "pattern": {
              "fillmode": "overlay",
              "size": 10,
              "solidity": 0.2
             }
            },
            "type": "barpolar"
           }
          ],
          "carpet": [
           {
            "aaxis": {
             "endlinecolor": "#2a3f5f",
             "gridcolor": "white",
             "linecolor": "white",
             "minorgridcolor": "white",
             "startlinecolor": "#2a3f5f"
            },
            "baxis": {
             "endlinecolor": "#2a3f5f",
             "gridcolor": "white",
             "linecolor": "white",
             "minorgridcolor": "white",
             "startlinecolor": "#2a3f5f"
            },
            "type": "carpet"
           }
          ],
          "choropleth": [
           {
            "colorbar": {
             "outlinewidth": 0,
             "ticks": ""
            },
            "type": "choropleth"
           }
          ],
          "contour": [
           {
            "colorbar": {
             "outlinewidth": 0,
             "ticks": ""
            },
            "colorscale": [
             [
              0,
              "#0d0887"
             ],
             [
              0.1111111111111111,
              "#46039f"
             ],
             [
              0.2222222222222222,
              "#7201a8"
             ],
             [
              0.3333333333333333,
              "#9c179e"
             ],
             [
              0.4444444444444444,
              "#bd3786"
             ],
             [
              0.5555555555555556,
              "#d8576b"
             ],
             [
              0.6666666666666666,
              "#ed7953"
             ],
             [
              0.7777777777777778,
              "#fb9f3a"
             ],
             [
              0.8888888888888888,
              "#fdca26"
             ],
             [
              1,
              "#f0f921"
             ]
            ],
            "type": "contour"
           }
          ],
          "contourcarpet": [
           {
            "colorbar": {
             "outlinewidth": 0,
             "ticks": ""
            },
            "type": "contourcarpet"
           }
          ],
          "heatmap": [
           {
            "colorbar": {
             "outlinewidth": 0,
             "ticks": ""
            },
            "colorscale": [
             [
              0,
              "#0d0887"
             ],
             [
              0.1111111111111111,
              "#46039f"
             ],
             [
              0.2222222222222222,
              "#7201a8"
             ],
             [
              0.3333333333333333,
              "#9c179e"
             ],
             [
              0.4444444444444444,
              "#bd3786"
             ],
             [
              0.5555555555555556,
              "#d8576b"
             ],
             [
              0.6666666666666666,
              "#ed7953"
             ],
             [
              0.7777777777777778,
              "#fb9f3a"
             ],
             [
              0.8888888888888888,
              "#fdca26"
             ],
             [
              1,
              "#f0f921"
             ]
            ],
            "type": "heatmap"
           }
          ],
          "heatmapgl": [
           {
            "colorbar": {
             "outlinewidth": 0,
             "ticks": ""
            },
            "colorscale": [
             [
              0,
              "#0d0887"
             ],
             [
              0.1111111111111111,
              "#46039f"
             ],
             [
              0.2222222222222222,
              "#7201a8"
             ],
             [
              0.3333333333333333,
              "#9c179e"
             ],
             [
              0.4444444444444444,
              "#bd3786"
             ],
             [
              0.5555555555555556,
              "#d8576b"
             ],
             [
              0.6666666666666666,
              "#ed7953"
             ],
             [
              0.7777777777777778,
              "#fb9f3a"
             ],
             [
              0.8888888888888888,
              "#fdca26"
             ],
             [
              1,
              "#f0f921"
             ]
            ],
            "type": "heatmapgl"
           }
          ],
          "histogram": [
           {
            "marker": {
             "pattern": {
              "fillmode": "overlay",
              "size": 10,
              "solidity": 0.2
             }
            },
            "type": "histogram"
           }
          ],
          "histogram2d": [
           {
            "colorbar": {
             "outlinewidth": 0,
             "ticks": ""
            },
            "colorscale": [
             [
              0,
              "#0d0887"
             ],
             [
              0.1111111111111111,
              "#46039f"
             ],
             [
              0.2222222222222222,
              "#7201a8"
             ],
             [
              0.3333333333333333,
              "#9c179e"
             ],
             [
              0.4444444444444444,
              "#bd3786"
             ],
             [
              0.5555555555555556,
              "#d8576b"
             ],
             [
              0.6666666666666666,
              "#ed7953"
             ],
             [
              0.7777777777777778,
              "#fb9f3a"
             ],
             [
              0.8888888888888888,
              "#fdca26"
             ],
             [
              1,
              "#f0f921"
             ]
            ],
            "type": "histogram2d"
           }
          ],
          "histogram2dcontour": [
           {
            "colorbar": {
             "outlinewidth": 0,
             "ticks": ""
            },
            "colorscale": [
             [
              0,
              "#0d0887"
             ],
             [
              0.1111111111111111,
              "#46039f"
             ],
             [
              0.2222222222222222,
              "#7201a8"
             ],
             [
              0.3333333333333333,
              "#9c179e"
             ],
             [
              0.4444444444444444,
              "#bd3786"
             ],
             [
              0.5555555555555556,
              "#d8576b"
             ],
             [
              0.6666666666666666,
              "#ed7953"
             ],
             [
              0.7777777777777778,
              "#fb9f3a"
             ],
             [
              0.8888888888888888,
              "#fdca26"
             ],
             [
              1,
              "#f0f921"
             ]
            ],
            "type": "histogram2dcontour"
           }
          ],
          "mesh3d": [
           {
            "colorbar": {
             "outlinewidth": 0,
             "ticks": ""
            },
            "type": "mesh3d"
           }
          ],
          "parcoords": [
           {
            "line": {
             "colorbar": {
              "outlinewidth": 0,
              "ticks": ""
             }
            },
            "type": "parcoords"
           }
          ],
          "pie": [
           {
            "automargin": true,
            "type": "pie"
           }
          ],
          "scatter": [
           {
            "marker": {
             "colorbar": {
              "outlinewidth": 0,
              "ticks": ""
             }
            },
            "type": "scatter"
           }
          ],
          "scatter3d": [
           {
            "line": {
             "colorbar": {
              "outlinewidth": 0,
              "ticks": ""
             }
            },
            "marker": {
             "colorbar": {
              "outlinewidth": 0,
              "ticks": ""
             }
            },
            "type": "scatter3d"
           }
          ],
          "scattercarpet": [
           {
            "marker": {
             "colorbar": {
              "outlinewidth": 0,
              "ticks": ""
             }
            },
            "type": "scattercarpet"
           }
          ],
          "scattergeo": [
           {
            "marker": {
             "colorbar": {
              "outlinewidth": 0,
              "ticks": ""
             }
            },
            "type": "scattergeo"
           }
          ],
          "scattergl": [
           {
            "marker": {
             "colorbar": {
              "outlinewidth": 0,
              "ticks": ""
             }
            },
            "type": "scattergl"
           }
          ],
          "scattermapbox": [
           {
            "marker": {
             "colorbar": {
              "outlinewidth": 0,
              "ticks": ""
             }
            },
            "type": "scattermapbox"
           }
          ],
          "scatterpolar": [
           {
            "marker": {
             "colorbar": {
              "outlinewidth": 0,
              "ticks": ""
             }
            },
            "type": "scatterpolar"
           }
          ],
          "scatterpolargl": [
           {
            "marker": {
             "colorbar": {
              "outlinewidth": 0,
              "ticks": ""
             }
            },
            "type": "scatterpolargl"
           }
          ],
          "scatterternary": [
           {
            "marker": {
             "colorbar": {
              "outlinewidth": 0,
              "ticks": ""
             }
            },
            "type": "scatterternary"
           }
          ],
          "surface": [
           {
            "colorbar": {
             "outlinewidth": 0,
             "ticks": ""
            },
            "colorscale": [
             [
              0,
              "#0d0887"
             ],
             [
              0.1111111111111111,
              "#46039f"
             ],
             [
              0.2222222222222222,
              "#7201a8"
             ],
             [
              0.3333333333333333,
              "#9c179e"
             ],
             [
              0.4444444444444444,
              "#bd3786"
             ],
             [
              0.5555555555555556,
              "#d8576b"
             ],
             [
              0.6666666666666666,
              "#ed7953"
             ],
             [
              0.7777777777777778,
              "#fb9f3a"
             ],
             [
              0.8888888888888888,
              "#fdca26"
             ],
             [
              1,
              "#f0f921"
             ]
            ],
            "type": "surface"
           }
          ],
          "table": [
           {
            "cells": {
             "fill": {
              "color": "#EBF0F8"
             },
             "line": {
              "color": "white"
             }
            },
            "header": {
             "fill": {
              "color": "#C8D4E3"
             },
             "line": {
              "color": "white"
             }
            },
            "type": "table"
           }
          ]
         },
         "layout": {
          "annotationdefaults": {
           "arrowcolor": "#2a3f5f",
           "arrowhead": 0,
           "arrowwidth": 1
          },
          "autotypenumbers": "strict",
          "coloraxis": {
           "colorbar": {
            "outlinewidth": 0,
            "ticks": ""
           }
          },
          "colorscale": {
           "diverging": [
            [
             0,
             "#8e0152"
            ],
            [
             0.1,
             "#c51b7d"
            ],
            [
             0.2,
             "#de77ae"
            ],
            [
             0.3,
             "#f1b6da"
            ],
            [
             0.4,
             "#fde0ef"
            ],
            [
             0.5,
             "#f7f7f7"
            ],
            [
             0.6,
             "#e6f5d0"
            ],
            [
             0.7,
             "#b8e186"
            ],
            [
             0.8,
             "#7fbc41"
            ],
            [
             0.9,
             "#4d9221"
            ],
            [
             1,
             "#276419"
            ]
           ],
           "sequential": [
            [
             0,
             "#0d0887"
            ],
            [
             0.1111111111111111,
             "#46039f"
            ],
            [
             0.2222222222222222,
             "#7201a8"
            ],
            [
             0.3333333333333333,
             "#9c179e"
            ],
            [
             0.4444444444444444,
             "#bd3786"
            ],
            [
             0.5555555555555556,
             "#d8576b"
            ],
            [
             0.6666666666666666,
             "#ed7953"
            ],
            [
             0.7777777777777778,
             "#fb9f3a"
            ],
            [
             0.8888888888888888,
             "#fdca26"
            ],
            [
             1,
             "#f0f921"
            ]
           ],
           "sequentialminus": [
            [
             0,
             "#0d0887"
            ],
            [
             0.1111111111111111,
             "#46039f"
            ],
            [
             0.2222222222222222,
             "#7201a8"
            ],
            [
             0.3333333333333333,
             "#9c179e"
            ],
            [
             0.4444444444444444,
             "#bd3786"
            ],
            [
             0.5555555555555556,
             "#d8576b"
            ],
            [
             0.6666666666666666,
             "#ed7953"
            ],
            [
             0.7777777777777778,
             "#fb9f3a"
            ],
            [
             0.8888888888888888,
             "#fdca26"
            ],
            [
             1,
             "#f0f921"
            ]
           ]
          },
          "colorway": [
           "#636efa",
           "#EF553B",
           "#00cc96",
           "#ab63fa",
           "#FFA15A",
           "#19d3f3",
           "#FF6692",
           "#B6E880",
           "#FF97FF",
           "#FECB52"
          ],
          "font": {
           "color": "#2a3f5f"
          },
          "geo": {
           "bgcolor": "white",
           "lakecolor": "white",
           "landcolor": "#E5ECF6",
           "showlakes": true,
           "showland": true,
           "subunitcolor": "white"
          },
          "hoverlabel": {
           "align": "left"
          },
          "hovermode": "closest",
          "mapbox": {
           "style": "light"
          },
          "paper_bgcolor": "white",
          "plot_bgcolor": "#E5ECF6",
          "polar": {
           "angularaxis": {
            "gridcolor": "white",
            "linecolor": "white",
            "ticks": ""
           },
           "bgcolor": "#E5ECF6",
           "radialaxis": {
            "gridcolor": "white",
            "linecolor": "white",
            "ticks": ""
           }
          },
          "scene": {
           "xaxis": {
            "backgroundcolor": "#E5ECF6",
            "gridcolor": "white",
            "gridwidth": 2,
            "linecolor": "white",
            "showbackground": true,
            "ticks": "",
            "zerolinecolor": "white"
           },
           "yaxis": {
            "backgroundcolor": "#E5ECF6",
            "gridcolor": "white",
            "gridwidth": 2,
            "linecolor": "white",
            "showbackground": true,
            "ticks": "",
            "zerolinecolor": "white"
           },
           "zaxis": {
            "backgroundcolor": "#E5ECF6",
            "gridcolor": "white",
            "gridwidth": 2,
            "linecolor": "white",
            "showbackground": true,
            "ticks": "",
            "zerolinecolor": "white"
           }
          },
          "shapedefaults": {
           "line": {
            "color": "#2a3f5f"
           }
          },
          "ternary": {
           "aaxis": {
            "gridcolor": "white",
            "linecolor": "white",
            "ticks": ""
           },
           "baxis": {
            "gridcolor": "white",
            "linecolor": "white",
            "ticks": ""
           },
           "bgcolor": "#E5ECF6",
           "caxis": {
            "gridcolor": "white",
            "linecolor": "white",
            "ticks": ""
           }
          },
          "title": {
           "x": 0.05
          },
          "xaxis": {
           "automargin": true,
           "gridcolor": "white",
           "linecolor": "white",
           "ticks": "",
           "title": {
            "standoff": 15
           },
           "zerolinecolor": "white",
           "zerolinewidth": 2
          },
          "yaxis": {
           "automargin": true,
           "gridcolor": "white",
           "linecolor": "white",
           "ticks": "",
           "title": {
            "standoff": 15
           },
           "zerolinecolor": "white",
           "zerolinewidth": 2
          }
         }
        },
        "xaxis": {
         "anchor": "y",
         "domain": [
          0,
          1
         ],
         "title": {
          "text": "x"
         }
        },
        "yaxis": {
         "anchor": "x",
         "domain": [
          0,
          1
         ],
         "title": {
          "text": "y"
         }
        }
       }
      },
      "text/html": [
       "<div>                            <div id=\"6f9fbc10-6ac7-4d1d-a684-fc7f9152d216\" class=\"plotly-graph-div\" style=\"height:525px; width:100%;\"></div>            <script type=\"text/javascript\">                require([\"plotly\"], function(Plotly) {                    window.PLOTLYENV=window.PLOTLYENV || {};                                    if (document.getElementById(\"6f9fbc10-6ac7-4d1d-a684-fc7f9152d216\")) {                    Plotly.newPlot(                        \"6f9fbc10-6ac7-4d1d-a684-fc7f9152d216\",                        [{\"alignmentgroup\":\"True\",\"hovertemplate\":\"x=%{x}<br>y=%{y}<extra></extra>\",\"legendgroup\":\"\",\"marker\":{\"color\":\"#636efa\",\"pattern\":{\"shape\":\"\"}},\"name\":\"\",\"offsetgroup\":\"\",\"orientation\":\"v\",\"showlegend\":false,\"textposition\":\"auto\",\"type\":\"bar\",\"x\":[\"FAMILY\",\"GAME\",\"TOOLS\",\"PRODUCTIVITY\",\"PERSONALIZATION\",\"LIFESTYLE\",\"FINANCE\",\"MEDICAL\",\"PHOTOGRAPHY\",\"BUSINESS\"],\"xaxis\":\"x\",\"y\":[1606,910,719,301,298,297,296,292,263,262],\"yaxis\":\"y\"}],                        {\"barmode\":\"relative\",\"legend\":{\"tracegroupgap\":0},\"margin\":{\"t\":60},\"template\":{\"data\":{\"bar\":[{\"error_x\":{\"color\":\"#2a3f5f\"},\"error_y\":{\"color\":\"#2a3f5f\"},\"marker\":{\"line\":{\"color\":\"#E5ECF6\",\"width\":0.5},\"pattern\":{\"fillmode\":\"overlay\",\"size\":10,\"solidity\":0.2}},\"type\":\"bar\"}],\"barpolar\":[{\"marker\":{\"line\":{\"color\":\"#E5ECF6\",\"width\":0.5},\"pattern\":{\"fillmode\":\"overlay\",\"size\":10,\"solidity\":0.2}},\"type\":\"barpolar\"}],\"carpet\":[{\"aaxis\":{\"endlinecolor\":\"#2a3f5f\",\"gridcolor\":\"white\",\"linecolor\":\"white\",\"minorgridcolor\":\"white\",\"startlinecolor\":\"#2a3f5f\"},\"baxis\":{\"endlinecolor\":\"#2a3f5f\",\"gridcolor\":\"white\",\"linecolor\":\"white\",\"minorgridcolor\":\"white\",\"startlinecolor\":\"#2a3f5f\"},\"type\":\"carpet\"}],\"choropleth\":[{\"colorbar\":{\"outlinewidth\":0,\"ticks\":\"\"},\"type\":\"choropleth\"}],\"contour\":[{\"colorbar\":{\"outlinewidth\":0,\"ticks\":\"\"},\"colorscale\":[[0.0,\"#0d0887\"],[0.1111111111111111,\"#46039f\"],[0.2222222222222222,\"#7201a8\"],[0.3333333333333333,\"#9c179e\"],[0.4444444444444444,\"#bd3786\"],[0.5555555555555556,\"#d8576b\"],[0.6666666666666666,\"#ed7953\"],[0.7777777777777778,\"#fb9f3a\"],[0.8888888888888888,\"#fdca26\"],[1.0,\"#f0f921\"]],\"type\":\"contour\"}],\"contourcarpet\":[{\"colorbar\":{\"outlinewidth\":0,\"ticks\":\"\"},\"type\":\"contourcarpet\"}],\"heatmap\":[{\"colorbar\":{\"outlinewidth\":0,\"ticks\":\"\"},\"colorscale\":[[0.0,\"#0d0887\"],[0.1111111111111111,\"#46039f\"],[0.2222222222222222,\"#7201a8\"],[0.3333333333333333,\"#9c179e\"],[0.4444444444444444,\"#bd3786\"],[0.5555555555555556,\"#d8576b\"],[0.6666666666666666,\"#ed7953\"],[0.7777777777777778,\"#fb9f3a\"],[0.8888888888888888,\"#fdca26\"],[1.0,\"#f0f921\"]],\"type\":\"heatmap\"}],\"heatmapgl\":[{\"colorbar\":{\"outlinewidth\":0,\"ticks\":\"\"},\"colorscale\":[[0.0,\"#0d0887\"],[0.1111111111111111,\"#46039f\"],[0.2222222222222222,\"#7201a8\"],[0.3333333333333333,\"#9c179e\"],[0.4444444444444444,\"#bd3786\"],[0.5555555555555556,\"#d8576b\"],[0.6666666666666666,\"#ed7953\"],[0.7777777777777778,\"#fb9f3a\"],[0.8888888888888888,\"#fdca26\"],[1.0,\"#f0f921\"]],\"type\":\"heatmapgl\"}],\"histogram\":[{\"marker\":{\"pattern\":{\"fillmode\":\"overlay\",\"size\":10,\"solidity\":0.2}},\"type\":\"histogram\"}],\"histogram2d\":[{\"colorbar\":{\"outlinewidth\":0,\"ticks\":\"\"},\"colorscale\":[[0.0,\"#0d0887\"],[0.1111111111111111,\"#46039f\"],[0.2222222222222222,\"#7201a8\"],[0.3333333333333333,\"#9c179e\"],[0.4444444444444444,\"#bd3786\"],[0.5555555555555556,\"#d8576b\"],[0.6666666666666666,\"#ed7953\"],[0.7777777777777778,\"#fb9f3a\"],[0.8888888888888888,\"#fdca26\"],[1.0,\"#f0f921\"]],\"type\":\"histogram2d\"}],\"histogram2dcontour\":[{\"colorbar\":{\"outlinewidth\":0,\"ticks\":\"\"},\"colorscale\":[[0.0,\"#0d0887\"],[0.1111111111111111,\"#46039f\"],[0.2222222222222222,\"#7201a8\"],[0.3333333333333333,\"#9c179e\"],[0.4444444444444444,\"#bd3786\"],[0.5555555555555556,\"#d8576b\"],[0.6666666666666666,\"#ed7953\"],[0.7777777777777778,\"#fb9f3a\"],[0.8888888888888888,\"#fdca26\"],[1.0,\"#f0f921\"]],\"type\":\"histogram2dcontour\"}],\"mesh3d\":[{\"colorbar\":{\"outlinewidth\":0,\"ticks\":\"\"},\"type\":\"mesh3d\"}],\"parcoords\":[{\"line\":{\"colorbar\":{\"outlinewidth\":0,\"ticks\":\"\"}},\"type\":\"parcoords\"}],\"pie\":[{\"automargin\":true,\"type\":\"pie\"}],\"scatter\":[{\"marker\":{\"colorbar\":{\"outlinewidth\":0,\"ticks\":\"\"}},\"type\":\"scatter\"}],\"scatter3d\":[{\"line\":{\"colorbar\":{\"outlinewidth\":0,\"ticks\":\"\"}},\"marker\":{\"colorbar\":{\"outlinewidth\":0,\"ticks\":\"\"}},\"type\":\"scatter3d\"}],\"scattercarpet\":[{\"marker\":{\"colorbar\":{\"outlinewidth\":0,\"ticks\":\"\"}},\"type\":\"scattercarpet\"}],\"scattergeo\":[{\"marker\":{\"colorbar\":{\"outlinewidth\":0,\"ticks\":\"\"}},\"type\":\"scattergeo\"}],\"scattergl\":[{\"marker\":{\"colorbar\":{\"outlinewidth\":0,\"ticks\":\"\"}},\"type\":\"scattergl\"}],\"scattermapbox\":[{\"marker\":{\"colorbar\":{\"outlinewidth\":0,\"ticks\":\"\"}},\"type\":\"scattermapbox\"}],\"scatterpolar\":[{\"marker\":{\"colorbar\":{\"outlinewidth\":0,\"ticks\":\"\"}},\"type\":\"scatterpolar\"}],\"scatterpolargl\":[{\"marker\":{\"colorbar\":{\"outlinewidth\":0,\"ticks\":\"\"}},\"type\":\"scatterpolargl\"}],\"scatterternary\":[{\"marker\":{\"colorbar\":{\"outlinewidth\":0,\"ticks\":\"\"}},\"type\":\"scatterternary\"}],\"surface\":[{\"colorbar\":{\"outlinewidth\":0,\"ticks\":\"\"},\"colorscale\":[[0.0,\"#0d0887\"],[0.1111111111111111,\"#46039f\"],[0.2222222222222222,\"#7201a8\"],[0.3333333333333333,\"#9c179e\"],[0.4444444444444444,\"#bd3786\"],[0.5555555555555556,\"#d8576b\"],[0.6666666666666666,\"#ed7953\"],[0.7777777777777778,\"#fb9f3a\"],[0.8888888888888888,\"#fdca26\"],[1.0,\"#f0f921\"]],\"type\":\"surface\"}],\"table\":[{\"cells\":{\"fill\":{\"color\":\"#EBF0F8\"},\"line\":{\"color\":\"white\"}},\"header\":{\"fill\":{\"color\":\"#C8D4E3\"},\"line\":{\"color\":\"white\"}},\"type\":\"table\"}]},\"layout\":{\"annotationdefaults\":{\"arrowcolor\":\"#2a3f5f\",\"arrowhead\":0,\"arrowwidth\":1},\"autotypenumbers\":\"strict\",\"coloraxis\":{\"colorbar\":{\"outlinewidth\":0,\"ticks\":\"\"}},\"colorscale\":{\"diverging\":[[0,\"#8e0152\"],[0.1,\"#c51b7d\"],[0.2,\"#de77ae\"],[0.3,\"#f1b6da\"],[0.4,\"#fde0ef\"],[0.5,\"#f7f7f7\"],[0.6,\"#e6f5d0\"],[0.7,\"#b8e186\"],[0.8,\"#7fbc41\"],[0.9,\"#4d9221\"],[1,\"#276419\"]],\"sequential\":[[0.0,\"#0d0887\"],[0.1111111111111111,\"#46039f\"],[0.2222222222222222,\"#7201a8\"],[0.3333333333333333,\"#9c179e\"],[0.4444444444444444,\"#bd3786\"],[0.5555555555555556,\"#d8576b\"],[0.6666666666666666,\"#ed7953\"],[0.7777777777777778,\"#fb9f3a\"],[0.8888888888888888,\"#fdca26\"],[1.0,\"#f0f921\"]],\"sequentialminus\":[[0.0,\"#0d0887\"],[0.1111111111111111,\"#46039f\"],[0.2222222222222222,\"#7201a8\"],[0.3333333333333333,\"#9c179e\"],[0.4444444444444444,\"#bd3786\"],[0.5555555555555556,\"#d8576b\"],[0.6666666666666666,\"#ed7953\"],[0.7777777777777778,\"#fb9f3a\"],[0.8888888888888888,\"#fdca26\"],[1.0,\"#f0f921\"]]},\"colorway\":[\"#636efa\",\"#EF553B\",\"#00cc96\",\"#ab63fa\",\"#FFA15A\",\"#19d3f3\",\"#FF6692\",\"#B6E880\",\"#FF97FF\",\"#FECB52\"],\"font\":{\"color\":\"#2a3f5f\"},\"geo\":{\"bgcolor\":\"white\",\"lakecolor\":\"white\",\"landcolor\":\"#E5ECF6\",\"showlakes\":true,\"showland\":true,\"subunitcolor\":\"white\"},\"hoverlabel\":{\"align\":\"left\"},\"hovermode\":\"closest\",\"mapbox\":{\"style\":\"light\"},\"paper_bgcolor\":\"white\",\"plot_bgcolor\":\"#E5ECF6\",\"polar\":{\"angularaxis\":{\"gridcolor\":\"white\",\"linecolor\":\"white\",\"ticks\":\"\"},\"bgcolor\":\"#E5ECF6\",\"radialaxis\":{\"gridcolor\":\"white\",\"linecolor\":\"white\",\"ticks\":\"\"}},\"scene\":{\"xaxis\":{\"backgroundcolor\":\"#E5ECF6\",\"gridcolor\":\"white\",\"gridwidth\":2,\"linecolor\":\"white\",\"showbackground\":true,\"ticks\":\"\",\"zerolinecolor\":\"white\"},\"yaxis\":{\"backgroundcolor\":\"#E5ECF6\",\"gridcolor\":\"white\",\"gridwidth\":2,\"linecolor\":\"white\",\"showbackground\":true,\"ticks\":\"\",\"zerolinecolor\":\"white\"},\"zaxis\":{\"backgroundcolor\":\"#E5ECF6\",\"gridcolor\":\"white\",\"gridwidth\":2,\"linecolor\":\"white\",\"showbackground\":true,\"ticks\":\"\",\"zerolinecolor\":\"white\"}},\"shapedefaults\":{\"line\":{\"color\":\"#2a3f5f\"}},\"ternary\":{\"aaxis\":{\"gridcolor\":\"white\",\"linecolor\":\"white\",\"ticks\":\"\"},\"baxis\":{\"gridcolor\":\"white\",\"linecolor\":\"white\",\"ticks\":\"\"},\"bgcolor\":\"#E5ECF6\",\"caxis\":{\"gridcolor\":\"white\",\"linecolor\":\"white\",\"ticks\":\"\"}},\"title\":{\"x\":0.05},\"xaxis\":{\"automargin\":true,\"gridcolor\":\"white\",\"linecolor\":\"white\",\"ticks\":\"\",\"title\":{\"standoff\":15},\"zerolinecolor\":\"white\",\"zerolinewidth\":2},\"yaxis\":{\"automargin\":true,\"gridcolor\":\"white\",\"linecolor\":\"white\",\"ticks\":\"\",\"title\":{\"standoff\":15},\"zerolinecolor\":\"white\",\"zerolinewidth\":2}}},\"xaxis\":{\"anchor\":\"y\",\"domain\":[0.0,1.0],\"title\":{\"text\":\"x\"}},\"yaxis\":{\"anchor\":\"x\",\"domain\":[0.0,1.0],\"title\":{\"text\":\"y\"}}},                        {\"responsive\": true}                    ).then(function(){\n",
       "                            \n",
       "var gd = document.getElementById('6f9fbc10-6ac7-4d1d-a684-fc7f9152d216');\n",
       "var x = new MutationObserver(function (mutations, observer) {{\n",
       "        var display = window.getComputedStyle(gd).display;\n",
       "        if (!display || display === 'none') {{\n",
       "            console.log([gd, 'removed!']);\n",
       "            Plotly.purge(gd);\n",
       "            observer.disconnect();\n",
       "        }}\n",
       "}});\n",
       "\n",
       "// Listen for the removal of the full notebook cells\n",
       "var notebookContainer = gd.closest('#notebook-container');\n",
       "if (notebookContainer) {{\n",
       "    x.observe(notebookContainer, {childList: true});\n",
       "}}\n",
       "\n",
       "// Listen for the clearing of the current output cell\n",
       "var outputEl = gd.closest('.output');\n",
       "if (outputEl) {{\n",
       "    x.observe(outputEl, {childList: true});\n",
       "}}\n",
       "\n",
       "                        })                };                });            </script>        </div>"
      ]
     },
     "metadata": {},
     "output_type": "display_data"
    }
   ],
   "source": [
    "bar = px.bar(x=top_10_category.index, y=top_10_category.values)\n",
    "bar.show()"
   ]
  },
  {
   "cell_type": "markdown",
   "metadata": {
    "id": "0tTurR7qdiU9"
   },
   "source": [
    "### Vertical Bar Chart - Highest Competition (Number of Apps)"
   ]
  },
  {
   "cell_type": "code",
   "execution_count": 118,
   "metadata": {
    "id": "SFSMH00AoaMB"
   },
   "outputs": [
    {
     "data": {
      "text/html": [
       "<div>\n",
       "<style scoped>\n",
       "    .dataframe tbody tr th:only-of-type {\n",
       "        vertical-align: middle;\n",
       "    }\n",
       "\n",
       "    .dataframe tbody tr th {\n",
       "        vertical-align: top;\n",
       "    }\n",
       "\n",
       "    .dataframe thead th {\n",
       "        text-align: right;\n",
       "    }\n",
       "</style>\n",
       "<table border=\"1\" class=\"dataframe\">\n",
       "  <thead>\n",
       "    <tr style=\"text-align: right;\">\n",
       "      <th></th>\n",
       "      <th>Installs</th>\n",
       "    </tr>\n",
       "    <tr>\n",
       "      <th>Category</th>\n",
       "      <th></th>\n",
       "    </tr>\n",
       "  </thead>\n",
       "  <tbody>\n",
       "    <tr>\n",
       "      <th>EVENTS</th>\n",
       "      <td>15949410</td>\n",
       "    </tr>\n",
       "    <tr>\n",
       "      <th>BEAUTY</th>\n",
       "      <td>26916200</td>\n",
       "    </tr>\n",
       "    <tr>\n",
       "      <th>PARENTING</th>\n",
       "      <td>31116110</td>\n",
       "    </tr>\n",
       "    <tr>\n",
       "      <th>MEDICAL</th>\n",
       "      <td>39162676</td>\n",
       "    </tr>\n",
       "    <tr>\n",
       "      <th>COMICS</th>\n",
       "      <td>44931100</td>\n",
       "    </tr>\n",
       "  </tbody>\n",
       "</table>\n",
       "</div>"
      ],
      "text/plain": [
       "           Installs\n",
       "Category           \n",
       "EVENTS     15949410\n",
       "BEAUTY     26916200\n",
       "PARENTING  31116110\n",
       "MEDICAL    39162676\n",
       "COMICS     44931100"
      ]
     },
     "execution_count": 118,
     "metadata": {},
     "output_type": "execute_result"
    }
   ],
   "source": [
    "category_installs = df_apps_clean.groupby('Category').agg({'Installs':pd.Series.sum})\n",
    "category_installs.sort_values('Installs', ascending=True, inplace=True)\n",
    "category_installs.head()"
   ]
  },
  {
   "cell_type": "markdown",
   "metadata": {
    "id": "57mowetLdiU_"
   },
   "source": [
    "### Horizontal Bar Chart - Most Popular Categories (Highest Downloads)"
   ]
  },
  {
   "cell_type": "code",
   "execution_count": 120,
   "metadata": {
    "id": "zHO7eTJmocLm"
   },
   "outputs": [
    {
     "data": {
      "application/vnd.plotly.v1+json": {
       "config": {
        "plotlyServerURL": "https://plot.ly"
       },
       "data": [
        {
         "alignmentgroup": "True",
         "hovertemplate": "x=%{x}<br>y=%{y}<extra></extra>",
         "legendgroup": "",
         "marker": {
          "color": "#636efa",
          "pattern": {
           "shape": ""
          }
         },
         "name": "",
         "offsetgroup": "",
         "orientation": "h",
         "showlegend": false,
         "textposition": "auto",
         "type": "bar",
         "x": [
          15949410,
          26916200,
          31116110,
          39162676,
          44931100,
          52083000,
          53129800,
          97082000,
          114233100,
          140912410,
          211677750,
          352852000,
          361096500,
          455249400,
          503267560,
          503611120,
          692018120,
          1096431465,
          1134006220,
          1400331540,
          1532352930,
          1665791655,
          2113660000,
          2369110650,
          2894859300,
          3916897200,
          4437554490,
          4649143130,
          5487841475,
          5788070180,
          8099724500,
          11039241530,
          13858762717
         ],
         "xaxis": "x",
         "y": [
          "EVENTS",
          "BEAUTY",
          "PARENTING",
          "MEDICAL",
          "COMICS",
          "LIBRARIES_AND_DEMO",
          "AUTO_AND_VEHICLES",
          "HOUSE_AND_HOME",
          "ART_AND_DESIGN",
          "DATING",
          "FOOD_AND_DRINK",
          "EDUCATION",
          "WEATHER",
          "FINANCE",
          "MAPS_AND_NAVIGATION",
          "LIFESTYLE",
          "BUSINESS",
          "SPORTS",
          "HEALTH_AND_FITNESS",
          "SHOPPING",
          "PERSONALIZATION",
          "BOOKS_AND_REFERENCE",
          "ENTERTAINMENT",
          "NEWS_AND_MAGAZINES",
          "TRAVEL_AND_LOCAL",
          "VIDEO_PLAYERS",
          "FAMILY",
          "PHOTOGRAPHY",
          "SOCIAL",
          "PRODUCTIVITY",
          "TOOLS",
          "COMMUNICATION",
          "GAME"
         ],
         "yaxis": "y"
        }
       ],
       "layout": {
        "barmode": "relative",
        "legend": {
         "tracegroupgap": 0
        },
        "margin": {
         "t": 60
        },
        "template": {
         "data": {
          "bar": [
           {
            "error_x": {
             "color": "#2a3f5f"
            },
            "error_y": {
             "color": "#2a3f5f"
            },
            "marker": {
             "line": {
              "color": "#E5ECF6",
              "width": 0.5
             },
             "pattern": {
              "fillmode": "overlay",
              "size": 10,
              "solidity": 0.2
             }
            },
            "type": "bar"
           }
          ],
          "barpolar": [
           {
            "marker": {
             "line": {
              "color": "#E5ECF6",
              "width": 0.5
             },
             "pattern": {
              "fillmode": "overlay",
              "size": 10,
              "solidity": 0.2
             }
            },
            "type": "barpolar"
           }
          ],
          "carpet": [
           {
            "aaxis": {
             "endlinecolor": "#2a3f5f",
             "gridcolor": "white",
             "linecolor": "white",
             "minorgridcolor": "white",
             "startlinecolor": "#2a3f5f"
            },
            "baxis": {
             "endlinecolor": "#2a3f5f",
             "gridcolor": "white",
             "linecolor": "white",
             "minorgridcolor": "white",
             "startlinecolor": "#2a3f5f"
            },
            "type": "carpet"
           }
          ],
          "choropleth": [
           {
            "colorbar": {
             "outlinewidth": 0,
             "ticks": ""
            },
            "type": "choropleth"
           }
          ],
          "contour": [
           {
            "colorbar": {
             "outlinewidth": 0,
             "ticks": ""
            },
            "colorscale": [
             [
              0,
              "#0d0887"
             ],
             [
              0.1111111111111111,
              "#46039f"
             ],
             [
              0.2222222222222222,
              "#7201a8"
             ],
             [
              0.3333333333333333,
              "#9c179e"
             ],
             [
              0.4444444444444444,
              "#bd3786"
             ],
             [
              0.5555555555555556,
              "#d8576b"
             ],
             [
              0.6666666666666666,
              "#ed7953"
             ],
             [
              0.7777777777777778,
              "#fb9f3a"
             ],
             [
              0.8888888888888888,
              "#fdca26"
             ],
             [
              1,
              "#f0f921"
             ]
            ],
            "type": "contour"
           }
          ],
          "contourcarpet": [
           {
            "colorbar": {
             "outlinewidth": 0,
             "ticks": ""
            },
            "type": "contourcarpet"
           }
          ],
          "heatmap": [
           {
            "colorbar": {
             "outlinewidth": 0,
             "ticks": ""
            },
            "colorscale": [
             [
              0,
              "#0d0887"
             ],
             [
              0.1111111111111111,
              "#46039f"
             ],
             [
              0.2222222222222222,
              "#7201a8"
             ],
             [
              0.3333333333333333,
              "#9c179e"
             ],
             [
              0.4444444444444444,
              "#bd3786"
             ],
             [
              0.5555555555555556,
              "#d8576b"
             ],
             [
              0.6666666666666666,
              "#ed7953"
             ],
             [
              0.7777777777777778,
              "#fb9f3a"
             ],
             [
              0.8888888888888888,
              "#fdca26"
             ],
             [
              1,
              "#f0f921"
             ]
            ],
            "type": "heatmap"
           }
          ],
          "heatmapgl": [
           {
            "colorbar": {
             "outlinewidth": 0,
             "ticks": ""
            },
            "colorscale": [
             [
              0,
              "#0d0887"
             ],
             [
              0.1111111111111111,
              "#46039f"
             ],
             [
              0.2222222222222222,
              "#7201a8"
             ],
             [
              0.3333333333333333,
              "#9c179e"
             ],
             [
              0.4444444444444444,
              "#bd3786"
             ],
             [
              0.5555555555555556,
              "#d8576b"
             ],
             [
              0.6666666666666666,
              "#ed7953"
             ],
             [
              0.7777777777777778,
              "#fb9f3a"
             ],
             [
              0.8888888888888888,
              "#fdca26"
             ],
             [
              1,
              "#f0f921"
             ]
            ],
            "type": "heatmapgl"
           }
          ],
          "histogram": [
           {
            "marker": {
             "pattern": {
              "fillmode": "overlay",
              "size": 10,
              "solidity": 0.2
             }
            },
            "type": "histogram"
           }
          ],
          "histogram2d": [
           {
            "colorbar": {
             "outlinewidth": 0,
             "ticks": ""
            },
            "colorscale": [
             [
              0,
              "#0d0887"
             ],
             [
              0.1111111111111111,
              "#46039f"
             ],
             [
              0.2222222222222222,
              "#7201a8"
             ],
             [
              0.3333333333333333,
              "#9c179e"
             ],
             [
              0.4444444444444444,
              "#bd3786"
             ],
             [
              0.5555555555555556,
              "#d8576b"
             ],
             [
              0.6666666666666666,
              "#ed7953"
             ],
             [
              0.7777777777777778,
              "#fb9f3a"
             ],
             [
              0.8888888888888888,
              "#fdca26"
             ],
             [
              1,
              "#f0f921"
             ]
            ],
            "type": "histogram2d"
           }
          ],
          "histogram2dcontour": [
           {
            "colorbar": {
             "outlinewidth": 0,
             "ticks": ""
            },
            "colorscale": [
             [
              0,
              "#0d0887"
             ],
             [
              0.1111111111111111,
              "#46039f"
             ],
             [
              0.2222222222222222,
              "#7201a8"
             ],
             [
              0.3333333333333333,
              "#9c179e"
             ],
             [
              0.4444444444444444,
              "#bd3786"
             ],
             [
              0.5555555555555556,
              "#d8576b"
             ],
             [
              0.6666666666666666,
              "#ed7953"
             ],
             [
              0.7777777777777778,
              "#fb9f3a"
             ],
             [
              0.8888888888888888,
              "#fdca26"
             ],
             [
              1,
              "#f0f921"
             ]
            ],
            "type": "histogram2dcontour"
           }
          ],
          "mesh3d": [
           {
            "colorbar": {
             "outlinewidth": 0,
             "ticks": ""
            },
            "type": "mesh3d"
           }
          ],
          "parcoords": [
           {
            "line": {
             "colorbar": {
              "outlinewidth": 0,
              "ticks": ""
             }
            },
            "type": "parcoords"
           }
          ],
          "pie": [
           {
            "automargin": true,
            "type": "pie"
           }
          ],
          "scatter": [
           {
            "marker": {
             "colorbar": {
              "outlinewidth": 0,
              "ticks": ""
             }
            },
            "type": "scatter"
           }
          ],
          "scatter3d": [
           {
            "line": {
             "colorbar": {
              "outlinewidth": 0,
              "ticks": ""
             }
            },
            "marker": {
             "colorbar": {
              "outlinewidth": 0,
              "ticks": ""
             }
            },
            "type": "scatter3d"
           }
          ],
          "scattercarpet": [
           {
            "marker": {
             "colorbar": {
              "outlinewidth": 0,
              "ticks": ""
             }
            },
            "type": "scattercarpet"
           }
          ],
          "scattergeo": [
           {
            "marker": {
             "colorbar": {
              "outlinewidth": 0,
              "ticks": ""
             }
            },
            "type": "scattergeo"
           }
          ],
          "scattergl": [
           {
            "marker": {
             "colorbar": {
              "outlinewidth": 0,
              "ticks": ""
             }
            },
            "type": "scattergl"
           }
          ],
          "scattermapbox": [
           {
            "marker": {
             "colorbar": {
              "outlinewidth": 0,
              "ticks": ""
             }
            },
            "type": "scattermapbox"
           }
          ],
          "scatterpolar": [
           {
            "marker": {
             "colorbar": {
              "outlinewidth": 0,
              "ticks": ""
             }
            },
            "type": "scatterpolar"
           }
          ],
          "scatterpolargl": [
           {
            "marker": {
             "colorbar": {
              "outlinewidth": 0,
              "ticks": ""
             }
            },
            "type": "scatterpolargl"
           }
          ],
          "scatterternary": [
           {
            "marker": {
             "colorbar": {
              "outlinewidth": 0,
              "ticks": ""
             }
            },
            "type": "scatterternary"
           }
          ],
          "surface": [
           {
            "colorbar": {
             "outlinewidth": 0,
             "ticks": ""
            },
            "colorscale": [
             [
              0,
              "#0d0887"
             ],
             [
              0.1111111111111111,
              "#46039f"
             ],
             [
              0.2222222222222222,
              "#7201a8"
             ],
             [
              0.3333333333333333,
              "#9c179e"
             ],
             [
              0.4444444444444444,
              "#bd3786"
             ],
             [
              0.5555555555555556,
              "#d8576b"
             ],
             [
              0.6666666666666666,
              "#ed7953"
             ],
             [
              0.7777777777777778,
              "#fb9f3a"
             ],
             [
              0.8888888888888888,
              "#fdca26"
             ],
             [
              1,
              "#f0f921"
             ]
            ],
            "type": "surface"
           }
          ],
          "table": [
           {
            "cells": {
             "fill": {
              "color": "#EBF0F8"
             },
             "line": {
              "color": "white"
             }
            },
            "header": {
             "fill": {
              "color": "#C8D4E3"
             },
             "line": {
              "color": "white"
             }
            },
            "type": "table"
           }
          ]
         },
         "layout": {
          "annotationdefaults": {
           "arrowcolor": "#2a3f5f",
           "arrowhead": 0,
           "arrowwidth": 1
          },
          "autotypenumbers": "strict",
          "coloraxis": {
           "colorbar": {
            "outlinewidth": 0,
            "ticks": ""
           }
          },
          "colorscale": {
           "diverging": [
            [
             0,
             "#8e0152"
            ],
            [
             0.1,
             "#c51b7d"
            ],
            [
             0.2,
             "#de77ae"
            ],
            [
             0.3,
             "#f1b6da"
            ],
            [
             0.4,
             "#fde0ef"
            ],
            [
             0.5,
             "#f7f7f7"
            ],
            [
             0.6,
             "#e6f5d0"
            ],
            [
             0.7,
             "#b8e186"
            ],
            [
             0.8,
             "#7fbc41"
            ],
            [
             0.9,
             "#4d9221"
            ],
            [
             1,
             "#276419"
            ]
           ],
           "sequential": [
            [
             0,
             "#0d0887"
            ],
            [
             0.1111111111111111,
             "#46039f"
            ],
            [
             0.2222222222222222,
             "#7201a8"
            ],
            [
             0.3333333333333333,
             "#9c179e"
            ],
            [
             0.4444444444444444,
             "#bd3786"
            ],
            [
             0.5555555555555556,
             "#d8576b"
            ],
            [
             0.6666666666666666,
             "#ed7953"
            ],
            [
             0.7777777777777778,
             "#fb9f3a"
            ],
            [
             0.8888888888888888,
             "#fdca26"
            ],
            [
             1,
             "#f0f921"
            ]
           ],
           "sequentialminus": [
            [
             0,
             "#0d0887"
            ],
            [
             0.1111111111111111,
             "#46039f"
            ],
            [
             0.2222222222222222,
             "#7201a8"
            ],
            [
             0.3333333333333333,
             "#9c179e"
            ],
            [
             0.4444444444444444,
             "#bd3786"
            ],
            [
             0.5555555555555556,
             "#d8576b"
            ],
            [
             0.6666666666666666,
             "#ed7953"
            ],
            [
             0.7777777777777778,
             "#fb9f3a"
            ],
            [
             0.8888888888888888,
             "#fdca26"
            ],
            [
             1,
             "#f0f921"
            ]
           ]
          },
          "colorway": [
           "#636efa",
           "#EF553B",
           "#00cc96",
           "#ab63fa",
           "#FFA15A",
           "#19d3f3",
           "#FF6692",
           "#B6E880",
           "#FF97FF",
           "#FECB52"
          ],
          "font": {
           "color": "#2a3f5f"
          },
          "geo": {
           "bgcolor": "white",
           "lakecolor": "white",
           "landcolor": "#E5ECF6",
           "showlakes": true,
           "showland": true,
           "subunitcolor": "white"
          },
          "hoverlabel": {
           "align": "left"
          },
          "hovermode": "closest",
          "mapbox": {
           "style": "light"
          },
          "paper_bgcolor": "white",
          "plot_bgcolor": "#E5ECF6",
          "polar": {
           "angularaxis": {
            "gridcolor": "white",
            "linecolor": "white",
            "ticks": ""
           },
           "bgcolor": "#E5ECF6",
           "radialaxis": {
            "gridcolor": "white",
            "linecolor": "white",
            "ticks": ""
           }
          },
          "scene": {
           "xaxis": {
            "backgroundcolor": "#E5ECF6",
            "gridcolor": "white",
            "gridwidth": 2,
            "linecolor": "white",
            "showbackground": true,
            "ticks": "",
            "zerolinecolor": "white"
           },
           "yaxis": {
            "backgroundcolor": "#E5ECF6",
            "gridcolor": "white",
            "gridwidth": 2,
            "linecolor": "white",
            "showbackground": true,
            "ticks": "",
            "zerolinecolor": "white"
           },
           "zaxis": {
            "backgroundcolor": "#E5ECF6",
            "gridcolor": "white",
            "gridwidth": 2,
            "linecolor": "white",
            "showbackground": true,
            "ticks": "",
            "zerolinecolor": "white"
           }
          },
          "shapedefaults": {
           "line": {
            "color": "#2a3f5f"
           }
          },
          "ternary": {
           "aaxis": {
            "gridcolor": "white",
            "linecolor": "white",
            "ticks": ""
           },
           "baxis": {
            "gridcolor": "white",
            "linecolor": "white",
            "ticks": ""
           },
           "bgcolor": "#E5ECF6",
           "caxis": {
            "gridcolor": "white",
            "linecolor": "white",
            "ticks": ""
           }
          },
          "title": {
           "x": 0.05
          },
          "xaxis": {
           "automargin": true,
           "gridcolor": "white",
           "linecolor": "white",
           "ticks": "",
           "title": {
            "standoff": 15
           },
           "zerolinecolor": "white",
           "zerolinewidth": 2
          },
          "yaxis": {
           "automargin": true,
           "gridcolor": "white",
           "linecolor": "white",
           "ticks": "",
           "title": {
            "standoff": 15
           },
           "zerolinecolor": "white",
           "zerolinewidth": 2
          }
         }
        },
        "xaxis": {
         "anchor": "y",
         "domain": [
          0,
          1
         ],
         "title": {
          "text": "x"
         }
        },
        "yaxis": {
         "anchor": "x",
         "domain": [
          0,
          1
         ],
         "title": {
          "text": "y"
         }
        }
       }
      },
      "text/html": [
       "<div>                            <div id=\"4f063417-85ca-4afa-a437-aff10ea55f93\" class=\"plotly-graph-div\" style=\"height:525px; width:100%;\"></div>            <script type=\"text/javascript\">                require([\"plotly\"], function(Plotly) {                    window.PLOTLYENV=window.PLOTLYENV || {};                                    if (document.getElementById(\"4f063417-85ca-4afa-a437-aff10ea55f93\")) {                    Plotly.newPlot(                        \"4f063417-85ca-4afa-a437-aff10ea55f93\",                        [{\"alignmentgroup\":\"True\",\"hovertemplate\":\"x=%{x}<br>y=%{y}<extra></extra>\",\"legendgroup\":\"\",\"marker\":{\"color\":\"#636efa\",\"pattern\":{\"shape\":\"\"}},\"name\":\"\",\"offsetgroup\":\"\",\"orientation\":\"h\",\"showlegend\":false,\"textposition\":\"auto\",\"type\":\"bar\",\"x\":[15949410,26916200,31116110,39162676,44931100,52083000,53129800,97082000,114233100,140912410,211677750,352852000,361096500,455249400,503267560,503611120,692018120,1096431465,1134006220,1400331540,1532352930,1665791655,2113660000,2369110650,2894859300,3916897200,4437554490,4649143130,5487841475,5788070180,8099724500,11039241530,13858762717],\"xaxis\":\"x\",\"y\":[\"EVENTS\",\"BEAUTY\",\"PARENTING\",\"MEDICAL\",\"COMICS\",\"LIBRARIES_AND_DEMO\",\"AUTO_AND_VEHICLES\",\"HOUSE_AND_HOME\",\"ART_AND_DESIGN\",\"DATING\",\"FOOD_AND_DRINK\",\"EDUCATION\",\"WEATHER\",\"FINANCE\",\"MAPS_AND_NAVIGATION\",\"LIFESTYLE\",\"BUSINESS\",\"SPORTS\",\"HEALTH_AND_FITNESS\",\"SHOPPING\",\"PERSONALIZATION\",\"BOOKS_AND_REFERENCE\",\"ENTERTAINMENT\",\"NEWS_AND_MAGAZINES\",\"TRAVEL_AND_LOCAL\",\"VIDEO_PLAYERS\",\"FAMILY\",\"PHOTOGRAPHY\",\"SOCIAL\",\"PRODUCTIVITY\",\"TOOLS\",\"COMMUNICATION\",\"GAME\"],\"yaxis\":\"y\"}],                        {\"barmode\":\"relative\",\"legend\":{\"tracegroupgap\":0},\"margin\":{\"t\":60},\"template\":{\"data\":{\"bar\":[{\"error_x\":{\"color\":\"#2a3f5f\"},\"error_y\":{\"color\":\"#2a3f5f\"},\"marker\":{\"line\":{\"color\":\"#E5ECF6\",\"width\":0.5},\"pattern\":{\"fillmode\":\"overlay\",\"size\":10,\"solidity\":0.2}},\"type\":\"bar\"}],\"barpolar\":[{\"marker\":{\"line\":{\"color\":\"#E5ECF6\",\"width\":0.5},\"pattern\":{\"fillmode\":\"overlay\",\"size\":10,\"solidity\":0.2}},\"type\":\"barpolar\"}],\"carpet\":[{\"aaxis\":{\"endlinecolor\":\"#2a3f5f\",\"gridcolor\":\"white\",\"linecolor\":\"white\",\"minorgridcolor\":\"white\",\"startlinecolor\":\"#2a3f5f\"},\"baxis\":{\"endlinecolor\":\"#2a3f5f\",\"gridcolor\":\"white\",\"linecolor\":\"white\",\"minorgridcolor\":\"white\",\"startlinecolor\":\"#2a3f5f\"},\"type\":\"carpet\"}],\"choropleth\":[{\"colorbar\":{\"outlinewidth\":0,\"ticks\":\"\"},\"type\":\"choropleth\"}],\"contour\":[{\"colorbar\":{\"outlinewidth\":0,\"ticks\":\"\"},\"colorscale\":[[0.0,\"#0d0887\"],[0.1111111111111111,\"#46039f\"],[0.2222222222222222,\"#7201a8\"],[0.3333333333333333,\"#9c179e\"],[0.4444444444444444,\"#bd3786\"],[0.5555555555555556,\"#d8576b\"],[0.6666666666666666,\"#ed7953\"],[0.7777777777777778,\"#fb9f3a\"],[0.8888888888888888,\"#fdca26\"],[1.0,\"#f0f921\"]],\"type\":\"contour\"}],\"contourcarpet\":[{\"colorbar\":{\"outlinewidth\":0,\"ticks\":\"\"},\"type\":\"contourcarpet\"}],\"heatmap\":[{\"colorbar\":{\"outlinewidth\":0,\"ticks\":\"\"},\"colorscale\":[[0.0,\"#0d0887\"],[0.1111111111111111,\"#46039f\"],[0.2222222222222222,\"#7201a8\"],[0.3333333333333333,\"#9c179e\"],[0.4444444444444444,\"#bd3786\"],[0.5555555555555556,\"#d8576b\"],[0.6666666666666666,\"#ed7953\"],[0.7777777777777778,\"#fb9f3a\"],[0.8888888888888888,\"#fdca26\"],[1.0,\"#f0f921\"]],\"type\":\"heatmap\"}],\"heatmapgl\":[{\"colorbar\":{\"outlinewidth\":0,\"ticks\":\"\"},\"colorscale\":[[0.0,\"#0d0887\"],[0.1111111111111111,\"#46039f\"],[0.2222222222222222,\"#7201a8\"],[0.3333333333333333,\"#9c179e\"],[0.4444444444444444,\"#bd3786\"],[0.5555555555555556,\"#d8576b\"],[0.6666666666666666,\"#ed7953\"],[0.7777777777777778,\"#fb9f3a\"],[0.8888888888888888,\"#fdca26\"],[1.0,\"#f0f921\"]],\"type\":\"heatmapgl\"}],\"histogram\":[{\"marker\":{\"pattern\":{\"fillmode\":\"overlay\",\"size\":10,\"solidity\":0.2}},\"type\":\"histogram\"}],\"histogram2d\":[{\"colorbar\":{\"outlinewidth\":0,\"ticks\":\"\"},\"colorscale\":[[0.0,\"#0d0887\"],[0.1111111111111111,\"#46039f\"],[0.2222222222222222,\"#7201a8\"],[0.3333333333333333,\"#9c179e\"],[0.4444444444444444,\"#bd3786\"],[0.5555555555555556,\"#d8576b\"],[0.6666666666666666,\"#ed7953\"],[0.7777777777777778,\"#fb9f3a\"],[0.8888888888888888,\"#fdca26\"],[1.0,\"#f0f921\"]],\"type\":\"histogram2d\"}],\"histogram2dcontour\":[{\"colorbar\":{\"outlinewidth\":0,\"ticks\":\"\"},\"colorscale\":[[0.0,\"#0d0887\"],[0.1111111111111111,\"#46039f\"],[0.2222222222222222,\"#7201a8\"],[0.3333333333333333,\"#9c179e\"],[0.4444444444444444,\"#bd3786\"],[0.5555555555555556,\"#d8576b\"],[0.6666666666666666,\"#ed7953\"],[0.7777777777777778,\"#fb9f3a\"],[0.8888888888888888,\"#fdca26\"],[1.0,\"#f0f921\"]],\"type\":\"histogram2dcontour\"}],\"mesh3d\":[{\"colorbar\":{\"outlinewidth\":0,\"ticks\":\"\"},\"type\":\"mesh3d\"}],\"parcoords\":[{\"line\":{\"colorbar\":{\"outlinewidth\":0,\"ticks\":\"\"}},\"type\":\"parcoords\"}],\"pie\":[{\"automargin\":true,\"type\":\"pie\"}],\"scatter\":[{\"marker\":{\"colorbar\":{\"outlinewidth\":0,\"ticks\":\"\"}},\"type\":\"scatter\"}],\"scatter3d\":[{\"line\":{\"colorbar\":{\"outlinewidth\":0,\"ticks\":\"\"}},\"marker\":{\"colorbar\":{\"outlinewidth\":0,\"ticks\":\"\"}},\"type\":\"scatter3d\"}],\"scattercarpet\":[{\"marker\":{\"colorbar\":{\"outlinewidth\":0,\"ticks\":\"\"}},\"type\":\"scattercarpet\"}],\"scattergeo\":[{\"marker\":{\"colorbar\":{\"outlinewidth\":0,\"ticks\":\"\"}},\"type\":\"scattergeo\"}],\"scattergl\":[{\"marker\":{\"colorbar\":{\"outlinewidth\":0,\"ticks\":\"\"}},\"type\":\"scattergl\"}],\"scattermapbox\":[{\"marker\":{\"colorbar\":{\"outlinewidth\":0,\"ticks\":\"\"}},\"type\":\"scattermapbox\"}],\"scatterpolar\":[{\"marker\":{\"colorbar\":{\"outlinewidth\":0,\"ticks\":\"\"}},\"type\":\"scatterpolar\"}],\"scatterpolargl\":[{\"marker\":{\"colorbar\":{\"outlinewidth\":0,\"ticks\":\"\"}},\"type\":\"scatterpolargl\"}],\"scatterternary\":[{\"marker\":{\"colorbar\":{\"outlinewidth\":0,\"ticks\":\"\"}},\"type\":\"scatterternary\"}],\"surface\":[{\"colorbar\":{\"outlinewidth\":0,\"ticks\":\"\"},\"colorscale\":[[0.0,\"#0d0887\"],[0.1111111111111111,\"#46039f\"],[0.2222222222222222,\"#7201a8\"],[0.3333333333333333,\"#9c179e\"],[0.4444444444444444,\"#bd3786\"],[0.5555555555555556,\"#d8576b\"],[0.6666666666666666,\"#ed7953\"],[0.7777777777777778,\"#fb9f3a\"],[0.8888888888888888,\"#fdca26\"],[1.0,\"#f0f921\"]],\"type\":\"surface\"}],\"table\":[{\"cells\":{\"fill\":{\"color\":\"#EBF0F8\"},\"line\":{\"color\":\"white\"}},\"header\":{\"fill\":{\"color\":\"#C8D4E3\"},\"line\":{\"color\":\"white\"}},\"type\":\"table\"}]},\"layout\":{\"annotationdefaults\":{\"arrowcolor\":\"#2a3f5f\",\"arrowhead\":0,\"arrowwidth\":1},\"autotypenumbers\":\"strict\",\"coloraxis\":{\"colorbar\":{\"outlinewidth\":0,\"ticks\":\"\"}},\"colorscale\":{\"diverging\":[[0,\"#8e0152\"],[0.1,\"#c51b7d\"],[0.2,\"#de77ae\"],[0.3,\"#f1b6da\"],[0.4,\"#fde0ef\"],[0.5,\"#f7f7f7\"],[0.6,\"#e6f5d0\"],[0.7,\"#b8e186\"],[0.8,\"#7fbc41\"],[0.9,\"#4d9221\"],[1,\"#276419\"]],\"sequential\":[[0.0,\"#0d0887\"],[0.1111111111111111,\"#46039f\"],[0.2222222222222222,\"#7201a8\"],[0.3333333333333333,\"#9c179e\"],[0.4444444444444444,\"#bd3786\"],[0.5555555555555556,\"#d8576b\"],[0.6666666666666666,\"#ed7953\"],[0.7777777777777778,\"#fb9f3a\"],[0.8888888888888888,\"#fdca26\"],[1.0,\"#f0f921\"]],\"sequentialminus\":[[0.0,\"#0d0887\"],[0.1111111111111111,\"#46039f\"],[0.2222222222222222,\"#7201a8\"],[0.3333333333333333,\"#9c179e\"],[0.4444444444444444,\"#bd3786\"],[0.5555555555555556,\"#d8576b\"],[0.6666666666666666,\"#ed7953\"],[0.7777777777777778,\"#fb9f3a\"],[0.8888888888888888,\"#fdca26\"],[1.0,\"#f0f921\"]]},\"colorway\":[\"#636efa\",\"#EF553B\",\"#00cc96\",\"#ab63fa\",\"#FFA15A\",\"#19d3f3\",\"#FF6692\",\"#B6E880\",\"#FF97FF\",\"#FECB52\"],\"font\":{\"color\":\"#2a3f5f\"},\"geo\":{\"bgcolor\":\"white\",\"lakecolor\":\"white\",\"landcolor\":\"#E5ECF6\",\"showlakes\":true,\"showland\":true,\"subunitcolor\":\"white\"},\"hoverlabel\":{\"align\":\"left\"},\"hovermode\":\"closest\",\"mapbox\":{\"style\":\"light\"},\"paper_bgcolor\":\"white\",\"plot_bgcolor\":\"#E5ECF6\",\"polar\":{\"angularaxis\":{\"gridcolor\":\"white\",\"linecolor\":\"white\",\"ticks\":\"\"},\"bgcolor\":\"#E5ECF6\",\"radialaxis\":{\"gridcolor\":\"white\",\"linecolor\":\"white\",\"ticks\":\"\"}},\"scene\":{\"xaxis\":{\"backgroundcolor\":\"#E5ECF6\",\"gridcolor\":\"white\",\"gridwidth\":2,\"linecolor\":\"white\",\"showbackground\":true,\"ticks\":\"\",\"zerolinecolor\":\"white\"},\"yaxis\":{\"backgroundcolor\":\"#E5ECF6\",\"gridcolor\":\"white\",\"gridwidth\":2,\"linecolor\":\"white\",\"showbackground\":true,\"ticks\":\"\",\"zerolinecolor\":\"white\"},\"zaxis\":{\"backgroundcolor\":\"#E5ECF6\",\"gridcolor\":\"white\",\"gridwidth\":2,\"linecolor\":\"white\",\"showbackground\":true,\"ticks\":\"\",\"zerolinecolor\":\"white\"}},\"shapedefaults\":{\"line\":{\"color\":\"#2a3f5f\"}},\"ternary\":{\"aaxis\":{\"gridcolor\":\"white\",\"linecolor\":\"white\",\"ticks\":\"\"},\"baxis\":{\"gridcolor\":\"white\",\"linecolor\":\"white\",\"ticks\":\"\"},\"bgcolor\":\"#E5ECF6\",\"caxis\":{\"gridcolor\":\"white\",\"linecolor\":\"white\",\"ticks\":\"\"}},\"title\":{\"x\":0.05},\"xaxis\":{\"automargin\":true,\"gridcolor\":\"white\",\"linecolor\":\"white\",\"ticks\":\"\",\"title\":{\"standoff\":15},\"zerolinecolor\":\"white\",\"zerolinewidth\":2},\"yaxis\":{\"automargin\":true,\"gridcolor\":\"white\",\"linecolor\":\"white\",\"ticks\":\"\",\"title\":{\"standoff\":15},\"zerolinecolor\":\"white\",\"zerolinewidth\":2}}},\"xaxis\":{\"anchor\":\"y\",\"domain\":[0.0,1.0],\"title\":{\"text\":\"x\"}},\"yaxis\":{\"anchor\":\"x\",\"domain\":[0.0,1.0],\"title\":{\"text\":\"y\"}}},                        {\"responsive\": true}                    ).then(function(){\n",
       "                            \n",
       "var gd = document.getElementById('4f063417-85ca-4afa-a437-aff10ea55f93');\n",
       "var x = new MutationObserver(function (mutations, observer) {{\n",
       "        var display = window.getComputedStyle(gd).display;\n",
       "        if (!display || display === 'none') {{\n",
       "            console.log([gd, 'removed!']);\n",
       "            Plotly.purge(gd);\n",
       "            observer.disconnect();\n",
       "        }}\n",
       "}});\n",
       "\n",
       "// Listen for the removal of the full notebook cells\n",
       "var notebookContainer = gd.closest('#notebook-container');\n",
       "if (notebookContainer) {{\n",
       "    x.observe(notebookContainer, {childList: true});\n",
       "}}\n",
       "\n",
       "// Listen for the clearing of the current output cell\n",
       "var outputEl = gd.closest('.output');\n",
       "if (outputEl) {{\n",
       "    x.observe(outputEl, {childList: true});\n",
       "}}\n",
       "\n",
       "                        })                };                });            </script>        </div>"
      ]
     },
     "metadata": {},
     "output_type": "display_data"
    }
   ],
   "source": [
    "h_bar = px.bar(x=category_installs.Installs, y=category_installs.index)\n",
    "h_bar.show()"
   ]
  },
  {
   "cell_type": "code",
   "execution_count": 121,
   "metadata": {
    "id": "h7aUARLtocCy"
   },
   "outputs": [
    {
     "data": {
      "application/vnd.plotly.v1+json": {
       "config": {
        "plotlyServerURL": "https://plot.ly"
       },
       "data": [
        {
         "alignmentgroup": "True",
         "hovertemplate": "x=%{x}<br>y=%{y}<extra></extra>",
         "legendgroup": "",
         "marker": {
          "color": "#636efa",
          "pattern": {
           "shape": ""
          }
         },
         "name": "",
         "offsetgroup": "",
         "orientation": "h",
         "showlegend": false,
         "textposition": "auto",
         "type": "bar",
         "x": [
          15949410,
          26916200,
          31116110,
          39162676,
          44931100,
          52083000,
          53129800,
          97082000,
          114233100,
          140912410,
          211677750,
          352852000,
          361096500,
          455249400,
          503267560,
          503611120,
          692018120,
          1096431465,
          1134006220,
          1400331540,
          1532352930,
          1665791655,
          2113660000,
          2369110650,
          2894859300,
          3916897200,
          4437554490,
          4649143130,
          5487841475,
          5788070180,
          8099724500,
          11039241530,
          13858762717
         ],
         "xaxis": "x",
         "y": [
          "EVENTS",
          "BEAUTY",
          "PARENTING",
          "MEDICAL",
          "COMICS",
          "LIBRARIES_AND_DEMO",
          "AUTO_AND_VEHICLES",
          "HOUSE_AND_HOME",
          "ART_AND_DESIGN",
          "DATING",
          "FOOD_AND_DRINK",
          "EDUCATION",
          "WEATHER",
          "FINANCE",
          "MAPS_AND_NAVIGATION",
          "LIFESTYLE",
          "BUSINESS",
          "SPORTS",
          "HEALTH_AND_FITNESS",
          "SHOPPING",
          "PERSONALIZATION",
          "BOOKS_AND_REFERENCE",
          "ENTERTAINMENT",
          "NEWS_AND_MAGAZINES",
          "TRAVEL_AND_LOCAL",
          "VIDEO_PLAYERS",
          "FAMILY",
          "PHOTOGRAPHY",
          "SOCIAL",
          "PRODUCTIVITY",
          "TOOLS",
          "COMMUNICATION",
          "GAME"
         ],
         "yaxis": "y"
        }
       ],
       "layout": {
        "barmode": "relative",
        "legend": {
         "tracegroupgap": 0
        },
        "template": {
         "data": {
          "bar": [
           {
            "error_x": {
             "color": "#2a3f5f"
            },
            "error_y": {
             "color": "#2a3f5f"
            },
            "marker": {
             "line": {
              "color": "#E5ECF6",
              "width": 0.5
             },
             "pattern": {
              "fillmode": "overlay",
              "size": 10,
              "solidity": 0.2
             }
            },
            "type": "bar"
           }
          ],
          "barpolar": [
           {
            "marker": {
             "line": {
              "color": "#E5ECF6",
              "width": 0.5
             },
             "pattern": {
              "fillmode": "overlay",
              "size": 10,
              "solidity": 0.2
             }
            },
            "type": "barpolar"
           }
          ],
          "carpet": [
           {
            "aaxis": {
             "endlinecolor": "#2a3f5f",
             "gridcolor": "white",
             "linecolor": "white",
             "minorgridcolor": "white",
             "startlinecolor": "#2a3f5f"
            },
            "baxis": {
             "endlinecolor": "#2a3f5f",
             "gridcolor": "white",
             "linecolor": "white",
             "minorgridcolor": "white",
             "startlinecolor": "#2a3f5f"
            },
            "type": "carpet"
           }
          ],
          "choropleth": [
           {
            "colorbar": {
             "outlinewidth": 0,
             "ticks": ""
            },
            "type": "choropleth"
           }
          ],
          "contour": [
           {
            "colorbar": {
             "outlinewidth": 0,
             "ticks": ""
            },
            "colorscale": [
             [
              0,
              "#0d0887"
             ],
             [
              0.1111111111111111,
              "#46039f"
             ],
             [
              0.2222222222222222,
              "#7201a8"
             ],
             [
              0.3333333333333333,
              "#9c179e"
             ],
             [
              0.4444444444444444,
              "#bd3786"
             ],
             [
              0.5555555555555556,
              "#d8576b"
             ],
             [
              0.6666666666666666,
              "#ed7953"
             ],
             [
              0.7777777777777778,
              "#fb9f3a"
             ],
             [
              0.8888888888888888,
              "#fdca26"
             ],
             [
              1,
              "#f0f921"
             ]
            ],
            "type": "contour"
           }
          ],
          "contourcarpet": [
           {
            "colorbar": {
             "outlinewidth": 0,
             "ticks": ""
            },
            "type": "contourcarpet"
           }
          ],
          "heatmap": [
           {
            "colorbar": {
             "outlinewidth": 0,
             "ticks": ""
            },
            "colorscale": [
             [
              0,
              "#0d0887"
             ],
             [
              0.1111111111111111,
              "#46039f"
             ],
             [
              0.2222222222222222,
              "#7201a8"
             ],
             [
              0.3333333333333333,
              "#9c179e"
             ],
             [
              0.4444444444444444,
              "#bd3786"
             ],
             [
              0.5555555555555556,
              "#d8576b"
             ],
             [
              0.6666666666666666,
              "#ed7953"
             ],
             [
              0.7777777777777778,
              "#fb9f3a"
             ],
             [
              0.8888888888888888,
              "#fdca26"
             ],
             [
              1,
              "#f0f921"
             ]
            ],
            "type": "heatmap"
           }
          ],
          "heatmapgl": [
           {
            "colorbar": {
             "outlinewidth": 0,
             "ticks": ""
            },
            "colorscale": [
             [
              0,
              "#0d0887"
             ],
             [
              0.1111111111111111,
              "#46039f"
             ],
             [
              0.2222222222222222,
              "#7201a8"
             ],
             [
              0.3333333333333333,
              "#9c179e"
             ],
             [
              0.4444444444444444,
              "#bd3786"
             ],
             [
              0.5555555555555556,
              "#d8576b"
             ],
             [
              0.6666666666666666,
              "#ed7953"
             ],
             [
              0.7777777777777778,
              "#fb9f3a"
             ],
             [
              0.8888888888888888,
              "#fdca26"
             ],
             [
              1,
              "#f0f921"
             ]
            ],
            "type": "heatmapgl"
           }
          ],
          "histogram": [
           {
            "marker": {
             "pattern": {
              "fillmode": "overlay",
              "size": 10,
              "solidity": 0.2
             }
            },
            "type": "histogram"
           }
          ],
          "histogram2d": [
           {
            "colorbar": {
             "outlinewidth": 0,
             "ticks": ""
            },
            "colorscale": [
             [
              0,
              "#0d0887"
             ],
             [
              0.1111111111111111,
              "#46039f"
             ],
             [
              0.2222222222222222,
              "#7201a8"
             ],
             [
              0.3333333333333333,
              "#9c179e"
             ],
             [
              0.4444444444444444,
              "#bd3786"
             ],
             [
              0.5555555555555556,
              "#d8576b"
             ],
             [
              0.6666666666666666,
              "#ed7953"
             ],
             [
              0.7777777777777778,
              "#fb9f3a"
             ],
             [
              0.8888888888888888,
              "#fdca26"
             ],
             [
              1,
              "#f0f921"
             ]
            ],
            "type": "histogram2d"
           }
          ],
          "histogram2dcontour": [
           {
            "colorbar": {
             "outlinewidth": 0,
             "ticks": ""
            },
            "colorscale": [
             [
              0,
              "#0d0887"
             ],
             [
              0.1111111111111111,
              "#46039f"
             ],
             [
              0.2222222222222222,
              "#7201a8"
             ],
             [
              0.3333333333333333,
              "#9c179e"
             ],
             [
              0.4444444444444444,
              "#bd3786"
             ],
             [
              0.5555555555555556,
              "#d8576b"
             ],
             [
              0.6666666666666666,
              "#ed7953"
             ],
             [
              0.7777777777777778,
              "#fb9f3a"
             ],
             [
              0.8888888888888888,
              "#fdca26"
             ],
             [
              1,
              "#f0f921"
             ]
            ],
            "type": "histogram2dcontour"
           }
          ],
          "mesh3d": [
           {
            "colorbar": {
             "outlinewidth": 0,
             "ticks": ""
            },
            "type": "mesh3d"
           }
          ],
          "parcoords": [
           {
            "line": {
             "colorbar": {
              "outlinewidth": 0,
              "ticks": ""
             }
            },
            "type": "parcoords"
           }
          ],
          "pie": [
           {
            "automargin": true,
            "type": "pie"
           }
          ],
          "scatter": [
           {
            "marker": {
             "colorbar": {
              "outlinewidth": 0,
              "ticks": ""
             }
            },
            "type": "scatter"
           }
          ],
          "scatter3d": [
           {
            "line": {
             "colorbar": {
              "outlinewidth": 0,
              "ticks": ""
             }
            },
            "marker": {
             "colorbar": {
              "outlinewidth": 0,
              "ticks": ""
             }
            },
            "type": "scatter3d"
           }
          ],
          "scattercarpet": [
           {
            "marker": {
             "colorbar": {
              "outlinewidth": 0,
              "ticks": ""
             }
            },
            "type": "scattercarpet"
           }
          ],
          "scattergeo": [
           {
            "marker": {
             "colorbar": {
              "outlinewidth": 0,
              "ticks": ""
             }
            },
            "type": "scattergeo"
           }
          ],
          "scattergl": [
           {
            "marker": {
             "colorbar": {
              "outlinewidth": 0,
              "ticks": ""
             }
            },
            "type": "scattergl"
           }
          ],
          "scattermapbox": [
           {
            "marker": {
             "colorbar": {
              "outlinewidth": 0,
              "ticks": ""
             }
            },
            "type": "scattermapbox"
           }
          ],
          "scatterpolar": [
           {
            "marker": {
             "colorbar": {
              "outlinewidth": 0,
              "ticks": ""
             }
            },
            "type": "scatterpolar"
           }
          ],
          "scatterpolargl": [
           {
            "marker": {
             "colorbar": {
              "outlinewidth": 0,
              "ticks": ""
             }
            },
            "type": "scatterpolargl"
           }
          ],
          "scatterternary": [
           {
            "marker": {
             "colorbar": {
              "outlinewidth": 0,
              "ticks": ""
             }
            },
            "type": "scatterternary"
           }
          ],
          "surface": [
           {
            "colorbar": {
             "outlinewidth": 0,
             "ticks": ""
            },
            "colorscale": [
             [
              0,
              "#0d0887"
             ],
             [
              0.1111111111111111,
              "#46039f"
             ],
             [
              0.2222222222222222,
              "#7201a8"
             ],
             [
              0.3333333333333333,
              "#9c179e"
             ],
             [
              0.4444444444444444,
              "#bd3786"
             ],
             [
              0.5555555555555556,
              "#d8576b"
             ],
             [
              0.6666666666666666,
              "#ed7953"
             ],
             [
              0.7777777777777778,
              "#fb9f3a"
             ],
             [
              0.8888888888888888,
              "#fdca26"
             ],
             [
              1,
              "#f0f921"
             ]
            ],
            "type": "surface"
           }
          ],
          "table": [
           {
            "cells": {
             "fill": {
              "color": "#EBF0F8"
             },
             "line": {
              "color": "white"
             }
            },
            "header": {
             "fill": {
              "color": "#C8D4E3"
             },
             "line": {
              "color": "white"
             }
            },
            "type": "table"
           }
          ]
         },
         "layout": {
          "annotationdefaults": {
           "arrowcolor": "#2a3f5f",
           "arrowhead": 0,
           "arrowwidth": 1
          },
          "autotypenumbers": "strict",
          "coloraxis": {
           "colorbar": {
            "outlinewidth": 0,
            "ticks": ""
           }
          },
          "colorscale": {
           "diverging": [
            [
             0,
             "#8e0152"
            ],
            [
             0.1,
             "#c51b7d"
            ],
            [
             0.2,
             "#de77ae"
            ],
            [
             0.3,
             "#f1b6da"
            ],
            [
             0.4,
             "#fde0ef"
            ],
            [
             0.5,
             "#f7f7f7"
            ],
            [
             0.6,
             "#e6f5d0"
            ],
            [
             0.7,
             "#b8e186"
            ],
            [
             0.8,
             "#7fbc41"
            ],
            [
             0.9,
             "#4d9221"
            ],
            [
             1,
             "#276419"
            ]
           ],
           "sequential": [
            [
             0,
             "#0d0887"
            ],
            [
             0.1111111111111111,
             "#46039f"
            ],
            [
             0.2222222222222222,
             "#7201a8"
            ],
            [
             0.3333333333333333,
             "#9c179e"
            ],
            [
             0.4444444444444444,
             "#bd3786"
            ],
            [
             0.5555555555555556,
             "#d8576b"
            ],
            [
             0.6666666666666666,
             "#ed7953"
            ],
            [
             0.7777777777777778,
             "#fb9f3a"
            ],
            [
             0.8888888888888888,
             "#fdca26"
            ],
            [
             1,
             "#f0f921"
            ]
           ],
           "sequentialminus": [
            [
             0,
             "#0d0887"
            ],
            [
             0.1111111111111111,
             "#46039f"
            ],
            [
             0.2222222222222222,
             "#7201a8"
            ],
            [
             0.3333333333333333,
             "#9c179e"
            ],
            [
             0.4444444444444444,
             "#bd3786"
            ],
            [
             0.5555555555555556,
             "#d8576b"
            ],
            [
             0.6666666666666666,
             "#ed7953"
            ],
            [
             0.7777777777777778,
             "#fb9f3a"
            ],
            [
             0.8888888888888888,
             "#fdca26"
            ],
            [
             1,
             "#f0f921"
            ]
           ]
          },
          "colorway": [
           "#636efa",
           "#EF553B",
           "#00cc96",
           "#ab63fa",
           "#FFA15A",
           "#19d3f3",
           "#FF6692",
           "#B6E880",
           "#FF97FF",
           "#FECB52"
          ],
          "font": {
           "color": "#2a3f5f"
          },
          "geo": {
           "bgcolor": "white",
           "lakecolor": "white",
           "landcolor": "#E5ECF6",
           "showlakes": true,
           "showland": true,
           "subunitcolor": "white"
          },
          "hoverlabel": {
           "align": "left"
          },
          "hovermode": "closest",
          "mapbox": {
           "style": "light"
          },
          "paper_bgcolor": "white",
          "plot_bgcolor": "#E5ECF6",
          "polar": {
           "angularaxis": {
            "gridcolor": "white",
            "linecolor": "white",
            "ticks": ""
           },
           "bgcolor": "#E5ECF6",
           "radialaxis": {
            "gridcolor": "white",
            "linecolor": "white",
            "ticks": ""
           }
          },
          "scene": {
           "xaxis": {
            "backgroundcolor": "#E5ECF6",
            "gridcolor": "white",
            "gridwidth": 2,
            "linecolor": "white",
            "showbackground": true,
            "ticks": "",
            "zerolinecolor": "white"
           },
           "yaxis": {
            "backgroundcolor": "#E5ECF6",
            "gridcolor": "white",
            "gridwidth": 2,
            "linecolor": "white",
            "showbackground": true,
            "ticks": "",
            "zerolinecolor": "white"
           },
           "zaxis": {
            "backgroundcolor": "#E5ECF6",
            "gridcolor": "white",
            "gridwidth": 2,
            "linecolor": "white",
            "showbackground": true,
            "ticks": "",
            "zerolinecolor": "white"
           }
          },
          "shapedefaults": {
           "line": {
            "color": "#2a3f5f"
           }
          },
          "ternary": {
           "aaxis": {
            "gridcolor": "white",
            "linecolor": "white",
            "ticks": ""
           },
           "baxis": {
            "gridcolor": "white",
            "linecolor": "white",
            "ticks": ""
           },
           "bgcolor": "#E5ECF6",
           "caxis": {
            "gridcolor": "white",
            "linecolor": "white",
            "ticks": ""
           }
          },
          "title": {
           "x": 0.05
          },
          "xaxis": {
           "automargin": true,
           "gridcolor": "white",
           "linecolor": "white",
           "ticks": "",
           "title": {
            "standoff": 15
           },
           "zerolinecolor": "white",
           "zerolinewidth": 2
          },
          "yaxis": {
           "automargin": true,
           "gridcolor": "white",
           "linecolor": "white",
           "ticks": "",
           "title": {
            "standoff": 15
           },
           "zerolinecolor": "white",
           "zerolinewidth": 2
          }
         }
        },
        "title": {
         "text": "Category Popularity"
        },
        "xaxis": {
         "anchor": "y",
         "domain": [
          0,
          1
         ],
         "title": {
          "text": "Number of Downloads"
         }
        },
        "yaxis": {
         "anchor": "x",
         "domain": [
          0,
          1
         ],
         "title": {
          "text": "Category"
         }
        }
       }
      },
      "text/html": [
       "<div>                            <div id=\"7528c71f-ff6e-4bd5-a763-cf9c8f7a7084\" class=\"plotly-graph-div\" style=\"height:525px; width:100%;\"></div>            <script type=\"text/javascript\">                require([\"plotly\"], function(Plotly) {                    window.PLOTLYENV=window.PLOTLYENV || {};                                    if (document.getElementById(\"7528c71f-ff6e-4bd5-a763-cf9c8f7a7084\")) {                    Plotly.newPlot(                        \"7528c71f-ff6e-4bd5-a763-cf9c8f7a7084\",                        [{\"alignmentgroup\":\"True\",\"hovertemplate\":\"x=%{x}<br>y=%{y}<extra></extra>\",\"legendgroup\":\"\",\"marker\":{\"color\":\"#636efa\",\"pattern\":{\"shape\":\"\"}},\"name\":\"\",\"offsetgroup\":\"\",\"orientation\":\"h\",\"showlegend\":false,\"textposition\":\"auto\",\"type\":\"bar\",\"x\":[15949410,26916200,31116110,39162676,44931100,52083000,53129800,97082000,114233100,140912410,211677750,352852000,361096500,455249400,503267560,503611120,692018120,1096431465,1134006220,1400331540,1532352930,1665791655,2113660000,2369110650,2894859300,3916897200,4437554490,4649143130,5487841475,5788070180,8099724500,11039241530,13858762717],\"xaxis\":\"x\",\"y\":[\"EVENTS\",\"BEAUTY\",\"PARENTING\",\"MEDICAL\",\"COMICS\",\"LIBRARIES_AND_DEMO\",\"AUTO_AND_VEHICLES\",\"HOUSE_AND_HOME\",\"ART_AND_DESIGN\",\"DATING\",\"FOOD_AND_DRINK\",\"EDUCATION\",\"WEATHER\",\"FINANCE\",\"MAPS_AND_NAVIGATION\",\"LIFESTYLE\",\"BUSINESS\",\"SPORTS\",\"HEALTH_AND_FITNESS\",\"SHOPPING\",\"PERSONALIZATION\",\"BOOKS_AND_REFERENCE\",\"ENTERTAINMENT\",\"NEWS_AND_MAGAZINES\",\"TRAVEL_AND_LOCAL\",\"VIDEO_PLAYERS\",\"FAMILY\",\"PHOTOGRAPHY\",\"SOCIAL\",\"PRODUCTIVITY\",\"TOOLS\",\"COMMUNICATION\",\"GAME\"],\"yaxis\":\"y\"}],                        {\"barmode\":\"relative\",\"legend\":{\"tracegroupgap\":0},\"template\":{\"data\":{\"bar\":[{\"error_x\":{\"color\":\"#2a3f5f\"},\"error_y\":{\"color\":\"#2a3f5f\"},\"marker\":{\"line\":{\"color\":\"#E5ECF6\",\"width\":0.5},\"pattern\":{\"fillmode\":\"overlay\",\"size\":10,\"solidity\":0.2}},\"type\":\"bar\"}],\"barpolar\":[{\"marker\":{\"line\":{\"color\":\"#E5ECF6\",\"width\":0.5},\"pattern\":{\"fillmode\":\"overlay\",\"size\":10,\"solidity\":0.2}},\"type\":\"barpolar\"}],\"carpet\":[{\"aaxis\":{\"endlinecolor\":\"#2a3f5f\",\"gridcolor\":\"white\",\"linecolor\":\"white\",\"minorgridcolor\":\"white\",\"startlinecolor\":\"#2a3f5f\"},\"baxis\":{\"endlinecolor\":\"#2a3f5f\",\"gridcolor\":\"white\",\"linecolor\":\"white\",\"minorgridcolor\":\"white\",\"startlinecolor\":\"#2a3f5f\"},\"type\":\"carpet\"}],\"choropleth\":[{\"colorbar\":{\"outlinewidth\":0,\"ticks\":\"\"},\"type\":\"choropleth\"}],\"contour\":[{\"colorbar\":{\"outlinewidth\":0,\"ticks\":\"\"},\"colorscale\":[[0.0,\"#0d0887\"],[0.1111111111111111,\"#46039f\"],[0.2222222222222222,\"#7201a8\"],[0.3333333333333333,\"#9c179e\"],[0.4444444444444444,\"#bd3786\"],[0.5555555555555556,\"#d8576b\"],[0.6666666666666666,\"#ed7953\"],[0.7777777777777778,\"#fb9f3a\"],[0.8888888888888888,\"#fdca26\"],[1.0,\"#f0f921\"]],\"type\":\"contour\"}],\"contourcarpet\":[{\"colorbar\":{\"outlinewidth\":0,\"ticks\":\"\"},\"type\":\"contourcarpet\"}],\"heatmap\":[{\"colorbar\":{\"outlinewidth\":0,\"ticks\":\"\"},\"colorscale\":[[0.0,\"#0d0887\"],[0.1111111111111111,\"#46039f\"],[0.2222222222222222,\"#7201a8\"],[0.3333333333333333,\"#9c179e\"],[0.4444444444444444,\"#bd3786\"],[0.5555555555555556,\"#d8576b\"],[0.6666666666666666,\"#ed7953\"],[0.7777777777777778,\"#fb9f3a\"],[0.8888888888888888,\"#fdca26\"],[1.0,\"#f0f921\"]],\"type\":\"heatmap\"}],\"heatmapgl\":[{\"colorbar\":{\"outlinewidth\":0,\"ticks\":\"\"},\"colorscale\":[[0.0,\"#0d0887\"],[0.1111111111111111,\"#46039f\"],[0.2222222222222222,\"#7201a8\"],[0.3333333333333333,\"#9c179e\"],[0.4444444444444444,\"#bd3786\"],[0.5555555555555556,\"#d8576b\"],[0.6666666666666666,\"#ed7953\"],[0.7777777777777778,\"#fb9f3a\"],[0.8888888888888888,\"#fdca26\"],[1.0,\"#f0f921\"]],\"type\":\"heatmapgl\"}],\"histogram\":[{\"marker\":{\"pattern\":{\"fillmode\":\"overlay\",\"size\":10,\"solidity\":0.2}},\"type\":\"histogram\"}],\"histogram2d\":[{\"colorbar\":{\"outlinewidth\":0,\"ticks\":\"\"},\"colorscale\":[[0.0,\"#0d0887\"],[0.1111111111111111,\"#46039f\"],[0.2222222222222222,\"#7201a8\"],[0.3333333333333333,\"#9c179e\"],[0.4444444444444444,\"#bd3786\"],[0.5555555555555556,\"#d8576b\"],[0.6666666666666666,\"#ed7953\"],[0.7777777777777778,\"#fb9f3a\"],[0.8888888888888888,\"#fdca26\"],[1.0,\"#f0f921\"]],\"type\":\"histogram2d\"}],\"histogram2dcontour\":[{\"colorbar\":{\"outlinewidth\":0,\"ticks\":\"\"},\"colorscale\":[[0.0,\"#0d0887\"],[0.1111111111111111,\"#46039f\"],[0.2222222222222222,\"#7201a8\"],[0.3333333333333333,\"#9c179e\"],[0.4444444444444444,\"#bd3786\"],[0.5555555555555556,\"#d8576b\"],[0.6666666666666666,\"#ed7953\"],[0.7777777777777778,\"#fb9f3a\"],[0.8888888888888888,\"#fdca26\"],[1.0,\"#f0f921\"]],\"type\":\"histogram2dcontour\"}],\"mesh3d\":[{\"colorbar\":{\"outlinewidth\":0,\"ticks\":\"\"},\"type\":\"mesh3d\"}],\"parcoords\":[{\"line\":{\"colorbar\":{\"outlinewidth\":0,\"ticks\":\"\"}},\"type\":\"parcoords\"}],\"pie\":[{\"automargin\":true,\"type\":\"pie\"}],\"scatter\":[{\"marker\":{\"colorbar\":{\"outlinewidth\":0,\"ticks\":\"\"}},\"type\":\"scatter\"}],\"scatter3d\":[{\"line\":{\"colorbar\":{\"outlinewidth\":0,\"ticks\":\"\"}},\"marker\":{\"colorbar\":{\"outlinewidth\":0,\"ticks\":\"\"}},\"type\":\"scatter3d\"}],\"scattercarpet\":[{\"marker\":{\"colorbar\":{\"outlinewidth\":0,\"ticks\":\"\"}},\"type\":\"scattercarpet\"}],\"scattergeo\":[{\"marker\":{\"colorbar\":{\"outlinewidth\":0,\"ticks\":\"\"}},\"type\":\"scattergeo\"}],\"scattergl\":[{\"marker\":{\"colorbar\":{\"outlinewidth\":0,\"ticks\":\"\"}},\"type\":\"scattergl\"}],\"scattermapbox\":[{\"marker\":{\"colorbar\":{\"outlinewidth\":0,\"ticks\":\"\"}},\"type\":\"scattermapbox\"}],\"scatterpolar\":[{\"marker\":{\"colorbar\":{\"outlinewidth\":0,\"ticks\":\"\"}},\"type\":\"scatterpolar\"}],\"scatterpolargl\":[{\"marker\":{\"colorbar\":{\"outlinewidth\":0,\"ticks\":\"\"}},\"type\":\"scatterpolargl\"}],\"scatterternary\":[{\"marker\":{\"colorbar\":{\"outlinewidth\":0,\"ticks\":\"\"}},\"type\":\"scatterternary\"}],\"surface\":[{\"colorbar\":{\"outlinewidth\":0,\"ticks\":\"\"},\"colorscale\":[[0.0,\"#0d0887\"],[0.1111111111111111,\"#46039f\"],[0.2222222222222222,\"#7201a8\"],[0.3333333333333333,\"#9c179e\"],[0.4444444444444444,\"#bd3786\"],[0.5555555555555556,\"#d8576b\"],[0.6666666666666666,\"#ed7953\"],[0.7777777777777778,\"#fb9f3a\"],[0.8888888888888888,\"#fdca26\"],[1.0,\"#f0f921\"]],\"type\":\"surface\"}],\"table\":[{\"cells\":{\"fill\":{\"color\":\"#EBF0F8\"},\"line\":{\"color\":\"white\"}},\"header\":{\"fill\":{\"color\":\"#C8D4E3\"},\"line\":{\"color\":\"white\"}},\"type\":\"table\"}]},\"layout\":{\"annotationdefaults\":{\"arrowcolor\":\"#2a3f5f\",\"arrowhead\":0,\"arrowwidth\":1},\"autotypenumbers\":\"strict\",\"coloraxis\":{\"colorbar\":{\"outlinewidth\":0,\"ticks\":\"\"}},\"colorscale\":{\"diverging\":[[0,\"#8e0152\"],[0.1,\"#c51b7d\"],[0.2,\"#de77ae\"],[0.3,\"#f1b6da\"],[0.4,\"#fde0ef\"],[0.5,\"#f7f7f7\"],[0.6,\"#e6f5d0\"],[0.7,\"#b8e186\"],[0.8,\"#7fbc41\"],[0.9,\"#4d9221\"],[1,\"#276419\"]],\"sequential\":[[0.0,\"#0d0887\"],[0.1111111111111111,\"#46039f\"],[0.2222222222222222,\"#7201a8\"],[0.3333333333333333,\"#9c179e\"],[0.4444444444444444,\"#bd3786\"],[0.5555555555555556,\"#d8576b\"],[0.6666666666666666,\"#ed7953\"],[0.7777777777777778,\"#fb9f3a\"],[0.8888888888888888,\"#fdca26\"],[1.0,\"#f0f921\"]],\"sequentialminus\":[[0.0,\"#0d0887\"],[0.1111111111111111,\"#46039f\"],[0.2222222222222222,\"#7201a8\"],[0.3333333333333333,\"#9c179e\"],[0.4444444444444444,\"#bd3786\"],[0.5555555555555556,\"#d8576b\"],[0.6666666666666666,\"#ed7953\"],[0.7777777777777778,\"#fb9f3a\"],[0.8888888888888888,\"#fdca26\"],[1.0,\"#f0f921\"]]},\"colorway\":[\"#636efa\",\"#EF553B\",\"#00cc96\",\"#ab63fa\",\"#FFA15A\",\"#19d3f3\",\"#FF6692\",\"#B6E880\",\"#FF97FF\",\"#FECB52\"],\"font\":{\"color\":\"#2a3f5f\"},\"geo\":{\"bgcolor\":\"white\",\"lakecolor\":\"white\",\"landcolor\":\"#E5ECF6\",\"showlakes\":true,\"showland\":true,\"subunitcolor\":\"white\"},\"hoverlabel\":{\"align\":\"left\"},\"hovermode\":\"closest\",\"mapbox\":{\"style\":\"light\"},\"paper_bgcolor\":\"white\",\"plot_bgcolor\":\"#E5ECF6\",\"polar\":{\"angularaxis\":{\"gridcolor\":\"white\",\"linecolor\":\"white\",\"ticks\":\"\"},\"bgcolor\":\"#E5ECF6\",\"radialaxis\":{\"gridcolor\":\"white\",\"linecolor\":\"white\",\"ticks\":\"\"}},\"scene\":{\"xaxis\":{\"backgroundcolor\":\"#E5ECF6\",\"gridcolor\":\"white\",\"gridwidth\":2,\"linecolor\":\"white\",\"showbackground\":true,\"ticks\":\"\",\"zerolinecolor\":\"white\"},\"yaxis\":{\"backgroundcolor\":\"#E5ECF6\",\"gridcolor\":\"white\",\"gridwidth\":2,\"linecolor\":\"white\",\"showbackground\":true,\"ticks\":\"\",\"zerolinecolor\":\"white\"},\"zaxis\":{\"backgroundcolor\":\"#E5ECF6\",\"gridcolor\":\"white\",\"gridwidth\":2,\"linecolor\":\"white\",\"showbackground\":true,\"ticks\":\"\",\"zerolinecolor\":\"white\"}},\"shapedefaults\":{\"line\":{\"color\":\"#2a3f5f\"}},\"ternary\":{\"aaxis\":{\"gridcolor\":\"white\",\"linecolor\":\"white\",\"ticks\":\"\"},\"baxis\":{\"gridcolor\":\"white\",\"linecolor\":\"white\",\"ticks\":\"\"},\"bgcolor\":\"#E5ECF6\",\"caxis\":{\"gridcolor\":\"white\",\"linecolor\":\"white\",\"ticks\":\"\"}},\"title\":{\"x\":0.05},\"xaxis\":{\"automargin\":true,\"gridcolor\":\"white\",\"linecolor\":\"white\",\"ticks\":\"\",\"title\":{\"standoff\":15},\"zerolinecolor\":\"white\",\"zerolinewidth\":2},\"yaxis\":{\"automargin\":true,\"gridcolor\":\"white\",\"linecolor\":\"white\",\"ticks\":\"\",\"title\":{\"standoff\":15},\"zerolinecolor\":\"white\",\"zerolinewidth\":2}}},\"title\":{\"text\":\"Category Popularity\"},\"xaxis\":{\"anchor\":\"y\",\"domain\":[0.0,1.0],\"title\":{\"text\":\"Number of Downloads\"}},\"yaxis\":{\"anchor\":\"x\",\"domain\":[0.0,1.0],\"title\":{\"text\":\"Category\"}}},                        {\"responsive\": true}                    ).then(function(){\n",
       "                            \n",
       "var gd = document.getElementById('7528c71f-ff6e-4bd5-a763-cf9c8f7a7084');\n",
       "var x = new MutationObserver(function (mutations, observer) {{\n",
       "        var display = window.getComputedStyle(gd).display;\n",
       "        if (!display || display === 'none') {{\n",
       "            console.log([gd, 'removed!']);\n",
       "            Plotly.purge(gd);\n",
       "            observer.disconnect();\n",
       "        }}\n",
       "}});\n",
       "\n",
       "// Listen for the removal of the full notebook cells\n",
       "var notebookContainer = gd.closest('#notebook-container');\n",
       "if (notebookContainer) {{\n",
       "    x.observe(notebookContainer, {childList: true});\n",
       "}}\n",
       "\n",
       "// Listen for the clearing of the current output cell\n",
       "var outputEl = gd.closest('.output');\n",
       "if (outputEl) {{\n",
       "    x.observe(outputEl, {childList: true});\n",
       "}}\n",
       "\n",
       "                        })                };                });            </script>        </div>"
      ]
     },
     "metadata": {},
     "output_type": "display_data"
    }
   ],
   "source": [
    "h_bar = px.bar(x = category_installs.Installs,\n",
    "               y = category_installs.index,\n",
    "               orientation='h',\n",
    "               title='Category Popularity')\n",
    " \n",
    "h_bar.update_layout(xaxis_title='Number of Downloads', yaxis_title='Category')\n",
    "h_bar.show()\n"
   ]
  },
  {
   "cell_type": "markdown",
   "metadata": {
    "id": "Uxk24qMk8vrz"
   },
   "source": [
    "### Category Concentration - Downloads vs. Competition\n",
    "\n",
    "**Challenge**: \n",
    "* First, create a DataFrame that has the number of apps in one column and the number of installs in another:\n",
    "\n",
    "<img src=https://imgur.com/uQRSlXi.png width=\"350\">\n",
    "\n",
    "* Then use the [plotly express examples from the documentation](https://plotly.com/python/line-and-scatter/) alongside the [.scatter() API reference](https://plotly.com/python-api-reference/generated/plotly.express.scatter.html)to create scatter plot that looks like this. \n",
    "\n",
    "<img src=https://imgur.com/cHsqh6a.png>\n",
    "\n",
    "*Hint*: Use the size, hover_name and color parameters in .scatter(). To scale the yaxis, call .update_layout() and specify that the yaxis should be on a log-scale like so: yaxis=dict(type='log') "
   ]
  },
  {
   "cell_type": "code",
   "execution_count": 122,
   "metadata": {
    "id": "tVvGPDY7oe5A"
   },
   "outputs": [
    {
     "data": {
      "text/html": [
       "<div>\n",
       "<style scoped>\n",
       "    .dataframe tbody tr th:only-of-type {\n",
       "        vertical-align: middle;\n",
       "    }\n",
       "\n",
       "    .dataframe tbody tr th {\n",
       "        vertical-align: top;\n",
       "    }\n",
       "\n",
       "    .dataframe thead th {\n",
       "        text-align: right;\n",
       "    }\n",
       "</style>\n",
       "<table border=\"1\" class=\"dataframe\">\n",
       "  <thead>\n",
       "    <tr style=\"text-align: right;\">\n",
       "      <th></th>\n",
       "      <th>App</th>\n",
       "    </tr>\n",
       "    <tr>\n",
       "      <th>Category</th>\n",
       "      <th></th>\n",
       "    </tr>\n",
       "  </thead>\n",
       "  <tbody>\n",
       "    <tr>\n",
       "      <th>ART_AND_DESIGN</th>\n",
       "      <td>61</td>\n",
       "    </tr>\n",
       "    <tr>\n",
       "      <th>AUTO_AND_VEHICLES</th>\n",
       "      <td>73</td>\n",
       "    </tr>\n",
       "    <tr>\n",
       "      <th>BEAUTY</th>\n",
       "      <td>42</td>\n",
       "    </tr>\n",
       "    <tr>\n",
       "      <th>BOOKS_AND_REFERENCE</th>\n",
       "      <td>169</td>\n",
       "    </tr>\n",
       "    <tr>\n",
       "      <th>BUSINESS</th>\n",
       "      <td>262</td>\n",
       "    </tr>\n",
       "  </tbody>\n",
       "</table>\n",
       "</div>"
      ],
      "text/plain": [
       "                     App\n",
       "Category                \n",
       "ART_AND_DESIGN        61\n",
       "AUTO_AND_VEHICLES     73\n",
       "BEAUTY                42\n",
       "BOOKS_AND_REFERENCE  169\n",
       "BUSINESS             262"
      ]
     },
     "execution_count": 122,
     "metadata": {},
     "output_type": "execute_result"
    }
   ],
   "source": [
    "cat_number = df_apps_clean.groupby('Category').agg({'App':pd.Series.count})\n",
    "cat_number.head()"
   ]
  },
  {
   "cell_type": "code",
   "execution_count": 124,
   "metadata": {},
   "outputs": [
    {
     "name": "stdout",
     "output_type": "stream",
     "text": [
      "(33, 2)\n"
     ]
    },
    {
     "data": {
      "text/html": [
       "<div>\n",
       "<style scoped>\n",
       "    .dataframe tbody tr th:only-of-type {\n",
       "        vertical-align: middle;\n",
       "    }\n",
       "\n",
       "    .dataframe tbody tr th {\n",
       "        vertical-align: top;\n",
       "    }\n",
       "\n",
       "    .dataframe thead th {\n",
       "        text-align: right;\n",
       "    }\n",
       "</style>\n",
       "<table border=\"1\" class=\"dataframe\">\n",
       "  <thead>\n",
       "    <tr style=\"text-align: right;\">\n",
       "      <th></th>\n",
       "      <th>Installs</th>\n",
       "      <th>App</th>\n",
       "    </tr>\n",
       "    <tr>\n",
       "      <th>Category</th>\n",
       "      <th></th>\n",
       "      <th></th>\n",
       "    </tr>\n",
       "  </thead>\n",
       "  <tbody>\n",
       "    <tr>\n",
       "      <th>GAME</th>\n",
       "      <td>13858762717</td>\n",
       "      <td>910</td>\n",
       "    </tr>\n",
       "    <tr>\n",
       "      <th>COMMUNICATION</th>\n",
       "      <td>11039241530</td>\n",
       "      <td>257</td>\n",
       "    </tr>\n",
       "    <tr>\n",
       "      <th>TOOLS</th>\n",
       "      <td>8099724500</td>\n",
       "      <td>719</td>\n",
       "    </tr>\n",
       "    <tr>\n",
       "      <th>PRODUCTIVITY</th>\n",
       "      <td>5788070180</td>\n",
       "      <td>301</td>\n",
       "    </tr>\n",
       "    <tr>\n",
       "      <th>SOCIAL</th>\n",
       "      <td>5487841475</td>\n",
       "      <td>203</td>\n",
       "    </tr>\n",
       "    <tr>\n",
       "      <th>PHOTOGRAPHY</th>\n",
       "      <td>4649143130</td>\n",
       "      <td>263</td>\n",
       "    </tr>\n",
       "    <tr>\n",
       "      <th>FAMILY</th>\n",
       "      <td>4437554490</td>\n",
       "      <td>1606</td>\n",
       "    </tr>\n",
       "    <tr>\n",
       "      <th>VIDEO_PLAYERS</th>\n",
       "      <td>3916897200</td>\n",
       "      <td>148</td>\n",
       "    </tr>\n",
       "    <tr>\n",
       "      <th>TRAVEL_AND_LOCAL</th>\n",
       "      <td>2894859300</td>\n",
       "      <td>187</td>\n",
       "    </tr>\n",
       "    <tr>\n",
       "      <th>NEWS_AND_MAGAZINES</th>\n",
       "      <td>2369110650</td>\n",
       "      <td>204</td>\n",
       "    </tr>\n",
       "    <tr>\n",
       "      <th>ENTERTAINMENT</th>\n",
       "      <td>2113660000</td>\n",
       "      <td>102</td>\n",
       "    </tr>\n",
       "    <tr>\n",
       "      <th>BOOKS_AND_REFERENCE</th>\n",
       "      <td>1665791655</td>\n",
       "      <td>169</td>\n",
       "    </tr>\n",
       "    <tr>\n",
       "      <th>PERSONALIZATION</th>\n",
       "      <td>1532352930</td>\n",
       "      <td>298</td>\n",
       "    </tr>\n",
       "    <tr>\n",
       "      <th>SHOPPING</th>\n",
       "      <td>1400331540</td>\n",
       "      <td>180</td>\n",
       "    </tr>\n",
       "    <tr>\n",
       "      <th>HEALTH_AND_FITNESS</th>\n",
       "      <td>1134006220</td>\n",
       "      <td>243</td>\n",
       "    </tr>\n",
       "    <tr>\n",
       "      <th>SPORTS</th>\n",
       "      <td>1096431465</td>\n",
       "      <td>260</td>\n",
       "    </tr>\n",
       "    <tr>\n",
       "      <th>BUSINESS</th>\n",
       "      <td>692018120</td>\n",
       "      <td>262</td>\n",
       "    </tr>\n",
       "    <tr>\n",
       "      <th>LIFESTYLE</th>\n",
       "      <td>503611120</td>\n",
       "      <td>297</td>\n",
       "    </tr>\n",
       "    <tr>\n",
       "      <th>MAPS_AND_NAVIGATION</th>\n",
       "      <td>503267560</td>\n",
       "      <td>118</td>\n",
       "    </tr>\n",
       "    <tr>\n",
       "      <th>FINANCE</th>\n",
       "      <td>455249400</td>\n",
       "      <td>296</td>\n",
       "    </tr>\n",
       "    <tr>\n",
       "      <th>WEATHER</th>\n",
       "      <td>361096500</td>\n",
       "      <td>72</td>\n",
       "    </tr>\n",
       "    <tr>\n",
       "      <th>EDUCATION</th>\n",
       "      <td>352852000</td>\n",
       "      <td>118</td>\n",
       "    </tr>\n",
       "    <tr>\n",
       "      <th>FOOD_AND_DRINK</th>\n",
       "      <td>211677750</td>\n",
       "      <td>94</td>\n",
       "    </tr>\n",
       "    <tr>\n",
       "      <th>DATING</th>\n",
       "      <td>140912410</td>\n",
       "      <td>134</td>\n",
       "    </tr>\n",
       "    <tr>\n",
       "      <th>ART_AND_DESIGN</th>\n",
       "      <td>114233100</td>\n",
       "      <td>61</td>\n",
       "    </tr>\n",
       "    <tr>\n",
       "      <th>HOUSE_AND_HOME</th>\n",
       "      <td>97082000</td>\n",
       "      <td>62</td>\n",
       "    </tr>\n",
       "    <tr>\n",
       "      <th>AUTO_AND_VEHICLES</th>\n",
       "      <td>53129800</td>\n",
       "      <td>73</td>\n",
       "    </tr>\n",
       "    <tr>\n",
       "      <th>LIBRARIES_AND_DEMO</th>\n",
       "      <td>52083000</td>\n",
       "      <td>64</td>\n",
       "    </tr>\n",
       "    <tr>\n",
       "      <th>COMICS</th>\n",
       "      <td>44931100</td>\n",
       "      <td>54</td>\n",
       "    </tr>\n",
       "    <tr>\n",
       "      <th>MEDICAL</th>\n",
       "      <td>39162676</td>\n",
       "      <td>292</td>\n",
       "    </tr>\n",
       "    <tr>\n",
       "      <th>PARENTING</th>\n",
       "      <td>31116110</td>\n",
       "      <td>50</td>\n",
       "    </tr>\n",
       "    <tr>\n",
       "      <th>BEAUTY</th>\n",
       "      <td>26916200</td>\n",
       "      <td>42</td>\n",
       "    </tr>\n",
       "    <tr>\n",
       "      <th>EVENTS</th>\n",
       "      <td>15949410</td>\n",
       "      <td>45</td>\n",
       "    </tr>\n",
       "  </tbody>\n",
       "</table>\n",
       "</div>"
      ],
      "text/plain": [
       "                        Installs   App\n",
       "Category                              \n",
       "GAME                 13858762717   910\n",
       "COMMUNICATION        11039241530   257\n",
       "TOOLS                 8099724500   719\n",
       "PRODUCTIVITY          5788070180   301\n",
       "SOCIAL                5487841475   203\n",
       "PHOTOGRAPHY           4649143130   263\n",
       "FAMILY                4437554490  1606\n",
       "VIDEO_PLAYERS         3916897200   148\n",
       "TRAVEL_AND_LOCAL      2894859300   187\n",
       "NEWS_AND_MAGAZINES    2369110650   204\n",
       "ENTERTAINMENT         2113660000   102\n",
       "BOOKS_AND_REFERENCE   1665791655   169\n",
       "PERSONALIZATION       1532352930   298\n",
       "SHOPPING              1400331540   180\n",
       "HEALTH_AND_FITNESS    1134006220   243\n",
       "SPORTS                1096431465   260\n",
       "BUSINESS               692018120   262\n",
       "LIFESTYLE              503611120   297\n",
       "MAPS_AND_NAVIGATION    503267560   118\n",
       "FINANCE                455249400   296\n",
       "WEATHER                361096500    72\n",
       "EDUCATION              352852000   118\n",
       "FOOD_AND_DRINK         211677750    94\n",
       "DATING                 140912410   134\n",
       "ART_AND_DESIGN         114233100    61\n",
       "HOUSE_AND_HOME          97082000    62\n",
       "AUTO_AND_VEHICLES       53129800    73\n",
       "LIBRARIES_AND_DEMO      52083000    64\n",
       "COMICS                  44931100    54\n",
       "MEDICAL                 39162676   292\n",
       "PARENTING               31116110    50\n",
       "BEAUTY                  26916200    42\n",
       "EVENTS                  15949410    45"
      ]
     },
     "execution_count": 124,
     "metadata": {},
     "output_type": "execute_result"
    }
   ],
   "source": [
    "cat_merged_df = pd.merge(category_installs,cat_number, on=\"Category\")\n",
    "print(cat_merged_df.shape)\n",
    "cat_merged_df.sort_values('Installs', ascending=False)\n"
   ]
  },
  {
   "cell_type": "code",
   "execution_count": 125,
   "metadata": {},
   "outputs": [
    {
     "data": {
      "application/vnd.plotly.v1+json": {
       "config": {
        "plotlyServerURL": "https://plot.ly"
       },
       "data": [
        {
         "hovertemplate": "<b>%{hovertext}</b><br><br>App=%{marker.size}<br>Installs=%{marker.color}<extra></extra>",
         "hovertext": [
          "EVENTS",
          "BEAUTY",
          "PARENTING",
          "MEDICAL",
          "COMICS",
          "LIBRARIES_AND_DEMO",
          "AUTO_AND_VEHICLES",
          "HOUSE_AND_HOME",
          "ART_AND_DESIGN",
          "DATING",
          "FOOD_AND_DRINK",
          "EDUCATION",
          "WEATHER",
          "FINANCE",
          "MAPS_AND_NAVIGATION",
          "LIFESTYLE",
          "BUSINESS",
          "SPORTS",
          "HEALTH_AND_FITNESS",
          "SHOPPING",
          "PERSONALIZATION",
          "BOOKS_AND_REFERENCE",
          "ENTERTAINMENT",
          "NEWS_AND_MAGAZINES",
          "TRAVEL_AND_LOCAL",
          "VIDEO_PLAYERS",
          "FAMILY",
          "PHOTOGRAPHY",
          "SOCIAL",
          "PRODUCTIVITY",
          "TOOLS",
          "COMMUNICATION",
          "GAME"
         ],
         "legendgroup": "",
         "marker": {
          "color": [
           15949410,
           26916200,
           31116110,
           39162676,
           44931100,
           52083000,
           53129800,
           97082000,
           114233100,
           140912410,
           211677750,
           352852000,
           361096500,
           455249400,
           503267560,
           503611120,
           692018120,
           1096431465,
           1134006220,
           1400331540,
           1532352930,
           1665791655,
           2113660000,
           2369110650,
           2894859300,
           3916897200,
           4437554490,
           4649143130,
           5487841475,
           5788070180,
           8099724500,
           11039241530,
           13858762717
          ],
          "coloraxis": "coloraxis",
          "size": [
           45,
           42,
           50,
           292,
           54,
           64,
           73,
           62,
           61,
           134,
           94,
           118,
           72,
           296,
           118,
           297,
           262,
           260,
           243,
           180,
           298,
           169,
           102,
           204,
           187,
           148,
           1606,
           263,
           203,
           301,
           719,
           257,
           910
          ],
          "sizemode": "area",
          "sizeref": 4.015,
          "symbol": "circle"
         },
         "mode": "markers",
         "name": "",
         "orientation": "v",
         "showlegend": false,
         "type": "scatter",
         "x": [
          45,
          42,
          50,
          292,
          54,
          64,
          73,
          62,
          61,
          134,
          94,
          118,
          72,
          296,
          118,
          297,
          262,
          260,
          243,
          180,
          298,
          169,
          102,
          204,
          187,
          148,
          1606,
          263,
          203,
          301,
          719,
          257,
          910
         ],
         "xaxis": "x",
         "y": [
          15949410,
          26916200,
          31116110,
          39162676,
          44931100,
          52083000,
          53129800,
          97082000,
          114233100,
          140912410,
          211677750,
          352852000,
          361096500,
          455249400,
          503267560,
          503611120,
          692018120,
          1096431465,
          1134006220,
          1400331540,
          1532352930,
          1665791655,
          2113660000,
          2369110650,
          2894859300,
          3916897200,
          4437554490,
          4649143130,
          5487841475,
          5788070180,
          8099724500,
          11039241530,
          13858762717
         ],
         "yaxis": "y"
        }
       ],
       "layout": {
        "coloraxis": {
         "colorbar": {
          "title": {
           "text": "Installs"
          }
         },
         "colorscale": [
          [
           0,
           "#0d0887"
          ],
          [
           0.1111111111111111,
           "#46039f"
          ],
          [
           0.2222222222222222,
           "#7201a8"
          ],
          [
           0.3333333333333333,
           "#9c179e"
          ],
          [
           0.4444444444444444,
           "#bd3786"
          ],
          [
           0.5555555555555556,
           "#d8576b"
          ],
          [
           0.6666666666666666,
           "#ed7953"
          ],
          [
           0.7777777777777778,
           "#fb9f3a"
          ],
          [
           0.8888888888888888,
           "#fdca26"
          ],
          [
           1,
           "#f0f921"
          ]
         ]
        },
        "legend": {
         "itemsizing": "constant",
         "tracegroupgap": 0
        },
        "template": {
         "data": {
          "bar": [
           {
            "error_x": {
             "color": "#2a3f5f"
            },
            "error_y": {
             "color": "#2a3f5f"
            },
            "marker": {
             "line": {
              "color": "#E5ECF6",
              "width": 0.5
             },
             "pattern": {
              "fillmode": "overlay",
              "size": 10,
              "solidity": 0.2
             }
            },
            "type": "bar"
           }
          ],
          "barpolar": [
           {
            "marker": {
             "line": {
              "color": "#E5ECF6",
              "width": 0.5
             },
             "pattern": {
              "fillmode": "overlay",
              "size": 10,
              "solidity": 0.2
             }
            },
            "type": "barpolar"
           }
          ],
          "carpet": [
           {
            "aaxis": {
             "endlinecolor": "#2a3f5f",
             "gridcolor": "white",
             "linecolor": "white",
             "minorgridcolor": "white",
             "startlinecolor": "#2a3f5f"
            },
            "baxis": {
             "endlinecolor": "#2a3f5f",
             "gridcolor": "white",
             "linecolor": "white",
             "minorgridcolor": "white",
             "startlinecolor": "#2a3f5f"
            },
            "type": "carpet"
           }
          ],
          "choropleth": [
           {
            "colorbar": {
             "outlinewidth": 0,
             "ticks": ""
            },
            "type": "choropleth"
           }
          ],
          "contour": [
           {
            "colorbar": {
             "outlinewidth": 0,
             "ticks": ""
            },
            "colorscale": [
             [
              0,
              "#0d0887"
             ],
             [
              0.1111111111111111,
              "#46039f"
             ],
             [
              0.2222222222222222,
              "#7201a8"
             ],
             [
              0.3333333333333333,
              "#9c179e"
             ],
             [
              0.4444444444444444,
              "#bd3786"
             ],
             [
              0.5555555555555556,
              "#d8576b"
             ],
             [
              0.6666666666666666,
              "#ed7953"
             ],
             [
              0.7777777777777778,
              "#fb9f3a"
             ],
             [
              0.8888888888888888,
              "#fdca26"
             ],
             [
              1,
              "#f0f921"
             ]
            ],
            "type": "contour"
           }
          ],
          "contourcarpet": [
           {
            "colorbar": {
             "outlinewidth": 0,
             "ticks": ""
            },
            "type": "contourcarpet"
           }
          ],
          "heatmap": [
           {
            "colorbar": {
             "outlinewidth": 0,
             "ticks": ""
            },
            "colorscale": [
             [
              0,
              "#0d0887"
             ],
             [
              0.1111111111111111,
              "#46039f"
             ],
             [
              0.2222222222222222,
              "#7201a8"
             ],
             [
              0.3333333333333333,
              "#9c179e"
             ],
             [
              0.4444444444444444,
              "#bd3786"
             ],
             [
              0.5555555555555556,
              "#d8576b"
             ],
             [
              0.6666666666666666,
              "#ed7953"
             ],
             [
              0.7777777777777778,
              "#fb9f3a"
             ],
             [
              0.8888888888888888,
              "#fdca26"
             ],
             [
              1,
              "#f0f921"
             ]
            ],
            "type": "heatmap"
           }
          ],
          "heatmapgl": [
           {
            "colorbar": {
             "outlinewidth": 0,
             "ticks": ""
            },
            "colorscale": [
             [
              0,
              "#0d0887"
             ],
             [
              0.1111111111111111,
              "#46039f"
             ],
             [
              0.2222222222222222,
              "#7201a8"
             ],
             [
              0.3333333333333333,
              "#9c179e"
             ],
             [
              0.4444444444444444,
              "#bd3786"
             ],
             [
              0.5555555555555556,
              "#d8576b"
             ],
             [
              0.6666666666666666,
              "#ed7953"
             ],
             [
              0.7777777777777778,
              "#fb9f3a"
             ],
             [
              0.8888888888888888,
              "#fdca26"
             ],
             [
              1,
              "#f0f921"
             ]
            ],
            "type": "heatmapgl"
           }
          ],
          "histogram": [
           {
            "marker": {
             "pattern": {
              "fillmode": "overlay",
              "size": 10,
              "solidity": 0.2
             }
            },
            "type": "histogram"
           }
          ],
          "histogram2d": [
           {
            "colorbar": {
             "outlinewidth": 0,
             "ticks": ""
            },
            "colorscale": [
             [
              0,
              "#0d0887"
             ],
             [
              0.1111111111111111,
              "#46039f"
             ],
             [
              0.2222222222222222,
              "#7201a8"
             ],
             [
              0.3333333333333333,
              "#9c179e"
             ],
             [
              0.4444444444444444,
              "#bd3786"
             ],
             [
              0.5555555555555556,
              "#d8576b"
             ],
             [
              0.6666666666666666,
              "#ed7953"
             ],
             [
              0.7777777777777778,
              "#fb9f3a"
             ],
             [
              0.8888888888888888,
              "#fdca26"
             ],
             [
              1,
              "#f0f921"
             ]
            ],
            "type": "histogram2d"
           }
          ],
          "histogram2dcontour": [
           {
            "colorbar": {
             "outlinewidth": 0,
             "ticks": ""
            },
            "colorscale": [
             [
              0,
              "#0d0887"
             ],
             [
              0.1111111111111111,
              "#46039f"
             ],
             [
              0.2222222222222222,
              "#7201a8"
             ],
             [
              0.3333333333333333,
              "#9c179e"
             ],
             [
              0.4444444444444444,
              "#bd3786"
             ],
             [
              0.5555555555555556,
              "#d8576b"
             ],
             [
              0.6666666666666666,
              "#ed7953"
             ],
             [
              0.7777777777777778,
              "#fb9f3a"
             ],
             [
              0.8888888888888888,
              "#fdca26"
             ],
             [
              1,
              "#f0f921"
             ]
            ],
            "type": "histogram2dcontour"
           }
          ],
          "mesh3d": [
           {
            "colorbar": {
             "outlinewidth": 0,
             "ticks": ""
            },
            "type": "mesh3d"
           }
          ],
          "parcoords": [
           {
            "line": {
             "colorbar": {
              "outlinewidth": 0,
              "ticks": ""
             }
            },
            "type": "parcoords"
           }
          ],
          "pie": [
           {
            "automargin": true,
            "type": "pie"
           }
          ],
          "scatter": [
           {
            "marker": {
             "colorbar": {
              "outlinewidth": 0,
              "ticks": ""
             }
            },
            "type": "scatter"
           }
          ],
          "scatter3d": [
           {
            "line": {
             "colorbar": {
              "outlinewidth": 0,
              "ticks": ""
             }
            },
            "marker": {
             "colorbar": {
              "outlinewidth": 0,
              "ticks": ""
             }
            },
            "type": "scatter3d"
           }
          ],
          "scattercarpet": [
           {
            "marker": {
             "colorbar": {
              "outlinewidth": 0,
              "ticks": ""
             }
            },
            "type": "scattercarpet"
           }
          ],
          "scattergeo": [
           {
            "marker": {
             "colorbar": {
              "outlinewidth": 0,
              "ticks": ""
             }
            },
            "type": "scattergeo"
           }
          ],
          "scattergl": [
           {
            "marker": {
             "colorbar": {
              "outlinewidth": 0,
              "ticks": ""
             }
            },
            "type": "scattergl"
           }
          ],
          "scattermapbox": [
           {
            "marker": {
             "colorbar": {
              "outlinewidth": 0,
              "ticks": ""
             }
            },
            "type": "scattermapbox"
           }
          ],
          "scatterpolar": [
           {
            "marker": {
             "colorbar": {
              "outlinewidth": 0,
              "ticks": ""
             }
            },
            "type": "scatterpolar"
           }
          ],
          "scatterpolargl": [
           {
            "marker": {
             "colorbar": {
              "outlinewidth": 0,
              "ticks": ""
             }
            },
            "type": "scatterpolargl"
           }
          ],
          "scatterternary": [
           {
            "marker": {
             "colorbar": {
              "outlinewidth": 0,
              "ticks": ""
             }
            },
            "type": "scatterternary"
           }
          ],
          "surface": [
           {
            "colorbar": {
             "outlinewidth": 0,
             "ticks": ""
            },
            "colorscale": [
             [
              0,
              "#0d0887"
             ],
             [
              0.1111111111111111,
              "#46039f"
             ],
             [
              0.2222222222222222,
              "#7201a8"
             ],
             [
              0.3333333333333333,
              "#9c179e"
             ],
             [
              0.4444444444444444,
              "#bd3786"
             ],
             [
              0.5555555555555556,
              "#d8576b"
             ],
             [
              0.6666666666666666,
              "#ed7953"
             ],
             [
              0.7777777777777778,
              "#fb9f3a"
             ],
             [
              0.8888888888888888,
              "#fdca26"
             ],
             [
              1,
              "#f0f921"
             ]
            ],
            "type": "surface"
           }
          ],
          "table": [
           {
            "cells": {
             "fill": {
              "color": "#EBF0F8"
             },
             "line": {
              "color": "white"
             }
            },
            "header": {
             "fill": {
              "color": "#C8D4E3"
             },
             "line": {
              "color": "white"
             }
            },
            "type": "table"
           }
          ]
         },
         "layout": {
          "annotationdefaults": {
           "arrowcolor": "#2a3f5f",
           "arrowhead": 0,
           "arrowwidth": 1
          },
          "autotypenumbers": "strict",
          "coloraxis": {
           "colorbar": {
            "outlinewidth": 0,
            "ticks": ""
           }
          },
          "colorscale": {
           "diverging": [
            [
             0,
             "#8e0152"
            ],
            [
             0.1,
             "#c51b7d"
            ],
            [
             0.2,
             "#de77ae"
            ],
            [
             0.3,
             "#f1b6da"
            ],
            [
             0.4,
             "#fde0ef"
            ],
            [
             0.5,
             "#f7f7f7"
            ],
            [
             0.6,
             "#e6f5d0"
            ],
            [
             0.7,
             "#b8e186"
            ],
            [
             0.8,
             "#7fbc41"
            ],
            [
             0.9,
             "#4d9221"
            ],
            [
             1,
             "#276419"
            ]
           ],
           "sequential": [
            [
             0,
             "#0d0887"
            ],
            [
             0.1111111111111111,
             "#46039f"
            ],
            [
             0.2222222222222222,
             "#7201a8"
            ],
            [
             0.3333333333333333,
             "#9c179e"
            ],
            [
             0.4444444444444444,
             "#bd3786"
            ],
            [
             0.5555555555555556,
             "#d8576b"
            ],
            [
             0.6666666666666666,
             "#ed7953"
            ],
            [
             0.7777777777777778,
             "#fb9f3a"
            ],
            [
             0.8888888888888888,
             "#fdca26"
            ],
            [
             1,
             "#f0f921"
            ]
           ],
           "sequentialminus": [
            [
             0,
             "#0d0887"
            ],
            [
             0.1111111111111111,
             "#46039f"
            ],
            [
             0.2222222222222222,
             "#7201a8"
            ],
            [
             0.3333333333333333,
             "#9c179e"
            ],
            [
             0.4444444444444444,
             "#bd3786"
            ],
            [
             0.5555555555555556,
             "#d8576b"
            ],
            [
             0.6666666666666666,
             "#ed7953"
            ],
            [
             0.7777777777777778,
             "#fb9f3a"
            ],
            [
             0.8888888888888888,
             "#fdca26"
            ],
            [
             1,
             "#f0f921"
            ]
           ]
          },
          "colorway": [
           "#636efa",
           "#EF553B",
           "#00cc96",
           "#ab63fa",
           "#FFA15A",
           "#19d3f3",
           "#FF6692",
           "#B6E880",
           "#FF97FF",
           "#FECB52"
          ],
          "font": {
           "color": "#2a3f5f"
          },
          "geo": {
           "bgcolor": "white",
           "lakecolor": "white",
           "landcolor": "#E5ECF6",
           "showlakes": true,
           "showland": true,
           "subunitcolor": "white"
          },
          "hoverlabel": {
           "align": "left"
          },
          "hovermode": "closest",
          "mapbox": {
           "style": "light"
          },
          "paper_bgcolor": "white",
          "plot_bgcolor": "#E5ECF6",
          "polar": {
           "angularaxis": {
            "gridcolor": "white",
            "linecolor": "white",
            "ticks": ""
           },
           "bgcolor": "#E5ECF6",
           "radialaxis": {
            "gridcolor": "white",
            "linecolor": "white",
            "ticks": ""
           }
          },
          "scene": {
           "xaxis": {
            "backgroundcolor": "#E5ECF6",
            "gridcolor": "white",
            "gridwidth": 2,
            "linecolor": "white",
            "showbackground": true,
            "ticks": "",
            "zerolinecolor": "white"
           },
           "yaxis": {
            "backgroundcolor": "#E5ECF6",
            "gridcolor": "white",
            "gridwidth": 2,
            "linecolor": "white",
            "showbackground": true,
            "ticks": "",
            "zerolinecolor": "white"
           },
           "zaxis": {
            "backgroundcolor": "#E5ECF6",
            "gridcolor": "white",
            "gridwidth": 2,
            "linecolor": "white",
            "showbackground": true,
            "ticks": "",
            "zerolinecolor": "white"
           }
          },
          "shapedefaults": {
           "line": {
            "color": "#2a3f5f"
           }
          },
          "ternary": {
           "aaxis": {
            "gridcolor": "white",
            "linecolor": "white",
            "ticks": ""
           },
           "baxis": {
            "gridcolor": "white",
            "linecolor": "white",
            "ticks": ""
           },
           "bgcolor": "#E5ECF6",
           "caxis": {
            "gridcolor": "white",
            "linecolor": "white",
            "ticks": ""
           }
          },
          "title": {
           "x": 0.05
          },
          "xaxis": {
           "automargin": true,
           "gridcolor": "white",
           "linecolor": "white",
           "ticks": "",
           "title": {
            "standoff": 15
           },
           "zerolinecolor": "white",
           "zerolinewidth": 2
          },
          "yaxis": {
           "automargin": true,
           "gridcolor": "white",
           "linecolor": "white",
           "ticks": "",
           "title": {
            "standoff": 15
           },
           "zerolinecolor": "white",
           "zerolinewidth": 2
          }
         }
        },
        "title": {
         "text": "Category Concentration"
        },
        "xaxis": {
         "anchor": "y",
         "domain": [
          0,
          1
         ],
         "title": {
          "text": "Number of Apps (Lower=More Concentrated)"
         }
        },
        "yaxis": {
         "anchor": "x",
         "domain": [
          0,
          1
         ],
         "title": {
          "text": "Installs"
         },
         "type": "log"
        }
       }
      },
      "text/html": [
       "<div>                            <div id=\"4f2705de-a8fe-4a34-918d-9dc03affeaf6\" class=\"plotly-graph-div\" style=\"height:525px; width:100%;\"></div>            <script type=\"text/javascript\">                require([\"plotly\"], function(Plotly) {                    window.PLOTLYENV=window.PLOTLYENV || {};                                    if (document.getElementById(\"4f2705de-a8fe-4a34-918d-9dc03affeaf6\")) {                    Plotly.newPlot(                        \"4f2705de-a8fe-4a34-918d-9dc03affeaf6\",                        [{\"hovertemplate\":\"<b>%{hovertext}</b><br><br>App=%{marker.size}<br>Installs=%{marker.color}<extra></extra>\",\"hovertext\":[\"EVENTS\",\"BEAUTY\",\"PARENTING\",\"MEDICAL\",\"COMICS\",\"LIBRARIES_AND_DEMO\",\"AUTO_AND_VEHICLES\",\"HOUSE_AND_HOME\",\"ART_AND_DESIGN\",\"DATING\",\"FOOD_AND_DRINK\",\"EDUCATION\",\"WEATHER\",\"FINANCE\",\"MAPS_AND_NAVIGATION\",\"LIFESTYLE\",\"BUSINESS\",\"SPORTS\",\"HEALTH_AND_FITNESS\",\"SHOPPING\",\"PERSONALIZATION\",\"BOOKS_AND_REFERENCE\",\"ENTERTAINMENT\",\"NEWS_AND_MAGAZINES\",\"TRAVEL_AND_LOCAL\",\"VIDEO_PLAYERS\",\"FAMILY\",\"PHOTOGRAPHY\",\"SOCIAL\",\"PRODUCTIVITY\",\"TOOLS\",\"COMMUNICATION\",\"GAME\"],\"legendgroup\":\"\",\"marker\":{\"color\":[15949410,26916200,31116110,39162676,44931100,52083000,53129800,97082000,114233100,140912410,211677750,352852000,361096500,455249400,503267560,503611120,692018120,1096431465,1134006220,1400331540,1532352930,1665791655,2113660000,2369110650,2894859300,3916897200,4437554490,4649143130,5487841475,5788070180,8099724500,11039241530,13858762717],\"coloraxis\":\"coloraxis\",\"size\":[45,42,50,292,54,64,73,62,61,134,94,118,72,296,118,297,262,260,243,180,298,169,102,204,187,148,1606,263,203,301,719,257,910],\"sizemode\":\"area\",\"sizeref\":4.015,\"symbol\":\"circle\"},\"mode\":\"markers\",\"name\":\"\",\"orientation\":\"v\",\"showlegend\":false,\"type\":\"scatter\",\"x\":[45,42,50,292,54,64,73,62,61,134,94,118,72,296,118,297,262,260,243,180,298,169,102,204,187,148,1606,263,203,301,719,257,910],\"xaxis\":\"x\",\"y\":[15949410,26916200,31116110,39162676,44931100,52083000,53129800,97082000,114233100,140912410,211677750,352852000,361096500,455249400,503267560,503611120,692018120,1096431465,1134006220,1400331540,1532352930,1665791655,2113660000,2369110650,2894859300,3916897200,4437554490,4649143130,5487841475,5788070180,8099724500,11039241530,13858762717],\"yaxis\":\"y\"}],                        {\"coloraxis\":{\"colorbar\":{\"title\":{\"text\":\"Installs\"}},\"colorscale\":[[0.0,\"#0d0887\"],[0.1111111111111111,\"#46039f\"],[0.2222222222222222,\"#7201a8\"],[0.3333333333333333,\"#9c179e\"],[0.4444444444444444,\"#bd3786\"],[0.5555555555555556,\"#d8576b\"],[0.6666666666666666,\"#ed7953\"],[0.7777777777777778,\"#fb9f3a\"],[0.8888888888888888,\"#fdca26\"],[1.0,\"#f0f921\"]]},\"legend\":{\"itemsizing\":\"constant\",\"tracegroupgap\":0},\"template\":{\"data\":{\"bar\":[{\"error_x\":{\"color\":\"#2a3f5f\"},\"error_y\":{\"color\":\"#2a3f5f\"},\"marker\":{\"line\":{\"color\":\"#E5ECF6\",\"width\":0.5},\"pattern\":{\"fillmode\":\"overlay\",\"size\":10,\"solidity\":0.2}},\"type\":\"bar\"}],\"barpolar\":[{\"marker\":{\"line\":{\"color\":\"#E5ECF6\",\"width\":0.5},\"pattern\":{\"fillmode\":\"overlay\",\"size\":10,\"solidity\":0.2}},\"type\":\"barpolar\"}],\"carpet\":[{\"aaxis\":{\"endlinecolor\":\"#2a3f5f\",\"gridcolor\":\"white\",\"linecolor\":\"white\",\"minorgridcolor\":\"white\",\"startlinecolor\":\"#2a3f5f\"},\"baxis\":{\"endlinecolor\":\"#2a3f5f\",\"gridcolor\":\"white\",\"linecolor\":\"white\",\"minorgridcolor\":\"white\",\"startlinecolor\":\"#2a3f5f\"},\"type\":\"carpet\"}],\"choropleth\":[{\"colorbar\":{\"outlinewidth\":0,\"ticks\":\"\"},\"type\":\"choropleth\"}],\"contour\":[{\"colorbar\":{\"outlinewidth\":0,\"ticks\":\"\"},\"colorscale\":[[0.0,\"#0d0887\"],[0.1111111111111111,\"#46039f\"],[0.2222222222222222,\"#7201a8\"],[0.3333333333333333,\"#9c179e\"],[0.4444444444444444,\"#bd3786\"],[0.5555555555555556,\"#d8576b\"],[0.6666666666666666,\"#ed7953\"],[0.7777777777777778,\"#fb9f3a\"],[0.8888888888888888,\"#fdca26\"],[1.0,\"#f0f921\"]],\"type\":\"contour\"}],\"contourcarpet\":[{\"colorbar\":{\"outlinewidth\":0,\"ticks\":\"\"},\"type\":\"contourcarpet\"}],\"heatmap\":[{\"colorbar\":{\"outlinewidth\":0,\"ticks\":\"\"},\"colorscale\":[[0.0,\"#0d0887\"],[0.1111111111111111,\"#46039f\"],[0.2222222222222222,\"#7201a8\"],[0.3333333333333333,\"#9c179e\"],[0.4444444444444444,\"#bd3786\"],[0.5555555555555556,\"#d8576b\"],[0.6666666666666666,\"#ed7953\"],[0.7777777777777778,\"#fb9f3a\"],[0.8888888888888888,\"#fdca26\"],[1.0,\"#f0f921\"]],\"type\":\"heatmap\"}],\"heatmapgl\":[{\"colorbar\":{\"outlinewidth\":0,\"ticks\":\"\"},\"colorscale\":[[0.0,\"#0d0887\"],[0.1111111111111111,\"#46039f\"],[0.2222222222222222,\"#7201a8\"],[0.3333333333333333,\"#9c179e\"],[0.4444444444444444,\"#bd3786\"],[0.5555555555555556,\"#d8576b\"],[0.6666666666666666,\"#ed7953\"],[0.7777777777777778,\"#fb9f3a\"],[0.8888888888888888,\"#fdca26\"],[1.0,\"#f0f921\"]],\"type\":\"heatmapgl\"}],\"histogram\":[{\"marker\":{\"pattern\":{\"fillmode\":\"overlay\",\"size\":10,\"solidity\":0.2}},\"type\":\"histogram\"}],\"histogram2d\":[{\"colorbar\":{\"outlinewidth\":0,\"ticks\":\"\"},\"colorscale\":[[0.0,\"#0d0887\"],[0.1111111111111111,\"#46039f\"],[0.2222222222222222,\"#7201a8\"],[0.3333333333333333,\"#9c179e\"],[0.4444444444444444,\"#bd3786\"],[0.5555555555555556,\"#d8576b\"],[0.6666666666666666,\"#ed7953\"],[0.7777777777777778,\"#fb9f3a\"],[0.8888888888888888,\"#fdca26\"],[1.0,\"#f0f921\"]],\"type\":\"histogram2d\"}],\"histogram2dcontour\":[{\"colorbar\":{\"outlinewidth\":0,\"ticks\":\"\"},\"colorscale\":[[0.0,\"#0d0887\"],[0.1111111111111111,\"#46039f\"],[0.2222222222222222,\"#7201a8\"],[0.3333333333333333,\"#9c179e\"],[0.4444444444444444,\"#bd3786\"],[0.5555555555555556,\"#d8576b\"],[0.6666666666666666,\"#ed7953\"],[0.7777777777777778,\"#fb9f3a\"],[0.8888888888888888,\"#fdca26\"],[1.0,\"#f0f921\"]],\"type\":\"histogram2dcontour\"}],\"mesh3d\":[{\"colorbar\":{\"outlinewidth\":0,\"ticks\":\"\"},\"type\":\"mesh3d\"}],\"parcoords\":[{\"line\":{\"colorbar\":{\"outlinewidth\":0,\"ticks\":\"\"}},\"type\":\"parcoords\"}],\"pie\":[{\"automargin\":true,\"type\":\"pie\"}],\"scatter\":[{\"marker\":{\"colorbar\":{\"outlinewidth\":0,\"ticks\":\"\"}},\"type\":\"scatter\"}],\"scatter3d\":[{\"line\":{\"colorbar\":{\"outlinewidth\":0,\"ticks\":\"\"}},\"marker\":{\"colorbar\":{\"outlinewidth\":0,\"ticks\":\"\"}},\"type\":\"scatter3d\"}],\"scattercarpet\":[{\"marker\":{\"colorbar\":{\"outlinewidth\":0,\"ticks\":\"\"}},\"type\":\"scattercarpet\"}],\"scattergeo\":[{\"marker\":{\"colorbar\":{\"outlinewidth\":0,\"ticks\":\"\"}},\"type\":\"scattergeo\"}],\"scattergl\":[{\"marker\":{\"colorbar\":{\"outlinewidth\":0,\"ticks\":\"\"}},\"type\":\"scattergl\"}],\"scattermapbox\":[{\"marker\":{\"colorbar\":{\"outlinewidth\":0,\"ticks\":\"\"}},\"type\":\"scattermapbox\"}],\"scatterpolar\":[{\"marker\":{\"colorbar\":{\"outlinewidth\":0,\"ticks\":\"\"}},\"type\":\"scatterpolar\"}],\"scatterpolargl\":[{\"marker\":{\"colorbar\":{\"outlinewidth\":0,\"ticks\":\"\"}},\"type\":\"scatterpolargl\"}],\"scatterternary\":[{\"marker\":{\"colorbar\":{\"outlinewidth\":0,\"ticks\":\"\"}},\"type\":\"scatterternary\"}],\"surface\":[{\"colorbar\":{\"outlinewidth\":0,\"ticks\":\"\"},\"colorscale\":[[0.0,\"#0d0887\"],[0.1111111111111111,\"#46039f\"],[0.2222222222222222,\"#7201a8\"],[0.3333333333333333,\"#9c179e\"],[0.4444444444444444,\"#bd3786\"],[0.5555555555555556,\"#d8576b\"],[0.6666666666666666,\"#ed7953\"],[0.7777777777777778,\"#fb9f3a\"],[0.8888888888888888,\"#fdca26\"],[1.0,\"#f0f921\"]],\"type\":\"surface\"}],\"table\":[{\"cells\":{\"fill\":{\"color\":\"#EBF0F8\"},\"line\":{\"color\":\"white\"}},\"header\":{\"fill\":{\"color\":\"#C8D4E3\"},\"line\":{\"color\":\"white\"}},\"type\":\"table\"}]},\"layout\":{\"annotationdefaults\":{\"arrowcolor\":\"#2a3f5f\",\"arrowhead\":0,\"arrowwidth\":1},\"autotypenumbers\":\"strict\",\"coloraxis\":{\"colorbar\":{\"outlinewidth\":0,\"ticks\":\"\"}},\"colorscale\":{\"diverging\":[[0,\"#8e0152\"],[0.1,\"#c51b7d\"],[0.2,\"#de77ae\"],[0.3,\"#f1b6da\"],[0.4,\"#fde0ef\"],[0.5,\"#f7f7f7\"],[0.6,\"#e6f5d0\"],[0.7,\"#b8e186\"],[0.8,\"#7fbc41\"],[0.9,\"#4d9221\"],[1,\"#276419\"]],\"sequential\":[[0.0,\"#0d0887\"],[0.1111111111111111,\"#46039f\"],[0.2222222222222222,\"#7201a8\"],[0.3333333333333333,\"#9c179e\"],[0.4444444444444444,\"#bd3786\"],[0.5555555555555556,\"#d8576b\"],[0.6666666666666666,\"#ed7953\"],[0.7777777777777778,\"#fb9f3a\"],[0.8888888888888888,\"#fdca26\"],[1.0,\"#f0f921\"]],\"sequentialminus\":[[0.0,\"#0d0887\"],[0.1111111111111111,\"#46039f\"],[0.2222222222222222,\"#7201a8\"],[0.3333333333333333,\"#9c179e\"],[0.4444444444444444,\"#bd3786\"],[0.5555555555555556,\"#d8576b\"],[0.6666666666666666,\"#ed7953\"],[0.7777777777777778,\"#fb9f3a\"],[0.8888888888888888,\"#fdca26\"],[1.0,\"#f0f921\"]]},\"colorway\":[\"#636efa\",\"#EF553B\",\"#00cc96\",\"#ab63fa\",\"#FFA15A\",\"#19d3f3\",\"#FF6692\",\"#B6E880\",\"#FF97FF\",\"#FECB52\"],\"font\":{\"color\":\"#2a3f5f\"},\"geo\":{\"bgcolor\":\"white\",\"lakecolor\":\"white\",\"landcolor\":\"#E5ECF6\",\"showlakes\":true,\"showland\":true,\"subunitcolor\":\"white\"},\"hoverlabel\":{\"align\":\"left\"},\"hovermode\":\"closest\",\"mapbox\":{\"style\":\"light\"},\"paper_bgcolor\":\"white\",\"plot_bgcolor\":\"#E5ECF6\",\"polar\":{\"angularaxis\":{\"gridcolor\":\"white\",\"linecolor\":\"white\",\"ticks\":\"\"},\"bgcolor\":\"#E5ECF6\",\"radialaxis\":{\"gridcolor\":\"white\",\"linecolor\":\"white\",\"ticks\":\"\"}},\"scene\":{\"xaxis\":{\"backgroundcolor\":\"#E5ECF6\",\"gridcolor\":\"white\",\"gridwidth\":2,\"linecolor\":\"white\",\"showbackground\":true,\"ticks\":\"\",\"zerolinecolor\":\"white\"},\"yaxis\":{\"backgroundcolor\":\"#E5ECF6\",\"gridcolor\":\"white\",\"gridwidth\":2,\"linecolor\":\"white\",\"showbackground\":true,\"ticks\":\"\",\"zerolinecolor\":\"white\"},\"zaxis\":{\"backgroundcolor\":\"#E5ECF6\",\"gridcolor\":\"white\",\"gridwidth\":2,\"linecolor\":\"white\",\"showbackground\":true,\"ticks\":\"\",\"zerolinecolor\":\"white\"}},\"shapedefaults\":{\"line\":{\"color\":\"#2a3f5f\"}},\"ternary\":{\"aaxis\":{\"gridcolor\":\"white\",\"linecolor\":\"white\",\"ticks\":\"\"},\"baxis\":{\"gridcolor\":\"white\",\"linecolor\":\"white\",\"ticks\":\"\"},\"bgcolor\":\"#E5ECF6\",\"caxis\":{\"gridcolor\":\"white\",\"linecolor\":\"white\",\"ticks\":\"\"}},\"title\":{\"x\":0.05},\"xaxis\":{\"automargin\":true,\"gridcolor\":\"white\",\"linecolor\":\"white\",\"ticks\":\"\",\"title\":{\"standoff\":15},\"zerolinecolor\":\"white\",\"zerolinewidth\":2},\"yaxis\":{\"automargin\":true,\"gridcolor\":\"white\",\"linecolor\":\"white\",\"ticks\":\"\",\"title\":{\"standoff\":15},\"zerolinecolor\":\"white\",\"zerolinewidth\":2}}},\"title\":{\"text\":\"Category Concentration\"},\"xaxis\":{\"anchor\":\"y\",\"domain\":[0.0,1.0],\"title\":{\"text\":\"Number of Apps (Lower=More Concentrated)\"}},\"yaxis\":{\"anchor\":\"x\",\"domain\":[0.0,1.0],\"title\":{\"text\":\"Installs\"},\"type\":\"log\"}},                        {\"responsive\": true}                    ).then(function(){\n",
       "                            \n",
       "var gd = document.getElementById('4f2705de-a8fe-4a34-918d-9dc03affeaf6');\n",
       "var x = new MutationObserver(function (mutations, observer) {{\n",
       "        var display = window.getComputedStyle(gd).display;\n",
       "        if (!display || display === 'none') {{\n",
       "            console.log([gd, 'removed!']);\n",
       "            Plotly.purge(gd);\n",
       "            observer.disconnect();\n",
       "        }}\n",
       "}});\n",
       "\n",
       "// Listen for the removal of the full notebook cells\n",
       "var notebookContainer = gd.closest('#notebook-container');\n",
       "if (notebookContainer) {{\n",
       "    x.observe(notebookContainer, {childList: true});\n",
       "}}\n",
       "\n",
       "// Listen for the clearing of the current output cell\n",
       "var outputEl = gd.closest('.output');\n",
       "if (outputEl) {{\n",
       "    x.observe(outputEl, {childList: true});\n",
       "}}\n",
       "\n",
       "                        })                };                });            </script>        </div>"
      ]
     },
     "metadata": {},
     "output_type": "display_data"
    }
   ],
   "source": [
    "scatter = px.scatter(cat_merged_df, # data\n",
    "                    x='App', # column name\n",
    "                    y='Installs',\n",
    "                    title='Category Concentration',\n",
    "                    size='App',\n",
    "                    hover_name=cat_merged_df.index,\n",
    "                    color='Installs')\n",
    " \n",
    "scatter.update_layout(xaxis_title=\"Number of Apps (Lower=More Concentrated)\",\n",
    "                      yaxis_title=\"Installs\",\n",
    "                      yaxis=dict(type='log'))\n",
    " \n",
    "scatter.show()"
   ]
  },
  {
   "cell_type": "markdown",
   "metadata": {
    "id": "dmXDF75WdiVC"
   },
   "source": [
    "# Extracting Nested Data from a Column\n",
    "\n",
    "**Challenge**: How many different types of genres are there? Can an app belong to more than one genre? Check what happens when you use .value_counts() on a column with nested values? See if you can work around this problem by using the .split() function and the DataFrame's [.stack() method](https://pandas.pydata.org/pandas-docs/stable/reference/api/pandas.DataFrame.stack.html). \n"
   ]
  },
  {
   "cell_type": "code",
   "execution_count": 129,
   "metadata": {
    "id": "3Lo69kS6ogdm"
   },
   "outputs": [
    {
     "name": "stdout",
     "output_type": "stream",
     "text": [
      "We now have a single column with shape: (8564,)\n",
      "Number of genres: 53\n"
     ]
    },
    {
     "data": {
      "text/plain": [
       "21  0    Medical\n",
       "28  0     Arcade\n",
       "47  0     Arcade\n",
       "82  0     Arcade\n",
       "99  0    Medical\n",
       "dtype: object"
      ]
     },
     "execution_count": 129,
     "metadata": {},
     "output_type": "execute_result"
    }
   ],
   "source": [
    "# Split the strings on the semi-colon and then .stack them.\n",
    "stack = df_apps_clean.Genres.str.split(';',expand=True).stack()\n",
    "print(f'We now have a single column with shape: {stack.shape}')\n",
    "num_genres = stack.value_counts()\n",
    "print(f'Number of genres: {len(num_genres)}')\n",
    "stack.head()"
   ]
  },
  {
   "cell_type": "markdown",
   "metadata": {
    "id": "F3zaKvfydiVI"
   },
   "source": [
    "# Colour Scales in Plotly Charts - Competition in Genres"
   ]
  },
  {
   "cell_type": "markdown",
   "metadata": {
    "id": "Ucw6RT59diVK"
   },
   "source": [
    "**Challenge**: Can you create this chart with the Series containing the genre data? \n",
    "\n",
    "<img src=https://imgur.com/DbcoQli.png width=400>\n",
    "\n",
    "Try experimenting with the built in colour scales in Plotly. You can find a full list [here](https://plotly.com/python/builtin-colorscales/). \n",
    "\n",
    "* Find a way to set the colour scale using the color_continuous_scale parameter. \n",
    "* Find a way to make the color axis disappear by using coloraxis_showscale. "
   ]
  },
  {
   "cell_type": "code",
   "execution_count": 130,
   "metadata": {
    "id": "c5xbfMgxojoA"
   },
   "outputs": [
    {
     "data": {
      "application/vnd.plotly.v1+json": {
       "config": {
        "plotlyServerURL": "https://plot.ly"
       },
       "data": [
        {
         "alignmentgroup": "True",
         "hovertemplate": "<b>%{hovertext}</b><br><br>x=%{x}<br>y=%{y}<br>color=%{marker.color}<extra></extra>",
         "hovertext": [
          "Tools",
          "Education",
          "Entertainment",
          "Action",
          "Productivity",
          "Personalization",
          "Lifestyle",
          "Finance",
          "Medical",
          "Sports",
          "Photography",
          "Business",
          "Communication",
          "Health & Fitness",
          "Casual"
         ],
         "legendgroup": "",
         "marker": {
          "color": [
           719,
           587,
           498,
           304,
           301,
           298,
           298,
           296,
           292,
           270,
           263,
           262,
           258,
           245,
           216
          ],
          "coloraxis": "coloraxis",
          "pattern": {
           "shape": ""
          }
         },
         "name": "",
         "offsetgroup": "",
         "orientation": "v",
         "showlegend": false,
         "textposition": "auto",
         "type": "bar",
         "x": [
          "Tools",
          "Education",
          "Entertainment",
          "Action",
          "Productivity",
          "Personalization",
          "Lifestyle",
          "Finance",
          "Medical",
          "Sports",
          "Photography",
          "Business",
          "Communication",
          "Health & Fitness",
          "Casual"
         ],
         "xaxis": "x",
         "y": [
          719,
          587,
          498,
          304,
          301,
          298,
          298,
          296,
          292,
          270,
          263,
          262,
          258,
          245,
          216
         ],
         "yaxis": "y"
        }
       ],
       "layout": {
        "barmode": "relative",
        "coloraxis": {
         "colorbar": {
          "title": {
           "text": "color"
          }
         },
         "colorscale": [
          [
           0,
           "rgb(75, 41, 145)"
          ],
          [
           0.16666666666666666,
           "rgb(135, 44, 162)"
          ],
          [
           0.3333333333333333,
           "rgb(192, 54, 157)"
          ],
          [
           0.5,
           "rgb(234, 79, 136)"
          ],
          [
           0.6666666666666666,
           "rgb(250, 120, 118)"
          ],
          [
           0.8333333333333334,
           "rgb(246, 169, 122)"
          ],
          [
           1,
           "rgb(237, 217, 163)"
          ]
         ],
         "showscale": false
        },
        "legend": {
         "tracegroupgap": 0
        },
        "template": {
         "data": {
          "bar": [
           {
            "error_x": {
             "color": "#2a3f5f"
            },
            "error_y": {
             "color": "#2a3f5f"
            },
            "marker": {
             "line": {
              "color": "#E5ECF6",
              "width": 0.5
             },
             "pattern": {
              "fillmode": "overlay",
              "size": 10,
              "solidity": 0.2
             }
            },
            "type": "bar"
           }
          ],
          "barpolar": [
           {
            "marker": {
             "line": {
              "color": "#E5ECF6",
              "width": 0.5
             },
             "pattern": {
              "fillmode": "overlay",
              "size": 10,
              "solidity": 0.2
             }
            },
            "type": "barpolar"
           }
          ],
          "carpet": [
           {
            "aaxis": {
             "endlinecolor": "#2a3f5f",
             "gridcolor": "white",
             "linecolor": "white",
             "minorgridcolor": "white",
             "startlinecolor": "#2a3f5f"
            },
            "baxis": {
             "endlinecolor": "#2a3f5f",
             "gridcolor": "white",
             "linecolor": "white",
             "minorgridcolor": "white",
             "startlinecolor": "#2a3f5f"
            },
            "type": "carpet"
           }
          ],
          "choropleth": [
           {
            "colorbar": {
             "outlinewidth": 0,
             "ticks": ""
            },
            "type": "choropleth"
           }
          ],
          "contour": [
           {
            "colorbar": {
             "outlinewidth": 0,
             "ticks": ""
            },
            "colorscale": [
             [
              0,
              "#0d0887"
             ],
             [
              0.1111111111111111,
              "#46039f"
             ],
             [
              0.2222222222222222,
              "#7201a8"
             ],
             [
              0.3333333333333333,
              "#9c179e"
             ],
             [
              0.4444444444444444,
              "#bd3786"
             ],
             [
              0.5555555555555556,
              "#d8576b"
             ],
             [
              0.6666666666666666,
              "#ed7953"
             ],
             [
              0.7777777777777778,
              "#fb9f3a"
             ],
             [
              0.8888888888888888,
              "#fdca26"
             ],
             [
              1,
              "#f0f921"
             ]
            ],
            "type": "contour"
           }
          ],
          "contourcarpet": [
           {
            "colorbar": {
             "outlinewidth": 0,
             "ticks": ""
            },
            "type": "contourcarpet"
           }
          ],
          "heatmap": [
           {
            "colorbar": {
             "outlinewidth": 0,
             "ticks": ""
            },
            "colorscale": [
             [
              0,
              "#0d0887"
             ],
             [
              0.1111111111111111,
              "#46039f"
             ],
             [
              0.2222222222222222,
              "#7201a8"
             ],
             [
              0.3333333333333333,
              "#9c179e"
             ],
             [
              0.4444444444444444,
              "#bd3786"
             ],
             [
              0.5555555555555556,
              "#d8576b"
             ],
             [
              0.6666666666666666,
              "#ed7953"
             ],
             [
              0.7777777777777778,
              "#fb9f3a"
             ],
             [
              0.8888888888888888,
              "#fdca26"
             ],
             [
              1,
              "#f0f921"
             ]
            ],
            "type": "heatmap"
           }
          ],
          "heatmapgl": [
           {
            "colorbar": {
             "outlinewidth": 0,
             "ticks": ""
            },
            "colorscale": [
             [
              0,
              "#0d0887"
             ],
             [
              0.1111111111111111,
              "#46039f"
             ],
             [
              0.2222222222222222,
              "#7201a8"
             ],
             [
              0.3333333333333333,
              "#9c179e"
             ],
             [
              0.4444444444444444,
              "#bd3786"
             ],
             [
              0.5555555555555556,
              "#d8576b"
             ],
             [
              0.6666666666666666,
              "#ed7953"
             ],
             [
              0.7777777777777778,
              "#fb9f3a"
             ],
             [
              0.8888888888888888,
              "#fdca26"
             ],
             [
              1,
              "#f0f921"
             ]
            ],
            "type": "heatmapgl"
           }
          ],
          "histogram": [
           {
            "marker": {
             "pattern": {
              "fillmode": "overlay",
              "size": 10,
              "solidity": 0.2
             }
            },
            "type": "histogram"
           }
          ],
          "histogram2d": [
           {
            "colorbar": {
             "outlinewidth": 0,
             "ticks": ""
            },
            "colorscale": [
             [
              0,
              "#0d0887"
             ],
             [
              0.1111111111111111,
              "#46039f"
             ],
             [
              0.2222222222222222,
              "#7201a8"
             ],
             [
              0.3333333333333333,
              "#9c179e"
             ],
             [
              0.4444444444444444,
              "#bd3786"
             ],
             [
              0.5555555555555556,
              "#d8576b"
             ],
             [
              0.6666666666666666,
              "#ed7953"
             ],
             [
              0.7777777777777778,
              "#fb9f3a"
             ],
             [
              0.8888888888888888,
              "#fdca26"
             ],
             [
              1,
              "#f0f921"
             ]
            ],
            "type": "histogram2d"
           }
          ],
          "histogram2dcontour": [
           {
            "colorbar": {
             "outlinewidth": 0,
             "ticks": ""
            },
            "colorscale": [
             [
              0,
              "#0d0887"
             ],
             [
              0.1111111111111111,
              "#46039f"
             ],
             [
              0.2222222222222222,
              "#7201a8"
             ],
             [
              0.3333333333333333,
              "#9c179e"
             ],
             [
              0.4444444444444444,
              "#bd3786"
             ],
             [
              0.5555555555555556,
              "#d8576b"
             ],
             [
              0.6666666666666666,
              "#ed7953"
             ],
             [
              0.7777777777777778,
              "#fb9f3a"
             ],
             [
              0.8888888888888888,
              "#fdca26"
             ],
             [
              1,
              "#f0f921"
             ]
            ],
            "type": "histogram2dcontour"
           }
          ],
          "mesh3d": [
           {
            "colorbar": {
             "outlinewidth": 0,
             "ticks": ""
            },
            "type": "mesh3d"
           }
          ],
          "parcoords": [
           {
            "line": {
             "colorbar": {
              "outlinewidth": 0,
              "ticks": ""
             }
            },
            "type": "parcoords"
           }
          ],
          "pie": [
           {
            "automargin": true,
            "type": "pie"
           }
          ],
          "scatter": [
           {
            "marker": {
             "colorbar": {
              "outlinewidth": 0,
              "ticks": ""
             }
            },
            "type": "scatter"
           }
          ],
          "scatter3d": [
           {
            "line": {
             "colorbar": {
              "outlinewidth": 0,
              "ticks": ""
             }
            },
            "marker": {
             "colorbar": {
              "outlinewidth": 0,
              "ticks": ""
             }
            },
            "type": "scatter3d"
           }
          ],
          "scattercarpet": [
           {
            "marker": {
             "colorbar": {
              "outlinewidth": 0,
              "ticks": ""
             }
            },
            "type": "scattercarpet"
           }
          ],
          "scattergeo": [
           {
            "marker": {
             "colorbar": {
              "outlinewidth": 0,
              "ticks": ""
             }
            },
            "type": "scattergeo"
           }
          ],
          "scattergl": [
           {
            "marker": {
             "colorbar": {
              "outlinewidth": 0,
              "ticks": ""
             }
            },
            "type": "scattergl"
           }
          ],
          "scattermapbox": [
           {
            "marker": {
             "colorbar": {
              "outlinewidth": 0,
              "ticks": ""
             }
            },
            "type": "scattermapbox"
           }
          ],
          "scatterpolar": [
           {
            "marker": {
             "colorbar": {
              "outlinewidth": 0,
              "ticks": ""
             }
            },
            "type": "scatterpolar"
           }
          ],
          "scatterpolargl": [
           {
            "marker": {
             "colorbar": {
              "outlinewidth": 0,
              "ticks": ""
             }
            },
            "type": "scatterpolargl"
           }
          ],
          "scatterternary": [
           {
            "marker": {
             "colorbar": {
              "outlinewidth": 0,
              "ticks": ""
             }
            },
            "type": "scatterternary"
           }
          ],
          "surface": [
           {
            "colorbar": {
             "outlinewidth": 0,
             "ticks": ""
            },
            "colorscale": [
             [
              0,
              "#0d0887"
             ],
             [
              0.1111111111111111,
              "#46039f"
             ],
             [
              0.2222222222222222,
              "#7201a8"
             ],
             [
              0.3333333333333333,
              "#9c179e"
             ],
             [
              0.4444444444444444,
              "#bd3786"
             ],
             [
              0.5555555555555556,
              "#d8576b"
             ],
             [
              0.6666666666666666,
              "#ed7953"
             ],
             [
              0.7777777777777778,
              "#fb9f3a"
             ],
             [
              0.8888888888888888,
              "#fdca26"
             ],
             [
              1,
              "#f0f921"
             ]
            ],
            "type": "surface"
           }
          ],
          "table": [
           {
            "cells": {
             "fill": {
              "color": "#EBF0F8"
             },
             "line": {
              "color": "white"
             }
            },
            "header": {
             "fill": {
              "color": "#C8D4E3"
             },
             "line": {
              "color": "white"
             }
            },
            "type": "table"
           }
          ]
         },
         "layout": {
          "annotationdefaults": {
           "arrowcolor": "#2a3f5f",
           "arrowhead": 0,
           "arrowwidth": 1
          },
          "autotypenumbers": "strict",
          "coloraxis": {
           "colorbar": {
            "outlinewidth": 0,
            "ticks": ""
           }
          },
          "colorscale": {
           "diverging": [
            [
             0,
             "#8e0152"
            ],
            [
             0.1,
             "#c51b7d"
            ],
            [
             0.2,
             "#de77ae"
            ],
            [
             0.3,
             "#f1b6da"
            ],
            [
             0.4,
             "#fde0ef"
            ],
            [
             0.5,
             "#f7f7f7"
            ],
            [
             0.6,
             "#e6f5d0"
            ],
            [
             0.7,
             "#b8e186"
            ],
            [
             0.8,
             "#7fbc41"
            ],
            [
             0.9,
             "#4d9221"
            ],
            [
             1,
             "#276419"
            ]
           ],
           "sequential": [
            [
             0,
             "#0d0887"
            ],
            [
             0.1111111111111111,
             "#46039f"
            ],
            [
             0.2222222222222222,
             "#7201a8"
            ],
            [
             0.3333333333333333,
             "#9c179e"
            ],
            [
             0.4444444444444444,
             "#bd3786"
            ],
            [
             0.5555555555555556,
             "#d8576b"
            ],
            [
             0.6666666666666666,
             "#ed7953"
            ],
            [
             0.7777777777777778,
             "#fb9f3a"
            ],
            [
             0.8888888888888888,
             "#fdca26"
            ],
            [
             1,
             "#f0f921"
            ]
           ],
           "sequentialminus": [
            [
             0,
             "#0d0887"
            ],
            [
             0.1111111111111111,
             "#46039f"
            ],
            [
             0.2222222222222222,
             "#7201a8"
            ],
            [
             0.3333333333333333,
             "#9c179e"
            ],
            [
             0.4444444444444444,
             "#bd3786"
            ],
            [
             0.5555555555555556,
             "#d8576b"
            ],
            [
             0.6666666666666666,
             "#ed7953"
            ],
            [
             0.7777777777777778,
             "#fb9f3a"
            ],
            [
             0.8888888888888888,
             "#fdca26"
            ],
            [
             1,
             "#f0f921"
            ]
           ]
          },
          "colorway": [
           "#636efa",
           "#EF553B",
           "#00cc96",
           "#ab63fa",
           "#FFA15A",
           "#19d3f3",
           "#FF6692",
           "#B6E880",
           "#FF97FF",
           "#FECB52"
          ],
          "font": {
           "color": "#2a3f5f"
          },
          "geo": {
           "bgcolor": "white",
           "lakecolor": "white",
           "landcolor": "#E5ECF6",
           "showlakes": true,
           "showland": true,
           "subunitcolor": "white"
          },
          "hoverlabel": {
           "align": "left"
          },
          "hovermode": "closest",
          "mapbox": {
           "style": "light"
          },
          "paper_bgcolor": "white",
          "plot_bgcolor": "#E5ECF6",
          "polar": {
           "angularaxis": {
            "gridcolor": "white",
            "linecolor": "white",
            "ticks": ""
           },
           "bgcolor": "#E5ECF6",
           "radialaxis": {
            "gridcolor": "white",
            "linecolor": "white",
            "ticks": ""
           }
          },
          "scene": {
           "xaxis": {
            "backgroundcolor": "#E5ECF6",
            "gridcolor": "white",
            "gridwidth": 2,
            "linecolor": "white",
            "showbackground": true,
            "ticks": "",
            "zerolinecolor": "white"
           },
           "yaxis": {
            "backgroundcolor": "#E5ECF6",
            "gridcolor": "white",
            "gridwidth": 2,
            "linecolor": "white",
            "showbackground": true,
            "ticks": "",
            "zerolinecolor": "white"
           },
           "zaxis": {
            "backgroundcolor": "#E5ECF6",
            "gridcolor": "white",
            "gridwidth": 2,
            "linecolor": "white",
            "showbackground": true,
            "ticks": "",
            "zerolinecolor": "white"
           }
          },
          "shapedefaults": {
           "line": {
            "color": "#2a3f5f"
           }
          },
          "ternary": {
           "aaxis": {
            "gridcolor": "white",
            "linecolor": "white",
            "ticks": ""
           },
           "baxis": {
            "gridcolor": "white",
            "linecolor": "white",
            "ticks": ""
           },
           "bgcolor": "#E5ECF6",
           "caxis": {
            "gridcolor": "white",
            "linecolor": "white",
            "ticks": ""
           }
          },
          "title": {
           "x": 0.05
          },
          "xaxis": {
           "automargin": true,
           "gridcolor": "white",
           "linecolor": "white",
           "ticks": "",
           "title": {
            "standoff": 15
           },
           "zerolinecolor": "white",
           "zerolinewidth": 2
          },
          "yaxis": {
           "automargin": true,
           "gridcolor": "white",
           "linecolor": "white",
           "ticks": "",
           "title": {
            "standoff": 15
           },
           "zerolinecolor": "white",
           "zerolinewidth": 2
          }
         }
        },
        "title": {
         "text": "Top Genres"
        },
        "xaxis": {
         "anchor": "y",
         "domain": [
          0,
          1
         ],
         "title": {
          "text": "Genre"
         }
        },
        "yaxis": {
         "anchor": "x",
         "domain": [
          0,
          1
         ],
         "title": {
          "text": "Number of Apps"
         }
        }
       }
      },
      "text/html": [
       "<div>                            <div id=\"e9059cab-7f52-4357-b602-b34c2269f303\" class=\"plotly-graph-div\" style=\"height:525px; width:100%;\"></div>            <script type=\"text/javascript\">                require([\"plotly\"], function(Plotly) {                    window.PLOTLYENV=window.PLOTLYENV || {};                                    if (document.getElementById(\"e9059cab-7f52-4357-b602-b34c2269f303\")) {                    Plotly.newPlot(                        \"e9059cab-7f52-4357-b602-b34c2269f303\",                        [{\"alignmentgroup\":\"True\",\"hovertemplate\":\"<b>%{hovertext}</b><br><br>x=%{x}<br>y=%{y}<br>color=%{marker.color}<extra></extra>\",\"hovertext\":[\"Tools\",\"Education\",\"Entertainment\",\"Action\",\"Productivity\",\"Personalization\",\"Lifestyle\",\"Finance\",\"Medical\",\"Sports\",\"Photography\",\"Business\",\"Communication\",\"Health & Fitness\",\"Casual\"],\"legendgroup\":\"\",\"marker\":{\"color\":[719,587,498,304,301,298,298,296,292,270,263,262,258,245,216],\"coloraxis\":\"coloraxis\",\"pattern\":{\"shape\":\"\"}},\"name\":\"\",\"offsetgroup\":\"\",\"orientation\":\"v\",\"showlegend\":false,\"textposition\":\"auto\",\"type\":\"bar\",\"x\":[\"Tools\",\"Education\",\"Entertainment\",\"Action\",\"Productivity\",\"Personalization\",\"Lifestyle\",\"Finance\",\"Medical\",\"Sports\",\"Photography\",\"Business\",\"Communication\",\"Health & Fitness\",\"Casual\"],\"xaxis\":\"x\",\"y\":[719,587,498,304,301,298,298,296,292,270,263,262,258,245,216],\"yaxis\":\"y\"}],                        {\"barmode\":\"relative\",\"coloraxis\":{\"colorbar\":{\"title\":{\"text\":\"color\"}},\"colorscale\":[[0.0,\"rgb(75, 41, 145)\"],[0.16666666666666666,\"rgb(135, 44, 162)\"],[0.3333333333333333,\"rgb(192, 54, 157)\"],[0.5,\"rgb(234, 79, 136)\"],[0.6666666666666666,\"rgb(250, 120, 118)\"],[0.8333333333333334,\"rgb(246, 169, 122)\"],[1.0,\"rgb(237, 217, 163)\"]],\"showscale\":false},\"legend\":{\"tracegroupgap\":0},\"template\":{\"data\":{\"bar\":[{\"error_x\":{\"color\":\"#2a3f5f\"},\"error_y\":{\"color\":\"#2a3f5f\"},\"marker\":{\"line\":{\"color\":\"#E5ECF6\",\"width\":0.5},\"pattern\":{\"fillmode\":\"overlay\",\"size\":10,\"solidity\":0.2}},\"type\":\"bar\"}],\"barpolar\":[{\"marker\":{\"line\":{\"color\":\"#E5ECF6\",\"width\":0.5},\"pattern\":{\"fillmode\":\"overlay\",\"size\":10,\"solidity\":0.2}},\"type\":\"barpolar\"}],\"carpet\":[{\"aaxis\":{\"endlinecolor\":\"#2a3f5f\",\"gridcolor\":\"white\",\"linecolor\":\"white\",\"minorgridcolor\":\"white\",\"startlinecolor\":\"#2a3f5f\"},\"baxis\":{\"endlinecolor\":\"#2a3f5f\",\"gridcolor\":\"white\",\"linecolor\":\"white\",\"minorgridcolor\":\"white\",\"startlinecolor\":\"#2a3f5f\"},\"type\":\"carpet\"}],\"choropleth\":[{\"colorbar\":{\"outlinewidth\":0,\"ticks\":\"\"},\"type\":\"choropleth\"}],\"contour\":[{\"colorbar\":{\"outlinewidth\":0,\"ticks\":\"\"},\"colorscale\":[[0.0,\"#0d0887\"],[0.1111111111111111,\"#46039f\"],[0.2222222222222222,\"#7201a8\"],[0.3333333333333333,\"#9c179e\"],[0.4444444444444444,\"#bd3786\"],[0.5555555555555556,\"#d8576b\"],[0.6666666666666666,\"#ed7953\"],[0.7777777777777778,\"#fb9f3a\"],[0.8888888888888888,\"#fdca26\"],[1.0,\"#f0f921\"]],\"type\":\"contour\"}],\"contourcarpet\":[{\"colorbar\":{\"outlinewidth\":0,\"ticks\":\"\"},\"type\":\"contourcarpet\"}],\"heatmap\":[{\"colorbar\":{\"outlinewidth\":0,\"ticks\":\"\"},\"colorscale\":[[0.0,\"#0d0887\"],[0.1111111111111111,\"#46039f\"],[0.2222222222222222,\"#7201a8\"],[0.3333333333333333,\"#9c179e\"],[0.4444444444444444,\"#bd3786\"],[0.5555555555555556,\"#d8576b\"],[0.6666666666666666,\"#ed7953\"],[0.7777777777777778,\"#fb9f3a\"],[0.8888888888888888,\"#fdca26\"],[1.0,\"#f0f921\"]],\"type\":\"heatmap\"}],\"heatmapgl\":[{\"colorbar\":{\"outlinewidth\":0,\"ticks\":\"\"},\"colorscale\":[[0.0,\"#0d0887\"],[0.1111111111111111,\"#46039f\"],[0.2222222222222222,\"#7201a8\"],[0.3333333333333333,\"#9c179e\"],[0.4444444444444444,\"#bd3786\"],[0.5555555555555556,\"#d8576b\"],[0.6666666666666666,\"#ed7953\"],[0.7777777777777778,\"#fb9f3a\"],[0.8888888888888888,\"#fdca26\"],[1.0,\"#f0f921\"]],\"type\":\"heatmapgl\"}],\"histogram\":[{\"marker\":{\"pattern\":{\"fillmode\":\"overlay\",\"size\":10,\"solidity\":0.2}},\"type\":\"histogram\"}],\"histogram2d\":[{\"colorbar\":{\"outlinewidth\":0,\"ticks\":\"\"},\"colorscale\":[[0.0,\"#0d0887\"],[0.1111111111111111,\"#46039f\"],[0.2222222222222222,\"#7201a8\"],[0.3333333333333333,\"#9c179e\"],[0.4444444444444444,\"#bd3786\"],[0.5555555555555556,\"#d8576b\"],[0.6666666666666666,\"#ed7953\"],[0.7777777777777778,\"#fb9f3a\"],[0.8888888888888888,\"#fdca26\"],[1.0,\"#f0f921\"]],\"type\":\"histogram2d\"}],\"histogram2dcontour\":[{\"colorbar\":{\"outlinewidth\":0,\"ticks\":\"\"},\"colorscale\":[[0.0,\"#0d0887\"],[0.1111111111111111,\"#46039f\"],[0.2222222222222222,\"#7201a8\"],[0.3333333333333333,\"#9c179e\"],[0.4444444444444444,\"#bd3786\"],[0.5555555555555556,\"#d8576b\"],[0.6666666666666666,\"#ed7953\"],[0.7777777777777778,\"#fb9f3a\"],[0.8888888888888888,\"#fdca26\"],[1.0,\"#f0f921\"]],\"type\":\"histogram2dcontour\"}],\"mesh3d\":[{\"colorbar\":{\"outlinewidth\":0,\"ticks\":\"\"},\"type\":\"mesh3d\"}],\"parcoords\":[{\"line\":{\"colorbar\":{\"outlinewidth\":0,\"ticks\":\"\"}},\"type\":\"parcoords\"}],\"pie\":[{\"automargin\":true,\"type\":\"pie\"}],\"scatter\":[{\"marker\":{\"colorbar\":{\"outlinewidth\":0,\"ticks\":\"\"}},\"type\":\"scatter\"}],\"scatter3d\":[{\"line\":{\"colorbar\":{\"outlinewidth\":0,\"ticks\":\"\"}},\"marker\":{\"colorbar\":{\"outlinewidth\":0,\"ticks\":\"\"}},\"type\":\"scatter3d\"}],\"scattercarpet\":[{\"marker\":{\"colorbar\":{\"outlinewidth\":0,\"ticks\":\"\"}},\"type\":\"scattercarpet\"}],\"scattergeo\":[{\"marker\":{\"colorbar\":{\"outlinewidth\":0,\"ticks\":\"\"}},\"type\":\"scattergeo\"}],\"scattergl\":[{\"marker\":{\"colorbar\":{\"outlinewidth\":0,\"ticks\":\"\"}},\"type\":\"scattergl\"}],\"scattermapbox\":[{\"marker\":{\"colorbar\":{\"outlinewidth\":0,\"ticks\":\"\"}},\"type\":\"scattermapbox\"}],\"scatterpolar\":[{\"marker\":{\"colorbar\":{\"outlinewidth\":0,\"ticks\":\"\"}},\"type\":\"scatterpolar\"}],\"scatterpolargl\":[{\"marker\":{\"colorbar\":{\"outlinewidth\":0,\"ticks\":\"\"}},\"type\":\"scatterpolargl\"}],\"scatterternary\":[{\"marker\":{\"colorbar\":{\"outlinewidth\":0,\"ticks\":\"\"}},\"type\":\"scatterternary\"}],\"surface\":[{\"colorbar\":{\"outlinewidth\":0,\"ticks\":\"\"},\"colorscale\":[[0.0,\"#0d0887\"],[0.1111111111111111,\"#46039f\"],[0.2222222222222222,\"#7201a8\"],[0.3333333333333333,\"#9c179e\"],[0.4444444444444444,\"#bd3786\"],[0.5555555555555556,\"#d8576b\"],[0.6666666666666666,\"#ed7953\"],[0.7777777777777778,\"#fb9f3a\"],[0.8888888888888888,\"#fdca26\"],[1.0,\"#f0f921\"]],\"type\":\"surface\"}],\"table\":[{\"cells\":{\"fill\":{\"color\":\"#EBF0F8\"},\"line\":{\"color\":\"white\"}},\"header\":{\"fill\":{\"color\":\"#C8D4E3\"},\"line\":{\"color\":\"white\"}},\"type\":\"table\"}]},\"layout\":{\"annotationdefaults\":{\"arrowcolor\":\"#2a3f5f\",\"arrowhead\":0,\"arrowwidth\":1},\"autotypenumbers\":\"strict\",\"coloraxis\":{\"colorbar\":{\"outlinewidth\":0,\"ticks\":\"\"}},\"colorscale\":{\"diverging\":[[0,\"#8e0152\"],[0.1,\"#c51b7d\"],[0.2,\"#de77ae\"],[0.3,\"#f1b6da\"],[0.4,\"#fde0ef\"],[0.5,\"#f7f7f7\"],[0.6,\"#e6f5d0\"],[0.7,\"#b8e186\"],[0.8,\"#7fbc41\"],[0.9,\"#4d9221\"],[1,\"#276419\"]],\"sequential\":[[0.0,\"#0d0887\"],[0.1111111111111111,\"#46039f\"],[0.2222222222222222,\"#7201a8\"],[0.3333333333333333,\"#9c179e\"],[0.4444444444444444,\"#bd3786\"],[0.5555555555555556,\"#d8576b\"],[0.6666666666666666,\"#ed7953\"],[0.7777777777777778,\"#fb9f3a\"],[0.8888888888888888,\"#fdca26\"],[1.0,\"#f0f921\"]],\"sequentialminus\":[[0.0,\"#0d0887\"],[0.1111111111111111,\"#46039f\"],[0.2222222222222222,\"#7201a8\"],[0.3333333333333333,\"#9c179e\"],[0.4444444444444444,\"#bd3786\"],[0.5555555555555556,\"#d8576b\"],[0.6666666666666666,\"#ed7953\"],[0.7777777777777778,\"#fb9f3a\"],[0.8888888888888888,\"#fdca26\"],[1.0,\"#f0f921\"]]},\"colorway\":[\"#636efa\",\"#EF553B\",\"#00cc96\",\"#ab63fa\",\"#FFA15A\",\"#19d3f3\",\"#FF6692\",\"#B6E880\",\"#FF97FF\",\"#FECB52\"],\"font\":{\"color\":\"#2a3f5f\"},\"geo\":{\"bgcolor\":\"white\",\"lakecolor\":\"white\",\"landcolor\":\"#E5ECF6\",\"showlakes\":true,\"showland\":true,\"subunitcolor\":\"white\"},\"hoverlabel\":{\"align\":\"left\"},\"hovermode\":\"closest\",\"mapbox\":{\"style\":\"light\"},\"paper_bgcolor\":\"white\",\"plot_bgcolor\":\"#E5ECF6\",\"polar\":{\"angularaxis\":{\"gridcolor\":\"white\",\"linecolor\":\"white\",\"ticks\":\"\"},\"bgcolor\":\"#E5ECF6\",\"radialaxis\":{\"gridcolor\":\"white\",\"linecolor\":\"white\",\"ticks\":\"\"}},\"scene\":{\"xaxis\":{\"backgroundcolor\":\"#E5ECF6\",\"gridcolor\":\"white\",\"gridwidth\":2,\"linecolor\":\"white\",\"showbackground\":true,\"ticks\":\"\",\"zerolinecolor\":\"white\"},\"yaxis\":{\"backgroundcolor\":\"#E5ECF6\",\"gridcolor\":\"white\",\"gridwidth\":2,\"linecolor\":\"white\",\"showbackground\":true,\"ticks\":\"\",\"zerolinecolor\":\"white\"},\"zaxis\":{\"backgroundcolor\":\"#E5ECF6\",\"gridcolor\":\"white\",\"gridwidth\":2,\"linecolor\":\"white\",\"showbackground\":true,\"ticks\":\"\",\"zerolinecolor\":\"white\"}},\"shapedefaults\":{\"line\":{\"color\":\"#2a3f5f\"}},\"ternary\":{\"aaxis\":{\"gridcolor\":\"white\",\"linecolor\":\"white\",\"ticks\":\"\"},\"baxis\":{\"gridcolor\":\"white\",\"linecolor\":\"white\",\"ticks\":\"\"},\"bgcolor\":\"#E5ECF6\",\"caxis\":{\"gridcolor\":\"white\",\"linecolor\":\"white\",\"ticks\":\"\"}},\"title\":{\"x\":0.05},\"xaxis\":{\"automargin\":true,\"gridcolor\":\"white\",\"linecolor\":\"white\",\"ticks\":\"\",\"title\":{\"standoff\":15},\"zerolinecolor\":\"white\",\"zerolinewidth\":2},\"yaxis\":{\"automargin\":true,\"gridcolor\":\"white\",\"linecolor\":\"white\",\"ticks\":\"\",\"title\":{\"standoff\":15},\"zerolinecolor\":\"white\",\"zerolinewidth\":2}}},\"title\":{\"text\":\"Top Genres\"},\"xaxis\":{\"anchor\":\"y\",\"domain\":[0.0,1.0],\"title\":{\"text\":\"Genre\"}},\"yaxis\":{\"anchor\":\"x\",\"domain\":[0.0,1.0],\"title\":{\"text\":\"Number of Apps\"}}},                        {\"responsive\": true}                    ).then(function(){\n",
       "                            \n",
       "var gd = document.getElementById('e9059cab-7f52-4357-b602-b34c2269f303');\n",
       "var x = new MutationObserver(function (mutations, observer) {{\n",
       "        var display = window.getComputedStyle(gd).display;\n",
       "        if (!display || display === 'none') {{\n",
       "            console.log([gd, 'removed!']);\n",
       "            Plotly.purge(gd);\n",
       "            observer.disconnect();\n",
       "        }}\n",
       "}});\n",
       "\n",
       "// Listen for the removal of the full notebook cells\n",
       "var notebookContainer = gd.closest('#notebook-container');\n",
       "if (notebookContainer) {{\n",
       "    x.observe(notebookContainer, {childList: true});\n",
       "}}\n",
       "\n",
       "// Listen for the clearing of the current output cell\n",
       "var outputEl = gd.closest('.output');\n",
       "if (outputEl) {{\n",
       "    x.observe(outputEl, {childList: true});\n",
       "}}\n",
       "\n",
       "                        })                };                });            </script>        </div>"
      ]
     },
     "metadata": {},
     "output_type": "display_data"
    }
   ],
   "source": [
    "bar = px.bar(x = num_genres.index[:15], # index = category name\n",
    "             y = num_genres.values[:15], # count\n",
    "             title='Top Genres',\n",
    "             hover_name=num_genres.index[:15],\n",
    "             color=num_genres.values[:15],\n",
    "             color_continuous_scale='Agsunset')\n",
    " \n",
    "bar.update_layout(xaxis_title='Genre',\n",
    "yaxis_title='Number of Apps',\n",
    "coloraxis_showscale=False)\n",
    " \n",
    "bar.show()"
   ]
  },
  {
   "cell_type": "markdown",
   "metadata": {
    "id": "BIWG_10PyIzL"
   },
   "source": [
    "# Grouped Bar Charts: Free vs. Paid Apps per Category"
   ]
  },
  {
   "cell_type": "code",
   "execution_count": 132,
   "metadata": {
    "id": "ANMs7xywolDH"
   },
   "outputs": [
    {
     "data": {
      "text/plain": [
       "Free    7595\n",
       "Paid     589\n",
       "Name: Type, dtype: int64"
      ]
     },
     "execution_count": 132,
     "metadata": {},
     "output_type": "execute_result"
    }
   ],
   "source": [
    "df_apps_clean.Type.value_counts()"
   ]
  },
  {
   "cell_type": "markdown",
   "metadata": {
    "id": "wmRXm0TW1e_Z"
   },
   "source": [
    "**Challenge**: Use the plotly express bar [chart examples](https://plotly.com/python/bar-charts/#bar-chart-with-sorted-or-ordered-categories) and the [.bar() API reference](https://plotly.com/python-api-reference/generated/plotly.express.bar.html#plotly.express.bar) to create this bar chart: \n",
    "\n",
    "<img src=https://imgur.com/LE0XCxA.png>\n",
    "\n",
    "You'll want to use the `df_free_vs_paid` DataFrame that you created above that has the total number of free and paid apps per category. \n",
    "\n",
    "See if you can figure out how to get the look above by changing the `categoryorder` to 'total descending' as outlined in the documentation here [here](https://plotly.com/python/categorical-axes/#automatically-sorting-categories-by-name-or-total-value). "
   ]
  },
  {
   "cell_type": "code",
   "execution_count": 135,
   "metadata": {
    "id": "tqOntrS7onGt"
   },
   "outputs": [
    {
     "data": {
      "text/html": [
       "<div>\n",
       "<style scoped>\n",
       "    .dataframe tbody tr th:only-of-type {\n",
       "        vertical-align: middle;\n",
       "    }\n",
       "\n",
       "    .dataframe tbody tr th {\n",
       "        vertical-align: top;\n",
       "    }\n",
       "\n",
       "    .dataframe thead th {\n",
       "        text-align: right;\n",
       "    }\n",
       "</style>\n",
       "<table border=\"1\" class=\"dataframe\">\n",
       "  <thead>\n",
       "    <tr style=\"text-align: right;\">\n",
       "      <th></th>\n",
       "      <th>Category</th>\n",
       "      <th>Type</th>\n",
       "      <th>App</th>\n",
       "    </tr>\n",
       "  </thead>\n",
       "  <tbody>\n",
       "    <tr>\n",
       "      <th>0</th>\n",
       "      <td>ART_AND_DESIGN</td>\n",
       "      <td>Free</td>\n",
       "      <td>58</td>\n",
       "    </tr>\n",
       "    <tr>\n",
       "      <th>1</th>\n",
       "      <td>ART_AND_DESIGN</td>\n",
       "      <td>Paid</td>\n",
       "      <td>3</td>\n",
       "    </tr>\n",
       "    <tr>\n",
       "      <th>2</th>\n",
       "      <td>AUTO_AND_VEHICLES</td>\n",
       "      <td>Free</td>\n",
       "      <td>72</td>\n",
       "    </tr>\n",
       "    <tr>\n",
       "      <th>3</th>\n",
       "      <td>AUTO_AND_VEHICLES</td>\n",
       "      <td>Paid</td>\n",
       "      <td>1</td>\n",
       "    </tr>\n",
       "    <tr>\n",
       "      <th>4</th>\n",
       "      <td>BEAUTY</td>\n",
       "      <td>Free</td>\n",
       "      <td>42</td>\n",
       "    </tr>\n",
       "  </tbody>\n",
       "</table>\n",
       "</div>"
      ],
      "text/plain": [
       "            Category  Type  App\n",
       "0     ART_AND_DESIGN  Free   58\n",
       "1     ART_AND_DESIGN  Paid    3\n",
       "2  AUTO_AND_VEHICLES  Free   72\n",
       "3  AUTO_AND_VEHICLES  Paid    1\n",
       "4             BEAUTY  Free   42"
      ]
     },
     "execution_count": 135,
     "metadata": {},
     "output_type": "execute_result"
    }
   ],
   "source": [
    "df_free_vs_paid = df_apps_clean.groupby([\"Category\", \"Type\"], as_index=False).agg({'App': pd.Series.count})\n",
    "df_free_vs_paid.head()"
   ]
  },
  {
   "cell_type": "code",
   "execution_count": 136,
   "metadata": {},
   "outputs": [
    {
     "data": {
      "application/vnd.plotly.v1+json": {
       "config": {
        "plotlyServerURL": "https://plot.ly"
       },
       "data": [
        {
         "alignmentgroup": "True",
         "hovertemplate": "Type=Free<br>Category=%{x}<br>App=%{y}<extra></extra>",
         "legendgroup": "Free",
         "marker": {
          "color": "#636efa",
          "pattern": {
           "shape": ""
          }
         },
         "name": "Free",
         "offsetgroup": "Free",
         "orientation": "v",
         "showlegend": true,
         "textposition": "auto",
         "type": "bar",
         "x": [
          "ART_AND_DESIGN",
          "AUTO_AND_VEHICLES",
          "BEAUTY",
          "BOOKS_AND_REFERENCE",
          "BUSINESS",
          "COMICS",
          "COMMUNICATION",
          "DATING",
          "EDUCATION",
          "ENTERTAINMENT",
          "EVENTS",
          "FAMILY",
          "FINANCE",
          "FOOD_AND_DRINK",
          "GAME",
          "HEALTH_AND_FITNESS",
          "HOUSE_AND_HOME",
          "LIBRARIES_AND_DEMO",
          "LIFESTYLE",
          "MAPS_AND_NAVIGATION",
          "MEDICAL",
          "NEWS_AND_MAGAZINES",
          "PARENTING",
          "PERSONALIZATION",
          "PHOTOGRAPHY",
          "PRODUCTIVITY",
          "SHOPPING",
          "SOCIAL",
          "SPORTS",
          "TOOLS",
          "TRAVEL_AND_LOCAL",
          "VIDEO_PLAYERS",
          "WEATHER"
         ],
         "xaxis": "x",
         "y": [
          58,
          72,
          42,
          161,
          253,
          54,
          235,
          131,
          114,
          100,
          45,
          1456,
          289,
          92,
          834,
          232,
          62,
          64,
          284,
          113,
          229,
          202,
          48,
          233,
          248,
          283,
          178,
          201,
          238,
          656,
          179,
          144,
          65
         ],
         "yaxis": "y"
        },
        {
         "alignmentgroup": "True",
         "hovertemplate": "Type=Paid<br>Category=%{x}<br>App=%{y}<extra></extra>",
         "legendgroup": "Paid",
         "marker": {
          "color": "#EF553B",
          "pattern": {
           "shape": ""
          }
         },
         "name": "Paid",
         "offsetgroup": "Paid",
         "orientation": "v",
         "showlegend": true,
         "textposition": "auto",
         "type": "bar",
         "x": [
          "ART_AND_DESIGN",
          "AUTO_AND_VEHICLES",
          "BOOKS_AND_REFERENCE",
          "BUSINESS",
          "COMMUNICATION",
          "DATING",
          "EDUCATION",
          "ENTERTAINMENT",
          "FAMILY",
          "FINANCE",
          "FOOD_AND_DRINK",
          "GAME",
          "HEALTH_AND_FITNESS",
          "LIFESTYLE",
          "MAPS_AND_NAVIGATION",
          "MEDICAL",
          "NEWS_AND_MAGAZINES",
          "PARENTING",
          "PERSONALIZATION",
          "PHOTOGRAPHY",
          "PRODUCTIVITY",
          "SHOPPING",
          "SOCIAL",
          "SPORTS",
          "TOOLS",
          "TRAVEL_AND_LOCAL",
          "VIDEO_PLAYERS",
          "WEATHER"
         ],
         "xaxis": "x",
         "y": [
          3,
          1,
          8,
          9,
          22,
          3,
          4,
          2,
          150,
          7,
          2,
          76,
          11,
          13,
          5,
          63,
          2,
          2,
          65,
          15,
          18,
          2,
          2,
          22,
          63,
          8,
          4,
          7
         ],
         "yaxis": "y"
        }
       ],
       "layout": {
        "barmode": "group",
        "legend": {
         "title": {
          "text": "Type"
         },
         "tracegroupgap": 0
        },
        "template": {
         "data": {
          "bar": [
           {
            "error_x": {
             "color": "#2a3f5f"
            },
            "error_y": {
             "color": "#2a3f5f"
            },
            "marker": {
             "line": {
              "color": "#E5ECF6",
              "width": 0.5
             },
             "pattern": {
              "fillmode": "overlay",
              "size": 10,
              "solidity": 0.2
             }
            },
            "type": "bar"
           }
          ],
          "barpolar": [
           {
            "marker": {
             "line": {
              "color": "#E5ECF6",
              "width": 0.5
             },
             "pattern": {
              "fillmode": "overlay",
              "size": 10,
              "solidity": 0.2
             }
            },
            "type": "barpolar"
           }
          ],
          "carpet": [
           {
            "aaxis": {
             "endlinecolor": "#2a3f5f",
             "gridcolor": "white",
             "linecolor": "white",
             "minorgridcolor": "white",
             "startlinecolor": "#2a3f5f"
            },
            "baxis": {
             "endlinecolor": "#2a3f5f",
             "gridcolor": "white",
             "linecolor": "white",
             "minorgridcolor": "white",
             "startlinecolor": "#2a3f5f"
            },
            "type": "carpet"
           }
          ],
          "choropleth": [
           {
            "colorbar": {
             "outlinewidth": 0,
             "ticks": ""
            },
            "type": "choropleth"
           }
          ],
          "contour": [
           {
            "colorbar": {
             "outlinewidth": 0,
             "ticks": ""
            },
            "colorscale": [
             [
              0,
              "#0d0887"
             ],
             [
              0.1111111111111111,
              "#46039f"
             ],
             [
              0.2222222222222222,
              "#7201a8"
             ],
             [
              0.3333333333333333,
              "#9c179e"
             ],
             [
              0.4444444444444444,
              "#bd3786"
             ],
             [
              0.5555555555555556,
              "#d8576b"
             ],
             [
              0.6666666666666666,
              "#ed7953"
             ],
             [
              0.7777777777777778,
              "#fb9f3a"
             ],
             [
              0.8888888888888888,
              "#fdca26"
             ],
             [
              1,
              "#f0f921"
             ]
            ],
            "type": "contour"
           }
          ],
          "contourcarpet": [
           {
            "colorbar": {
             "outlinewidth": 0,
             "ticks": ""
            },
            "type": "contourcarpet"
           }
          ],
          "heatmap": [
           {
            "colorbar": {
             "outlinewidth": 0,
             "ticks": ""
            },
            "colorscale": [
             [
              0,
              "#0d0887"
             ],
             [
              0.1111111111111111,
              "#46039f"
             ],
             [
              0.2222222222222222,
              "#7201a8"
             ],
             [
              0.3333333333333333,
              "#9c179e"
             ],
             [
              0.4444444444444444,
              "#bd3786"
             ],
             [
              0.5555555555555556,
              "#d8576b"
             ],
             [
              0.6666666666666666,
              "#ed7953"
             ],
             [
              0.7777777777777778,
              "#fb9f3a"
             ],
             [
              0.8888888888888888,
              "#fdca26"
             ],
             [
              1,
              "#f0f921"
             ]
            ],
            "type": "heatmap"
           }
          ],
          "heatmapgl": [
           {
            "colorbar": {
             "outlinewidth": 0,
             "ticks": ""
            },
            "colorscale": [
             [
              0,
              "#0d0887"
             ],
             [
              0.1111111111111111,
              "#46039f"
             ],
             [
              0.2222222222222222,
              "#7201a8"
             ],
             [
              0.3333333333333333,
              "#9c179e"
             ],
             [
              0.4444444444444444,
              "#bd3786"
             ],
             [
              0.5555555555555556,
              "#d8576b"
             ],
             [
              0.6666666666666666,
              "#ed7953"
             ],
             [
              0.7777777777777778,
              "#fb9f3a"
             ],
             [
              0.8888888888888888,
              "#fdca26"
             ],
             [
              1,
              "#f0f921"
             ]
            ],
            "type": "heatmapgl"
           }
          ],
          "histogram": [
           {
            "marker": {
             "pattern": {
              "fillmode": "overlay",
              "size": 10,
              "solidity": 0.2
             }
            },
            "type": "histogram"
           }
          ],
          "histogram2d": [
           {
            "colorbar": {
             "outlinewidth": 0,
             "ticks": ""
            },
            "colorscale": [
             [
              0,
              "#0d0887"
             ],
             [
              0.1111111111111111,
              "#46039f"
             ],
             [
              0.2222222222222222,
              "#7201a8"
             ],
             [
              0.3333333333333333,
              "#9c179e"
             ],
             [
              0.4444444444444444,
              "#bd3786"
             ],
             [
              0.5555555555555556,
              "#d8576b"
             ],
             [
              0.6666666666666666,
              "#ed7953"
             ],
             [
              0.7777777777777778,
              "#fb9f3a"
             ],
             [
              0.8888888888888888,
              "#fdca26"
             ],
             [
              1,
              "#f0f921"
             ]
            ],
            "type": "histogram2d"
           }
          ],
          "histogram2dcontour": [
           {
            "colorbar": {
             "outlinewidth": 0,
             "ticks": ""
            },
            "colorscale": [
             [
              0,
              "#0d0887"
             ],
             [
              0.1111111111111111,
              "#46039f"
             ],
             [
              0.2222222222222222,
              "#7201a8"
             ],
             [
              0.3333333333333333,
              "#9c179e"
             ],
             [
              0.4444444444444444,
              "#bd3786"
             ],
             [
              0.5555555555555556,
              "#d8576b"
             ],
             [
              0.6666666666666666,
              "#ed7953"
             ],
             [
              0.7777777777777778,
              "#fb9f3a"
             ],
             [
              0.8888888888888888,
              "#fdca26"
             ],
             [
              1,
              "#f0f921"
             ]
            ],
            "type": "histogram2dcontour"
           }
          ],
          "mesh3d": [
           {
            "colorbar": {
             "outlinewidth": 0,
             "ticks": ""
            },
            "type": "mesh3d"
           }
          ],
          "parcoords": [
           {
            "line": {
             "colorbar": {
              "outlinewidth": 0,
              "ticks": ""
             }
            },
            "type": "parcoords"
           }
          ],
          "pie": [
           {
            "automargin": true,
            "type": "pie"
           }
          ],
          "scatter": [
           {
            "marker": {
             "colorbar": {
              "outlinewidth": 0,
              "ticks": ""
             }
            },
            "type": "scatter"
           }
          ],
          "scatter3d": [
           {
            "line": {
             "colorbar": {
              "outlinewidth": 0,
              "ticks": ""
             }
            },
            "marker": {
             "colorbar": {
              "outlinewidth": 0,
              "ticks": ""
             }
            },
            "type": "scatter3d"
           }
          ],
          "scattercarpet": [
           {
            "marker": {
             "colorbar": {
              "outlinewidth": 0,
              "ticks": ""
             }
            },
            "type": "scattercarpet"
           }
          ],
          "scattergeo": [
           {
            "marker": {
             "colorbar": {
              "outlinewidth": 0,
              "ticks": ""
             }
            },
            "type": "scattergeo"
           }
          ],
          "scattergl": [
           {
            "marker": {
             "colorbar": {
              "outlinewidth": 0,
              "ticks": ""
             }
            },
            "type": "scattergl"
           }
          ],
          "scattermapbox": [
           {
            "marker": {
             "colorbar": {
              "outlinewidth": 0,
              "ticks": ""
             }
            },
            "type": "scattermapbox"
           }
          ],
          "scatterpolar": [
           {
            "marker": {
             "colorbar": {
              "outlinewidth": 0,
              "ticks": ""
             }
            },
            "type": "scatterpolar"
           }
          ],
          "scatterpolargl": [
           {
            "marker": {
             "colorbar": {
              "outlinewidth": 0,
              "ticks": ""
             }
            },
            "type": "scatterpolargl"
           }
          ],
          "scatterternary": [
           {
            "marker": {
             "colorbar": {
              "outlinewidth": 0,
              "ticks": ""
             }
            },
            "type": "scatterternary"
           }
          ],
          "surface": [
           {
            "colorbar": {
             "outlinewidth": 0,
             "ticks": ""
            },
            "colorscale": [
             [
              0,
              "#0d0887"
             ],
             [
              0.1111111111111111,
              "#46039f"
             ],
             [
              0.2222222222222222,
              "#7201a8"
             ],
             [
              0.3333333333333333,
              "#9c179e"
             ],
             [
              0.4444444444444444,
              "#bd3786"
             ],
             [
              0.5555555555555556,
              "#d8576b"
             ],
             [
              0.6666666666666666,
              "#ed7953"
             ],
             [
              0.7777777777777778,
              "#fb9f3a"
             ],
             [
              0.8888888888888888,
              "#fdca26"
             ],
             [
              1,
              "#f0f921"
             ]
            ],
            "type": "surface"
           }
          ],
          "table": [
           {
            "cells": {
             "fill": {
              "color": "#EBF0F8"
             },
             "line": {
              "color": "white"
             }
            },
            "header": {
             "fill": {
              "color": "#C8D4E3"
             },
             "line": {
              "color": "white"
             }
            },
            "type": "table"
           }
          ]
         },
         "layout": {
          "annotationdefaults": {
           "arrowcolor": "#2a3f5f",
           "arrowhead": 0,
           "arrowwidth": 1
          },
          "autotypenumbers": "strict",
          "coloraxis": {
           "colorbar": {
            "outlinewidth": 0,
            "ticks": ""
           }
          },
          "colorscale": {
           "diverging": [
            [
             0,
             "#8e0152"
            ],
            [
             0.1,
             "#c51b7d"
            ],
            [
             0.2,
             "#de77ae"
            ],
            [
             0.3,
             "#f1b6da"
            ],
            [
             0.4,
             "#fde0ef"
            ],
            [
             0.5,
             "#f7f7f7"
            ],
            [
             0.6,
             "#e6f5d0"
            ],
            [
             0.7,
             "#b8e186"
            ],
            [
             0.8,
             "#7fbc41"
            ],
            [
             0.9,
             "#4d9221"
            ],
            [
             1,
             "#276419"
            ]
           ],
           "sequential": [
            [
             0,
             "#0d0887"
            ],
            [
             0.1111111111111111,
             "#46039f"
            ],
            [
             0.2222222222222222,
             "#7201a8"
            ],
            [
             0.3333333333333333,
             "#9c179e"
            ],
            [
             0.4444444444444444,
             "#bd3786"
            ],
            [
             0.5555555555555556,
             "#d8576b"
            ],
            [
             0.6666666666666666,
             "#ed7953"
            ],
            [
             0.7777777777777778,
             "#fb9f3a"
            ],
            [
             0.8888888888888888,
             "#fdca26"
            ],
            [
             1,
             "#f0f921"
            ]
           ],
           "sequentialminus": [
            [
             0,
             "#0d0887"
            ],
            [
             0.1111111111111111,
             "#46039f"
            ],
            [
             0.2222222222222222,
             "#7201a8"
            ],
            [
             0.3333333333333333,
             "#9c179e"
            ],
            [
             0.4444444444444444,
             "#bd3786"
            ],
            [
             0.5555555555555556,
             "#d8576b"
            ],
            [
             0.6666666666666666,
             "#ed7953"
            ],
            [
             0.7777777777777778,
             "#fb9f3a"
            ],
            [
             0.8888888888888888,
             "#fdca26"
            ],
            [
             1,
             "#f0f921"
            ]
           ]
          },
          "colorway": [
           "#636efa",
           "#EF553B",
           "#00cc96",
           "#ab63fa",
           "#FFA15A",
           "#19d3f3",
           "#FF6692",
           "#B6E880",
           "#FF97FF",
           "#FECB52"
          ],
          "font": {
           "color": "#2a3f5f"
          },
          "geo": {
           "bgcolor": "white",
           "lakecolor": "white",
           "landcolor": "#E5ECF6",
           "showlakes": true,
           "showland": true,
           "subunitcolor": "white"
          },
          "hoverlabel": {
           "align": "left"
          },
          "hovermode": "closest",
          "mapbox": {
           "style": "light"
          },
          "paper_bgcolor": "white",
          "plot_bgcolor": "#E5ECF6",
          "polar": {
           "angularaxis": {
            "gridcolor": "white",
            "linecolor": "white",
            "ticks": ""
           },
           "bgcolor": "#E5ECF6",
           "radialaxis": {
            "gridcolor": "white",
            "linecolor": "white",
            "ticks": ""
           }
          },
          "scene": {
           "xaxis": {
            "backgroundcolor": "#E5ECF6",
            "gridcolor": "white",
            "gridwidth": 2,
            "linecolor": "white",
            "showbackground": true,
            "ticks": "",
            "zerolinecolor": "white"
           },
           "yaxis": {
            "backgroundcolor": "#E5ECF6",
            "gridcolor": "white",
            "gridwidth": 2,
            "linecolor": "white",
            "showbackground": true,
            "ticks": "",
            "zerolinecolor": "white"
           },
           "zaxis": {
            "backgroundcolor": "#E5ECF6",
            "gridcolor": "white",
            "gridwidth": 2,
            "linecolor": "white",
            "showbackground": true,
            "ticks": "",
            "zerolinecolor": "white"
           }
          },
          "shapedefaults": {
           "line": {
            "color": "#2a3f5f"
           }
          },
          "ternary": {
           "aaxis": {
            "gridcolor": "white",
            "linecolor": "white",
            "ticks": ""
           },
           "baxis": {
            "gridcolor": "white",
            "linecolor": "white",
            "ticks": ""
           },
           "bgcolor": "#E5ECF6",
           "caxis": {
            "gridcolor": "white",
            "linecolor": "white",
            "ticks": ""
           }
          },
          "title": {
           "x": 0.05
          },
          "xaxis": {
           "automargin": true,
           "gridcolor": "white",
           "linecolor": "white",
           "ticks": "",
           "title": {
            "standoff": 15
           },
           "zerolinecolor": "white",
           "zerolinewidth": 2
          },
          "yaxis": {
           "automargin": true,
           "gridcolor": "white",
           "linecolor": "white",
           "ticks": "",
           "title": {
            "standoff": 15
           },
           "zerolinecolor": "white",
           "zerolinewidth": 2
          }
         }
        },
        "title": {
         "text": "Free vs Paid Apps by Category"
        },
        "xaxis": {
         "anchor": "y",
         "categoryorder": "total descending",
         "domain": [
          0,
          1
         ],
         "title": {
          "text": "Category"
         }
        },
        "yaxis": {
         "anchor": "x",
         "domain": [
          0,
          1
         ],
         "title": {
          "text": "Number of Apps"
         },
         "type": "log"
        }
       }
      },
      "text/html": [
       "<div>                            <div id=\"f3f3b216-ad60-4ea4-b03f-45cb81020e83\" class=\"plotly-graph-div\" style=\"height:525px; width:100%;\"></div>            <script type=\"text/javascript\">                require([\"plotly\"], function(Plotly) {                    window.PLOTLYENV=window.PLOTLYENV || {};                                    if (document.getElementById(\"f3f3b216-ad60-4ea4-b03f-45cb81020e83\")) {                    Plotly.newPlot(                        \"f3f3b216-ad60-4ea4-b03f-45cb81020e83\",                        [{\"alignmentgroup\":\"True\",\"hovertemplate\":\"Type=Free<br>Category=%{x}<br>App=%{y}<extra></extra>\",\"legendgroup\":\"Free\",\"marker\":{\"color\":\"#636efa\",\"pattern\":{\"shape\":\"\"}},\"name\":\"Free\",\"offsetgroup\":\"Free\",\"orientation\":\"v\",\"showlegend\":true,\"textposition\":\"auto\",\"type\":\"bar\",\"x\":[\"ART_AND_DESIGN\",\"AUTO_AND_VEHICLES\",\"BEAUTY\",\"BOOKS_AND_REFERENCE\",\"BUSINESS\",\"COMICS\",\"COMMUNICATION\",\"DATING\",\"EDUCATION\",\"ENTERTAINMENT\",\"EVENTS\",\"FAMILY\",\"FINANCE\",\"FOOD_AND_DRINK\",\"GAME\",\"HEALTH_AND_FITNESS\",\"HOUSE_AND_HOME\",\"LIBRARIES_AND_DEMO\",\"LIFESTYLE\",\"MAPS_AND_NAVIGATION\",\"MEDICAL\",\"NEWS_AND_MAGAZINES\",\"PARENTING\",\"PERSONALIZATION\",\"PHOTOGRAPHY\",\"PRODUCTIVITY\",\"SHOPPING\",\"SOCIAL\",\"SPORTS\",\"TOOLS\",\"TRAVEL_AND_LOCAL\",\"VIDEO_PLAYERS\",\"WEATHER\"],\"xaxis\":\"x\",\"y\":[58,72,42,161,253,54,235,131,114,100,45,1456,289,92,834,232,62,64,284,113,229,202,48,233,248,283,178,201,238,656,179,144,65],\"yaxis\":\"y\"},{\"alignmentgroup\":\"True\",\"hovertemplate\":\"Type=Paid<br>Category=%{x}<br>App=%{y}<extra></extra>\",\"legendgroup\":\"Paid\",\"marker\":{\"color\":\"#EF553B\",\"pattern\":{\"shape\":\"\"}},\"name\":\"Paid\",\"offsetgroup\":\"Paid\",\"orientation\":\"v\",\"showlegend\":true,\"textposition\":\"auto\",\"type\":\"bar\",\"x\":[\"ART_AND_DESIGN\",\"AUTO_AND_VEHICLES\",\"BOOKS_AND_REFERENCE\",\"BUSINESS\",\"COMMUNICATION\",\"DATING\",\"EDUCATION\",\"ENTERTAINMENT\",\"FAMILY\",\"FINANCE\",\"FOOD_AND_DRINK\",\"GAME\",\"HEALTH_AND_FITNESS\",\"LIFESTYLE\",\"MAPS_AND_NAVIGATION\",\"MEDICAL\",\"NEWS_AND_MAGAZINES\",\"PARENTING\",\"PERSONALIZATION\",\"PHOTOGRAPHY\",\"PRODUCTIVITY\",\"SHOPPING\",\"SOCIAL\",\"SPORTS\",\"TOOLS\",\"TRAVEL_AND_LOCAL\",\"VIDEO_PLAYERS\",\"WEATHER\"],\"xaxis\":\"x\",\"y\":[3,1,8,9,22,3,4,2,150,7,2,76,11,13,5,63,2,2,65,15,18,2,2,22,63,8,4,7],\"yaxis\":\"y\"}],                        {\"barmode\":\"group\",\"legend\":{\"title\":{\"text\":\"Type\"},\"tracegroupgap\":0},\"template\":{\"data\":{\"bar\":[{\"error_x\":{\"color\":\"#2a3f5f\"},\"error_y\":{\"color\":\"#2a3f5f\"},\"marker\":{\"line\":{\"color\":\"#E5ECF6\",\"width\":0.5},\"pattern\":{\"fillmode\":\"overlay\",\"size\":10,\"solidity\":0.2}},\"type\":\"bar\"}],\"barpolar\":[{\"marker\":{\"line\":{\"color\":\"#E5ECF6\",\"width\":0.5},\"pattern\":{\"fillmode\":\"overlay\",\"size\":10,\"solidity\":0.2}},\"type\":\"barpolar\"}],\"carpet\":[{\"aaxis\":{\"endlinecolor\":\"#2a3f5f\",\"gridcolor\":\"white\",\"linecolor\":\"white\",\"minorgridcolor\":\"white\",\"startlinecolor\":\"#2a3f5f\"},\"baxis\":{\"endlinecolor\":\"#2a3f5f\",\"gridcolor\":\"white\",\"linecolor\":\"white\",\"minorgridcolor\":\"white\",\"startlinecolor\":\"#2a3f5f\"},\"type\":\"carpet\"}],\"choropleth\":[{\"colorbar\":{\"outlinewidth\":0,\"ticks\":\"\"},\"type\":\"choropleth\"}],\"contour\":[{\"colorbar\":{\"outlinewidth\":0,\"ticks\":\"\"},\"colorscale\":[[0.0,\"#0d0887\"],[0.1111111111111111,\"#46039f\"],[0.2222222222222222,\"#7201a8\"],[0.3333333333333333,\"#9c179e\"],[0.4444444444444444,\"#bd3786\"],[0.5555555555555556,\"#d8576b\"],[0.6666666666666666,\"#ed7953\"],[0.7777777777777778,\"#fb9f3a\"],[0.8888888888888888,\"#fdca26\"],[1.0,\"#f0f921\"]],\"type\":\"contour\"}],\"contourcarpet\":[{\"colorbar\":{\"outlinewidth\":0,\"ticks\":\"\"},\"type\":\"contourcarpet\"}],\"heatmap\":[{\"colorbar\":{\"outlinewidth\":0,\"ticks\":\"\"},\"colorscale\":[[0.0,\"#0d0887\"],[0.1111111111111111,\"#46039f\"],[0.2222222222222222,\"#7201a8\"],[0.3333333333333333,\"#9c179e\"],[0.4444444444444444,\"#bd3786\"],[0.5555555555555556,\"#d8576b\"],[0.6666666666666666,\"#ed7953\"],[0.7777777777777778,\"#fb9f3a\"],[0.8888888888888888,\"#fdca26\"],[1.0,\"#f0f921\"]],\"type\":\"heatmap\"}],\"heatmapgl\":[{\"colorbar\":{\"outlinewidth\":0,\"ticks\":\"\"},\"colorscale\":[[0.0,\"#0d0887\"],[0.1111111111111111,\"#46039f\"],[0.2222222222222222,\"#7201a8\"],[0.3333333333333333,\"#9c179e\"],[0.4444444444444444,\"#bd3786\"],[0.5555555555555556,\"#d8576b\"],[0.6666666666666666,\"#ed7953\"],[0.7777777777777778,\"#fb9f3a\"],[0.8888888888888888,\"#fdca26\"],[1.0,\"#f0f921\"]],\"type\":\"heatmapgl\"}],\"histogram\":[{\"marker\":{\"pattern\":{\"fillmode\":\"overlay\",\"size\":10,\"solidity\":0.2}},\"type\":\"histogram\"}],\"histogram2d\":[{\"colorbar\":{\"outlinewidth\":0,\"ticks\":\"\"},\"colorscale\":[[0.0,\"#0d0887\"],[0.1111111111111111,\"#46039f\"],[0.2222222222222222,\"#7201a8\"],[0.3333333333333333,\"#9c179e\"],[0.4444444444444444,\"#bd3786\"],[0.5555555555555556,\"#d8576b\"],[0.6666666666666666,\"#ed7953\"],[0.7777777777777778,\"#fb9f3a\"],[0.8888888888888888,\"#fdca26\"],[1.0,\"#f0f921\"]],\"type\":\"histogram2d\"}],\"histogram2dcontour\":[{\"colorbar\":{\"outlinewidth\":0,\"ticks\":\"\"},\"colorscale\":[[0.0,\"#0d0887\"],[0.1111111111111111,\"#46039f\"],[0.2222222222222222,\"#7201a8\"],[0.3333333333333333,\"#9c179e\"],[0.4444444444444444,\"#bd3786\"],[0.5555555555555556,\"#d8576b\"],[0.6666666666666666,\"#ed7953\"],[0.7777777777777778,\"#fb9f3a\"],[0.8888888888888888,\"#fdca26\"],[1.0,\"#f0f921\"]],\"type\":\"histogram2dcontour\"}],\"mesh3d\":[{\"colorbar\":{\"outlinewidth\":0,\"ticks\":\"\"},\"type\":\"mesh3d\"}],\"parcoords\":[{\"line\":{\"colorbar\":{\"outlinewidth\":0,\"ticks\":\"\"}},\"type\":\"parcoords\"}],\"pie\":[{\"automargin\":true,\"type\":\"pie\"}],\"scatter\":[{\"marker\":{\"colorbar\":{\"outlinewidth\":0,\"ticks\":\"\"}},\"type\":\"scatter\"}],\"scatter3d\":[{\"line\":{\"colorbar\":{\"outlinewidth\":0,\"ticks\":\"\"}},\"marker\":{\"colorbar\":{\"outlinewidth\":0,\"ticks\":\"\"}},\"type\":\"scatter3d\"}],\"scattercarpet\":[{\"marker\":{\"colorbar\":{\"outlinewidth\":0,\"ticks\":\"\"}},\"type\":\"scattercarpet\"}],\"scattergeo\":[{\"marker\":{\"colorbar\":{\"outlinewidth\":0,\"ticks\":\"\"}},\"type\":\"scattergeo\"}],\"scattergl\":[{\"marker\":{\"colorbar\":{\"outlinewidth\":0,\"ticks\":\"\"}},\"type\":\"scattergl\"}],\"scattermapbox\":[{\"marker\":{\"colorbar\":{\"outlinewidth\":0,\"ticks\":\"\"}},\"type\":\"scattermapbox\"}],\"scatterpolar\":[{\"marker\":{\"colorbar\":{\"outlinewidth\":0,\"ticks\":\"\"}},\"type\":\"scatterpolar\"}],\"scatterpolargl\":[{\"marker\":{\"colorbar\":{\"outlinewidth\":0,\"ticks\":\"\"}},\"type\":\"scatterpolargl\"}],\"scatterternary\":[{\"marker\":{\"colorbar\":{\"outlinewidth\":0,\"ticks\":\"\"}},\"type\":\"scatterternary\"}],\"surface\":[{\"colorbar\":{\"outlinewidth\":0,\"ticks\":\"\"},\"colorscale\":[[0.0,\"#0d0887\"],[0.1111111111111111,\"#46039f\"],[0.2222222222222222,\"#7201a8\"],[0.3333333333333333,\"#9c179e\"],[0.4444444444444444,\"#bd3786\"],[0.5555555555555556,\"#d8576b\"],[0.6666666666666666,\"#ed7953\"],[0.7777777777777778,\"#fb9f3a\"],[0.8888888888888888,\"#fdca26\"],[1.0,\"#f0f921\"]],\"type\":\"surface\"}],\"table\":[{\"cells\":{\"fill\":{\"color\":\"#EBF0F8\"},\"line\":{\"color\":\"white\"}},\"header\":{\"fill\":{\"color\":\"#C8D4E3\"},\"line\":{\"color\":\"white\"}},\"type\":\"table\"}]},\"layout\":{\"annotationdefaults\":{\"arrowcolor\":\"#2a3f5f\",\"arrowhead\":0,\"arrowwidth\":1},\"autotypenumbers\":\"strict\",\"coloraxis\":{\"colorbar\":{\"outlinewidth\":0,\"ticks\":\"\"}},\"colorscale\":{\"diverging\":[[0,\"#8e0152\"],[0.1,\"#c51b7d\"],[0.2,\"#de77ae\"],[0.3,\"#f1b6da\"],[0.4,\"#fde0ef\"],[0.5,\"#f7f7f7\"],[0.6,\"#e6f5d0\"],[0.7,\"#b8e186\"],[0.8,\"#7fbc41\"],[0.9,\"#4d9221\"],[1,\"#276419\"]],\"sequential\":[[0.0,\"#0d0887\"],[0.1111111111111111,\"#46039f\"],[0.2222222222222222,\"#7201a8\"],[0.3333333333333333,\"#9c179e\"],[0.4444444444444444,\"#bd3786\"],[0.5555555555555556,\"#d8576b\"],[0.6666666666666666,\"#ed7953\"],[0.7777777777777778,\"#fb9f3a\"],[0.8888888888888888,\"#fdca26\"],[1.0,\"#f0f921\"]],\"sequentialminus\":[[0.0,\"#0d0887\"],[0.1111111111111111,\"#46039f\"],[0.2222222222222222,\"#7201a8\"],[0.3333333333333333,\"#9c179e\"],[0.4444444444444444,\"#bd3786\"],[0.5555555555555556,\"#d8576b\"],[0.6666666666666666,\"#ed7953\"],[0.7777777777777778,\"#fb9f3a\"],[0.8888888888888888,\"#fdca26\"],[1.0,\"#f0f921\"]]},\"colorway\":[\"#636efa\",\"#EF553B\",\"#00cc96\",\"#ab63fa\",\"#FFA15A\",\"#19d3f3\",\"#FF6692\",\"#B6E880\",\"#FF97FF\",\"#FECB52\"],\"font\":{\"color\":\"#2a3f5f\"},\"geo\":{\"bgcolor\":\"white\",\"lakecolor\":\"white\",\"landcolor\":\"#E5ECF6\",\"showlakes\":true,\"showland\":true,\"subunitcolor\":\"white\"},\"hoverlabel\":{\"align\":\"left\"},\"hovermode\":\"closest\",\"mapbox\":{\"style\":\"light\"},\"paper_bgcolor\":\"white\",\"plot_bgcolor\":\"#E5ECF6\",\"polar\":{\"angularaxis\":{\"gridcolor\":\"white\",\"linecolor\":\"white\",\"ticks\":\"\"},\"bgcolor\":\"#E5ECF6\",\"radialaxis\":{\"gridcolor\":\"white\",\"linecolor\":\"white\",\"ticks\":\"\"}},\"scene\":{\"xaxis\":{\"backgroundcolor\":\"#E5ECF6\",\"gridcolor\":\"white\",\"gridwidth\":2,\"linecolor\":\"white\",\"showbackground\":true,\"ticks\":\"\",\"zerolinecolor\":\"white\"},\"yaxis\":{\"backgroundcolor\":\"#E5ECF6\",\"gridcolor\":\"white\",\"gridwidth\":2,\"linecolor\":\"white\",\"showbackground\":true,\"ticks\":\"\",\"zerolinecolor\":\"white\"},\"zaxis\":{\"backgroundcolor\":\"#E5ECF6\",\"gridcolor\":\"white\",\"gridwidth\":2,\"linecolor\":\"white\",\"showbackground\":true,\"ticks\":\"\",\"zerolinecolor\":\"white\"}},\"shapedefaults\":{\"line\":{\"color\":\"#2a3f5f\"}},\"ternary\":{\"aaxis\":{\"gridcolor\":\"white\",\"linecolor\":\"white\",\"ticks\":\"\"},\"baxis\":{\"gridcolor\":\"white\",\"linecolor\":\"white\",\"ticks\":\"\"},\"bgcolor\":\"#E5ECF6\",\"caxis\":{\"gridcolor\":\"white\",\"linecolor\":\"white\",\"ticks\":\"\"}},\"title\":{\"x\":0.05},\"xaxis\":{\"automargin\":true,\"gridcolor\":\"white\",\"linecolor\":\"white\",\"ticks\":\"\",\"title\":{\"standoff\":15},\"zerolinecolor\":\"white\",\"zerolinewidth\":2},\"yaxis\":{\"automargin\":true,\"gridcolor\":\"white\",\"linecolor\":\"white\",\"ticks\":\"\",\"title\":{\"standoff\":15},\"zerolinecolor\":\"white\",\"zerolinewidth\":2}}},\"title\":{\"text\":\"Free vs Paid Apps by Category\"},\"xaxis\":{\"anchor\":\"y\",\"categoryorder\":\"total descending\",\"domain\":[0.0,1.0],\"title\":{\"text\":\"Category\"}},\"yaxis\":{\"anchor\":\"x\",\"domain\":[0.0,1.0],\"title\":{\"text\":\"Number of Apps\"},\"type\":\"log\"}},                        {\"responsive\": true}                    ).then(function(){\n",
       "                            \n",
       "var gd = document.getElementById('f3f3b216-ad60-4ea4-b03f-45cb81020e83');\n",
       "var x = new MutationObserver(function (mutations, observer) {{\n",
       "        var display = window.getComputedStyle(gd).display;\n",
       "        if (!display || display === 'none') {{\n",
       "            console.log([gd, 'removed!']);\n",
       "            Plotly.purge(gd);\n",
       "            observer.disconnect();\n",
       "        }}\n",
       "}});\n",
       "\n",
       "// Listen for the removal of the full notebook cells\n",
       "var notebookContainer = gd.closest('#notebook-container');\n",
       "if (notebookContainer) {{\n",
       "    x.observe(notebookContainer, {childList: true});\n",
       "}}\n",
       "\n",
       "// Listen for the clearing of the current output cell\n",
       "var outputEl = gd.closest('.output');\n",
       "if (outputEl) {{\n",
       "    x.observe(outputEl, {childList: true});\n",
       "}}\n",
       "\n",
       "                        })                };                });            </script>        </div>"
      ]
     },
     "metadata": {},
     "output_type": "display_data"
    }
   ],
   "source": [
    "g_bar = px.bar(df_free_vs_paid,\n",
    "               x='Category',\n",
    "               y='App',\n",
    "               title='Free vs Paid Apps by Category',\n",
    "               color='Type',\n",
    "               barmode='group')\n",
    " \n",
    "g_bar.update_layout(xaxis_title='Category',\n",
    "                    yaxis_title='Number of Apps',\n",
    "                    xaxis={'categoryorder':'total descending'},\n",
    "                    yaxis=dict(type='log'))\n",
    " \n",
    "g_bar.show()"
   ]
  },
  {
   "cell_type": "code",
   "execution_count": null,
   "metadata": {},
   "outputs": [],
   "source": []
  },
  {
   "cell_type": "markdown",
   "metadata": {
    "id": "nbYh2tU-VZ-i"
   },
   "source": [
    "# Plotly Box Plots: Lost Downloads for Paid Apps\n",
    "\n",
    "**Challenge**: Create a box plot that shows the number of Installs for free versus paid apps. How does the median number of installations compare? Is the difference large or small?\n",
    "\n",
    "Use the [Box Plots Guide](https://plotly.com/python/box-plots/) and the [.box API reference](https://plotly.com/python-api-reference/generated/plotly.express.box.html) to create the following chart. \n",
    "\n",
    "<img src=https://imgur.com/uVsECT3.png>\n"
   ]
  },
  {
   "cell_type": "code",
   "execution_count": 137,
   "metadata": {
    "id": "Jip3hMZ7oqLS"
   },
   "outputs": [
    {
     "data": {
      "application/vnd.plotly.v1+json": {
       "config": {
        "plotlyServerURL": "https://plot.ly"
       },
       "data": [
        {
         "alignmentgroup": "True",
         "boxpoints": "all",
         "hovertemplate": "Type=%{x}<br>Installs=%{y}<extra></extra>",
         "legendgroup": "Free",
         "marker": {
          "color": "#636efa"
         },
         "name": "Free",
         "notched": true,
         "offsetgroup": "Free",
         "orientation": "v",
         "showlegend": true,
         "type": "box",
         "x": [
          "Free",
          "Free",
          "Free",
          "Free",
          "Free",
          "Free",
          "Free",
          "Free",
          "Free",
          "Free",
          "Free",
          "Free",
          "Free",
          "Free",
          "Free",
          "Free",
          "Free",
          "Free",
          "Free",
          "Free",
          "Free",
          "Free",
          "Free",
          "Free",
          "Free",
          "Free",
          "Free",
          "Free",
          "Free",
          "Free",
          "Free",
          "Free",
          "Free",
          "Free",
          "Free",
          "Free",
          "Free",
          "Free",
          "Free",
          "Free",
          "Free",
          "Free",
          "Free",
          "Free",
          "Free",
          "Free",
          "Free",
          "Free",
          "Free",
          "Free",
          "Free",
          "Free",
          "Free",
          "Free",
          "Free",
          "Free",
          "Free",
          "Free",
          "Free",
          "Free",
          "Free",
          "Free",
          "Free",
          "Free",
          "Free",
          "Free",
          "Free",
          "Free",
          "Free",
          "Free",
          "Free",
          "Free",
          "Free",
          "Free",
          "Free",
          "Free",
          "Free",
          "Free",
          "Free",
          "Free",
          "Free",
          "Free",
          "Free",
          "Free",
          "Free",
          "Free",
          "Free",
          "Free",
          "Free",
          "Free",
          "Free",
          "Free",
          "Free",
          "Free",
          "Free",
          "Free",
          "Free",
          "Free",
          "Free",
          "Free",
          "Free",
          "Free",
          "Free",
          "Free",
          "Free",
          "Free",
          "Free",
          "Free",
          "Free",
          "Free",
          "Free",
          "Free",
          "Free",
          "Free",
          "Free",
          "Free",
          "Free",
          "Free",
          "Free",
          "Free",
          "Free",
          "Free",
          "Free",
          "Free",
          "Free",
          "Free",
          "Free",
          "Free",
          "Free",
          "Free",
          "Free",
          "Free",
          "Free",
          "Free",
          "Free",
          "Free",
          "Free",
          "Free",
          "Free",
          "Free",
          "Free",
          "Free",
          "Free",
          "Free",
          "Free",
          "Free",
          "Free",
          "Free",
          "Free",
          "Free",
          "Free",
          "Free",
          "Free",
          "Free",
          "Free",
          "Free",
          "Free",
          "Free",
          "Free",
          "Free",
          "Free",
          "Free",
          "Free",
          "Free",
          "Free",
          "Free",
          "Free",
          "Free",
          "Free",
          "Free",
          "Free",
          "Free",
          "Free",
          "Free",
          "Free",
          "Free",
          "Free",
          "Free",
          "Free",
          "Free",
          "Free",
          "Free",
          "Free",
          "Free",
          "Free",
          "Free",
          "Free",
          "Free",
          "Free",
          "Free",
          "Free",
          "Free",
          "Free",
          "Free",
          "Free",
          "Free",
          "Free",
          "Free",
          "Free",
          "Free",
          "Free",
          "Free",
          "Free",
          "Free",
          "Free",
          "Free",
          "Free",
          "Free",
          "Free",
          "Free",
          "Free",
          "Free",
          "Free",
          "Free",
          "Free",
          "Free",
          "Free",
          "Free",
          "Free",
          "Free",
          "Free",
          "Free",
          "Free",
          "Free",
          "Free",
          "Free",
          "Free",
          "Free",
          "Free",
          "Free",
          "Free",
          "Free",
          "Free",
          "Free",
          "Free",
          "Free",
          "Free",
          "Free",
          "Free",
          "Free",
          "Free",
          "Free",
          "Free",
          "Free",
          "Free",
          "Free",
          "Free",
          "Free",
          "Free",
          "Free",
          "Free",
          "Free",
          "Free",
          "Free",
          "Free",
          "Free",
          "Free",
          "Free",
          "Free",
          "Free",
          "Free",
          "Free",
          "Free",
          "Free",
          "Free",
          "Free",
          "Free",
          "Free",
          "Free",
          "Free",
          "Free",
          "Free",
          "Free",
          "Free",
          "Free",
          "Free",
          "Free",
          "Free",
          "Free",
          "Free",
          "Free",
          "Free",
          "Free",
          "Free",
          "Free",
          "Free",
          "Free",
          "Free",
          "Free",
          "Free",
          "Free",
          "Free",
          "Free",
          "Free",
          "Free",
          "Free",
          "Free",
          "Free",
          "Free",
          "Free",
          "Free",
          "Free",
          "Free",
          "Free",
          "Free",
          "Free",
          "Free",
          "Free",
          "Free",
          "Free",
          "Free",
          "Free",
          "Free",
          "Free",
          "Free",
          "Free",
          "Free",
          "Free",
          "Free",
          "Free",
          "Free",
          "Free",
          "Free",
          "Free",
          "Free",
          "Free",
          "Free",
          "Free",
          "Free",
          "Free",
          "Free",
          "Free",
          "Free",
          "Free",
          "Free",
          "Free",
          "Free",
          "Free",
          "Free",
          "Free",
          "Free",
          "Free",
          "Free",
          "Free",
          "Free",
          "Free",
          "Free",
          "Free",
          "Free",
          "Free",
          "Free",
          "Free",
          "Free",
          "Free",
          "Free",
          "Free",
          "Free",
          "Free",
          "Free",
          "Free",
          "Free",
          "Free",
          "Free",
          "Free",
          "Free",
          "Free",
          "Free",
          "Free",
          "Free",
          "Free",
          "Free",
          "Free",
          "Free",
          "Free",
          "Free",
          "Free",
          "Free",
          "Free",
          "Free",
          "Free",
          "Free",
          "Free",
          "Free",
          "Free",
          "Free",
          "Free",
          "Free",
          "Free",
          "Free",
          "Free",
          "Free",
          "Free",
          "Free",
          "Free",
          "Free",
          "Free",
          "Free",
          "Free",
          "Free",
          "Free",
          "Free",
          "Free",
          "Free",
          "Free",
          "Free",
          "Free",
          "Free",
          "Free",
          "Free",
          "Free",
          "Free",
          "Free",
          "Free",
          "Free",
          "Free",
          "Free",
          "Free",
          "Free",
          "Free",
          "Free",
          "Free",
          "Free",
          "Free",
          "Free",
          "Free",
          "Free",
          "Free",
          "Free",
          "Free",
          "Free",
          "Free",
          "Free",
          "Free",
          "Free",
          "Free",
          "Free",
          "Free",
          "Free",
          "Free",
          "Free",
          "Free",
          "Free",
          "Free",
          "Free",
          "Free",
          "Free",
          "Free",
          "Free",
          "Free",
          "Free",
          "Free",
          "Free",
          "Free",
          "Free",
          "Free",
          "Free",
          "Free",
          "Free",
          "Free",
          "Free",
          "Free",
          "Free",
          "Free",
          "Free",
          "Free",
          "Free",
          "Free",
          "Free",
          "Free",
          "Free",
          "Free",
          "Free",
          "Free",
          "Free",
          "Free",
          "Free",
          "Free",
          "Free",
          "Free",
          "Free",
          "Free",
          "Free",
          "Free",
          "Free",
          "Free",
          "Free",
          "Free",
          "Free",
          "Free",
          "Free",
          "Free",
          "Free",
          "Free",
          "Free",
          "Free",
          "Free",
          "Free",
          "Free",
          "Free",
          "Free",
          "Free",
          "Free",
          "Free",
          "Free",
          "Free",
          "Free",
          "Free",
          "Free",
          "Free",
          "Free",
          "Free",
          "Free",
          "Free",
          "Free",
          "Free",
          "Free",
          "Free",
          "Free",
          "Free",
          "Free",
          "Free",
          "Free",
          "Free",
          "Free",
          "Free",
          "Free",
          "Free",
          "Free",
          "Free",
          "Free",
          "Free",
          "Free",
          "Free",
          "Free",
          "Free",
          "Free",
          "Free",
          "Free",
          "Free",
          "Free",
          "Free",
          "Free",
          "Free",
          "Free",
          "Free",
          "Free",
          "Free",
          "Free",
          "Free",
          "Free",
          "Free",
          "Free",
          "Free",
          "Free",
          "Free",
          "Free",
          "Free",
          "Free",
          "Free",
          "Free",
          "Free",
          "Free",
          "Free",
          "Free",
          "Free",
          "Free",
          "Free",
          "Free",
          "Free",
          "Free",
          "Free",
          "Free",
          "Free",
          "Free",
          "Free",
          "Free",
          "Free",
          "Free",
          "Free",
          "Free",
          "Free",
          "Free",
          "Free",
          "Free",
          "Free",
          "Free",
          "Free",
          "Free",
          "Free",
          "Free",
          "Free",
          "Free",
          "Free",
          "Free",
          "Free",
          "Free",
          "Free",
          "Free",
          "Free",
          "Free",
          "Free",
          "Free",
          "Free",
          "Free",
          "Free",
          "Free",
          "Free",
          "Free",
          "Free",
          "Free",
          "Free",
          "Free",
          "Free",
          "Free",
          "Free",
          "Free",
          "Free",
          "Free",
          "Free",
          "Free",
          "Free",
          "Free",
          "Free",
          "Free",
          "Free",
          "Free",
          "Free",
          "Free",
          "Free",
          "Free",
          "Free",
          "Free",
          "Free",
          "Free",
          "Free",
          "Free",
          "Free",
          "Free",
          "Free",
          "Free",
          "Free",
          "Free",
          "Free",
          "Free",
          "Free",
          "Free",
          "Free",
          "Free",
          "Free",
          "Free",
          "Free",
          "Free",
          "Free",
          "Free",
          "Free",
          "Free",
          "Free",
          "Free",
          "Free",
          "Free",
          "Free",
          "Free",
          "Free",
          "Free",
          "Free",
          "Free",
          "Free",
          "Free",
          "Free",
          "Free",
          "Free",
          "Free",
          "Free",
          "Free",
          "Free",
          "Free",
          "Free",
          "Free",
          "Free",
          "Free",
          "Free",
          "Free",
          "Free",
          "Free",
          "Free",
          "Free",
          "Free",
          "Free",
          "Free",
          "Free",
          "Free",
          "Free",
          "Free",
          "Free",
          "Free",
          "Free",
          "Free",
          "Free",
          "Free",
          "Free",
          "Free",
          "Free",
          "Free",
          "Free",
          "Free",
          "Free",
          "Free",
          "Free",
          "Free",
          "Free",
          "Free",
          "Free",
          "Free",
          "Free",
          "Free",
          "Free",
          "Free",
          "Free",
          "Free",
          "Free",
          "Free",
          "Free",
          "Free",
          "Free",
          "Free",
          "Free",
          "Free",
          "Free",
          "Free",
          "Free",
          "Free",
          "Free",
          "Free",
          "Free",
          "Free",
          "Free",
          "Free",
          "Free",
          "Free",
          "Free",
          "Free",
          "Free",
          "Free",
          "Free",
          "Free",
          "Free",
          "Free",
          "Free",
          "Free",
          "Free",
          "Free",
          "Free",
          "Free",
          "Free",
          "Free",
          "Free",
          "Free",
          "Free",
          "Free",
          "Free",
          "Free",
          "Free",
          "Free",
          "Free",
          "Free",
          "Free",
          "Free",
          "Free",
          "Free",
          "Free",
          "Free",
          "Free",
          "Free",
          "Free",
          "Free",
          "Free",
          "Free",
          "Free",
          "Free",
          "Free",
          "Free",
          "Free",
          "Free",
          "Free",
          "Free",
          "Free",
          "Free",
          "Free",
          "Free",
          "Free",
          "Free",
          "Free",
          "Free",
          "Free",
          "Free",
          "Free",
          "Free",
          "Free",
          "Free",
          "Free",
          "Free",
          "Free",
          "Free",
          "Free",
          "Free",
          "Free",
          "Free",
          "Free",
          "Free",
          "Free",
          "Free",
          "Free",
          "Free",
          "Free",
          "Free",
          "Free",
          "Free",
          "Free",
          "Free",
          "Free",
          "Free",
          "Free",
          "Free",
          "Free",
          "Free",
          "Free",
          "Free",
          "Free",
          "Free",
          "Free",
          "Free",
          "Free",
          "Free",
          "Free",
          "Free",
          "Free",
          "Free",
          "Free",
          "Free",
          "Free",
          "Free",
          "Free",
          "Free",
          "Free",
          "Free",
          "Free",
          "Free",
          "Free",
          "Free",
          "Free",
          "Free",
          "Free",
          "Free",
          "Free",
          "Free",
          "Free",
          "Free",
          "Free",
          "Free",
          "Free",
          "Free",
          "Free",
          "Free",
          "Free",
          "Free",
          "Free",
          "Free",
          "Free",
          "Free",
          "Free",
          "Free",
          "Free",
          "Free",
          "Free",
          "Free",
          "Free",
          "Free",
          "Free",
          "Free",
          "Free",
          "Free",
          "Free",
          "Free",
          "Free",
          "Free",
          "Free",
          "Free",
          "Free",
          "Free",
          "Free",
          "Free",
          "Free",
          "Free",
          "Free",
          "Free",
          "Free",
          "Free",
          "Free",
          "Free",
          "Free",
          "Free",
          "Free",
          "Free",
          "Free",
          "Free",
          "Free",
          "Free",
          "Free",
          "Free",
          "Free",
          "Free",
          "Free",
          "Free",
          "Free",
          "Free",
          "Free",
          "Free",
          "Free",
          "Free",
          "Free",
          "Free",
          "Free",
          "Free",
          "Free",
          "Free",
          "Free",
          "Free",
          "Free",
          "Free",
          "Free",
          "Free",
          "Free",
          "Free",
          "Free",
          "Free",
          "Free",
          "Free",
          "Free",
          "Free",
          "Free",
          "Free",
          "Free",
          "Free",
          "Free",
          "Free",
          "Free",
          "Free",
          "Free",
          "Free",
          "Free",
          "Free",
          "Free",
          "Free",
          "Free",
          "Free",
          "Free",
          "Free",
          "Free",
          "Free",
          "Free",
          "Free",
          "Free",
          "Free",
          "Free",
          "Free",
          "Free",
          "Free",
          "Free",
          "Free",
          "Free",
          "Free",
          "Free",
          "Free",
          "Free",
          "Free",
          "Free",
          "Free",
          "Free",
          "Free",
          "Free",
          "Free",
          "Free",
          "Free",
          "Free",
          "Free",
          "Free",
          "Free",
          "Free",
          "Free",
          "Free",
          "Free",
          "Free",
          "Free",
          "Free",
          "Free",
          "Free",
          "Free",
          "Free",
          "Free",
          "Free",
          "Free",
          "Free",
          "Free",
          "Free",
          "Free",
          "Free",
          "Free",
          "Free",
          "Free",
          "Free",
          "Free",
          "Free",
          "Free",
          "Free",
          "Free",
          "Free",
          "Free",
          "Free",
          "Free",
          "Free",
          "Free",
          "Free",
          "Free",
          "Free",
          "Free",
          "Free",
          "Free",
          "Free",
          "Free",
          "Free",
          "Free",
          "Free",
          "Free",
          "Free",
          "Free",
          "Free",
          "Free",
          "Free",
          "Free",
          "Free",
          "Free",
          "Free",
          "Free",
          "Free",
          "Free",
          "Free",
          "Free",
          "Free",
          "Free",
          "Free",
          "Free",
          "Free",
          "Free",
          "Free",
          "Free",
          "Free",
          "Free",
          "Free",
          "Free",
          "Free",
          "Free",
          "Free",
          "Free",
          "Free",
          "Free",
          "Free",
          "Free",
          "Free",
          "Free",
          "Free",
          "Free",
          "Free",
          "Free",
          "Free",
          "Free",
          "Free",
          "Free",
          "Free",
          "Free",
          "Free",
          "Free",
          "Free",
          "Free",
          "Free",
          "Free",
          "Free",
          "Free",
          "Free",
          "Free",
          "Free",
          "Free",
          "Free",
          "Free",
          "Free",
          "Free",
          "Free",
          "Free",
          "Free",
          "Free",
          "Free",
          "Free",
          "Free",
          "Free",
          "Free",
          "Free",
          "Free",
          "Free",
          "Free",
          "Free",
          "Free",
          "Free",
          "Free",
          "Free",
          "Free",
          "Free",
          "Free",
          "Free",
          "Free",
          "Free",
          "Free",
          "Free",
          "Free",
          "Free",
          "Free",
          "Free",
          "Free",
          "Free",
          "Free",
          "Free",
          "Free",
          "Free",
          "Free",
          "Free",
          "Free",
          "Free",
          "Free",
          "Free",
          "Free",
          "Free",
          "Free",
          "Free",
          "Free",
          "Free",
          "Free",
          "Free",
          "Free",
          "Free",
          "Free",
          "Free",
          "Free",
          "Free",
          "Free",
          "Free",
          "Free",
          "Free",
          "Free",
          "Free",
          "Free",
          "Free",
          "Free",
          "Free",
          "Free",
          "Free",
          "Free",
          "Free",
          "Free",
          "Free",
          "Free",
          "Free",
          "Free",
          "Free",
          "Free",
          "Free",
          "Free",
          "Free",
          "Free",
          "Free",
          "Free",
          "Free",
          "Free",
          "Free",
          "Free",
          "Free",
          "Free",
          "Free",
          "Free",
          "Free",
          "Free",
          "Free",
          "Free",
          "Free",
          "Free",
          "Free",
          "Free",
          "Free",
          "Free",
          "Free",
          "Free",
          "Free",
          "Free",
          "Free",
          "Free",
          "Free",
          "Free",
          "Free",
          "Free",
          "Free",
          "Free",
          "Free",
          "Free",
          "Free",
          "Free",
          "Free",
          "Free",
          "Free",
          "Free",
          "Free",
          "Free",
          "Free",
          "Free",
          "Free",
          "Free",
          "Free",
          "Free",
          "Free",
          "Free",
          "Free",
          "Free",
          "Free",
          "Free",
          "Free",
          "Free",
          "Free",
          "Free",
          "Free",
          "Free",
          "Free",
          "Free",
          "Free",
          "Free",
          "Free",
          "Free",
          "Free",
          "Free",
          "Free",
          "Free",
          "Free",
          "Free",
          "Free",
          "Free",
          "Free",
          "Free",
          "Free",
          "Free",
          "Free",
          "Free",
          "Free",
          "Free",
          "Free",
          "Free",
          "Free",
          "Free",
          "Free",
          "Free",
          "Free",
          "Free",
          "Free",
          "Free",
          "Free",
          "Free",
          "Free",
          "Free",
          "Free",
          "Free",
          "Free",
          "Free",
          "Free",
          "Free",
          "Free",
          "Free",
          "Free",
          "Free",
          "Free",
          "Free",
          "Free",
          "Free",
          "Free",
          "Free",
          "Free",
          "Free",
          "Free",
          "Free",
          "Free",
          "Free",
          "Free",
          "Free",
          "Free",
          "Free",
          "Free",
          "Free",
          "Free",
          "Free",
          "Free",
          "Free",
          "Free",
          "Free",
          "Free",
          "Free",
          "Free",
          "Free",
          "Free",
          "Free",
          "Free",
          "Free",
          "Free",
          "Free",
          "Free",
          "Free",
          "Free",
          "Free",
          "Free",
          "Free",
          "Free",
          "Free",
          "Free",
          "Free",
          "Free",
          "Free",
          "Free",
          "Free",
          "Free",
          "Free",
          "Free",
          "Free",
          "Free",
          "Free",
          "Free",
          "Free",
          "Free",
          "Free",
          "Free",
          "Free",
          "Free",
          "Free",
          "Free",
          "Free",
          "Free",
          "Free",
          "Free",
          "Free",
          "Free",
          "Free",
          "Free",
          "Free",
          "Free",
          "Free",
          "Free",
          "Free",
          "Free",
          "Free",
          "Free",
          "Free",
          "Free",
          "Free",
          "Free",
          "Free",
          "Free",
          "Free",
          "Free",
          "Free",
          "Free",
          "Free",
          "Free",
          "Free",
          "Free",
          "Free",
          "Free",
          "Free",
          "Free",
          "Free",
          "Free",
          "Free",
          "Free",
          "Free",
          "Free",
          "Free",
          "Free",
          "Free",
          "Free",
          "Free",
          "Free",
          "Free",
          "Free",
          "Free",
          "Free",
          "Free",
          "Free",
          "Free",
          "Free",
          "Free",
          "Free",
          "Free",
          "Free",
          "Free",
          "Free",
          "Free",
          "Free",
          "Free",
          "Free",
          "Free",
          "Free",
          "Free",
          "Free",
          "Free",
          "Free",
          "Free",
          "Free",
          "Free",
          "Free",
          "Free",
          "Free",
          "Free",
          "Free",
          "Free",
          "Free",
          "Free",
          "Free",
          "Free",
          "Free",
          "Free",
          "Free",
          "Free",
          "Free",
          "Free",
          "Free",
          "Free",
          "Free",
          "Free",
          "Free",
          "Free",
          "Free",
          "Free",
          "Free",
          "Free",
          "Free",
          "Free",
          "Free",
          "Free",
          "Free",
          "Free",
          "Free",
          "Free",
          "Free",
          "Free",
          "Free",
          "Free",
          "Free",
          "Free",
          "Free",
          "Free",
          "Free",
          "Free",
          "Free",
          "Free",
          "Free",
          "Free",
          "Free",
          "Free",
          "Free",
          "Free",
          "Free",
          "Free",
          "Free",
          "Free",
          "Free",
          "Free",
          "Free",
          "Free",
          "Free",
          "Free",
          "Free",
          "Free",
          "Free",
          "Free",
          "Free",
          "Free",
          "Free",
          "Free",
          "Free",
          "Free",
          "Free",
          "Free",
          "Free",
          "Free",
          "Free",
          "Free",
          "Free",
          "Free",
          "Free",
          "Free",
          "Free",
          "Free",
          "Free",
          "Free",
          "Free",
          "Free",
          "Free",
          "Free",
          "Free",
          "Free",
          "Free",
          "Free",
          "Free",
          "Free",
          "Free",
          "Free",
          "Free",
          "Free",
          "Free",
          "Free",
          "Free",
          "Free",
          "Free",
          "Free",
          "Free",
          "Free",
          "Free",
          "Free",
          "Free",
          "Free",
          "Free",
          "Free",
          "Free",
          "Free",
          "Free",
          "Free",
          "Free",
          "Free",
          "Free",
          "Free",
          "Free",
          "Free",
          "Free",
          "Free",
          "Free",
          "Free",
          "Free",
          "Free",
          "Free",
          "Free",
          "Free",
          "Free",
          "Free",
          "Free",
          "Free",
          "Free",
          "Free",
          "Free",
          "Free",
          "Free",
          "Free",
          "Free",
          "Free",
          "Free",
          "Free",
          "Free",
          "Free",
          "Free",
          "Free",
          "Free",
          "Free",
          "Free",
          "Free",
          "Free",
          "Free",
          "Free",
          "Free",
          "Free",
          "Free",
          "Free",
          "Free",
          "Free",
          "Free",
          "Free",
          "Free",
          "Free",
          "Free",
          "Free",
          "Free",
          "Free",
          "Free",
          "Free",
          "Free",
          "Free",
          "Free",
          "Free",
          "Free",
          "Free",
          "Free",
          "Free",
          "Free",
          "Free",
          "Free",
          "Free",
          "Free",
          "Free",
          "Free",
          "Free",
          "Free",
          "Free",
          "Free",
          "Free",
          "Free",
          "Free",
          "Free",
          "Free",
          "Free",
          "Free",
          "Free",
          "Free",
          "Free",
          "Free",
          "Free",
          "Free",
          "Free",
          "Free",
          "Free",
          "Free",
          "Free",
          "Free",
          "Free",
          "Free",
          "Free",
          "Free",
          "Free",
          "Free",
          "Free",
          "Free",
          "Free",
          "Free",
          "Free",
          "Free",
          "Free",
          "Free",
          "Free",
          "Free",
          "Free",
          "Free",
          "Free",
          "Free",
          "Free",
          "Free",
          "Free",
          "Free",
          "Free",
          "Free",
          "Free",
          "Free",
          "Free",
          "Free",
          "Free",
          "Free",
          "Free",
          "Free",
          "Free",
          "Free",
          "Free",
          "Free",
          "Free",
          "Free",
          "Free",
          "Free",
          "Free",
          "Free",
          "Free",
          "Free",
          "Free",
          "Free",
          "Free",
          "Free",
          "Free",
          "Free",
          "Free",
          "Free",
          "Free",
          "Free",
          "Free",
          "Free",
          "Free",
          "Free",
          "Free",
          "Free",
          "Free",
          "Free",
          "Free",
          "Free",
          "Free",
          "Free",
          "Free",
          "Free",
          "Free",
          "Free",
          "Free",
          "Free",
          "Free",
          "Free",
          "Free",
          "Free",
          "Free",
          "Free",
          "Free",
          "Free",
          "Free",
          "Free",
          "Free",
          "Free",
          "Free",
          "Free",
          "Free",
          "Free",
          "Free",
          "Free",
          "Free",
          "Free",
          "Free",
          "Free",
          "Free",
          "Free",
          "Free",
          "Free",
          "Free",
          "Free",
          "Free",
          "Free",
          "Free",
          "Free",
          "Free",
          "Free",
          "Free",
          "Free",
          "Free",
          "Free",
          "Free",
          "Free",
          "Free",
          "Free",
          "Free",
          "Free",
          "Free",
          "Free",
          "Free",
          "Free",
          "Free",
          "Free",
          "Free",
          "Free",
          "Free",
          "Free",
          "Free",
          "Free",
          "Free",
          "Free",
          "Free",
          "Free",
          "Free",
          "Free",
          "Free",
          "Free",
          "Free",
          "Free",
          "Free",
          "Free",
          "Free",
          "Free",
          "Free",
          "Free",
          "Free",
          "Free",
          "Free",
          "Free",
          "Free",
          "Free",
          "Free",
          "Free",
          "Free",
          "Free",
          "Free",
          "Free",
          "Free",
          "Free",
          "Free",
          "Free",
          "Free",
          "Free",
          "Free",
          "Free",
          "Free",
          "Free",
          "Free",
          "Free",
          "Free",
          "Free",
          "Free",
          "Free",
          "Free",
          "Free",
          "Free",
          "Free",
          "Free",
          "Free",
          "Free",
          "Free",
          "Free",
          "Free",
          "Free",
          "Free",
          "Free",
          "Free",
          "Free",
          "Free",
          "Free",
          "Free",
          "Free",
          "Free",
          "Free",
          "Free",
          "Free",
          "Free",
          "Free",
          "Free",
          "Free",
          "Free",
          "Free",
          "Free",
          "Free",
          "Free",
          "Free",
          "Free",
          "Free",
          "Free",
          "Free",
          "Free",
          "Free",
          "Free",
          "Free",
          "Free",
          "Free",
          "Free",
          "Free",
          "Free",
          "Free",
          "Free",
          "Free",
          "Free",
          "Free",
          "Free",
          "Free",
          "Free",
          "Free",
          "Free",
          "Free",
          "Free",
          "Free",
          "Free",
          "Free",
          "Free",
          "Free",
          "Free",
          "Free",
          "Free",
          "Free",
          "Free",
          "Free",
          "Free",
          "Free",
          "Free",
          "Free",
          "Free",
          "Free",
          "Free",
          "Free",
          "Free",
          "Free",
          "Free",
          "Free",
          "Free",
          "Free",
          "Free",
          "Free",
          "Free",
          "Free",
          "Free",
          "Free",
          "Free",
          "Free",
          "Free",
          "Free",
          "Free",
          "Free",
          "Free",
          "Free",
          "Free",
          "Free",
          "Free",
          "Free",
          "Free",
          "Free",
          "Free",
          "Free",
          "Free",
          "Free",
          "Free",
          "Free",
          "Free",
          "Free",
          "Free",
          "Free",
          "Free",
          "Free",
          "Free",
          "Free",
          "Free",
          "Free",
          "Free",
          "Free",
          "Free",
          "Free",
          "Free",
          "Free",
          "Free",
          "Free",
          "Free",
          "Free",
          "Free",
          "Free",
          "Free",
          "Free",
          "Free",
          "Free",
          "Free",
          "Free",
          "Free",
          "Free",
          "Free",
          "Free",
          "Free",
          "Free",
          "Free",
          "Free",
          "Free",
          "Free",
          "Free",
          "Free",
          "Free",
          "Free",
          "Free",
          "Free",
          "Free",
          "Free",
          "Free",
          "Free",
          "Free",
          "Free",
          "Free",
          "Free",
          "Free",
          "Free",
          "Free",
          "Free",
          "Free",
          "Free",
          "Free",
          "Free",
          "Free",
          "Free",
          "Free",
          "Free",
          "Free",
          "Free",
          "Free",
          "Free",
          "Free",
          "Free",
          "Free",
          "Free",
          "Free",
          "Free",
          "Free",
          "Free",
          "Free",
          "Free",
          "Free",
          "Free",
          "Free",
          "Free",
          "Free",
          "Free",
          "Free",
          "Free",
          "Free",
          "Free",
          "Free",
          "Free",
          "Free",
          "Free",
          "Free",
          "Free",
          "Free",
          "Free",
          "Free",
          "Free",
          "Free",
          "Free",
          "Free",
          "Free",
          "Free",
          "Free",
          "Free",
          "Free",
          "Free",
          "Free",
          "Free",
          "Free",
          "Free",
          "Free",
          "Free",
          "Free",
          "Free",
          "Free",
          "Free",
          "Free",
          "Free",
          "Free",
          "Free",
          "Free",
          "Free",
          "Free",
          "Free",
          "Free",
          "Free",
          "Free",
          "Free",
          "Free",
          "Free",
          "Free",
          "Free",
          "Free",
          "Free",
          "Free",
          "Free",
          "Free",
          "Free",
          "Free",
          "Free",
          "Free",
          "Free",
          "Free",
          "Free",
          "Free",
          "Free",
          "Free",
          "Free",
          "Free",
          "Free",
          "Free",
          "Free",
          "Free",
          "Free",
          "Free",
          "Free",
          "Free",
          "Free",
          "Free",
          "Free",
          "Free",
          "Free",
          "Free",
          "Free",
          "Free",
          "Free",
          "Free",
          "Free",
          "Free",
          "Free",
          "Free",
          "Free",
          "Free",
          "Free",
          "Free",
          "Free",
          "Free",
          "Free",
          "Free",
          "Free",
          "Free",
          "Free",
          "Free",
          "Free",
          "Free",
          "Free",
          "Free",
          "Free",
          "Free",
          "Free",
          "Free",
          "Free",
          "Free",
          "Free",
          "Free",
          "Free",
          "Free",
          "Free",
          "Free",
          "Free",
          "Free",
          "Free",
          "Free",
          "Free",
          "Free",
          "Free",
          "Free",
          "Free",
          "Free",
          "Free",
          "Free",
          "Free",
          "Free",
          "Free",
          "Free",
          "Free",
          "Free",
          "Free",
          "Free",
          "Free",
          "Free",
          "Free",
          "Free",
          "Free",
          "Free",
          "Free",
          "Free",
          "Free",
          "Free",
          "Free",
          "Free",
          "Free",
          "Free",
          "Free",
          "Free",
          "Free",
          "Free",
          "Free",
          "Free",
          "Free",
          "Free",
          "Free",
          "Free",
          "Free",
          "Free",
          "Free",
          "Free",
          "Free",
          "Free",
          "Free",
          "Free",
          "Free",
          "Free",
          "Free",
          "Free",
          "Free",
          "Free",
          "Free",
          "Free",
          "Free",
          "Free",
          "Free",
          "Free",
          "Free",
          "Free",
          "Free",
          "Free",
          "Free",
          "Free",
          "Free",
          "Free",
          "Free",
          "Free",
          "Free",
          "Free",
          "Free",
          "Free",
          "Free",
          "Free",
          "Free",
          "Free",
          "Free",
          "Free",
          "Free",
          "Free",
          "Free",
          "Free",
          "Free",
          "Free",
          "Free",
          "Free",
          "Free",
          "Free",
          "Free",
          "Free",
          "Free",
          "Free",
          "Free",
          "Free",
          "Free",
          "Free",
          "Free",
          "Free",
          "Free",
          "Free",
          "Free",
          "Free",
          "Free",
          "Free",
          "Free",
          "Free",
          "Free",
          "Free",
          "Free",
          "Free",
          "Free",
          "Free",
          "Free",
          "Free",
          "Free",
          "Free",
          "Free",
          "Free",
          "Free",
          "Free",
          "Free",
          "Free",
          "Free",
          "Free",
          "Free",
          "Free",
          "Free",
          "Free",
          "Free",
          "Free",
          "Free",
          "Free",
          "Free",
          "Free",
          "Free",
          "Free",
          "Free",
          "Free",
          "Free",
          "Free",
          "Free",
          "Free",
          "Free",
          "Free",
          "Free",
          "Free",
          "Free",
          "Free",
          "Free",
          "Free",
          "Free",
          "Free",
          "Free",
          "Free",
          "Free",
          "Free",
          "Free",
          "Free",
          "Free",
          "Free",
          "Free",
          "Free",
          "Free",
          "Free",
          "Free",
          "Free",
          "Free",
          "Free",
          "Free",
          "Free",
          "Free",
          "Free",
          "Free",
          "Free",
          "Free",
          "Free",
          "Free",
          "Free",
          "Free",
          "Free",
          "Free",
          "Free",
          "Free",
          "Free",
          "Free",
          "Free",
          "Free",
          "Free",
          "Free",
          "Free",
          "Free",
          "Free",
          "Free",
          "Free",
          "Free",
          "Free",
          "Free",
          "Free",
          "Free",
          "Free",
          "Free",
          "Free",
          "Free",
          "Free",
          "Free",
          "Free",
          "Free",
          "Free",
          "Free",
          "Free",
          "Free",
          "Free",
          "Free",
          "Free",
          "Free",
          "Free",
          "Free",
          "Free",
          "Free",
          "Free",
          "Free",
          "Free",
          "Free",
          "Free",
          "Free",
          "Free",
          "Free",
          "Free",
          "Free",
          "Free",
          "Free",
          "Free",
          "Free",
          "Free",
          "Free",
          "Free",
          "Free",
          "Free",
          "Free",
          "Free",
          "Free",
          "Free",
          "Free",
          "Free",
          "Free",
          "Free",
          "Free",
          "Free",
          "Free",
          "Free",
          "Free",
          "Free",
          "Free",
          "Free",
          "Free",
          "Free",
          "Free",
          "Free",
          "Free",
          "Free",
          "Free",
          "Free",
          "Free",
          "Free",
          "Free",
          "Free",
          "Free",
          "Free",
          "Free",
          "Free",
          "Free",
          "Free",
          "Free",
          "Free",
          "Free",
          "Free",
          "Free",
          "Free",
          "Free",
          "Free",
          "Free",
          "Free",
          "Free",
          "Free",
          "Free",
          "Free",
          "Free",
          "Free",
          "Free",
          "Free",
          "Free",
          "Free",
          "Free",
          "Free",
          "Free",
          "Free",
          "Free",
          "Free",
          "Free",
          "Free",
          "Free",
          "Free",
          "Free",
          "Free",
          "Free",
          "Free",
          "Free",
          "Free",
          "Free",
          "Free",
          "Free",
          "Free",
          "Free",
          "Free",
          "Free",
          "Free",
          "Free",
          "Free",
          "Free",
          "Free",
          "Free",
          "Free",
          "Free",
          "Free",
          "Free",
          "Free",
          "Free",
          "Free",
          "Free",
          "Free",
          "Free",
          "Free",
          "Free",
          "Free",
          "Free",
          "Free",
          "Free",
          "Free",
          "Free",
          "Free",
          "Free",
          "Free",
          "Free",
          "Free",
          "Free",
          "Free",
          "Free",
          "Free",
          "Free",
          "Free",
          "Free",
          "Free",
          "Free",
          "Free",
          "Free",
          "Free",
          "Free",
          "Free",
          "Free",
          "Free",
          "Free",
          "Free",
          "Free",
          "Free",
          "Free",
          "Free",
          "Free",
          "Free",
          "Free",
          "Free",
          "Free",
          "Free",
          "Free",
          "Free",
          "Free",
          "Free",
          "Free",
          "Free",
          "Free",
          "Free",
          "Free",
          "Free",
          "Free",
          "Free",
          "Free",
          "Free",
          "Free",
          "Free",
          "Free",
          "Free",
          "Free",
          "Free",
          "Free",
          "Free",
          "Free",
          "Free",
          "Free",
          "Free",
          "Free",
          "Free",
          "Free",
          "Free",
          "Free",
          "Free",
          "Free",
          "Free",
          "Free",
          "Free",
          "Free",
          "Free",
          "Free",
          "Free",
          "Free",
          "Free",
          "Free",
          "Free",
          "Free",
          "Free",
          "Free",
          "Free",
          "Free",
          "Free",
          "Free",
          "Free",
          "Free",
          "Free",
          "Free",
          "Free",
          "Free",
          "Free",
          "Free",
          "Free",
          "Free",
          "Free",
          "Free",
          "Free",
          "Free",
          "Free",
          "Free",
          "Free",
          "Free",
          "Free",
          "Free",
          "Free",
          "Free",
          "Free",
          "Free",
          "Free",
          "Free",
          "Free",
          "Free",
          "Free",
          "Free",
          "Free",
          "Free",
          "Free",
          "Free",
          "Free",
          "Free",
          "Free",
          "Free",
          "Free",
          "Free",
          "Free",
          "Free",
          "Free",
          "Free",
          "Free",
          "Free",
          "Free",
          "Free",
          "Free",
          "Free",
          "Free",
          "Free",
          "Free",
          "Free",
          "Free",
          "Free",
          "Free",
          "Free",
          "Free",
          "Free",
          "Free",
          "Free",
          "Free",
          "Free",
          "Free",
          "Free",
          "Free",
          "Free",
          "Free",
          "Free",
          "Free",
          "Free",
          "Free",
          "Free",
          "Free",
          "Free",
          "Free",
          "Free",
          "Free",
          "Free",
          "Free",
          "Free",
          "Free",
          "Free",
          "Free",
          "Free",
          "Free",
          "Free",
          "Free",
          "Free",
          "Free",
          "Free",
          "Free",
          "Free",
          "Free",
          "Free",
          "Free",
          "Free",
          "Free",
          "Free",
          "Free",
          "Free",
          "Free",
          "Free",
          "Free",
          "Free",
          "Free",
          "Free",
          "Free",
          "Free",
          "Free",
          "Free",
          "Free",
          "Free",
          "Free",
          "Free",
          "Free",
          "Free",
          "Free",
          "Free",
          "Free",
          "Free",
          "Free",
          "Free",
          "Free",
          "Free",
          "Free",
          "Free",
          "Free",
          "Free",
          "Free",
          "Free",
          "Free",
          "Free",
          "Free",
          "Free",
          "Free",
          "Free",
          "Free",
          "Free",
          "Free",
          "Free",
          "Free",
          "Free",
          "Free",
          "Free",
          "Free",
          "Free",
          "Free",
          "Free",
          "Free",
          "Free",
          "Free",
          "Free",
          "Free",
          "Free",
          "Free",
          "Free",
          "Free",
          "Free",
          "Free",
          "Free",
          "Free",
          "Free",
          "Free",
          "Free",
          "Free",
          "Free",
          "Free",
          "Free",
          "Free",
          "Free",
          "Free",
          "Free",
          "Free",
          "Free",
          "Free",
          "Free",
          "Free",
          "Free",
          "Free",
          "Free",
          "Free",
          "Free",
          "Free",
          "Free",
          "Free",
          "Free",
          "Free",
          "Free",
          "Free",
          "Free",
          "Free",
          "Free",
          "Free",
          "Free",
          "Free",
          "Free",
          "Free",
          "Free",
          "Free",
          "Free",
          "Free",
          "Free",
          "Free",
          "Free",
          "Free",
          "Free",
          "Free",
          "Free",
          "Free",
          "Free",
          "Free",
          "Free",
          "Free",
          "Free",
          "Free",
          "Free",
          "Free",
          "Free",
          "Free",
          "Free",
          "Free",
          "Free",
          "Free",
          "Free",
          "Free",
          "Free",
          "Free",
          "Free",
          "Free",
          "Free",
          "Free",
          "Free",
          "Free",
          "Free",
          "Free",
          "Free",
          "Free",
          "Free",
          "Free",
          "Free",
          "Free",
          "Free",
          "Free",
          "Free",
          "Free",
          "Free",
          "Free",
          "Free",
          "Free",
          "Free",
          "Free",
          "Free",
          "Free",
          "Free",
          "Free",
          "Free",
          "Free",
          "Free",
          "Free",
          "Free",
          "Free",
          "Free",
          "Free",
          "Free",
          "Free",
          "Free",
          "Free",
          "Free",
          "Free",
          "Free",
          "Free",
          "Free",
          "Free",
          "Free",
          "Free",
          "Free",
          "Free",
          "Free",
          "Free",
          "Free",
          "Free",
          "Free",
          "Free",
          "Free",
          "Free",
          "Free",
          "Free",
          "Free",
          "Free",
          "Free",
          "Free",
          "Free",
          "Free",
          "Free",
          "Free",
          "Free",
          "Free",
          "Free",
          "Free",
          "Free",
          "Free",
          "Free",
          "Free",
          "Free",
          "Free",
          "Free",
          "Free",
          "Free",
          "Free",
          "Free",
          "Free",
          "Free",
          "Free",
          "Free",
          "Free",
          "Free",
          "Free",
          "Free",
          "Free",
          "Free",
          "Free",
          "Free",
          "Free",
          "Free",
          "Free",
          "Free",
          "Free",
          "Free",
          "Free",
          "Free",
          "Free",
          "Free",
          "Free",
          "Free",
          "Free",
          "Free",
          "Free",
          "Free",
          "Free",
          "Free",
          "Free",
          "Free",
          "Free",
          "Free",
          "Free",
          "Free",
          "Free",
          "Free",
          "Free",
          "Free",
          "Free",
          "Free",
          "Free",
          "Free",
          "Free",
          "Free",
          "Free",
          "Free",
          "Free",
          "Free",
          "Free",
          "Free",
          "Free",
          "Free",
          "Free",
          "Free",
          "Free",
          "Free",
          "Free",
          "Free",
          "Free",
          "Free",
          "Free",
          "Free",
          "Free",
          "Free",
          "Free",
          "Free",
          "Free",
          "Free",
          "Free",
          "Free",
          "Free",
          "Free",
          "Free",
          "Free",
          "Free",
          "Free",
          "Free",
          "Free",
          "Free",
          "Free",
          "Free",
          "Free",
          "Free",
          "Free",
          "Free",
          "Free",
          "Free",
          "Free",
          "Free",
          "Free",
          "Free",
          "Free",
          "Free",
          "Free",
          "Free",
          "Free",
          "Free",
          "Free",
          "Free",
          "Free",
          "Free",
          "Free",
          "Free",
          "Free",
          "Free",
          "Free",
          "Free",
          "Free",
          "Free",
          "Free",
          "Free",
          "Free",
          "Free",
          "Free",
          "Free",
          "Free",
          "Free",
          "Free",
          "Free",
          "Free",
          "Free",
          "Free",
          "Free",
          "Free",
          "Free",
          "Free",
          "Free",
          "Free",
          "Free",
          "Free",
          "Free",
          "Free",
          "Free",
          "Free",
          "Free",
          "Free",
          "Free",
          "Free",
          "Free",
          "Free",
          "Free",
          "Free",
          "Free",
          "Free",
          "Free",
          "Free",
          "Free",
          "Free",
          "Free",
          "Free",
          "Free",
          "Free",
          "Free",
          "Free",
          "Free",
          "Free",
          "Free",
          "Free",
          "Free",
          "Free",
          "Free",
          "Free",
          "Free",
          "Free",
          "Free",
          "Free",
          "Free",
          "Free",
          "Free",
          "Free",
          "Free",
          "Free",
          "Free",
          "Free",
          "Free",
          "Free",
          "Free",
          "Free",
          "Free",
          "Free",
          "Free",
          "Free",
          "Free",
          "Free",
          "Free",
          "Free",
          "Free",
          "Free",
          "Free",
          "Free",
          "Free",
          "Free",
          "Free",
          "Free",
          "Free",
          "Free",
          "Free",
          "Free",
          "Free",
          "Free",
          "Free",
          "Free",
          "Free",
          "Free",
          "Free",
          "Free",
          "Free",
          "Free",
          "Free",
          "Free",
          "Free",
          "Free",
          "Free",
          "Free",
          "Free",
          "Free",
          "Free",
          "Free",
          "Free",
          "Free",
          "Free",
          "Free",
          "Free",
          "Free",
          "Free",
          "Free",
          "Free",
          "Free",
          "Free",
          "Free",
          "Free",
          "Free",
          "Free",
          "Free",
          "Free",
          "Free",
          "Free",
          "Free",
          "Free",
          "Free",
          "Free",
          "Free",
          "Free",
          "Free",
          "Free",
          "Free",
          "Free",
          "Free",
          "Free",
          "Free",
          "Free",
          "Free",
          "Free",
          "Free",
          "Free",
          "Free",
          "Free",
          "Free",
          "Free",
          "Free",
          "Free",
          "Free",
          "Free",
          "Free",
          "Free",
          "Free",
          "Free",
          "Free",
          "Free",
          "Free",
          "Free",
          "Free",
          "Free",
          "Free",
          "Free",
          "Free",
          "Free",
          "Free",
          "Free",
          "Free",
          "Free",
          "Free",
          "Free",
          "Free",
          "Free",
          "Free",
          "Free",
          "Free",
          "Free",
          "Free",
          "Free",
          "Free",
          "Free",
          "Free",
          "Free",
          "Free",
          "Free",
          "Free",
          "Free",
          "Free",
          "Free",
          "Free",
          "Free",
          "Free",
          "Free",
          "Free",
          "Free",
          "Free",
          "Free",
          "Free",
          "Free",
          "Free",
          "Free",
          "Free",
          "Free",
          "Free",
          "Free",
          "Free",
          "Free",
          "Free",
          "Free",
          "Free",
          "Free",
          "Free",
          "Free",
          "Free",
          "Free",
          "Free",
          "Free",
          "Free",
          "Free",
          "Free",
          "Free",
          "Free",
          "Free",
          "Free",
          "Free",
          "Free",
          "Free",
          "Free",
          "Free",
          "Free",
          "Free",
          "Free",
          "Free",
          "Free",
          "Free",
          "Free",
          "Free",
          "Free",
          "Free",
          "Free",
          "Free",
          "Free",
          "Free",
          "Free",
          "Free",
          "Free",
          "Free",
          "Free",
          "Free",
          "Free",
          "Free",
          "Free",
          "Free",
          "Free",
          "Free",
          "Free",
          "Free",
          "Free",
          "Free",
          "Free",
          "Free",
          "Free",
          "Free",
          "Free",
          "Free",
          "Free",
          "Free",
          "Free",
          "Free",
          "Free",
          "Free",
          "Free",
          "Free",
          "Free",
          "Free",
          "Free",
          "Free",
          "Free",
          "Free",
          "Free",
          "Free",
          "Free",
          "Free",
          "Free",
          "Free",
          "Free",
          "Free",
          "Free",
          "Free",
          "Free",
          "Free",
          "Free",
          "Free",
          "Free",
          "Free",
          "Free",
          "Free",
          "Free",
          "Free",
          "Free",
          "Free",
          "Free",
          "Free",
          "Free",
          "Free",
          "Free",
          "Free",
          "Free",
          "Free",
          "Free",
          "Free",
          "Free",
          "Free",
          "Free",
          "Free",
          "Free",
          "Free",
          "Free",
          "Free",
          "Free",
          "Free",
          "Free",
          "Free",
          "Free",
          "Free",
          "Free",
          "Free",
          "Free",
          "Free",
          "Free",
          "Free",
          "Free",
          "Free",
          "Free",
          "Free",
          "Free",
          "Free",
          "Free",
          "Free",
          "Free",
          "Free",
          "Free",
          "Free",
          "Free",
          "Free",
          "Free",
          "Free",
          "Free",
          "Free",
          "Free",
          "Free",
          "Free",
          "Free",
          "Free",
          "Free",
          "Free",
          "Free",
          "Free",
          "Free",
          "Free",
          "Free",
          "Free",
          "Free",
          "Free",
          "Free",
          "Free",
          "Free",
          "Free",
          "Free",
          "Free",
          "Free",
          "Free",
          "Free",
          "Free",
          "Free",
          "Free",
          "Free",
          "Free",
          "Free",
          "Free",
          "Free",
          "Free",
          "Free",
          "Free",
          "Free",
          "Free",
          "Free",
          "Free",
          "Free",
          "Free",
          "Free",
          "Free",
          "Free",
          "Free",
          "Free",
          "Free",
          "Free",
          "Free",
          "Free",
          "Free",
          "Free",
          "Free",
          "Free",
          "Free",
          "Free",
          "Free",
          "Free",
          "Free",
          "Free",
          "Free",
          "Free",
          "Free",
          "Free",
          "Free",
          "Free",
          "Free",
          "Free",
          "Free",
          "Free",
          "Free",
          "Free",
          "Free",
          "Free",
          "Free",
          "Free",
          "Free",
          "Free",
          "Free",
          "Free",
          "Free",
          "Free",
          "Free",
          "Free",
          "Free",
          "Free",
          "Free",
          "Free",
          "Free",
          "Free",
          "Free",
          "Free",
          "Free",
          "Free",
          "Free",
          "Free",
          "Free",
          "Free",
          "Free",
          "Free",
          "Free",
          "Free",
          "Free",
          "Free",
          "Free",
          "Free",
          "Free",
          "Free",
          "Free",
          "Free",
          "Free",
          "Free",
          "Free",
          "Free",
          "Free",
          "Free",
          "Free",
          "Free",
          "Free",
          "Free",
          "Free",
          "Free",
          "Free",
          "Free",
          "Free",
          "Free",
          "Free",
          "Free",
          "Free",
          "Free",
          "Free",
          "Free",
          "Free",
          "Free",
          "Free",
          "Free",
          "Free",
          "Free",
          "Free",
          "Free",
          "Free",
          "Free",
          "Free",
          "Free",
          "Free",
          "Free",
          "Free",
          "Free",
          "Free",
          "Free",
          "Free",
          "Free",
          "Free",
          "Free",
          "Free",
          "Free",
          "Free",
          "Free",
          "Free",
          "Free",
          "Free",
          "Free",
          "Free",
          "Free",
          "Free",
          "Free",
          "Free",
          "Free",
          "Free",
          "Free",
          "Free",
          "Free",
          "Free",
          "Free",
          "Free",
          "Free",
          "Free",
          "Free",
          "Free",
          "Free",
          "Free",
          "Free",
          "Free",
          "Free",
          "Free",
          "Free",
          "Free",
          "Free",
          "Free",
          "Free",
          "Free",
          "Free",
          "Free",
          "Free",
          "Free",
          "Free",
          "Free",
          "Free",
          "Free",
          "Free",
          "Free",
          "Free",
          "Free",
          "Free",
          "Free",
          "Free",
          "Free",
          "Free",
          "Free",
          "Free",
          "Free",
          "Free",
          "Free",
          "Free",
          "Free",
          "Free",
          "Free",
          "Free",
          "Free",
          "Free",
          "Free",
          "Free",
          "Free",
          "Free",
          "Free",
          "Free",
          "Free",
          "Free",
          "Free",
          "Free",
          "Free",
          "Free",
          "Free",
          "Free",
          "Free",
          "Free",
          "Free",
          "Free",
          "Free",
          "Free",
          "Free",
          "Free",
          "Free",
          "Free",
          "Free",
          "Free",
          "Free",
          "Free",
          "Free",
          "Free",
          "Free",
          "Free",
          "Free",
          "Free",
          "Free",
          "Free",
          "Free",
          "Free",
          "Free",
          "Free",
          "Free",
          "Free",
          "Free",
          "Free",
          "Free",
          "Free",
          "Free",
          "Free",
          "Free",
          "Free",
          "Free",
          "Free",
          "Free",
          "Free",
          "Free",
          "Free",
          "Free",
          "Free",
          "Free",
          "Free",
          "Free",
          "Free",
          "Free",
          "Free",
          "Free",
          "Free",
          "Free",
          "Free",
          "Free",
          "Free",
          "Free",
          "Free",
          "Free",
          "Free",
          "Free",
          "Free",
          "Free",
          "Free",
          "Free",
          "Free",
          "Free",
          "Free",
          "Free",
          "Free",
          "Free",
          "Free",
          "Free",
          "Free",
          "Free",
          "Free",
          "Free",
          "Free",
          "Free",
          "Free",
          "Free",
          "Free",
          "Free",
          "Free",
          "Free",
          "Free",
          "Free",
          "Free",
          "Free",
          "Free",
          "Free",
          "Free",
          "Free",
          "Free",
          "Free",
          "Free",
          "Free",
          "Free",
          "Free",
          "Free",
          "Free",
          "Free",
          "Free",
          "Free",
          "Free",
          "Free",
          "Free",
          "Free",
          "Free",
          "Free",
          "Free",
          "Free",
          "Free",
          "Free",
          "Free",
          "Free",
          "Free",
          "Free",
          "Free",
          "Free",
          "Free",
          "Free",
          "Free",
          "Free",
          "Free",
          "Free",
          "Free",
          "Free",
          "Free",
          "Free",
          "Free",
          "Free",
          "Free",
          "Free",
          "Free",
          "Free",
          "Free",
          "Free",
          "Free",
          "Free",
          "Free",
          "Free",
          "Free",
          "Free",
          "Free",
          "Free",
          "Free",
          "Free",
          "Free",
          "Free",
          "Free",
          "Free",
          "Free",
          "Free",
          "Free",
          "Free",
          "Free",
          "Free",
          "Free",
          "Free",
          "Free",
          "Free",
          "Free",
          "Free",
          "Free",
          "Free",
          "Free",
          "Free",
          "Free",
          "Free",
          "Free",
          "Free",
          "Free",
          "Free",
          "Free",
          "Free",
          "Free",
          "Free",
          "Free",
          "Free",
          "Free",
          "Free",
          "Free",
          "Free",
          "Free",
          "Free",
          "Free",
          "Free",
          "Free",
          "Free",
          "Free",
          "Free",
          "Free",
          "Free",
          "Free",
          "Free",
          "Free",
          "Free",
          "Free",
          "Free",
          "Free",
          "Free",
          "Free",
          "Free",
          "Free",
          "Free",
          "Free",
          "Free",
          "Free",
          "Free",
          "Free",
          "Free",
          "Free",
          "Free",
          "Free",
          "Free",
          "Free",
          "Free",
          "Free",
          "Free",
          "Free",
          "Free",
          "Free",
          "Free",
          "Free",
          "Free",
          "Free",
          "Free",
          "Free",
          "Free",
          "Free",
          "Free",
          "Free",
          "Free",
          "Free",
          "Free",
          "Free",
          "Free",
          "Free",
          "Free",
          "Free",
          "Free",
          "Free",
          "Free",
          "Free",
          "Free",
          "Free",
          "Free",
          "Free",
          "Free",
          "Free",
          "Free",
          "Free",
          "Free",
          "Free",
          "Free",
          "Free",
          "Free",
          "Free",
          "Free",
          "Free",
          "Free",
          "Free",
          "Free",
          "Free",
          "Free",
          "Free",
          "Free",
          "Free",
          "Free",
          "Free",
          "Free",
          "Free",
          "Free",
          "Free",
          "Free",
          "Free",
          "Free",
          "Free",
          "Free",
          "Free",
          "Free",
          "Free",
          "Free",
          "Free",
          "Free",
          "Free",
          "Free",
          "Free",
          "Free",
          "Free",
          "Free",
          "Free",
          "Free",
          "Free",
          "Free",
          "Free",
          "Free",
          "Free",
          "Free",
          "Free",
          "Free",
          "Free",
          "Free",
          "Free",
          "Free",
          "Free",
          "Free",
          "Free",
          "Free",
          "Free",
          "Free",
          "Free",
          "Free",
          "Free",
          "Free",
          "Free",
          "Free",
          "Free",
          "Free",
          "Free",
          "Free",
          "Free",
          "Free",
          "Free",
          "Free",
          "Free",
          "Free",
          "Free",
          "Free",
          "Free",
          "Free",
          "Free",
          "Free",
          "Free",
          "Free",
          "Free",
          "Free",
          "Free",
          "Free",
          "Free",
          "Free",
          "Free",
          "Free",
          "Free",
          "Free",
          "Free",
          "Free",
          "Free",
          "Free",
          "Free",
          "Free",
          "Free",
          "Free",
          "Free",
          "Free",
          "Free",
          "Free",
          "Free",
          "Free",
          "Free",
          "Free",
          "Free",
          "Free",
          "Free",
          "Free",
          "Free",
          "Free",
          "Free",
          "Free",
          "Free",
          "Free",
          "Free",
          "Free",
          "Free",
          "Free",
          "Free",
          "Free",
          "Free",
          "Free",
          "Free",
          "Free",
          "Free",
          "Free",
          "Free",
          "Free",
          "Free",
          "Free",
          "Free",
          "Free",
          "Free",
          "Free",
          "Free",
          "Free",
          "Free",
          "Free",
          "Free",
          "Free",
          "Free",
          "Free",
          "Free",
          "Free",
          "Free",
          "Free",
          "Free",
          "Free",
          "Free",
          "Free",
          "Free",
          "Free",
          "Free",
          "Free",
          "Free",
          "Free",
          "Free",
          "Free",
          "Free",
          "Free",
          "Free",
          "Free",
          "Free",
          "Free",
          "Free",
          "Free",
          "Free",
          "Free",
          "Free",
          "Free",
          "Free",
          "Free",
          "Free",
          "Free",
          "Free",
          "Free",
          "Free",
          "Free",
          "Free",
          "Free",
          "Free",
          "Free",
          "Free",
          "Free",
          "Free",
          "Free",
          "Free",
          "Free",
          "Free",
          "Free",
          "Free",
          "Free",
          "Free",
          "Free",
          "Free",
          "Free",
          "Free",
          "Free",
          "Free",
          "Free",
          "Free",
          "Free",
          "Free",
          "Free",
          "Free",
          "Free",
          "Free",
          "Free",
          "Free",
          "Free",
          "Free",
          "Free",
          "Free",
          "Free",
          "Free",
          "Free",
          "Free",
          "Free",
          "Free",
          "Free",
          "Free",
          "Free",
          "Free",
          "Free",
          "Free",
          "Free",
          "Free",
          "Free",
          "Free",
          "Free",
          "Free",
          "Free",
          "Free",
          "Free",
          "Free",
          "Free",
          "Free",
          "Free",
          "Free",
          "Free",
          "Free",
          "Free",
          "Free",
          "Free",
          "Free",
          "Free",
          "Free",
          "Free",
          "Free",
          "Free",
          "Free",
          "Free",
          "Free",
          "Free",
          "Free",
          "Free",
          "Free",
          "Free",
          "Free",
          "Free",
          "Free",
          "Free",
          "Free",
          "Free",
          "Free",
          "Free",
          "Free",
          "Free",
          "Free",
          "Free",
          "Free",
          "Free",
          "Free",
          "Free",
          "Free",
          "Free",
          "Free",
          "Free",
          "Free",
          "Free",
          "Free",
          "Free",
          "Free",
          "Free",
          "Free",
          "Free",
          "Free",
          "Free",
          "Free",
          "Free",
          "Free",
          "Free",
          "Free",
          "Free",
          "Free",
          "Free",
          "Free",
          "Free",
          "Free",
          "Free",
          "Free",
          "Free",
          "Free",
          "Free",
          "Free",
          "Free",
          "Free",
          "Free",
          "Free",
          "Free",
          "Free",
          "Free",
          "Free",
          "Free",
          "Free",
          "Free",
          "Free",
          "Free",
          "Free",
          "Free",
          "Free",
          "Free",
          "Free",
          "Free",
          "Free",
          "Free",
          "Free",
          "Free",
          "Free",
          "Free",
          "Free",
          "Free",
          "Free",
          "Free",
          "Free",
          "Free",
          "Free",
          "Free",
          "Free",
          "Free",
          "Free",
          "Free",
          "Free",
          "Free",
          "Free",
          "Free",
          "Free",
          "Free",
          "Free",
          "Free",
          "Free",
          "Free",
          "Free",
          "Free",
          "Free",
          "Free",
          "Free",
          "Free",
          "Free",
          "Free",
          "Free",
          "Free",
          "Free",
          "Free",
          "Free",
          "Free",
          "Free",
          "Free",
          "Free",
          "Free",
          "Free",
          "Free",
          "Free",
          "Free",
          "Free",
          "Free",
          "Free",
          "Free",
          "Free",
          "Free",
          "Free",
          "Free",
          "Free",
          "Free",
          "Free",
          "Free",
          "Free",
          "Free",
          "Free",
          "Free",
          "Free",
          "Free",
          "Free",
          "Free",
          "Free",
          "Free",
          "Free",
          "Free",
          "Free",
          "Free",
          "Free",
          "Free",
          "Free",
          "Free",
          "Free",
          "Free",
          "Free",
          "Free",
          "Free",
          "Free",
          "Free",
          "Free",
          "Free",
          "Free",
          "Free",
          "Free",
          "Free",
          "Free",
          "Free",
          "Free",
          "Free",
          "Free",
          "Free",
          "Free",
          "Free",
          "Free",
          "Free",
          "Free",
          "Free",
          "Free",
          "Free",
          "Free",
          "Free",
          "Free",
          "Free",
          "Free",
          "Free",
          "Free",
          "Free",
          "Free",
          "Free",
          "Free",
          "Free",
          "Free",
          "Free",
          "Free",
          "Free",
          "Free",
          "Free",
          "Free",
          "Free",
          "Free",
          "Free",
          "Free",
          "Free",
          "Free",
          "Free",
          "Free",
          "Free",
          "Free",
          "Free",
          "Free",
          "Free",
          "Free",
          "Free",
          "Free",
          "Free",
          "Free",
          "Free",
          "Free",
          "Free",
          "Free",
          "Free",
          "Free",
          "Free",
          "Free",
          "Free",
          "Free",
          "Free",
          "Free",
          "Free",
          "Free",
          "Free",
          "Free",
          "Free",
          "Free",
          "Free",
          "Free",
          "Free",
          "Free",
          "Free",
          "Free",
          "Free",
          "Free",
          "Free",
          "Free",
          "Free",
          "Free",
          "Free",
          "Free",
          "Free",
          "Free",
          "Free",
          "Free",
          "Free",
          "Free",
          "Free",
          "Free",
          "Free",
          "Free",
          "Free",
          "Free",
          "Free",
          "Free",
          "Free",
          "Free",
          "Free",
          "Free",
          "Free",
          "Free",
          "Free",
          "Free",
          "Free",
          "Free",
          "Free",
          "Free",
          "Free",
          "Free",
          "Free",
          "Free",
          "Free",
          "Free",
          "Free",
          "Free",
          "Free",
          "Free",
          "Free",
          "Free",
          "Free",
          "Free",
          "Free",
          "Free",
          "Free",
          "Free",
          "Free",
          "Free",
          "Free",
          "Free",
          "Free",
          "Free",
          "Free",
          "Free",
          "Free",
          "Free",
          "Free",
          "Free",
          "Free",
          "Free",
          "Free",
          "Free",
          "Free",
          "Free",
          "Free",
          "Free",
          "Free",
          "Free",
          "Free",
          "Free",
          "Free",
          "Free",
          "Free",
          "Free",
          "Free",
          "Free",
          "Free",
          "Free",
          "Free",
          "Free",
          "Free",
          "Free",
          "Free",
          "Free",
          "Free",
          "Free",
          "Free",
          "Free",
          "Free",
          "Free",
          "Free",
          "Free",
          "Free",
          "Free",
          "Free",
          "Free",
          "Free",
          "Free",
          "Free",
          "Free",
          "Free",
          "Free",
          "Free",
          "Free",
          "Free",
          "Free",
          "Free",
          "Free",
          "Free",
          "Free",
          "Free",
          "Free",
          "Free",
          "Free",
          "Free",
          "Free",
          "Free",
          "Free",
          "Free",
          "Free",
          "Free",
          "Free",
          "Free",
          "Free",
          "Free",
          "Free",
          "Free",
          "Free",
          "Free",
          "Free",
          "Free",
          "Free",
          "Free",
          "Free",
          "Free",
          "Free",
          "Free",
          "Free",
          "Free",
          "Free",
          "Free",
          "Free",
          "Free",
          "Free",
          "Free",
          "Free",
          "Free",
          "Free",
          "Free",
          "Free",
          "Free",
          "Free",
          "Free",
          "Free",
          "Free",
          "Free",
          "Free",
          "Free",
          "Free",
          "Free",
          "Free",
          "Free",
          "Free",
          "Free",
          "Free",
          "Free",
          "Free",
          "Free",
          "Free",
          "Free",
          "Free",
          "Free",
          "Free",
          "Free",
          "Free",
          "Free",
          "Free",
          "Free",
          "Free",
          "Free",
          "Free",
          "Free",
          "Free",
          "Free",
          "Free",
          "Free",
          "Free",
          "Free",
          "Free",
          "Free",
          "Free",
          "Free",
          "Free",
          "Free",
          "Free",
          "Free",
          "Free",
          "Free",
          "Free",
          "Free",
          "Free",
          "Free",
          "Free",
          "Free",
          "Free",
          "Free",
          "Free",
          "Free",
          "Free",
          "Free",
          "Free",
          "Free",
          "Free",
          "Free",
          "Free",
          "Free",
          "Free",
          "Free",
          "Free",
          "Free",
          "Free",
          "Free",
          "Free",
          "Free",
          "Free",
          "Free",
          "Free",
          "Free",
          "Free",
          "Free",
          "Free",
          "Free",
          "Free",
          "Free",
          "Free",
          "Free",
          "Free",
          "Free",
          "Free",
          "Free",
          "Free",
          "Free",
          "Free",
          "Free",
          "Free",
          "Free",
          "Free",
          "Free",
          "Free",
          "Free",
          "Free",
          "Free",
          "Free",
          "Free",
          "Free",
          "Free",
          "Free",
          "Free",
          "Free",
          "Free",
          "Free",
          "Free",
          "Free",
          "Free",
          "Free",
          "Free",
          "Free",
          "Free",
          "Free",
          "Free",
          "Free",
          "Free",
          "Free",
          "Free",
          "Free",
          "Free",
          "Free",
          "Free",
          "Free",
          "Free",
          "Free",
          "Free",
          "Free",
          "Free",
          "Free",
          "Free",
          "Free",
          "Free",
          "Free",
          "Free",
          "Free",
          "Free",
          "Free",
          "Free",
          "Free",
          "Free",
          "Free",
          "Free",
          "Free",
          "Free",
          "Free",
          "Free",
          "Free",
          "Free",
          "Free",
          "Free",
          "Free",
          "Free",
          "Free",
          "Free",
          "Free",
          "Free",
          "Free",
          "Free",
          "Free",
          "Free",
          "Free",
          "Free",
          "Free",
          "Free",
          "Free",
          "Free",
          "Free",
          "Free",
          "Free",
          "Free",
          "Free",
          "Free",
          "Free",
          "Free",
          "Free",
          "Free",
          "Free",
          "Free",
          "Free",
          "Free",
          "Free",
          "Free",
          "Free",
          "Free",
          "Free",
          "Free",
          "Free",
          "Free",
          "Free",
          "Free",
          "Free",
          "Free",
          "Free",
          "Free",
          "Free",
          "Free",
          "Free",
          "Free",
          "Free",
          "Free",
          "Free",
          "Free",
          "Free",
          "Free",
          "Free",
          "Free",
          "Free",
          "Free",
          "Free",
          "Free",
          "Free",
          "Free",
          "Free",
          "Free",
          "Free",
          "Free",
          "Free",
          "Free",
          "Free",
          "Free",
          "Free",
          "Free",
          "Free",
          "Free",
          "Free",
          "Free",
          "Free",
          "Free",
          "Free",
          "Free",
          "Free",
          "Free",
          "Free",
          "Free",
          "Free",
          "Free",
          "Free",
          "Free",
          "Free",
          "Free",
          "Free",
          "Free",
          "Free",
          "Free",
          "Free",
          "Free",
          "Free",
          "Free",
          "Free",
          "Free",
          "Free",
          "Free",
          "Free",
          "Free",
          "Free",
          "Free",
          "Free",
          "Free",
          "Free",
          "Free",
          "Free",
          "Free",
          "Free",
          "Free",
          "Free",
          "Free",
          "Free",
          "Free",
          "Free",
          "Free",
          "Free",
          "Free",
          "Free",
          "Free",
          "Free",
          "Free",
          "Free",
          "Free",
          "Free",
          "Free",
          "Free",
          "Free",
          "Free",
          "Free",
          "Free",
          "Free",
          "Free",
          "Free",
          "Free",
          "Free",
          "Free",
          "Free",
          "Free",
          "Free",
          "Free",
          "Free",
          "Free",
          "Free",
          "Free",
          "Free",
          "Free",
          "Free",
          "Free",
          "Free",
          "Free",
          "Free",
          "Free",
          "Free",
          "Free",
          "Free",
          "Free",
          "Free",
          "Free",
          "Free",
          "Free",
          "Free",
          "Free",
          "Free",
          "Free",
          "Free",
          "Free",
          "Free",
          "Free",
          "Free",
          "Free",
          "Free",
          "Free",
          "Free",
          "Free",
          "Free",
          "Free",
          "Free",
          "Free",
          "Free",
          "Free",
          "Free",
          "Free",
          "Free",
          "Free",
          "Free",
          "Free",
          "Free",
          "Free",
          "Free",
          "Free",
          "Free",
          "Free",
          "Free",
          "Free",
          "Free",
          "Free",
          "Free",
          "Free",
          "Free",
          "Free",
          "Free",
          "Free",
          "Free",
          "Free",
          "Free",
          "Free",
          "Free",
          "Free",
          "Free",
          "Free",
          "Free",
          "Free",
          "Free",
          "Free",
          "Free",
          "Free",
          "Free",
          "Free",
          "Free",
          "Free",
          "Free",
          "Free",
          "Free",
          "Free",
          "Free",
          "Free",
          "Free",
          "Free",
          "Free",
          "Free",
          "Free",
          "Free",
          "Free",
          "Free",
          "Free",
          "Free",
          "Free",
          "Free",
          "Free",
          "Free",
          "Free",
          "Free",
          "Free",
          "Free",
          "Free",
          "Free",
          "Free",
          "Free",
          "Free",
          "Free",
          "Free",
          "Free",
          "Free",
          "Free",
          "Free",
          "Free",
          "Free",
          "Free",
          "Free",
          "Free",
          "Free",
          "Free",
          "Free",
          "Free",
          "Free",
          "Free",
          "Free",
          "Free",
          "Free",
          "Free",
          "Free",
          "Free",
          "Free",
          "Free",
          "Free",
          "Free",
          "Free",
          "Free",
          "Free",
          "Free",
          "Free",
          "Free",
          "Free",
          "Free",
          "Free",
          "Free",
          "Free",
          "Free",
          "Free",
          "Free",
          "Free",
          "Free",
          "Free",
          "Free",
          "Free",
          "Free",
          "Free",
          "Free",
          "Free",
          "Free",
          "Free",
          "Free",
          "Free",
          "Free",
          "Free",
          "Free",
          "Free",
          "Free",
          "Free",
          "Free",
          "Free",
          "Free",
          "Free",
          "Free",
          "Free",
          "Free",
          "Free",
          "Free",
          "Free",
          "Free",
          "Free",
          "Free",
          "Free",
          "Free",
          "Free",
          "Free",
          "Free",
          "Free",
          "Free",
          "Free",
          "Free",
          "Free",
          "Free",
          "Free",
          "Free",
          "Free",
          "Free",
          "Free",
          "Free",
          "Free",
          "Free",
          "Free",
          "Free",
          "Free",
          "Free",
          "Free",
          "Free",
          "Free",
          "Free",
          "Free",
          "Free",
          "Free",
          "Free",
          "Free",
          "Free",
          "Free",
          "Free",
          "Free",
          "Free",
          "Free",
          "Free",
          "Free",
          "Free",
          "Free",
          "Free",
          "Free",
          "Free",
          "Free",
          "Free",
          "Free",
          "Free",
          "Free",
          "Free",
          "Free",
          "Free",
          "Free",
          "Free",
          "Free",
          "Free",
          "Free",
          "Free",
          "Free",
          "Free",
          "Free",
          "Free",
          "Free",
          "Free",
          "Free",
          "Free",
          "Free",
          "Free",
          "Free",
          "Free",
          "Free",
          "Free",
          "Free",
          "Free",
          "Free",
          "Free",
          "Free",
          "Free",
          "Free",
          "Free",
          "Free",
          "Free",
          "Free",
          "Free",
          "Free",
          "Free",
          "Free",
          "Free",
          "Free",
          "Free",
          "Free",
          "Free",
          "Free",
          "Free",
          "Free",
          "Free",
          "Free",
          "Free",
          "Free",
          "Free",
          "Free",
          "Free",
          "Free",
          "Free",
          "Free",
          "Free",
          "Free",
          "Free",
          "Free",
          "Free",
          "Free",
          "Free",
          "Free",
          "Free",
          "Free",
          "Free",
          "Free",
          "Free",
          "Free",
          "Free",
          "Free",
          "Free",
          "Free",
          "Free",
          "Free",
          "Free",
          "Free",
          "Free",
          "Free",
          "Free",
          "Free",
          "Free",
          "Free",
          "Free",
          "Free",
          "Free",
          "Free",
          "Free",
          "Free",
          "Free",
          "Free",
          "Free",
          "Free",
          "Free",
          "Free",
          "Free",
          "Free",
          "Free",
          "Free",
          "Free",
          "Free",
          "Free",
          "Free",
          "Free",
          "Free",
          "Free",
          "Free",
          "Free",
          "Free",
          "Free",
          "Free",
          "Free",
          "Free",
          "Free",
          "Free",
          "Free",
          "Free",
          "Free",
          "Free",
          "Free",
          "Free",
          "Free",
          "Free",
          "Free",
          "Free",
          "Free",
          "Free",
          "Free",
          "Free",
          "Free",
          "Free",
          "Free",
          "Free",
          "Free",
          "Free",
          "Free",
          "Free",
          "Free",
          "Free",
          "Free",
          "Free",
          "Free",
          "Free",
          "Free",
          "Free",
          "Free",
          "Free",
          "Free",
          "Free",
          "Free",
          "Free",
          "Free",
          "Free",
          "Free",
          "Free",
          "Free",
          "Free",
          "Free",
          "Free",
          "Free",
          "Free",
          "Free",
          "Free",
          "Free",
          "Free",
          "Free",
          "Free",
          "Free",
          "Free",
          "Free",
          "Free",
          "Free",
          "Free",
          "Free",
          "Free",
          "Free",
          "Free",
          "Free",
          "Free",
          "Free",
          "Free",
          "Free",
          "Free",
          "Free",
          "Free",
          "Free",
          "Free",
          "Free",
          "Free",
          "Free",
          "Free",
          "Free",
          "Free",
          "Free",
          "Free",
          "Free",
          "Free",
          "Free",
          "Free",
          "Free",
          "Free",
          "Free",
          "Free",
          "Free",
          "Free",
          "Free",
          "Free",
          "Free",
          "Free",
          "Free",
          "Free",
          "Free",
          "Free",
          "Free",
          "Free",
          "Free",
          "Free",
          "Free",
          "Free",
          "Free",
          "Free",
          "Free",
          "Free",
          "Free",
          "Free",
          "Free",
          "Free",
          "Free",
          "Free",
          "Free",
          "Free",
          "Free",
          "Free",
          "Free",
          "Free",
          "Free",
          "Free",
          "Free",
          "Free",
          "Free",
          "Free",
          "Free",
          "Free",
          "Free",
          "Free",
          "Free",
          "Free",
          "Free",
          "Free",
          "Free",
          "Free",
          "Free",
          "Free",
          "Free",
          "Free",
          "Free",
          "Free",
          "Free",
          "Free",
          "Free",
          "Free",
          "Free",
          "Free",
          "Free",
          "Free",
          "Free",
          "Free",
          "Free",
          "Free",
          "Free",
          "Free",
          "Free",
          "Free",
          "Free",
          "Free",
          "Free",
          "Free",
          "Free",
          "Free",
          "Free",
          "Free",
          "Free",
          "Free",
          "Free",
          "Free",
          "Free",
          "Free",
          "Free",
          "Free",
          "Free",
          "Free",
          "Free",
          "Free",
          "Free",
          "Free",
          "Free",
          "Free",
          "Free",
          "Free",
          "Free",
          "Free",
          "Free",
          "Free",
          "Free",
          "Free",
          "Free",
          "Free",
          "Free",
          "Free",
          "Free",
          "Free",
          "Free",
          "Free",
          "Free",
          "Free",
          "Free",
          "Free",
          "Free",
          "Free",
          "Free",
          "Free",
          "Free",
          "Free",
          "Free",
          "Free",
          "Free",
          "Free",
          "Free",
          "Free",
          "Free",
          "Free",
          "Free",
          "Free",
          "Free",
          "Free",
          "Free",
          "Free",
          "Free",
          "Free",
          "Free",
          "Free",
          "Free",
          "Free",
          "Free",
          "Free",
          "Free",
          "Free",
          "Free",
          "Free",
          "Free",
          "Free",
          "Free",
          "Free",
          "Free",
          "Free",
          "Free",
          "Free",
          "Free",
          "Free",
          "Free",
          "Free",
          "Free",
          "Free",
          "Free",
          "Free",
          "Free",
          "Free",
          "Free",
          "Free",
          "Free",
          "Free",
          "Free",
          "Free",
          "Free",
          "Free",
          "Free",
          "Free",
          "Free",
          "Free",
          "Free",
          "Free",
          "Free",
          "Free",
          "Free",
          "Free",
          "Free",
          "Free",
          "Free",
          "Free",
          "Free",
          "Free",
          "Free",
          "Free",
          "Free",
          "Free",
          "Free",
          "Free",
          "Free",
          "Free",
          "Free",
          "Free",
          "Free",
          "Free",
          "Free",
          "Free",
          "Free",
          "Free",
          "Free",
          "Free",
          "Free",
          "Free",
          "Free",
          "Free",
          "Free",
          "Free",
          "Free",
          "Free",
          "Free",
          "Free",
          "Free",
          "Free",
          "Free",
          "Free",
          "Free",
          "Free",
          "Free",
          "Free",
          "Free",
          "Free",
          "Free",
          "Free",
          "Free",
          "Free",
          "Free",
          "Free",
          "Free",
          "Free",
          "Free",
          "Free",
          "Free",
          "Free",
          "Free",
          "Free",
          "Free",
          "Free",
          "Free",
          "Free",
          "Free",
          "Free",
          "Free",
          "Free",
          "Free",
          "Free",
          "Free",
          "Free",
          "Free",
          "Free",
          "Free",
          "Free",
          "Free",
          "Free",
          "Free",
          "Free",
          "Free",
          "Free",
          "Free",
          "Free",
          "Free",
          "Free",
          "Free",
          "Free",
          "Free",
          "Free",
          "Free",
          "Free",
          "Free",
          "Free",
          "Free",
          "Free",
          "Free",
          "Free",
          "Free",
          "Free",
          "Free",
          "Free",
          "Free",
          "Free",
          "Free",
          "Free",
          "Free",
          "Free",
          "Free",
          "Free",
          "Free",
          "Free",
          "Free",
          "Free",
          "Free",
          "Free",
          "Free",
          "Free",
          "Free",
          "Free",
          "Free",
          "Free",
          "Free",
          "Free",
          "Free",
          "Free",
          "Free",
          "Free",
          "Free",
          "Free",
          "Free",
          "Free",
          "Free",
          "Free",
          "Free",
          "Free",
          "Free",
          "Free",
          "Free",
          "Free",
          "Free",
          "Free",
          "Free",
          "Free",
          "Free",
          "Free",
          "Free",
          "Free",
          "Free",
          "Free",
          "Free",
          "Free",
          "Free",
          "Free",
          "Free",
          "Free",
          "Free",
          "Free",
          "Free",
          "Free",
          "Free",
          "Free",
          "Free",
          "Free",
          "Free",
          "Free",
          "Free",
          "Free",
          "Free",
          "Free",
          "Free",
          "Free",
          "Free",
          "Free",
          "Free",
          "Free",
          "Free",
          "Free",
          "Free",
          "Free",
          "Free",
          "Free",
          "Free",
          "Free",
          "Free",
          "Free",
          "Free",
          "Free",
          "Free",
          "Free",
          "Free",
          "Free",
          "Free",
          "Free",
          "Free",
          "Free",
          "Free",
          "Free",
          "Free",
          "Free",
          "Free",
          "Free",
          "Free",
          "Free",
          "Free",
          "Free",
          "Free",
          "Free",
          "Free",
          "Free",
          "Free",
          "Free",
          "Free",
          "Free",
          "Free",
          "Free",
          "Free",
          "Free",
          "Free",
          "Free",
          "Free",
          "Free",
          "Free",
          "Free",
          "Free",
          "Free",
          "Free",
          "Free",
          "Free",
          "Free",
          "Free",
          "Free",
          "Free",
          "Free",
          "Free",
          "Free",
          "Free",
          "Free",
          "Free",
          "Free",
          "Free",
          "Free",
          "Free",
          "Free",
          "Free",
          "Free",
          "Free",
          "Free",
          "Free",
          "Free",
          "Free",
          "Free",
          "Free",
          "Free",
          "Free",
          "Free",
          "Free",
          "Free",
          "Free",
          "Free",
          "Free",
          "Free",
          "Free",
          "Free",
          "Free",
          "Free",
          "Free",
          "Free",
          "Free",
          "Free",
          "Free",
          "Free",
          "Free",
          "Free",
          "Free",
          "Free",
          "Free",
          "Free",
          "Free",
          "Free",
          "Free",
          "Free",
          "Free",
          "Free",
          "Free",
          "Free",
          "Free",
          "Free",
          "Free",
          "Free",
          "Free",
          "Free",
          "Free",
          "Free",
          "Free",
          "Free",
          "Free",
          "Free",
          "Free",
          "Free",
          "Free",
          "Free",
          "Free",
          "Free",
          "Free",
          "Free",
          "Free",
          "Free",
          "Free",
          "Free",
          "Free",
          "Free",
          "Free",
          "Free",
          "Free",
          "Free",
          "Free",
          "Free",
          "Free",
          "Free",
          "Free",
          "Free",
          "Free",
          "Free",
          "Free",
          "Free",
          "Free",
          "Free",
          "Free",
          "Free",
          "Free",
          "Free",
          "Free",
          "Free",
          "Free",
          "Free",
          "Free",
          "Free",
          "Free",
          "Free",
          "Free",
          "Free",
          "Free",
          "Free",
          "Free",
          "Free",
          "Free",
          "Free",
          "Free",
          "Free",
          "Free",
          "Free",
          "Free",
          "Free",
          "Free",
          "Free",
          "Free",
          "Free",
          "Free",
          "Free",
          "Free",
          "Free",
          "Free",
          "Free",
          "Free",
          "Free",
          "Free",
          "Free",
          "Free",
          "Free",
          "Free",
          "Free",
          "Free",
          "Free",
          "Free",
          "Free",
          "Free",
          "Free",
          "Free",
          "Free",
          "Free",
          "Free",
          "Free",
          "Free",
          "Free",
          "Free",
          "Free",
          "Free",
          "Free",
          "Free",
          "Free",
          "Free",
          "Free",
          "Free",
          "Free",
          "Free",
          "Free",
          "Free",
          "Free",
          "Free",
          "Free",
          "Free",
          "Free",
          "Free",
          "Free",
          "Free",
          "Free",
          "Free",
          "Free",
          "Free",
          "Free",
          "Free",
          "Free",
          "Free",
          "Free",
          "Free",
          "Free",
          "Free",
          "Free",
          "Free",
          "Free",
          "Free",
          "Free",
          "Free",
          "Free",
          "Free",
          "Free",
          "Free",
          "Free",
          "Free",
          "Free",
          "Free",
          "Free",
          "Free",
          "Free",
          "Free",
          "Free",
          "Free",
          "Free",
          "Free",
          "Free",
          "Free",
          "Free",
          "Free",
          "Free",
          "Free",
          "Free",
          "Free",
          "Free",
          "Free",
          "Free",
          "Free",
          "Free",
          "Free",
          "Free",
          "Free",
          "Free",
          "Free",
          "Free",
          "Free",
          "Free",
          "Free",
          "Free",
          "Free",
          "Free",
          "Free",
          "Free",
          "Free",
          "Free",
          "Free",
          "Free",
          "Free",
          "Free",
          "Free",
          "Free",
          "Free",
          "Free",
          "Free",
          "Free",
          "Free",
          "Free",
          "Free",
          "Free",
          "Free",
          "Free",
          "Free",
          "Free",
          "Free",
          "Free",
          "Free",
          "Free",
          "Free",
          "Free",
          "Free",
          "Free",
          "Free",
          "Free",
          "Free",
          "Free",
          "Free",
          "Free",
          "Free",
          "Free",
          "Free",
          "Free",
          "Free",
          "Free",
          "Free",
          "Free",
          "Free",
          "Free",
          "Free",
          "Free",
          "Free",
          "Free",
          "Free",
          "Free",
          "Free",
          "Free",
          "Free",
          "Free",
          "Free",
          "Free",
          "Free",
          "Free",
          "Free",
          "Free",
          "Free",
          "Free",
          "Free",
          "Free",
          "Free",
          "Free",
          "Free",
          "Free",
          "Free",
          "Free",
          "Free",
          "Free",
          "Free",
          "Free",
          "Free",
          "Free",
          "Free",
          "Free",
          "Free",
          "Free",
          "Free",
          "Free",
          "Free",
          "Free",
          "Free",
          "Free",
          "Free",
          "Free",
          "Free",
          "Free",
          "Free",
          "Free",
          "Free",
          "Free",
          "Free",
          "Free",
          "Free",
          "Free",
          "Free",
          "Free",
          "Free",
          "Free",
          "Free",
          "Free",
          "Free",
          "Free",
          "Free",
          "Free",
          "Free",
          "Free",
          "Free",
          "Free",
          "Free",
          "Free",
          "Free",
          "Free",
          "Free",
          "Free",
          "Free",
          "Free",
          "Free",
          "Free",
          "Free",
          "Free",
          "Free",
          "Free",
          "Free",
          "Free",
          "Free",
          "Free",
          "Free",
          "Free",
          "Free",
          "Free",
          "Free",
          "Free",
          "Free",
          "Free",
          "Free",
          "Free",
          "Free",
          "Free",
          "Free",
          "Free",
          "Free",
          "Free",
          "Free",
          "Free",
          "Free",
          "Free",
          "Free",
          "Free",
          "Free",
          "Free",
          "Free",
          "Free",
          "Free",
          "Free",
          "Free",
          "Free",
          "Free",
          "Free",
          "Free",
          "Free",
          "Free",
          "Free",
          "Free",
          "Free",
          "Free",
          "Free",
          "Free",
          "Free",
          "Free",
          "Free",
          "Free",
          "Free",
          "Free",
          "Free",
          "Free",
          "Free",
          "Free",
          "Free",
          "Free",
          "Free",
          "Free",
          "Free",
          "Free",
          "Free",
          "Free",
          "Free",
          "Free",
          "Free",
          "Free",
          "Free",
          "Free",
          "Free",
          "Free",
          "Free",
          "Free",
          "Free",
          "Free",
          "Free",
          "Free",
          "Free",
          "Free",
          "Free",
          "Free",
          "Free",
          "Free",
          "Free",
          "Free",
          "Free",
          "Free",
          "Free",
          "Free",
          "Free",
          "Free",
          "Free",
          "Free",
          "Free",
          "Free",
          "Free",
          "Free",
          "Free",
          "Free",
          "Free",
          "Free",
          "Free",
          "Free",
          "Free",
          "Free",
          "Free",
          "Free",
          "Free",
          "Free",
          "Free",
          "Free",
          "Free",
          "Free",
          "Free",
          "Free",
          "Free",
          "Free",
          "Free",
          "Free",
          "Free",
          "Free",
          "Free",
          "Free",
          "Free",
          "Free",
          "Free",
          "Free",
          "Free",
          "Free",
          "Free",
          "Free",
          "Free",
          "Free",
          "Free",
          "Free",
          "Free",
          "Free",
          "Free",
          "Free",
          "Free",
          "Free",
          "Free",
          "Free",
          "Free",
          "Free",
          "Free",
          "Free",
          "Free",
          "Free",
          "Free",
          "Free",
          "Free",
          "Free",
          "Free",
          "Free",
          "Free",
          "Free",
          "Free",
          "Free",
          "Free",
          "Free",
          "Free",
          "Free",
          "Free",
          "Free",
          "Free",
          "Free",
          "Free",
          "Free",
          "Free",
          "Free",
          "Free",
          "Free",
          "Free",
          "Free",
          "Free",
          "Free",
          "Free",
          "Free",
          "Free",
          "Free",
          "Free",
          "Free",
          "Free",
          "Free",
          "Free",
          "Free",
          "Free",
          "Free",
          "Free",
          "Free",
          "Free",
          "Free",
          "Free",
          "Free",
          "Free",
          "Free",
          "Free",
          "Free",
          "Free",
          "Free",
          "Free",
          "Free",
          "Free",
          "Free",
          "Free",
          "Free",
          "Free",
          "Free",
          "Free",
          "Free",
          "Free",
          "Free",
          "Free",
          "Free",
          "Free",
          "Free",
          "Free",
          "Free",
          "Free",
          "Free",
          "Free",
          "Free",
          "Free",
          "Free",
          "Free",
          "Free",
          "Free",
          "Free",
          "Free",
          "Free",
          "Free",
          "Free",
          "Free",
          "Free",
          "Free",
          "Free",
          "Free",
          "Free",
          "Free",
          "Free",
          "Free",
          "Free",
          "Free",
          "Free",
          "Free",
          "Free",
          "Free",
          "Free",
          "Free",
          "Free",
          "Free",
          "Free",
          "Free",
          "Free",
          "Free",
          "Free",
          "Free",
          "Free",
          "Free",
          "Free",
          "Free",
          "Free",
          "Free",
          "Free",
          "Free",
          "Free",
          "Free",
          "Free",
          "Free",
          "Free",
          "Free",
          "Free",
          "Free",
          "Free",
          "Free",
          "Free",
          "Free",
          "Free",
          "Free",
          "Free",
          "Free",
          "Free",
          "Free",
          "Free",
          "Free",
          "Free",
          "Free",
          "Free",
          "Free",
          "Free",
          "Free",
          "Free",
          "Free",
          "Free",
          "Free",
          "Free",
          "Free",
          "Free",
          "Free",
          "Free",
          "Free",
          "Free",
          "Free",
          "Free",
          "Free",
          "Free",
          "Free",
          "Free",
          "Free",
          "Free",
          "Free",
          "Free",
          "Free",
          "Free",
          "Free",
          "Free",
          "Free",
          "Free",
          "Free",
          "Free",
          "Free",
          "Free",
          "Free",
          "Free",
          "Free",
          "Free",
          "Free",
          "Free",
          "Free",
          "Free",
          "Free",
          "Free",
          "Free",
          "Free",
          "Free",
          "Free",
          "Free",
          "Free",
          "Free",
          "Free",
          "Free",
          "Free",
          "Free",
          "Free",
          "Free",
          "Free",
          "Free",
          "Free",
          "Free",
          "Free",
          "Free",
          "Free",
          "Free",
          "Free",
          "Free",
          "Free",
          "Free",
          "Free",
          "Free",
          "Free",
          "Free",
          "Free",
          "Free",
          "Free",
          "Free",
          "Free",
          "Free",
          "Free",
          "Free",
          "Free",
          "Free",
          "Free",
          "Free",
          "Free",
          "Free",
          "Free",
          "Free",
          "Free",
          "Free",
          "Free",
          "Free",
          "Free",
          "Free",
          "Free",
          "Free",
          "Free",
          "Free",
          "Free",
          "Free",
          "Free",
          "Free",
          "Free",
          "Free",
          "Free",
          "Free",
          "Free",
          "Free",
          "Free",
          "Free",
          "Free",
          "Free",
          "Free",
          "Free",
          "Free",
          "Free",
          "Free",
          "Free",
          "Free",
          "Free",
          "Free",
          "Free",
          "Free",
          "Free",
          "Free",
          "Free",
          "Free",
          "Free",
          "Free",
          "Free",
          "Free",
          "Free",
          "Free",
          "Free",
          "Free",
          "Free",
          "Free",
          "Free",
          "Free",
          "Free",
          "Free",
          "Free",
          "Free",
          "Free",
          "Free",
          "Free",
          "Free",
          "Free",
          "Free",
          "Free",
          "Free",
          "Free",
          "Free",
          "Free",
          "Free",
          "Free",
          "Free",
          "Free",
          "Free",
          "Free",
          "Free",
          "Free",
          "Free",
          "Free",
          "Free",
          "Free",
          "Free",
          "Free",
          "Free",
          "Free",
          "Free",
          "Free",
          "Free",
          "Free",
          "Free",
          "Free",
          "Free",
          "Free",
          "Free",
          "Free",
          "Free",
          "Free",
          "Free",
          "Free",
          "Free",
          "Free",
          "Free",
          "Free",
          "Free",
          "Free",
          "Free",
          "Free",
          "Free",
          "Free",
          "Free",
          "Free",
          "Free",
          "Free",
          "Free",
          "Free",
          "Free",
          "Free",
          "Free",
          "Free",
          "Free",
          "Free",
          "Free",
          "Free",
          "Free",
          "Free",
          "Free",
          "Free",
          "Free",
          "Free",
          "Free",
          "Free",
          "Free",
          "Free",
          "Free",
          "Free",
          "Free",
          "Free",
          "Free",
          "Free",
          "Free",
          "Free",
          "Free",
          "Free",
          "Free",
          "Free",
          "Free",
          "Free",
          "Free",
          "Free",
          "Free",
          "Free",
          "Free",
          "Free",
          "Free",
          "Free",
          "Free",
          "Free",
          "Free",
          "Free",
          "Free",
          "Free",
          "Free",
          "Free",
          "Free",
          "Free",
          "Free",
          "Free",
          "Free",
          "Free",
          "Free",
          "Free",
          "Free",
          "Free",
          "Free",
          "Free",
          "Free",
          "Free",
          "Free",
          "Free",
          "Free",
          "Free",
          "Free",
          "Free",
          "Free",
          "Free",
          "Free",
          "Free",
          "Free",
          "Free",
          "Free",
          "Free",
          "Free",
          "Free",
          "Free",
          "Free",
          "Free",
          "Free",
          "Free",
          "Free",
          "Free",
          "Free",
          "Free",
          "Free",
          "Free",
          "Free",
          "Free",
          "Free",
          "Free",
          "Free",
          "Free",
          "Free",
          "Free",
          "Free",
          "Free",
          "Free",
          "Free",
          "Free",
          "Free",
          "Free",
          "Free",
          "Free",
          "Free",
          "Free",
          "Free",
          "Free",
          "Free",
          "Free",
          "Free",
          "Free",
          "Free",
          "Free",
          "Free",
          "Free",
          "Free",
          "Free",
          "Free",
          "Free",
          "Free",
          "Free",
          "Free",
          "Free",
          "Free",
          "Free",
          "Free",
          "Free",
          "Free",
          "Free",
          "Free",
          "Free",
          "Free",
          "Free",
          "Free",
          "Free",
          "Free",
          "Free",
          "Free",
          "Free",
          "Free",
          "Free",
          "Free",
          "Free",
          "Free",
          "Free",
          "Free",
          "Free",
          "Free",
          "Free",
          "Free",
          "Free",
          "Free",
          "Free",
          "Free",
          "Free",
          "Free",
          "Free",
          "Free",
          "Free",
          "Free",
          "Free",
          "Free",
          "Free",
          "Free",
          "Free",
          "Free",
          "Free",
          "Free",
          "Free",
          "Free",
          "Free",
          "Free",
          "Free",
          "Free",
          "Free",
          "Free",
          "Free",
          "Free",
          "Free",
          "Free",
          "Free",
          "Free",
          "Free",
          "Free",
          "Free",
          "Free",
          "Free",
          "Free",
          "Free",
          "Free",
          "Free",
          "Free",
          "Free",
          "Free",
          "Free",
          "Free",
          "Free",
          "Free",
          "Free",
          "Free",
          "Free",
          "Free",
          "Free",
          "Free",
          "Free",
          "Free",
          "Free",
          "Free",
          "Free",
          "Free",
          "Free",
          "Free",
          "Free",
          "Free",
          "Free",
          "Free",
          "Free",
          "Free",
          "Free",
          "Free",
          "Free",
          "Free",
          "Free",
          "Free",
          "Free",
          "Free",
          "Free",
          "Free",
          "Free",
          "Free",
          "Free",
          "Free",
          "Free",
          "Free",
          "Free",
          "Free",
          "Free",
          "Free",
          "Free",
          "Free",
          "Free",
          "Free",
          "Free",
          "Free",
          "Free",
          "Free",
          "Free",
          "Free",
          "Free",
          "Free",
          "Free",
          "Free",
          "Free",
          "Free",
          "Free",
          "Free",
          "Free",
          "Free",
          "Free",
          "Free",
          "Free",
          "Free",
          "Free",
          "Free",
          "Free",
          "Free",
          "Free",
          "Free",
          "Free",
          "Free",
          "Free",
          "Free",
          "Free",
          "Free",
          "Free",
          "Free",
          "Free",
          "Free",
          "Free",
          "Free",
          "Free",
          "Free",
          "Free",
          "Free",
          "Free",
          "Free",
          "Free",
          "Free",
          "Free",
          "Free",
          "Free",
          "Free",
          "Free",
          "Free",
          "Free",
          "Free",
          "Free",
          "Free",
          "Free",
          "Free",
          "Free",
          "Free",
          "Free",
          "Free",
          "Free",
          "Free",
          "Free",
          "Free",
          "Free",
          "Free",
          "Free",
          "Free",
          "Free",
          "Free",
          "Free",
          "Free",
          "Free",
          "Free",
          "Free",
          "Free",
          "Free",
          "Free",
          "Free",
          "Free",
          "Free",
          "Free",
          "Free",
          "Free",
          "Free",
          "Free",
          "Free",
          "Free",
          "Free",
          "Free",
          "Free",
          "Free",
          "Free",
          "Free",
          "Free",
          "Free",
          "Free",
          "Free",
          "Free",
          "Free",
          "Free",
          "Free",
          "Free",
          "Free",
          "Free",
          "Free",
          "Free",
          "Free",
          "Free",
          "Free",
          "Free",
          "Free",
          "Free",
          "Free",
          "Free",
          "Free",
          "Free",
          "Free",
          "Free",
          "Free",
          "Free",
          "Free",
          "Free",
          "Free",
          "Free",
          "Free",
          "Free",
          "Free",
          "Free",
          "Free",
          "Free",
          "Free",
          "Free",
          "Free",
          "Free",
          "Free",
          "Free",
          "Free",
          "Free",
          "Free",
          "Free",
          "Free",
          "Free",
          "Free",
          "Free",
          "Free",
          "Free",
          "Free",
          "Free",
          "Free",
          "Free",
          "Free",
          "Free",
          "Free",
          "Free",
          "Free",
          "Free",
          "Free",
          "Free",
          "Free",
          "Free",
          "Free",
          "Free",
          "Free",
          "Free",
          "Free",
          "Free",
          "Free",
          "Free",
          "Free",
          "Free",
          "Free",
          "Free",
          "Free",
          "Free",
          "Free",
          "Free",
          "Free",
          "Free",
          "Free",
          "Free",
          "Free",
          "Free",
          "Free",
          "Free",
          "Free",
          "Free",
          "Free",
          "Free",
          "Free",
          "Free",
          "Free",
          "Free",
          "Free",
          "Free",
          "Free",
          "Free",
          "Free",
          "Free",
          "Free",
          "Free",
          "Free",
          "Free",
          "Free",
          "Free",
          "Free",
          "Free",
          "Free",
          "Free",
          "Free",
          "Free",
          "Free",
          "Free",
          "Free",
          "Free",
          "Free",
          "Free",
          "Free",
          "Free",
          "Free",
          "Free",
          "Free",
          "Free",
          "Free",
          "Free",
          "Free",
          "Free",
          "Free",
          "Free",
          "Free",
          "Free",
          "Free",
          "Free",
          "Free",
          "Free",
          "Free",
          "Free",
          "Free",
          "Free",
          "Free",
          "Free",
          "Free",
          "Free",
          "Free",
          "Free",
          "Free",
          "Free",
          "Free",
          "Free",
          "Free",
          "Free",
          "Free",
          "Free",
          "Free",
          "Free",
          "Free",
          "Free",
          "Free",
          "Free",
          "Free",
          "Free",
          "Free",
          "Free",
          "Free",
          "Free",
          "Free",
          "Free",
          "Free",
          "Free",
          "Free",
          "Free",
          "Free",
          "Free",
          "Free",
          "Free",
          "Free",
          "Free",
          "Free",
          "Free",
          "Free",
          "Free",
          "Free",
          "Free",
          "Free",
          "Free",
          "Free",
          "Free",
          "Free",
          "Free",
          "Free",
          "Free",
          "Free",
          "Free",
          "Free",
          "Free",
          "Free",
          "Free",
          "Free",
          "Free",
          "Free",
          "Free",
          "Free",
          "Free",
          "Free",
          "Free",
          "Free",
          "Free",
          "Free",
          "Free",
          "Free",
          "Free",
          "Free",
          "Free",
          "Free",
          "Free",
          "Free",
          "Free",
          "Free",
          "Free",
          "Free",
          "Free",
          "Free",
          "Free",
          "Free",
          "Free",
          "Free",
          "Free",
          "Free",
          "Free",
          "Free",
          "Free",
          "Free",
          "Free",
          "Free",
          "Free",
          "Free",
          "Free",
          "Free",
          "Free",
          "Free",
          "Free",
          "Free",
          "Free",
          "Free",
          "Free",
          "Free",
          "Free",
          "Free",
          "Free",
          "Free",
          "Free",
          "Free",
          "Free",
          "Free",
          "Free",
          "Free",
          "Free",
          "Free",
          "Free",
          "Free",
          "Free",
          "Free",
          "Free",
          "Free",
          "Free",
          "Free",
          "Free",
          "Free",
          "Free",
          "Free",
          "Free",
          "Free",
          "Free",
          "Free",
          "Free",
          "Free",
          "Free",
          "Free",
          "Free",
          "Free",
          "Free",
          "Free",
          "Free",
          "Free",
          "Free",
          "Free",
          "Free",
          "Free",
          "Free",
          "Free",
          "Free",
          "Free",
          "Free",
          "Free",
          "Free",
          "Free",
          "Free",
          "Free",
          "Free",
          "Free",
          "Free",
          "Free",
          "Free",
          "Free",
          "Free",
          "Free",
          "Free",
          "Free",
          "Free",
          "Free",
          "Free",
          "Free",
          "Free",
          "Free",
          "Free",
          "Free",
          "Free",
          "Free",
          "Free",
          "Free",
          "Free",
          "Free",
          "Free",
          "Free",
          "Free",
          "Free",
          "Free",
          "Free",
          "Free",
          "Free",
          "Free",
          "Free",
          "Free",
          "Free",
          "Free",
          "Free",
          "Free",
          "Free",
          "Free",
          "Free",
          "Free",
          "Free",
          "Free",
          "Free",
          "Free",
          "Free",
          "Free",
          "Free",
          "Free",
          "Free",
          "Free",
          "Free",
          "Free",
          "Free",
          "Free",
          "Free",
          "Free",
          "Free",
          "Free",
          "Free",
          "Free",
          "Free",
          "Free",
          "Free",
          "Free",
          "Free",
          "Free",
          "Free",
          "Free",
          "Free",
          "Free",
          "Free",
          "Free",
          "Free",
          "Free",
          "Free",
          "Free",
          "Free",
          "Free",
          "Free",
          "Free",
          "Free",
          "Free",
          "Free",
          "Free",
          "Free",
          "Free",
          "Free",
          "Free",
          "Free",
          "Free",
          "Free",
          "Free",
          "Free",
          "Free",
          "Free",
          "Free",
          "Free",
          "Free",
          "Free",
          "Free",
          "Free",
          "Free",
          "Free",
          "Free",
          "Free",
          "Free",
          "Free",
          "Free",
          "Free",
          "Free",
          "Free",
          "Free",
          "Free",
          "Free",
          "Free",
          "Free",
          "Free",
          "Free",
          "Free",
          "Free",
          "Free",
          "Free",
          "Free",
          "Free",
          "Free",
          "Free",
          "Free",
          "Free",
          "Free",
          "Free",
          "Free",
          "Free",
          "Free",
          "Free",
          "Free",
          "Free",
          "Free",
          "Free",
          "Free",
          "Free",
          "Free",
          "Free",
          "Free",
          "Free",
          "Free",
          "Free",
          "Free",
          "Free",
          "Free",
          "Free",
          "Free",
          "Free",
          "Free",
          "Free",
          "Free",
          "Free",
          "Free",
          "Free",
          "Free",
          "Free",
          "Free",
          "Free",
          "Free",
          "Free",
          "Free",
          "Free",
          "Free",
          "Free",
          "Free",
          "Free",
          "Free",
          "Free",
          "Free",
          "Free",
          "Free",
          "Free",
          "Free",
          "Free",
          "Free",
          "Free",
          "Free",
          "Free",
          "Free",
          "Free",
          "Free",
          "Free",
          "Free",
          "Free",
          "Free",
          "Free",
          "Free",
          "Free",
          "Free",
          "Free",
          "Free",
          "Free",
          "Free",
          "Free",
          "Free",
          "Free",
          "Free",
          "Free",
          "Free",
          "Free",
          "Free",
          "Free",
          "Free",
          "Free",
          "Free",
          "Free",
          "Free",
          "Free",
          "Free",
          "Free",
          "Free",
          "Free",
          "Free",
          "Free",
          "Free",
          "Free",
          "Free",
          "Free",
          "Free",
          "Free",
          "Free",
          "Free",
          "Free",
          "Free",
          "Free",
          "Free",
          "Free",
          "Free",
          "Free",
          "Free",
          "Free",
          "Free",
          "Free",
          "Free",
          "Free",
          "Free",
          "Free",
          "Free",
          "Free",
          "Free",
          "Free",
          "Free",
          "Free",
          "Free",
          "Free",
          "Free",
          "Free",
          "Free",
          "Free",
          "Free",
          "Free",
          "Free",
          "Free",
          "Free",
          "Free",
          "Free",
          "Free",
          "Free",
          "Free",
          "Free",
          "Free",
          "Free",
          "Free",
          "Free",
          "Free",
          "Free",
          "Free",
          "Free",
          "Free",
          "Free",
          "Free",
          "Free",
          "Free",
          "Free",
          "Free",
          "Free",
          "Free",
          "Free",
          "Free",
          "Free",
          "Free",
          "Free",
          "Free",
          "Free",
          "Free",
          "Free",
          "Free",
          "Free",
          "Free",
          "Free",
          "Free",
          "Free",
          "Free",
          "Free",
          "Free",
          "Free",
          "Free",
          "Free",
          "Free",
          "Free",
          "Free",
          "Free",
          "Free",
          "Free",
          "Free",
          "Free",
          "Free",
          "Free",
          "Free",
          "Free",
          "Free",
          "Free",
          "Free",
          "Free",
          "Free",
          "Free",
          "Free",
          "Free",
          "Free",
          "Free",
          "Free",
          "Free",
          "Free",
          "Free",
          "Free",
          "Free",
          "Free",
          "Free",
          "Free",
          "Free",
          "Free",
          "Free",
          "Free",
          "Free",
          "Free",
          "Free",
          "Free",
          "Free",
          "Free",
          "Free",
          "Free",
          "Free",
          "Free",
          "Free",
          "Free",
          "Free",
          "Free",
          "Free",
          "Free",
          "Free",
          "Free",
          "Free",
          "Free",
          "Free",
          "Free",
          "Free",
          "Free",
          "Free",
          "Free",
          "Free",
          "Free",
          "Free",
          "Free",
          "Free",
          "Free",
          "Free",
          "Free",
          "Free",
          "Free",
          "Free",
          "Free",
          "Free",
          "Free",
          "Free",
          "Free",
          "Free",
          "Free",
          "Free",
          "Free",
          "Free",
          "Free",
          "Free",
          "Free",
          "Free",
          "Free",
          "Free",
          "Free",
          "Free",
          "Free",
          "Free",
          "Free",
          "Free",
          "Free",
          "Free",
          "Free",
          "Free",
          "Free",
          "Free",
          "Free",
          "Free",
          "Free",
          "Free",
          "Free",
          "Free",
          "Free",
          "Free",
          "Free",
          "Free",
          "Free",
          "Free",
          "Free",
          "Free",
          "Free",
          "Free",
          "Free",
          "Free",
          "Free",
          "Free",
          "Free",
          "Free",
          "Free",
          "Free",
          "Free",
          "Free",
          "Free",
          "Free",
          "Free",
          "Free",
          "Free",
          "Free",
          "Free",
          "Free",
          "Free",
          "Free",
          "Free",
          "Free",
          "Free",
          "Free",
          "Free",
          "Free",
          "Free",
          "Free",
          "Free",
          "Free",
          "Free",
          "Free",
          "Free",
          "Free",
          "Free",
          "Free",
          "Free",
          "Free",
          "Free",
          "Free",
          "Free",
          "Free",
          "Free",
          "Free",
          "Free",
          "Free",
          "Free",
          "Free",
          "Free",
          "Free",
          "Free",
          "Free",
          "Free",
          "Free",
          "Free",
          "Free",
          "Free",
          "Free",
          "Free",
          "Free",
          "Free",
          "Free",
          "Free",
          "Free",
          "Free",
          "Free",
          "Free",
          "Free",
          "Free",
          "Free",
          "Free",
          "Free"
         ],
         "x0": " ",
         "xaxis": "x",
         "y": [
          1,
          5,
          5,
          5,
          5,
          5,
          5,
          5,
          5,
          5,
          10,
          10,
          10,
          10,
          10,
          10,
          10,
          10,
          10,
          10,
          10,
          10,
          10,
          10,
          10,
          10,
          10,
          10,
          10,
          10,
          10,
          10,
          10,
          10,
          10,
          10,
          10,
          10,
          10,
          10,
          10,
          10,
          10,
          10,
          10,
          10,
          10,
          10,
          10,
          10,
          10,
          10,
          10,
          10,
          10,
          10,
          10,
          10,
          10,
          10,
          10,
          50,
          50,
          50,
          50,
          50,
          50,
          50,
          50,
          50,
          50,
          50,
          50,
          50,
          50,
          50,
          50,
          50,
          50,
          50,
          50,
          50,
          50,
          50,
          50,
          50,
          50,
          50,
          50,
          50,
          50,
          50,
          50,
          50,
          50,
          50,
          50,
          50,
          50,
          50,
          50,
          50,
          50,
          100,
          100,
          100,
          100,
          100,
          100,
          100,
          100,
          100,
          100,
          100,
          100,
          100,
          100,
          100,
          100,
          100,
          100,
          100,
          100,
          100,
          100,
          100,
          100,
          100,
          100,
          100,
          100,
          100,
          100,
          100,
          100,
          100,
          100,
          100,
          100,
          100,
          100,
          100,
          100,
          100,
          100,
          100,
          100,
          100,
          100,
          100,
          100,
          100,
          100,
          100,
          100,
          100,
          100,
          100,
          100,
          100,
          100,
          100,
          100,
          100,
          100,
          100,
          100,
          100,
          100,
          100,
          100,
          100,
          100,
          100,
          100,
          100,
          100,
          100,
          100,
          100,
          100,
          100,
          100,
          100,
          100,
          100,
          100,
          100,
          100,
          100,
          100,
          100,
          100,
          100,
          100,
          100,
          100,
          100,
          100,
          100,
          100,
          100,
          100,
          100,
          100,
          100,
          100,
          100,
          100,
          100,
          100,
          100,
          100,
          100,
          100,
          100,
          100,
          100,
          100,
          100,
          100,
          100,
          100,
          100,
          100,
          100,
          100,
          100,
          100,
          100,
          100,
          100,
          100,
          100,
          100,
          100,
          100,
          100,
          100,
          100,
          100,
          100,
          100,
          100,
          100,
          100,
          100,
          100,
          100,
          100,
          100,
          100,
          100,
          100,
          100,
          100,
          100,
          100,
          100,
          100,
          100,
          100,
          100,
          100,
          100,
          100,
          100,
          100,
          100,
          100,
          100,
          100,
          100,
          100,
          100,
          100,
          100,
          100,
          100,
          100,
          100,
          100,
          100,
          100,
          100,
          100,
          100,
          100,
          100,
          100,
          100,
          100,
          100,
          100,
          100,
          100,
          100,
          100,
          100,
          100,
          100,
          100,
          100,
          100,
          100,
          100,
          100,
          100,
          100,
          100,
          100,
          100,
          100,
          100,
          100,
          100,
          100,
          100,
          100,
          100,
          100,
          100,
          100,
          100,
          100,
          100,
          100,
          100,
          100,
          100,
          100,
          100,
          100,
          100,
          100,
          100,
          100,
          100,
          100,
          100,
          500,
          500,
          500,
          500,
          500,
          500,
          500,
          500,
          500,
          500,
          500,
          500,
          500,
          500,
          500,
          500,
          500,
          500,
          500,
          500,
          500,
          500,
          500,
          500,
          500,
          500,
          500,
          500,
          500,
          500,
          500,
          500,
          500,
          500,
          500,
          500,
          500,
          500,
          500,
          500,
          500,
          500,
          500,
          500,
          500,
          500,
          500,
          500,
          500,
          500,
          500,
          500,
          500,
          500,
          500,
          500,
          500,
          500,
          500,
          500,
          500,
          500,
          500,
          500,
          500,
          500,
          500,
          500,
          500,
          500,
          500,
          500,
          500,
          500,
          500,
          500,
          500,
          500,
          500,
          500,
          500,
          500,
          500,
          500,
          500,
          500,
          500,
          500,
          500,
          500,
          500,
          500,
          500,
          500,
          500,
          500,
          500,
          500,
          500,
          500,
          500,
          500,
          500,
          500,
          500,
          500,
          500,
          500,
          500,
          500,
          500,
          500,
          500,
          500,
          500,
          500,
          500,
          500,
          500,
          500,
          500,
          500,
          500,
          500,
          500,
          500,
          500,
          500,
          500,
          500,
          500,
          500,
          500,
          500,
          500,
          500,
          500,
          500,
          500,
          500,
          500,
          500,
          500,
          500,
          500,
          500,
          500,
          500,
          500,
          500,
          500,
          500,
          500,
          500,
          500,
          500,
          500,
          500,
          500,
          500,
          500,
          500,
          500,
          1000,
          1000,
          1000,
          1000,
          1000,
          1000,
          1000,
          1000,
          1000,
          1000,
          1000,
          1000,
          1000,
          1000,
          1000,
          1000,
          1000,
          1000,
          1000,
          1000,
          1000,
          1000,
          1000,
          1000,
          1000,
          1000,
          1000,
          1000,
          1000,
          1000,
          1000,
          1000,
          1000,
          1000,
          1000,
          1000,
          1000,
          1000,
          1000,
          1000,
          1000,
          1000,
          1000,
          1000,
          1000,
          1000,
          1000,
          1000,
          1000,
          1000,
          1000,
          1000,
          1000,
          1000,
          1000,
          1000,
          1000,
          1000,
          1000,
          1000,
          1000,
          1000,
          1000,
          1000,
          1000,
          1000,
          1000,
          1000,
          1000,
          1000,
          1000,
          1000,
          1000,
          1000,
          1000,
          1000,
          1000,
          1000,
          1000,
          1000,
          1000,
          1000,
          1000,
          1000,
          1000,
          1000,
          1000,
          1000,
          1000,
          1000,
          1000,
          1000,
          1000,
          1000,
          1000,
          1000,
          1000,
          1000,
          1000,
          1000,
          1000,
          1000,
          1000,
          1000,
          1000,
          1000,
          1000,
          1000,
          1000,
          1000,
          1000,
          1000,
          1000,
          1000,
          1000,
          1000,
          1000,
          1000,
          1000,
          1000,
          1000,
          1000,
          1000,
          1000,
          1000,
          1000,
          1000,
          1000,
          1000,
          1000,
          1000,
          1000,
          1000,
          1000,
          1000,
          1000,
          1000,
          1000,
          1000,
          1000,
          1000,
          1000,
          1000,
          1000,
          1000,
          1000,
          1000,
          1000,
          1000,
          1000,
          1000,
          1000,
          1000,
          1000,
          1000,
          1000,
          1000,
          1000,
          1000,
          1000,
          1000,
          1000,
          1000,
          1000,
          1000,
          1000,
          1000,
          1000,
          1000,
          1000,
          1000,
          1000,
          1000,
          1000,
          1000,
          1000,
          1000,
          1000,
          1000,
          1000,
          1000,
          1000,
          1000,
          1000,
          1000,
          1000,
          1000,
          1000,
          1000,
          1000,
          1000,
          1000,
          1000,
          1000,
          1000,
          1000,
          1000,
          1000,
          1000,
          1000,
          1000,
          1000,
          1000,
          1000,
          1000,
          1000,
          1000,
          1000,
          1000,
          1000,
          1000,
          1000,
          1000,
          1000,
          1000,
          1000,
          1000,
          1000,
          1000,
          1000,
          1000,
          1000,
          1000,
          1000,
          1000,
          1000,
          1000,
          1000,
          1000,
          1000,
          1000,
          1000,
          1000,
          1000,
          1000,
          1000,
          1000,
          1000,
          1000,
          1000,
          1000,
          1000,
          1000,
          1000,
          1000,
          1000,
          1000,
          1000,
          1000,
          1000,
          1000,
          1000,
          1000,
          1000,
          1000,
          1000,
          1000,
          1000,
          1000,
          1000,
          1000,
          1000,
          1000,
          1000,
          1000,
          1000,
          1000,
          1000,
          1000,
          1000,
          1000,
          1000,
          1000,
          1000,
          1000,
          1000,
          1000,
          1000,
          1000,
          1000,
          1000,
          1000,
          1000,
          1000,
          1000,
          1000,
          1000,
          1000,
          1000,
          1000,
          1000,
          1000,
          1000,
          1000,
          1000,
          1000,
          1000,
          1000,
          1000,
          1000,
          1000,
          1000,
          1000,
          1000,
          1000,
          1000,
          1000,
          1000,
          1000,
          1000,
          1000,
          1000,
          1000,
          1000,
          1000,
          1000,
          1000,
          1000,
          1000,
          1000,
          1000,
          1000,
          1000,
          1000,
          1000,
          1000,
          1000,
          1000,
          1000,
          1000,
          1000,
          1000,
          1000,
          1000,
          1000,
          1000,
          1000,
          1000,
          1000,
          1000,
          1000,
          1000,
          1000,
          1000,
          1000,
          1000,
          1000,
          1000,
          1000,
          1000,
          1000,
          1000,
          1000,
          1000,
          1000,
          1000,
          1000,
          1000,
          1000,
          1000,
          1000,
          1000,
          1000,
          1000,
          1000,
          1000,
          1000,
          1000,
          1000,
          1000,
          1000,
          1000,
          1000,
          1000,
          1000,
          1000,
          1000,
          1000,
          1000,
          1000,
          1000,
          1000,
          1000,
          1000,
          1000,
          1000,
          1000,
          1000,
          1000,
          1000,
          1000,
          1000,
          1000,
          1000,
          1000,
          1000,
          1000,
          1000,
          1000,
          1000,
          1000,
          1000,
          1000,
          1000,
          1000,
          1000,
          1000,
          1000,
          1000,
          1000,
          1000,
          1000,
          1000,
          1000,
          1000,
          1000,
          1000,
          1000,
          1000,
          1000,
          1000,
          1000,
          1000,
          1000,
          1000,
          1000,
          1000,
          1000,
          1000,
          1000,
          1000,
          1000,
          1000,
          1000,
          1000,
          1000,
          1000,
          1000,
          1000,
          1000,
          1000,
          1000,
          1000,
          1000,
          1000,
          1000,
          1000,
          1000,
          1000,
          1000,
          1000,
          1000,
          1000,
          1000,
          1000,
          1000,
          1000,
          1000,
          1000,
          1000,
          1000,
          1000,
          1000,
          1000,
          1000,
          1000,
          1000,
          1000,
          1000,
          1000,
          1000,
          1000,
          1000,
          1000,
          1000,
          1000,
          1000,
          1000,
          1000,
          1000,
          1000,
          1000,
          1000,
          1000,
          1000,
          1000,
          1000,
          1000,
          1000,
          1000,
          1000,
          1000,
          1000,
          1000,
          1000,
          1000,
          1000,
          1000,
          1000,
          1000,
          1000,
          1000,
          1000,
          1000,
          1000,
          1000,
          1000,
          1000,
          1000,
          1000,
          1000,
          1000,
          1000,
          1000,
          1000,
          1000,
          1000,
          1000,
          1000,
          1000,
          1000,
          1000,
          1000,
          1000,
          1000,
          1000,
          1000,
          1000,
          1000,
          1000,
          1000,
          1000,
          1000,
          1000,
          1000,
          1000,
          1000,
          1000,
          1000,
          1000,
          1000,
          1000,
          1000,
          1000,
          1000,
          1000,
          1000,
          1000,
          1000,
          1000,
          1000,
          1000,
          1000,
          1000,
          1000,
          1000,
          1000,
          1000,
          1000,
          1000,
          1000,
          1000,
          1000,
          1000,
          1000,
          1000,
          1000,
          5000,
          5000,
          5000,
          5000,
          5000,
          5000,
          5000,
          5000,
          5000,
          5000,
          5000,
          5000,
          5000,
          5000,
          5000,
          5000,
          5000,
          5000,
          5000,
          5000,
          5000,
          5000,
          5000,
          5000,
          5000,
          5000,
          5000,
          5000,
          5000,
          5000,
          5000,
          5000,
          5000,
          5000,
          5000,
          5000,
          5000,
          5000,
          5000,
          5000,
          5000,
          5000,
          5000,
          5000,
          5000,
          5000,
          5000,
          5000,
          5000,
          5000,
          5000,
          5000,
          5000,
          5000,
          5000,
          5000,
          5000,
          5000,
          5000,
          5000,
          5000,
          5000,
          5000,
          5000,
          5000,
          5000,
          5000,
          5000,
          5000,
          5000,
          5000,
          5000,
          5000,
          5000,
          5000,
          5000,
          5000,
          5000,
          5000,
          5000,
          5000,
          5000,
          5000,
          5000,
          5000,
          5000,
          5000,
          5000,
          5000,
          5000,
          5000,
          5000,
          5000,
          5000,
          5000,
          5000,
          5000,
          5000,
          5000,
          5000,
          5000,
          5000,
          5000,
          5000,
          5000,
          5000,
          5000,
          5000,
          5000,
          5000,
          5000,
          5000,
          5000,
          5000,
          5000,
          5000,
          5000,
          5000,
          5000,
          5000,
          5000,
          5000,
          5000,
          5000,
          5000,
          5000,
          5000,
          5000,
          5000,
          5000,
          5000,
          5000,
          5000,
          5000,
          5000,
          5000,
          5000,
          5000,
          5000,
          5000,
          5000,
          5000,
          5000,
          5000,
          5000,
          5000,
          5000,
          5000,
          5000,
          5000,
          5000,
          5000,
          5000,
          5000,
          5000,
          5000,
          5000,
          5000,
          5000,
          5000,
          5000,
          5000,
          5000,
          5000,
          5000,
          5000,
          5000,
          5000,
          5000,
          5000,
          5000,
          5000,
          5000,
          5000,
          5000,
          5000,
          5000,
          5000,
          5000,
          5000,
          5000,
          5000,
          5000,
          5000,
          5000,
          5000,
          5000,
          5000,
          5000,
          5000,
          5000,
          5000,
          5000,
          5000,
          5000,
          5000,
          5000,
          5000,
          5000,
          5000,
          5000,
          5000,
          5000,
          5000,
          5000,
          5000,
          5000,
          5000,
          5000,
          5000,
          5000,
          5000,
          5000,
          5000,
          5000,
          5000,
          5000,
          5000,
          5000,
          5000,
          5000,
          5000,
          5000,
          5000,
          5000,
          5000,
          5000,
          5000,
          5000,
          5000,
          5000,
          5000,
          5000,
          5000,
          5000,
          5000,
          5000,
          5000,
          5000,
          5000,
          5000,
          5000,
          5000,
          5000,
          5000,
          5000,
          5000,
          5000,
          5000,
          5000,
          5000,
          5000,
          5000,
          5000,
          5000,
          5000,
          5000,
          5000,
          5000,
          5000,
          5000,
          5000,
          5000,
          5000,
          5000,
          5000,
          5000,
          5000,
          5000,
          5000,
          5000,
          5000,
          5000,
          5000,
          5000,
          5000,
          5000,
          5000,
          5000,
          5000,
          5000,
          5000,
          5000,
          5000,
          5000,
          5000,
          5000,
          5000,
          5000,
          5000,
          5000,
          5000,
          5000,
          5000,
          5000,
          5000,
          5000,
          5000,
          5000,
          5000,
          5000,
          5000,
          5000,
          5000,
          5000,
          5000,
          5000,
          5000,
          5000,
          5000,
          5000,
          5000,
          5000,
          5000,
          5000,
          5000,
          5000,
          5000,
          5000,
          5000,
          5000,
          5000,
          5000,
          5000,
          5000,
          5000,
          5000,
          5000,
          5000,
          5000,
          5000,
          5000,
          5000,
          5000,
          5000,
          5000,
          5000,
          5000,
          5000,
          5000,
          5000,
          5000,
          5000,
          5000,
          5000,
          5000,
          5000,
          5000,
          5000,
          5000,
          5000,
          5000,
          5000,
          5000,
          5000,
          5000,
          5000,
          5000,
          5000,
          5000,
          10000,
          10000,
          10000,
          10000,
          10000,
          10000,
          10000,
          10000,
          10000,
          10000,
          10000,
          10000,
          10000,
          10000,
          10000,
          10000,
          10000,
          10000,
          10000,
          10000,
          10000,
          10000,
          10000,
          10000,
          10000,
          10000,
          10000,
          10000,
          10000,
          10000,
          10000,
          10000,
          10000,
          10000,
          10000,
          10000,
          10000,
          10000,
          10000,
          10000,
          10000,
          10000,
          10000,
          10000,
          10000,
          10000,
          10000,
          10000,
          10000,
          10000,
          10000,
          10000,
          10000,
          10000,
          10000,
          10000,
          10000,
          10000,
          10000,
          10000,
          10000,
          10000,
          10000,
          10000,
          10000,
          10000,
          10000,
          10000,
          10000,
          10000,
          10000,
          10000,
          10000,
          10000,
          10000,
          10000,
          10000,
          10000,
          10000,
          10000,
          10000,
          10000,
          10000,
          10000,
          10000,
          10000,
          10000,
          10000,
          10000,
          10000,
          10000,
          10000,
          10000,
          10000,
          10000,
          10000,
          10000,
          10000,
          10000,
          10000,
          10000,
          10000,
          10000,
          10000,
          10000,
          10000,
          10000,
          10000,
          10000,
          10000,
          10000,
          10000,
          10000,
          10000,
          10000,
          10000,
          10000,
          10000,
          10000,
          10000,
          10000,
          10000,
          10000,
          10000,
          10000,
          10000,
          10000,
          10000,
          10000,
          10000,
          10000,
          10000,
          10000,
          10000,
          10000,
          10000,
          10000,
          10000,
          10000,
          10000,
          10000,
          10000,
          10000,
          10000,
          10000,
          10000,
          10000,
          10000,
          10000,
          10000,
          10000,
          10000,
          10000,
          10000,
          10000,
          10000,
          10000,
          10000,
          10000,
          10000,
          10000,
          10000,
          10000,
          10000,
          10000,
          10000,
          10000,
          10000,
          10000,
          10000,
          10000,
          10000,
          10000,
          10000,
          10000,
          10000,
          10000,
          10000,
          10000,
          10000,
          10000,
          10000,
          10000,
          10000,
          10000,
          10000,
          10000,
          10000,
          10000,
          10000,
          10000,
          10000,
          10000,
          10000,
          10000,
          10000,
          10000,
          10000,
          10000,
          10000,
          10000,
          10000,
          10000,
          10000,
          10000,
          10000,
          10000,
          10000,
          10000,
          10000,
          10000,
          10000,
          10000,
          10000,
          10000,
          10000,
          10000,
          10000,
          10000,
          10000,
          10000,
          10000,
          10000,
          10000,
          10000,
          10000,
          10000,
          10000,
          10000,
          10000,
          10000,
          10000,
          10000,
          10000,
          10000,
          10000,
          10000,
          10000,
          10000,
          10000,
          10000,
          10000,
          10000,
          10000,
          10000,
          10000,
          10000,
          10000,
          10000,
          10000,
          10000,
          10000,
          10000,
          10000,
          10000,
          10000,
          10000,
          10000,
          10000,
          10000,
          10000,
          10000,
          10000,
          10000,
          10000,
          10000,
          10000,
          10000,
          10000,
          10000,
          10000,
          10000,
          10000,
          10000,
          10000,
          10000,
          10000,
          10000,
          10000,
          10000,
          10000,
          10000,
          10000,
          10000,
          10000,
          10000,
          10000,
          10000,
          10000,
          10000,
          10000,
          10000,
          10000,
          10000,
          10000,
          10000,
          10000,
          10000,
          10000,
          10000,
          10000,
          10000,
          10000,
          10000,
          10000,
          10000,
          10000,
          10000,
          10000,
          10000,
          10000,
          10000,
          10000,
          10000,
          10000,
          10000,
          10000,
          10000,
          10000,
          10000,
          10000,
          10000,
          10000,
          10000,
          10000,
          10000,
          10000,
          10000,
          10000,
          10000,
          10000,
          10000,
          10000,
          10000,
          10000,
          10000,
          10000,
          10000,
          10000,
          10000,
          10000,
          10000,
          10000,
          10000,
          10000,
          10000,
          10000,
          10000,
          10000,
          10000,
          10000,
          10000,
          10000,
          10000,
          10000,
          10000,
          10000,
          10000,
          10000,
          10000,
          10000,
          10000,
          10000,
          10000,
          10000,
          10000,
          10000,
          10000,
          10000,
          10000,
          10000,
          10000,
          10000,
          10000,
          10000,
          10000,
          10000,
          10000,
          10000,
          10000,
          10000,
          10000,
          10000,
          10000,
          10000,
          10000,
          10000,
          10000,
          10000,
          10000,
          10000,
          10000,
          10000,
          10000,
          10000,
          10000,
          10000,
          10000,
          10000,
          10000,
          10000,
          10000,
          10000,
          10000,
          10000,
          10000,
          10000,
          10000,
          10000,
          10000,
          10000,
          10000,
          10000,
          10000,
          10000,
          10000,
          10000,
          10000,
          10000,
          10000,
          10000,
          10000,
          10000,
          10000,
          10000,
          10000,
          10000,
          10000,
          10000,
          10000,
          10000,
          10000,
          10000,
          10000,
          10000,
          10000,
          10000,
          10000,
          10000,
          10000,
          10000,
          10000,
          10000,
          10000,
          10000,
          10000,
          10000,
          10000,
          10000,
          10000,
          10000,
          10000,
          10000,
          10000,
          10000,
          10000,
          10000,
          10000,
          10000,
          10000,
          10000,
          10000,
          10000,
          10000,
          10000,
          10000,
          10000,
          10000,
          10000,
          10000,
          10000,
          10000,
          10000,
          10000,
          10000,
          10000,
          10000,
          10000,
          10000,
          10000,
          10000,
          10000,
          10000,
          10000,
          10000,
          10000,
          10000,
          10000,
          10000,
          10000,
          10000,
          10000,
          10000,
          10000,
          10000,
          10000,
          10000,
          10000,
          10000,
          10000,
          10000,
          10000,
          10000,
          10000,
          10000,
          10000,
          10000,
          10000,
          10000,
          10000,
          10000,
          10000,
          10000,
          10000,
          10000,
          10000,
          10000,
          10000,
          10000,
          10000,
          10000,
          10000,
          10000,
          10000,
          10000,
          10000,
          10000,
          10000,
          10000,
          10000,
          10000,
          10000,
          10000,
          10000,
          10000,
          10000,
          10000,
          10000,
          10000,
          10000,
          10000,
          10000,
          10000,
          10000,
          10000,
          10000,
          10000,
          10000,
          10000,
          10000,
          10000,
          10000,
          10000,
          10000,
          10000,
          10000,
          10000,
          10000,
          10000,
          10000,
          10000,
          10000,
          10000,
          10000,
          10000,
          10000,
          10000,
          10000,
          10000,
          10000,
          10000,
          10000,
          10000,
          10000,
          10000,
          10000,
          10000,
          10000,
          10000,
          10000,
          10000,
          10000,
          10000,
          10000,
          10000,
          10000,
          10000,
          10000,
          10000,
          10000,
          10000,
          10000,
          10000,
          10000,
          10000,
          10000,
          10000,
          10000,
          10000,
          10000,
          10000,
          10000,
          10000,
          10000,
          10000,
          10000,
          10000,
          10000,
          10000,
          10000,
          10000,
          10000,
          10000,
          10000,
          10000,
          10000,
          10000,
          10000,
          10000,
          10000,
          10000,
          10000,
          10000,
          10000,
          10000,
          10000,
          10000,
          10000,
          10000,
          10000,
          10000,
          10000,
          10000,
          10000,
          10000,
          10000,
          10000,
          10000,
          10000,
          10000,
          10000,
          10000,
          10000,
          10000,
          10000,
          10000,
          10000,
          10000,
          10000,
          10000,
          10000,
          10000,
          10000,
          10000,
          10000,
          10000,
          10000,
          10000,
          10000,
          10000,
          10000,
          10000,
          10000,
          10000,
          10000,
          10000,
          10000,
          10000,
          10000,
          10000,
          10000,
          10000,
          10000,
          10000,
          10000,
          10000,
          10000,
          10000,
          10000,
          10000,
          10000,
          10000,
          10000,
          10000,
          10000,
          10000,
          10000,
          10000,
          10000,
          10000,
          10000,
          10000,
          10000,
          10000,
          10000,
          10000,
          10000,
          10000,
          10000,
          10000,
          10000,
          10000,
          10000,
          10000,
          10000,
          10000,
          10000,
          10000,
          10000,
          10000,
          10000,
          10000,
          10000,
          10000,
          10000,
          10000,
          10000,
          10000,
          10000,
          10000,
          10000,
          10000,
          10000,
          10000,
          10000,
          10000,
          10000,
          10000,
          10000,
          10000,
          10000,
          10000,
          10000,
          10000,
          10000,
          10000,
          10000,
          10000,
          10000,
          10000,
          10000,
          10000,
          10000,
          10000,
          10000,
          10000,
          10000,
          10000,
          10000,
          10000,
          10000,
          10000,
          10000,
          10000,
          10000,
          10000,
          10000,
          10000,
          10000,
          10000,
          10000,
          10000,
          10000,
          10000,
          10000,
          10000,
          10000,
          10000,
          10000,
          10000,
          10000,
          10000,
          10000,
          10000,
          10000,
          10000,
          10000,
          10000,
          10000,
          10000,
          10000,
          10000,
          10000,
          10000,
          10000,
          10000,
          10000,
          10000,
          10000,
          10000,
          10000,
          10000,
          10000,
          10000,
          10000,
          10000,
          10000,
          10000,
          10000,
          10000,
          10000,
          10000,
          10000,
          10000,
          10000,
          10000,
          10000,
          10000,
          10000,
          10000,
          10000,
          10000,
          10000,
          10000,
          10000,
          10000,
          10000,
          10000,
          10000,
          10000,
          10000,
          10000,
          10000,
          10000,
          10000,
          10000,
          10000,
          10000,
          10000,
          10000,
          10000,
          10000,
          10000,
          10000,
          10000,
          10000,
          10000,
          10000,
          10000,
          10000,
          10000,
          10000,
          10000,
          10000,
          10000,
          10000,
          10000,
          10000,
          10000,
          10000,
          10000,
          10000,
          10000,
          10000,
          10000,
          10000,
          10000,
          10000,
          10000,
          10000,
          10000,
          10000,
          10000,
          10000,
          10000,
          10000,
          10000,
          10000,
          10000,
          10000,
          10000,
          50000,
          50000,
          50000,
          50000,
          50000,
          50000,
          50000,
          50000,
          50000,
          50000,
          50000,
          50000,
          50000,
          50000,
          50000,
          50000,
          50000,
          50000,
          50000,
          50000,
          50000,
          50000,
          50000,
          50000,
          50000,
          50000,
          50000,
          50000,
          50000,
          50000,
          50000,
          50000,
          50000,
          50000,
          50000,
          50000,
          50000,
          50000,
          50000,
          50000,
          50000,
          50000,
          50000,
          50000,
          50000,
          50000,
          50000,
          50000,
          50000,
          50000,
          50000,
          50000,
          50000,
          50000,
          50000,
          50000,
          50000,
          50000,
          50000,
          50000,
          50000,
          50000,
          50000,
          50000,
          50000,
          50000,
          50000,
          50000,
          50000,
          50000,
          50000,
          50000,
          50000,
          50000,
          50000,
          50000,
          50000,
          50000,
          50000,
          50000,
          50000,
          50000,
          50000,
          50000,
          50000,
          50000,
          50000,
          50000,
          50000,
          50000,
          50000,
          50000,
          50000,
          50000,
          50000,
          50000,
          50000,
          50000,
          50000,
          50000,
          50000,
          50000,
          50000,
          50000,
          50000,
          50000,
          50000,
          50000,
          50000,
          50000,
          50000,
          50000,
          50000,
          50000,
          50000,
          50000,
          50000,
          50000,
          50000,
          50000,
          50000,
          50000,
          50000,
          50000,
          50000,
          50000,
          50000,
          50000,
          50000,
          50000,
          50000,
          50000,
          50000,
          50000,
          50000,
          50000,
          50000,
          50000,
          50000,
          50000,
          50000,
          50000,
          50000,
          50000,
          50000,
          50000,
          50000,
          50000,
          50000,
          50000,
          50000,
          50000,
          50000,
          50000,
          50000,
          50000,
          50000,
          50000,
          50000,
          50000,
          50000,
          50000,
          50000,
          50000,
          50000,
          50000,
          50000,
          50000,
          50000,
          50000,
          50000,
          50000,
          50000,
          50000,
          50000,
          50000,
          50000,
          50000,
          50000,
          50000,
          50000,
          50000,
          50000,
          50000,
          50000,
          50000,
          50000,
          50000,
          50000,
          50000,
          50000,
          50000,
          50000,
          50000,
          50000,
          50000,
          50000,
          50000,
          50000,
          50000,
          50000,
          50000,
          50000,
          50000,
          50000,
          50000,
          50000,
          50000,
          50000,
          50000,
          50000,
          50000,
          50000,
          50000,
          50000,
          50000,
          50000,
          50000,
          50000,
          50000,
          50000,
          50000,
          50000,
          50000,
          50000,
          50000,
          50000,
          50000,
          50000,
          50000,
          50000,
          50000,
          50000,
          50000,
          50000,
          50000,
          50000,
          50000,
          50000,
          50000,
          50000,
          50000,
          50000,
          50000,
          50000,
          50000,
          50000,
          50000,
          50000,
          50000,
          50000,
          50000,
          50000,
          50000,
          50000,
          50000,
          50000,
          50000,
          50000,
          50000,
          50000,
          50000,
          50000,
          50000,
          50000,
          50000,
          50000,
          50000,
          50000,
          50000,
          50000,
          50000,
          50000,
          50000,
          50000,
          50000,
          50000,
          50000,
          50000,
          50000,
          50000,
          50000,
          50000,
          50000,
          50000,
          50000,
          50000,
          50000,
          50000,
          50000,
          50000,
          50000,
          50000,
          50000,
          50000,
          50000,
          50000,
          50000,
          50000,
          50000,
          50000,
          50000,
          50000,
          50000,
          50000,
          50000,
          50000,
          50000,
          50000,
          50000,
          50000,
          50000,
          50000,
          50000,
          50000,
          50000,
          50000,
          50000,
          50000,
          50000,
          50000,
          50000,
          50000,
          50000,
          50000,
          50000,
          50000,
          50000,
          50000,
          50000,
          50000,
          50000,
          50000,
          50000,
          50000,
          50000,
          50000,
          50000,
          50000,
          50000,
          50000,
          50000,
          50000,
          50000,
          50000,
          50000,
          50000,
          50000,
          50000,
          50000,
          50000,
          50000,
          50000,
          50000,
          50000,
          50000,
          50000,
          50000,
          50000,
          50000,
          50000,
          50000,
          50000,
          50000,
          50000,
          50000,
          50000,
          50000,
          50000,
          50000,
          50000,
          50000,
          50000,
          50000,
          50000,
          50000,
          50000,
          50000,
          50000,
          50000,
          50000,
          50000,
          50000,
          50000,
          50000,
          50000,
          50000,
          50000,
          50000,
          50000,
          50000,
          50000,
          50000,
          50000,
          50000,
          50000,
          50000,
          50000,
          50000,
          50000,
          50000,
          50000,
          50000,
          50000,
          50000,
          50000,
          50000,
          50000,
          50000,
          50000,
          50000,
          50000,
          50000,
          50000,
          50000,
          50000,
          50000,
          100000,
          100000,
          100000,
          100000,
          100000,
          100000,
          100000,
          100000,
          100000,
          100000,
          100000,
          100000,
          100000,
          100000,
          100000,
          100000,
          100000,
          100000,
          100000,
          100000,
          100000,
          100000,
          100000,
          100000,
          100000,
          100000,
          100000,
          100000,
          100000,
          100000,
          100000,
          100000,
          100000,
          100000,
          100000,
          100000,
          100000,
          100000,
          100000,
          100000,
          100000,
          100000,
          100000,
          100000,
          100000,
          100000,
          100000,
          100000,
          100000,
          100000,
          100000,
          100000,
          100000,
          100000,
          100000,
          100000,
          100000,
          100000,
          100000,
          100000,
          100000,
          100000,
          100000,
          100000,
          100000,
          100000,
          100000,
          100000,
          100000,
          100000,
          100000,
          100000,
          100000,
          100000,
          100000,
          100000,
          100000,
          100000,
          100000,
          100000,
          100000,
          100000,
          100000,
          100000,
          100000,
          100000,
          100000,
          100000,
          100000,
          100000,
          100000,
          100000,
          100000,
          100000,
          100000,
          100000,
          100000,
          100000,
          100000,
          100000,
          100000,
          100000,
          100000,
          100000,
          100000,
          100000,
          100000,
          100000,
          100000,
          100000,
          100000,
          100000,
          100000,
          100000,
          100000,
          100000,
          100000,
          100000,
          100000,
          100000,
          100000,
          100000,
          100000,
          100000,
          100000,
          100000,
          100000,
          100000,
          100000,
          100000,
          100000,
          100000,
          100000,
          100000,
          100000,
          100000,
          100000,
          100000,
          100000,
          100000,
          100000,
          100000,
          100000,
          100000,
          100000,
          100000,
          100000,
          100000,
          100000,
          100000,
          100000,
          100000,
          100000,
          100000,
          100000,
          100000,
          100000,
          100000,
          100000,
          100000,
          100000,
          100000,
          100000,
          100000,
          100000,
          100000,
          100000,
          100000,
          100000,
          100000,
          100000,
          100000,
          100000,
          100000,
          100000,
          100000,
          100000,
          100000,
          100000,
          100000,
          100000,
          100000,
          100000,
          100000,
          100000,
          100000,
          100000,
          100000,
          100000,
          100000,
          100000,
          100000,
          100000,
          100000,
          100000,
          100000,
          100000,
          100000,
          100000,
          100000,
          100000,
          100000,
          100000,
          100000,
          100000,
          100000,
          100000,
          100000,
          100000,
          100000,
          100000,
          100000,
          100000,
          100000,
          100000,
          100000,
          100000,
          100000,
          100000,
          100000,
          100000,
          100000,
          100000,
          100000,
          100000,
          100000,
          100000,
          100000,
          100000,
          100000,
          100000,
          100000,
          100000,
          100000,
          100000,
          100000,
          100000,
          100000,
          100000,
          100000,
          100000,
          100000,
          100000,
          100000,
          100000,
          100000,
          100000,
          100000,
          100000,
          100000,
          100000,
          100000,
          100000,
          100000,
          100000,
          100000,
          100000,
          100000,
          100000,
          100000,
          100000,
          100000,
          100000,
          100000,
          100000,
          100000,
          100000,
          100000,
          100000,
          100000,
          100000,
          100000,
          100000,
          100000,
          100000,
          100000,
          100000,
          100000,
          100000,
          100000,
          100000,
          100000,
          100000,
          100000,
          100000,
          100000,
          100000,
          100000,
          100000,
          100000,
          100000,
          100000,
          100000,
          100000,
          100000,
          100000,
          100000,
          100000,
          100000,
          100000,
          100000,
          100000,
          100000,
          100000,
          100000,
          100000,
          100000,
          100000,
          100000,
          100000,
          100000,
          100000,
          100000,
          100000,
          100000,
          100000,
          100000,
          100000,
          100000,
          100000,
          100000,
          100000,
          100000,
          100000,
          100000,
          100000,
          100000,
          100000,
          100000,
          100000,
          100000,
          100000,
          100000,
          100000,
          100000,
          100000,
          100000,
          100000,
          100000,
          100000,
          100000,
          100000,
          100000,
          100000,
          100000,
          100000,
          100000,
          100000,
          100000,
          100000,
          100000,
          100000,
          100000,
          100000,
          100000,
          100000,
          100000,
          100000,
          100000,
          100000,
          100000,
          100000,
          100000,
          100000,
          100000,
          100000,
          100000,
          100000,
          100000,
          100000,
          100000,
          100000,
          100000,
          100000,
          100000,
          100000,
          100000,
          100000,
          100000,
          100000,
          100000,
          100000,
          100000,
          100000,
          100000,
          100000,
          100000,
          100000,
          100000,
          100000,
          100000,
          100000,
          100000,
          100000,
          100000,
          100000,
          100000,
          100000,
          100000,
          100000,
          100000,
          100000,
          100000,
          100000,
          100000,
          100000,
          100000,
          100000,
          100000,
          100000,
          100000,
          100000,
          100000,
          100000,
          100000,
          100000,
          100000,
          100000,
          100000,
          100000,
          100000,
          100000,
          100000,
          100000,
          100000,
          100000,
          100000,
          100000,
          100000,
          100000,
          100000,
          100000,
          100000,
          100000,
          100000,
          100000,
          100000,
          100000,
          100000,
          100000,
          100000,
          100000,
          100000,
          100000,
          100000,
          100000,
          100000,
          100000,
          100000,
          100000,
          100000,
          100000,
          100000,
          100000,
          100000,
          100000,
          100000,
          100000,
          100000,
          100000,
          100000,
          100000,
          100000,
          100000,
          100000,
          100000,
          100000,
          100000,
          100000,
          100000,
          100000,
          100000,
          100000,
          100000,
          100000,
          100000,
          100000,
          100000,
          100000,
          100000,
          100000,
          100000,
          100000,
          100000,
          100000,
          100000,
          100000,
          100000,
          100000,
          100000,
          100000,
          100000,
          100000,
          100000,
          100000,
          100000,
          100000,
          100000,
          100000,
          100000,
          100000,
          100000,
          100000,
          100000,
          100000,
          100000,
          100000,
          100000,
          100000,
          100000,
          100000,
          100000,
          100000,
          100000,
          100000,
          100000,
          100000,
          100000,
          100000,
          100000,
          100000,
          100000,
          100000,
          100000,
          100000,
          100000,
          100000,
          100000,
          100000,
          100000,
          100000,
          100000,
          100000,
          100000,
          100000,
          100000,
          100000,
          100000,
          100000,
          100000,
          100000,
          100000,
          100000,
          100000,
          100000,
          100000,
          100000,
          100000,
          100000,
          100000,
          100000,
          100000,
          100000,
          100000,
          100000,
          100000,
          100000,
          100000,
          100000,
          100000,
          100000,
          100000,
          100000,
          100000,
          100000,
          100000,
          100000,
          100000,
          100000,
          100000,
          100000,
          100000,
          100000,
          100000,
          100000,
          100000,
          100000,
          100000,
          100000,
          100000,
          100000,
          100000,
          100000,
          100000,
          100000,
          100000,
          100000,
          100000,
          100000,
          100000,
          100000,
          100000,
          100000,
          100000,
          100000,
          100000,
          100000,
          100000,
          100000,
          100000,
          100000,
          100000,
          100000,
          100000,
          100000,
          100000,
          100000,
          100000,
          100000,
          100000,
          100000,
          100000,
          100000,
          100000,
          100000,
          100000,
          100000,
          100000,
          100000,
          100000,
          100000,
          100000,
          100000,
          100000,
          100000,
          100000,
          100000,
          100000,
          100000,
          100000,
          100000,
          100000,
          100000,
          100000,
          100000,
          100000,
          100000,
          100000,
          100000,
          100000,
          100000,
          100000,
          100000,
          100000,
          100000,
          100000,
          100000,
          100000,
          100000,
          100000,
          100000,
          100000,
          100000,
          100000,
          100000,
          100000,
          100000,
          100000,
          100000,
          100000,
          100000,
          100000,
          100000,
          100000,
          100000,
          100000,
          100000,
          100000,
          100000,
          100000,
          100000,
          100000,
          100000,
          100000,
          100000,
          100000,
          100000,
          100000,
          100000,
          100000,
          100000,
          100000,
          100000,
          100000,
          100000,
          100000,
          100000,
          100000,
          100000,
          100000,
          100000,
          100000,
          100000,
          100000,
          100000,
          100000,
          100000,
          100000,
          100000,
          100000,
          100000,
          100000,
          100000,
          100000,
          100000,
          100000,
          100000,
          100000,
          100000,
          100000,
          100000,
          100000,
          100000,
          100000,
          100000,
          100000,
          100000,
          100000,
          100000,
          100000,
          100000,
          100000,
          100000,
          100000,
          100000,
          100000,
          100000,
          100000,
          100000,
          100000,
          100000,
          100000,
          100000,
          100000,
          100000,
          100000,
          100000,
          100000,
          100000,
          100000,
          100000,
          100000,
          100000,
          100000,
          100000,
          100000,
          100000,
          100000,
          100000,
          100000,
          100000,
          100000,
          100000,
          100000,
          100000,
          100000,
          100000,
          100000,
          100000,
          100000,
          100000,
          100000,
          100000,
          100000,
          100000,
          100000,
          100000,
          100000,
          100000,
          100000,
          100000,
          100000,
          100000,
          100000,
          100000,
          100000,
          100000,
          100000,
          100000,
          100000,
          100000,
          100000,
          100000,
          100000,
          100000,
          100000,
          100000,
          100000,
          100000,
          100000,
          100000,
          100000,
          100000,
          100000,
          100000,
          100000,
          100000,
          100000,
          100000,
          100000,
          100000,
          100000,
          100000,
          100000,
          100000,
          100000,
          100000,
          100000,
          100000,
          100000,
          100000,
          100000,
          100000,
          100000,
          100000,
          100000,
          100000,
          100000,
          100000,
          100000,
          100000,
          100000,
          100000,
          100000,
          100000,
          100000,
          100000,
          100000,
          100000,
          100000,
          100000,
          100000,
          100000,
          100000,
          100000,
          100000,
          100000,
          100000,
          100000,
          100000,
          100000,
          100000,
          100000,
          100000,
          100000,
          100000,
          100000,
          100000,
          100000,
          100000,
          100000,
          100000,
          100000,
          100000,
          100000,
          100000,
          100000,
          100000,
          100000,
          100000,
          100000,
          100000,
          100000,
          100000,
          100000,
          100000,
          100000,
          100000,
          100000,
          100000,
          100000,
          100000,
          100000,
          100000,
          100000,
          100000,
          100000,
          100000,
          100000,
          100000,
          100000,
          100000,
          100000,
          100000,
          100000,
          100000,
          100000,
          100000,
          100000,
          100000,
          100000,
          100000,
          100000,
          100000,
          100000,
          100000,
          100000,
          100000,
          100000,
          100000,
          100000,
          100000,
          100000,
          100000,
          100000,
          100000,
          100000,
          100000,
          100000,
          100000,
          100000,
          100000,
          100000,
          100000,
          100000,
          100000,
          100000,
          100000,
          100000,
          100000,
          100000,
          100000,
          100000,
          100000,
          100000,
          100000,
          100000,
          100000,
          100000,
          100000,
          100000,
          100000,
          100000,
          100000,
          100000,
          100000,
          100000,
          100000,
          100000,
          100000,
          100000,
          100000,
          100000,
          100000,
          100000,
          100000,
          100000,
          100000,
          100000,
          100000,
          100000,
          100000,
          100000,
          100000,
          100000,
          100000,
          100000,
          100000,
          100000,
          100000,
          100000,
          100000,
          100000,
          100000,
          100000,
          100000,
          100000,
          100000,
          100000,
          100000,
          100000,
          100000,
          100000,
          100000,
          100000,
          100000,
          100000,
          100000,
          100000,
          100000,
          100000,
          100000,
          100000,
          100000,
          100000,
          100000,
          100000,
          100000,
          100000,
          100000,
          100000,
          100000,
          100000,
          100000,
          100000,
          100000,
          100000,
          100000,
          100000,
          100000,
          100000,
          100000,
          100000,
          100000,
          100000,
          100000,
          100000,
          100000,
          100000,
          100000,
          100000,
          100000,
          100000,
          100000,
          500000,
          500000,
          500000,
          500000,
          500000,
          500000,
          500000,
          500000,
          500000,
          500000,
          500000,
          500000,
          500000,
          500000,
          500000,
          500000,
          500000,
          500000,
          500000,
          500000,
          500000,
          500000,
          500000,
          500000,
          500000,
          500000,
          500000,
          500000,
          500000,
          500000,
          500000,
          500000,
          500000,
          500000,
          500000,
          500000,
          500000,
          500000,
          500000,
          500000,
          500000,
          500000,
          500000,
          500000,
          500000,
          500000,
          500000,
          500000,
          500000,
          500000,
          500000,
          500000,
          500000,
          500000,
          500000,
          500000,
          500000,
          500000,
          500000,
          500000,
          500000,
          500000,
          500000,
          500000,
          500000,
          500000,
          500000,
          500000,
          500000,
          500000,
          500000,
          500000,
          500000,
          500000,
          500000,
          500000,
          500000,
          500000,
          500000,
          500000,
          500000,
          500000,
          500000,
          500000,
          500000,
          500000,
          500000,
          500000,
          500000,
          500000,
          500000,
          500000,
          500000,
          500000,
          500000,
          500000,
          500000,
          500000,
          500000,
          500000,
          500000,
          500000,
          500000,
          500000,
          500000,
          500000,
          500000,
          500000,
          500000,
          500000,
          500000,
          500000,
          500000,
          500000,
          500000,
          500000,
          500000,
          500000,
          500000,
          500000,
          500000,
          500000,
          500000,
          500000,
          500000,
          500000,
          500000,
          500000,
          500000,
          500000,
          500000,
          500000,
          500000,
          500000,
          500000,
          500000,
          500000,
          500000,
          500000,
          500000,
          500000,
          500000,
          500000,
          500000,
          500000,
          500000,
          500000,
          500000,
          500000,
          500000,
          500000,
          500000,
          500000,
          500000,
          500000,
          500000,
          500000,
          500000,
          500000,
          500000,
          500000,
          500000,
          500000,
          500000,
          500000,
          500000,
          500000,
          500000,
          500000,
          500000,
          500000,
          500000,
          500000,
          500000,
          500000,
          500000,
          500000,
          500000,
          500000,
          500000,
          500000,
          500000,
          500000,
          500000,
          500000,
          500000,
          500000,
          500000,
          500000,
          500000,
          500000,
          500000,
          500000,
          500000,
          500000,
          500000,
          500000,
          500000,
          500000,
          500000,
          500000,
          500000,
          500000,
          500000,
          500000,
          500000,
          500000,
          500000,
          500000,
          500000,
          500000,
          500000,
          500000,
          500000,
          500000,
          500000,
          500000,
          500000,
          500000,
          500000,
          500000,
          500000,
          500000,
          500000,
          500000,
          500000,
          500000,
          500000,
          500000,
          500000,
          500000,
          500000,
          500000,
          500000,
          500000,
          500000,
          500000,
          500000,
          500000,
          500000,
          500000,
          500000,
          500000,
          500000,
          500000,
          500000,
          500000,
          500000,
          500000,
          500000,
          500000,
          500000,
          500000,
          500000,
          500000,
          500000,
          500000,
          500000,
          500000,
          500000,
          500000,
          500000,
          500000,
          500000,
          500000,
          500000,
          500000,
          500000,
          500000,
          500000,
          500000,
          500000,
          500000,
          500000,
          500000,
          500000,
          500000,
          500000,
          500000,
          500000,
          500000,
          500000,
          500000,
          500000,
          500000,
          500000,
          500000,
          500000,
          500000,
          500000,
          500000,
          500000,
          500000,
          500000,
          500000,
          500000,
          500000,
          500000,
          500000,
          500000,
          500000,
          500000,
          500000,
          500000,
          500000,
          500000,
          500000,
          500000,
          500000,
          500000,
          500000,
          500000,
          500000,
          500000,
          500000,
          500000,
          500000,
          500000,
          500000,
          500000,
          500000,
          500000,
          500000,
          500000,
          500000,
          500000,
          500000,
          500000,
          500000,
          500000,
          500000,
          500000,
          500000,
          500000,
          500000,
          500000,
          500000,
          500000,
          500000,
          500000,
          500000,
          500000,
          500000,
          500000,
          500000,
          500000,
          500000,
          500000,
          500000,
          500000,
          500000,
          500000,
          500000,
          500000,
          500000,
          500000,
          500000,
          500000,
          500000,
          500000,
          500000,
          500000,
          500000,
          500000,
          500000,
          500000,
          500000,
          500000,
          500000,
          500000,
          500000,
          500000,
          500000,
          500000,
          500000,
          500000,
          500000,
          500000,
          500000,
          500000,
          500000,
          500000,
          500000,
          500000,
          500000,
          500000,
          500000,
          500000,
          500000,
          500000,
          500000,
          500000,
          500000,
          500000,
          500000,
          500000,
          500000,
          500000,
          500000,
          500000,
          500000,
          500000,
          500000,
          500000,
          500000,
          500000,
          500000,
          500000,
          500000,
          500000,
          500000,
          500000,
          500000,
          500000,
          500000,
          500000,
          500000,
          500000,
          500000,
          500000,
          500000,
          500000,
          500000,
          500000,
          500000,
          500000,
          500000,
          500000,
          500000,
          500000,
          500000,
          500000,
          500000,
          500000,
          500000,
          500000,
          500000,
          500000,
          500000,
          500000,
          500000,
          500000,
          500000,
          500000,
          500000,
          500000,
          500000,
          500000,
          500000,
          500000,
          500000,
          500000,
          500000,
          500000,
          500000,
          500000,
          500000,
          500000,
          500000,
          500000,
          500000,
          500000,
          500000,
          500000,
          500000,
          500000,
          500000,
          500000,
          500000,
          500000,
          500000,
          500000,
          500000,
          500000,
          500000,
          500000,
          500000,
          500000,
          500000,
          500000,
          500000,
          500000,
          500000,
          500000,
          500000,
          500000,
          500000,
          500000,
          500000,
          500000,
          500000,
          500000,
          500000,
          1000000,
          1000000,
          1000000,
          1000000,
          1000000,
          1000000,
          1000000,
          1000000,
          1000000,
          1000000,
          1000000,
          1000000,
          1000000,
          1000000,
          1000000,
          1000000,
          1000000,
          1000000,
          1000000,
          1000000,
          1000000,
          1000000,
          1000000,
          1000000,
          1000000,
          1000000,
          1000000,
          1000000,
          1000000,
          1000000,
          1000000,
          1000000,
          1000000,
          1000000,
          1000000,
          1000000,
          1000000,
          1000000,
          1000000,
          1000000,
          1000000,
          1000000,
          1000000,
          1000000,
          1000000,
          1000000,
          1000000,
          1000000,
          1000000,
          1000000,
          1000000,
          1000000,
          1000000,
          1000000,
          1000000,
          1000000,
          1000000,
          1000000,
          1000000,
          1000000,
          1000000,
          1000000,
          1000000,
          1000000,
          1000000,
          1000000,
          1000000,
          1000000,
          1000000,
          1000000,
          1000000,
          1000000,
          1000000,
          1000000,
          1000000,
          1000000,
          1000000,
          1000000,
          1000000,
          1000000,
          1000000,
          1000000,
          1000000,
          1000000,
          1000000,
          1000000,
          1000000,
          1000000,
          1000000,
          1000000,
          1000000,
          1000000,
          1000000,
          1000000,
          1000000,
          1000000,
          1000000,
          1000000,
          1000000,
          1000000,
          1000000,
          1000000,
          1000000,
          1000000,
          1000000,
          1000000,
          1000000,
          1000000,
          1000000,
          1000000,
          1000000,
          1000000,
          1000000,
          1000000,
          1000000,
          1000000,
          1000000,
          1000000,
          1000000,
          1000000,
          1000000,
          1000000,
          1000000,
          1000000,
          1000000,
          1000000,
          1000000,
          1000000,
          1000000,
          1000000,
          1000000,
          1000000,
          1000000,
          1000000,
          1000000,
          1000000,
          1000000,
          1000000,
          1000000,
          1000000,
          1000000,
          1000000,
          1000000,
          1000000,
          1000000,
          1000000,
          1000000,
          1000000,
          1000000,
          1000000,
          1000000,
          1000000,
          1000000,
          1000000,
          1000000,
          1000000,
          1000000,
          1000000,
          1000000,
          1000000,
          1000000,
          1000000,
          1000000,
          1000000,
          1000000,
          1000000,
          1000000,
          1000000,
          1000000,
          1000000,
          1000000,
          1000000,
          1000000,
          1000000,
          1000000,
          1000000,
          1000000,
          1000000,
          1000000,
          1000000,
          1000000,
          1000000,
          1000000,
          1000000,
          1000000,
          1000000,
          1000000,
          1000000,
          1000000,
          1000000,
          1000000,
          1000000,
          1000000,
          1000000,
          1000000,
          1000000,
          1000000,
          1000000,
          1000000,
          1000000,
          1000000,
          1000000,
          1000000,
          1000000,
          1000000,
          1000000,
          1000000,
          1000000,
          1000000,
          1000000,
          1000000,
          1000000,
          1000000,
          1000000,
          1000000,
          1000000,
          1000000,
          1000000,
          1000000,
          1000000,
          1000000,
          1000000,
          1000000,
          1000000,
          1000000,
          1000000,
          1000000,
          1000000,
          1000000,
          1000000,
          1000000,
          1000000,
          1000000,
          1000000,
          1000000,
          1000000,
          1000000,
          1000000,
          1000000,
          1000000,
          1000000,
          1000000,
          1000000,
          1000000,
          1000000,
          1000000,
          1000000,
          1000000,
          1000000,
          1000000,
          1000000,
          1000000,
          1000000,
          1000000,
          1000000,
          1000000,
          1000000,
          1000000,
          1000000,
          1000000,
          1000000,
          1000000,
          1000000,
          1000000,
          1000000,
          1000000,
          1000000,
          1000000,
          1000000,
          1000000,
          1000000,
          1000000,
          1000000,
          1000000,
          1000000,
          1000000,
          1000000,
          1000000,
          1000000,
          1000000,
          1000000,
          1000000,
          1000000,
          1000000,
          1000000,
          1000000,
          1000000,
          1000000,
          1000000,
          1000000,
          1000000,
          1000000,
          1000000,
          1000000,
          1000000,
          1000000,
          1000000,
          1000000,
          1000000,
          1000000,
          1000000,
          1000000,
          1000000,
          1000000,
          1000000,
          1000000,
          1000000,
          1000000,
          1000000,
          1000000,
          1000000,
          1000000,
          1000000,
          1000000,
          1000000,
          1000000,
          1000000,
          1000000,
          1000000,
          1000000,
          1000000,
          1000000,
          1000000,
          1000000,
          1000000,
          1000000,
          1000000,
          1000000,
          1000000,
          1000000,
          1000000,
          1000000,
          1000000,
          1000000,
          1000000,
          1000000,
          1000000,
          1000000,
          1000000,
          1000000,
          1000000,
          1000000,
          1000000,
          1000000,
          1000000,
          1000000,
          1000000,
          1000000,
          1000000,
          1000000,
          1000000,
          1000000,
          1000000,
          1000000,
          1000000,
          1000000,
          1000000,
          1000000,
          1000000,
          1000000,
          1000000,
          1000000,
          1000000,
          1000000,
          1000000,
          1000000,
          1000000,
          1000000,
          1000000,
          1000000,
          1000000,
          1000000,
          1000000,
          1000000,
          1000000,
          1000000,
          1000000,
          1000000,
          1000000,
          1000000,
          1000000,
          1000000,
          1000000,
          1000000,
          1000000,
          1000000,
          1000000,
          1000000,
          1000000,
          1000000,
          1000000,
          1000000,
          1000000,
          1000000,
          1000000,
          1000000,
          1000000,
          1000000,
          1000000,
          1000000,
          1000000,
          1000000,
          1000000,
          1000000,
          1000000,
          1000000,
          1000000,
          1000000,
          1000000,
          1000000,
          1000000,
          1000000,
          1000000,
          1000000,
          1000000,
          1000000,
          1000000,
          1000000,
          1000000,
          1000000,
          1000000,
          1000000,
          1000000,
          1000000,
          1000000,
          1000000,
          1000000,
          1000000,
          1000000,
          1000000,
          1000000,
          1000000,
          1000000,
          1000000,
          1000000,
          1000000,
          1000000,
          1000000,
          1000000,
          1000000,
          1000000,
          1000000,
          1000000,
          1000000,
          1000000,
          1000000,
          1000000,
          1000000,
          1000000,
          1000000,
          1000000,
          1000000,
          1000000,
          1000000,
          1000000,
          1000000,
          1000000,
          1000000,
          1000000,
          1000000,
          1000000,
          1000000,
          1000000,
          1000000,
          1000000,
          1000000,
          1000000,
          1000000,
          1000000,
          1000000,
          1000000,
          1000000,
          1000000,
          1000000,
          1000000,
          1000000,
          1000000,
          1000000,
          1000000,
          1000000,
          1000000,
          1000000,
          1000000,
          1000000,
          1000000,
          1000000,
          1000000,
          1000000,
          1000000,
          1000000,
          1000000,
          1000000,
          1000000,
          1000000,
          1000000,
          1000000,
          1000000,
          1000000,
          1000000,
          1000000,
          1000000,
          1000000,
          1000000,
          1000000,
          1000000,
          1000000,
          1000000,
          1000000,
          1000000,
          1000000,
          1000000,
          1000000,
          1000000,
          1000000,
          1000000,
          1000000,
          1000000,
          1000000,
          1000000,
          1000000,
          1000000,
          1000000,
          1000000,
          1000000,
          1000000,
          1000000,
          1000000,
          1000000,
          1000000,
          1000000,
          1000000,
          1000000,
          1000000,
          1000000,
          1000000,
          1000000,
          1000000,
          1000000,
          1000000,
          1000000,
          1000000,
          1000000,
          1000000,
          1000000,
          1000000,
          1000000,
          1000000,
          1000000,
          1000000,
          1000000,
          1000000,
          1000000,
          1000000,
          1000000,
          1000000,
          1000000,
          1000000,
          1000000,
          1000000,
          1000000,
          1000000,
          1000000,
          1000000,
          1000000,
          1000000,
          1000000,
          1000000,
          1000000,
          1000000,
          1000000,
          1000000,
          1000000,
          1000000,
          1000000,
          1000000,
          1000000,
          1000000,
          1000000,
          1000000,
          1000000,
          1000000,
          1000000,
          1000000,
          1000000,
          1000000,
          1000000,
          1000000,
          1000000,
          1000000,
          1000000,
          1000000,
          1000000,
          1000000,
          1000000,
          1000000,
          1000000,
          1000000,
          1000000,
          1000000,
          1000000,
          1000000,
          1000000,
          1000000,
          1000000,
          1000000,
          1000000,
          1000000,
          1000000,
          1000000,
          1000000,
          1000000,
          1000000,
          1000000,
          1000000,
          1000000,
          1000000,
          1000000,
          1000000,
          1000000,
          1000000,
          1000000,
          1000000,
          1000000,
          1000000,
          1000000,
          1000000,
          1000000,
          1000000,
          1000000,
          1000000,
          1000000,
          1000000,
          1000000,
          1000000,
          1000000,
          1000000,
          1000000,
          1000000,
          1000000,
          1000000,
          1000000,
          1000000,
          1000000,
          1000000,
          1000000,
          1000000,
          1000000,
          1000000,
          1000000,
          1000000,
          1000000,
          1000000,
          1000000,
          1000000,
          1000000,
          1000000,
          1000000,
          1000000,
          1000000,
          1000000,
          1000000,
          1000000,
          1000000,
          1000000,
          1000000,
          1000000,
          1000000,
          1000000,
          1000000,
          1000000,
          1000000,
          1000000,
          1000000,
          1000000,
          1000000,
          1000000,
          1000000,
          1000000,
          1000000,
          1000000,
          1000000,
          1000000,
          1000000,
          1000000,
          1000000,
          1000000,
          1000000,
          1000000,
          1000000,
          1000000,
          1000000,
          1000000,
          1000000,
          1000000,
          1000000,
          1000000,
          1000000,
          1000000,
          1000000,
          1000000,
          1000000,
          1000000,
          1000000,
          1000000,
          1000000,
          1000000,
          1000000,
          1000000,
          1000000,
          1000000,
          1000000,
          1000000,
          1000000,
          1000000,
          1000000,
          1000000,
          1000000,
          1000000,
          1000000,
          1000000,
          1000000,
          1000000,
          1000000,
          1000000,
          1000000,
          1000000,
          1000000,
          1000000,
          1000000,
          1000000,
          1000000,
          1000000,
          1000000,
          1000000,
          1000000,
          1000000,
          1000000,
          1000000,
          1000000,
          1000000,
          1000000,
          1000000,
          1000000,
          1000000,
          1000000,
          1000000,
          1000000,
          1000000,
          1000000,
          1000000,
          1000000,
          1000000,
          1000000,
          1000000,
          1000000,
          1000000,
          1000000,
          1000000,
          1000000,
          1000000,
          1000000,
          1000000,
          1000000,
          1000000,
          1000000,
          1000000,
          1000000,
          1000000,
          1000000,
          1000000,
          1000000,
          1000000,
          1000000,
          1000000,
          1000000,
          1000000,
          1000000,
          1000000,
          1000000,
          1000000,
          1000000,
          1000000,
          1000000,
          1000000,
          1000000,
          1000000,
          1000000,
          1000000,
          1000000,
          1000000,
          1000000,
          1000000,
          1000000,
          1000000,
          1000000,
          1000000,
          1000000,
          1000000,
          1000000,
          1000000,
          1000000,
          1000000,
          1000000,
          1000000,
          1000000,
          1000000,
          1000000,
          1000000,
          1000000,
          1000000,
          1000000,
          1000000,
          1000000,
          1000000,
          1000000,
          1000000,
          1000000,
          1000000,
          1000000,
          1000000,
          1000000,
          1000000,
          1000000,
          1000000,
          1000000,
          1000000,
          1000000,
          1000000,
          1000000,
          1000000,
          1000000,
          1000000,
          1000000,
          1000000,
          1000000,
          1000000,
          1000000,
          1000000,
          1000000,
          1000000,
          1000000,
          1000000,
          1000000,
          1000000,
          1000000,
          1000000,
          1000000,
          1000000,
          1000000,
          1000000,
          1000000,
          1000000,
          1000000,
          1000000,
          1000000,
          1000000,
          1000000,
          1000000,
          1000000,
          1000000,
          1000000,
          1000000,
          1000000,
          1000000,
          1000000,
          1000000,
          1000000,
          1000000,
          1000000,
          1000000,
          1000000,
          1000000,
          1000000,
          1000000,
          1000000,
          1000000,
          1000000,
          1000000,
          1000000,
          1000000,
          1000000,
          1000000,
          1000000,
          1000000,
          1000000,
          1000000,
          1000000,
          1000000,
          1000000,
          1000000,
          1000000,
          1000000,
          1000000,
          1000000,
          1000000,
          1000000,
          1000000,
          1000000,
          1000000,
          1000000,
          1000000,
          1000000,
          1000000,
          1000000,
          1000000,
          1000000,
          1000000,
          1000000,
          1000000,
          1000000,
          1000000,
          1000000,
          1000000,
          1000000,
          1000000,
          1000000,
          1000000,
          1000000,
          1000000,
          1000000,
          1000000,
          1000000,
          1000000,
          1000000,
          1000000,
          1000000,
          1000000,
          1000000,
          1000000,
          1000000,
          1000000,
          1000000,
          1000000,
          1000000,
          1000000,
          1000000,
          1000000,
          1000000,
          1000000,
          1000000,
          1000000,
          1000000,
          1000000,
          1000000,
          1000000,
          1000000,
          1000000,
          1000000,
          1000000,
          1000000,
          1000000,
          1000000,
          1000000,
          1000000,
          1000000,
          1000000,
          1000000,
          1000000,
          1000000,
          1000000,
          1000000,
          1000000,
          1000000,
          1000000,
          1000000,
          1000000,
          1000000,
          1000000,
          1000000,
          1000000,
          1000000,
          1000000,
          1000000,
          1000000,
          1000000,
          1000000,
          1000000,
          1000000,
          1000000,
          1000000,
          1000000,
          1000000,
          1000000,
          1000000,
          1000000,
          1000000,
          1000000,
          1000000,
          1000000,
          1000000,
          1000000,
          1000000,
          1000000,
          1000000,
          1000000,
          1000000,
          1000000,
          1000000,
          1000000,
          1000000,
          1000000,
          1000000,
          1000000,
          1000000,
          1000000,
          1000000,
          1000000,
          1000000,
          1000000,
          1000000,
          1000000,
          1000000,
          1000000,
          1000000,
          1000000,
          1000000,
          1000000,
          1000000,
          1000000,
          1000000,
          1000000,
          1000000,
          1000000,
          1000000,
          1000000,
          1000000,
          1000000,
          1000000,
          1000000,
          1000000,
          1000000,
          1000000,
          1000000,
          1000000,
          1000000,
          1000000,
          1000000,
          1000000,
          1000000,
          1000000,
          1000000,
          1000000,
          1000000,
          1000000,
          1000000,
          1000000,
          1000000,
          1000000,
          1000000,
          1000000,
          1000000,
          1000000,
          1000000,
          1000000,
          1000000,
          1000000,
          1000000,
          1000000,
          1000000,
          1000000,
          1000000,
          1000000,
          1000000,
          1000000,
          1000000,
          1000000,
          1000000,
          1000000,
          1000000,
          1000000,
          1000000,
          1000000,
          1000000,
          1000000,
          1000000,
          1000000,
          1000000,
          1000000,
          1000000,
          1000000,
          1000000,
          1000000,
          1000000,
          1000000,
          1000000,
          1000000,
          1000000,
          1000000,
          1000000,
          1000000,
          1000000,
          1000000,
          1000000,
          1000000,
          1000000,
          1000000,
          1000000,
          1000000,
          1000000,
          1000000,
          1000000,
          1000000,
          1000000,
          1000000,
          1000000,
          1000000,
          1000000,
          1000000,
          1000000,
          1000000,
          1000000,
          1000000,
          1000000,
          1000000,
          1000000,
          1000000,
          1000000,
          1000000,
          1000000,
          1000000,
          1000000,
          1000000,
          1000000,
          1000000,
          1000000,
          1000000,
          1000000,
          1000000,
          1000000,
          1000000,
          1000000,
          1000000,
          1000000,
          1000000,
          1000000,
          1000000,
          1000000,
          1000000,
          1000000,
          1000000,
          1000000,
          1000000,
          1000000,
          1000000,
          1000000,
          1000000,
          1000000,
          1000000,
          1000000,
          1000000,
          1000000,
          1000000,
          1000000,
          1000000,
          1000000,
          1000000,
          1000000,
          1000000,
          1000000,
          1000000,
          1000000,
          1000000,
          1000000,
          1000000,
          1000000,
          1000000,
          1000000,
          1000000,
          1000000,
          1000000,
          1000000,
          1000000,
          1000000,
          1000000,
          1000000,
          1000000,
          1000000,
          1000000,
          1000000,
          1000000,
          1000000,
          1000000,
          1000000,
          1000000,
          1000000,
          1000000,
          1000000,
          1000000,
          1000000,
          1000000,
          1000000,
          1000000,
          1000000,
          1000000,
          1000000,
          1000000,
          1000000,
          1000000,
          1000000,
          1000000,
          1000000,
          1000000,
          1000000,
          1000000,
          1000000,
          1000000,
          1000000,
          1000000,
          1000000,
          1000000,
          1000000,
          1000000,
          1000000,
          1000000,
          1000000,
          1000000,
          1000000,
          1000000,
          1000000,
          1000000,
          1000000,
          1000000,
          1000000,
          1000000,
          1000000,
          1000000,
          1000000,
          1000000,
          1000000,
          1000000,
          1000000,
          1000000,
          1000000,
          1000000,
          1000000,
          1000000,
          1000000,
          1000000,
          1000000,
          1000000,
          1000000,
          1000000,
          1000000,
          1000000,
          1000000,
          1000000,
          1000000,
          1000000,
          1000000,
          1000000,
          1000000,
          1000000,
          1000000,
          1000000,
          1000000,
          1000000,
          1000000,
          1000000,
          1000000,
          1000000,
          1000000,
          1000000,
          1000000,
          1000000,
          1000000,
          1000000,
          1000000,
          1000000,
          1000000,
          1000000,
          1000000,
          1000000,
          1000000,
          1000000,
          1000000,
          1000000,
          1000000,
          1000000,
          1000000,
          1000000,
          1000000,
          1000000,
          1000000,
          1000000,
          1000000,
          1000000,
          1000000,
          1000000,
          1000000,
          1000000,
          1000000,
          1000000,
          1000000,
          1000000,
          1000000,
          1000000,
          1000000,
          1000000,
          1000000,
          1000000,
          1000000,
          1000000,
          1000000,
          1000000,
          1000000,
          1000000,
          1000000,
          1000000,
          1000000,
          1000000,
          1000000,
          1000000,
          1000000,
          1000000,
          1000000,
          1000000,
          1000000,
          1000000,
          1000000,
          1000000,
          1000000,
          1000000,
          1000000,
          1000000,
          1000000,
          1000000,
          1000000,
          1000000,
          1000000,
          1000000,
          1000000,
          1000000,
          1000000,
          1000000,
          1000000,
          1000000,
          1000000,
          1000000,
          1000000,
          1000000,
          1000000,
          1000000,
          1000000,
          1000000,
          1000000,
          1000000,
          1000000,
          1000000,
          1000000,
          1000000,
          1000000,
          1000000,
          1000000,
          1000000,
          1000000,
          1000000,
          1000000,
          1000000,
          1000000,
          1000000,
          1000000,
          1000000,
          1000000,
          1000000,
          1000000,
          1000000,
          1000000,
          1000000,
          1000000,
          1000000,
          1000000,
          1000000,
          1000000,
          1000000,
          1000000,
          1000000,
          1000000,
          1000000,
          1000000,
          1000000,
          1000000,
          1000000,
          1000000,
          1000000,
          1000000,
          1000000,
          1000000,
          1000000,
          1000000,
          1000000,
          1000000,
          1000000,
          1000000,
          1000000,
          1000000,
          1000000,
          1000000,
          5000000,
          5000000,
          5000000,
          5000000,
          5000000,
          5000000,
          5000000,
          5000000,
          5000000,
          5000000,
          5000000,
          5000000,
          5000000,
          5000000,
          5000000,
          5000000,
          5000000,
          5000000,
          5000000,
          5000000,
          5000000,
          5000000,
          5000000,
          5000000,
          5000000,
          5000000,
          5000000,
          5000000,
          5000000,
          5000000,
          5000000,
          5000000,
          5000000,
          5000000,
          5000000,
          5000000,
          5000000,
          5000000,
          5000000,
          5000000,
          5000000,
          5000000,
          5000000,
          5000000,
          5000000,
          5000000,
          5000000,
          5000000,
          5000000,
          5000000,
          5000000,
          5000000,
          5000000,
          5000000,
          5000000,
          5000000,
          5000000,
          5000000,
          5000000,
          5000000,
          5000000,
          5000000,
          5000000,
          5000000,
          5000000,
          5000000,
          5000000,
          5000000,
          5000000,
          5000000,
          5000000,
          5000000,
          5000000,
          5000000,
          5000000,
          5000000,
          5000000,
          5000000,
          5000000,
          5000000,
          5000000,
          5000000,
          5000000,
          5000000,
          5000000,
          5000000,
          5000000,
          5000000,
          5000000,
          5000000,
          5000000,
          5000000,
          5000000,
          5000000,
          5000000,
          5000000,
          5000000,
          5000000,
          5000000,
          5000000,
          5000000,
          5000000,
          5000000,
          5000000,
          5000000,
          5000000,
          5000000,
          5000000,
          5000000,
          5000000,
          5000000,
          5000000,
          5000000,
          5000000,
          5000000,
          5000000,
          5000000,
          5000000,
          5000000,
          5000000,
          5000000,
          5000000,
          5000000,
          5000000,
          5000000,
          5000000,
          5000000,
          5000000,
          5000000,
          5000000,
          5000000,
          5000000,
          5000000,
          5000000,
          5000000,
          5000000,
          5000000,
          5000000,
          5000000,
          5000000,
          5000000,
          5000000,
          5000000,
          5000000,
          5000000,
          5000000,
          5000000,
          5000000,
          5000000,
          5000000,
          5000000,
          5000000,
          5000000,
          5000000,
          5000000,
          5000000,
          5000000,
          5000000,
          5000000,
          5000000,
          5000000,
          5000000,
          5000000,
          5000000,
          5000000,
          5000000,
          5000000,
          5000000,
          5000000,
          5000000,
          5000000,
          5000000,
          5000000,
          5000000,
          5000000,
          5000000,
          5000000,
          5000000,
          5000000,
          5000000,
          5000000,
          5000000,
          5000000,
          5000000,
          5000000,
          5000000,
          5000000,
          5000000,
          5000000,
          5000000,
          5000000,
          5000000,
          5000000,
          5000000,
          5000000,
          5000000,
          5000000,
          5000000,
          5000000,
          5000000,
          5000000,
          5000000,
          5000000,
          5000000,
          5000000,
          5000000,
          5000000,
          5000000,
          5000000,
          5000000,
          5000000,
          5000000,
          5000000,
          5000000,
          5000000,
          5000000,
          5000000,
          5000000,
          5000000,
          5000000,
          5000000,
          5000000,
          5000000,
          5000000,
          5000000,
          5000000,
          5000000,
          5000000,
          5000000,
          5000000,
          5000000,
          5000000,
          5000000,
          5000000,
          5000000,
          5000000,
          5000000,
          5000000,
          5000000,
          5000000,
          5000000,
          5000000,
          5000000,
          5000000,
          5000000,
          5000000,
          5000000,
          5000000,
          5000000,
          5000000,
          5000000,
          5000000,
          5000000,
          5000000,
          5000000,
          5000000,
          5000000,
          5000000,
          5000000,
          5000000,
          5000000,
          5000000,
          5000000,
          5000000,
          5000000,
          5000000,
          5000000,
          5000000,
          5000000,
          5000000,
          5000000,
          5000000,
          5000000,
          5000000,
          5000000,
          5000000,
          5000000,
          5000000,
          5000000,
          5000000,
          5000000,
          5000000,
          5000000,
          5000000,
          5000000,
          5000000,
          5000000,
          5000000,
          5000000,
          5000000,
          5000000,
          5000000,
          5000000,
          5000000,
          5000000,
          5000000,
          5000000,
          5000000,
          5000000,
          5000000,
          5000000,
          5000000,
          5000000,
          5000000,
          5000000,
          5000000,
          5000000,
          5000000,
          5000000,
          5000000,
          5000000,
          5000000,
          5000000,
          5000000,
          5000000,
          5000000,
          5000000,
          5000000,
          5000000,
          5000000,
          5000000,
          5000000,
          5000000,
          5000000,
          5000000,
          5000000,
          5000000,
          5000000,
          5000000,
          5000000,
          5000000,
          5000000,
          5000000,
          5000000,
          5000000,
          5000000,
          5000000,
          5000000,
          5000000,
          5000000,
          5000000,
          5000000,
          5000000,
          5000000,
          5000000,
          5000000,
          5000000,
          5000000,
          5000000,
          5000000,
          5000000,
          5000000,
          5000000,
          5000000,
          5000000,
          5000000,
          5000000,
          5000000,
          5000000,
          5000000,
          5000000,
          5000000,
          5000000,
          5000000,
          5000000,
          5000000,
          5000000,
          5000000,
          5000000,
          5000000,
          5000000,
          5000000,
          5000000,
          5000000,
          5000000,
          5000000,
          5000000,
          5000000,
          5000000,
          5000000,
          5000000,
          5000000,
          5000000,
          5000000,
          5000000,
          5000000,
          5000000,
          5000000,
          5000000,
          5000000,
          5000000,
          5000000,
          5000000,
          5000000,
          5000000,
          5000000,
          5000000,
          5000000,
          5000000,
          5000000,
          5000000,
          5000000,
          5000000,
          5000000,
          5000000,
          5000000,
          5000000,
          5000000,
          5000000,
          5000000,
          5000000,
          5000000,
          5000000,
          5000000,
          5000000,
          5000000,
          5000000,
          5000000,
          5000000,
          5000000,
          5000000,
          5000000,
          5000000,
          5000000,
          5000000,
          5000000,
          5000000,
          5000000,
          5000000,
          5000000,
          5000000,
          5000000,
          5000000,
          5000000,
          5000000,
          5000000,
          5000000,
          5000000,
          5000000,
          5000000,
          5000000,
          5000000,
          5000000,
          5000000,
          5000000,
          5000000,
          5000000,
          5000000,
          5000000,
          5000000,
          5000000,
          5000000,
          5000000,
          5000000,
          5000000,
          5000000,
          5000000,
          5000000,
          5000000,
          5000000,
          5000000,
          5000000,
          5000000,
          5000000,
          5000000,
          5000000,
          5000000,
          5000000,
          5000000,
          5000000,
          5000000,
          5000000,
          5000000,
          5000000,
          5000000,
          5000000,
          5000000,
          5000000,
          5000000,
          5000000,
          5000000,
          5000000,
          5000000,
          5000000,
          5000000,
          5000000,
          5000000,
          5000000,
          5000000,
          5000000,
          5000000,
          5000000,
          5000000,
          5000000,
          5000000,
          5000000,
          5000000,
          5000000,
          5000000,
          5000000,
          5000000,
          5000000,
          5000000,
          5000000,
          5000000,
          5000000,
          5000000,
          5000000,
          5000000,
          5000000,
          5000000,
          5000000,
          5000000,
          5000000,
          5000000,
          5000000,
          5000000,
          5000000,
          5000000,
          5000000,
          5000000,
          5000000,
          5000000,
          5000000,
          5000000,
          5000000,
          5000000,
          5000000,
          5000000,
          5000000,
          5000000,
          5000000,
          5000000,
          5000000,
          5000000,
          5000000,
          5000000,
          5000000,
          5000000,
          5000000,
          5000000,
          5000000,
          5000000,
          5000000,
          5000000,
          5000000,
          5000000,
          5000000,
          5000000,
          5000000,
          5000000,
          5000000,
          5000000,
          5000000,
          5000000,
          5000000,
          5000000,
          5000000,
          5000000,
          5000000,
          5000000,
          5000000,
          5000000,
          5000000,
          5000000,
          5000000,
          5000000,
          5000000,
          5000000,
          5000000,
          5000000,
          5000000,
          5000000,
          5000000,
          5000000,
          5000000,
          5000000,
          5000000,
          5000000,
          5000000,
          5000000,
          5000000,
          5000000,
          5000000,
          5000000,
          5000000,
          5000000,
          5000000,
          5000000,
          5000000,
          5000000,
          5000000,
          5000000,
          5000000,
          5000000,
          5000000,
          5000000,
          5000000,
          5000000,
          5000000,
          5000000,
          5000000,
          5000000,
          5000000,
          5000000,
          5000000,
          5000000,
          10000000,
          10000000,
          10000000,
          10000000,
          10000000,
          10000000,
          10000000,
          10000000,
          10000000,
          10000000,
          10000000,
          10000000,
          10000000,
          10000000,
          10000000,
          10000000,
          10000000,
          10000000,
          10000000,
          10000000,
          10000000,
          10000000,
          10000000,
          10000000,
          10000000,
          10000000,
          10000000,
          10000000,
          10000000,
          10000000,
          10000000,
          10000000,
          10000000,
          10000000,
          10000000,
          10000000,
          10000000,
          10000000,
          10000000,
          10000000,
          10000000,
          10000000,
          10000000,
          10000000,
          10000000,
          10000000,
          10000000,
          10000000,
          10000000,
          10000000,
          10000000,
          10000000,
          10000000,
          10000000,
          10000000,
          10000000,
          10000000,
          10000000,
          10000000,
          10000000,
          10000000,
          10000000,
          10000000,
          10000000,
          10000000,
          10000000,
          10000000,
          10000000,
          10000000,
          10000000,
          10000000,
          10000000,
          10000000,
          10000000,
          10000000,
          10000000,
          10000000,
          10000000,
          10000000,
          10000000,
          10000000,
          10000000,
          10000000,
          10000000,
          10000000,
          10000000,
          10000000,
          10000000,
          10000000,
          10000000,
          10000000,
          10000000,
          10000000,
          10000000,
          10000000,
          10000000,
          10000000,
          10000000,
          10000000,
          10000000,
          10000000,
          10000000,
          10000000,
          10000000,
          10000000,
          10000000,
          10000000,
          10000000,
          10000000,
          10000000,
          10000000,
          10000000,
          10000000,
          10000000,
          10000000,
          10000000,
          10000000,
          10000000,
          10000000,
          10000000,
          10000000,
          10000000,
          10000000,
          10000000,
          10000000,
          10000000,
          10000000,
          10000000,
          10000000,
          10000000,
          10000000,
          10000000,
          10000000,
          10000000,
          10000000,
          10000000,
          10000000,
          10000000,
          10000000,
          10000000,
          10000000,
          10000000,
          10000000,
          10000000,
          10000000,
          10000000,
          10000000,
          10000000,
          10000000,
          10000000,
          10000000,
          10000000,
          10000000,
          10000000,
          10000000,
          10000000,
          10000000,
          10000000,
          10000000,
          10000000,
          10000000,
          10000000,
          10000000,
          10000000,
          10000000,
          10000000,
          10000000,
          10000000,
          10000000,
          10000000,
          10000000,
          10000000,
          10000000,
          10000000,
          10000000,
          10000000,
          10000000,
          10000000,
          10000000,
          10000000,
          10000000,
          10000000,
          10000000,
          10000000,
          10000000,
          10000000,
          10000000,
          10000000,
          10000000,
          10000000,
          10000000,
          10000000,
          10000000,
          10000000,
          10000000,
          10000000,
          10000000,
          10000000,
          10000000,
          10000000,
          10000000,
          10000000,
          10000000,
          10000000,
          10000000,
          10000000,
          10000000,
          10000000,
          10000000,
          10000000,
          10000000,
          10000000,
          10000000,
          10000000,
          10000000,
          10000000,
          10000000,
          10000000,
          10000000,
          10000000,
          10000000,
          10000000,
          10000000,
          10000000,
          10000000,
          10000000,
          10000000,
          10000000,
          10000000,
          10000000,
          10000000,
          10000000,
          10000000,
          10000000,
          10000000,
          10000000,
          10000000,
          10000000,
          10000000,
          10000000,
          10000000,
          10000000,
          10000000,
          10000000,
          10000000,
          10000000,
          10000000,
          10000000,
          10000000,
          10000000,
          10000000,
          10000000,
          10000000,
          10000000,
          10000000,
          10000000,
          10000000,
          10000000,
          10000000,
          10000000,
          10000000,
          10000000,
          10000000,
          10000000,
          10000000,
          10000000,
          10000000,
          10000000,
          10000000,
          10000000,
          10000000,
          10000000,
          10000000,
          10000000,
          10000000,
          10000000,
          10000000,
          10000000,
          10000000,
          10000000,
          10000000,
          10000000,
          10000000,
          10000000,
          10000000,
          10000000,
          10000000,
          10000000,
          10000000,
          10000000,
          10000000,
          10000000,
          10000000,
          10000000,
          10000000,
          10000000,
          10000000,
          10000000,
          10000000,
          10000000,
          10000000,
          10000000,
          10000000,
          10000000,
          10000000,
          10000000,
          10000000,
          10000000,
          10000000,
          10000000,
          10000000,
          10000000,
          10000000,
          10000000,
          10000000,
          10000000,
          10000000,
          10000000,
          10000000,
          10000000,
          10000000,
          10000000,
          10000000,
          10000000,
          10000000,
          10000000,
          10000000,
          10000000,
          10000000,
          10000000,
          10000000,
          10000000,
          10000000,
          10000000,
          10000000,
          10000000,
          10000000,
          10000000,
          10000000,
          10000000,
          10000000,
          10000000,
          10000000,
          10000000,
          10000000,
          10000000,
          10000000,
          10000000,
          10000000,
          10000000,
          10000000,
          10000000,
          10000000,
          10000000,
          10000000,
          10000000,
          10000000,
          10000000,
          10000000,
          10000000,
          10000000,
          10000000,
          10000000,
          10000000,
          10000000,
          10000000,
          10000000,
          10000000,
          10000000,
          10000000,
          10000000,
          10000000,
          10000000,
          10000000,
          10000000,
          10000000,
          10000000,
          10000000,
          10000000,
          10000000,
          10000000,
          10000000,
          10000000,
          10000000,
          10000000,
          10000000,
          10000000,
          10000000,
          10000000,
          10000000,
          10000000,
          10000000,
          10000000,
          10000000,
          10000000,
          10000000,
          10000000,
          10000000,
          10000000,
          10000000,
          10000000,
          10000000,
          10000000,
          10000000,
          10000000,
          10000000,
          10000000,
          10000000,
          10000000,
          10000000,
          10000000,
          10000000,
          10000000,
          10000000,
          10000000,
          10000000,
          10000000,
          10000000,
          10000000,
          10000000,
          10000000,
          10000000,
          10000000,
          10000000,
          10000000,
          10000000,
          10000000,
          10000000,
          10000000,
          10000000,
          10000000,
          10000000,
          10000000,
          10000000,
          10000000,
          10000000,
          10000000,
          10000000,
          10000000,
          10000000,
          10000000,
          10000000,
          10000000,
          10000000,
          10000000,
          10000000,
          10000000,
          10000000,
          10000000,
          10000000,
          10000000,
          10000000,
          10000000,
          10000000,
          10000000,
          10000000,
          10000000,
          10000000,
          10000000,
          10000000,
          10000000,
          10000000,
          10000000,
          10000000,
          10000000,
          10000000,
          10000000,
          10000000,
          10000000,
          10000000,
          10000000,
          10000000,
          10000000,
          10000000,
          10000000,
          10000000,
          10000000,
          10000000,
          10000000,
          10000000,
          10000000,
          10000000,
          10000000,
          10000000,
          10000000,
          10000000,
          10000000,
          10000000,
          10000000,
          10000000,
          10000000,
          10000000,
          10000000,
          10000000,
          10000000,
          10000000,
          10000000,
          10000000,
          10000000,
          10000000,
          10000000,
          10000000,
          10000000,
          10000000,
          10000000,
          10000000,
          10000000,
          10000000,
          10000000,
          10000000,
          10000000,
          10000000,
          10000000,
          10000000,
          10000000,
          10000000,
          10000000,
          10000000,
          10000000,
          10000000,
          10000000,
          10000000,
          10000000,
          10000000,
          10000000,
          10000000,
          10000000,
          10000000,
          10000000,
          10000000,
          10000000,
          10000000,
          10000000,
          10000000,
          10000000,
          10000000,
          10000000,
          10000000,
          10000000,
          10000000,
          10000000,
          10000000,
          10000000,
          10000000,
          10000000,
          10000000,
          10000000,
          10000000,
          10000000,
          10000000,
          10000000,
          10000000,
          10000000,
          10000000,
          10000000,
          10000000,
          10000000,
          10000000,
          10000000,
          10000000,
          10000000,
          10000000,
          10000000,
          10000000,
          10000000,
          10000000,
          10000000,
          10000000,
          10000000,
          10000000,
          10000000,
          10000000,
          10000000,
          10000000,
          10000000,
          10000000,
          10000000,
          10000000,
          10000000,
          10000000,
          10000000,
          10000000,
          10000000,
          10000000,
          10000000,
          10000000,
          10000000,
          10000000,
          10000000,
          10000000,
          10000000,
          10000000,
          10000000,
          10000000,
          10000000,
          10000000,
          10000000,
          10000000,
          10000000,
          10000000,
          10000000,
          10000000,
          10000000,
          10000000,
          10000000,
          10000000,
          10000000,
          10000000,
          10000000,
          10000000,
          10000000,
          10000000,
          10000000,
          10000000,
          10000000,
          10000000,
          10000000,
          10000000,
          10000000,
          10000000,
          10000000,
          10000000,
          10000000,
          10000000,
          10000000,
          10000000,
          10000000,
          10000000,
          10000000,
          10000000,
          10000000,
          10000000,
          10000000,
          10000000,
          10000000,
          10000000,
          10000000,
          10000000,
          10000000,
          10000000,
          10000000,
          10000000,
          10000000,
          10000000,
          10000000,
          10000000,
          10000000,
          10000000,
          10000000,
          10000000,
          10000000,
          10000000,
          10000000,
          10000000,
          10000000,
          10000000,
          10000000,
          10000000,
          10000000,
          10000000,
          10000000,
          10000000,
          10000000,
          10000000,
          10000000,
          10000000,
          10000000,
          10000000,
          10000000,
          10000000,
          10000000,
          10000000,
          10000000,
          10000000,
          10000000,
          10000000,
          10000000,
          10000000,
          10000000,
          10000000,
          10000000,
          10000000,
          10000000,
          10000000,
          10000000,
          10000000,
          10000000,
          10000000,
          10000000,
          10000000,
          10000000,
          10000000,
          10000000,
          10000000,
          10000000,
          10000000,
          10000000,
          10000000,
          10000000,
          10000000,
          10000000,
          10000000,
          10000000,
          10000000,
          10000000,
          10000000,
          10000000,
          10000000,
          10000000,
          10000000,
          10000000,
          10000000,
          10000000,
          10000000,
          10000000,
          10000000,
          10000000,
          10000000,
          10000000,
          10000000,
          10000000,
          10000000,
          10000000,
          10000000,
          10000000,
          10000000,
          10000000,
          10000000,
          10000000,
          10000000,
          10000000,
          10000000,
          10000000,
          10000000,
          10000000,
          10000000,
          10000000,
          10000000,
          10000000,
          10000000,
          10000000,
          10000000,
          10000000,
          10000000,
          10000000,
          10000000,
          10000000,
          10000000,
          10000000,
          10000000,
          10000000,
          10000000,
          10000000,
          10000000,
          10000000,
          10000000,
          10000000,
          10000000,
          10000000,
          10000000,
          10000000,
          10000000,
          10000000,
          10000000,
          10000000,
          10000000,
          10000000,
          10000000,
          10000000,
          10000000,
          10000000,
          10000000,
          10000000,
          10000000,
          10000000,
          10000000,
          10000000,
          10000000,
          10000000,
          10000000,
          10000000,
          10000000,
          10000000,
          10000000,
          10000000,
          10000000,
          10000000,
          10000000,
          10000000,
          10000000,
          10000000,
          10000000,
          10000000,
          10000000,
          10000000,
          10000000,
          10000000,
          10000000,
          10000000,
          10000000,
          10000000,
          10000000,
          10000000,
          10000000,
          10000000,
          10000000,
          10000000,
          10000000,
          10000000,
          10000000,
          10000000,
          10000000,
          10000000,
          10000000,
          10000000,
          10000000,
          10000000,
          10000000,
          10000000,
          10000000,
          10000000,
          10000000,
          10000000,
          10000000,
          10000000,
          10000000,
          10000000,
          10000000,
          10000000,
          10000000,
          10000000,
          10000000,
          10000000,
          10000000,
          10000000,
          10000000,
          10000000,
          10000000,
          10000000,
          10000000,
          10000000,
          10000000,
          10000000,
          10000000,
          10000000,
          10000000,
          10000000,
          10000000,
          10000000,
          10000000,
          10000000,
          10000000,
          10000000,
          10000000,
          10000000,
          10000000,
          10000000,
          10000000,
          10000000,
          10000000,
          10000000,
          10000000,
          10000000,
          10000000,
          10000000,
          10000000,
          10000000,
          10000000,
          10000000,
          10000000,
          10000000,
          10000000,
          10000000,
          10000000,
          10000000,
          10000000,
          10000000,
          10000000,
          10000000,
          10000000,
          10000000,
          10000000,
          10000000,
          10000000,
          10000000,
          10000000,
          10000000,
          10000000,
          10000000,
          10000000,
          10000000,
          10000000,
          10000000,
          10000000,
          10000000,
          10000000,
          10000000,
          10000000,
          10000000,
          10000000,
          10000000,
          10000000,
          10000000,
          10000000,
          10000000,
          10000000,
          10000000,
          10000000,
          10000000,
          10000000,
          10000000,
          10000000,
          10000000,
          10000000,
          10000000,
          10000000,
          10000000,
          10000000,
          10000000,
          10000000,
          10000000,
          10000000,
          10000000,
          10000000,
          10000000,
          10000000,
          10000000,
          10000000,
          10000000,
          10000000,
          10000000,
          50000000,
          50000000,
          50000000,
          50000000,
          50000000,
          50000000,
          50000000,
          50000000,
          50000000,
          50000000,
          50000000,
          50000000,
          50000000,
          50000000,
          50000000,
          50000000,
          50000000,
          50000000,
          50000000,
          50000000,
          50000000,
          50000000,
          50000000,
          50000000,
          50000000,
          50000000,
          50000000,
          50000000,
          50000000,
          50000000,
          50000000,
          50000000,
          50000000,
          50000000,
          50000000,
          50000000,
          50000000,
          50000000,
          50000000,
          50000000,
          50000000,
          50000000,
          50000000,
          50000000,
          50000000,
          50000000,
          50000000,
          50000000,
          50000000,
          50000000,
          50000000,
          50000000,
          50000000,
          50000000,
          50000000,
          50000000,
          50000000,
          50000000,
          50000000,
          50000000,
          50000000,
          50000000,
          50000000,
          50000000,
          50000000,
          50000000,
          50000000,
          50000000,
          50000000,
          50000000,
          50000000,
          50000000,
          50000000,
          50000000,
          50000000,
          50000000,
          50000000,
          50000000,
          50000000,
          50000000,
          50000000,
          50000000,
          50000000,
          50000000,
          50000000,
          50000000,
          50000000,
          50000000,
          50000000,
          50000000,
          50000000,
          50000000,
          50000000,
          50000000,
          50000000,
          50000000,
          50000000,
          50000000,
          50000000,
          50000000,
          50000000,
          50000000,
          50000000,
          50000000,
          50000000,
          50000000,
          50000000,
          50000000,
          50000000,
          50000000,
          50000000,
          50000000,
          50000000,
          50000000,
          50000000,
          50000000,
          50000000,
          50000000,
          50000000,
          50000000,
          50000000,
          50000000,
          50000000,
          50000000,
          50000000,
          50000000,
          50000000,
          50000000,
          50000000,
          50000000,
          50000000,
          50000000,
          50000000,
          50000000,
          50000000,
          50000000,
          50000000,
          50000000,
          50000000,
          50000000,
          50000000,
          50000000,
          50000000,
          50000000,
          50000000,
          50000000,
          50000000,
          50000000,
          50000000,
          50000000,
          50000000,
          50000000,
          50000000,
          50000000,
          50000000,
          50000000,
          50000000,
          50000000,
          50000000,
          50000000,
          50000000,
          50000000,
          50000000,
          50000000,
          50000000,
          50000000,
          50000000,
          50000000,
          50000000,
          50000000,
          50000000,
          50000000,
          50000000,
          50000000,
          50000000,
          50000000,
          50000000,
          50000000,
          50000000,
          50000000,
          50000000,
          50000000,
          50000000,
          50000000,
          50000000,
          50000000,
          50000000,
          50000000,
          50000000,
          50000000,
          50000000,
          50000000,
          50000000,
          50000000,
          50000000,
          50000000,
          50000000,
          50000000,
          50000000,
          50000000,
          50000000,
          50000000,
          100000000,
          100000000,
          100000000,
          100000000,
          100000000,
          100000000,
          100000000,
          100000000,
          100000000,
          100000000,
          100000000,
          100000000,
          100000000,
          100000000,
          100000000,
          100000000,
          100000000,
          100000000,
          100000000,
          100000000,
          100000000,
          100000000,
          100000000,
          100000000,
          100000000,
          100000000,
          100000000,
          100000000,
          100000000,
          100000000,
          100000000,
          100000000,
          100000000,
          100000000,
          100000000,
          100000000,
          100000000,
          100000000,
          100000000,
          100000000,
          100000000,
          100000000,
          100000000,
          100000000,
          100000000,
          100000000,
          100000000,
          100000000,
          100000000,
          100000000,
          100000000,
          100000000,
          100000000,
          100000000,
          100000000,
          100000000,
          100000000,
          100000000,
          100000000,
          100000000,
          100000000,
          100000000,
          100000000,
          100000000,
          100000000,
          100000000,
          100000000,
          100000000,
          100000000,
          100000000,
          100000000,
          100000000,
          100000000,
          100000000,
          100000000,
          100000000,
          100000000,
          100000000,
          100000000,
          100000000,
          100000000,
          100000000,
          100000000,
          100000000,
          100000000,
          100000000,
          100000000,
          100000000,
          100000000,
          100000000,
          100000000,
          100000000,
          100000000,
          100000000,
          100000000,
          100000000,
          100000000,
          100000000,
          100000000,
          100000000,
          100000000,
          100000000,
          100000000,
          100000000,
          100000000,
          100000000,
          100000000,
          100000000,
          100000000,
          100000000,
          100000000,
          100000000,
          100000000,
          100000000,
          100000000,
          100000000,
          100000000,
          100000000,
          100000000,
          100000000,
          100000000,
          100000000,
          100000000,
          100000000,
          100000000,
          100000000,
          100000000,
          100000000,
          100000000,
          100000000,
          100000000,
          100000000,
          100000000,
          100000000,
          100000000,
          100000000,
          100000000,
          100000000,
          100000000,
          100000000,
          100000000,
          100000000,
          100000000,
          100000000,
          100000000,
          100000000,
          100000000,
          100000000,
          100000000,
          100000000,
          100000000,
          100000000,
          100000000,
          100000000,
          100000000,
          100000000,
          100000000,
          100000000,
          100000000,
          100000000,
          100000000,
          100000000,
          100000000,
          100000000,
          100000000,
          100000000,
          100000000,
          100000000,
          100000000,
          100000000,
          100000000,
          100000000,
          100000000,
          100000000,
          100000000,
          100000000,
          100000000,
          100000000,
          100000000,
          100000000,
          100000000,
          100000000,
          100000000,
          100000000,
          100000000,
          100000000,
          100000000,
          100000000,
          100000000,
          500000000,
          500000000,
          500000000,
          500000000,
          500000000,
          500000000,
          500000000,
          500000000,
          500000000,
          500000000,
          500000000,
          500000000,
          500000000,
          500000000,
          500000000,
          500000000,
          500000000,
          500000000,
          500000000,
          500000000,
          500000000,
          500000000,
          500000000,
          500000000,
          1000000000,
          1000000000,
          1000000000,
          1000000000,
          1000000000,
          1000000000,
          1000000000,
          1000000000,
          1000000000,
          1000000000,
          1000000000,
          1000000000,
          1000000000,
          1000000000,
          1000000000,
          1000000000,
          1000000000,
          1000000000,
          1000000000,
          1000000000
         ],
         "y0": " ",
         "yaxis": "y"
        },
        {
         "alignmentgroup": "True",
         "boxpoints": "all",
         "hovertemplate": "Type=%{x}<br>Installs=%{y}<extra></extra>",
         "legendgroup": "Paid",
         "marker": {
          "color": "#EF553B"
         },
         "name": "Paid",
         "notched": true,
         "offsetgroup": "Paid",
         "orientation": "v",
         "showlegend": true,
         "type": "box",
         "x": [
          "Paid",
          "Paid",
          "Paid",
          "Paid",
          "Paid",
          "Paid",
          "Paid",
          "Paid",
          "Paid",
          "Paid",
          "Paid",
          "Paid",
          "Paid",
          "Paid",
          "Paid",
          "Paid",
          "Paid",
          "Paid",
          "Paid",
          "Paid",
          "Paid",
          "Paid",
          "Paid",
          "Paid",
          "Paid",
          "Paid",
          "Paid",
          "Paid",
          "Paid",
          "Paid",
          "Paid",
          "Paid",
          "Paid",
          "Paid",
          "Paid",
          "Paid",
          "Paid",
          "Paid",
          "Paid",
          "Paid",
          "Paid",
          "Paid",
          "Paid",
          "Paid",
          "Paid",
          "Paid",
          "Paid",
          "Paid",
          "Paid",
          "Paid",
          "Paid",
          "Paid",
          "Paid",
          "Paid",
          "Paid",
          "Paid",
          "Paid",
          "Paid",
          "Paid",
          "Paid",
          "Paid",
          "Paid",
          "Paid",
          "Paid",
          "Paid",
          "Paid",
          "Paid",
          "Paid",
          "Paid",
          "Paid",
          "Paid",
          "Paid",
          "Paid",
          "Paid",
          "Paid",
          "Paid",
          "Paid",
          "Paid",
          "Paid",
          "Paid",
          "Paid",
          "Paid",
          "Paid",
          "Paid",
          "Paid",
          "Paid",
          "Paid",
          "Paid",
          "Paid",
          "Paid",
          "Paid",
          "Paid",
          "Paid",
          "Paid",
          "Paid",
          "Paid",
          "Paid",
          "Paid",
          "Paid",
          "Paid",
          "Paid",
          "Paid",
          "Paid",
          "Paid",
          "Paid",
          "Paid",
          "Paid",
          "Paid",
          "Paid",
          "Paid",
          "Paid",
          "Paid",
          "Paid",
          "Paid",
          "Paid",
          "Paid",
          "Paid",
          "Paid",
          "Paid",
          "Paid",
          "Paid",
          "Paid",
          "Paid",
          "Paid",
          "Paid",
          "Paid",
          "Paid",
          "Paid",
          "Paid",
          "Paid",
          "Paid",
          "Paid",
          "Paid",
          "Paid",
          "Paid",
          "Paid",
          "Paid",
          "Paid",
          "Paid",
          "Paid",
          "Paid",
          "Paid",
          "Paid",
          "Paid",
          "Paid",
          "Paid",
          "Paid",
          "Paid",
          "Paid",
          "Paid",
          "Paid",
          "Paid",
          "Paid",
          "Paid",
          "Paid",
          "Paid",
          "Paid",
          "Paid",
          "Paid",
          "Paid",
          "Paid",
          "Paid",
          "Paid",
          "Paid",
          "Paid",
          "Paid",
          "Paid",
          "Paid",
          "Paid",
          "Paid",
          "Paid",
          "Paid",
          "Paid",
          "Paid",
          "Paid",
          "Paid",
          "Paid",
          "Paid",
          "Paid",
          "Paid",
          "Paid",
          "Paid",
          "Paid",
          "Paid",
          "Paid",
          "Paid",
          "Paid",
          "Paid",
          "Paid",
          "Paid",
          "Paid",
          "Paid",
          "Paid",
          "Paid",
          "Paid",
          "Paid",
          "Paid",
          "Paid",
          "Paid",
          "Paid",
          "Paid",
          "Paid",
          "Paid",
          "Paid",
          "Paid",
          "Paid",
          "Paid",
          "Paid",
          "Paid",
          "Paid",
          "Paid",
          "Paid",
          "Paid",
          "Paid",
          "Paid",
          "Paid",
          "Paid",
          "Paid",
          "Paid",
          "Paid",
          "Paid",
          "Paid",
          "Paid",
          "Paid",
          "Paid",
          "Paid",
          "Paid",
          "Paid",
          "Paid",
          "Paid",
          "Paid",
          "Paid",
          "Paid",
          "Paid",
          "Paid",
          "Paid",
          "Paid",
          "Paid",
          "Paid",
          "Paid",
          "Paid",
          "Paid",
          "Paid",
          "Paid",
          "Paid",
          "Paid",
          "Paid",
          "Paid",
          "Paid",
          "Paid",
          "Paid",
          "Paid",
          "Paid",
          "Paid",
          "Paid",
          "Paid",
          "Paid",
          "Paid",
          "Paid",
          "Paid",
          "Paid",
          "Paid",
          "Paid",
          "Paid",
          "Paid",
          "Paid",
          "Paid",
          "Paid",
          "Paid",
          "Paid",
          "Paid",
          "Paid",
          "Paid",
          "Paid",
          "Paid",
          "Paid",
          "Paid",
          "Paid",
          "Paid",
          "Paid",
          "Paid",
          "Paid",
          "Paid",
          "Paid",
          "Paid",
          "Paid",
          "Paid",
          "Paid",
          "Paid",
          "Paid",
          "Paid",
          "Paid",
          "Paid",
          "Paid",
          "Paid",
          "Paid",
          "Paid",
          "Paid",
          "Paid",
          "Paid",
          "Paid",
          "Paid",
          "Paid",
          "Paid",
          "Paid",
          "Paid",
          "Paid",
          "Paid",
          "Paid",
          "Paid",
          "Paid",
          "Paid",
          "Paid",
          "Paid",
          "Paid",
          "Paid",
          "Paid",
          "Paid",
          "Paid",
          "Paid",
          "Paid",
          "Paid",
          "Paid",
          "Paid",
          "Paid",
          "Paid",
          "Paid",
          "Paid",
          "Paid",
          "Paid",
          "Paid",
          "Paid",
          "Paid",
          "Paid",
          "Paid",
          "Paid",
          "Paid",
          "Paid",
          "Paid",
          "Paid",
          "Paid",
          "Paid",
          "Paid",
          "Paid",
          "Paid",
          "Paid",
          "Paid",
          "Paid",
          "Paid",
          "Paid",
          "Paid",
          "Paid",
          "Paid",
          "Paid",
          "Paid",
          "Paid",
          "Paid",
          "Paid",
          "Paid",
          "Paid",
          "Paid",
          "Paid",
          "Paid",
          "Paid",
          "Paid",
          "Paid",
          "Paid",
          "Paid",
          "Paid",
          "Paid",
          "Paid",
          "Paid",
          "Paid",
          "Paid",
          "Paid",
          "Paid",
          "Paid",
          "Paid",
          "Paid",
          "Paid",
          "Paid",
          "Paid",
          "Paid",
          "Paid",
          "Paid",
          "Paid",
          "Paid",
          "Paid",
          "Paid",
          "Paid",
          "Paid",
          "Paid",
          "Paid",
          "Paid",
          "Paid",
          "Paid",
          "Paid",
          "Paid",
          "Paid",
          "Paid",
          "Paid",
          "Paid",
          "Paid",
          "Paid",
          "Paid",
          "Paid",
          "Paid",
          "Paid",
          "Paid",
          "Paid",
          "Paid",
          "Paid",
          "Paid",
          "Paid",
          "Paid",
          "Paid",
          "Paid",
          "Paid",
          "Paid",
          "Paid",
          "Paid",
          "Paid",
          "Paid",
          "Paid",
          "Paid",
          "Paid",
          "Paid",
          "Paid",
          "Paid",
          "Paid",
          "Paid",
          "Paid",
          "Paid",
          "Paid",
          "Paid",
          "Paid",
          "Paid",
          "Paid",
          "Paid",
          "Paid",
          "Paid",
          "Paid",
          "Paid",
          "Paid",
          "Paid",
          "Paid",
          "Paid",
          "Paid",
          "Paid",
          "Paid",
          "Paid",
          "Paid",
          "Paid",
          "Paid",
          "Paid",
          "Paid",
          "Paid",
          "Paid",
          "Paid",
          "Paid",
          "Paid",
          "Paid",
          "Paid",
          "Paid",
          "Paid",
          "Paid",
          "Paid",
          "Paid",
          "Paid",
          "Paid",
          "Paid",
          "Paid",
          "Paid",
          "Paid",
          "Paid",
          "Paid",
          "Paid",
          "Paid",
          "Paid",
          "Paid",
          "Paid",
          "Paid",
          "Paid",
          "Paid",
          "Paid",
          "Paid",
          "Paid",
          "Paid",
          "Paid",
          "Paid",
          "Paid",
          "Paid",
          "Paid",
          "Paid",
          "Paid",
          "Paid",
          "Paid",
          "Paid",
          "Paid",
          "Paid",
          "Paid",
          "Paid",
          "Paid",
          "Paid",
          "Paid",
          "Paid",
          "Paid",
          "Paid",
          "Paid",
          "Paid",
          "Paid",
          "Paid",
          "Paid",
          "Paid",
          "Paid",
          "Paid",
          "Paid",
          "Paid",
          "Paid",
          "Paid",
          "Paid",
          "Paid",
          "Paid",
          "Paid",
          "Paid",
          "Paid",
          "Paid",
          "Paid",
          "Paid",
          "Paid",
          "Paid",
          "Paid",
          "Paid",
          "Paid",
          "Paid",
          "Paid",
          "Paid",
          "Paid",
          "Paid",
          "Paid",
          "Paid",
          "Paid",
          "Paid",
          "Paid",
          "Paid",
          "Paid",
          "Paid",
          "Paid",
          "Paid",
          "Paid",
          "Paid",
          "Paid",
          "Paid",
          "Paid",
          "Paid",
          "Paid",
          "Paid",
          "Paid",
          "Paid",
          "Paid",
          "Paid",
          "Paid",
          "Paid",
          "Paid",
          "Paid",
          "Paid",
          "Paid",
          "Paid",
          "Paid",
          "Paid",
          "Paid",
          "Paid",
          "Paid",
          "Paid",
          "Paid",
          "Paid",
          "Paid",
          "Paid",
          "Paid",
          "Paid",
          "Paid",
          "Paid",
          "Paid",
          "Paid",
          "Paid",
          "Paid",
          "Paid",
          "Paid",
          "Paid"
         ],
         "x0": " ",
         "xaxis": "x",
         "y": [
          1,
          1,
          10,
          10,
          10,
          10,
          10,
          10,
          10,
          10,
          10,
          10,
          10,
          10,
          10,
          10,
          10,
          10,
          10,
          10,
          50,
          50,
          50,
          50,
          50,
          50,
          50,
          50,
          50,
          50,
          50,
          50,
          50,
          50,
          100,
          100,
          100,
          100,
          100,
          100,
          100,
          100,
          100,
          100,
          100,
          100,
          100,
          100,
          100,
          100,
          100,
          100,
          100,
          100,
          100,
          100,
          100,
          100,
          100,
          100,
          100,
          100,
          100,
          100,
          100,
          100,
          100,
          100,
          100,
          100,
          100,
          100,
          100,
          100,
          100,
          100,
          100,
          100,
          100,
          100,
          100,
          100,
          100,
          100,
          100,
          100,
          100,
          100,
          100,
          100,
          100,
          100,
          100,
          100,
          100,
          100,
          100,
          100,
          100,
          500,
          500,
          500,
          500,
          500,
          500,
          500,
          500,
          500,
          500,
          500,
          500,
          500,
          500,
          500,
          500,
          500,
          500,
          500,
          500,
          500,
          500,
          500,
          500,
          500,
          500,
          500,
          500,
          500,
          500,
          500,
          500,
          500,
          500,
          500,
          500,
          1000,
          1000,
          1000,
          1000,
          1000,
          1000,
          1000,
          1000,
          1000,
          1000,
          1000,
          1000,
          1000,
          1000,
          1000,
          1000,
          1000,
          1000,
          1000,
          1000,
          1000,
          1000,
          1000,
          1000,
          1000,
          1000,
          1000,
          1000,
          1000,
          1000,
          1000,
          1000,
          1000,
          1000,
          1000,
          1000,
          1000,
          1000,
          1000,
          1000,
          1000,
          1000,
          1000,
          1000,
          1000,
          1000,
          1000,
          1000,
          1000,
          1000,
          1000,
          1000,
          1000,
          1000,
          1000,
          1000,
          1000,
          1000,
          1000,
          1000,
          1000,
          1000,
          1000,
          1000,
          1000,
          1000,
          1000,
          1000,
          1000,
          1000,
          1000,
          1000,
          1000,
          1000,
          1000,
          1000,
          1000,
          1000,
          1000,
          1000,
          1000,
          1000,
          1000,
          1000,
          1000,
          1000,
          1000,
          1000,
          1000,
          1000,
          1000,
          1000,
          1000,
          1000,
          1000,
          1000,
          1000,
          1000,
          1000,
          1000,
          1000,
          1000,
          1000,
          1000,
          1000,
          1000,
          1000,
          1000,
          1000,
          1000,
          1000,
          1000,
          1000,
          1000,
          1000,
          1000,
          1000,
          1000,
          1000,
          1000,
          1000,
          1000,
          1000,
          1000,
          1000,
          1000,
          1000,
          5000,
          5000,
          5000,
          5000,
          5000,
          5000,
          5000,
          5000,
          5000,
          5000,
          5000,
          5000,
          5000,
          5000,
          5000,
          5000,
          5000,
          5000,
          5000,
          5000,
          5000,
          5000,
          5000,
          5000,
          5000,
          5000,
          5000,
          5000,
          5000,
          5000,
          5000,
          5000,
          5000,
          5000,
          5000,
          5000,
          5000,
          5000,
          5000,
          5000,
          5000,
          5000,
          5000,
          5000,
          5000,
          5000,
          5000,
          5000,
          5000,
          5000,
          5000,
          5000,
          5000,
          5000,
          5000,
          5000,
          5000,
          5000,
          5000,
          5000,
          5000,
          5000,
          10000,
          10000,
          10000,
          10000,
          10000,
          10000,
          10000,
          10000,
          10000,
          10000,
          10000,
          10000,
          10000,
          10000,
          10000,
          10000,
          10000,
          10000,
          10000,
          10000,
          10000,
          10000,
          10000,
          10000,
          10000,
          10000,
          10000,
          10000,
          10000,
          10000,
          10000,
          10000,
          10000,
          10000,
          10000,
          10000,
          10000,
          10000,
          10000,
          10000,
          10000,
          10000,
          10000,
          10000,
          10000,
          10000,
          10000,
          10000,
          10000,
          10000,
          10000,
          10000,
          10000,
          10000,
          10000,
          10000,
          10000,
          10000,
          10000,
          10000,
          10000,
          10000,
          10000,
          10000,
          10000,
          10000,
          10000,
          10000,
          10000,
          10000,
          10000,
          10000,
          10000,
          10000,
          10000,
          10000,
          10000,
          10000,
          10000,
          10000,
          10000,
          10000,
          10000,
          10000,
          10000,
          10000,
          10000,
          10000,
          10000,
          10000,
          10000,
          10000,
          10000,
          10000,
          10000,
          10000,
          10000,
          10000,
          10000,
          10000,
          10000,
          10000,
          10000,
          10000,
          10000,
          10000,
          10000,
          10000,
          10000,
          10000,
          10000,
          10000,
          50000,
          50000,
          50000,
          50000,
          50000,
          50000,
          50000,
          50000,
          50000,
          50000,
          50000,
          50000,
          50000,
          50000,
          50000,
          50000,
          50000,
          50000,
          50000,
          50000,
          50000,
          50000,
          50000,
          50000,
          50000,
          50000,
          50000,
          50000,
          50000,
          50000,
          50000,
          50000,
          50000,
          50000,
          50000,
          50000,
          50000,
          50000,
          50000,
          100000,
          100000,
          100000,
          100000,
          100000,
          100000,
          100000,
          100000,
          100000,
          100000,
          100000,
          100000,
          100000,
          100000,
          100000,
          100000,
          100000,
          100000,
          100000,
          100000,
          100000,
          100000,
          100000,
          100000,
          100000,
          100000,
          100000,
          100000,
          100000,
          100000,
          100000,
          100000,
          100000,
          100000,
          100000,
          100000,
          100000,
          100000,
          100000,
          100000,
          100000,
          100000,
          100000,
          100000,
          100000,
          100000,
          100000,
          100000,
          100000,
          100000,
          100000,
          100000,
          100000,
          100000,
          100000,
          100000,
          100000,
          100000,
          100000,
          100000,
          100000,
          100000,
          100000,
          100000,
          100000,
          100000,
          100000,
          100000,
          100000,
          100000,
          100000,
          100000,
          100000,
          100000,
          100000,
          100000,
          100000,
          100000,
          100000,
          100000,
          100000,
          500000,
          500000,
          500000,
          500000,
          500000,
          500000,
          500000,
          500000,
          500000,
          500000,
          500000,
          1000000,
          1000000,
          1000000,
          1000000,
          1000000,
          1000000,
          1000000,
          1000000,
          1000000,
          1000000,
          1000000,
          1000000,
          1000000,
          1000000,
          1000000,
          1000000,
          1000000,
          1000000,
          1000000,
          1000000,
          10000000,
          10000000
         ],
         "y0": " ",
         "yaxis": "y"
        }
       ],
       "layout": {
        "boxmode": "overlay",
        "legend": {
         "title": {
          "text": "Type"
         },
         "tracegroupgap": 0
        },
        "template": {
         "data": {
          "bar": [
           {
            "error_x": {
             "color": "#2a3f5f"
            },
            "error_y": {
             "color": "#2a3f5f"
            },
            "marker": {
             "line": {
              "color": "#E5ECF6",
              "width": 0.5
             },
             "pattern": {
              "fillmode": "overlay",
              "size": 10,
              "solidity": 0.2
             }
            },
            "type": "bar"
           }
          ],
          "barpolar": [
           {
            "marker": {
             "line": {
              "color": "#E5ECF6",
              "width": 0.5
             },
             "pattern": {
              "fillmode": "overlay",
              "size": 10,
              "solidity": 0.2
             }
            },
            "type": "barpolar"
           }
          ],
          "carpet": [
           {
            "aaxis": {
             "endlinecolor": "#2a3f5f",
             "gridcolor": "white",
             "linecolor": "white",
             "minorgridcolor": "white",
             "startlinecolor": "#2a3f5f"
            },
            "baxis": {
             "endlinecolor": "#2a3f5f",
             "gridcolor": "white",
             "linecolor": "white",
             "minorgridcolor": "white",
             "startlinecolor": "#2a3f5f"
            },
            "type": "carpet"
           }
          ],
          "choropleth": [
           {
            "colorbar": {
             "outlinewidth": 0,
             "ticks": ""
            },
            "type": "choropleth"
           }
          ],
          "contour": [
           {
            "colorbar": {
             "outlinewidth": 0,
             "ticks": ""
            },
            "colorscale": [
             [
              0,
              "#0d0887"
             ],
             [
              0.1111111111111111,
              "#46039f"
             ],
             [
              0.2222222222222222,
              "#7201a8"
             ],
             [
              0.3333333333333333,
              "#9c179e"
             ],
             [
              0.4444444444444444,
              "#bd3786"
             ],
             [
              0.5555555555555556,
              "#d8576b"
             ],
             [
              0.6666666666666666,
              "#ed7953"
             ],
             [
              0.7777777777777778,
              "#fb9f3a"
             ],
             [
              0.8888888888888888,
              "#fdca26"
             ],
             [
              1,
              "#f0f921"
             ]
            ],
            "type": "contour"
           }
          ],
          "contourcarpet": [
           {
            "colorbar": {
             "outlinewidth": 0,
             "ticks": ""
            },
            "type": "contourcarpet"
           }
          ],
          "heatmap": [
           {
            "colorbar": {
             "outlinewidth": 0,
             "ticks": ""
            },
            "colorscale": [
             [
              0,
              "#0d0887"
             ],
             [
              0.1111111111111111,
              "#46039f"
             ],
             [
              0.2222222222222222,
              "#7201a8"
             ],
             [
              0.3333333333333333,
              "#9c179e"
             ],
             [
              0.4444444444444444,
              "#bd3786"
             ],
             [
              0.5555555555555556,
              "#d8576b"
             ],
             [
              0.6666666666666666,
              "#ed7953"
             ],
             [
              0.7777777777777778,
              "#fb9f3a"
             ],
             [
              0.8888888888888888,
              "#fdca26"
             ],
             [
              1,
              "#f0f921"
             ]
            ],
            "type": "heatmap"
           }
          ],
          "heatmapgl": [
           {
            "colorbar": {
             "outlinewidth": 0,
             "ticks": ""
            },
            "colorscale": [
             [
              0,
              "#0d0887"
             ],
             [
              0.1111111111111111,
              "#46039f"
             ],
             [
              0.2222222222222222,
              "#7201a8"
             ],
             [
              0.3333333333333333,
              "#9c179e"
             ],
             [
              0.4444444444444444,
              "#bd3786"
             ],
             [
              0.5555555555555556,
              "#d8576b"
             ],
             [
              0.6666666666666666,
              "#ed7953"
             ],
             [
              0.7777777777777778,
              "#fb9f3a"
             ],
             [
              0.8888888888888888,
              "#fdca26"
             ],
             [
              1,
              "#f0f921"
             ]
            ],
            "type": "heatmapgl"
           }
          ],
          "histogram": [
           {
            "marker": {
             "pattern": {
              "fillmode": "overlay",
              "size": 10,
              "solidity": 0.2
             }
            },
            "type": "histogram"
           }
          ],
          "histogram2d": [
           {
            "colorbar": {
             "outlinewidth": 0,
             "ticks": ""
            },
            "colorscale": [
             [
              0,
              "#0d0887"
             ],
             [
              0.1111111111111111,
              "#46039f"
             ],
             [
              0.2222222222222222,
              "#7201a8"
             ],
             [
              0.3333333333333333,
              "#9c179e"
             ],
             [
              0.4444444444444444,
              "#bd3786"
             ],
             [
              0.5555555555555556,
              "#d8576b"
             ],
             [
              0.6666666666666666,
              "#ed7953"
             ],
             [
              0.7777777777777778,
              "#fb9f3a"
             ],
             [
              0.8888888888888888,
              "#fdca26"
             ],
             [
              1,
              "#f0f921"
             ]
            ],
            "type": "histogram2d"
           }
          ],
          "histogram2dcontour": [
           {
            "colorbar": {
             "outlinewidth": 0,
             "ticks": ""
            },
            "colorscale": [
             [
              0,
              "#0d0887"
             ],
             [
              0.1111111111111111,
              "#46039f"
             ],
             [
              0.2222222222222222,
              "#7201a8"
             ],
             [
              0.3333333333333333,
              "#9c179e"
             ],
             [
              0.4444444444444444,
              "#bd3786"
             ],
             [
              0.5555555555555556,
              "#d8576b"
             ],
             [
              0.6666666666666666,
              "#ed7953"
             ],
             [
              0.7777777777777778,
              "#fb9f3a"
             ],
             [
              0.8888888888888888,
              "#fdca26"
             ],
             [
              1,
              "#f0f921"
             ]
            ],
            "type": "histogram2dcontour"
           }
          ],
          "mesh3d": [
           {
            "colorbar": {
             "outlinewidth": 0,
             "ticks": ""
            },
            "type": "mesh3d"
           }
          ],
          "parcoords": [
           {
            "line": {
             "colorbar": {
              "outlinewidth": 0,
              "ticks": ""
             }
            },
            "type": "parcoords"
           }
          ],
          "pie": [
           {
            "automargin": true,
            "type": "pie"
           }
          ],
          "scatter": [
           {
            "marker": {
             "colorbar": {
              "outlinewidth": 0,
              "ticks": ""
             }
            },
            "type": "scatter"
           }
          ],
          "scatter3d": [
           {
            "line": {
             "colorbar": {
              "outlinewidth": 0,
              "ticks": ""
             }
            },
            "marker": {
             "colorbar": {
              "outlinewidth": 0,
              "ticks": ""
             }
            },
            "type": "scatter3d"
           }
          ],
          "scattercarpet": [
           {
            "marker": {
             "colorbar": {
              "outlinewidth": 0,
              "ticks": ""
             }
            },
            "type": "scattercarpet"
           }
          ],
          "scattergeo": [
           {
            "marker": {
             "colorbar": {
              "outlinewidth": 0,
              "ticks": ""
             }
            },
            "type": "scattergeo"
           }
          ],
          "scattergl": [
           {
            "marker": {
             "colorbar": {
              "outlinewidth": 0,
              "ticks": ""
             }
            },
            "type": "scattergl"
           }
          ],
          "scattermapbox": [
           {
            "marker": {
             "colorbar": {
              "outlinewidth": 0,
              "ticks": ""
             }
            },
            "type": "scattermapbox"
           }
          ],
          "scatterpolar": [
           {
            "marker": {
             "colorbar": {
              "outlinewidth": 0,
              "ticks": ""
             }
            },
            "type": "scatterpolar"
           }
          ],
          "scatterpolargl": [
           {
            "marker": {
             "colorbar": {
              "outlinewidth": 0,
              "ticks": ""
             }
            },
            "type": "scatterpolargl"
           }
          ],
          "scatterternary": [
           {
            "marker": {
             "colorbar": {
              "outlinewidth": 0,
              "ticks": ""
             }
            },
            "type": "scatterternary"
           }
          ],
          "surface": [
           {
            "colorbar": {
             "outlinewidth": 0,
             "ticks": ""
            },
            "colorscale": [
             [
              0,
              "#0d0887"
             ],
             [
              0.1111111111111111,
              "#46039f"
             ],
             [
              0.2222222222222222,
              "#7201a8"
             ],
             [
              0.3333333333333333,
              "#9c179e"
             ],
             [
              0.4444444444444444,
              "#bd3786"
             ],
             [
              0.5555555555555556,
              "#d8576b"
             ],
             [
              0.6666666666666666,
              "#ed7953"
             ],
             [
              0.7777777777777778,
              "#fb9f3a"
             ],
             [
              0.8888888888888888,
              "#fdca26"
             ],
             [
              1,
              "#f0f921"
             ]
            ],
            "type": "surface"
           }
          ],
          "table": [
           {
            "cells": {
             "fill": {
              "color": "#EBF0F8"
             },
             "line": {
              "color": "white"
             }
            },
            "header": {
             "fill": {
              "color": "#C8D4E3"
             },
             "line": {
              "color": "white"
             }
            },
            "type": "table"
           }
          ]
         },
         "layout": {
          "annotationdefaults": {
           "arrowcolor": "#2a3f5f",
           "arrowhead": 0,
           "arrowwidth": 1
          },
          "autotypenumbers": "strict",
          "coloraxis": {
           "colorbar": {
            "outlinewidth": 0,
            "ticks": ""
           }
          },
          "colorscale": {
           "diverging": [
            [
             0,
             "#8e0152"
            ],
            [
             0.1,
             "#c51b7d"
            ],
            [
             0.2,
             "#de77ae"
            ],
            [
             0.3,
             "#f1b6da"
            ],
            [
             0.4,
             "#fde0ef"
            ],
            [
             0.5,
             "#f7f7f7"
            ],
            [
             0.6,
             "#e6f5d0"
            ],
            [
             0.7,
             "#b8e186"
            ],
            [
             0.8,
             "#7fbc41"
            ],
            [
             0.9,
             "#4d9221"
            ],
            [
             1,
             "#276419"
            ]
           ],
           "sequential": [
            [
             0,
             "#0d0887"
            ],
            [
             0.1111111111111111,
             "#46039f"
            ],
            [
             0.2222222222222222,
             "#7201a8"
            ],
            [
             0.3333333333333333,
             "#9c179e"
            ],
            [
             0.4444444444444444,
             "#bd3786"
            ],
            [
             0.5555555555555556,
             "#d8576b"
            ],
            [
             0.6666666666666666,
             "#ed7953"
            ],
            [
             0.7777777777777778,
             "#fb9f3a"
            ],
            [
             0.8888888888888888,
             "#fdca26"
            ],
            [
             1,
             "#f0f921"
            ]
           ],
           "sequentialminus": [
            [
             0,
             "#0d0887"
            ],
            [
             0.1111111111111111,
             "#46039f"
            ],
            [
             0.2222222222222222,
             "#7201a8"
            ],
            [
             0.3333333333333333,
             "#9c179e"
            ],
            [
             0.4444444444444444,
             "#bd3786"
            ],
            [
             0.5555555555555556,
             "#d8576b"
            ],
            [
             0.6666666666666666,
             "#ed7953"
            ],
            [
             0.7777777777777778,
             "#fb9f3a"
            ],
            [
             0.8888888888888888,
             "#fdca26"
            ],
            [
             1,
             "#f0f921"
            ]
           ]
          },
          "colorway": [
           "#636efa",
           "#EF553B",
           "#00cc96",
           "#ab63fa",
           "#FFA15A",
           "#19d3f3",
           "#FF6692",
           "#B6E880",
           "#FF97FF",
           "#FECB52"
          ],
          "font": {
           "color": "#2a3f5f"
          },
          "geo": {
           "bgcolor": "white",
           "lakecolor": "white",
           "landcolor": "#E5ECF6",
           "showlakes": true,
           "showland": true,
           "subunitcolor": "white"
          },
          "hoverlabel": {
           "align": "left"
          },
          "hovermode": "closest",
          "mapbox": {
           "style": "light"
          },
          "paper_bgcolor": "white",
          "plot_bgcolor": "#E5ECF6",
          "polar": {
           "angularaxis": {
            "gridcolor": "white",
            "linecolor": "white",
            "ticks": ""
           },
           "bgcolor": "#E5ECF6",
           "radialaxis": {
            "gridcolor": "white",
            "linecolor": "white",
            "ticks": ""
           }
          },
          "scene": {
           "xaxis": {
            "backgroundcolor": "#E5ECF6",
            "gridcolor": "white",
            "gridwidth": 2,
            "linecolor": "white",
            "showbackground": true,
            "ticks": "",
            "zerolinecolor": "white"
           },
           "yaxis": {
            "backgroundcolor": "#E5ECF6",
            "gridcolor": "white",
            "gridwidth": 2,
            "linecolor": "white",
            "showbackground": true,
            "ticks": "",
            "zerolinecolor": "white"
           },
           "zaxis": {
            "backgroundcolor": "#E5ECF6",
            "gridcolor": "white",
            "gridwidth": 2,
            "linecolor": "white",
            "showbackground": true,
            "ticks": "",
            "zerolinecolor": "white"
           }
          },
          "shapedefaults": {
           "line": {
            "color": "#2a3f5f"
           }
          },
          "ternary": {
           "aaxis": {
            "gridcolor": "white",
            "linecolor": "white",
            "ticks": ""
           },
           "baxis": {
            "gridcolor": "white",
            "linecolor": "white",
            "ticks": ""
           },
           "bgcolor": "#E5ECF6",
           "caxis": {
            "gridcolor": "white",
            "linecolor": "white",
            "ticks": ""
           }
          },
          "title": {
           "x": 0.05
          },
          "xaxis": {
           "automargin": true,
           "gridcolor": "white",
           "linecolor": "white",
           "ticks": "",
           "title": {
            "standoff": 15
           },
           "zerolinecolor": "white",
           "zerolinewidth": 2
          },
          "yaxis": {
           "automargin": true,
           "gridcolor": "white",
           "linecolor": "white",
           "ticks": "",
           "title": {
            "standoff": 15
           },
           "zerolinecolor": "white",
           "zerolinewidth": 2
          }
         }
        },
        "title": {
         "text": "How Many Downloads are Paid Apps Giving Up?"
        },
        "xaxis": {
         "anchor": "y",
         "categoryarray": [
          "Free",
          "Paid"
         ],
         "categoryorder": "array",
         "domain": [
          0,
          1
         ],
         "title": {
          "text": "Type"
         }
        },
        "yaxis": {
         "anchor": "x",
         "domain": [
          0,
          1
         ],
         "title": {
          "text": "Installs"
         },
         "type": "log"
        }
       }
      },
      "text/html": [
       "<div>                            <div id=\"6bba1196-003e-4793-977a-6a24696a0f0d\" class=\"plotly-graph-div\" style=\"height:525px; width:100%;\"></div>            <script type=\"text/javascript\">                require([\"plotly\"], function(Plotly) {                    window.PLOTLYENV=window.PLOTLYENV || {};                                    if (document.getElementById(\"6bba1196-003e-4793-977a-6a24696a0f0d\")) {                    Plotly.newPlot(                        \"6bba1196-003e-4793-977a-6a24696a0f0d\",                        [{\"alignmentgroup\":\"True\",\"boxpoints\":\"all\",\"hovertemplate\":\"Type=%{x}<br>Installs=%{y}<extra></extra>\",\"legendgroup\":\"Free\",\"marker\":{\"color\":\"#636efa\"},\"name\":\"Free\",\"notched\":true,\"offsetgroup\":\"Free\",\"orientation\":\"v\",\"showlegend\":true,\"type\":\"box\",\"x\":[\"Free\",\"Free\",\"Free\",\"Free\",\"Free\",\"Free\",\"Free\",\"Free\",\"Free\",\"Free\",\"Free\",\"Free\",\"Free\",\"Free\",\"Free\",\"Free\",\"Free\",\"Free\",\"Free\",\"Free\",\"Free\",\"Free\",\"Free\",\"Free\",\"Free\",\"Free\",\"Free\",\"Free\",\"Free\",\"Free\",\"Free\",\"Free\",\"Free\",\"Free\",\"Free\",\"Free\",\"Free\",\"Free\",\"Free\",\"Free\",\"Free\",\"Free\",\"Free\",\"Free\",\"Free\",\"Free\",\"Free\",\"Free\",\"Free\",\"Free\",\"Free\",\"Free\",\"Free\",\"Free\",\"Free\",\"Free\",\"Free\",\"Free\",\"Free\",\"Free\",\"Free\",\"Free\",\"Free\",\"Free\",\"Free\",\"Free\",\"Free\",\"Free\",\"Free\",\"Free\",\"Free\",\"Free\",\"Free\",\"Free\",\"Free\",\"Free\",\"Free\",\"Free\",\"Free\",\"Free\",\"Free\",\"Free\",\"Free\",\"Free\",\"Free\",\"Free\",\"Free\",\"Free\",\"Free\",\"Free\",\"Free\",\"Free\",\"Free\",\"Free\",\"Free\",\"Free\",\"Free\",\"Free\",\"Free\",\"Free\",\"Free\",\"Free\",\"Free\",\"Free\",\"Free\",\"Free\",\"Free\",\"Free\",\"Free\",\"Free\",\"Free\",\"Free\",\"Free\",\"Free\",\"Free\",\"Free\",\"Free\",\"Free\",\"Free\",\"Free\",\"Free\",\"Free\",\"Free\",\"Free\",\"Free\",\"Free\",\"Free\",\"Free\",\"Free\",\"Free\",\"Free\",\"Free\",\"Free\",\"Free\",\"Free\",\"Free\",\"Free\",\"Free\",\"Free\",\"Free\",\"Free\",\"Free\",\"Free\",\"Free\",\"Free\",\"Free\",\"Free\",\"Free\",\"Free\",\"Free\",\"Free\",\"Free\",\"Free\",\"Free\",\"Free\",\"Free\",\"Free\",\"Free\",\"Free\",\"Free\",\"Free\",\"Free\",\"Free\",\"Free\",\"Free\",\"Free\",\"Free\",\"Free\",\"Free\",\"Free\",\"Free\",\"Free\",\"Free\",\"Free\",\"Free\",\"Free\",\"Free\",\"Free\",\"Free\",\"Free\",\"Free\",\"Free\",\"Free\",\"Free\",\"Free\",\"Free\",\"Free\",\"Free\",\"Free\",\"Free\",\"Free\",\"Free\",\"Free\",\"Free\",\"Free\",\"Free\",\"Free\",\"Free\",\"Free\",\"Free\",\"Free\",\"Free\",\"Free\",\"Free\",\"Free\",\"Free\",\"Free\",\"Free\",\"Free\",\"Free\",\"Free\",\"Free\",\"Free\",\"Free\",\"Free\",\"Free\",\"Free\",\"Free\",\"Free\",\"Free\",\"Free\",\"Free\",\"Free\",\"Free\",\"Free\",\"Free\",\"Free\",\"Free\",\"Free\",\"Free\",\"Free\",\"Free\",\"Free\",\"Free\",\"Free\",\"Free\",\"Free\",\"Free\",\"Free\",\"Free\",\"Free\",\"Free\",\"Free\",\"Free\",\"Free\",\"Free\",\"Free\",\"Free\",\"Free\",\"Free\",\"Free\",\"Free\",\"Free\",\"Free\",\"Free\",\"Free\",\"Free\",\"Free\",\"Free\",\"Free\",\"Free\",\"Free\",\"Free\",\"Free\",\"Free\",\"Free\",\"Free\",\"Free\",\"Free\",\"Free\",\"Free\",\"Free\",\"Free\",\"Free\",\"Free\",\"Free\",\"Free\",\"Free\",\"Free\",\"Free\",\"Free\",\"Free\",\"Free\",\"Free\",\"Free\",\"Free\",\"Free\",\"Free\",\"Free\",\"Free\",\"Free\",\"Free\",\"Free\",\"Free\",\"Free\",\"Free\",\"Free\",\"Free\",\"Free\",\"Free\",\"Free\",\"Free\",\"Free\",\"Free\",\"Free\",\"Free\",\"Free\",\"Free\",\"Free\",\"Free\",\"Free\",\"Free\",\"Free\",\"Free\",\"Free\",\"Free\",\"Free\",\"Free\",\"Free\",\"Free\",\"Free\",\"Free\",\"Free\",\"Free\",\"Free\",\"Free\",\"Free\",\"Free\",\"Free\",\"Free\",\"Free\",\"Free\",\"Free\",\"Free\",\"Free\",\"Free\",\"Free\",\"Free\",\"Free\",\"Free\",\"Free\",\"Free\",\"Free\",\"Free\",\"Free\",\"Free\",\"Free\",\"Free\",\"Free\",\"Free\",\"Free\",\"Free\",\"Free\",\"Free\",\"Free\",\"Free\",\"Free\",\"Free\",\"Free\",\"Free\",\"Free\",\"Free\",\"Free\",\"Free\",\"Free\",\"Free\",\"Free\",\"Free\",\"Free\",\"Free\",\"Free\",\"Free\",\"Free\",\"Free\",\"Free\",\"Free\",\"Free\",\"Free\",\"Free\",\"Free\",\"Free\",\"Free\",\"Free\",\"Free\",\"Free\",\"Free\",\"Free\",\"Free\",\"Free\",\"Free\",\"Free\",\"Free\",\"Free\",\"Free\",\"Free\",\"Free\",\"Free\",\"Free\",\"Free\",\"Free\",\"Free\",\"Free\",\"Free\",\"Free\",\"Free\",\"Free\",\"Free\",\"Free\",\"Free\",\"Free\",\"Free\",\"Free\",\"Free\",\"Free\",\"Free\",\"Free\",\"Free\",\"Free\",\"Free\",\"Free\",\"Free\",\"Free\",\"Free\",\"Free\",\"Free\",\"Free\",\"Free\",\"Free\",\"Free\",\"Free\",\"Free\",\"Free\",\"Free\",\"Free\",\"Free\",\"Free\",\"Free\",\"Free\",\"Free\",\"Free\",\"Free\",\"Free\",\"Free\",\"Free\",\"Free\",\"Free\",\"Free\",\"Free\",\"Free\",\"Free\",\"Free\",\"Free\",\"Free\",\"Free\",\"Free\",\"Free\",\"Free\",\"Free\",\"Free\",\"Free\",\"Free\",\"Free\",\"Free\",\"Free\",\"Free\",\"Free\",\"Free\",\"Free\",\"Free\",\"Free\",\"Free\",\"Free\",\"Free\",\"Free\",\"Free\",\"Free\",\"Free\",\"Free\",\"Free\",\"Free\",\"Free\",\"Free\",\"Free\",\"Free\",\"Free\",\"Free\",\"Free\",\"Free\",\"Free\",\"Free\",\"Free\",\"Free\",\"Free\",\"Free\",\"Free\",\"Free\",\"Free\",\"Free\",\"Free\",\"Free\",\"Free\",\"Free\",\"Free\",\"Free\",\"Free\",\"Free\",\"Free\",\"Free\",\"Free\",\"Free\",\"Free\",\"Free\",\"Free\",\"Free\",\"Free\",\"Free\",\"Free\",\"Free\",\"Free\",\"Free\",\"Free\",\"Free\",\"Free\",\"Free\",\"Free\",\"Free\",\"Free\",\"Free\",\"Free\",\"Free\",\"Free\",\"Free\",\"Free\",\"Free\",\"Free\",\"Free\",\"Free\",\"Free\",\"Free\",\"Free\",\"Free\",\"Free\",\"Free\",\"Free\",\"Free\",\"Free\",\"Free\",\"Free\",\"Free\",\"Free\",\"Free\",\"Free\",\"Free\",\"Free\",\"Free\",\"Free\",\"Free\",\"Free\",\"Free\",\"Free\",\"Free\",\"Free\",\"Free\",\"Free\",\"Free\",\"Free\",\"Free\",\"Free\",\"Free\",\"Free\",\"Free\",\"Free\",\"Free\",\"Free\",\"Free\",\"Free\",\"Free\",\"Free\",\"Free\",\"Free\",\"Free\",\"Free\",\"Free\",\"Free\",\"Free\",\"Free\",\"Free\",\"Free\",\"Free\",\"Free\",\"Free\",\"Free\",\"Free\",\"Free\",\"Free\",\"Free\",\"Free\",\"Free\",\"Free\",\"Free\",\"Free\",\"Free\",\"Free\",\"Free\",\"Free\",\"Free\",\"Free\",\"Free\",\"Free\",\"Free\",\"Free\",\"Free\",\"Free\",\"Free\",\"Free\",\"Free\",\"Free\",\"Free\",\"Free\",\"Free\",\"Free\",\"Free\",\"Free\",\"Free\",\"Free\",\"Free\",\"Free\",\"Free\",\"Free\",\"Free\",\"Free\",\"Free\",\"Free\",\"Free\",\"Free\",\"Free\",\"Free\",\"Free\",\"Free\",\"Free\",\"Free\",\"Free\",\"Free\",\"Free\",\"Free\",\"Free\",\"Free\",\"Free\",\"Free\",\"Free\",\"Free\",\"Free\",\"Free\",\"Free\",\"Free\",\"Free\",\"Free\",\"Free\",\"Free\",\"Free\",\"Free\",\"Free\",\"Free\",\"Free\",\"Free\",\"Free\",\"Free\",\"Free\",\"Free\",\"Free\",\"Free\",\"Free\",\"Free\",\"Free\",\"Free\",\"Free\",\"Free\",\"Free\",\"Free\",\"Free\",\"Free\",\"Free\",\"Free\",\"Free\",\"Free\",\"Free\",\"Free\",\"Free\",\"Free\",\"Free\",\"Free\",\"Free\",\"Free\",\"Free\",\"Free\",\"Free\",\"Free\",\"Free\",\"Free\",\"Free\",\"Free\",\"Free\",\"Free\",\"Free\",\"Free\",\"Free\",\"Free\",\"Free\",\"Free\",\"Free\",\"Free\",\"Free\",\"Free\",\"Free\",\"Free\",\"Free\",\"Free\",\"Free\",\"Free\",\"Free\",\"Free\",\"Free\",\"Free\",\"Free\",\"Free\",\"Free\",\"Free\",\"Free\",\"Free\",\"Free\",\"Free\",\"Free\",\"Free\",\"Free\",\"Free\",\"Free\",\"Free\",\"Free\",\"Free\",\"Free\",\"Free\",\"Free\",\"Free\",\"Free\",\"Free\",\"Free\",\"Free\",\"Free\",\"Free\",\"Free\",\"Free\",\"Free\",\"Free\",\"Free\",\"Free\",\"Free\",\"Free\",\"Free\",\"Free\",\"Free\",\"Free\",\"Free\",\"Free\",\"Free\",\"Free\",\"Free\",\"Free\",\"Free\",\"Free\",\"Free\",\"Free\",\"Free\",\"Free\",\"Free\",\"Free\",\"Free\",\"Free\",\"Free\",\"Free\",\"Free\",\"Free\",\"Free\",\"Free\",\"Free\",\"Free\",\"Free\",\"Free\",\"Free\",\"Free\",\"Free\",\"Free\",\"Free\",\"Free\",\"Free\",\"Free\",\"Free\",\"Free\",\"Free\",\"Free\",\"Free\",\"Free\",\"Free\",\"Free\",\"Free\",\"Free\",\"Free\",\"Free\",\"Free\",\"Free\",\"Free\",\"Free\",\"Free\",\"Free\",\"Free\",\"Free\",\"Free\",\"Free\",\"Free\",\"Free\",\"Free\",\"Free\",\"Free\",\"Free\",\"Free\",\"Free\",\"Free\",\"Free\",\"Free\",\"Free\",\"Free\",\"Free\",\"Free\",\"Free\",\"Free\",\"Free\",\"Free\",\"Free\",\"Free\",\"Free\",\"Free\",\"Free\",\"Free\",\"Free\",\"Free\",\"Free\",\"Free\",\"Free\",\"Free\",\"Free\",\"Free\",\"Free\",\"Free\",\"Free\",\"Free\",\"Free\",\"Free\",\"Free\",\"Free\",\"Free\",\"Free\",\"Free\",\"Free\",\"Free\",\"Free\",\"Free\",\"Free\",\"Free\",\"Free\",\"Free\",\"Free\",\"Free\",\"Free\",\"Free\",\"Free\",\"Free\",\"Free\",\"Free\",\"Free\",\"Free\",\"Free\",\"Free\",\"Free\",\"Free\",\"Free\",\"Free\",\"Free\",\"Free\",\"Free\",\"Free\",\"Free\",\"Free\",\"Free\",\"Free\",\"Free\",\"Free\",\"Free\",\"Free\",\"Free\",\"Free\",\"Free\",\"Free\",\"Free\",\"Free\",\"Free\",\"Free\",\"Free\",\"Free\",\"Free\",\"Free\",\"Free\",\"Free\",\"Free\",\"Free\",\"Free\",\"Free\",\"Free\",\"Free\",\"Free\",\"Free\",\"Free\",\"Free\",\"Free\",\"Free\",\"Free\",\"Free\",\"Free\",\"Free\",\"Free\",\"Free\",\"Free\",\"Free\",\"Free\",\"Free\",\"Free\",\"Free\",\"Free\",\"Free\",\"Free\",\"Free\",\"Free\",\"Free\",\"Free\",\"Free\",\"Free\",\"Free\",\"Free\",\"Free\",\"Free\",\"Free\",\"Free\",\"Free\",\"Free\",\"Free\",\"Free\",\"Free\",\"Free\",\"Free\",\"Free\",\"Free\",\"Free\",\"Free\",\"Free\",\"Free\",\"Free\",\"Free\",\"Free\",\"Free\",\"Free\",\"Free\",\"Free\",\"Free\",\"Free\",\"Free\",\"Free\",\"Free\",\"Free\",\"Free\",\"Free\",\"Free\",\"Free\",\"Free\",\"Free\",\"Free\",\"Free\",\"Free\",\"Free\",\"Free\",\"Free\",\"Free\",\"Free\",\"Free\",\"Free\",\"Free\",\"Free\",\"Free\",\"Free\",\"Free\",\"Free\",\"Free\",\"Free\",\"Free\",\"Free\",\"Free\",\"Free\",\"Free\",\"Free\",\"Free\",\"Free\",\"Free\",\"Free\",\"Free\",\"Free\",\"Free\",\"Free\",\"Free\",\"Free\",\"Free\",\"Free\",\"Free\",\"Free\",\"Free\",\"Free\",\"Free\",\"Free\",\"Free\",\"Free\",\"Free\",\"Free\",\"Free\",\"Free\",\"Free\",\"Free\",\"Free\",\"Free\",\"Free\",\"Free\",\"Free\",\"Free\",\"Free\",\"Free\",\"Free\",\"Free\",\"Free\",\"Free\",\"Free\",\"Free\",\"Free\",\"Free\",\"Free\",\"Free\",\"Free\",\"Free\",\"Free\",\"Free\",\"Free\",\"Free\",\"Free\",\"Free\",\"Free\",\"Free\",\"Free\",\"Free\",\"Free\",\"Free\",\"Free\",\"Free\",\"Free\",\"Free\",\"Free\",\"Free\",\"Free\",\"Free\",\"Free\",\"Free\",\"Free\",\"Free\",\"Free\",\"Free\",\"Free\",\"Free\",\"Free\",\"Free\",\"Free\",\"Free\",\"Free\",\"Free\",\"Free\",\"Free\",\"Free\",\"Free\",\"Free\",\"Free\",\"Free\",\"Free\",\"Free\",\"Free\",\"Free\",\"Free\",\"Free\",\"Free\",\"Free\",\"Free\",\"Free\",\"Free\",\"Free\",\"Free\",\"Free\",\"Free\",\"Free\",\"Free\",\"Free\",\"Free\",\"Free\",\"Free\",\"Free\",\"Free\",\"Free\",\"Free\",\"Free\",\"Free\",\"Free\",\"Free\",\"Free\",\"Free\",\"Free\",\"Free\",\"Free\",\"Free\",\"Free\",\"Free\",\"Free\",\"Free\",\"Free\",\"Free\",\"Free\",\"Free\",\"Free\",\"Free\",\"Free\",\"Free\",\"Free\",\"Free\",\"Free\",\"Free\",\"Free\",\"Free\",\"Free\",\"Free\",\"Free\",\"Free\",\"Free\",\"Free\",\"Free\",\"Free\",\"Free\",\"Free\",\"Free\",\"Free\",\"Free\",\"Free\",\"Free\",\"Free\",\"Free\",\"Free\",\"Free\",\"Free\",\"Free\",\"Free\",\"Free\",\"Free\",\"Free\",\"Free\",\"Free\",\"Free\",\"Free\",\"Free\",\"Free\",\"Free\",\"Free\",\"Free\",\"Free\",\"Free\",\"Free\",\"Free\",\"Free\",\"Free\",\"Free\",\"Free\",\"Free\",\"Free\",\"Free\",\"Free\",\"Free\",\"Free\",\"Free\",\"Free\",\"Free\",\"Free\",\"Free\",\"Free\",\"Free\",\"Free\",\"Free\",\"Free\",\"Free\",\"Free\",\"Free\",\"Free\",\"Free\",\"Free\",\"Free\",\"Free\",\"Free\",\"Free\",\"Free\",\"Free\",\"Free\",\"Free\",\"Free\",\"Free\",\"Free\",\"Free\",\"Free\",\"Free\",\"Free\",\"Free\",\"Free\",\"Free\",\"Free\",\"Free\",\"Free\",\"Free\",\"Free\",\"Free\",\"Free\",\"Free\",\"Free\",\"Free\",\"Free\",\"Free\",\"Free\",\"Free\",\"Free\",\"Free\",\"Free\",\"Free\",\"Free\",\"Free\",\"Free\",\"Free\",\"Free\",\"Free\",\"Free\",\"Free\",\"Free\",\"Free\",\"Free\",\"Free\",\"Free\",\"Free\",\"Free\",\"Free\",\"Free\",\"Free\",\"Free\",\"Free\",\"Free\",\"Free\",\"Free\",\"Free\",\"Free\",\"Free\",\"Free\",\"Free\",\"Free\",\"Free\",\"Free\",\"Free\",\"Free\",\"Free\",\"Free\",\"Free\",\"Free\",\"Free\",\"Free\",\"Free\",\"Free\",\"Free\",\"Free\",\"Free\",\"Free\",\"Free\",\"Free\",\"Free\",\"Free\",\"Free\",\"Free\",\"Free\",\"Free\",\"Free\",\"Free\",\"Free\",\"Free\",\"Free\",\"Free\",\"Free\",\"Free\",\"Free\",\"Free\",\"Free\",\"Free\",\"Free\",\"Free\",\"Free\",\"Free\",\"Free\",\"Free\",\"Free\",\"Free\",\"Free\",\"Free\",\"Free\",\"Free\",\"Free\",\"Free\",\"Free\",\"Free\",\"Free\",\"Free\",\"Free\",\"Free\",\"Free\",\"Free\",\"Free\",\"Free\",\"Free\",\"Free\",\"Free\",\"Free\",\"Free\",\"Free\",\"Free\",\"Free\",\"Free\",\"Free\",\"Free\",\"Free\",\"Free\",\"Free\",\"Free\",\"Free\",\"Free\",\"Free\",\"Free\",\"Free\",\"Free\",\"Free\",\"Free\",\"Free\",\"Free\",\"Free\",\"Free\",\"Free\",\"Free\",\"Free\",\"Free\",\"Free\",\"Free\",\"Free\",\"Free\",\"Free\",\"Free\",\"Free\",\"Free\",\"Free\",\"Free\",\"Free\",\"Free\",\"Free\",\"Free\",\"Free\",\"Free\",\"Free\",\"Free\",\"Free\",\"Free\",\"Free\",\"Free\",\"Free\",\"Free\",\"Free\",\"Free\",\"Free\",\"Free\",\"Free\",\"Free\",\"Free\",\"Free\",\"Free\",\"Free\",\"Free\",\"Free\",\"Free\",\"Free\",\"Free\",\"Free\",\"Free\",\"Free\",\"Free\",\"Free\",\"Free\",\"Free\",\"Free\",\"Free\",\"Free\",\"Free\",\"Free\",\"Free\",\"Free\",\"Free\",\"Free\",\"Free\",\"Free\",\"Free\",\"Free\",\"Free\",\"Free\",\"Free\",\"Free\",\"Free\",\"Free\",\"Free\",\"Free\",\"Free\",\"Free\",\"Free\",\"Free\",\"Free\",\"Free\",\"Free\",\"Free\",\"Free\",\"Free\",\"Free\",\"Free\",\"Free\",\"Free\",\"Free\",\"Free\",\"Free\",\"Free\",\"Free\",\"Free\",\"Free\",\"Free\",\"Free\",\"Free\",\"Free\",\"Free\",\"Free\",\"Free\",\"Free\",\"Free\",\"Free\",\"Free\",\"Free\",\"Free\",\"Free\",\"Free\",\"Free\",\"Free\",\"Free\",\"Free\",\"Free\",\"Free\",\"Free\",\"Free\",\"Free\",\"Free\",\"Free\",\"Free\",\"Free\",\"Free\",\"Free\",\"Free\",\"Free\",\"Free\",\"Free\",\"Free\",\"Free\",\"Free\",\"Free\",\"Free\",\"Free\",\"Free\",\"Free\",\"Free\",\"Free\",\"Free\",\"Free\",\"Free\",\"Free\",\"Free\",\"Free\",\"Free\",\"Free\",\"Free\",\"Free\",\"Free\",\"Free\",\"Free\",\"Free\",\"Free\",\"Free\",\"Free\",\"Free\",\"Free\",\"Free\",\"Free\",\"Free\",\"Free\",\"Free\",\"Free\",\"Free\",\"Free\",\"Free\",\"Free\",\"Free\",\"Free\",\"Free\",\"Free\",\"Free\",\"Free\",\"Free\",\"Free\",\"Free\",\"Free\",\"Free\",\"Free\",\"Free\",\"Free\",\"Free\",\"Free\",\"Free\",\"Free\",\"Free\",\"Free\",\"Free\",\"Free\",\"Free\",\"Free\",\"Free\",\"Free\",\"Free\",\"Free\",\"Free\",\"Free\",\"Free\",\"Free\",\"Free\",\"Free\",\"Free\",\"Free\",\"Free\",\"Free\",\"Free\",\"Free\",\"Free\",\"Free\",\"Free\",\"Free\",\"Free\",\"Free\",\"Free\",\"Free\",\"Free\",\"Free\",\"Free\",\"Free\",\"Free\",\"Free\",\"Free\",\"Free\",\"Free\",\"Free\",\"Free\",\"Free\",\"Free\",\"Free\",\"Free\",\"Free\",\"Free\",\"Free\",\"Free\",\"Free\",\"Free\",\"Free\",\"Free\",\"Free\",\"Free\",\"Free\",\"Free\",\"Free\",\"Free\",\"Free\",\"Free\",\"Free\",\"Free\",\"Free\",\"Free\",\"Free\",\"Free\",\"Free\",\"Free\",\"Free\",\"Free\",\"Free\",\"Free\",\"Free\",\"Free\",\"Free\",\"Free\",\"Free\",\"Free\",\"Free\",\"Free\",\"Free\",\"Free\",\"Free\",\"Free\",\"Free\",\"Free\",\"Free\",\"Free\",\"Free\",\"Free\",\"Free\",\"Free\",\"Free\",\"Free\",\"Free\",\"Free\",\"Free\",\"Free\",\"Free\",\"Free\",\"Free\",\"Free\",\"Free\",\"Free\",\"Free\",\"Free\",\"Free\",\"Free\",\"Free\",\"Free\",\"Free\",\"Free\",\"Free\",\"Free\",\"Free\",\"Free\",\"Free\",\"Free\",\"Free\",\"Free\",\"Free\",\"Free\",\"Free\",\"Free\",\"Free\",\"Free\",\"Free\",\"Free\",\"Free\",\"Free\",\"Free\",\"Free\",\"Free\",\"Free\",\"Free\",\"Free\",\"Free\",\"Free\",\"Free\",\"Free\",\"Free\",\"Free\",\"Free\",\"Free\",\"Free\",\"Free\",\"Free\",\"Free\",\"Free\",\"Free\",\"Free\",\"Free\",\"Free\",\"Free\",\"Free\",\"Free\",\"Free\",\"Free\",\"Free\",\"Free\",\"Free\",\"Free\",\"Free\",\"Free\",\"Free\",\"Free\",\"Free\",\"Free\",\"Free\",\"Free\",\"Free\",\"Free\",\"Free\",\"Free\",\"Free\",\"Free\",\"Free\",\"Free\",\"Free\",\"Free\",\"Free\",\"Free\",\"Free\",\"Free\",\"Free\",\"Free\",\"Free\",\"Free\",\"Free\",\"Free\",\"Free\",\"Free\",\"Free\",\"Free\",\"Free\",\"Free\",\"Free\",\"Free\",\"Free\",\"Free\",\"Free\",\"Free\",\"Free\",\"Free\",\"Free\",\"Free\",\"Free\",\"Free\",\"Free\",\"Free\",\"Free\",\"Free\",\"Free\",\"Free\",\"Free\",\"Free\",\"Free\",\"Free\",\"Free\",\"Free\",\"Free\",\"Free\",\"Free\",\"Free\",\"Free\",\"Free\",\"Free\",\"Free\",\"Free\",\"Free\",\"Free\",\"Free\",\"Free\",\"Free\",\"Free\",\"Free\",\"Free\",\"Free\",\"Free\",\"Free\",\"Free\",\"Free\",\"Free\",\"Free\",\"Free\",\"Free\",\"Free\",\"Free\",\"Free\",\"Free\",\"Free\",\"Free\",\"Free\",\"Free\",\"Free\",\"Free\",\"Free\",\"Free\",\"Free\",\"Free\",\"Free\",\"Free\",\"Free\",\"Free\",\"Free\",\"Free\",\"Free\",\"Free\",\"Free\",\"Free\",\"Free\",\"Free\",\"Free\",\"Free\",\"Free\",\"Free\",\"Free\",\"Free\",\"Free\",\"Free\",\"Free\",\"Free\",\"Free\",\"Free\",\"Free\",\"Free\",\"Free\",\"Free\",\"Free\",\"Free\",\"Free\",\"Free\",\"Free\",\"Free\",\"Free\",\"Free\",\"Free\",\"Free\",\"Free\",\"Free\",\"Free\",\"Free\",\"Free\",\"Free\",\"Free\",\"Free\",\"Free\",\"Free\",\"Free\",\"Free\",\"Free\",\"Free\",\"Free\",\"Free\",\"Free\",\"Free\",\"Free\",\"Free\",\"Free\",\"Free\",\"Free\",\"Free\",\"Free\",\"Free\",\"Free\",\"Free\",\"Free\",\"Free\",\"Free\",\"Free\",\"Free\",\"Free\",\"Free\",\"Free\",\"Free\",\"Free\",\"Free\",\"Free\",\"Free\",\"Free\",\"Free\",\"Free\",\"Free\",\"Free\",\"Free\",\"Free\",\"Free\",\"Free\",\"Free\",\"Free\",\"Free\",\"Free\",\"Free\",\"Free\",\"Free\",\"Free\",\"Free\",\"Free\",\"Free\",\"Free\",\"Free\",\"Free\",\"Free\",\"Free\",\"Free\",\"Free\",\"Free\",\"Free\",\"Free\",\"Free\",\"Free\",\"Free\",\"Free\",\"Free\",\"Free\",\"Free\",\"Free\",\"Free\",\"Free\",\"Free\",\"Free\",\"Free\",\"Free\",\"Free\",\"Free\",\"Free\",\"Free\",\"Free\",\"Free\",\"Free\",\"Free\",\"Free\",\"Free\",\"Free\",\"Free\",\"Free\",\"Free\",\"Free\",\"Free\",\"Free\",\"Free\",\"Free\",\"Free\",\"Free\",\"Free\",\"Free\",\"Free\",\"Free\",\"Free\",\"Free\",\"Free\",\"Free\",\"Free\",\"Free\",\"Free\",\"Free\",\"Free\",\"Free\",\"Free\",\"Free\",\"Free\",\"Free\",\"Free\",\"Free\",\"Free\",\"Free\",\"Free\",\"Free\",\"Free\",\"Free\",\"Free\",\"Free\",\"Free\",\"Free\",\"Free\",\"Free\",\"Free\",\"Free\",\"Free\",\"Free\",\"Free\",\"Free\",\"Free\",\"Free\",\"Free\",\"Free\",\"Free\",\"Free\",\"Free\",\"Free\",\"Free\",\"Free\",\"Free\",\"Free\",\"Free\",\"Free\",\"Free\",\"Free\",\"Free\",\"Free\",\"Free\",\"Free\",\"Free\",\"Free\",\"Free\",\"Free\",\"Free\",\"Free\",\"Free\",\"Free\",\"Free\",\"Free\",\"Free\",\"Free\",\"Free\",\"Free\",\"Free\",\"Free\",\"Free\",\"Free\",\"Free\",\"Free\",\"Free\",\"Free\",\"Free\",\"Free\",\"Free\",\"Free\",\"Free\",\"Free\",\"Free\",\"Free\",\"Free\",\"Free\",\"Free\",\"Free\",\"Free\",\"Free\",\"Free\",\"Free\",\"Free\",\"Free\",\"Free\",\"Free\",\"Free\",\"Free\",\"Free\",\"Free\",\"Free\",\"Free\",\"Free\",\"Free\",\"Free\",\"Free\",\"Free\",\"Free\",\"Free\",\"Free\",\"Free\",\"Free\",\"Free\",\"Free\",\"Free\",\"Free\",\"Free\",\"Free\",\"Free\",\"Free\",\"Free\",\"Free\",\"Free\",\"Free\",\"Free\",\"Free\",\"Free\",\"Free\",\"Free\",\"Free\",\"Free\",\"Free\",\"Free\",\"Free\",\"Free\",\"Free\",\"Free\",\"Free\",\"Free\",\"Free\",\"Free\",\"Free\",\"Free\",\"Free\",\"Free\",\"Free\",\"Free\",\"Free\",\"Free\",\"Free\",\"Free\",\"Free\",\"Free\",\"Free\",\"Free\",\"Free\",\"Free\",\"Free\",\"Free\",\"Free\",\"Free\",\"Free\",\"Free\",\"Free\",\"Free\",\"Free\",\"Free\",\"Free\",\"Free\",\"Free\",\"Free\",\"Free\",\"Free\",\"Free\",\"Free\",\"Free\",\"Free\",\"Free\",\"Free\",\"Free\",\"Free\",\"Free\",\"Free\",\"Free\",\"Free\",\"Free\",\"Free\",\"Free\",\"Free\",\"Free\",\"Free\",\"Free\",\"Free\",\"Free\",\"Free\",\"Free\",\"Free\",\"Free\",\"Free\",\"Free\",\"Free\",\"Free\",\"Free\",\"Free\",\"Free\",\"Free\",\"Free\",\"Free\",\"Free\",\"Free\",\"Free\",\"Free\",\"Free\",\"Free\",\"Free\",\"Free\",\"Free\",\"Free\",\"Free\",\"Free\",\"Free\",\"Free\",\"Free\",\"Free\",\"Free\",\"Free\",\"Free\",\"Free\",\"Free\",\"Free\",\"Free\",\"Free\",\"Free\",\"Free\",\"Free\",\"Free\",\"Free\",\"Free\",\"Free\",\"Free\",\"Free\",\"Free\",\"Free\",\"Free\",\"Free\",\"Free\",\"Free\",\"Free\",\"Free\",\"Free\",\"Free\",\"Free\",\"Free\",\"Free\",\"Free\",\"Free\",\"Free\",\"Free\",\"Free\",\"Free\",\"Free\",\"Free\",\"Free\",\"Free\",\"Free\",\"Free\",\"Free\",\"Free\",\"Free\",\"Free\",\"Free\",\"Free\",\"Free\",\"Free\",\"Free\",\"Free\",\"Free\",\"Free\",\"Free\",\"Free\",\"Free\",\"Free\",\"Free\",\"Free\",\"Free\",\"Free\",\"Free\",\"Free\",\"Free\",\"Free\",\"Free\",\"Free\",\"Free\",\"Free\",\"Free\",\"Free\",\"Free\",\"Free\",\"Free\",\"Free\",\"Free\",\"Free\",\"Free\",\"Free\",\"Free\",\"Free\",\"Free\",\"Free\",\"Free\",\"Free\",\"Free\",\"Free\",\"Free\",\"Free\",\"Free\",\"Free\",\"Free\",\"Free\",\"Free\",\"Free\",\"Free\",\"Free\",\"Free\",\"Free\",\"Free\",\"Free\",\"Free\",\"Free\",\"Free\",\"Free\",\"Free\",\"Free\",\"Free\",\"Free\",\"Free\",\"Free\",\"Free\",\"Free\",\"Free\",\"Free\",\"Free\",\"Free\",\"Free\",\"Free\",\"Free\",\"Free\",\"Free\",\"Free\",\"Free\",\"Free\",\"Free\",\"Free\",\"Free\",\"Free\",\"Free\",\"Free\",\"Free\",\"Free\",\"Free\",\"Free\",\"Free\",\"Free\",\"Free\",\"Free\",\"Free\",\"Free\",\"Free\",\"Free\",\"Free\",\"Free\",\"Free\",\"Free\",\"Free\",\"Free\",\"Free\",\"Free\",\"Free\",\"Free\",\"Free\",\"Free\",\"Free\",\"Free\",\"Free\",\"Free\",\"Free\",\"Free\",\"Free\",\"Free\",\"Free\",\"Free\",\"Free\",\"Free\",\"Free\",\"Free\",\"Free\",\"Free\",\"Free\",\"Free\",\"Free\",\"Free\",\"Free\",\"Free\",\"Free\",\"Free\",\"Free\",\"Free\",\"Free\",\"Free\",\"Free\",\"Free\",\"Free\",\"Free\",\"Free\",\"Free\",\"Free\",\"Free\",\"Free\",\"Free\",\"Free\",\"Free\",\"Free\",\"Free\",\"Free\",\"Free\",\"Free\",\"Free\",\"Free\",\"Free\",\"Free\",\"Free\",\"Free\",\"Free\",\"Free\",\"Free\",\"Free\",\"Free\",\"Free\",\"Free\",\"Free\",\"Free\",\"Free\",\"Free\",\"Free\",\"Free\",\"Free\",\"Free\",\"Free\",\"Free\",\"Free\",\"Free\",\"Free\",\"Free\",\"Free\",\"Free\",\"Free\",\"Free\",\"Free\",\"Free\",\"Free\",\"Free\",\"Free\",\"Free\",\"Free\",\"Free\",\"Free\",\"Free\",\"Free\",\"Free\",\"Free\",\"Free\",\"Free\",\"Free\",\"Free\",\"Free\",\"Free\",\"Free\",\"Free\",\"Free\",\"Free\",\"Free\",\"Free\",\"Free\",\"Free\",\"Free\",\"Free\",\"Free\",\"Free\",\"Free\",\"Free\",\"Free\",\"Free\",\"Free\",\"Free\",\"Free\",\"Free\",\"Free\",\"Free\",\"Free\",\"Free\",\"Free\",\"Free\",\"Free\",\"Free\",\"Free\",\"Free\",\"Free\",\"Free\",\"Free\",\"Free\",\"Free\",\"Free\",\"Free\",\"Free\",\"Free\",\"Free\",\"Free\",\"Free\",\"Free\",\"Free\",\"Free\",\"Free\",\"Free\",\"Free\",\"Free\",\"Free\",\"Free\",\"Free\",\"Free\",\"Free\",\"Free\",\"Free\",\"Free\",\"Free\",\"Free\",\"Free\",\"Free\",\"Free\",\"Free\",\"Free\",\"Free\",\"Free\",\"Free\",\"Free\",\"Free\",\"Free\",\"Free\",\"Free\",\"Free\",\"Free\",\"Free\",\"Free\",\"Free\",\"Free\",\"Free\",\"Free\",\"Free\",\"Free\",\"Free\",\"Free\",\"Free\",\"Free\",\"Free\",\"Free\",\"Free\",\"Free\",\"Free\",\"Free\",\"Free\",\"Free\",\"Free\",\"Free\",\"Free\",\"Free\",\"Free\",\"Free\",\"Free\",\"Free\",\"Free\",\"Free\",\"Free\",\"Free\",\"Free\",\"Free\",\"Free\",\"Free\",\"Free\",\"Free\",\"Free\",\"Free\",\"Free\",\"Free\",\"Free\",\"Free\",\"Free\",\"Free\",\"Free\",\"Free\",\"Free\",\"Free\",\"Free\",\"Free\",\"Free\",\"Free\",\"Free\",\"Free\",\"Free\",\"Free\",\"Free\",\"Free\",\"Free\",\"Free\",\"Free\",\"Free\",\"Free\",\"Free\",\"Free\",\"Free\",\"Free\",\"Free\",\"Free\",\"Free\",\"Free\",\"Free\",\"Free\",\"Free\",\"Free\",\"Free\",\"Free\",\"Free\",\"Free\",\"Free\",\"Free\",\"Free\",\"Free\",\"Free\",\"Free\",\"Free\",\"Free\",\"Free\",\"Free\",\"Free\",\"Free\",\"Free\",\"Free\",\"Free\",\"Free\",\"Free\",\"Free\",\"Free\",\"Free\",\"Free\",\"Free\",\"Free\",\"Free\",\"Free\",\"Free\",\"Free\",\"Free\",\"Free\",\"Free\",\"Free\",\"Free\",\"Free\",\"Free\",\"Free\",\"Free\",\"Free\",\"Free\",\"Free\",\"Free\",\"Free\",\"Free\",\"Free\",\"Free\",\"Free\",\"Free\",\"Free\",\"Free\",\"Free\",\"Free\",\"Free\",\"Free\",\"Free\",\"Free\",\"Free\",\"Free\",\"Free\",\"Free\",\"Free\",\"Free\",\"Free\",\"Free\",\"Free\",\"Free\",\"Free\",\"Free\",\"Free\",\"Free\",\"Free\",\"Free\",\"Free\",\"Free\",\"Free\",\"Free\",\"Free\",\"Free\",\"Free\",\"Free\",\"Free\",\"Free\",\"Free\",\"Free\",\"Free\",\"Free\",\"Free\",\"Free\",\"Free\",\"Free\",\"Free\",\"Free\",\"Free\",\"Free\",\"Free\",\"Free\",\"Free\",\"Free\",\"Free\",\"Free\",\"Free\",\"Free\",\"Free\",\"Free\",\"Free\",\"Free\",\"Free\",\"Free\",\"Free\",\"Free\",\"Free\",\"Free\",\"Free\",\"Free\",\"Free\",\"Free\",\"Free\",\"Free\",\"Free\",\"Free\",\"Free\",\"Free\",\"Free\",\"Free\",\"Free\",\"Free\",\"Free\",\"Free\",\"Free\",\"Free\",\"Free\",\"Free\",\"Free\",\"Free\",\"Free\",\"Free\",\"Free\",\"Free\",\"Free\",\"Free\",\"Free\",\"Free\",\"Free\",\"Free\",\"Free\",\"Free\",\"Free\",\"Free\",\"Free\",\"Free\",\"Free\",\"Free\",\"Free\",\"Free\",\"Free\",\"Free\",\"Free\",\"Free\",\"Free\",\"Free\",\"Free\",\"Free\",\"Free\",\"Free\",\"Free\",\"Free\",\"Free\",\"Free\",\"Free\",\"Free\",\"Free\",\"Free\",\"Free\",\"Free\",\"Free\",\"Free\",\"Free\",\"Free\",\"Free\",\"Free\",\"Free\",\"Free\",\"Free\",\"Free\",\"Free\",\"Free\",\"Free\",\"Free\",\"Free\",\"Free\",\"Free\",\"Free\",\"Free\",\"Free\",\"Free\",\"Free\",\"Free\",\"Free\",\"Free\",\"Free\",\"Free\",\"Free\",\"Free\",\"Free\",\"Free\",\"Free\",\"Free\",\"Free\",\"Free\",\"Free\",\"Free\",\"Free\",\"Free\",\"Free\",\"Free\",\"Free\",\"Free\",\"Free\",\"Free\",\"Free\",\"Free\",\"Free\",\"Free\",\"Free\",\"Free\",\"Free\",\"Free\",\"Free\",\"Free\",\"Free\",\"Free\",\"Free\",\"Free\",\"Free\",\"Free\",\"Free\",\"Free\",\"Free\",\"Free\",\"Free\",\"Free\",\"Free\",\"Free\",\"Free\",\"Free\",\"Free\",\"Free\",\"Free\",\"Free\",\"Free\",\"Free\",\"Free\",\"Free\",\"Free\",\"Free\",\"Free\",\"Free\",\"Free\",\"Free\",\"Free\",\"Free\",\"Free\",\"Free\",\"Free\",\"Free\",\"Free\",\"Free\",\"Free\",\"Free\",\"Free\",\"Free\",\"Free\",\"Free\",\"Free\",\"Free\",\"Free\",\"Free\",\"Free\",\"Free\",\"Free\",\"Free\",\"Free\",\"Free\",\"Free\",\"Free\",\"Free\",\"Free\",\"Free\",\"Free\",\"Free\",\"Free\",\"Free\",\"Free\",\"Free\",\"Free\",\"Free\",\"Free\",\"Free\",\"Free\",\"Free\",\"Free\",\"Free\",\"Free\",\"Free\",\"Free\",\"Free\",\"Free\",\"Free\",\"Free\",\"Free\",\"Free\",\"Free\",\"Free\",\"Free\",\"Free\",\"Free\",\"Free\",\"Free\",\"Free\",\"Free\",\"Free\",\"Free\",\"Free\",\"Free\",\"Free\",\"Free\",\"Free\",\"Free\",\"Free\",\"Free\",\"Free\",\"Free\",\"Free\",\"Free\",\"Free\",\"Free\",\"Free\",\"Free\",\"Free\",\"Free\",\"Free\",\"Free\",\"Free\",\"Free\",\"Free\",\"Free\",\"Free\",\"Free\",\"Free\",\"Free\",\"Free\",\"Free\",\"Free\",\"Free\",\"Free\",\"Free\",\"Free\",\"Free\",\"Free\",\"Free\",\"Free\",\"Free\",\"Free\",\"Free\",\"Free\",\"Free\",\"Free\",\"Free\",\"Free\",\"Free\",\"Free\",\"Free\",\"Free\",\"Free\",\"Free\",\"Free\",\"Free\",\"Free\",\"Free\",\"Free\",\"Free\",\"Free\",\"Free\",\"Free\",\"Free\",\"Free\",\"Free\",\"Free\",\"Free\",\"Free\",\"Free\",\"Free\",\"Free\",\"Free\",\"Free\",\"Free\",\"Free\",\"Free\",\"Free\",\"Free\",\"Free\",\"Free\",\"Free\",\"Free\",\"Free\",\"Free\",\"Free\",\"Free\",\"Free\",\"Free\",\"Free\",\"Free\",\"Free\",\"Free\",\"Free\",\"Free\",\"Free\",\"Free\",\"Free\",\"Free\",\"Free\",\"Free\",\"Free\",\"Free\",\"Free\",\"Free\",\"Free\",\"Free\",\"Free\",\"Free\",\"Free\",\"Free\",\"Free\",\"Free\",\"Free\",\"Free\",\"Free\",\"Free\",\"Free\",\"Free\",\"Free\",\"Free\",\"Free\",\"Free\",\"Free\",\"Free\",\"Free\",\"Free\",\"Free\",\"Free\",\"Free\",\"Free\",\"Free\",\"Free\",\"Free\",\"Free\",\"Free\",\"Free\",\"Free\",\"Free\",\"Free\",\"Free\",\"Free\",\"Free\",\"Free\",\"Free\",\"Free\",\"Free\",\"Free\",\"Free\",\"Free\",\"Free\",\"Free\",\"Free\",\"Free\",\"Free\",\"Free\",\"Free\",\"Free\",\"Free\",\"Free\",\"Free\",\"Free\",\"Free\",\"Free\",\"Free\",\"Free\",\"Free\",\"Free\",\"Free\",\"Free\",\"Free\",\"Free\",\"Free\",\"Free\",\"Free\",\"Free\",\"Free\",\"Free\",\"Free\",\"Free\",\"Free\",\"Free\",\"Free\",\"Free\",\"Free\",\"Free\",\"Free\",\"Free\",\"Free\",\"Free\",\"Free\",\"Free\",\"Free\",\"Free\",\"Free\",\"Free\",\"Free\",\"Free\",\"Free\",\"Free\",\"Free\",\"Free\",\"Free\",\"Free\",\"Free\",\"Free\",\"Free\",\"Free\",\"Free\",\"Free\",\"Free\",\"Free\",\"Free\",\"Free\",\"Free\",\"Free\",\"Free\",\"Free\",\"Free\",\"Free\",\"Free\",\"Free\",\"Free\",\"Free\",\"Free\",\"Free\",\"Free\",\"Free\",\"Free\",\"Free\",\"Free\",\"Free\",\"Free\",\"Free\",\"Free\",\"Free\",\"Free\",\"Free\",\"Free\",\"Free\",\"Free\",\"Free\",\"Free\",\"Free\",\"Free\",\"Free\",\"Free\",\"Free\",\"Free\",\"Free\",\"Free\",\"Free\",\"Free\",\"Free\",\"Free\",\"Free\",\"Free\",\"Free\",\"Free\",\"Free\",\"Free\",\"Free\",\"Free\",\"Free\",\"Free\",\"Free\",\"Free\",\"Free\",\"Free\",\"Free\",\"Free\",\"Free\",\"Free\",\"Free\",\"Free\",\"Free\",\"Free\",\"Free\",\"Free\",\"Free\",\"Free\",\"Free\",\"Free\",\"Free\",\"Free\",\"Free\",\"Free\",\"Free\",\"Free\",\"Free\",\"Free\",\"Free\",\"Free\",\"Free\",\"Free\",\"Free\",\"Free\",\"Free\",\"Free\",\"Free\",\"Free\",\"Free\",\"Free\",\"Free\",\"Free\",\"Free\",\"Free\",\"Free\",\"Free\",\"Free\",\"Free\",\"Free\",\"Free\",\"Free\",\"Free\",\"Free\",\"Free\",\"Free\",\"Free\",\"Free\",\"Free\",\"Free\",\"Free\",\"Free\",\"Free\",\"Free\",\"Free\",\"Free\",\"Free\",\"Free\",\"Free\",\"Free\",\"Free\",\"Free\",\"Free\",\"Free\",\"Free\",\"Free\",\"Free\",\"Free\",\"Free\",\"Free\",\"Free\",\"Free\",\"Free\",\"Free\",\"Free\",\"Free\",\"Free\",\"Free\",\"Free\",\"Free\",\"Free\",\"Free\",\"Free\",\"Free\",\"Free\",\"Free\",\"Free\",\"Free\",\"Free\",\"Free\",\"Free\",\"Free\",\"Free\",\"Free\",\"Free\",\"Free\",\"Free\",\"Free\",\"Free\",\"Free\",\"Free\",\"Free\",\"Free\",\"Free\",\"Free\",\"Free\",\"Free\",\"Free\",\"Free\",\"Free\",\"Free\",\"Free\",\"Free\",\"Free\",\"Free\",\"Free\",\"Free\",\"Free\",\"Free\",\"Free\",\"Free\",\"Free\",\"Free\",\"Free\",\"Free\",\"Free\",\"Free\",\"Free\",\"Free\",\"Free\",\"Free\",\"Free\",\"Free\",\"Free\",\"Free\",\"Free\",\"Free\",\"Free\",\"Free\",\"Free\",\"Free\",\"Free\",\"Free\",\"Free\",\"Free\",\"Free\",\"Free\",\"Free\",\"Free\",\"Free\",\"Free\",\"Free\",\"Free\",\"Free\",\"Free\",\"Free\",\"Free\",\"Free\",\"Free\",\"Free\",\"Free\",\"Free\",\"Free\",\"Free\",\"Free\",\"Free\",\"Free\",\"Free\",\"Free\",\"Free\",\"Free\",\"Free\",\"Free\",\"Free\",\"Free\",\"Free\",\"Free\",\"Free\",\"Free\",\"Free\",\"Free\",\"Free\",\"Free\",\"Free\",\"Free\",\"Free\",\"Free\",\"Free\",\"Free\",\"Free\",\"Free\",\"Free\",\"Free\",\"Free\",\"Free\",\"Free\",\"Free\",\"Free\",\"Free\",\"Free\",\"Free\",\"Free\",\"Free\",\"Free\",\"Free\",\"Free\",\"Free\",\"Free\",\"Free\",\"Free\",\"Free\",\"Free\",\"Free\",\"Free\",\"Free\",\"Free\",\"Free\",\"Free\",\"Free\",\"Free\",\"Free\",\"Free\",\"Free\",\"Free\",\"Free\",\"Free\",\"Free\",\"Free\",\"Free\",\"Free\",\"Free\",\"Free\",\"Free\",\"Free\",\"Free\",\"Free\",\"Free\",\"Free\",\"Free\",\"Free\",\"Free\",\"Free\",\"Free\",\"Free\",\"Free\",\"Free\",\"Free\",\"Free\",\"Free\",\"Free\",\"Free\",\"Free\",\"Free\",\"Free\",\"Free\",\"Free\",\"Free\",\"Free\",\"Free\",\"Free\",\"Free\",\"Free\",\"Free\",\"Free\",\"Free\",\"Free\",\"Free\",\"Free\",\"Free\",\"Free\",\"Free\",\"Free\",\"Free\",\"Free\",\"Free\",\"Free\",\"Free\",\"Free\",\"Free\",\"Free\",\"Free\",\"Free\",\"Free\",\"Free\",\"Free\",\"Free\",\"Free\",\"Free\",\"Free\",\"Free\",\"Free\",\"Free\",\"Free\",\"Free\",\"Free\",\"Free\",\"Free\",\"Free\",\"Free\",\"Free\",\"Free\",\"Free\",\"Free\",\"Free\",\"Free\",\"Free\",\"Free\",\"Free\",\"Free\",\"Free\",\"Free\",\"Free\",\"Free\",\"Free\",\"Free\",\"Free\",\"Free\",\"Free\",\"Free\",\"Free\",\"Free\",\"Free\",\"Free\",\"Free\",\"Free\",\"Free\",\"Free\",\"Free\",\"Free\",\"Free\",\"Free\",\"Free\",\"Free\",\"Free\",\"Free\",\"Free\",\"Free\",\"Free\",\"Free\",\"Free\",\"Free\",\"Free\",\"Free\",\"Free\",\"Free\",\"Free\",\"Free\",\"Free\",\"Free\",\"Free\",\"Free\",\"Free\",\"Free\",\"Free\",\"Free\",\"Free\",\"Free\",\"Free\",\"Free\",\"Free\",\"Free\",\"Free\",\"Free\",\"Free\",\"Free\",\"Free\",\"Free\",\"Free\",\"Free\",\"Free\",\"Free\",\"Free\",\"Free\",\"Free\",\"Free\",\"Free\",\"Free\",\"Free\",\"Free\",\"Free\",\"Free\",\"Free\",\"Free\",\"Free\",\"Free\",\"Free\",\"Free\",\"Free\",\"Free\",\"Free\",\"Free\",\"Free\",\"Free\",\"Free\",\"Free\",\"Free\",\"Free\",\"Free\",\"Free\",\"Free\",\"Free\",\"Free\",\"Free\",\"Free\",\"Free\",\"Free\",\"Free\",\"Free\",\"Free\",\"Free\",\"Free\",\"Free\",\"Free\",\"Free\",\"Free\",\"Free\",\"Free\",\"Free\",\"Free\",\"Free\",\"Free\",\"Free\",\"Free\",\"Free\",\"Free\",\"Free\",\"Free\",\"Free\",\"Free\",\"Free\",\"Free\",\"Free\",\"Free\",\"Free\",\"Free\",\"Free\",\"Free\",\"Free\",\"Free\",\"Free\",\"Free\",\"Free\",\"Free\",\"Free\",\"Free\",\"Free\",\"Free\",\"Free\",\"Free\",\"Free\",\"Free\",\"Free\",\"Free\",\"Free\",\"Free\",\"Free\",\"Free\",\"Free\",\"Free\",\"Free\",\"Free\",\"Free\",\"Free\",\"Free\",\"Free\",\"Free\",\"Free\",\"Free\",\"Free\",\"Free\",\"Free\",\"Free\",\"Free\",\"Free\",\"Free\",\"Free\",\"Free\",\"Free\",\"Free\",\"Free\",\"Free\",\"Free\",\"Free\",\"Free\",\"Free\",\"Free\",\"Free\",\"Free\",\"Free\",\"Free\",\"Free\",\"Free\",\"Free\",\"Free\",\"Free\",\"Free\",\"Free\",\"Free\",\"Free\",\"Free\",\"Free\",\"Free\",\"Free\",\"Free\",\"Free\",\"Free\",\"Free\",\"Free\",\"Free\",\"Free\",\"Free\",\"Free\",\"Free\",\"Free\",\"Free\",\"Free\",\"Free\",\"Free\",\"Free\",\"Free\",\"Free\",\"Free\",\"Free\",\"Free\",\"Free\",\"Free\",\"Free\",\"Free\",\"Free\",\"Free\",\"Free\",\"Free\",\"Free\",\"Free\",\"Free\",\"Free\",\"Free\",\"Free\",\"Free\",\"Free\",\"Free\",\"Free\",\"Free\",\"Free\",\"Free\",\"Free\",\"Free\",\"Free\",\"Free\",\"Free\",\"Free\",\"Free\",\"Free\",\"Free\",\"Free\",\"Free\",\"Free\",\"Free\",\"Free\",\"Free\",\"Free\",\"Free\",\"Free\",\"Free\",\"Free\",\"Free\",\"Free\",\"Free\",\"Free\",\"Free\",\"Free\",\"Free\",\"Free\",\"Free\",\"Free\",\"Free\",\"Free\",\"Free\",\"Free\",\"Free\",\"Free\",\"Free\",\"Free\",\"Free\",\"Free\",\"Free\",\"Free\",\"Free\",\"Free\",\"Free\",\"Free\",\"Free\",\"Free\",\"Free\",\"Free\",\"Free\",\"Free\",\"Free\",\"Free\",\"Free\",\"Free\",\"Free\",\"Free\",\"Free\",\"Free\",\"Free\",\"Free\",\"Free\",\"Free\",\"Free\",\"Free\",\"Free\",\"Free\",\"Free\",\"Free\",\"Free\",\"Free\",\"Free\",\"Free\",\"Free\",\"Free\",\"Free\",\"Free\",\"Free\",\"Free\",\"Free\",\"Free\",\"Free\",\"Free\",\"Free\",\"Free\",\"Free\",\"Free\",\"Free\",\"Free\",\"Free\",\"Free\",\"Free\",\"Free\",\"Free\",\"Free\",\"Free\",\"Free\",\"Free\",\"Free\",\"Free\",\"Free\",\"Free\",\"Free\",\"Free\",\"Free\",\"Free\",\"Free\",\"Free\",\"Free\",\"Free\",\"Free\",\"Free\",\"Free\",\"Free\",\"Free\",\"Free\",\"Free\",\"Free\",\"Free\",\"Free\",\"Free\",\"Free\",\"Free\",\"Free\",\"Free\",\"Free\",\"Free\",\"Free\",\"Free\",\"Free\",\"Free\",\"Free\",\"Free\",\"Free\",\"Free\",\"Free\",\"Free\",\"Free\",\"Free\",\"Free\",\"Free\",\"Free\",\"Free\",\"Free\",\"Free\",\"Free\",\"Free\",\"Free\",\"Free\",\"Free\",\"Free\",\"Free\",\"Free\",\"Free\",\"Free\",\"Free\",\"Free\",\"Free\",\"Free\",\"Free\",\"Free\",\"Free\",\"Free\",\"Free\",\"Free\",\"Free\",\"Free\",\"Free\",\"Free\",\"Free\",\"Free\",\"Free\",\"Free\",\"Free\",\"Free\",\"Free\",\"Free\",\"Free\",\"Free\",\"Free\",\"Free\",\"Free\",\"Free\",\"Free\",\"Free\",\"Free\",\"Free\",\"Free\",\"Free\",\"Free\",\"Free\",\"Free\",\"Free\",\"Free\",\"Free\",\"Free\",\"Free\",\"Free\",\"Free\",\"Free\",\"Free\",\"Free\",\"Free\",\"Free\",\"Free\",\"Free\",\"Free\",\"Free\",\"Free\",\"Free\",\"Free\",\"Free\",\"Free\",\"Free\",\"Free\",\"Free\",\"Free\",\"Free\",\"Free\",\"Free\",\"Free\",\"Free\",\"Free\",\"Free\",\"Free\",\"Free\",\"Free\",\"Free\",\"Free\",\"Free\",\"Free\",\"Free\",\"Free\",\"Free\",\"Free\",\"Free\",\"Free\",\"Free\",\"Free\",\"Free\",\"Free\",\"Free\",\"Free\",\"Free\",\"Free\",\"Free\",\"Free\",\"Free\",\"Free\",\"Free\",\"Free\",\"Free\",\"Free\",\"Free\",\"Free\",\"Free\",\"Free\",\"Free\",\"Free\",\"Free\",\"Free\",\"Free\",\"Free\",\"Free\",\"Free\",\"Free\",\"Free\",\"Free\",\"Free\",\"Free\",\"Free\",\"Free\",\"Free\",\"Free\",\"Free\",\"Free\",\"Free\",\"Free\",\"Free\",\"Free\",\"Free\",\"Free\",\"Free\",\"Free\",\"Free\",\"Free\",\"Free\",\"Free\",\"Free\",\"Free\",\"Free\",\"Free\",\"Free\",\"Free\",\"Free\",\"Free\",\"Free\",\"Free\",\"Free\",\"Free\",\"Free\",\"Free\",\"Free\",\"Free\",\"Free\",\"Free\",\"Free\",\"Free\",\"Free\",\"Free\",\"Free\",\"Free\",\"Free\",\"Free\",\"Free\",\"Free\",\"Free\",\"Free\",\"Free\",\"Free\",\"Free\",\"Free\",\"Free\",\"Free\",\"Free\",\"Free\",\"Free\",\"Free\",\"Free\",\"Free\",\"Free\",\"Free\",\"Free\",\"Free\",\"Free\",\"Free\",\"Free\",\"Free\",\"Free\",\"Free\",\"Free\",\"Free\",\"Free\",\"Free\",\"Free\",\"Free\",\"Free\",\"Free\",\"Free\",\"Free\",\"Free\",\"Free\",\"Free\",\"Free\",\"Free\",\"Free\",\"Free\",\"Free\",\"Free\",\"Free\",\"Free\",\"Free\",\"Free\",\"Free\",\"Free\",\"Free\",\"Free\",\"Free\",\"Free\",\"Free\",\"Free\",\"Free\",\"Free\",\"Free\",\"Free\",\"Free\",\"Free\",\"Free\",\"Free\",\"Free\",\"Free\",\"Free\",\"Free\",\"Free\",\"Free\",\"Free\",\"Free\",\"Free\",\"Free\",\"Free\",\"Free\",\"Free\",\"Free\",\"Free\",\"Free\",\"Free\",\"Free\",\"Free\",\"Free\",\"Free\",\"Free\",\"Free\",\"Free\",\"Free\",\"Free\",\"Free\",\"Free\",\"Free\",\"Free\",\"Free\",\"Free\",\"Free\",\"Free\",\"Free\",\"Free\",\"Free\",\"Free\",\"Free\",\"Free\",\"Free\",\"Free\",\"Free\",\"Free\",\"Free\",\"Free\",\"Free\",\"Free\",\"Free\",\"Free\",\"Free\",\"Free\",\"Free\",\"Free\",\"Free\",\"Free\",\"Free\",\"Free\",\"Free\",\"Free\",\"Free\",\"Free\",\"Free\",\"Free\",\"Free\",\"Free\",\"Free\",\"Free\",\"Free\",\"Free\",\"Free\",\"Free\",\"Free\",\"Free\",\"Free\",\"Free\",\"Free\",\"Free\",\"Free\",\"Free\",\"Free\",\"Free\",\"Free\",\"Free\",\"Free\",\"Free\",\"Free\",\"Free\",\"Free\",\"Free\",\"Free\",\"Free\",\"Free\",\"Free\",\"Free\",\"Free\",\"Free\",\"Free\",\"Free\",\"Free\",\"Free\",\"Free\",\"Free\",\"Free\",\"Free\",\"Free\",\"Free\",\"Free\",\"Free\",\"Free\",\"Free\",\"Free\",\"Free\",\"Free\",\"Free\",\"Free\",\"Free\",\"Free\",\"Free\",\"Free\",\"Free\",\"Free\",\"Free\",\"Free\",\"Free\",\"Free\",\"Free\",\"Free\",\"Free\",\"Free\",\"Free\",\"Free\",\"Free\",\"Free\",\"Free\",\"Free\",\"Free\",\"Free\",\"Free\",\"Free\",\"Free\",\"Free\",\"Free\",\"Free\",\"Free\",\"Free\",\"Free\",\"Free\",\"Free\",\"Free\",\"Free\",\"Free\",\"Free\",\"Free\",\"Free\",\"Free\",\"Free\",\"Free\",\"Free\",\"Free\",\"Free\",\"Free\",\"Free\",\"Free\",\"Free\",\"Free\",\"Free\",\"Free\",\"Free\",\"Free\",\"Free\",\"Free\",\"Free\",\"Free\",\"Free\",\"Free\",\"Free\",\"Free\",\"Free\",\"Free\",\"Free\",\"Free\",\"Free\",\"Free\",\"Free\",\"Free\",\"Free\",\"Free\",\"Free\",\"Free\",\"Free\",\"Free\",\"Free\",\"Free\",\"Free\",\"Free\",\"Free\",\"Free\",\"Free\",\"Free\",\"Free\",\"Free\",\"Free\",\"Free\",\"Free\",\"Free\",\"Free\",\"Free\",\"Free\",\"Free\",\"Free\",\"Free\",\"Free\",\"Free\",\"Free\",\"Free\",\"Free\",\"Free\",\"Free\",\"Free\",\"Free\",\"Free\",\"Free\",\"Free\",\"Free\",\"Free\",\"Free\",\"Free\",\"Free\",\"Free\",\"Free\",\"Free\",\"Free\",\"Free\",\"Free\",\"Free\",\"Free\",\"Free\",\"Free\",\"Free\",\"Free\",\"Free\",\"Free\",\"Free\",\"Free\",\"Free\",\"Free\",\"Free\",\"Free\",\"Free\",\"Free\",\"Free\",\"Free\",\"Free\",\"Free\",\"Free\",\"Free\",\"Free\",\"Free\",\"Free\",\"Free\",\"Free\",\"Free\",\"Free\",\"Free\",\"Free\",\"Free\",\"Free\",\"Free\",\"Free\",\"Free\",\"Free\",\"Free\",\"Free\",\"Free\",\"Free\",\"Free\",\"Free\",\"Free\",\"Free\",\"Free\",\"Free\",\"Free\",\"Free\",\"Free\",\"Free\",\"Free\",\"Free\",\"Free\",\"Free\",\"Free\",\"Free\",\"Free\",\"Free\",\"Free\",\"Free\",\"Free\",\"Free\",\"Free\",\"Free\",\"Free\",\"Free\",\"Free\",\"Free\",\"Free\",\"Free\",\"Free\",\"Free\",\"Free\",\"Free\",\"Free\",\"Free\",\"Free\",\"Free\",\"Free\",\"Free\",\"Free\",\"Free\",\"Free\",\"Free\",\"Free\",\"Free\",\"Free\",\"Free\",\"Free\",\"Free\",\"Free\",\"Free\",\"Free\",\"Free\",\"Free\",\"Free\",\"Free\",\"Free\",\"Free\",\"Free\",\"Free\",\"Free\",\"Free\",\"Free\",\"Free\",\"Free\",\"Free\",\"Free\",\"Free\",\"Free\",\"Free\",\"Free\",\"Free\",\"Free\",\"Free\",\"Free\",\"Free\",\"Free\",\"Free\",\"Free\",\"Free\",\"Free\",\"Free\",\"Free\",\"Free\",\"Free\",\"Free\",\"Free\",\"Free\",\"Free\",\"Free\",\"Free\",\"Free\",\"Free\",\"Free\",\"Free\",\"Free\",\"Free\",\"Free\",\"Free\",\"Free\",\"Free\",\"Free\",\"Free\",\"Free\",\"Free\",\"Free\",\"Free\",\"Free\",\"Free\",\"Free\",\"Free\",\"Free\",\"Free\",\"Free\",\"Free\",\"Free\",\"Free\",\"Free\",\"Free\",\"Free\",\"Free\",\"Free\",\"Free\",\"Free\",\"Free\",\"Free\",\"Free\",\"Free\",\"Free\",\"Free\",\"Free\",\"Free\",\"Free\",\"Free\",\"Free\",\"Free\",\"Free\",\"Free\",\"Free\",\"Free\",\"Free\",\"Free\",\"Free\",\"Free\",\"Free\",\"Free\",\"Free\",\"Free\",\"Free\",\"Free\",\"Free\",\"Free\",\"Free\",\"Free\",\"Free\",\"Free\",\"Free\",\"Free\",\"Free\",\"Free\",\"Free\",\"Free\",\"Free\",\"Free\",\"Free\",\"Free\",\"Free\",\"Free\",\"Free\",\"Free\",\"Free\",\"Free\",\"Free\",\"Free\",\"Free\",\"Free\",\"Free\",\"Free\",\"Free\",\"Free\",\"Free\",\"Free\",\"Free\",\"Free\",\"Free\",\"Free\",\"Free\",\"Free\",\"Free\",\"Free\",\"Free\",\"Free\",\"Free\",\"Free\",\"Free\",\"Free\",\"Free\",\"Free\",\"Free\",\"Free\",\"Free\",\"Free\",\"Free\",\"Free\",\"Free\",\"Free\",\"Free\",\"Free\",\"Free\",\"Free\",\"Free\",\"Free\",\"Free\",\"Free\",\"Free\",\"Free\",\"Free\",\"Free\",\"Free\",\"Free\",\"Free\",\"Free\",\"Free\",\"Free\",\"Free\",\"Free\",\"Free\",\"Free\",\"Free\",\"Free\",\"Free\",\"Free\",\"Free\",\"Free\",\"Free\",\"Free\",\"Free\",\"Free\",\"Free\",\"Free\",\"Free\",\"Free\",\"Free\",\"Free\",\"Free\",\"Free\",\"Free\",\"Free\",\"Free\",\"Free\",\"Free\",\"Free\",\"Free\",\"Free\",\"Free\",\"Free\",\"Free\",\"Free\",\"Free\",\"Free\",\"Free\",\"Free\",\"Free\",\"Free\",\"Free\",\"Free\",\"Free\",\"Free\",\"Free\",\"Free\",\"Free\",\"Free\",\"Free\",\"Free\",\"Free\",\"Free\",\"Free\",\"Free\",\"Free\",\"Free\",\"Free\",\"Free\",\"Free\",\"Free\",\"Free\",\"Free\",\"Free\",\"Free\",\"Free\",\"Free\",\"Free\",\"Free\",\"Free\",\"Free\",\"Free\",\"Free\",\"Free\",\"Free\",\"Free\",\"Free\",\"Free\",\"Free\",\"Free\",\"Free\",\"Free\",\"Free\",\"Free\",\"Free\",\"Free\",\"Free\",\"Free\",\"Free\",\"Free\",\"Free\",\"Free\",\"Free\",\"Free\",\"Free\",\"Free\",\"Free\",\"Free\",\"Free\",\"Free\",\"Free\",\"Free\",\"Free\",\"Free\",\"Free\",\"Free\",\"Free\",\"Free\",\"Free\",\"Free\",\"Free\",\"Free\",\"Free\",\"Free\",\"Free\",\"Free\",\"Free\",\"Free\",\"Free\",\"Free\",\"Free\",\"Free\",\"Free\",\"Free\",\"Free\",\"Free\",\"Free\",\"Free\",\"Free\",\"Free\",\"Free\",\"Free\",\"Free\",\"Free\",\"Free\",\"Free\",\"Free\",\"Free\",\"Free\",\"Free\",\"Free\",\"Free\",\"Free\",\"Free\",\"Free\",\"Free\",\"Free\",\"Free\",\"Free\",\"Free\",\"Free\",\"Free\",\"Free\",\"Free\",\"Free\",\"Free\",\"Free\",\"Free\",\"Free\",\"Free\",\"Free\",\"Free\",\"Free\",\"Free\",\"Free\",\"Free\",\"Free\",\"Free\",\"Free\",\"Free\",\"Free\",\"Free\",\"Free\",\"Free\",\"Free\",\"Free\",\"Free\",\"Free\",\"Free\",\"Free\",\"Free\",\"Free\",\"Free\",\"Free\",\"Free\",\"Free\",\"Free\",\"Free\",\"Free\",\"Free\",\"Free\",\"Free\",\"Free\",\"Free\",\"Free\",\"Free\",\"Free\",\"Free\",\"Free\",\"Free\",\"Free\",\"Free\",\"Free\",\"Free\",\"Free\",\"Free\",\"Free\",\"Free\",\"Free\",\"Free\",\"Free\",\"Free\",\"Free\",\"Free\",\"Free\",\"Free\",\"Free\",\"Free\",\"Free\",\"Free\",\"Free\",\"Free\",\"Free\",\"Free\",\"Free\",\"Free\",\"Free\",\"Free\",\"Free\",\"Free\",\"Free\",\"Free\",\"Free\",\"Free\",\"Free\",\"Free\",\"Free\",\"Free\",\"Free\",\"Free\",\"Free\",\"Free\",\"Free\",\"Free\",\"Free\",\"Free\",\"Free\",\"Free\",\"Free\",\"Free\",\"Free\",\"Free\",\"Free\",\"Free\",\"Free\",\"Free\",\"Free\",\"Free\",\"Free\",\"Free\",\"Free\",\"Free\",\"Free\",\"Free\",\"Free\",\"Free\",\"Free\",\"Free\",\"Free\",\"Free\",\"Free\",\"Free\",\"Free\",\"Free\",\"Free\",\"Free\",\"Free\",\"Free\",\"Free\",\"Free\",\"Free\",\"Free\",\"Free\",\"Free\",\"Free\",\"Free\",\"Free\",\"Free\",\"Free\",\"Free\",\"Free\",\"Free\",\"Free\",\"Free\",\"Free\",\"Free\",\"Free\",\"Free\",\"Free\",\"Free\",\"Free\",\"Free\",\"Free\",\"Free\",\"Free\",\"Free\",\"Free\",\"Free\",\"Free\",\"Free\",\"Free\",\"Free\",\"Free\",\"Free\",\"Free\",\"Free\",\"Free\",\"Free\",\"Free\",\"Free\",\"Free\",\"Free\",\"Free\",\"Free\",\"Free\",\"Free\",\"Free\",\"Free\",\"Free\",\"Free\",\"Free\",\"Free\",\"Free\",\"Free\",\"Free\",\"Free\",\"Free\",\"Free\",\"Free\",\"Free\",\"Free\",\"Free\",\"Free\",\"Free\",\"Free\",\"Free\",\"Free\",\"Free\",\"Free\",\"Free\",\"Free\",\"Free\",\"Free\",\"Free\",\"Free\",\"Free\",\"Free\",\"Free\",\"Free\",\"Free\",\"Free\",\"Free\",\"Free\",\"Free\",\"Free\",\"Free\",\"Free\",\"Free\",\"Free\",\"Free\",\"Free\",\"Free\",\"Free\",\"Free\",\"Free\",\"Free\",\"Free\",\"Free\",\"Free\",\"Free\",\"Free\",\"Free\",\"Free\",\"Free\",\"Free\",\"Free\",\"Free\",\"Free\",\"Free\",\"Free\",\"Free\",\"Free\",\"Free\",\"Free\",\"Free\",\"Free\",\"Free\",\"Free\",\"Free\",\"Free\",\"Free\",\"Free\",\"Free\",\"Free\",\"Free\",\"Free\",\"Free\",\"Free\",\"Free\",\"Free\",\"Free\",\"Free\",\"Free\",\"Free\",\"Free\",\"Free\",\"Free\",\"Free\",\"Free\",\"Free\",\"Free\",\"Free\",\"Free\",\"Free\",\"Free\",\"Free\",\"Free\",\"Free\",\"Free\",\"Free\",\"Free\",\"Free\",\"Free\",\"Free\",\"Free\",\"Free\",\"Free\",\"Free\",\"Free\",\"Free\",\"Free\",\"Free\",\"Free\",\"Free\",\"Free\",\"Free\",\"Free\",\"Free\",\"Free\",\"Free\",\"Free\",\"Free\",\"Free\",\"Free\",\"Free\",\"Free\",\"Free\",\"Free\",\"Free\",\"Free\",\"Free\",\"Free\",\"Free\",\"Free\",\"Free\",\"Free\",\"Free\",\"Free\",\"Free\",\"Free\",\"Free\",\"Free\",\"Free\",\"Free\",\"Free\",\"Free\",\"Free\",\"Free\",\"Free\",\"Free\",\"Free\",\"Free\",\"Free\",\"Free\",\"Free\",\"Free\",\"Free\",\"Free\",\"Free\",\"Free\",\"Free\",\"Free\",\"Free\",\"Free\",\"Free\",\"Free\",\"Free\",\"Free\",\"Free\",\"Free\",\"Free\",\"Free\",\"Free\",\"Free\",\"Free\",\"Free\",\"Free\",\"Free\",\"Free\",\"Free\",\"Free\",\"Free\",\"Free\",\"Free\",\"Free\",\"Free\",\"Free\",\"Free\",\"Free\",\"Free\",\"Free\",\"Free\",\"Free\",\"Free\",\"Free\",\"Free\",\"Free\",\"Free\",\"Free\",\"Free\",\"Free\",\"Free\",\"Free\",\"Free\",\"Free\",\"Free\",\"Free\",\"Free\",\"Free\",\"Free\",\"Free\",\"Free\",\"Free\",\"Free\",\"Free\",\"Free\",\"Free\",\"Free\",\"Free\",\"Free\",\"Free\",\"Free\",\"Free\",\"Free\",\"Free\",\"Free\",\"Free\",\"Free\",\"Free\",\"Free\",\"Free\",\"Free\",\"Free\",\"Free\",\"Free\",\"Free\",\"Free\",\"Free\",\"Free\",\"Free\",\"Free\",\"Free\",\"Free\",\"Free\",\"Free\",\"Free\",\"Free\",\"Free\",\"Free\",\"Free\",\"Free\",\"Free\",\"Free\",\"Free\",\"Free\",\"Free\",\"Free\",\"Free\",\"Free\",\"Free\",\"Free\",\"Free\",\"Free\",\"Free\",\"Free\",\"Free\",\"Free\",\"Free\",\"Free\",\"Free\",\"Free\",\"Free\",\"Free\",\"Free\",\"Free\",\"Free\",\"Free\",\"Free\",\"Free\",\"Free\",\"Free\",\"Free\",\"Free\",\"Free\",\"Free\",\"Free\",\"Free\",\"Free\",\"Free\",\"Free\",\"Free\",\"Free\",\"Free\",\"Free\",\"Free\",\"Free\",\"Free\",\"Free\",\"Free\",\"Free\",\"Free\",\"Free\",\"Free\",\"Free\",\"Free\",\"Free\",\"Free\",\"Free\",\"Free\",\"Free\",\"Free\",\"Free\",\"Free\",\"Free\",\"Free\",\"Free\",\"Free\",\"Free\",\"Free\",\"Free\",\"Free\",\"Free\",\"Free\",\"Free\",\"Free\",\"Free\",\"Free\",\"Free\",\"Free\",\"Free\",\"Free\",\"Free\",\"Free\",\"Free\",\"Free\",\"Free\",\"Free\",\"Free\",\"Free\",\"Free\",\"Free\",\"Free\",\"Free\",\"Free\",\"Free\",\"Free\",\"Free\",\"Free\",\"Free\",\"Free\",\"Free\",\"Free\",\"Free\",\"Free\",\"Free\",\"Free\",\"Free\",\"Free\",\"Free\",\"Free\",\"Free\",\"Free\",\"Free\",\"Free\",\"Free\",\"Free\",\"Free\",\"Free\",\"Free\",\"Free\",\"Free\",\"Free\",\"Free\",\"Free\",\"Free\",\"Free\",\"Free\",\"Free\",\"Free\",\"Free\",\"Free\",\"Free\",\"Free\",\"Free\",\"Free\",\"Free\",\"Free\",\"Free\",\"Free\",\"Free\",\"Free\",\"Free\",\"Free\",\"Free\",\"Free\",\"Free\",\"Free\",\"Free\",\"Free\",\"Free\",\"Free\",\"Free\",\"Free\",\"Free\",\"Free\",\"Free\",\"Free\",\"Free\",\"Free\",\"Free\",\"Free\",\"Free\",\"Free\",\"Free\",\"Free\",\"Free\",\"Free\",\"Free\",\"Free\",\"Free\",\"Free\",\"Free\",\"Free\",\"Free\",\"Free\",\"Free\",\"Free\",\"Free\",\"Free\",\"Free\",\"Free\",\"Free\",\"Free\",\"Free\",\"Free\",\"Free\",\"Free\",\"Free\",\"Free\",\"Free\",\"Free\",\"Free\",\"Free\",\"Free\",\"Free\",\"Free\",\"Free\",\"Free\",\"Free\",\"Free\",\"Free\",\"Free\",\"Free\",\"Free\",\"Free\",\"Free\",\"Free\",\"Free\",\"Free\",\"Free\",\"Free\",\"Free\",\"Free\",\"Free\",\"Free\",\"Free\",\"Free\",\"Free\",\"Free\",\"Free\",\"Free\",\"Free\",\"Free\",\"Free\",\"Free\",\"Free\",\"Free\",\"Free\",\"Free\",\"Free\",\"Free\",\"Free\",\"Free\",\"Free\",\"Free\",\"Free\",\"Free\",\"Free\",\"Free\",\"Free\",\"Free\",\"Free\",\"Free\",\"Free\",\"Free\",\"Free\",\"Free\",\"Free\",\"Free\",\"Free\",\"Free\",\"Free\",\"Free\",\"Free\",\"Free\",\"Free\",\"Free\",\"Free\",\"Free\",\"Free\",\"Free\",\"Free\",\"Free\",\"Free\",\"Free\",\"Free\",\"Free\",\"Free\",\"Free\",\"Free\",\"Free\",\"Free\",\"Free\",\"Free\",\"Free\",\"Free\",\"Free\",\"Free\",\"Free\",\"Free\",\"Free\",\"Free\",\"Free\",\"Free\",\"Free\",\"Free\",\"Free\",\"Free\",\"Free\",\"Free\",\"Free\",\"Free\",\"Free\",\"Free\",\"Free\",\"Free\",\"Free\",\"Free\",\"Free\",\"Free\",\"Free\",\"Free\",\"Free\",\"Free\",\"Free\",\"Free\",\"Free\",\"Free\",\"Free\",\"Free\",\"Free\",\"Free\",\"Free\",\"Free\",\"Free\",\"Free\",\"Free\",\"Free\",\"Free\",\"Free\",\"Free\",\"Free\",\"Free\",\"Free\",\"Free\",\"Free\",\"Free\",\"Free\",\"Free\",\"Free\",\"Free\",\"Free\",\"Free\",\"Free\",\"Free\",\"Free\",\"Free\",\"Free\",\"Free\",\"Free\",\"Free\",\"Free\",\"Free\",\"Free\",\"Free\",\"Free\",\"Free\",\"Free\",\"Free\",\"Free\",\"Free\",\"Free\",\"Free\",\"Free\",\"Free\",\"Free\",\"Free\",\"Free\",\"Free\",\"Free\",\"Free\",\"Free\",\"Free\",\"Free\",\"Free\",\"Free\",\"Free\",\"Free\",\"Free\",\"Free\",\"Free\",\"Free\",\"Free\",\"Free\",\"Free\",\"Free\",\"Free\",\"Free\",\"Free\",\"Free\",\"Free\",\"Free\",\"Free\",\"Free\",\"Free\",\"Free\",\"Free\",\"Free\",\"Free\",\"Free\",\"Free\",\"Free\",\"Free\",\"Free\",\"Free\",\"Free\",\"Free\",\"Free\",\"Free\",\"Free\",\"Free\",\"Free\",\"Free\",\"Free\",\"Free\",\"Free\",\"Free\",\"Free\",\"Free\",\"Free\",\"Free\",\"Free\",\"Free\",\"Free\",\"Free\",\"Free\",\"Free\",\"Free\",\"Free\",\"Free\",\"Free\",\"Free\",\"Free\",\"Free\",\"Free\",\"Free\",\"Free\",\"Free\",\"Free\",\"Free\",\"Free\",\"Free\",\"Free\",\"Free\",\"Free\",\"Free\",\"Free\",\"Free\",\"Free\",\"Free\",\"Free\",\"Free\",\"Free\",\"Free\",\"Free\",\"Free\",\"Free\",\"Free\",\"Free\",\"Free\",\"Free\",\"Free\",\"Free\",\"Free\",\"Free\",\"Free\",\"Free\",\"Free\",\"Free\",\"Free\",\"Free\",\"Free\",\"Free\",\"Free\",\"Free\",\"Free\",\"Free\",\"Free\",\"Free\",\"Free\",\"Free\",\"Free\",\"Free\",\"Free\",\"Free\",\"Free\",\"Free\",\"Free\",\"Free\",\"Free\",\"Free\",\"Free\",\"Free\",\"Free\",\"Free\",\"Free\",\"Free\",\"Free\",\"Free\",\"Free\",\"Free\",\"Free\",\"Free\",\"Free\",\"Free\",\"Free\",\"Free\",\"Free\",\"Free\",\"Free\",\"Free\",\"Free\",\"Free\",\"Free\",\"Free\",\"Free\",\"Free\",\"Free\",\"Free\",\"Free\",\"Free\",\"Free\",\"Free\",\"Free\",\"Free\",\"Free\",\"Free\",\"Free\",\"Free\",\"Free\",\"Free\",\"Free\",\"Free\",\"Free\",\"Free\",\"Free\",\"Free\",\"Free\",\"Free\",\"Free\",\"Free\",\"Free\",\"Free\",\"Free\",\"Free\",\"Free\",\"Free\",\"Free\",\"Free\",\"Free\",\"Free\",\"Free\",\"Free\",\"Free\",\"Free\",\"Free\",\"Free\",\"Free\",\"Free\",\"Free\",\"Free\",\"Free\",\"Free\",\"Free\",\"Free\",\"Free\",\"Free\",\"Free\",\"Free\",\"Free\",\"Free\",\"Free\",\"Free\",\"Free\",\"Free\",\"Free\",\"Free\",\"Free\",\"Free\",\"Free\",\"Free\",\"Free\",\"Free\",\"Free\",\"Free\",\"Free\",\"Free\",\"Free\",\"Free\",\"Free\",\"Free\",\"Free\",\"Free\",\"Free\",\"Free\",\"Free\",\"Free\",\"Free\",\"Free\",\"Free\",\"Free\",\"Free\",\"Free\",\"Free\",\"Free\",\"Free\",\"Free\",\"Free\",\"Free\",\"Free\",\"Free\",\"Free\",\"Free\",\"Free\",\"Free\",\"Free\",\"Free\",\"Free\",\"Free\",\"Free\",\"Free\",\"Free\",\"Free\",\"Free\",\"Free\",\"Free\",\"Free\",\"Free\",\"Free\",\"Free\",\"Free\",\"Free\",\"Free\",\"Free\",\"Free\",\"Free\",\"Free\",\"Free\",\"Free\",\"Free\",\"Free\",\"Free\",\"Free\",\"Free\",\"Free\",\"Free\",\"Free\",\"Free\",\"Free\",\"Free\",\"Free\",\"Free\",\"Free\",\"Free\",\"Free\",\"Free\",\"Free\",\"Free\",\"Free\",\"Free\",\"Free\",\"Free\",\"Free\",\"Free\",\"Free\",\"Free\",\"Free\",\"Free\",\"Free\",\"Free\",\"Free\",\"Free\",\"Free\",\"Free\",\"Free\",\"Free\",\"Free\",\"Free\",\"Free\",\"Free\",\"Free\",\"Free\",\"Free\",\"Free\",\"Free\",\"Free\",\"Free\",\"Free\",\"Free\",\"Free\",\"Free\",\"Free\",\"Free\",\"Free\",\"Free\",\"Free\",\"Free\",\"Free\",\"Free\",\"Free\",\"Free\",\"Free\",\"Free\",\"Free\",\"Free\",\"Free\",\"Free\",\"Free\",\"Free\",\"Free\",\"Free\",\"Free\",\"Free\",\"Free\",\"Free\",\"Free\",\"Free\",\"Free\",\"Free\",\"Free\",\"Free\",\"Free\",\"Free\",\"Free\",\"Free\",\"Free\",\"Free\",\"Free\",\"Free\",\"Free\",\"Free\",\"Free\",\"Free\",\"Free\",\"Free\",\"Free\",\"Free\",\"Free\",\"Free\",\"Free\",\"Free\",\"Free\",\"Free\",\"Free\",\"Free\",\"Free\",\"Free\",\"Free\",\"Free\",\"Free\",\"Free\",\"Free\",\"Free\",\"Free\",\"Free\",\"Free\",\"Free\",\"Free\",\"Free\",\"Free\",\"Free\",\"Free\",\"Free\",\"Free\",\"Free\",\"Free\",\"Free\",\"Free\",\"Free\",\"Free\",\"Free\",\"Free\",\"Free\",\"Free\",\"Free\",\"Free\",\"Free\",\"Free\",\"Free\",\"Free\",\"Free\",\"Free\",\"Free\",\"Free\",\"Free\",\"Free\",\"Free\",\"Free\",\"Free\",\"Free\",\"Free\",\"Free\",\"Free\",\"Free\",\"Free\",\"Free\",\"Free\",\"Free\",\"Free\",\"Free\",\"Free\",\"Free\",\"Free\",\"Free\",\"Free\",\"Free\",\"Free\",\"Free\",\"Free\",\"Free\",\"Free\",\"Free\",\"Free\",\"Free\",\"Free\",\"Free\",\"Free\",\"Free\",\"Free\",\"Free\",\"Free\",\"Free\",\"Free\",\"Free\",\"Free\",\"Free\",\"Free\",\"Free\",\"Free\",\"Free\",\"Free\",\"Free\",\"Free\",\"Free\",\"Free\",\"Free\",\"Free\",\"Free\",\"Free\",\"Free\",\"Free\",\"Free\",\"Free\",\"Free\",\"Free\",\"Free\",\"Free\",\"Free\",\"Free\",\"Free\",\"Free\",\"Free\",\"Free\",\"Free\",\"Free\",\"Free\",\"Free\",\"Free\",\"Free\",\"Free\",\"Free\",\"Free\",\"Free\",\"Free\",\"Free\",\"Free\",\"Free\",\"Free\",\"Free\",\"Free\",\"Free\",\"Free\",\"Free\",\"Free\",\"Free\",\"Free\",\"Free\",\"Free\",\"Free\",\"Free\",\"Free\",\"Free\",\"Free\",\"Free\",\"Free\",\"Free\",\"Free\",\"Free\",\"Free\",\"Free\",\"Free\",\"Free\",\"Free\",\"Free\",\"Free\",\"Free\",\"Free\",\"Free\",\"Free\",\"Free\",\"Free\",\"Free\",\"Free\",\"Free\",\"Free\",\"Free\",\"Free\",\"Free\",\"Free\",\"Free\",\"Free\",\"Free\",\"Free\",\"Free\",\"Free\",\"Free\",\"Free\",\"Free\",\"Free\",\"Free\",\"Free\",\"Free\",\"Free\",\"Free\",\"Free\",\"Free\",\"Free\",\"Free\",\"Free\",\"Free\",\"Free\",\"Free\",\"Free\",\"Free\",\"Free\",\"Free\",\"Free\",\"Free\",\"Free\",\"Free\",\"Free\",\"Free\",\"Free\",\"Free\",\"Free\",\"Free\",\"Free\",\"Free\",\"Free\",\"Free\",\"Free\",\"Free\",\"Free\",\"Free\",\"Free\",\"Free\",\"Free\",\"Free\",\"Free\",\"Free\",\"Free\",\"Free\",\"Free\",\"Free\",\"Free\",\"Free\",\"Free\",\"Free\",\"Free\",\"Free\",\"Free\",\"Free\",\"Free\",\"Free\",\"Free\",\"Free\",\"Free\",\"Free\",\"Free\",\"Free\",\"Free\",\"Free\",\"Free\",\"Free\",\"Free\",\"Free\",\"Free\",\"Free\",\"Free\",\"Free\",\"Free\",\"Free\",\"Free\",\"Free\",\"Free\",\"Free\",\"Free\",\"Free\",\"Free\",\"Free\",\"Free\",\"Free\",\"Free\",\"Free\",\"Free\",\"Free\",\"Free\",\"Free\",\"Free\",\"Free\",\"Free\",\"Free\",\"Free\",\"Free\",\"Free\",\"Free\",\"Free\",\"Free\",\"Free\",\"Free\",\"Free\",\"Free\",\"Free\",\"Free\",\"Free\",\"Free\",\"Free\",\"Free\",\"Free\",\"Free\",\"Free\",\"Free\",\"Free\",\"Free\",\"Free\",\"Free\",\"Free\",\"Free\",\"Free\",\"Free\",\"Free\",\"Free\",\"Free\",\"Free\",\"Free\",\"Free\",\"Free\",\"Free\",\"Free\",\"Free\",\"Free\",\"Free\",\"Free\",\"Free\",\"Free\",\"Free\",\"Free\",\"Free\",\"Free\",\"Free\",\"Free\",\"Free\",\"Free\",\"Free\",\"Free\",\"Free\",\"Free\",\"Free\",\"Free\",\"Free\",\"Free\",\"Free\",\"Free\",\"Free\",\"Free\",\"Free\",\"Free\",\"Free\",\"Free\",\"Free\",\"Free\",\"Free\",\"Free\",\"Free\",\"Free\",\"Free\",\"Free\",\"Free\",\"Free\",\"Free\",\"Free\",\"Free\",\"Free\",\"Free\",\"Free\",\"Free\",\"Free\",\"Free\",\"Free\",\"Free\",\"Free\",\"Free\",\"Free\",\"Free\",\"Free\",\"Free\",\"Free\",\"Free\",\"Free\",\"Free\",\"Free\",\"Free\",\"Free\",\"Free\",\"Free\",\"Free\",\"Free\",\"Free\",\"Free\",\"Free\",\"Free\",\"Free\",\"Free\",\"Free\",\"Free\",\"Free\",\"Free\",\"Free\",\"Free\",\"Free\",\"Free\",\"Free\",\"Free\",\"Free\",\"Free\",\"Free\",\"Free\",\"Free\",\"Free\",\"Free\",\"Free\",\"Free\",\"Free\",\"Free\",\"Free\",\"Free\",\"Free\",\"Free\",\"Free\",\"Free\",\"Free\",\"Free\",\"Free\",\"Free\",\"Free\",\"Free\",\"Free\",\"Free\",\"Free\",\"Free\",\"Free\",\"Free\",\"Free\",\"Free\",\"Free\",\"Free\",\"Free\",\"Free\",\"Free\",\"Free\",\"Free\",\"Free\",\"Free\",\"Free\",\"Free\",\"Free\",\"Free\",\"Free\",\"Free\",\"Free\",\"Free\",\"Free\",\"Free\",\"Free\",\"Free\",\"Free\",\"Free\",\"Free\",\"Free\",\"Free\",\"Free\",\"Free\",\"Free\",\"Free\",\"Free\",\"Free\",\"Free\",\"Free\",\"Free\",\"Free\",\"Free\",\"Free\",\"Free\",\"Free\",\"Free\",\"Free\",\"Free\",\"Free\",\"Free\",\"Free\",\"Free\",\"Free\",\"Free\",\"Free\",\"Free\",\"Free\",\"Free\",\"Free\",\"Free\",\"Free\",\"Free\",\"Free\",\"Free\",\"Free\",\"Free\",\"Free\",\"Free\",\"Free\",\"Free\",\"Free\",\"Free\",\"Free\",\"Free\",\"Free\",\"Free\",\"Free\",\"Free\",\"Free\",\"Free\",\"Free\",\"Free\",\"Free\",\"Free\",\"Free\",\"Free\",\"Free\",\"Free\",\"Free\",\"Free\",\"Free\",\"Free\",\"Free\",\"Free\",\"Free\",\"Free\",\"Free\",\"Free\",\"Free\",\"Free\",\"Free\",\"Free\",\"Free\",\"Free\",\"Free\",\"Free\",\"Free\",\"Free\",\"Free\",\"Free\",\"Free\",\"Free\",\"Free\",\"Free\",\"Free\",\"Free\",\"Free\",\"Free\",\"Free\",\"Free\",\"Free\",\"Free\",\"Free\",\"Free\",\"Free\",\"Free\",\"Free\",\"Free\",\"Free\",\"Free\",\"Free\",\"Free\",\"Free\",\"Free\",\"Free\",\"Free\",\"Free\",\"Free\",\"Free\",\"Free\",\"Free\",\"Free\",\"Free\",\"Free\",\"Free\",\"Free\",\"Free\",\"Free\",\"Free\",\"Free\",\"Free\",\"Free\",\"Free\",\"Free\",\"Free\",\"Free\",\"Free\",\"Free\",\"Free\",\"Free\",\"Free\",\"Free\",\"Free\",\"Free\",\"Free\",\"Free\",\"Free\",\"Free\",\"Free\",\"Free\",\"Free\",\"Free\",\"Free\",\"Free\",\"Free\",\"Free\",\"Free\",\"Free\",\"Free\",\"Free\",\"Free\",\"Free\",\"Free\",\"Free\",\"Free\",\"Free\",\"Free\",\"Free\",\"Free\",\"Free\",\"Free\",\"Free\",\"Free\",\"Free\",\"Free\",\"Free\",\"Free\",\"Free\",\"Free\",\"Free\",\"Free\",\"Free\",\"Free\",\"Free\",\"Free\",\"Free\",\"Free\",\"Free\",\"Free\",\"Free\",\"Free\",\"Free\",\"Free\",\"Free\",\"Free\",\"Free\",\"Free\",\"Free\",\"Free\",\"Free\",\"Free\",\"Free\",\"Free\",\"Free\",\"Free\",\"Free\",\"Free\",\"Free\",\"Free\",\"Free\",\"Free\",\"Free\",\"Free\",\"Free\",\"Free\",\"Free\",\"Free\",\"Free\",\"Free\",\"Free\",\"Free\",\"Free\",\"Free\",\"Free\",\"Free\",\"Free\",\"Free\",\"Free\",\"Free\",\"Free\",\"Free\",\"Free\",\"Free\",\"Free\",\"Free\",\"Free\",\"Free\",\"Free\",\"Free\",\"Free\",\"Free\",\"Free\",\"Free\",\"Free\",\"Free\",\"Free\",\"Free\",\"Free\",\"Free\",\"Free\",\"Free\",\"Free\",\"Free\",\"Free\",\"Free\",\"Free\",\"Free\",\"Free\",\"Free\",\"Free\",\"Free\",\"Free\",\"Free\",\"Free\",\"Free\",\"Free\",\"Free\",\"Free\",\"Free\",\"Free\",\"Free\",\"Free\",\"Free\",\"Free\",\"Free\",\"Free\",\"Free\",\"Free\",\"Free\",\"Free\",\"Free\",\"Free\",\"Free\",\"Free\",\"Free\",\"Free\",\"Free\",\"Free\",\"Free\",\"Free\",\"Free\",\"Free\",\"Free\",\"Free\",\"Free\",\"Free\",\"Free\",\"Free\",\"Free\",\"Free\",\"Free\",\"Free\",\"Free\",\"Free\",\"Free\",\"Free\",\"Free\",\"Free\",\"Free\",\"Free\",\"Free\",\"Free\",\"Free\",\"Free\",\"Free\",\"Free\",\"Free\",\"Free\",\"Free\",\"Free\",\"Free\",\"Free\",\"Free\",\"Free\",\"Free\",\"Free\",\"Free\",\"Free\",\"Free\",\"Free\",\"Free\",\"Free\",\"Free\",\"Free\",\"Free\",\"Free\",\"Free\",\"Free\",\"Free\",\"Free\",\"Free\",\"Free\",\"Free\",\"Free\",\"Free\",\"Free\",\"Free\",\"Free\",\"Free\",\"Free\",\"Free\",\"Free\",\"Free\",\"Free\",\"Free\",\"Free\",\"Free\",\"Free\",\"Free\",\"Free\",\"Free\",\"Free\",\"Free\",\"Free\",\"Free\",\"Free\",\"Free\",\"Free\",\"Free\",\"Free\",\"Free\",\"Free\",\"Free\",\"Free\",\"Free\",\"Free\",\"Free\",\"Free\",\"Free\",\"Free\",\"Free\",\"Free\",\"Free\",\"Free\",\"Free\",\"Free\",\"Free\",\"Free\",\"Free\",\"Free\",\"Free\",\"Free\",\"Free\",\"Free\",\"Free\",\"Free\",\"Free\",\"Free\",\"Free\",\"Free\",\"Free\",\"Free\",\"Free\",\"Free\",\"Free\",\"Free\",\"Free\",\"Free\",\"Free\",\"Free\",\"Free\",\"Free\",\"Free\",\"Free\",\"Free\",\"Free\",\"Free\",\"Free\",\"Free\",\"Free\",\"Free\",\"Free\",\"Free\",\"Free\",\"Free\",\"Free\",\"Free\",\"Free\",\"Free\",\"Free\",\"Free\",\"Free\",\"Free\",\"Free\",\"Free\",\"Free\",\"Free\",\"Free\",\"Free\",\"Free\",\"Free\",\"Free\",\"Free\",\"Free\",\"Free\",\"Free\",\"Free\",\"Free\",\"Free\",\"Free\",\"Free\",\"Free\",\"Free\",\"Free\",\"Free\",\"Free\",\"Free\",\"Free\",\"Free\",\"Free\",\"Free\",\"Free\",\"Free\",\"Free\",\"Free\",\"Free\",\"Free\",\"Free\",\"Free\",\"Free\",\"Free\",\"Free\",\"Free\",\"Free\",\"Free\",\"Free\",\"Free\",\"Free\",\"Free\",\"Free\",\"Free\",\"Free\",\"Free\",\"Free\",\"Free\",\"Free\",\"Free\",\"Free\",\"Free\",\"Free\",\"Free\",\"Free\",\"Free\",\"Free\",\"Free\",\"Free\",\"Free\",\"Free\",\"Free\",\"Free\",\"Free\",\"Free\",\"Free\",\"Free\",\"Free\",\"Free\",\"Free\",\"Free\",\"Free\",\"Free\",\"Free\",\"Free\",\"Free\",\"Free\",\"Free\",\"Free\",\"Free\",\"Free\",\"Free\",\"Free\",\"Free\",\"Free\",\"Free\",\"Free\",\"Free\",\"Free\",\"Free\",\"Free\",\"Free\",\"Free\",\"Free\",\"Free\",\"Free\",\"Free\",\"Free\",\"Free\",\"Free\",\"Free\",\"Free\",\"Free\",\"Free\",\"Free\",\"Free\",\"Free\",\"Free\",\"Free\",\"Free\",\"Free\",\"Free\",\"Free\",\"Free\",\"Free\",\"Free\",\"Free\",\"Free\",\"Free\",\"Free\",\"Free\",\"Free\",\"Free\",\"Free\",\"Free\",\"Free\",\"Free\",\"Free\",\"Free\",\"Free\",\"Free\",\"Free\",\"Free\",\"Free\",\"Free\",\"Free\",\"Free\",\"Free\",\"Free\",\"Free\",\"Free\",\"Free\",\"Free\",\"Free\",\"Free\",\"Free\",\"Free\",\"Free\",\"Free\",\"Free\",\"Free\",\"Free\",\"Free\",\"Free\",\"Free\",\"Free\",\"Free\",\"Free\",\"Free\",\"Free\",\"Free\",\"Free\",\"Free\",\"Free\",\"Free\",\"Free\",\"Free\",\"Free\",\"Free\",\"Free\",\"Free\",\"Free\",\"Free\",\"Free\",\"Free\",\"Free\",\"Free\",\"Free\",\"Free\",\"Free\",\"Free\",\"Free\",\"Free\",\"Free\",\"Free\",\"Free\",\"Free\",\"Free\",\"Free\",\"Free\",\"Free\",\"Free\",\"Free\",\"Free\",\"Free\",\"Free\",\"Free\",\"Free\",\"Free\",\"Free\",\"Free\",\"Free\",\"Free\",\"Free\",\"Free\",\"Free\",\"Free\",\"Free\",\"Free\",\"Free\",\"Free\",\"Free\",\"Free\",\"Free\",\"Free\",\"Free\",\"Free\",\"Free\",\"Free\",\"Free\",\"Free\",\"Free\",\"Free\",\"Free\",\"Free\",\"Free\",\"Free\",\"Free\",\"Free\",\"Free\",\"Free\",\"Free\",\"Free\",\"Free\",\"Free\",\"Free\",\"Free\",\"Free\",\"Free\",\"Free\",\"Free\",\"Free\",\"Free\",\"Free\",\"Free\",\"Free\",\"Free\",\"Free\",\"Free\",\"Free\",\"Free\",\"Free\",\"Free\",\"Free\",\"Free\",\"Free\",\"Free\",\"Free\",\"Free\",\"Free\",\"Free\",\"Free\",\"Free\",\"Free\",\"Free\",\"Free\",\"Free\",\"Free\",\"Free\",\"Free\",\"Free\",\"Free\",\"Free\",\"Free\",\"Free\",\"Free\",\"Free\",\"Free\",\"Free\",\"Free\",\"Free\",\"Free\",\"Free\",\"Free\",\"Free\",\"Free\",\"Free\",\"Free\",\"Free\",\"Free\",\"Free\",\"Free\",\"Free\",\"Free\",\"Free\",\"Free\",\"Free\",\"Free\",\"Free\",\"Free\",\"Free\",\"Free\",\"Free\",\"Free\",\"Free\",\"Free\",\"Free\",\"Free\",\"Free\",\"Free\",\"Free\",\"Free\",\"Free\",\"Free\",\"Free\",\"Free\",\"Free\",\"Free\",\"Free\",\"Free\",\"Free\",\"Free\",\"Free\",\"Free\",\"Free\",\"Free\",\"Free\",\"Free\",\"Free\",\"Free\",\"Free\",\"Free\",\"Free\",\"Free\",\"Free\",\"Free\",\"Free\",\"Free\",\"Free\",\"Free\",\"Free\",\"Free\",\"Free\",\"Free\",\"Free\",\"Free\",\"Free\",\"Free\",\"Free\",\"Free\",\"Free\",\"Free\",\"Free\",\"Free\",\"Free\",\"Free\",\"Free\",\"Free\",\"Free\",\"Free\",\"Free\",\"Free\",\"Free\",\"Free\",\"Free\",\"Free\",\"Free\",\"Free\",\"Free\",\"Free\",\"Free\",\"Free\",\"Free\",\"Free\",\"Free\",\"Free\",\"Free\",\"Free\",\"Free\",\"Free\",\"Free\",\"Free\",\"Free\",\"Free\",\"Free\",\"Free\",\"Free\",\"Free\",\"Free\",\"Free\",\"Free\",\"Free\",\"Free\",\"Free\",\"Free\",\"Free\",\"Free\",\"Free\",\"Free\",\"Free\",\"Free\",\"Free\",\"Free\",\"Free\",\"Free\",\"Free\",\"Free\",\"Free\",\"Free\",\"Free\",\"Free\",\"Free\",\"Free\",\"Free\",\"Free\",\"Free\",\"Free\",\"Free\",\"Free\",\"Free\",\"Free\",\"Free\",\"Free\",\"Free\",\"Free\",\"Free\",\"Free\",\"Free\",\"Free\",\"Free\",\"Free\",\"Free\",\"Free\",\"Free\",\"Free\",\"Free\",\"Free\",\"Free\",\"Free\",\"Free\",\"Free\",\"Free\",\"Free\",\"Free\",\"Free\",\"Free\",\"Free\",\"Free\",\"Free\",\"Free\",\"Free\",\"Free\",\"Free\",\"Free\",\"Free\",\"Free\",\"Free\",\"Free\",\"Free\",\"Free\",\"Free\",\"Free\",\"Free\",\"Free\",\"Free\",\"Free\",\"Free\",\"Free\",\"Free\",\"Free\",\"Free\",\"Free\",\"Free\",\"Free\",\"Free\",\"Free\",\"Free\",\"Free\",\"Free\",\"Free\",\"Free\",\"Free\",\"Free\",\"Free\",\"Free\",\"Free\",\"Free\",\"Free\",\"Free\",\"Free\",\"Free\",\"Free\",\"Free\",\"Free\",\"Free\",\"Free\",\"Free\",\"Free\",\"Free\",\"Free\",\"Free\",\"Free\",\"Free\",\"Free\",\"Free\",\"Free\",\"Free\",\"Free\",\"Free\",\"Free\",\"Free\",\"Free\",\"Free\",\"Free\",\"Free\",\"Free\",\"Free\",\"Free\",\"Free\",\"Free\",\"Free\",\"Free\",\"Free\",\"Free\",\"Free\",\"Free\",\"Free\",\"Free\",\"Free\",\"Free\",\"Free\",\"Free\",\"Free\",\"Free\",\"Free\",\"Free\",\"Free\",\"Free\",\"Free\",\"Free\",\"Free\",\"Free\",\"Free\",\"Free\",\"Free\",\"Free\",\"Free\",\"Free\",\"Free\",\"Free\",\"Free\",\"Free\",\"Free\",\"Free\",\"Free\",\"Free\",\"Free\",\"Free\",\"Free\",\"Free\",\"Free\",\"Free\",\"Free\",\"Free\",\"Free\",\"Free\",\"Free\",\"Free\",\"Free\",\"Free\",\"Free\",\"Free\",\"Free\",\"Free\",\"Free\",\"Free\",\"Free\",\"Free\",\"Free\",\"Free\",\"Free\",\"Free\",\"Free\",\"Free\",\"Free\",\"Free\",\"Free\",\"Free\",\"Free\",\"Free\",\"Free\",\"Free\",\"Free\",\"Free\",\"Free\",\"Free\",\"Free\",\"Free\",\"Free\",\"Free\",\"Free\",\"Free\",\"Free\",\"Free\",\"Free\",\"Free\",\"Free\",\"Free\",\"Free\",\"Free\",\"Free\",\"Free\",\"Free\",\"Free\",\"Free\",\"Free\",\"Free\",\"Free\",\"Free\",\"Free\",\"Free\",\"Free\",\"Free\",\"Free\",\"Free\",\"Free\",\"Free\",\"Free\",\"Free\",\"Free\",\"Free\",\"Free\",\"Free\",\"Free\",\"Free\",\"Free\",\"Free\",\"Free\",\"Free\",\"Free\",\"Free\",\"Free\",\"Free\",\"Free\",\"Free\",\"Free\",\"Free\",\"Free\",\"Free\",\"Free\",\"Free\",\"Free\",\"Free\",\"Free\",\"Free\",\"Free\",\"Free\",\"Free\",\"Free\",\"Free\",\"Free\",\"Free\",\"Free\",\"Free\",\"Free\",\"Free\",\"Free\",\"Free\",\"Free\",\"Free\",\"Free\",\"Free\",\"Free\",\"Free\",\"Free\",\"Free\",\"Free\",\"Free\",\"Free\",\"Free\",\"Free\",\"Free\",\"Free\",\"Free\",\"Free\",\"Free\",\"Free\",\"Free\",\"Free\",\"Free\",\"Free\",\"Free\",\"Free\",\"Free\",\"Free\",\"Free\",\"Free\",\"Free\",\"Free\",\"Free\",\"Free\",\"Free\",\"Free\",\"Free\",\"Free\",\"Free\",\"Free\",\"Free\",\"Free\",\"Free\",\"Free\",\"Free\",\"Free\",\"Free\",\"Free\",\"Free\",\"Free\",\"Free\",\"Free\",\"Free\",\"Free\",\"Free\",\"Free\",\"Free\",\"Free\",\"Free\",\"Free\",\"Free\",\"Free\",\"Free\",\"Free\",\"Free\",\"Free\",\"Free\",\"Free\",\"Free\",\"Free\",\"Free\",\"Free\",\"Free\",\"Free\",\"Free\",\"Free\",\"Free\",\"Free\",\"Free\",\"Free\",\"Free\",\"Free\",\"Free\",\"Free\",\"Free\",\"Free\",\"Free\",\"Free\",\"Free\",\"Free\",\"Free\",\"Free\",\"Free\",\"Free\",\"Free\",\"Free\",\"Free\",\"Free\",\"Free\",\"Free\",\"Free\",\"Free\",\"Free\",\"Free\",\"Free\",\"Free\",\"Free\",\"Free\",\"Free\",\"Free\",\"Free\",\"Free\",\"Free\",\"Free\",\"Free\",\"Free\",\"Free\",\"Free\",\"Free\",\"Free\",\"Free\",\"Free\",\"Free\",\"Free\",\"Free\",\"Free\",\"Free\",\"Free\",\"Free\",\"Free\",\"Free\",\"Free\",\"Free\",\"Free\",\"Free\",\"Free\",\"Free\",\"Free\",\"Free\",\"Free\",\"Free\",\"Free\"],\"x0\":\" \",\"xaxis\":\"x\",\"y\":[1,5,5,5,5,5,5,5,5,5,10,10,10,10,10,10,10,10,10,10,10,10,10,10,10,10,10,10,10,10,10,10,10,10,10,10,10,10,10,10,10,10,10,10,10,10,10,10,10,10,10,10,10,10,10,10,10,10,10,10,10,50,50,50,50,50,50,50,50,50,50,50,50,50,50,50,50,50,50,50,50,50,50,50,50,50,50,50,50,50,50,50,50,50,50,50,50,50,50,50,50,50,50,100,100,100,100,100,100,100,100,100,100,100,100,100,100,100,100,100,100,100,100,100,100,100,100,100,100,100,100,100,100,100,100,100,100,100,100,100,100,100,100,100,100,100,100,100,100,100,100,100,100,100,100,100,100,100,100,100,100,100,100,100,100,100,100,100,100,100,100,100,100,100,100,100,100,100,100,100,100,100,100,100,100,100,100,100,100,100,100,100,100,100,100,100,100,100,100,100,100,100,100,100,100,100,100,100,100,100,100,100,100,100,100,100,100,100,100,100,100,100,100,100,100,100,100,100,100,100,100,100,100,100,100,100,100,100,100,100,100,100,100,100,100,100,100,100,100,100,100,100,100,100,100,100,100,100,100,100,100,100,100,100,100,100,100,100,100,100,100,100,100,100,100,100,100,100,100,100,100,100,100,100,100,100,100,100,100,100,100,100,100,100,100,100,100,100,100,100,100,100,100,100,100,100,100,100,100,100,100,100,100,100,100,100,100,100,100,100,100,100,100,100,100,100,100,100,100,100,100,100,100,100,100,100,100,100,100,100,500,500,500,500,500,500,500,500,500,500,500,500,500,500,500,500,500,500,500,500,500,500,500,500,500,500,500,500,500,500,500,500,500,500,500,500,500,500,500,500,500,500,500,500,500,500,500,500,500,500,500,500,500,500,500,500,500,500,500,500,500,500,500,500,500,500,500,500,500,500,500,500,500,500,500,500,500,500,500,500,500,500,500,500,500,500,500,500,500,500,500,500,500,500,500,500,500,500,500,500,500,500,500,500,500,500,500,500,500,500,500,500,500,500,500,500,500,500,500,500,500,500,500,500,500,500,500,500,500,500,500,500,500,500,500,500,500,500,500,500,500,500,500,500,500,500,500,500,500,500,500,500,500,500,500,500,500,500,500,500,500,500,500,1000,1000,1000,1000,1000,1000,1000,1000,1000,1000,1000,1000,1000,1000,1000,1000,1000,1000,1000,1000,1000,1000,1000,1000,1000,1000,1000,1000,1000,1000,1000,1000,1000,1000,1000,1000,1000,1000,1000,1000,1000,1000,1000,1000,1000,1000,1000,1000,1000,1000,1000,1000,1000,1000,1000,1000,1000,1000,1000,1000,1000,1000,1000,1000,1000,1000,1000,1000,1000,1000,1000,1000,1000,1000,1000,1000,1000,1000,1000,1000,1000,1000,1000,1000,1000,1000,1000,1000,1000,1000,1000,1000,1000,1000,1000,1000,1000,1000,1000,1000,1000,1000,1000,1000,1000,1000,1000,1000,1000,1000,1000,1000,1000,1000,1000,1000,1000,1000,1000,1000,1000,1000,1000,1000,1000,1000,1000,1000,1000,1000,1000,1000,1000,1000,1000,1000,1000,1000,1000,1000,1000,1000,1000,1000,1000,1000,1000,1000,1000,1000,1000,1000,1000,1000,1000,1000,1000,1000,1000,1000,1000,1000,1000,1000,1000,1000,1000,1000,1000,1000,1000,1000,1000,1000,1000,1000,1000,1000,1000,1000,1000,1000,1000,1000,1000,1000,1000,1000,1000,1000,1000,1000,1000,1000,1000,1000,1000,1000,1000,1000,1000,1000,1000,1000,1000,1000,1000,1000,1000,1000,1000,1000,1000,1000,1000,1000,1000,1000,1000,1000,1000,1000,1000,1000,1000,1000,1000,1000,1000,1000,1000,1000,1000,1000,1000,1000,1000,1000,1000,1000,1000,1000,1000,1000,1000,1000,1000,1000,1000,1000,1000,1000,1000,1000,1000,1000,1000,1000,1000,1000,1000,1000,1000,1000,1000,1000,1000,1000,1000,1000,1000,1000,1000,1000,1000,1000,1000,1000,1000,1000,1000,1000,1000,1000,1000,1000,1000,1000,1000,1000,1000,1000,1000,1000,1000,1000,1000,1000,1000,1000,1000,1000,1000,1000,1000,1000,1000,1000,1000,1000,1000,1000,1000,1000,1000,1000,1000,1000,1000,1000,1000,1000,1000,1000,1000,1000,1000,1000,1000,1000,1000,1000,1000,1000,1000,1000,1000,1000,1000,1000,1000,1000,1000,1000,1000,1000,1000,1000,1000,1000,1000,1000,1000,1000,1000,1000,1000,1000,1000,1000,1000,1000,1000,1000,1000,1000,1000,1000,1000,1000,1000,1000,1000,1000,1000,1000,1000,1000,1000,1000,1000,1000,1000,1000,1000,1000,1000,1000,1000,1000,1000,1000,1000,1000,1000,1000,1000,1000,1000,1000,1000,1000,1000,1000,1000,1000,1000,1000,1000,1000,1000,1000,1000,1000,1000,1000,1000,1000,1000,1000,1000,1000,1000,1000,1000,1000,1000,1000,1000,1000,1000,1000,1000,1000,1000,1000,1000,1000,1000,1000,1000,1000,1000,1000,1000,1000,1000,1000,1000,1000,1000,1000,1000,1000,1000,1000,1000,1000,1000,1000,1000,1000,1000,1000,1000,1000,1000,1000,1000,1000,1000,1000,1000,1000,1000,1000,1000,1000,1000,1000,1000,1000,1000,1000,1000,1000,1000,1000,1000,1000,1000,1000,1000,1000,1000,1000,1000,1000,1000,1000,1000,1000,1000,1000,1000,1000,1000,1000,1000,1000,1000,1000,1000,1000,1000,1000,1000,1000,1000,1000,1000,1000,1000,1000,1000,1000,1000,1000,1000,1000,1000,1000,1000,1000,1000,1000,1000,1000,1000,1000,1000,1000,1000,1000,1000,1000,1000,1000,1000,1000,1000,1000,1000,1000,1000,1000,1000,1000,1000,1000,1000,1000,1000,1000,1000,1000,1000,5000,5000,5000,5000,5000,5000,5000,5000,5000,5000,5000,5000,5000,5000,5000,5000,5000,5000,5000,5000,5000,5000,5000,5000,5000,5000,5000,5000,5000,5000,5000,5000,5000,5000,5000,5000,5000,5000,5000,5000,5000,5000,5000,5000,5000,5000,5000,5000,5000,5000,5000,5000,5000,5000,5000,5000,5000,5000,5000,5000,5000,5000,5000,5000,5000,5000,5000,5000,5000,5000,5000,5000,5000,5000,5000,5000,5000,5000,5000,5000,5000,5000,5000,5000,5000,5000,5000,5000,5000,5000,5000,5000,5000,5000,5000,5000,5000,5000,5000,5000,5000,5000,5000,5000,5000,5000,5000,5000,5000,5000,5000,5000,5000,5000,5000,5000,5000,5000,5000,5000,5000,5000,5000,5000,5000,5000,5000,5000,5000,5000,5000,5000,5000,5000,5000,5000,5000,5000,5000,5000,5000,5000,5000,5000,5000,5000,5000,5000,5000,5000,5000,5000,5000,5000,5000,5000,5000,5000,5000,5000,5000,5000,5000,5000,5000,5000,5000,5000,5000,5000,5000,5000,5000,5000,5000,5000,5000,5000,5000,5000,5000,5000,5000,5000,5000,5000,5000,5000,5000,5000,5000,5000,5000,5000,5000,5000,5000,5000,5000,5000,5000,5000,5000,5000,5000,5000,5000,5000,5000,5000,5000,5000,5000,5000,5000,5000,5000,5000,5000,5000,5000,5000,5000,5000,5000,5000,5000,5000,5000,5000,5000,5000,5000,5000,5000,5000,5000,5000,5000,5000,5000,5000,5000,5000,5000,5000,5000,5000,5000,5000,5000,5000,5000,5000,5000,5000,5000,5000,5000,5000,5000,5000,5000,5000,5000,5000,5000,5000,5000,5000,5000,5000,5000,5000,5000,5000,5000,5000,5000,5000,5000,5000,5000,5000,5000,5000,5000,5000,5000,5000,5000,5000,5000,5000,5000,5000,5000,5000,5000,5000,5000,5000,5000,5000,5000,5000,5000,5000,5000,5000,5000,5000,5000,5000,5000,5000,5000,5000,5000,5000,5000,5000,5000,5000,5000,5000,5000,5000,5000,5000,5000,5000,5000,5000,5000,5000,5000,5000,5000,5000,5000,5000,5000,5000,5000,5000,5000,5000,5000,5000,5000,5000,5000,5000,5000,5000,5000,5000,5000,5000,10000,10000,10000,10000,10000,10000,10000,10000,10000,10000,10000,10000,10000,10000,10000,10000,10000,10000,10000,10000,10000,10000,10000,10000,10000,10000,10000,10000,10000,10000,10000,10000,10000,10000,10000,10000,10000,10000,10000,10000,10000,10000,10000,10000,10000,10000,10000,10000,10000,10000,10000,10000,10000,10000,10000,10000,10000,10000,10000,10000,10000,10000,10000,10000,10000,10000,10000,10000,10000,10000,10000,10000,10000,10000,10000,10000,10000,10000,10000,10000,10000,10000,10000,10000,10000,10000,10000,10000,10000,10000,10000,10000,10000,10000,10000,10000,10000,10000,10000,10000,10000,10000,10000,10000,10000,10000,10000,10000,10000,10000,10000,10000,10000,10000,10000,10000,10000,10000,10000,10000,10000,10000,10000,10000,10000,10000,10000,10000,10000,10000,10000,10000,10000,10000,10000,10000,10000,10000,10000,10000,10000,10000,10000,10000,10000,10000,10000,10000,10000,10000,10000,10000,10000,10000,10000,10000,10000,10000,10000,10000,10000,10000,10000,10000,10000,10000,10000,10000,10000,10000,10000,10000,10000,10000,10000,10000,10000,10000,10000,10000,10000,10000,10000,10000,10000,10000,10000,10000,10000,10000,10000,10000,10000,10000,10000,10000,10000,10000,10000,10000,10000,10000,10000,10000,10000,10000,10000,10000,10000,10000,10000,10000,10000,10000,10000,10000,10000,10000,10000,10000,10000,10000,10000,10000,10000,10000,10000,10000,10000,10000,10000,10000,10000,10000,10000,10000,10000,10000,10000,10000,10000,10000,10000,10000,10000,10000,10000,10000,10000,10000,10000,10000,10000,10000,10000,10000,10000,10000,10000,10000,10000,10000,10000,10000,10000,10000,10000,10000,10000,10000,10000,10000,10000,10000,10000,10000,10000,10000,10000,10000,10000,10000,10000,10000,10000,10000,10000,10000,10000,10000,10000,10000,10000,10000,10000,10000,10000,10000,10000,10000,10000,10000,10000,10000,10000,10000,10000,10000,10000,10000,10000,10000,10000,10000,10000,10000,10000,10000,10000,10000,10000,10000,10000,10000,10000,10000,10000,10000,10000,10000,10000,10000,10000,10000,10000,10000,10000,10000,10000,10000,10000,10000,10000,10000,10000,10000,10000,10000,10000,10000,10000,10000,10000,10000,10000,10000,10000,10000,10000,10000,10000,10000,10000,10000,10000,10000,10000,10000,10000,10000,10000,10000,10000,10000,10000,10000,10000,10000,10000,10000,10000,10000,10000,10000,10000,10000,10000,10000,10000,10000,10000,10000,10000,10000,10000,10000,10000,10000,10000,10000,10000,10000,10000,10000,10000,10000,10000,10000,10000,10000,10000,10000,10000,10000,10000,10000,10000,10000,10000,10000,10000,10000,10000,10000,10000,10000,10000,10000,10000,10000,10000,10000,10000,10000,10000,10000,10000,10000,10000,10000,10000,10000,10000,10000,10000,10000,10000,10000,10000,10000,10000,10000,10000,10000,10000,10000,10000,10000,10000,10000,10000,10000,10000,10000,10000,10000,10000,10000,10000,10000,10000,10000,10000,10000,10000,10000,10000,10000,10000,10000,10000,10000,10000,10000,10000,10000,10000,10000,10000,10000,10000,10000,10000,10000,10000,10000,10000,10000,10000,10000,10000,10000,10000,10000,10000,10000,10000,10000,10000,10000,10000,10000,10000,10000,10000,10000,10000,10000,10000,10000,10000,10000,10000,10000,10000,10000,10000,10000,10000,10000,10000,10000,10000,10000,10000,10000,10000,10000,10000,10000,10000,10000,10000,10000,10000,10000,10000,10000,10000,10000,10000,10000,10000,10000,10000,10000,10000,10000,10000,10000,10000,10000,10000,10000,10000,10000,10000,10000,10000,10000,10000,10000,10000,10000,10000,10000,10000,10000,10000,10000,10000,10000,10000,10000,10000,10000,10000,10000,10000,10000,10000,10000,10000,10000,10000,10000,10000,10000,10000,10000,10000,10000,10000,10000,10000,10000,10000,10000,10000,10000,10000,10000,10000,10000,10000,10000,10000,10000,10000,10000,10000,10000,10000,10000,10000,10000,10000,10000,10000,10000,10000,10000,10000,10000,10000,10000,10000,10000,10000,10000,10000,10000,10000,10000,10000,10000,10000,10000,10000,10000,10000,10000,10000,10000,10000,10000,10000,10000,10000,10000,10000,10000,10000,10000,10000,10000,10000,10000,10000,10000,10000,10000,10000,10000,10000,10000,10000,10000,10000,10000,10000,10000,10000,10000,10000,10000,10000,10000,10000,10000,10000,10000,10000,10000,10000,10000,10000,10000,10000,10000,10000,10000,10000,10000,10000,10000,10000,10000,10000,10000,10000,10000,10000,10000,10000,10000,10000,10000,10000,10000,10000,10000,10000,10000,10000,10000,10000,10000,10000,10000,10000,10000,10000,10000,10000,10000,10000,10000,10000,10000,10000,10000,10000,10000,10000,10000,10000,10000,10000,10000,10000,10000,10000,10000,10000,10000,10000,10000,10000,10000,10000,10000,10000,10000,10000,10000,10000,10000,10000,10000,10000,10000,10000,10000,10000,10000,10000,10000,10000,10000,10000,10000,10000,10000,10000,10000,10000,10000,10000,10000,10000,10000,10000,10000,10000,10000,10000,10000,10000,10000,10000,10000,10000,10000,10000,10000,10000,10000,10000,10000,10000,10000,10000,10000,10000,10000,10000,10000,10000,10000,10000,10000,10000,10000,10000,10000,10000,10000,10000,10000,10000,10000,10000,10000,10000,10000,10000,10000,10000,10000,10000,10000,10000,10000,10000,10000,10000,10000,10000,10000,10000,10000,10000,10000,10000,10000,10000,10000,10000,10000,10000,10000,10000,10000,10000,10000,10000,10000,10000,10000,10000,50000,50000,50000,50000,50000,50000,50000,50000,50000,50000,50000,50000,50000,50000,50000,50000,50000,50000,50000,50000,50000,50000,50000,50000,50000,50000,50000,50000,50000,50000,50000,50000,50000,50000,50000,50000,50000,50000,50000,50000,50000,50000,50000,50000,50000,50000,50000,50000,50000,50000,50000,50000,50000,50000,50000,50000,50000,50000,50000,50000,50000,50000,50000,50000,50000,50000,50000,50000,50000,50000,50000,50000,50000,50000,50000,50000,50000,50000,50000,50000,50000,50000,50000,50000,50000,50000,50000,50000,50000,50000,50000,50000,50000,50000,50000,50000,50000,50000,50000,50000,50000,50000,50000,50000,50000,50000,50000,50000,50000,50000,50000,50000,50000,50000,50000,50000,50000,50000,50000,50000,50000,50000,50000,50000,50000,50000,50000,50000,50000,50000,50000,50000,50000,50000,50000,50000,50000,50000,50000,50000,50000,50000,50000,50000,50000,50000,50000,50000,50000,50000,50000,50000,50000,50000,50000,50000,50000,50000,50000,50000,50000,50000,50000,50000,50000,50000,50000,50000,50000,50000,50000,50000,50000,50000,50000,50000,50000,50000,50000,50000,50000,50000,50000,50000,50000,50000,50000,50000,50000,50000,50000,50000,50000,50000,50000,50000,50000,50000,50000,50000,50000,50000,50000,50000,50000,50000,50000,50000,50000,50000,50000,50000,50000,50000,50000,50000,50000,50000,50000,50000,50000,50000,50000,50000,50000,50000,50000,50000,50000,50000,50000,50000,50000,50000,50000,50000,50000,50000,50000,50000,50000,50000,50000,50000,50000,50000,50000,50000,50000,50000,50000,50000,50000,50000,50000,50000,50000,50000,50000,50000,50000,50000,50000,50000,50000,50000,50000,50000,50000,50000,50000,50000,50000,50000,50000,50000,50000,50000,50000,50000,50000,50000,50000,50000,50000,50000,50000,50000,50000,50000,50000,50000,50000,50000,50000,50000,50000,50000,50000,50000,50000,50000,50000,50000,50000,50000,50000,50000,50000,50000,50000,50000,50000,50000,50000,50000,50000,50000,50000,50000,50000,50000,50000,50000,50000,50000,50000,50000,50000,50000,50000,50000,50000,50000,50000,50000,50000,50000,50000,50000,50000,50000,50000,50000,50000,50000,50000,50000,50000,50000,50000,50000,50000,50000,50000,50000,50000,50000,50000,50000,50000,50000,50000,50000,50000,50000,50000,50000,50000,50000,50000,50000,50000,50000,50000,50000,50000,50000,50000,50000,50000,50000,50000,50000,50000,50000,50000,50000,50000,50000,50000,50000,50000,50000,50000,50000,50000,50000,50000,50000,50000,50000,50000,50000,50000,50000,50000,50000,50000,50000,50000,50000,50000,50000,50000,50000,50000,100000,100000,100000,100000,100000,100000,100000,100000,100000,100000,100000,100000,100000,100000,100000,100000,100000,100000,100000,100000,100000,100000,100000,100000,100000,100000,100000,100000,100000,100000,100000,100000,100000,100000,100000,100000,100000,100000,100000,100000,100000,100000,100000,100000,100000,100000,100000,100000,100000,100000,100000,100000,100000,100000,100000,100000,100000,100000,100000,100000,100000,100000,100000,100000,100000,100000,100000,100000,100000,100000,100000,100000,100000,100000,100000,100000,100000,100000,100000,100000,100000,100000,100000,100000,100000,100000,100000,100000,100000,100000,100000,100000,100000,100000,100000,100000,100000,100000,100000,100000,100000,100000,100000,100000,100000,100000,100000,100000,100000,100000,100000,100000,100000,100000,100000,100000,100000,100000,100000,100000,100000,100000,100000,100000,100000,100000,100000,100000,100000,100000,100000,100000,100000,100000,100000,100000,100000,100000,100000,100000,100000,100000,100000,100000,100000,100000,100000,100000,100000,100000,100000,100000,100000,100000,100000,100000,100000,100000,100000,100000,100000,100000,100000,100000,100000,100000,100000,100000,100000,100000,100000,100000,100000,100000,100000,100000,100000,100000,100000,100000,100000,100000,100000,100000,100000,100000,100000,100000,100000,100000,100000,100000,100000,100000,100000,100000,100000,100000,100000,100000,100000,100000,100000,100000,100000,100000,100000,100000,100000,100000,100000,100000,100000,100000,100000,100000,100000,100000,100000,100000,100000,100000,100000,100000,100000,100000,100000,100000,100000,100000,100000,100000,100000,100000,100000,100000,100000,100000,100000,100000,100000,100000,100000,100000,100000,100000,100000,100000,100000,100000,100000,100000,100000,100000,100000,100000,100000,100000,100000,100000,100000,100000,100000,100000,100000,100000,100000,100000,100000,100000,100000,100000,100000,100000,100000,100000,100000,100000,100000,100000,100000,100000,100000,100000,100000,100000,100000,100000,100000,100000,100000,100000,100000,100000,100000,100000,100000,100000,100000,100000,100000,100000,100000,100000,100000,100000,100000,100000,100000,100000,100000,100000,100000,100000,100000,100000,100000,100000,100000,100000,100000,100000,100000,100000,100000,100000,100000,100000,100000,100000,100000,100000,100000,100000,100000,100000,100000,100000,100000,100000,100000,100000,100000,100000,100000,100000,100000,100000,100000,100000,100000,100000,100000,100000,100000,100000,100000,100000,100000,100000,100000,100000,100000,100000,100000,100000,100000,100000,100000,100000,100000,100000,100000,100000,100000,100000,100000,100000,100000,100000,100000,100000,100000,100000,100000,100000,100000,100000,100000,100000,100000,100000,100000,100000,100000,100000,100000,100000,100000,100000,100000,100000,100000,100000,100000,100000,100000,100000,100000,100000,100000,100000,100000,100000,100000,100000,100000,100000,100000,100000,100000,100000,100000,100000,100000,100000,100000,100000,100000,100000,100000,100000,100000,100000,100000,100000,100000,100000,100000,100000,100000,100000,100000,100000,100000,100000,100000,100000,100000,100000,100000,100000,100000,100000,100000,100000,100000,100000,100000,100000,100000,100000,100000,100000,100000,100000,100000,100000,100000,100000,100000,100000,100000,100000,100000,100000,100000,100000,100000,100000,100000,100000,100000,100000,100000,100000,100000,100000,100000,100000,100000,100000,100000,100000,100000,100000,100000,100000,100000,100000,100000,100000,100000,100000,100000,100000,100000,100000,100000,100000,100000,100000,100000,100000,100000,100000,100000,100000,100000,100000,100000,100000,100000,100000,100000,100000,100000,100000,100000,100000,100000,100000,100000,100000,100000,100000,100000,100000,100000,100000,100000,100000,100000,100000,100000,100000,100000,100000,100000,100000,100000,100000,100000,100000,100000,100000,100000,100000,100000,100000,100000,100000,100000,100000,100000,100000,100000,100000,100000,100000,100000,100000,100000,100000,100000,100000,100000,100000,100000,100000,100000,100000,100000,100000,100000,100000,100000,100000,100000,100000,100000,100000,100000,100000,100000,100000,100000,100000,100000,100000,100000,100000,100000,100000,100000,100000,100000,100000,100000,100000,100000,100000,100000,100000,100000,100000,100000,100000,100000,100000,100000,100000,100000,100000,100000,100000,100000,100000,100000,100000,100000,100000,100000,100000,100000,100000,100000,100000,100000,100000,100000,100000,100000,100000,100000,100000,100000,100000,100000,100000,100000,100000,100000,100000,100000,100000,100000,100000,100000,100000,100000,100000,100000,100000,100000,100000,100000,100000,100000,100000,100000,100000,100000,100000,100000,100000,100000,100000,100000,100000,100000,100000,100000,100000,100000,100000,100000,100000,100000,100000,100000,100000,100000,100000,100000,100000,100000,100000,100000,100000,100000,100000,100000,100000,100000,100000,100000,100000,100000,100000,100000,100000,100000,100000,100000,100000,100000,100000,100000,100000,100000,100000,100000,100000,100000,100000,100000,100000,100000,100000,100000,100000,100000,100000,100000,100000,100000,100000,100000,100000,100000,100000,100000,100000,100000,100000,100000,100000,100000,100000,100000,100000,100000,100000,100000,100000,100000,100000,100000,100000,100000,100000,100000,100000,100000,100000,100000,100000,100000,100000,100000,100000,100000,100000,100000,100000,100000,100000,100000,100000,100000,100000,100000,100000,100000,100000,100000,100000,100000,100000,100000,100000,100000,100000,100000,100000,100000,100000,100000,100000,100000,100000,100000,100000,100000,100000,100000,100000,100000,100000,100000,100000,100000,100000,100000,100000,100000,100000,100000,100000,100000,100000,100000,100000,100000,100000,100000,100000,100000,100000,100000,100000,100000,100000,100000,100000,100000,100000,100000,100000,100000,100000,100000,100000,100000,100000,100000,100000,100000,100000,100000,100000,100000,100000,100000,100000,100000,100000,100000,100000,100000,100000,100000,100000,100000,100000,100000,100000,100000,100000,100000,100000,100000,100000,100000,100000,100000,100000,100000,100000,100000,100000,100000,100000,100000,100000,100000,100000,100000,100000,100000,100000,100000,100000,100000,100000,100000,100000,100000,100000,100000,100000,100000,100000,100000,100000,100000,100000,100000,100000,100000,100000,100000,100000,100000,100000,100000,100000,100000,100000,100000,100000,100000,100000,100000,100000,100000,100000,100000,100000,100000,100000,100000,100000,100000,100000,100000,100000,100000,100000,100000,100000,100000,100000,100000,100000,100000,100000,100000,100000,100000,100000,100000,100000,100000,100000,100000,100000,100000,100000,100000,100000,100000,100000,100000,100000,100000,100000,100000,100000,100000,100000,100000,100000,100000,100000,100000,100000,100000,100000,100000,100000,100000,100000,100000,100000,100000,100000,100000,100000,100000,100000,100000,100000,100000,100000,100000,100000,100000,100000,100000,100000,100000,100000,100000,100000,100000,100000,100000,100000,100000,100000,100000,100000,500000,500000,500000,500000,500000,500000,500000,500000,500000,500000,500000,500000,500000,500000,500000,500000,500000,500000,500000,500000,500000,500000,500000,500000,500000,500000,500000,500000,500000,500000,500000,500000,500000,500000,500000,500000,500000,500000,500000,500000,500000,500000,500000,500000,500000,500000,500000,500000,500000,500000,500000,500000,500000,500000,500000,500000,500000,500000,500000,500000,500000,500000,500000,500000,500000,500000,500000,500000,500000,500000,500000,500000,500000,500000,500000,500000,500000,500000,500000,500000,500000,500000,500000,500000,500000,500000,500000,500000,500000,500000,500000,500000,500000,500000,500000,500000,500000,500000,500000,500000,500000,500000,500000,500000,500000,500000,500000,500000,500000,500000,500000,500000,500000,500000,500000,500000,500000,500000,500000,500000,500000,500000,500000,500000,500000,500000,500000,500000,500000,500000,500000,500000,500000,500000,500000,500000,500000,500000,500000,500000,500000,500000,500000,500000,500000,500000,500000,500000,500000,500000,500000,500000,500000,500000,500000,500000,500000,500000,500000,500000,500000,500000,500000,500000,500000,500000,500000,500000,500000,500000,500000,500000,500000,500000,500000,500000,500000,500000,500000,500000,500000,500000,500000,500000,500000,500000,500000,500000,500000,500000,500000,500000,500000,500000,500000,500000,500000,500000,500000,500000,500000,500000,500000,500000,500000,500000,500000,500000,500000,500000,500000,500000,500000,500000,500000,500000,500000,500000,500000,500000,500000,500000,500000,500000,500000,500000,500000,500000,500000,500000,500000,500000,500000,500000,500000,500000,500000,500000,500000,500000,500000,500000,500000,500000,500000,500000,500000,500000,500000,500000,500000,500000,500000,500000,500000,500000,500000,500000,500000,500000,500000,500000,500000,500000,500000,500000,500000,500000,500000,500000,500000,500000,500000,500000,500000,500000,500000,500000,500000,500000,500000,500000,500000,500000,500000,500000,500000,500000,500000,500000,500000,500000,500000,500000,500000,500000,500000,500000,500000,500000,500000,500000,500000,500000,500000,500000,500000,500000,500000,500000,500000,500000,500000,500000,500000,500000,500000,500000,500000,500000,500000,500000,500000,500000,500000,500000,500000,500000,500000,500000,500000,500000,500000,500000,500000,500000,500000,500000,500000,500000,500000,500000,500000,500000,500000,500000,500000,500000,500000,500000,500000,500000,500000,500000,500000,500000,500000,500000,500000,500000,500000,500000,500000,500000,500000,500000,500000,500000,500000,500000,500000,500000,500000,500000,500000,500000,500000,500000,500000,500000,500000,500000,500000,500000,500000,500000,500000,500000,500000,500000,500000,500000,500000,500000,500000,500000,500000,500000,500000,500000,500000,500000,500000,500000,500000,500000,500000,500000,500000,500000,500000,500000,500000,500000,500000,500000,500000,500000,500000,500000,500000,500000,500000,500000,500000,500000,500000,500000,500000,500000,500000,500000,500000,500000,500000,500000,500000,500000,500000,500000,500000,500000,500000,500000,500000,500000,500000,500000,500000,500000,500000,500000,500000,500000,500000,500000,500000,500000,500000,500000,500000,500000,500000,500000,500000,500000,500000,500000,500000,500000,500000,500000,500000,500000,500000,500000,500000,500000,500000,500000,500000,500000,500000,500000,500000,500000,500000,500000,500000,500000,500000,500000,500000,1000000,1000000,1000000,1000000,1000000,1000000,1000000,1000000,1000000,1000000,1000000,1000000,1000000,1000000,1000000,1000000,1000000,1000000,1000000,1000000,1000000,1000000,1000000,1000000,1000000,1000000,1000000,1000000,1000000,1000000,1000000,1000000,1000000,1000000,1000000,1000000,1000000,1000000,1000000,1000000,1000000,1000000,1000000,1000000,1000000,1000000,1000000,1000000,1000000,1000000,1000000,1000000,1000000,1000000,1000000,1000000,1000000,1000000,1000000,1000000,1000000,1000000,1000000,1000000,1000000,1000000,1000000,1000000,1000000,1000000,1000000,1000000,1000000,1000000,1000000,1000000,1000000,1000000,1000000,1000000,1000000,1000000,1000000,1000000,1000000,1000000,1000000,1000000,1000000,1000000,1000000,1000000,1000000,1000000,1000000,1000000,1000000,1000000,1000000,1000000,1000000,1000000,1000000,1000000,1000000,1000000,1000000,1000000,1000000,1000000,1000000,1000000,1000000,1000000,1000000,1000000,1000000,1000000,1000000,1000000,1000000,1000000,1000000,1000000,1000000,1000000,1000000,1000000,1000000,1000000,1000000,1000000,1000000,1000000,1000000,1000000,1000000,1000000,1000000,1000000,1000000,1000000,1000000,1000000,1000000,1000000,1000000,1000000,1000000,1000000,1000000,1000000,1000000,1000000,1000000,1000000,1000000,1000000,1000000,1000000,1000000,1000000,1000000,1000000,1000000,1000000,1000000,1000000,1000000,1000000,1000000,1000000,1000000,1000000,1000000,1000000,1000000,1000000,1000000,1000000,1000000,1000000,1000000,1000000,1000000,1000000,1000000,1000000,1000000,1000000,1000000,1000000,1000000,1000000,1000000,1000000,1000000,1000000,1000000,1000000,1000000,1000000,1000000,1000000,1000000,1000000,1000000,1000000,1000000,1000000,1000000,1000000,1000000,1000000,1000000,1000000,1000000,1000000,1000000,1000000,1000000,1000000,1000000,1000000,1000000,1000000,1000000,1000000,1000000,1000000,1000000,1000000,1000000,1000000,1000000,1000000,1000000,1000000,1000000,1000000,1000000,1000000,1000000,1000000,1000000,1000000,1000000,1000000,1000000,1000000,1000000,1000000,1000000,1000000,1000000,1000000,1000000,1000000,1000000,1000000,1000000,1000000,1000000,1000000,1000000,1000000,1000000,1000000,1000000,1000000,1000000,1000000,1000000,1000000,1000000,1000000,1000000,1000000,1000000,1000000,1000000,1000000,1000000,1000000,1000000,1000000,1000000,1000000,1000000,1000000,1000000,1000000,1000000,1000000,1000000,1000000,1000000,1000000,1000000,1000000,1000000,1000000,1000000,1000000,1000000,1000000,1000000,1000000,1000000,1000000,1000000,1000000,1000000,1000000,1000000,1000000,1000000,1000000,1000000,1000000,1000000,1000000,1000000,1000000,1000000,1000000,1000000,1000000,1000000,1000000,1000000,1000000,1000000,1000000,1000000,1000000,1000000,1000000,1000000,1000000,1000000,1000000,1000000,1000000,1000000,1000000,1000000,1000000,1000000,1000000,1000000,1000000,1000000,1000000,1000000,1000000,1000000,1000000,1000000,1000000,1000000,1000000,1000000,1000000,1000000,1000000,1000000,1000000,1000000,1000000,1000000,1000000,1000000,1000000,1000000,1000000,1000000,1000000,1000000,1000000,1000000,1000000,1000000,1000000,1000000,1000000,1000000,1000000,1000000,1000000,1000000,1000000,1000000,1000000,1000000,1000000,1000000,1000000,1000000,1000000,1000000,1000000,1000000,1000000,1000000,1000000,1000000,1000000,1000000,1000000,1000000,1000000,1000000,1000000,1000000,1000000,1000000,1000000,1000000,1000000,1000000,1000000,1000000,1000000,1000000,1000000,1000000,1000000,1000000,1000000,1000000,1000000,1000000,1000000,1000000,1000000,1000000,1000000,1000000,1000000,1000000,1000000,1000000,1000000,1000000,1000000,1000000,1000000,1000000,1000000,1000000,1000000,1000000,1000000,1000000,1000000,1000000,1000000,1000000,1000000,1000000,1000000,1000000,1000000,1000000,1000000,1000000,1000000,1000000,1000000,1000000,1000000,1000000,1000000,1000000,1000000,1000000,1000000,1000000,1000000,1000000,1000000,1000000,1000000,1000000,1000000,1000000,1000000,1000000,1000000,1000000,1000000,1000000,1000000,1000000,1000000,1000000,1000000,1000000,1000000,1000000,1000000,1000000,1000000,1000000,1000000,1000000,1000000,1000000,1000000,1000000,1000000,1000000,1000000,1000000,1000000,1000000,1000000,1000000,1000000,1000000,1000000,1000000,1000000,1000000,1000000,1000000,1000000,1000000,1000000,1000000,1000000,1000000,1000000,1000000,1000000,1000000,1000000,1000000,1000000,1000000,1000000,1000000,1000000,1000000,1000000,1000000,1000000,1000000,1000000,1000000,1000000,1000000,1000000,1000000,1000000,1000000,1000000,1000000,1000000,1000000,1000000,1000000,1000000,1000000,1000000,1000000,1000000,1000000,1000000,1000000,1000000,1000000,1000000,1000000,1000000,1000000,1000000,1000000,1000000,1000000,1000000,1000000,1000000,1000000,1000000,1000000,1000000,1000000,1000000,1000000,1000000,1000000,1000000,1000000,1000000,1000000,1000000,1000000,1000000,1000000,1000000,1000000,1000000,1000000,1000000,1000000,1000000,1000000,1000000,1000000,1000000,1000000,1000000,1000000,1000000,1000000,1000000,1000000,1000000,1000000,1000000,1000000,1000000,1000000,1000000,1000000,1000000,1000000,1000000,1000000,1000000,1000000,1000000,1000000,1000000,1000000,1000000,1000000,1000000,1000000,1000000,1000000,1000000,1000000,1000000,1000000,1000000,1000000,1000000,1000000,1000000,1000000,1000000,1000000,1000000,1000000,1000000,1000000,1000000,1000000,1000000,1000000,1000000,1000000,1000000,1000000,1000000,1000000,1000000,1000000,1000000,1000000,1000000,1000000,1000000,1000000,1000000,1000000,1000000,1000000,1000000,1000000,1000000,1000000,1000000,1000000,1000000,1000000,1000000,1000000,1000000,1000000,1000000,1000000,1000000,1000000,1000000,1000000,1000000,1000000,1000000,1000000,1000000,1000000,1000000,1000000,1000000,1000000,1000000,1000000,1000000,1000000,1000000,1000000,1000000,1000000,1000000,1000000,1000000,1000000,1000000,1000000,1000000,1000000,1000000,1000000,1000000,1000000,1000000,1000000,1000000,1000000,1000000,1000000,1000000,1000000,1000000,1000000,1000000,1000000,1000000,1000000,1000000,1000000,1000000,1000000,1000000,1000000,1000000,1000000,1000000,1000000,1000000,1000000,1000000,1000000,1000000,1000000,1000000,1000000,1000000,1000000,1000000,1000000,1000000,1000000,1000000,1000000,1000000,1000000,1000000,1000000,1000000,1000000,1000000,1000000,1000000,1000000,1000000,1000000,1000000,1000000,1000000,1000000,1000000,1000000,1000000,1000000,1000000,1000000,1000000,1000000,1000000,1000000,1000000,1000000,1000000,1000000,1000000,1000000,1000000,1000000,1000000,1000000,1000000,1000000,1000000,1000000,1000000,1000000,1000000,1000000,1000000,1000000,1000000,1000000,1000000,1000000,1000000,1000000,1000000,1000000,1000000,1000000,1000000,1000000,1000000,1000000,1000000,1000000,1000000,1000000,1000000,1000000,1000000,1000000,1000000,1000000,1000000,1000000,1000000,1000000,1000000,1000000,1000000,1000000,1000000,1000000,1000000,1000000,1000000,1000000,1000000,1000000,1000000,1000000,1000000,1000000,1000000,1000000,1000000,1000000,1000000,1000000,1000000,1000000,1000000,1000000,1000000,1000000,1000000,1000000,1000000,1000000,1000000,1000000,1000000,1000000,1000000,1000000,1000000,1000000,1000000,1000000,1000000,1000000,1000000,1000000,1000000,1000000,1000000,1000000,1000000,1000000,1000000,1000000,1000000,1000000,1000000,1000000,1000000,1000000,1000000,1000000,1000000,1000000,1000000,1000000,1000000,1000000,1000000,1000000,1000000,1000000,1000000,1000000,1000000,1000000,1000000,1000000,1000000,1000000,1000000,1000000,1000000,1000000,1000000,1000000,1000000,1000000,1000000,1000000,1000000,1000000,1000000,1000000,1000000,1000000,1000000,1000000,1000000,1000000,1000000,1000000,1000000,1000000,1000000,1000000,1000000,1000000,1000000,1000000,1000000,1000000,1000000,1000000,1000000,1000000,1000000,1000000,1000000,1000000,1000000,1000000,1000000,1000000,1000000,1000000,1000000,1000000,1000000,1000000,1000000,1000000,1000000,1000000,1000000,1000000,1000000,1000000,1000000,1000000,1000000,1000000,1000000,1000000,1000000,1000000,1000000,1000000,1000000,1000000,1000000,1000000,1000000,1000000,1000000,1000000,1000000,1000000,1000000,1000000,1000000,1000000,1000000,1000000,1000000,1000000,1000000,1000000,1000000,1000000,1000000,1000000,1000000,1000000,1000000,1000000,1000000,1000000,1000000,1000000,1000000,1000000,1000000,1000000,1000000,1000000,1000000,1000000,1000000,1000000,1000000,1000000,1000000,1000000,1000000,1000000,1000000,1000000,1000000,1000000,1000000,1000000,1000000,1000000,1000000,1000000,1000000,1000000,1000000,1000000,1000000,1000000,1000000,1000000,1000000,1000000,1000000,1000000,1000000,1000000,1000000,1000000,1000000,1000000,1000000,1000000,1000000,1000000,1000000,1000000,1000000,1000000,1000000,1000000,1000000,1000000,1000000,1000000,1000000,1000000,1000000,1000000,1000000,1000000,1000000,1000000,1000000,1000000,1000000,1000000,1000000,1000000,1000000,1000000,1000000,1000000,1000000,1000000,1000000,1000000,1000000,1000000,1000000,1000000,1000000,1000000,1000000,1000000,1000000,1000000,1000000,1000000,1000000,1000000,1000000,1000000,1000000,1000000,1000000,1000000,1000000,1000000,1000000,1000000,1000000,1000000,1000000,1000000,1000000,1000000,1000000,1000000,1000000,1000000,1000000,1000000,1000000,1000000,1000000,1000000,1000000,1000000,1000000,1000000,1000000,1000000,1000000,1000000,1000000,1000000,1000000,1000000,1000000,1000000,1000000,1000000,1000000,1000000,1000000,1000000,1000000,1000000,1000000,1000000,1000000,1000000,1000000,1000000,1000000,1000000,1000000,1000000,1000000,1000000,1000000,1000000,1000000,1000000,1000000,1000000,1000000,1000000,1000000,1000000,1000000,1000000,1000000,1000000,1000000,1000000,1000000,1000000,1000000,1000000,1000000,1000000,1000000,1000000,1000000,1000000,1000000,1000000,1000000,1000000,1000000,1000000,1000000,1000000,1000000,1000000,1000000,1000000,1000000,1000000,1000000,1000000,1000000,1000000,1000000,1000000,1000000,1000000,1000000,1000000,1000000,1000000,1000000,1000000,1000000,1000000,1000000,1000000,1000000,1000000,1000000,1000000,1000000,1000000,1000000,1000000,1000000,1000000,1000000,1000000,1000000,1000000,1000000,1000000,1000000,1000000,1000000,1000000,1000000,1000000,1000000,1000000,1000000,1000000,1000000,1000000,1000000,1000000,1000000,1000000,1000000,1000000,1000000,1000000,1000000,1000000,1000000,1000000,1000000,1000000,1000000,1000000,1000000,1000000,1000000,1000000,1000000,1000000,1000000,1000000,1000000,1000000,1000000,1000000,1000000,1000000,1000000,1000000,1000000,1000000,1000000,1000000,1000000,1000000,1000000,1000000,1000000,1000000,1000000,1000000,1000000,1000000,1000000,1000000,1000000,1000000,1000000,1000000,1000000,1000000,1000000,1000000,1000000,1000000,1000000,1000000,1000000,1000000,1000000,1000000,1000000,1000000,1000000,1000000,1000000,1000000,1000000,1000000,1000000,1000000,1000000,1000000,1000000,1000000,1000000,1000000,1000000,1000000,1000000,1000000,1000000,1000000,1000000,1000000,1000000,1000000,1000000,1000000,1000000,1000000,1000000,1000000,1000000,1000000,1000000,1000000,1000000,1000000,1000000,1000000,1000000,1000000,1000000,1000000,1000000,1000000,1000000,1000000,1000000,1000000,1000000,1000000,1000000,1000000,1000000,1000000,1000000,1000000,1000000,1000000,1000000,1000000,1000000,1000000,1000000,1000000,1000000,1000000,1000000,1000000,5000000,5000000,5000000,5000000,5000000,5000000,5000000,5000000,5000000,5000000,5000000,5000000,5000000,5000000,5000000,5000000,5000000,5000000,5000000,5000000,5000000,5000000,5000000,5000000,5000000,5000000,5000000,5000000,5000000,5000000,5000000,5000000,5000000,5000000,5000000,5000000,5000000,5000000,5000000,5000000,5000000,5000000,5000000,5000000,5000000,5000000,5000000,5000000,5000000,5000000,5000000,5000000,5000000,5000000,5000000,5000000,5000000,5000000,5000000,5000000,5000000,5000000,5000000,5000000,5000000,5000000,5000000,5000000,5000000,5000000,5000000,5000000,5000000,5000000,5000000,5000000,5000000,5000000,5000000,5000000,5000000,5000000,5000000,5000000,5000000,5000000,5000000,5000000,5000000,5000000,5000000,5000000,5000000,5000000,5000000,5000000,5000000,5000000,5000000,5000000,5000000,5000000,5000000,5000000,5000000,5000000,5000000,5000000,5000000,5000000,5000000,5000000,5000000,5000000,5000000,5000000,5000000,5000000,5000000,5000000,5000000,5000000,5000000,5000000,5000000,5000000,5000000,5000000,5000000,5000000,5000000,5000000,5000000,5000000,5000000,5000000,5000000,5000000,5000000,5000000,5000000,5000000,5000000,5000000,5000000,5000000,5000000,5000000,5000000,5000000,5000000,5000000,5000000,5000000,5000000,5000000,5000000,5000000,5000000,5000000,5000000,5000000,5000000,5000000,5000000,5000000,5000000,5000000,5000000,5000000,5000000,5000000,5000000,5000000,5000000,5000000,5000000,5000000,5000000,5000000,5000000,5000000,5000000,5000000,5000000,5000000,5000000,5000000,5000000,5000000,5000000,5000000,5000000,5000000,5000000,5000000,5000000,5000000,5000000,5000000,5000000,5000000,5000000,5000000,5000000,5000000,5000000,5000000,5000000,5000000,5000000,5000000,5000000,5000000,5000000,5000000,5000000,5000000,5000000,5000000,5000000,5000000,5000000,5000000,5000000,5000000,5000000,5000000,5000000,5000000,5000000,5000000,5000000,5000000,5000000,5000000,5000000,5000000,5000000,5000000,5000000,5000000,5000000,5000000,5000000,5000000,5000000,5000000,5000000,5000000,5000000,5000000,5000000,5000000,5000000,5000000,5000000,5000000,5000000,5000000,5000000,5000000,5000000,5000000,5000000,5000000,5000000,5000000,5000000,5000000,5000000,5000000,5000000,5000000,5000000,5000000,5000000,5000000,5000000,5000000,5000000,5000000,5000000,5000000,5000000,5000000,5000000,5000000,5000000,5000000,5000000,5000000,5000000,5000000,5000000,5000000,5000000,5000000,5000000,5000000,5000000,5000000,5000000,5000000,5000000,5000000,5000000,5000000,5000000,5000000,5000000,5000000,5000000,5000000,5000000,5000000,5000000,5000000,5000000,5000000,5000000,5000000,5000000,5000000,5000000,5000000,5000000,5000000,5000000,5000000,5000000,5000000,5000000,5000000,5000000,5000000,5000000,5000000,5000000,5000000,5000000,5000000,5000000,5000000,5000000,5000000,5000000,5000000,5000000,5000000,5000000,5000000,5000000,5000000,5000000,5000000,5000000,5000000,5000000,5000000,5000000,5000000,5000000,5000000,5000000,5000000,5000000,5000000,5000000,5000000,5000000,5000000,5000000,5000000,5000000,5000000,5000000,5000000,5000000,5000000,5000000,5000000,5000000,5000000,5000000,5000000,5000000,5000000,5000000,5000000,5000000,5000000,5000000,5000000,5000000,5000000,5000000,5000000,5000000,5000000,5000000,5000000,5000000,5000000,5000000,5000000,5000000,5000000,5000000,5000000,5000000,5000000,5000000,5000000,5000000,5000000,5000000,5000000,5000000,5000000,5000000,5000000,5000000,5000000,5000000,5000000,5000000,5000000,5000000,5000000,5000000,5000000,5000000,5000000,5000000,5000000,5000000,5000000,5000000,5000000,5000000,5000000,5000000,5000000,5000000,5000000,5000000,5000000,5000000,5000000,5000000,5000000,5000000,5000000,5000000,5000000,5000000,5000000,5000000,5000000,5000000,5000000,5000000,5000000,5000000,5000000,5000000,5000000,5000000,5000000,5000000,5000000,5000000,5000000,5000000,5000000,5000000,5000000,5000000,5000000,5000000,5000000,5000000,5000000,5000000,5000000,5000000,5000000,5000000,5000000,5000000,5000000,5000000,5000000,5000000,5000000,5000000,5000000,5000000,5000000,5000000,5000000,5000000,5000000,5000000,5000000,5000000,5000000,5000000,5000000,5000000,5000000,5000000,5000000,5000000,5000000,5000000,5000000,5000000,5000000,5000000,5000000,5000000,5000000,5000000,5000000,5000000,5000000,5000000,5000000,5000000,5000000,5000000,5000000,5000000,5000000,5000000,5000000,5000000,5000000,5000000,5000000,5000000,5000000,5000000,5000000,5000000,5000000,5000000,5000000,5000000,5000000,5000000,5000000,5000000,5000000,5000000,5000000,5000000,5000000,5000000,5000000,5000000,5000000,5000000,5000000,5000000,5000000,5000000,5000000,5000000,5000000,5000000,5000000,5000000,5000000,5000000,5000000,5000000,5000000,5000000,5000000,5000000,5000000,5000000,5000000,5000000,5000000,5000000,5000000,5000000,5000000,5000000,5000000,5000000,5000000,5000000,5000000,5000000,5000000,5000000,5000000,5000000,5000000,5000000,5000000,5000000,10000000,10000000,10000000,10000000,10000000,10000000,10000000,10000000,10000000,10000000,10000000,10000000,10000000,10000000,10000000,10000000,10000000,10000000,10000000,10000000,10000000,10000000,10000000,10000000,10000000,10000000,10000000,10000000,10000000,10000000,10000000,10000000,10000000,10000000,10000000,10000000,10000000,10000000,10000000,10000000,10000000,10000000,10000000,10000000,10000000,10000000,10000000,10000000,10000000,10000000,10000000,10000000,10000000,10000000,10000000,10000000,10000000,10000000,10000000,10000000,10000000,10000000,10000000,10000000,10000000,10000000,10000000,10000000,10000000,10000000,10000000,10000000,10000000,10000000,10000000,10000000,10000000,10000000,10000000,10000000,10000000,10000000,10000000,10000000,10000000,10000000,10000000,10000000,10000000,10000000,10000000,10000000,10000000,10000000,10000000,10000000,10000000,10000000,10000000,10000000,10000000,10000000,10000000,10000000,10000000,10000000,10000000,10000000,10000000,10000000,10000000,10000000,10000000,10000000,10000000,10000000,10000000,10000000,10000000,10000000,10000000,10000000,10000000,10000000,10000000,10000000,10000000,10000000,10000000,10000000,10000000,10000000,10000000,10000000,10000000,10000000,10000000,10000000,10000000,10000000,10000000,10000000,10000000,10000000,10000000,10000000,10000000,10000000,10000000,10000000,10000000,10000000,10000000,10000000,10000000,10000000,10000000,10000000,10000000,10000000,10000000,10000000,10000000,10000000,10000000,10000000,10000000,10000000,10000000,10000000,10000000,10000000,10000000,10000000,10000000,10000000,10000000,10000000,10000000,10000000,10000000,10000000,10000000,10000000,10000000,10000000,10000000,10000000,10000000,10000000,10000000,10000000,10000000,10000000,10000000,10000000,10000000,10000000,10000000,10000000,10000000,10000000,10000000,10000000,10000000,10000000,10000000,10000000,10000000,10000000,10000000,10000000,10000000,10000000,10000000,10000000,10000000,10000000,10000000,10000000,10000000,10000000,10000000,10000000,10000000,10000000,10000000,10000000,10000000,10000000,10000000,10000000,10000000,10000000,10000000,10000000,10000000,10000000,10000000,10000000,10000000,10000000,10000000,10000000,10000000,10000000,10000000,10000000,10000000,10000000,10000000,10000000,10000000,10000000,10000000,10000000,10000000,10000000,10000000,10000000,10000000,10000000,10000000,10000000,10000000,10000000,10000000,10000000,10000000,10000000,10000000,10000000,10000000,10000000,10000000,10000000,10000000,10000000,10000000,10000000,10000000,10000000,10000000,10000000,10000000,10000000,10000000,10000000,10000000,10000000,10000000,10000000,10000000,10000000,10000000,10000000,10000000,10000000,10000000,10000000,10000000,10000000,10000000,10000000,10000000,10000000,10000000,10000000,10000000,10000000,10000000,10000000,10000000,10000000,10000000,10000000,10000000,10000000,10000000,10000000,10000000,10000000,10000000,10000000,10000000,10000000,10000000,10000000,10000000,10000000,10000000,10000000,10000000,10000000,10000000,10000000,10000000,10000000,10000000,10000000,10000000,10000000,10000000,10000000,10000000,10000000,10000000,10000000,10000000,10000000,10000000,10000000,10000000,10000000,10000000,10000000,10000000,10000000,10000000,10000000,10000000,10000000,10000000,10000000,10000000,10000000,10000000,10000000,10000000,10000000,10000000,10000000,10000000,10000000,10000000,10000000,10000000,10000000,10000000,10000000,10000000,10000000,10000000,10000000,10000000,10000000,10000000,10000000,10000000,10000000,10000000,10000000,10000000,10000000,10000000,10000000,10000000,10000000,10000000,10000000,10000000,10000000,10000000,10000000,10000000,10000000,10000000,10000000,10000000,10000000,10000000,10000000,10000000,10000000,10000000,10000000,10000000,10000000,10000000,10000000,10000000,10000000,10000000,10000000,10000000,10000000,10000000,10000000,10000000,10000000,10000000,10000000,10000000,10000000,10000000,10000000,10000000,10000000,10000000,10000000,10000000,10000000,10000000,10000000,10000000,10000000,10000000,10000000,10000000,10000000,10000000,10000000,10000000,10000000,10000000,10000000,10000000,10000000,10000000,10000000,10000000,10000000,10000000,10000000,10000000,10000000,10000000,10000000,10000000,10000000,10000000,10000000,10000000,10000000,10000000,10000000,10000000,10000000,10000000,10000000,10000000,10000000,10000000,10000000,10000000,10000000,10000000,10000000,10000000,10000000,10000000,10000000,10000000,10000000,10000000,10000000,10000000,10000000,10000000,10000000,10000000,10000000,10000000,10000000,10000000,10000000,10000000,10000000,10000000,10000000,10000000,10000000,10000000,10000000,10000000,10000000,10000000,10000000,10000000,10000000,10000000,10000000,10000000,10000000,10000000,10000000,10000000,10000000,10000000,10000000,10000000,10000000,10000000,10000000,10000000,10000000,10000000,10000000,10000000,10000000,10000000,10000000,10000000,10000000,10000000,10000000,10000000,10000000,10000000,10000000,10000000,10000000,10000000,10000000,10000000,10000000,10000000,10000000,10000000,10000000,10000000,10000000,10000000,10000000,10000000,10000000,10000000,10000000,10000000,10000000,10000000,10000000,10000000,10000000,10000000,10000000,10000000,10000000,10000000,10000000,10000000,10000000,10000000,10000000,10000000,10000000,10000000,10000000,10000000,10000000,10000000,10000000,10000000,10000000,10000000,10000000,10000000,10000000,10000000,10000000,10000000,10000000,10000000,10000000,10000000,10000000,10000000,10000000,10000000,10000000,10000000,10000000,10000000,10000000,10000000,10000000,10000000,10000000,10000000,10000000,10000000,10000000,10000000,10000000,10000000,10000000,10000000,10000000,10000000,10000000,10000000,10000000,10000000,10000000,10000000,10000000,10000000,10000000,10000000,10000000,10000000,10000000,10000000,10000000,10000000,10000000,10000000,10000000,10000000,10000000,10000000,10000000,10000000,10000000,10000000,10000000,10000000,10000000,10000000,10000000,10000000,10000000,10000000,10000000,10000000,10000000,10000000,10000000,10000000,10000000,10000000,10000000,10000000,10000000,10000000,10000000,10000000,10000000,10000000,10000000,10000000,10000000,10000000,10000000,10000000,10000000,10000000,10000000,10000000,10000000,10000000,10000000,10000000,10000000,10000000,10000000,10000000,10000000,10000000,10000000,10000000,10000000,10000000,10000000,10000000,10000000,10000000,10000000,10000000,10000000,10000000,10000000,10000000,10000000,10000000,10000000,10000000,10000000,10000000,10000000,10000000,10000000,10000000,10000000,10000000,10000000,10000000,10000000,10000000,10000000,10000000,10000000,10000000,10000000,10000000,10000000,10000000,10000000,10000000,10000000,10000000,10000000,10000000,10000000,10000000,10000000,10000000,10000000,10000000,10000000,10000000,10000000,10000000,10000000,10000000,10000000,10000000,10000000,10000000,10000000,10000000,10000000,10000000,10000000,10000000,10000000,10000000,10000000,10000000,10000000,10000000,10000000,10000000,10000000,10000000,10000000,10000000,10000000,10000000,10000000,10000000,10000000,10000000,10000000,10000000,10000000,10000000,10000000,10000000,10000000,10000000,10000000,10000000,10000000,10000000,10000000,10000000,10000000,10000000,10000000,10000000,10000000,10000000,10000000,10000000,10000000,10000000,10000000,10000000,10000000,10000000,10000000,10000000,10000000,10000000,10000000,10000000,10000000,10000000,10000000,10000000,10000000,10000000,10000000,10000000,10000000,10000000,10000000,10000000,10000000,10000000,10000000,10000000,10000000,10000000,10000000,10000000,10000000,10000000,10000000,10000000,10000000,10000000,10000000,10000000,10000000,10000000,10000000,10000000,10000000,10000000,10000000,10000000,10000000,10000000,10000000,10000000,10000000,10000000,10000000,10000000,10000000,10000000,10000000,10000000,10000000,10000000,10000000,10000000,10000000,10000000,10000000,10000000,10000000,10000000,10000000,10000000,10000000,10000000,10000000,10000000,10000000,10000000,10000000,10000000,10000000,10000000,10000000,10000000,10000000,10000000,10000000,10000000,10000000,10000000,10000000,10000000,10000000,10000000,10000000,10000000,10000000,10000000,10000000,10000000,10000000,10000000,10000000,10000000,10000000,10000000,10000000,10000000,10000000,10000000,10000000,10000000,10000000,10000000,10000000,10000000,10000000,10000000,10000000,10000000,10000000,10000000,10000000,10000000,10000000,10000000,50000000,50000000,50000000,50000000,50000000,50000000,50000000,50000000,50000000,50000000,50000000,50000000,50000000,50000000,50000000,50000000,50000000,50000000,50000000,50000000,50000000,50000000,50000000,50000000,50000000,50000000,50000000,50000000,50000000,50000000,50000000,50000000,50000000,50000000,50000000,50000000,50000000,50000000,50000000,50000000,50000000,50000000,50000000,50000000,50000000,50000000,50000000,50000000,50000000,50000000,50000000,50000000,50000000,50000000,50000000,50000000,50000000,50000000,50000000,50000000,50000000,50000000,50000000,50000000,50000000,50000000,50000000,50000000,50000000,50000000,50000000,50000000,50000000,50000000,50000000,50000000,50000000,50000000,50000000,50000000,50000000,50000000,50000000,50000000,50000000,50000000,50000000,50000000,50000000,50000000,50000000,50000000,50000000,50000000,50000000,50000000,50000000,50000000,50000000,50000000,50000000,50000000,50000000,50000000,50000000,50000000,50000000,50000000,50000000,50000000,50000000,50000000,50000000,50000000,50000000,50000000,50000000,50000000,50000000,50000000,50000000,50000000,50000000,50000000,50000000,50000000,50000000,50000000,50000000,50000000,50000000,50000000,50000000,50000000,50000000,50000000,50000000,50000000,50000000,50000000,50000000,50000000,50000000,50000000,50000000,50000000,50000000,50000000,50000000,50000000,50000000,50000000,50000000,50000000,50000000,50000000,50000000,50000000,50000000,50000000,50000000,50000000,50000000,50000000,50000000,50000000,50000000,50000000,50000000,50000000,50000000,50000000,50000000,50000000,50000000,50000000,50000000,50000000,50000000,50000000,50000000,50000000,50000000,50000000,50000000,50000000,50000000,50000000,50000000,50000000,50000000,50000000,50000000,50000000,50000000,50000000,50000000,50000000,50000000,50000000,50000000,50000000,100000000,100000000,100000000,100000000,100000000,100000000,100000000,100000000,100000000,100000000,100000000,100000000,100000000,100000000,100000000,100000000,100000000,100000000,100000000,100000000,100000000,100000000,100000000,100000000,100000000,100000000,100000000,100000000,100000000,100000000,100000000,100000000,100000000,100000000,100000000,100000000,100000000,100000000,100000000,100000000,100000000,100000000,100000000,100000000,100000000,100000000,100000000,100000000,100000000,100000000,100000000,100000000,100000000,100000000,100000000,100000000,100000000,100000000,100000000,100000000,100000000,100000000,100000000,100000000,100000000,100000000,100000000,100000000,100000000,100000000,100000000,100000000,100000000,100000000,100000000,100000000,100000000,100000000,100000000,100000000,100000000,100000000,100000000,100000000,100000000,100000000,100000000,100000000,100000000,100000000,100000000,100000000,100000000,100000000,100000000,100000000,100000000,100000000,100000000,100000000,100000000,100000000,100000000,100000000,100000000,100000000,100000000,100000000,100000000,100000000,100000000,100000000,100000000,100000000,100000000,100000000,100000000,100000000,100000000,100000000,100000000,100000000,100000000,100000000,100000000,100000000,100000000,100000000,100000000,100000000,100000000,100000000,100000000,100000000,100000000,100000000,100000000,100000000,100000000,100000000,100000000,100000000,100000000,100000000,100000000,100000000,100000000,100000000,100000000,100000000,100000000,100000000,100000000,100000000,100000000,100000000,100000000,100000000,100000000,100000000,100000000,100000000,100000000,100000000,100000000,100000000,100000000,100000000,100000000,100000000,100000000,100000000,100000000,100000000,100000000,100000000,100000000,100000000,100000000,100000000,100000000,100000000,100000000,100000000,100000000,100000000,100000000,100000000,100000000,500000000,500000000,500000000,500000000,500000000,500000000,500000000,500000000,500000000,500000000,500000000,500000000,500000000,500000000,500000000,500000000,500000000,500000000,500000000,500000000,500000000,500000000,500000000,500000000,1000000000,1000000000,1000000000,1000000000,1000000000,1000000000,1000000000,1000000000,1000000000,1000000000,1000000000,1000000000,1000000000,1000000000,1000000000,1000000000,1000000000,1000000000,1000000000,1000000000],\"y0\":\" \",\"yaxis\":\"y\"},{\"alignmentgroup\":\"True\",\"boxpoints\":\"all\",\"hovertemplate\":\"Type=%{x}<br>Installs=%{y}<extra></extra>\",\"legendgroup\":\"Paid\",\"marker\":{\"color\":\"#EF553B\"},\"name\":\"Paid\",\"notched\":true,\"offsetgroup\":\"Paid\",\"orientation\":\"v\",\"showlegend\":true,\"type\":\"box\",\"x\":[\"Paid\",\"Paid\",\"Paid\",\"Paid\",\"Paid\",\"Paid\",\"Paid\",\"Paid\",\"Paid\",\"Paid\",\"Paid\",\"Paid\",\"Paid\",\"Paid\",\"Paid\",\"Paid\",\"Paid\",\"Paid\",\"Paid\",\"Paid\",\"Paid\",\"Paid\",\"Paid\",\"Paid\",\"Paid\",\"Paid\",\"Paid\",\"Paid\",\"Paid\",\"Paid\",\"Paid\",\"Paid\",\"Paid\",\"Paid\",\"Paid\",\"Paid\",\"Paid\",\"Paid\",\"Paid\",\"Paid\",\"Paid\",\"Paid\",\"Paid\",\"Paid\",\"Paid\",\"Paid\",\"Paid\",\"Paid\",\"Paid\",\"Paid\",\"Paid\",\"Paid\",\"Paid\",\"Paid\",\"Paid\",\"Paid\",\"Paid\",\"Paid\",\"Paid\",\"Paid\",\"Paid\",\"Paid\",\"Paid\",\"Paid\",\"Paid\",\"Paid\",\"Paid\",\"Paid\",\"Paid\",\"Paid\",\"Paid\",\"Paid\",\"Paid\",\"Paid\",\"Paid\",\"Paid\",\"Paid\",\"Paid\",\"Paid\",\"Paid\",\"Paid\",\"Paid\",\"Paid\",\"Paid\",\"Paid\",\"Paid\",\"Paid\",\"Paid\",\"Paid\",\"Paid\",\"Paid\",\"Paid\",\"Paid\",\"Paid\",\"Paid\",\"Paid\",\"Paid\",\"Paid\",\"Paid\",\"Paid\",\"Paid\",\"Paid\",\"Paid\",\"Paid\",\"Paid\",\"Paid\",\"Paid\",\"Paid\",\"Paid\",\"Paid\",\"Paid\",\"Paid\",\"Paid\",\"Paid\",\"Paid\",\"Paid\",\"Paid\",\"Paid\",\"Paid\",\"Paid\",\"Paid\",\"Paid\",\"Paid\",\"Paid\",\"Paid\",\"Paid\",\"Paid\",\"Paid\",\"Paid\",\"Paid\",\"Paid\",\"Paid\",\"Paid\",\"Paid\",\"Paid\",\"Paid\",\"Paid\",\"Paid\",\"Paid\",\"Paid\",\"Paid\",\"Paid\",\"Paid\",\"Paid\",\"Paid\",\"Paid\",\"Paid\",\"Paid\",\"Paid\",\"Paid\",\"Paid\",\"Paid\",\"Paid\",\"Paid\",\"Paid\",\"Paid\",\"Paid\",\"Paid\",\"Paid\",\"Paid\",\"Paid\",\"Paid\",\"Paid\",\"Paid\",\"Paid\",\"Paid\",\"Paid\",\"Paid\",\"Paid\",\"Paid\",\"Paid\",\"Paid\",\"Paid\",\"Paid\",\"Paid\",\"Paid\",\"Paid\",\"Paid\",\"Paid\",\"Paid\",\"Paid\",\"Paid\",\"Paid\",\"Paid\",\"Paid\",\"Paid\",\"Paid\",\"Paid\",\"Paid\",\"Paid\",\"Paid\",\"Paid\",\"Paid\",\"Paid\",\"Paid\",\"Paid\",\"Paid\",\"Paid\",\"Paid\",\"Paid\",\"Paid\",\"Paid\",\"Paid\",\"Paid\",\"Paid\",\"Paid\",\"Paid\",\"Paid\",\"Paid\",\"Paid\",\"Paid\",\"Paid\",\"Paid\",\"Paid\",\"Paid\",\"Paid\",\"Paid\",\"Paid\",\"Paid\",\"Paid\",\"Paid\",\"Paid\",\"Paid\",\"Paid\",\"Paid\",\"Paid\",\"Paid\",\"Paid\",\"Paid\",\"Paid\",\"Paid\",\"Paid\",\"Paid\",\"Paid\",\"Paid\",\"Paid\",\"Paid\",\"Paid\",\"Paid\",\"Paid\",\"Paid\",\"Paid\",\"Paid\",\"Paid\",\"Paid\",\"Paid\",\"Paid\",\"Paid\",\"Paid\",\"Paid\",\"Paid\",\"Paid\",\"Paid\",\"Paid\",\"Paid\",\"Paid\",\"Paid\",\"Paid\",\"Paid\",\"Paid\",\"Paid\",\"Paid\",\"Paid\",\"Paid\",\"Paid\",\"Paid\",\"Paid\",\"Paid\",\"Paid\",\"Paid\",\"Paid\",\"Paid\",\"Paid\",\"Paid\",\"Paid\",\"Paid\",\"Paid\",\"Paid\",\"Paid\",\"Paid\",\"Paid\",\"Paid\",\"Paid\",\"Paid\",\"Paid\",\"Paid\",\"Paid\",\"Paid\",\"Paid\",\"Paid\",\"Paid\",\"Paid\",\"Paid\",\"Paid\",\"Paid\",\"Paid\",\"Paid\",\"Paid\",\"Paid\",\"Paid\",\"Paid\",\"Paid\",\"Paid\",\"Paid\",\"Paid\",\"Paid\",\"Paid\",\"Paid\",\"Paid\",\"Paid\",\"Paid\",\"Paid\",\"Paid\",\"Paid\",\"Paid\",\"Paid\",\"Paid\",\"Paid\",\"Paid\",\"Paid\",\"Paid\",\"Paid\",\"Paid\",\"Paid\",\"Paid\",\"Paid\",\"Paid\",\"Paid\",\"Paid\",\"Paid\",\"Paid\",\"Paid\",\"Paid\",\"Paid\",\"Paid\",\"Paid\",\"Paid\",\"Paid\",\"Paid\",\"Paid\",\"Paid\",\"Paid\",\"Paid\",\"Paid\",\"Paid\",\"Paid\",\"Paid\",\"Paid\",\"Paid\",\"Paid\",\"Paid\",\"Paid\",\"Paid\",\"Paid\",\"Paid\",\"Paid\",\"Paid\",\"Paid\",\"Paid\",\"Paid\",\"Paid\",\"Paid\",\"Paid\",\"Paid\",\"Paid\",\"Paid\",\"Paid\",\"Paid\",\"Paid\",\"Paid\",\"Paid\",\"Paid\",\"Paid\",\"Paid\",\"Paid\",\"Paid\",\"Paid\",\"Paid\",\"Paid\",\"Paid\",\"Paid\",\"Paid\",\"Paid\",\"Paid\",\"Paid\",\"Paid\",\"Paid\",\"Paid\",\"Paid\",\"Paid\",\"Paid\",\"Paid\",\"Paid\",\"Paid\",\"Paid\",\"Paid\",\"Paid\",\"Paid\",\"Paid\",\"Paid\",\"Paid\",\"Paid\",\"Paid\",\"Paid\",\"Paid\",\"Paid\",\"Paid\",\"Paid\",\"Paid\",\"Paid\",\"Paid\",\"Paid\",\"Paid\",\"Paid\",\"Paid\",\"Paid\",\"Paid\",\"Paid\",\"Paid\",\"Paid\",\"Paid\",\"Paid\",\"Paid\",\"Paid\",\"Paid\",\"Paid\",\"Paid\",\"Paid\",\"Paid\",\"Paid\",\"Paid\",\"Paid\",\"Paid\",\"Paid\",\"Paid\",\"Paid\",\"Paid\",\"Paid\",\"Paid\",\"Paid\",\"Paid\",\"Paid\",\"Paid\",\"Paid\",\"Paid\",\"Paid\",\"Paid\",\"Paid\",\"Paid\",\"Paid\",\"Paid\",\"Paid\",\"Paid\",\"Paid\",\"Paid\",\"Paid\",\"Paid\",\"Paid\",\"Paid\",\"Paid\",\"Paid\",\"Paid\",\"Paid\",\"Paid\",\"Paid\",\"Paid\",\"Paid\",\"Paid\",\"Paid\",\"Paid\",\"Paid\",\"Paid\",\"Paid\",\"Paid\",\"Paid\",\"Paid\",\"Paid\",\"Paid\",\"Paid\",\"Paid\",\"Paid\",\"Paid\",\"Paid\",\"Paid\",\"Paid\",\"Paid\",\"Paid\",\"Paid\",\"Paid\",\"Paid\",\"Paid\",\"Paid\",\"Paid\",\"Paid\",\"Paid\",\"Paid\",\"Paid\",\"Paid\",\"Paid\",\"Paid\",\"Paid\",\"Paid\",\"Paid\",\"Paid\",\"Paid\",\"Paid\",\"Paid\",\"Paid\",\"Paid\",\"Paid\",\"Paid\",\"Paid\",\"Paid\",\"Paid\",\"Paid\",\"Paid\",\"Paid\",\"Paid\",\"Paid\",\"Paid\",\"Paid\",\"Paid\",\"Paid\",\"Paid\",\"Paid\",\"Paid\",\"Paid\",\"Paid\",\"Paid\",\"Paid\",\"Paid\",\"Paid\",\"Paid\",\"Paid\",\"Paid\",\"Paid\",\"Paid\",\"Paid\",\"Paid\",\"Paid\",\"Paid\",\"Paid\",\"Paid\",\"Paid\",\"Paid\",\"Paid\",\"Paid\",\"Paid\",\"Paid\",\"Paid\",\"Paid\",\"Paid\",\"Paid\",\"Paid\",\"Paid\",\"Paid\",\"Paid\",\"Paid\",\"Paid\",\"Paid\",\"Paid\",\"Paid\",\"Paid\",\"Paid\",\"Paid\",\"Paid\",\"Paid\",\"Paid\",\"Paid\",\"Paid\",\"Paid\",\"Paid\",\"Paid\",\"Paid\",\"Paid\",\"Paid\",\"Paid\",\"Paid\",\"Paid\",\"Paid\",\"Paid\",\"Paid\",\"Paid\",\"Paid\",\"Paid\",\"Paid\",\"Paid\",\"Paid\",\"Paid\"],\"x0\":\" \",\"xaxis\":\"x\",\"y\":[1,1,10,10,10,10,10,10,10,10,10,10,10,10,10,10,10,10,10,10,50,50,50,50,50,50,50,50,50,50,50,50,50,50,100,100,100,100,100,100,100,100,100,100,100,100,100,100,100,100,100,100,100,100,100,100,100,100,100,100,100,100,100,100,100,100,100,100,100,100,100,100,100,100,100,100,100,100,100,100,100,100,100,100,100,100,100,100,100,100,100,100,100,100,100,100,100,100,100,500,500,500,500,500,500,500,500,500,500,500,500,500,500,500,500,500,500,500,500,500,500,500,500,500,500,500,500,500,500,500,500,500,500,500,500,1000,1000,1000,1000,1000,1000,1000,1000,1000,1000,1000,1000,1000,1000,1000,1000,1000,1000,1000,1000,1000,1000,1000,1000,1000,1000,1000,1000,1000,1000,1000,1000,1000,1000,1000,1000,1000,1000,1000,1000,1000,1000,1000,1000,1000,1000,1000,1000,1000,1000,1000,1000,1000,1000,1000,1000,1000,1000,1000,1000,1000,1000,1000,1000,1000,1000,1000,1000,1000,1000,1000,1000,1000,1000,1000,1000,1000,1000,1000,1000,1000,1000,1000,1000,1000,1000,1000,1000,1000,1000,1000,1000,1000,1000,1000,1000,1000,1000,1000,1000,1000,1000,1000,1000,1000,1000,1000,1000,1000,1000,1000,1000,1000,1000,1000,1000,1000,1000,1000,1000,1000,1000,1000,1000,1000,1000,1000,5000,5000,5000,5000,5000,5000,5000,5000,5000,5000,5000,5000,5000,5000,5000,5000,5000,5000,5000,5000,5000,5000,5000,5000,5000,5000,5000,5000,5000,5000,5000,5000,5000,5000,5000,5000,5000,5000,5000,5000,5000,5000,5000,5000,5000,5000,5000,5000,5000,5000,5000,5000,5000,5000,5000,5000,5000,5000,5000,5000,5000,5000,10000,10000,10000,10000,10000,10000,10000,10000,10000,10000,10000,10000,10000,10000,10000,10000,10000,10000,10000,10000,10000,10000,10000,10000,10000,10000,10000,10000,10000,10000,10000,10000,10000,10000,10000,10000,10000,10000,10000,10000,10000,10000,10000,10000,10000,10000,10000,10000,10000,10000,10000,10000,10000,10000,10000,10000,10000,10000,10000,10000,10000,10000,10000,10000,10000,10000,10000,10000,10000,10000,10000,10000,10000,10000,10000,10000,10000,10000,10000,10000,10000,10000,10000,10000,10000,10000,10000,10000,10000,10000,10000,10000,10000,10000,10000,10000,10000,10000,10000,10000,10000,10000,10000,10000,10000,10000,10000,10000,10000,10000,10000,10000,50000,50000,50000,50000,50000,50000,50000,50000,50000,50000,50000,50000,50000,50000,50000,50000,50000,50000,50000,50000,50000,50000,50000,50000,50000,50000,50000,50000,50000,50000,50000,50000,50000,50000,50000,50000,50000,50000,50000,100000,100000,100000,100000,100000,100000,100000,100000,100000,100000,100000,100000,100000,100000,100000,100000,100000,100000,100000,100000,100000,100000,100000,100000,100000,100000,100000,100000,100000,100000,100000,100000,100000,100000,100000,100000,100000,100000,100000,100000,100000,100000,100000,100000,100000,100000,100000,100000,100000,100000,100000,100000,100000,100000,100000,100000,100000,100000,100000,100000,100000,100000,100000,100000,100000,100000,100000,100000,100000,100000,100000,100000,100000,100000,100000,100000,100000,100000,100000,100000,100000,500000,500000,500000,500000,500000,500000,500000,500000,500000,500000,500000,1000000,1000000,1000000,1000000,1000000,1000000,1000000,1000000,1000000,1000000,1000000,1000000,1000000,1000000,1000000,1000000,1000000,1000000,1000000,1000000,10000000,10000000],\"y0\":\" \",\"yaxis\":\"y\"}],                        {\"boxmode\":\"overlay\",\"legend\":{\"title\":{\"text\":\"Type\"},\"tracegroupgap\":0},\"template\":{\"data\":{\"bar\":[{\"error_x\":{\"color\":\"#2a3f5f\"},\"error_y\":{\"color\":\"#2a3f5f\"},\"marker\":{\"line\":{\"color\":\"#E5ECF6\",\"width\":0.5},\"pattern\":{\"fillmode\":\"overlay\",\"size\":10,\"solidity\":0.2}},\"type\":\"bar\"}],\"barpolar\":[{\"marker\":{\"line\":{\"color\":\"#E5ECF6\",\"width\":0.5},\"pattern\":{\"fillmode\":\"overlay\",\"size\":10,\"solidity\":0.2}},\"type\":\"barpolar\"}],\"carpet\":[{\"aaxis\":{\"endlinecolor\":\"#2a3f5f\",\"gridcolor\":\"white\",\"linecolor\":\"white\",\"minorgridcolor\":\"white\",\"startlinecolor\":\"#2a3f5f\"},\"baxis\":{\"endlinecolor\":\"#2a3f5f\",\"gridcolor\":\"white\",\"linecolor\":\"white\",\"minorgridcolor\":\"white\",\"startlinecolor\":\"#2a3f5f\"},\"type\":\"carpet\"}],\"choropleth\":[{\"colorbar\":{\"outlinewidth\":0,\"ticks\":\"\"},\"type\":\"choropleth\"}],\"contour\":[{\"colorbar\":{\"outlinewidth\":0,\"ticks\":\"\"},\"colorscale\":[[0.0,\"#0d0887\"],[0.1111111111111111,\"#46039f\"],[0.2222222222222222,\"#7201a8\"],[0.3333333333333333,\"#9c179e\"],[0.4444444444444444,\"#bd3786\"],[0.5555555555555556,\"#d8576b\"],[0.6666666666666666,\"#ed7953\"],[0.7777777777777778,\"#fb9f3a\"],[0.8888888888888888,\"#fdca26\"],[1.0,\"#f0f921\"]],\"type\":\"contour\"}],\"contourcarpet\":[{\"colorbar\":{\"outlinewidth\":0,\"ticks\":\"\"},\"type\":\"contourcarpet\"}],\"heatmap\":[{\"colorbar\":{\"outlinewidth\":0,\"ticks\":\"\"},\"colorscale\":[[0.0,\"#0d0887\"],[0.1111111111111111,\"#46039f\"],[0.2222222222222222,\"#7201a8\"],[0.3333333333333333,\"#9c179e\"],[0.4444444444444444,\"#bd3786\"],[0.5555555555555556,\"#d8576b\"],[0.6666666666666666,\"#ed7953\"],[0.7777777777777778,\"#fb9f3a\"],[0.8888888888888888,\"#fdca26\"],[1.0,\"#f0f921\"]],\"type\":\"heatmap\"}],\"heatmapgl\":[{\"colorbar\":{\"outlinewidth\":0,\"ticks\":\"\"},\"colorscale\":[[0.0,\"#0d0887\"],[0.1111111111111111,\"#46039f\"],[0.2222222222222222,\"#7201a8\"],[0.3333333333333333,\"#9c179e\"],[0.4444444444444444,\"#bd3786\"],[0.5555555555555556,\"#d8576b\"],[0.6666666666666666,\"#ed7953\"],[0.7777777777777778,\"#fb9f3a\"],[0.8888888888888888,\"#fdca26\"],[1.0,\"#f0f921\"]],\"type\":\"heatmapgl\"}],\"histogram\":[{\"marker\":{\"pattern\":{\"fillmode\":\"overlay\",\"size\":10,\"solidity\":0.2}},\"type\":\"histogram\"}],\"histogram2d\":[{\"colorbar\":{\"outlinewidth\":0,\"ticks\":\"\"},\"colorscale\":[[0.0,\"#0d0887\"],[0.1111111111111111,\"#46039f\"],[0.2222222222222222,\"#7201a8\"],[0.3333333333333333,\"#9c179e\"],[0.4444444444444444,\"#bd3786\"],[0.5555555555555556,\"#d8576b\"],[0.6666666666666666,\"#ed7953\"],[0.7777777777777778,\"#fb9f3a\"],[0.8888888888888888,\"#fdca26\"],[1.0,\"#f0f921\"]],\"type\":\"histogram2d\"}],\"histogram2dcontour\":[{\"colorbar\":{\"outlinewidth\":0,\"ticks\":\"\"},\"colorscale\":[[0.0,\"#0d0887\"],[0.1111111111111111,\"#46039f\"],[0.2222222222222222,\"#7201a8\"],[0.3333333333333333,\"#9c179e\"],[0.4444444444444444,\"#bd3786\"],[0.5555555555555556,\"#d8576b\"],[0.6666666666666666,\"#ed7953\"],[0.7777777777777778,\"#fb9f3a\"],[0.8888888888888888,\"#fdca26\"],[1.0,\"#f0f921\"]],\"type\":\"histogram2dcontour\"}],\"mesh3d\":[{\"colorbar\":{\"outlinewidth\":0,\"ticks\":\"\"},\"type\":\"mesh3d\"}],\"parcoords\":[{\"line\":{\"colorbar\":{\"outlinewidth\":0,\"ticks\":\"\"}},\"type\":\"parcoords\"}],\"pie\":[{\"automargin\":true,\"type\":\"pie\"}],\"scatter\":[{\"marker\":{\"colorbar\":{\"outlinewidth\":0,\"ticks\":\"\"}},\"type\":\"scatter\"}],\"scatter3d\":[{\"line\":{\"colorbar\":{\"outlinewidth\":0,\"ticks\":\"\"}},\"marker\":{\"colorbar\":{\"outlinewidth\":0,\"ticks\":\"\"}},\"type\":\"scatter3d\"}],\"scattercarpet\":[{\"marker\":{\"colorbar\":{\"outlinewidth\":0,\"ticks\":\"\"}},\"type\":\"scattercarpet\"}],\"scattergeo\":[{\"marker\":{\"colorbar\":{\"outlinewidth\":0,\"ticks\":\"\"}},\"type\":\"scattergeo\"}],\"scattergl\":[{\"marker\":{\"colorbar\":{\"outlinewidth\":0,\"ticks\":\"\"}},\"type\":\"scattergl\"}],\"scattermapbox\":[{\"marker\":{\"colorbar\":{\"outlinewidth\":0,\"ticks\":\"\"}},\"type\":\"scattermapbox\"}],\"scatterpolar\":[{\"marker\":{\"colorbar\":{\"outlinewidth\":0,\"ticks\":\"\"}},\"type\":\"scatterpolar\"}],\"scatterpolargl\":[{\"marker\":{\"colorbar\":{\"outlinewidth\":0,\"ticks\":\"\"}},\"type\":\"scatterpolargl\"}],\"scatterternary\":[{\"marker\":{\"colorbar\":{\"outlinewidth\":0,\"ticks\":\"\"}},\"type\":\"scatterternary\"}],\"surface\":[{\"colorbar\":{\"outlinewidth\":0,\"ticks\":\"\"},\"colorscale\":[[0.0,\"#0d0887\"],[0.1111111111111111,\"#46039f\"],[0.2222222222222222,\"#7201a8\"],[0.3333333333333333,\"#9c179e\"],[0.4444444444444444,\"#bd3786\"],[0.5555555555555556,\"#d8576b\"],[0.6666666666666666,\"#ed7953\"],[0.7777777777777778,\"#fb9f3a\"],[0.8888888888888888,\"#fdca26\"],[1.0,\"#f0f921\"]],\"type\":\"surface\"}],\"table\":[{\"cells\":{\"fill\":{\"color\":\"#EBF0F8\"},\"line\":{\"color\":\"white\"}},\"header\":{\"fill\":{\"color\":\"#C8D4E3\"},\"line\":{\"color\":\"white\"}},\"type\":\"table\"}]},\"layout\":{\"annotationdefaults\":{\"arrowcolor\":\"#2a3f5f\",\"arrowhead\":0,\"arrowwidth\":1},\"autotypenumbers\":\"strict\",\"coloraxis\":{\"colorbar\":{\"outlinewidth\":0,\"ticks\":\"\"}},\"colorscale\":{\"diverging\":[[0,\"#8e0152\"],[0.1,\"#c51b7d\"],[0.2,\"#de77ae\"],[0.3,\"#f1b6da\"],[0.4,\"#fde0ef\"],[0.5,\"#f7f7f7\"],[0.6,\"#e6f5d0\"],[0.7,\"#b8e186\"],[0.8,\"#7fbc41\"],[0.9,\"#4d9221\"],[1,\"#276419\"]],\"sequential\":[[0.0,\"#0d0887\"],[0.1111111111111111,\"#46039f\"],[0.2222222222222222,\"#7201a8\"],[0.3333333333333333,\"#9c179e\"],[0.4444444444444444,\"#bd3786\"],[0.5555555555555556,\"#d8576b\"],[0.6666666666666666,\"#ed7953\"],[0.7777777777777778,\"#fb9f3a\"],[0.8888888888888888,\"#fdca26\"],[1.0,\"#f0f921\"]],\"sequentialminus\":[[0.0,\"#0d0887\"],[0.1111111111111111,\"#46039f\"],[0.2222222222222222,\"#7201a8\"],[0.3333333333333333,\"#9c179e\"],[0.4444444444444444,\"#bd3786\"],[0.5555555555555556,\"#d8576b\"],[0.6666666666666666,\"#ed7953\"],[0.7777777777777778,\"#fb9f3a\"],[0.8888888888888888,\"#fdca26\"],[1.0,\"#f0f921\"]]},\"colorway\":[\"#636efa\",\"#EF553B\",\"#00cc96\",\"#ab63fa\",\"#FFA15A\",\"#19d3f3\",\"#FF6692\",\"#B6E880\",\"#FF97FF\",\"#FECB52\"],\"font\":{\"color\":\"#2a3f5f\"},\"geo\":{\"bgcolor\":\"white\",\"lakecolor\":\"white\",\"landcolor\":\"#E5ECF6\",\"showlakes\":true,\"showland\":true,\"subunitcolor\":\"white\"},\"hoverlabel\":{\"align\":\"left\"},\"hovermode\":\"closest\",\"mapbox\":{\"style\":\"light\"},\"paper_bgcolor\":\"white\",\"plot_bgcolor\":\"#E5ECF6\",\"polar\":{\"angularaxis\":{\"gridcolor\":\"white\",\"linecolor\":\"white\",\"ticks\":\"\"},\"bgcolor\":\"#E5ECF6\",\"radialaxis\":{\"gridcolor\":\"white\",\"linecolor\":\"white\",\"ticks\":\"\"}},\"scene\":{\"xaxis\":{\"backgroundcolor\":\"#E5ECF6\",\"gridcolor\":\"white\",\"gridwidth\":2,\"linecolor\":\"white\",\"showbackground\":true,\"ticks\":\"\",\"zerolinecolor\":\"white\"},\"yaxis\":{\"backgroundcolor\":\"#E5ECF6\",\"gridcolor\":\"white\",\"gridwidth\":2,\"linecolor\":\"white\",\"showbackground\":true,\"ticks\":\"\",\"zerolinecolor\":\"white\"},\"zaxis\":{\"backgroundcolor\":\"#E5ECF6\",\"gridcolor\":\"white\",\"gridwidth\":2,\"linecolor\":\"white\",\"showbackground\":true,\"ticks\":\"\",\"zerolinecolor\":\"white\"}},\"shapedefaults\":{\"line\":{\"color\":\"#2a3f5f\"}},\"ternary\":{\"aaxis\":{\"gridcolor\":\"white\",\"linecolor\":\"white\",\"ticks\":\"\"},\"baxis\":{\"gridcolor\":\"white\",\"linecolor\":\"white\",\"ticks\":\"\"},\"bgcolor\":\"#E5ECF6\",\"caxis\":{\"gridcolor\":\"white\",\"linecolor\":\"white\",\"ticks\":\"\"}},\"title\":{\"x\":0.05},\"xaxis\":{\"automargin\":true,\"gridcolor\":\"white\",\"linecolor\":\"white\",\"ticks\":\"\",\"title\":{\"standoff\":15},\"zerolinecolor\":\"white\",\"zerolinewidth\":2},\"yaxis\":{\"automargin\":true,\"gridcolor\":\"white\",\"linecolor\":\"white\",\"ticks\":\"\",\"title\":{\"standoff\":15},\"zerolinecolor\":\"white\",\"zerolinewidth\":2}}},\"title\":{\"text\":\"How Many Downloads are Paid Apps Giving Up?\"},\"xaxis\":{\"anchor\":\"y\",\"categoryarray\":[\"Free\",\"Paid\"],\"categoryorder\":\"array\",\"domain\":[0.0,1.0],\"title\":{\"text\":\"Type\"}},\"yaxis\":{\"anchor\":\"x\",\"domain\":[0.0,1.0],\"title\":{\"text\":\"Installs\"},\"type\":\"log\"}},                        {\"responsive\": true}                    ).then(function(){\n",
       "                            \n",
       "var gd = document.getElementById('6bba1196-003e-4793-977a-6a24696a0f0d');\n",
       "var x = new MutationObserver(function (mutations, observer) {{\n",
       "        var display = window.getComputedStyle(gd).display;\n",
       "        if (!display || display === 'none') {{\n",
       "            console.log([gd, 'removed!']);\n",
       "            Plotly.purge(gd);\n",
       "            observer.disconnect();\n",
       "        }}\n",
       "}});\n",
       "\n",
       "// Listen for the removal of the full notebook cells\n",
       "var notebookContainer = gd.closest('#notebook-container');\n",
       "if (notebookContainer) {{\n",
       "    x.observe(notebookContainer, {childList: true});\n",
       "}}\n",
       "\n",
       "// Listen for the clearing of the current output cell\n",
       "var outputEl = gd.closest('.output');\n",
       "if (outputEl) {{\n",
       "    x.observe(outputEl, {childList: true});\n",
       "}}\n",
       "\n",
       "                        })                };                });            </script>        </div>"
      ]
     },
     "metadata": {},
     "output_type": "display_data"
    }
   ],
   "source": [
    "box = px.box(df_apps_clean,\n",
    "             y='Installs',\n",
    "             x='Type',\n",
    "             color='Type',\n",
    "             notched=True,\n",
    "             points='all',\n",
    "             title='How Many Downloads are Paid Apps Giving Up?')\n",
    " \n",
    "box.update_layout(yaxis=dict(type='log'))\n",
    " \n",
    "box.show()"
   ]
  },
  {
   "cell_type": "markdown",
   "metadata": {
    "id": "Xi2NaEBPVNrP"
   },
   "source": [
    "# Plotly Box Plots: Revenue by App Category\n",
    "\n",
    "**Challenge**: See if you can generate the chart below: \n",
    "\n",
    "<img src=https://imgur.com/v4CiNqX.png>\n",
    "\n",
    "Looking at the hover text, how much does the median app earn in the Tools category? If developing an Android app costs $30,000 or thereabouts, does the average photography app recoup its development costs?\n",
    "\n",
    "Hint: I've used 'min ascending' to sort the categories. "
   ]
  },
  {
   "cell_type": "code",
   "execution_count": 138,
   "metadata": {
    "id": "W1iVoT8Dos7x"
   },
   "outputs": [
    {
     "data": {
      "application/vnd.plotly.v1+json": {
       "config": {
        "plotlyServerURL": "https://plot.ly"
       },
       "data": [
        {
         "alignmentgroup": "True",
         "hovertemplate": "Category=%{x}<br>Revenue_Estimate=%{y}<extra></extra>",
         "legendgroup": "",
         "marker": {
          "color": "#636efa"
         },
         "name": "",
         "notched": false,
         "offsetgroup": "",
         "orientation": "v",
         "showlegend": false,
         "type": "box",
         "x": [
          "GAME",
          "GAME",
          "FAMILY",
          "BUSINESS",
          "LIFESTYLE",
          "FAMILY",
          "PERSONALIZATION",
          "PHOTOGRAPHY",
          "FAMILY",
          "GAME",
          "PRODUCTIVITY",
          "PHOTOGRAPHY",
          "FAMILY",
          "TOOLS",
          "TOOLS",
          "PERSONALIZATION",
          "FAMILY",
          "FAMILY",
          "FAMILY",
          "FAMILY",
          "GAME",
          "TOOLS",
          "PERSONALIZATION",
          "PERSONALIZATION",
          "PERSONALIZATION",
          "TOOLS",
          "FAMILY",
          "FAMILY",
          "BUSINESS",
          "BOOKS_AND_REFERENCE",
          "FAMILY",
          "FAMILY",
          "FAMILY",
          "PERSONALIZATION",
          "PERSONALIZATION",
          "PERSONALIZATION",
          "GAME",
          "PERSONALIZATION",
          "FAMILY",
          "FINANCE",
          "SHOPPING",
          "DATING",
          "PERSONALIZATION",
          "GAME",
          "FAMILY",
          "PRODUCTIVITY",
          "FAMILY",
          "MEDICAL",
          "SPORTS",
          "MEDICAL",
          "PRODUCTIVITY",
          "BUSINESS",
          "PARENTING",
          "LIFESTYLE",
          "FAMILY",
          "TOOLS",
          "MAPS_AND_NAVIGATION",
          "COMMUNICATION",
          "PERSONALIZATION",
          "COMMUNICATION",
          "FAMILY",
          "PERSONALIZATION",
          "FAMILY",
          "FAMILY",
          "FAMILY",
          "TOOLS",
          "FAMILY",
          "SPORTS",
          "FAMILY",
          "MEDICAL",
          "FAMILY",
          "FAMILY",
          "GAME",
          "TOOLS",
          "FAMILY",
          "FAMILY",
          "PERSONALIZATION",
          "BOOKS_AND_REFERENCE",
          "GAME",
          "PERSONALIZATION",
          "GAME",
          "GAME",
          "TOOLS",
          "MEDICAL",
          "TOOLS",
          "TOOLS",
          "PERSONALIZATION",
          "GAME",
          "COMMUNICATION",
          "MEDICAL",
          "SPORTS",
          "PERSONALIZATION",
          "COMMUNICATION",
          "COMMUNICATION",
          "PERSONALIZATION",
          "TOOLS",
          "PERSONALIZATION",
          "PERSONALIZATION",
          "PRODUCTIVITY",
          "MEDICAL",
          "FAMILY",
          "TOOLS",
          "TOOLS",
          "BUSINESS",
          "COMMUNICATION",
          "FAMILY",
          "PERSONALIZATION",
          "PHOTOGRAPHY",
          "MEDICAL",
          "PERSONALIZATION",
          "MEDICAL",
          "COMMUNICATION",
          "PRODUCTIVITY",
          "BOOKS_AND_REFERENCE",
          "TOOLS",
          "WEATHER",
          "FAMILY",
          "FAMILY",
          "MEDICAL",
          "FAMILY",
          "TOOLS",
          "TOOLS",
          "SPORTS",
          "GAME",
          "MEDICAL",
          "PERSONALIZATION",
          "PERSONALIZATION",
          "NEWS_AND_MAGAZINES",
          "COMMUNICATION",
          "TOOLS",
          "MEDICAL",
          "FINANCE",
          "FAMILY",
          "PERSONALIZATION",
          "PERSONALIZATION",
          "MEDICAL",
          "FAMILY",
          "MEDICAL",
          "MEDICAL",
          "FAMILY",
          "FAMILY",
          "FAMILY",
          "GAME",
          "PERSONALIZATION",
          "TOOLS",
          "PERSONALIZATION",
          "GAME",
          "GAME",
          "GAME",
          "FAMILY",
          "FAMILY",
          "PRODUCTIVITY",
          "COMMUNICATION",
          "SPORTS",
          "SPORTS",
          "FAMILY",
          "PERSONALIZATION",
          "MEDICAL",
          "SPORTS",
          "COMMUNICATION",
          "LIFESTYLE",
          "FAMILY",
          "MEDICAL",
          "MEDICAL",
          "TOOLS",
          "PRODUCTIVITY",
          "FINANCE",
          "HEALTH_AND_FITNESS",
          "MEDICAL",
          "PHOTOGRAPHY",
          "FAMILY",
          "FAMILY",
          "PHOTOGRAPHY",
          "SPORTS",
          "ART_AND_DESIGN",
          "FAMILY",
          "PERSONALIZATION",
          "PRODUCTIVITY",
          "HEALTH_AND_FITNESS",
          "MEDICAL",
          "TOOLS",
          "PRODUCTIVITY",
          "GAME",
          "TOOLS",
          "MEDICAL",
          "LIFESTYLE",
          "GAME",
          "MEDICAL",
          "TRAVEL_AND_LOCAL",
          "BUSINESS",
          "MEDICAL",
          "COMMUNICATION",
          "PERSONALIZATION",
          "GAME",
          "TRAVEL_AND_LOCAL",
          "GAME",
          "SPORTS",
          "MEDICAL",
          "FAMILY",
          "MEDICAL",
          "TOOLS",
          "BOOKS_AND_REFERENCE",
          "FAMILY",
          "MEDICAL",
          "MEDICAL",
          "GAME",
          "BUSINESS",
          "TOOLS",
          "FAMILY",
          "MEDICAL",
          "PERSONALIZATION",
          "PHOTOGRAPHY",
          "SPORTS",
          "MAPS_AND_NAVIGATION",
          "PERSONALIZATION",
          "GAME",
          "BOOKS_AND_REFERENCE",
          "EDUCATION",
          "FAMILY",
          "FAMILY",
          "SOCIAL",
          "MEDICAL",
          "TOOLS",
          "SPORTS",
          "FAMILY",
          "FAMILY",
          "TOOLS",
          "WEATHER",
          "VIDEO_PLAYERS",
          "MEDICAL",
          "TOOLS",
          "GAME",
          "PERSONALIZATION",
          "MEDICAL",
          "LIFESTYLE",
          "MEDICAL",
          "DATING",
          "HEALTH_AND_FITNESS",
          "MEDICAL",
          "FAMILY",
          "PRODUCTIVITY",
          "EDUCATION",
          "SPORTS",
          "FAMILY",
          "PERSONALIZATION",
          "PERSONALIZATION",
          "FAMILY",
          "GAME",
          "FINANCE",
          "GAME",
          "MEDICAL",
          "FAMILY",
          "MEDICAL",
          "MEDICAL",
          "TOOLS",
          "TOOLS",
          "TOOLS",
          "TOOLS",
          "PERSONALIZATION",
          "PERSONALIZATION",
          "PERSONALIZATION",
          "PERSONALIZATION",
          "FAMILY",
          "GAME",
          "FAMILY",
          "FAMILY",
          "MEDICAL",
          "SPORTS",
          "LIFESTYLE",
          "FAMILY",
          "FAMILY",
          "TRAVEL_AND_LOCAL",
          "PERSONALIZATION",
          "BOOKS_AND_REFERENCE",
          "FAMILY",
          "MEDICAL",
          "MEDICAL",
          "MEDICAL",
          "MEDICAL",
          "PRODUCTIVITY",
          "SOCIAL",
          "SPORTS",
          "TRAVEL_AND_LOCAL",
          "TOOLS",
          "FAMILY",
          "NEWS_AND_MAGAZINES",
          "ART_AND_DESIGN",
          "GAME",
          "PERSONALIZATION",
          "LIFESTYLE",
          "PERSONALIZATION",
          "LIFESTYLE",
          "MEDICAL",
          "FAMILY",
          "FAMILY",
          "BOOKS_AND_REFERENCE",
          "LIFESTYLE",
          "MEDICAL",
          "MEDICAL",
          "TOOLS",
          "SPORTS",
          "MEDICAL",
          "PHOTOGRAPHY",
          "GAME",
          "SPORTS",
          "FAMILY",
          "SPORTS",
          "TOOLS",
          "LIFESTYLE",
          "FAMILY",
          "COMMUNICATION",
          "COMMUNICATION",
          "COMMUNICATION",
          "FAMILY",
          "FAMILY",
          "TOOLS",
          "MEDICAL",
          "TOOLS",
          "TOOLS",
          "TOOLS",
          "TOOLS",
          "TOOLS",
          "TOOLS",
          "PERSONALIZATION",
          "FAMILY",
          "MEDICAL",
          "MEDICAL",
          "MEDICAL",
          "HEALTH_AND_FITNESS",
          "GAME",
          "FAMILY",
          "FAMILY",
          "PHOTOGRAPHY",
          "PERSONALIZATION",
          "LIFESTYLE",
          "GAME",
          "FAMILY",
          "MEDICAL",
          "FAMILY",
          "BUSINESS",
          "GAME",
          "FAMILY",
          "MEDICAL",
          "FAMILY",
          "MAPS_AND_NAVIGATION",
          "BOOKS_AND_REFERENCE",
          "GAME",
          "PERSONALIZATION",
          "PERSONALIZATION",
          "COMMUNICATION",
          "DATING",
          "FOOD_AND_DRINK",
          "LIFESTYLE",
          "FAMILY",
          "FAMILY",
          "MEDICAL",
          "TRAVEL_AND_LOCAL",
          "TOOLS",
          "TOOLS",
          "TOOLS",
          "PERSONALIZATION",
          "VIDEO_PLAYERS",
          "VIDEO_PLAYERS",
          "GAME",
          "FAMILY",
          "FAMILY",
          "FAMILY",
          "FAMILY",
          "PERSONALIZATION",
          "WEATHER",
          "TOOLS",
          "PERSONALIZATION",
          "TOOLS",
          "ART_AND_DESIGN",
          "PERSONALIZATION",
          "PERSONALIZATION",
          "MEDICAL",
          "TOOLS",
          "FAMILY",
          "FINANCE",
          "TOOLS",
          "GAME",
          "FAMILY",
          "FAMILY",
          "TOOLS",
          "TOOLS",
          "GAME",
          "TOOLS",
          "HEALTH_AND_FITNESS",
          "GAME",
          "MEDICAL",
          "COMMUNICATION",
          "FAMILY",
          "GAME",
          "FAMILY",
          "MEDICAL",
          "PERSONALIZATION",
          "FAMILY",
          "SPORTS",
          "FAMILY",
          "TRAVEL_AND_LOCAL",
          "TOOLS",
          "SHOPPING",
          "TOOLS",
          "FAMILY",
          "FAMILY",
          "FAMILY",
          "FAMILY",
          "FAMILY",
          "FAMILY",
          "GAME",
          "MAPS_AND_NAVIGATION",
          "PERSONALIZATION",
          "GAME",
          "FAMILY",
          "FAMILY",
          "FINANCE",
          "TOOLS",
          "TOOLS",
          "FAMILY",
          "FAMILY",
          "MEDICAL",
          "GAME",
          "FAMILY",
          "COMMUNICATION",
          "COMMUNICATION",
          "FAMILY",
          "FAMILY",
          "MEDICAL",
          "MEDICAL",
          "MEDICAL",
          "PHOTOGRAPHY",
          "TOOLS",
          "TOOLS",
          "PERSONALIZATION",
          "PERSONALIZATION",
          "FAMILY",
          "GAME",
          "SPORTS",
          "MEDICAL",
          "GAME",
          "FAMILY",
          "AUTO_AND_VEHICLES",
          "HEALTH_AND_FITNESS",
          "FAMILY",
          "FAMILY",
          "MEDICAL",
          "PHOTOGRAPHY",
          "SPORTS",
          "TOOLS",
          "VIDEO_PLAYERS",
          "FAMILY",
          "FAMILY",
          "PRODUCTIVITY",
          "PERSONALIZATION",
          "PRODUCTIVITY",
          "PERSONALIZATION",
          "FAMILY",
          "FAMILY",
          "GAME",
          "MEDICAL",
          "FAMILY",
          "FAMILY",
          "FOOD_AND_DRINK",
          "FAMILY",
          "FAMILY",
          "FAMILY",
          "TOOLS",
          "HEALTH_AND_FITNESS",
          "PARENTING",
          "FAMILY",
          "GAME",
          "HEALTH_AND_FITNESS",
          "TRAVEL_AND_LOCAL",
          "GAME",
          "WEATHER",
          "FAMILY",
          "MEDICAL",
          "GAME",
          "GAME",
          "MEDICAL",
          "PERSONALIZATION",
          "FAMILY",
          "FAMILY",
          "FAMILY",
          "FAMILY",
          "GAME",
          "PHOTOGRAPHY",
          "FAMILY",
          "BUSINESS",
          "FAMILY",
          "GAME",
          "FAMILY",
          "FAMILY",
          "WEATHER",
          "EDUCATION",
          "COMMUNICATION",
          "ENTERTAINMENT",
          "HEALTH_AND_FITNESS",
          "HEALTH_AND_FITNESS",
          "GAME",
          "GAME",
          "FAMILY",
          "FAMILY",
          "FAMILY",
          "PHOTOGRAPHY",
          "SPORTS",
          "TRAVEL_AND_LOCAL",
          "TOOLS",
          "TOOLS",
          "PERSONALIZATION",
          "PERSONALIZATION",
          "PRODUCTIVITY",
          "PRODUCTIVITY",
          "MAPS_AND_NAVIGATION",
          "GAME",
          "GAME",
          "PRODUCTIVITY",
          "TOOLS",
          "WEATHER",
          "FAMILY",
          "GAME",
          "FAMILY",
          "GAME",
          "TOOLS",
          "GAME",
          "FAMILY",
          "FAMILY",
          "HEALTH_AND_FITNESS",
          "FAMILY",
          "GAME",
          "FAMILY",
          "PERSONALIZATION",
          "BUSINESS",
          "FINANCE",
          "FAMILY",
          "PHOTOGRAPHY",
          "GAME",
          "FAMILY",
          "FAMILY",
          "FAMILY",
          "FAMILY",
          "GAME",
          "FAMILY",
          "GAME",
          "COMMUNICATION",
          "FAMILY",
          "ENTERTAINMENT",
          "COMMUNICATION",
          "GAME",
          "GAME",
          "GAME",
          "GAME",
          "GAME",
          "GAME",
          "PERSONALIZATION",
          "FAMILY",
          "PERSONALIZATION",
          "FAMILY",
          "EDUCATION",
          "WEATHER",
          "PHOTOGRAPHY",
          "PRODUCTIVITY",
          "GAME",
          "FAMILY",
          "FAMILY",
          "PRODUCTIVITY",
          "PERSONALIZATION",
          "GAME",
          "GAME",
          "FAMILY",
          "COMMUNICATION",
          "TOOLS",
          "GAME",
          "PERSONALIZATION",
          "PHOTOGRAPHY",
          "SPORTS",
          "GAME",
          "FAMILY",
          "GAME",
          "GAME",
          "FAMILY",
          "GAME",
          "FAMILY",
          "GAME",
          "LIFESTYLE",
          "FAMILY",
          "GAME",
          "FAMILY"
         ],
         "x0": " ",
         "xaxis": "x",
         "y": [
          1.49,
          0.99,
          149.9,
          24.900000000000002,
          30.4,
          14.9,
          9.9,
          34.900000000000006,
          29.900000000000002,
          9.9,
          9.9,
          49.900000000000006,
          9.9,
          29.900000000000002,
          9.9,
          9.9,
          299.9,
          199.89999999999998,
          49.900000000000006,
          49.900000000000006,
          99.5,
          149.5,
          49.5,
          49.5,
          49.5,
          88,
          149.5,
          149.5,
          449.5,
          87.5,
          74.5,
          74.5,
          49.5,
          49.5,
          99,
          99,
          99,
          99,
          1299,
          499,
          249.00000000000003,
          799,
          199,
          499,
          99,
          499,
          399,
          299,
          388,
          299,
          299,
          1299,
          459,
          99,
          999,
          399,
          999,
          149,
          149,
          149,
          149,
          99,
          299,
          199,
          499,
          149,
          99,
          349,
          199,
          1299,
          99,
          99,
          99,
          199,
          499,
          399,
          99,
          399,
          1400,
          149,
          449,
          199,
          99,
          699,
          599,
          399,
          249.00000000000003,
          99,
          149,
          3999,
          302,
          149,
          149,
          99,
          99,
          499,
          149,
          99,
          649,
          2995,
          1495,
          1995,
          495,
          8995,
          495,
          995,
          745,
          745,
          1995,
          745,
          1495,
          2495,
          4495,
          495,
          495,
          995,
          1245,
          2495,
          495,
          995,
          995,
          495,
          1495,
          2245,
          1745,
          1000,
          745,
          1495,
          1995,
          1995,
          7995,
          1995,
          1495,
          745,
          495,
          9990,
          2990,
          4990,
          9990,
          2490,
          10990,
          2990,
          990,
          1990,
          1990,
          990,
          3990,
          1610,
          990,
          1990,
          2490,
          4290,
          990,
          3990,
          990,
          2990,
          1490,
          15460,
          1990,
          2990,
          4990,
          7490,
          3990,
          5490,
          2490,
          2990,
          1990,
          4990,
          4990,
          19990,
          2990,
          1990,
          9990,
          990,
          1990,
          2990,
          1700,
          990,
          7990,
          29990,
          2990,
          7990,
          990,
          1490,
          2990,
          4990,
          2490,
          79990,
          2560,
          3990,
          19990,
          2490,
          990,
          990,
          8490,
          6990,
          2990,
          990,
          2990,
          1500,
          4990,
          1990,
          4840,
          14990,
          29990,
          4990,
          4990,
          3990,
          19400,
          33990,
          1490,
          2990,
          2990,
          990,
          990,
          1990,
          3080,
          5990,
          3990,
          2990,
          990,
          1990,
          5990,
          2490,
          990,
          990,
          990,
          6990,
          990,
          16990,
          990,
          3490,
          1700,
          3990,
          37990,
          9990,
          6990,
          1990,
          3990,
          10000,
          1290,
          3990,
          4490,
          2990,
          2490,
          990,
          4990,
          990,
          3990,
          1990,
          7490,
          990,
          10990,
          5990,
          990,
          1490,
          14990,
          4990,
          4990,
          990,
          4990,
          3990,
          24950,
          4950,
          22450,
          29950,
          19950,
          9950,
          19950,
          24950,
          9950,
          19950,
          4950,
          14950.000000000002,
          7450,
          12450.000000000002,
          19950,
          19950,
          19950,
          19950,
          4950,
          9950,
          14950.000000000002,
          4950,
          14950.000000000002,
          4950,
          9950,
          34950,
          9950,
          4950,
          7450,
          14950.000000000002,
          29950,
          14950.000000000002,
          14950.000000000002,
          23000,
          9950,
          74950,
          4950,
          4950,
          4950,
          14950.000000000002,
          14950.000000000002,
          9950,
          14950.000000000002,
          24950,
          5000,
          74950,
          12450.000000000002,
          4950,
          24950,
          4950,
          7450,
          19950,
          14950.000000000002,
          24950,
          19950,
          24950,
          24950,
          24950,
          24950,
          24950,
          5000,
          34950,
          29900.000000000004,
          99900,
          249899.99999999997,
          29900.000000000004,
          39900,
          9900,
          39900,
          39900,
          19900,
          9900,
          79900,
          49900,
          29900.000000000004,
          100000,
          29900.000000000004,
          29900.000000000004,
          29900.000000000004,
          149900,
          79900,
          129900,
          9900,
          44900,
          169899.99999999997,
          9900,
          9900,
          49900,
          39900,
          34900,
          24900.000000000004,
          29900.000000000004,
          14900,
          69900,
          19900,
          25000,
          39000,
          29500,
          9900,
          14900,
          19900,
          79900,
          29900.000000000004,
          29900.000000000004,
          49900,
          19900,
          9900,
          29900.000000000004,
          29900.000000000004,
          19900,
          19700,
          19900,
          99900,
          29900.000000000004,
          54900,
          32800,
          9900,
          29900.000000000004,
          49900,
          29900.000000000004,
          149900,
          29900.000000000004,
          29900.000000000004,
          29900.000000000004,
          179899.99999999997,
          9900,
          69900,
          49900,
          39900,
          29900.000000000004,
          29900.000000000004,
          49900,
          12000,
          29900.000000000004,
          19900,
          49900,
          49900,
          9900,
          59900,
          25900,
          29900.000000000004,
          19900,
          39900,
          49900,
          39900,
          29900.000000000004,
          49900,
          29900.000000000004,
          49900,
          29900.000000000004,
          9900,
          39900,
          24900.000000000004,
          9900,
          189899.99999999997,
          19900,
          19900,
          15900,
          39900,
          119900,
          19900,
          19900,
          29900.000000000004,
          9900,
          99900,
          39900,
          9900,
          29900.000000000004,
          19900,
          49900,
          19900,
          29900.000000000004,
          9900,
          19900,
          49500,
          49500,
          1499500,
          149500,
          99500,
          149500,
          99500,
          99500,
          149500,
          249500,
          199500,
          99500,
          199500,
          149500,
          299500,
          999499.9999999999,
          499500,
          149500,
          124500.00000000001,
          74500,
          49500,
          149500,
          149500,
          99500,
          599500,
          249500,
          199500,
          249500,
          149500,
          149500,
          238499.99999999997,
          149500,
          149500,
          249500,
          249500,
          249500,
          99500,
          124500.00000000001,
          249500,
          399000,
          399000,
          2499000,
          499000,
          99000,
          900000,
          99000,
          299000,
          299000,
          299000,
          999000,
          299000,
          149000,
          1499000,
          499000,
          799000,
          199000,
          99000,
          99000,
          449000,
          399000,
          399000,
          499000,
          299000,
          299000,
          299000,
          299000,
          399000,
          499000,
          499000,
          395000,
          899000,
          899000,
          249000.00000000003,
          399000,
          449000,
          199000,
          599000,
          499000,
          1199000,
          499000,
          999000,
          449000,
          349000,
          299000,
          499000,
          499000,
          499000,
          199000,
          449000,
          399000,
          299000,
          1399000,
          349000,
          999000,
          499000,
          299000,
          299000,
          499000,
          299000,
          299000,
          299000,
          299000,
          299000,
          999000,
          99000,
          199000,
          299000,
          149000,
          699000,
          290000,
          299000,
          299000,
          399000,
          299000,
          499000,
          299000,
          299000,
          199000,
          599000,
          499000,
          1495000,
          1245000,
          495000,
          1995000,
          2995000,
          1495000,
          1495000,
          995000,
          1495000,
          2495000,
          995000,
          2490000,
          990000,
          4990000,
          2990000,
          2990000,
          2990000,
          6990000,
          990000,
          5990000,
          1990000,
          2990000,
          990000,
          990000,
          990000,
          990000,
          990000,
          2990000,
          990000,
          5990000,
          1990000,
          9900000,
          69900000
         ],
         "y0": " ",
         "yaxis": "y"
        }
       ],
       "layout": {
        "boxmode": "group",
        "legend": {
         "tracegroupgap": 0
        },
        "template": {
         "data": {
          "bar": [
           {
            "error_x": {
             "color": "#2a3f5f"
            },
            "error_y": {
             "color": "#2a3f5f"
            },
            "marker": {
             "line": {
              "color": "#E5ECF6",
              "width": 0.5
             },
             "pattern": {
              "fillmode": "overlay",
              "size": 10,
              "solidity": 0.2
             }
            },
            "type": "bar"
           }
          ],
          "barpolar": [
           {
            "marker": {
             "line": {
              "color": "#E5ECF6",
              "width": 0.5
             },
             "pattern": {
              "fillmode": "overlay",
              "size": 10,
              "solidity": 0.2
             }
            },
            "type": "barpolar"
           }
          ],
          "carpet": [
           {
            "aaxis": {
             "endlinecolor": "#2a3f5f",
             "gridcolor": "white",
             "linecolor": "white",
             "minorgridcolor": "white",
             "startlinecolor": "#2a3f5f"
            },
            "baxis": {
             "endlinecolor": "#2a3f5f",
             "gridcolor": "white",
             "linecolor": "white",
             "minorgridcolor": "white",
             "startlinecolor": "#2a3f5f"
            },
            "type": "carpet"
           }
          ],
          "choropleth": [
           {
            "colorbar": {
             "outlinewidth": 0,
             "ticks": ""
            },
            "type": "choropleth"
           }
          ],
          "contour": [
           {
            "colorbar": {
             "outlinewidth": 0,
             "ticks": ""
            },
            "colorscale": [
             [
              0,
              "#0d0887"
             ],
             [
              0.1111111111111111,
              "#46039f"
             ],
             [
              0.2222222222222222,
              "#7201a8"
             ],
             [
              0.3333333333333333,
              "#9c179e"
             ],
             [
              0.4444444444444444,
              "#bd3786"
             ],
             [
              0.5555555555555556,
              "#d8576b"
             ],
             [
              0.6666666666666666,
              "#ed7953"
             ],
             [
              0.7777777777777778,
              "#fb9f3a"
             ],
             [
              0.8888888888888888,
              "#fdca26"
             ],
             [
              1,
              "#f0f921"
             ]
            ],
            "type": "contour"
           }
          ],
          "contourcarpet": [
           {
            "colorbar": {
             "outlinewidth": 0,
             "ticks": ""
            },
            "type": "contourcarpet"
           }
          ],
          "heatmap": [
           {
            "colorbar": {
             "outlinewidth": 0,
             "ticks": ""
            },
            "colorscale": [
             [
              0,
              "#0d0887"
             ],
             [
              0.1111111111111111,
              "#46039f"
             ],
             [
              0.2222222222222222,
              "#7201a8"
             ],
             [
              0.3333333333333333,
              "#9c179e"
             ],
             [
              0.4444444444444444,
              "#bd3786"
             ],
             [
              0.5555555555555556,
              "#d8576b"
             ],
             [
              0.6666666666666666,
              "#ed7953"
             ],
             [
              0.7777777777777778,
              "#fb9f3a"
             ],
             [
              0.8888888888888888,
              "#fdca26"
             ],
             [
              1,
              "#f0f921"
             ]
            ],
            "type": "heatmap"
           }
          ],
          "heatmapgl": [
           {
            "colorbar": {
             "outlinewidth": 0,
             "ticks": ""
            },
            "colorscale": [
             [
              0,
              "#0d0887"
             ],
             [
              0.1111111111111111,
              "#46039f"
             ],
             [
              0.2222222222222222,
              "#7201a8"
             ],
             [
              0.3333333333333333,
              "#9c179e"
             ],
             [
              0.4444444444444444,
              "#bd3786"
             ],
             [
              0.5555555555555556,
              "#d8576b"
             ],
             [
              0.6666666666666666,
              "#ed7953"
             ],
             [
              0.7777777777777778,
              "#fb9f3a"
             ],
             [
              0.8888888888888888,
              "#fdca26"
             ],
             [
              1,
              "#f0f921"
             ]
            ],
            "type": "heatmapgl"
           }
          ],
          "histogram": [
           {
            "marker": {
             "pattern": {
              "fillmode": "overlay",
              "size": 10,
              "solidity": 0.2
             }
            },
            "type": "histogram"
           }
          ],
          "histogram2d": [
           {
            "colorbar": {
             "outlinewidth": 0,
             "ticks": ""
            },
            "colorscale": [
             [
              0,
              "#0d0887"
             ],
             [
              0.1111111111111111,
              "#46039f"
             ],
             [
              0.2222222222222222,
              "#7201a8"
             ],
             [
              0.3333333333333333,
              "#9c179e"
             ],
             [
              0.4444444444444444,
              "#bd3786"
             ],
             [
              0.5555555555555556,
              "#d8576b"
             ],
             [
              0.6666666666666666,
              "#ed7953"
             ],
             [
              0.7777777777777778,
              "#fb9f3a"
             ],
             [
              0.8888888888888888,
              "#fdca26"
             ],
             [
              1,
              "#f0f921"
             ]
            ],
            "type": "histogram2d"
           }
          ],
          "histogram2dcontour": [
           {
            "colorbar": {
             "outlinewidth": 0,
             "ticks": ""
            },
            "colorscale": [
             [
              0,
              "#0d0887"
             ],
             [
              0.1111111111111111,
              "#46039f"
             ],
             [
              0.2222222222222222,
              "#7201a8"
             ],
             [
              0.3333333333333333,
              "#9c179e"
             ],
             [
              0.4444444444444444,
              "#bd3786"
             ],
             [
              0.5555555555555556,
              "#d8576b"
             ],
             [
              0.6666666666666666,
              "#ed7953"
             ],
             [
              0.7777777777777778,
              "#fb9f3a"
             ],
             [
              0.8888888888888888,
              "#fdca26"
             ],
             [
              1,
              "#f0f921"
             ]
            ],
            "type": "histogram2dcontour"
           }
          ],
          "mesh3d": [
           {
            "colorbar": {
             "outlinewidth": 0,
             "ticks": ""
            },
            "type": "mesh3d"
           }
          ],
          "parcoords": [
           {
            "line": {
             "colorbar": {
              "outlinewidth": 0,
              "ticks": ""
             }
            },
            "type": "parcoords"
           }
          ],
          "pie": [
           {
            "automargin": true,
            "type": "pie"
           }
          ],
          "scatter": [
           {
            "marker": {
             "colorbar": {
              "outlinewidth": 0,
              "ticks": ""
             }
            },
            "type": "scatter"
           }
          ],
          "scatter3d": [
           {
            "line": {
             "colorbar": {
              "outlinewidth": 0,
              "ticks": ""
             }
            },
            "marker": {
             "colorbar": {
              "outlinewidth": 0,
              "ticks": ""
             }
            },
            "type": "scatter3d"
           }
          ],
          "scattercarpet": [
           {
            "marker": {
             "colorbar": {
              "outlinewidth": 0,
              "ticks": ""
             }
            },
            "type": "scattercarpet"
           }
          ],
          "scattergeo": [
           {
            "marker": {
             "colorbar": {
              "outlinewidth": 0,
              "ticks": ""
             }
            },
            "type": "scattergeo"
           }
          ],
          "scattergl": [
           {
            "marker": {
             "colorbar": {
              "outlinewidth": 0,
              "ticks": ""
             }
            },
            "type": "scattergl"
           }
          ],
          "scattermapbox": [
           {
            "marker": {
             "colorbar": {
              "outlinewidth": 0,
              "ticks": ""
             }
            },
            "type": "scattermapbox"
           }
          ],
          "scatterpolar": [
           {
            "marker": {
             "colorbar": {
              "outlinewidth": 0,
              "ticks": ""
             }
            },
            "type": "scatterpolar"
           }
          ],
          "scatterpolargl": [
           {
            "marker": {
             "colorbar": {
              "outlinewidth": 0,
              "ticks": ""
             }
            },
            "type": "scatterpolargl"
           }
          ],
          "scatterternary": [
           {
            "marker": {
             "colorbar": {
              "outlinewidth": 0,
              "ticks": ""
             }
            },
            "type": "scatterternary"
           }
          ],
          "surface": [
           {
            "colorbar": {
             "outlinewidth": 0,
             "ticks": ""
            },
            "colorscale": [
             [
              0,
              "#0d0887"
             ],
             [
              0.1111111111111111,
              "#46039f"
             ],
             [
              0.2222222222222222,
              "#7201a8"
             ],
             [
              0.3333333333333333,
              "#9c179e"
             ],
             [
              0.4444444444444444,
              "#bd3786"
             ],
             [
              0.5555555555555556,
              "#d8576b"
             ],
             [
              0.6666666666666666,
              "#ed7953"
             ],
             [
              0.7777777777777778,
              "#fb9f3a"
             ],
             [
              0.8888888888888888,
              "#fdca26"
             ],
             [
              1,
              "#f0f921"
             ]
            ],
            "type": "surface"
           }
          ],
          "table": [
           {
            "cells": {
             "fill": {
              "color": "#EBF0F8"
             },
             "line": {
              "color": "white"
             }
            },
            "header": {
             "fill": {
              "color": "#C8D4E3"
             },
             "line": {
              "color": "white"
             }
            },
            "type": "table"
           }
          ]
         },
         "layout": {
          "annotationdefaults": {
           "arrowcolor": "#2a3f5f",
           "arrowhead": 0,
           "arrowwidth": 1
          },
          "autotypenumbers": "strict",
          "coloraxis": {
           "colorbar": {
            "outlinewidth": 0,
            "ticks": ""
           }
          },
          "colorscale": {
           "diverging": [
            [
             0,
             "#8e0152"
            ],
            [
             0.1,
             "#c51b7d"
            ],
            [
             0.2,
             "#de77ae"
            ],
            [
             0.3,
             "#f1b6da"
            ],
            [
             0.4,
             "#fde0ef"
            ],
            [
             0.5,
             "#f7f7f7"
            ],
            [
             0.6,
             "#e6f5d0"
            ],
            [
             0.7,
             "#b8e186"
            ],
            [
             0.8,
             "#7fbc41"
            ],
            [
             0.9,
             "#4d9221"
            ],
            [
             1,
             "#276419"
            ]
           ],
           "sequential": [
            [
             0,
             "#0d0887"
            ],
            [
             0.1111111111111111,
             "#46039f"
            ],
            [
             0.2222222222222222,
             "#7201a8"
            ],
            [
             0.3333333333333333,
             "#9c179e"
            ],
            [
             0.4444444444444444,
             "#bd3786"
            ],
            [
             0.5555555555555556,
             "#d8576b"
            ],
            [
             0.6666666666666666,
             "#ed7953"
            ],
            [
             0.7777777777777778,
             "#fb9f3a"
            ],
            [
             0.8888888888888888,
             "#fdca26"
            ],
            [
             1,
             "#f0f921"
            ]
           ],
           "sequentialminus": [
            [
             0,
             "#0d0887"
            ],
            [
             0.1111111111111111,
             "#46039f"
            ],
            [
             0.2222222222222222,
             "#7201a8"
            ],
            [
             0.3333333333333333,
             "#9c179e"
            ],
            [
             0.4444444444444444,
             "#bd3786"
            ],
            [
             0.5555555555555556,
             "#d8576b"
            ],
            [
             0.6666666666666666,
             "#ed7953"
            ],
            [
             0.7777777777777778,
             "#fb9f3a"
            ],
            [
             0.8888888888888888,
             "#fdca26"
            ],
            [
             1,
             "#f0f921"
            ]
           ]
          },
          "colorway": [
           "#636efa",
           "#EF553B",
           "#00cc96",
           "#ab63fa",
           "#FFA15A",
           "#19d3f3",
           "#FF6692",
           "#B6E880",
           "#FF97FF",
           "#FECB52"
          ],
          "font": {
           "color": "#2a3f5f"
          },
          "geo": {
           "bgcolor": "white",
           "lakecolor": "white",
           "landcolor": "#E5ECF6",
           "showlakes": true,
           "showland": true,
           "subunitcolor": "white"
          },
          "hoverlabel": {
           "align": "left"
          },
          "hovermode": "closest",
          "mapbox": {
           "style": "light"
          },
          "paper_bgcolor": "white",
          "plot_bgcolor": "#E5ECF6",
          "polar": {
           "angularaxis": {
            "gridcolor": "white",
            "linecolor": "white",
            "ticks": ""
           },
           "bgcolor": "#E5ECF6",
           "radialaxis": {
            "gridcolor": "white",
            "linecolor": "white",
            "ticks": ""
           }
          },
          "scene": {
           "xaxis": {
            "backgroundcolor": "#E5ECF6",
            "gridcolor": "white",
            "gridwidth": 2,
            "linecolor": "white",
            "showbackground": true,
            "ticks": "",
            "zerolinecolor": "white"
           },
           "yaxis": {
            "backgroundcolor": "#E5ECF6",
            "gridcolor": "white",
            "gridwidth": 2,
            "linecolor": "white",
            "showbackground": true,
            "ticks": "",
            "zerolinecolor": "white"
           },
           "zaxis": {
            "backgroundcolor": "#E5ECF6",
            "gridcolor": "white",
            "gridwidth": 2,
            "linecolor": "white",
            "showbackground": true,
            "ticks": "",
            "zerolinecolor": "white"
           }
          },
          "shapedefaults": {
           "line": {
            "color": "#2a3f5f"
           }
          },
          "ternary": {
           "aaxis": {
            "gridcolor": "white",
            "linecolor": "white",
            "ticks": ""
           },
           "baxis": {
            "gridcolor": "white",
            "linecolor": "white",
            "ticks": ""
           },
           "bgcolor": "#E5ECF6",
           "caxis": {
            "gridcolor": "white",
            "linecolor": "white",
            "ticks": ""
           }
          },
          "title": {
           "x": 0.05
          },
          "xaxis": {
           "automargin": true,
           "gridcolor": "white",
           "linecolor": "white",
           "ticks": "",
           "title": {
            "standoff": 15
           },
           "zerolinecolor": "white",
           "zerolinewidth": 2
          },
          "yaxis": {
           "automargin": true,
           "gridcolor": "white",
           "linecolor": "white",
           "ticks": "",
           "title": {
            "standoff": 15
           },
           "zerolinecolor": "white",
           "zerolinewidth": 2
          }
         }
        },
        "title": {
         "text": "How Much Can Paid Apps Earn?"
        },
        "xaxis": {
         "anchor": "y",
         "categoryorder": "min ascending",
         "domain": [
          0,
          1
         ],
         "title": {
          "text": "Category"
         }
        },
        "yaxis": {
         "anchor": "x",
         "domain": [
          0,
          1
         ],
         "title": {
          "text": "Paid App Ballpark Revenue"
         },
         "type": "log"
        }
       }
      },
      "text/html": [
       "<div>                            <div id=\"8b4e8710-aad3-41c8-8ef2-e51bdda58b2c\" class=\"plotly-graph-div\" style=\"height:525px; width:100%;\"></div>            <script type=\"text/javascript\">                require([\"plotly\"], function(Plotly) {                    window.PLOTLYENV=window.PLOTLYENV || {};                                    if (document.getElementById(\"8b4e8710-aad3-41c8-8ef2-e51bdda58b2c\")) {                    Plotly.newPlot(                        \"8b4e8710-aad3-41c8-8ef2-e51bdda58b2c\",                        [{\"alignmentgroup\":\"True\",\"hovertemplate\":\"Category=%{x}<br>Revenue_Estimate=%{y}<extra></extra>\",\"legendgroup\":\"\",\"marker\":{\"color\":\"#636efa\"},\"name\":\"\",\"notched\":false,\"offsetgroup\":\"\",\"orientation\":\"v\",\"showlegend\":false,\"type\":\"box\",\"x\":[\"GAME\",\"GAME\",\"FAMILY\",\"BUSINESS\",\"LIFESTYLE\",\"FAMILY\",\"PERSONALIZATION\",\"PHOTOGRAPHY\",\"FAMILY\",\"GAME\",\"PRODUCTIVITY\",\"PHOTOGRAPHY\",\"FAMILY\",\"TOOLS\",\"TOOLS\",\"PERSONALIZATION\",\"FAMILY\",\"FAMILY\",\"FAMILY\",\"FAMILY\",\"GAME\",\"TOOLS\",\"PERSONALIZATION\",\"PERSONALIZATION\",\"PERSONALIZATION\",\"TOOLS\",\"FAMILY\",\"FAMILY\",\"BUSINESS\",\"BOOKS_AND_REFERENCE\",\"FAMILY\",\"FAMILY\",\"FAMILY\",\"PERSONALIZATION\",\"PERSONALIZATION\",\"PERSONALIZATION\",\"GAME\",\"PERSONALIZATION\",\"FAMILY\",\"FINANCE\",\"SHOPPING\",\"DATING\",\"PERSONALIZATION\",\"GAME\",\"FAMILY\",\"PRODUCTIVITY\",\"FAMILY\",\"MEDICAL\",\"SPORTS\",\"MEDICAL\",\"PRODUCTIVITY\",\"BUSINESS\",\"PARENTING\",\"LIFESTYLE\",\"FAMILY\",\"TOOLS\",\"MAPS_AND_NAVIGATION\",\"COMMUNICATION\",\"PERSONALIZATION\",\"COMMUNICATION\",\"FAMILY\",\"PERSONALIZATION\",\"FAMILY\",\"FAMILY\",\"FAMILY\",\"TOOLS\",\"FAMILY\",\"SPORTS\",\"FAMILY\",\"MEDICAL\",\"FAMILY\",\"FAMILY\",\"GAME\",\"TOOLS\",\"FAMILY\",\"FAMILY\",\"PERSONALIZATION\",\"BOOKS_AND_REFERENCE\",\"GAME\",\"PERSONALIZATION\",\"GAME\",\"GAME\",\"TOOLS\",\"MEDICAL\",\"TOOLS\",\"TOOLS\",\"PERSONALIZATION\",\"GAME\",\"COMMUNICATION\",\"MEDICAL\",\"SPORTS\",\"PERSONALIZATION\",\"COMMUNICATION\",\"COMMUNICATION\",\"PERSONALIZATION\",\"TOOLS\",\"PERSONALIZATION\",\"PERSONALIZATION\",\"PRODUCTIVITY\",\"MEDICAL\",\"FAMILY\",\"TOOLS\",\"TOOLS\",\"BUSINESS\",\"COMMUNICATION\",\"FAMILY\",\"PERSONALIZATION\",\"PHOTOGRAPHY\",\"MEDICAL\",\"PERSONALIZATION\",\"MEDICAL\",\"COMMUNICATION\",\"PRODUCTIVITY\",\"BOOKS_AND_REFERENCE\",\"TOOLS\",\"WEATHER\",\"FAMILY\",\"FAMILY\",\"MEDICAL\",\"FAMILY\",\"TOOLS\",\"TOOLS\",\"SPORTS\",\"GAME\",\"MEDICAL\",\"PERSONALIZATION\",\"PERSONALIZATION\",\"NEWS_AND_MAGAZINES\",\"COMMUNICATION\",\"TOOLS\",\"MEDICAL\",\"FINANCE\",\"FAMILY\",\"PERSONALIZATION\",\"PERSONALIZATION\",\"MEDICAL\",\"FAMILY\",\"MEDICAL\",\"MEDICAL\",\"FAMILY\",\"FAMILY\",\"FAMILY\",\"GAME\",\"PERSONALIZATION\",\"TOOLS\",\"PERSONALIZATION\",\"GAME\",\"GAME\",\"GAME\",\"FAMILY\",\"FAMILY\",\"PRODUCTIVITY\",\"COMMUNICATION\",\"SPORTS\",\"SPORTS\",\"FAMILY\",\"PERSONALIZATION\",\"MEDICAL\",\"SPORTS\",\"COMMUNICATION\",\"LIFESTYLE\",\"FAMILY\",\"MEDICAL\",\"MEDICAL\",\"TOOLS\",\"PRODUCTIVITY\",\"FINANCE\",\"HEALTH_AND_FITNESS\",\"MEDICAL\",\"PHOTOGRAPHY\",\"FAMILY\",\"FAMILY\",\"PHOTOGRAPHY\",\"SPORTS\",\"ART_AND_DESIGN\",\"FAMILY\",\"PERSONALIZATION\",\"PRODUCTIVITY\",\"HEALTH_AND_FITNESS\",\"MEDICAL\",\"TOOLS\",\"PRODUCTIVITY\",\"GAME\",\"TOOLS\",\"MEDICAL\",\"LIFESTYLE\",\"GAME\",\"MEDICAL\",\"TRAVEL_AND_LOCAL\",\"BUSINESS\",\"MEDICAL\",\"COMMUNICATION\",\"PERSONALIZATION\",\"GAME\",\"TRAVEL_AND_LOCAL\",\"GAME\",\"SPORTS\",\"MEDICAL\",\"FAMILY\",\"MEDICAL\",\"TOOLS\",\"BOOKS_AND_REFERENCE\",\"FAMILY\",\"MEDICAL\",\"MEDICAL\",\"GAME\",\"BUSINESS\",\"TOOLS\",\"FAMILY\",\"MEDICAL\",\"PERSONALIZATION\",\"PHOTOGRAPHY\",\"SPORTS\",\"MAPS_AND_NAVIGATION\",\"PERSONALIZATION\",\"GAME\",\"BOOKS_AND_REFERENCE\",\"EDUCATION\",\"FAMILY\",\"FAMILY\",\"SOCIAL\",\"MEDICAL\",\"TOOLS\",\"SPORTS\",\"FAMILY\",\"FAMILY\",\"TOOLS\",\"WEATHER\",\"VIDEO_PLAYERS\",\"MEDICAL\",\"TOOLS\",\"GAME\",\"PERSONALIZATION\",\"MEDICAL\",\"LIFESTYLE\",\"MEDICAL\",\"DATING\",\"HEALTH_AND_FITNESS\",\"MEDICAL\",\"FAMILY\",\"PRODUCTIVITY\",\"EDUCATION\",\"SPORTS\",\"FAMILY\",\"PERSONALIZATION\",\"PERSONALIZATION\",\"FAMILY\",\"GAME\",\"FINANCE\",\"GAME\",\"MEDICAL\",\"FAMILY\",\"MEDICAL\",\"MEDICAL\",\"TOOLS\",\"TOOLS\",\"TOOLS\",\"TOOLS\",\"PERSONALIZATION\",\"PERSONALIZATION\",\"PERSONALIZATION\",\"PERSONALIZATION\",\"FAMILY\",\"GAME\",\"FAMILY\",\"FAMILY\",\"MEDICAL\",\"SPORTS\",\"LIFESTYLE\",\"FAMILY\",\"FAMILY\",\"TRAVEL_AND_LOCAL\",\"PERSONALIZATION\",\"BOOKS_AND_REFERENCE\",\"FAMILY\",\"MEDICAL\",\"MEDICAL\",\"MEDICAL\",\"MEDICAL\",\"PRODUCTIVITY\",\"SOCIAL\",\"SPORTS\",\"TRAVEL_AND_LOCAL\",\"TOOLS\",\"FAMILY\",\"NEWS_AND_MAGAZINES\",\"ART_AND_DESIGN\",\"GAME\",\"PERSONALIZATION\",\"LIFESTYLE\",\"PERSONALIZATION\",\"LIFESTYLE\",\"MEDICAL\",\"FAMILY\",\"FAMILY\",\"BOOKS_AND_REFERENCE\",\"LIFESTYLE\",\"MEDICAL\",\"MEDICAL\",\"TOOLS\",\"SPORTS\",\"MEDICAL\",\"PHOTOGRAPHY\",\"GAME\",\"SPORTS\",\"FAMILY\",\"SPORTS\",\"TOOLS\",\"LIFESTYLE\",\"FAMILY\",\"COMMUNICATION\",\"COMMUNICATION\",\"COMMUNICATION\",\"FAMILY\",\"FAMILY\",\"TOOLS\",\"MEDICAL\",\"TOOLS\",\"TOOLS\",\"TOOLS\",\"TOOLS\",\"TOOLS\",\"TOOLS\",\"PERSONALIZATION\",\"FAMILY\",\"MEDICAL\",\"MEDICAL\",\"MEDICAL\",\"HEALTH_AND_FITNESS\",\"GAME\",\"FAMILY\",\"FAMILY\",\"PHOTOGRAPHY\",\"PERSONALIZATION\",\"LIFESTYLE\",\"GAME\",\"FAMILY\",\"MEDICAL\",\"FAMILY\",\"BUSINESS\",\"GAME\",\"FAMILY\",\"MEDICAL\",\"FAMILY\",\"MAPS_AND_NAVIGATION\",\"BOOKS_AND_REFERENCE\",\"GAME\",\"PERSONALIZATION\",\"PERSONALIZATION\",\"COMMUNICATION\",\"DATING\",\"FOOD_AND_DRINK\",\"LIFESTYLE\",\"FAMILY\",\"FAMILY\",\"MEDICAL\",\"TRAVEL_AND_LOCAL\",\"TOOLS\",\"TOOLS\",\"TOOLS\",\"PERSONALIZATION\",\"VIDEO_PLAYERS\",\"VIDEO_PLAYERS\",\"GAME\",\"FAMILY\",\"FAMILY\",\"FAMILY\",\"FAMILY\",\"PERSONALIZATION\",\"WEATHER\",\"TOOLS\",\"PERSONALIZATION\",\"TOOLS\",\"ART_AND_DESIGN\",\"PERSONALIZATION\",\"PERSONALIZATION\",\"MEDICAL\",\"TOOLS\",\"FAMILY\",\"FINANCE\",\"TOOLS\",\"GAME\",\"FAMILY\",\"FAMILY\",\"TOOLS\",\"TOOLS\",\"GAME\",\"TOOLS\",\"HEALTH_AND_FITNESS\",\"GAME\",\"MEDICAL\",\"COMMUNICATION\",\"FAMILY\",\"GAME\",\"FAMILY\",\"MEDICAL\",\"PERSONALIZATION\",\"FAMILY\",\"SPORTS\",\"FAMILY\",\"TRAVEL_AND_LOCAL\",\"TOOLS\",\"SHOPPING\",\"TOOLS\",\"FAMILY\",\"FAMILY\",\"FAMILY\",\"FAMILY\",\"FAMILY\",\"FAMILY\",\"GAME\",\"MAPS_AND_NAVIGATION\",\"PERSONALIZATION\",\"GAME\",\"FAMILY\",\"FAMILY\",\"FINANCE\",\"TOOLS\",\"TOOLS\",\"FAMILY\",\"FAMILY\",\"MEDICAL\",\"GAME\",\"FAMILY\",\"COMMUNICATION\",\"COMMUNICATION\",\"FAMILY\",\"FAMILY\",\"MEDICAL\",\"MEDICAL\",\"MEDICAL\",\"PHOTOGRAPHY\",\"TOOLS\",\"TOOLS\",\"PERSONALIZATION\",\"PERSONALIZATION\",\"FAMILY\",\"GAME\",\"SPORTS\",\"MEDICAL\",\"GAME\",\"FAMILY\",\"AUTO_AND_VEHICLES\",\"HEALTH_AND_FITNESS\",\"FAMILY\",\"FAMILY\",\"MEDICAL\",\"PHOTOGRAPHY\",\"SPORTS\",\"TOOLS\",\"VIDEO_PLAYERS\",\"FAMILY\",\"FAMILY\",\"PRODUCTIVITY\",\"PERSONALIZATION\",\"PRODUCTIVITY\",\"PERSONALIZATION\",\"FAMILY\",\"FAMILY\",\"GAME\",\"MEDICAL\",\"FAMILY\",\"FAMILY\",\"FOOD_AND_DRINK\",\"FAMILY\",\"FAMILY\",\"FAMILY\",\"TOOLS\",\"HEALTH_AND_FITNESS\",\"PARENTING\",\"FAMILY\",\"GAME\",\"HEALTH_AND_FITNESS\",\"TRAVEL_AND_LOCAL\",\"GAME\",\"WEATHER\",\"FAMILY\",\"MEDICAL\",\"GAME\",\"GAME\",\"MEDICAL\",\"PERSONALIZATION\",\"FAMILY\",\"FAMILY\",\"FAMILY\",\"FAMILY\",\"GAME\",\"PHOTOGRAPHY\",\"FAMILY\",\"BUSINESS\",\"FAMILY\",\"GAME\",\"FAMILY\",\"FAMILY\",\"WEATHER\",\"EDUCATION\",\"COMMUNICATION\",\"ENTERTAINMENT\",\"HEALTH_AND_FITNESS\",\"HEALTH_AND_FITNESS\",\"GAME\",\"GAME\",\"FAMILY\",\"FAMILY\",\"FAMILY\",\"PHOTOGRAPHY\",\"SPORTS\",\"TRAVEL_AND_LOCAL\",\"TOOLS\",\"TOOLS\",\"PERSONALIZATION\",\"PERSONALIZATION\",\"PRODUCTIVITY\",\"PRODUCTIVITY\",\"MAPS_AND_NAVIGATION\",\"GAME\",\"GAME\",\"PRODUCTIVITY\",\"TOOLS\",\"WEATHER\",\"FAMILY\",\"GAME\",\"FAMILY\",\"GAME\",\"TOOLS\",\"GAME\",\"FAMILY\",\"FAMILY\",\"HEALTH_AND_FITNESS\",\"FAMILY\",\"GAME\",\"FAMILY\",\"PERSONALIZATION\",\"BUSINESS\",\"FINANCE\",\"FAMILY\",\"PHOTOGRAPHY\",\"GAME\",\"FAMILY\",\"FAMILY\",\"FAMILY\",\"FAMILY\",\"GAME\",\"FAMILY\",\"GAME\",\"COMMUNICATION\",\"FAMILY\",\"ENTERTAINMENT\",\"COMMUNICATION\",\"GAME\",\"GAME\",\"GAME\",\"GAME\",\"GAME\",\"GAME\",\"PERSONALIZATION\",\"FAMILY\",\"PERSONALIZATION\",\"FAMILY\",\"EDUCATION\",\"WEATHER\",\"PHOTOGRAPHY\",\"PRODUCTIVITY\",\"GAME\",\"FAMILY\",\"FAMILY\",\"PRODUCTIVITY\",\"PERSONALIZATION\",\"GAME\",\"GAME\",\"FAMILY\",\"COMMUNICATION\",\"TOOLS\",\"GAME\",\"PERSONALIZATION\",\"PHOTOGRAPHY\",\"SPORTS\",\"GAME\",\"FAMILY\",\"GAME\",\"GAME\",\"FAMILY\",\"GAME\",\"FAMILY\",\"GAME\",\"LIFESTYLE\",\"FAMILY\",\"GAME\",\"FAMILY\"],\"x0\":\" \",\"xaxis\":\"x\",\"y\":[1.49,0.99,149.9,24.900000000000002,30.4,14.9,9.9,34.900000000000006,29.900000000000002,9.9,9.9,49.900000000000006,9.9,29.900000000000002,9.9,9.9,299.9,199.89999999999998,49.900000000000006,49.900000000000006,99.5,149.5,49.5,49.5,49.5,88.0,149.5,149.5,449.5,87.5,74.5,74.5,49.5,49.5,99.0,99.0,99.0,99.0,1299.0,499.0,249.00000000000003,799.0,199.0,499.0,99.0,499.0,399.0,299.0,388.0,299.0,299.0,1299.0,459.0,99.0,999.0,399.0,999.0,149.0,149.0,149.0,149.0,99.0,299.0,199.0,499.0,149.0,99.0,349.0,199.0,1299.0,99.0,99.0,99.0,199.0,499.0,399.0,99.0,399.0,1400.0,149.0,449.0,199.0,99.0,699.0,599.0,399.0,249.00000000000003,99.0,149.0,3999.0,302.0,149.0,149.0,99.0,99.0,499.0,149.0,99.0,649.0,2995.0,1495.0,1995.0,495.0,8995.0,495.0,995.0,745.0,745.0,1995.0,745.0,1495.0,2495.0,4495.0,495.0,495.0,995.0,1245.0,2495.0,495.0,995.0,995.0,495.0,1495.0,2245.0,1745.0,1000.0,745.0,1495.0,1995.0,1995.0,7995.0,1995.0,1495.0,745.0,495.0,9990.0,2990.0,4990.0,9990.0,2490.0,10990.0,2990.0,990.0,1990.0,1990.0,990.0,3990.0,1610.0,990.0,1990.0,2490.0,4290.0,990.0,3990.0,990.0,2990.0,1490.0,15460.0,1990.0,2990.0,4990.0,7490.0,3990.0,5490.0,2490.0,2990.0,1990.0,4990.0,4990.0,19990.0,2990.0,1990.0,9990.0,990.0,1990.0,2990.0,1700.0,990.0,7990.0,29990.0,2990.0,7990.0,990.0,1490.0,2990.0,4990.0,2490.0,79990.0,2560.0,3990.0,19990.0,2490.0,990.0,990.0,8490.0,6990.0,2990.0,990.0,2990.0,1500.0,4990.0,1990.0,4840.0,14990.0,29990.0,4990.0,4990.0,3990.0,19400.0,33990.0,1490.0,2990.0,2990.0,990.0,990.0,1990.0,3080.0,5990.0,3990.0,2990.0,990.0,1990.0,5990.0,2490.0,990.0,990.0,990.0,6990.0,990.0,16990.0,990.0,3490.0,1700.0,3990.0,37990.0,9990.0,6990.0,1990.0,3990.0,10000.0,1290.0,3990.0,4490.0,2990.0,2490.0,990.0,4990.0,990.0,3990.0,1990.0,7490.0,990.0,10990.0,5990.0,990.0,1490.0,14990.0,4990.0,4990.0,990.0,4990.0,3990.0,24950.0,4950.0,22450.0,29950.0,19950.0,9950.0,19950.0,24950.0,9950.0,19950.0,4950.0,14950.000000000002,7450.0,12450.000000000002,19950.0,19950.0,19950.0,19950.0,4950.0,9950.0,14950.000000000002,4950.0,14950.000000000002,4950.0,9950.0,34950.0,9950.0,4950.0,7450.0,14950.000000000002,29950.0,14950.000000000002,14950.000000000002,23000.0,9950.0,74950.0,4950.0,4950.0,4950.0,14950.000000000002,14950.000000000002,9950.0,14950.000000000002,24950.0,5000.0,74950.0,12450.000000000002,4950.0,24950.0,4950.0,7450.0,19950.0,14950.000000000002,24950.0,19950.0,24950.0,24950.0,24950.0,24950.0,24950.0,5000.0,34950.0,29900.000000000004,99900.0,249899.99999999997,29900.000000000004,39900.0,9900.0,39900.0,39900.0,19900.0,9900.0,79900.0,49900.0,29900.000000000004,100000.0,29900.000000000004,29900.000000000004,29900.000000000004,149900.0,79900.0,129900.0,9900.0,44900.0,169899.99999999997,9900.0,9900.0,49900.0,39900.0,34900.0,24900.000000000004,29900.000000000004,14900.0,69900.0,19900.0,25000.0,39000.0,29500.0,9900.0,14900.0,19900.0,79900.0,29900.000000000004,29900.000000000004,49900.0,19900.0,9900.0,29900.000000000004,29900.000000000004,19900.0,19700.0,19900.0,99900.0,29900.000000000004,54900.0,32800.0,9900.0,29900.000000000004,49900.0,29900.000000000004,149900.0,29900.000000000004,29900.000000000004,29900.000000000004,179899.99999999997,9900.0,69900.0,49900.0,39900.0,29900.000000000004,29900.000000000004,49900.0,12000.0,29900.000000000004,19900.0,49900.0,49900.0,9900.0,59900.0,25900.0,29900.000000000004,19900.0,39900.0,49900.0,39900.0,29900.000000000004,49900.0,29900.000000000004,49900.0,29900.000000000004,9900.0,39900.0,24900.000000000004,9900.0,189899.99999999997,19900.0,19900.0,15900.0,39900.0,119900.0,19900.0,19900.0,29900.000000000004,9900.0,99900.0,39900.0,9900.0,29900.000000000004,19900.0,49900.0,19900.0,29900.000000000004,9900.0,19900.0,49500.0,49500.0,1499500.0,149500.0,99500.0,149500.0,99500.0,99500.0,149500.0,249500.0,199500.0,99500.0,199500.0,149500.0,299500.0,999499.9999999999,499500.0,149500.0,124500.00000000001,74500.0,49500.0,149500.0,149500.0,99500.0,599500.0,249500.0,199500.0,249500.0,149500.0,149500.0,238499.99999999997,149500.0,149500.0,249500.0,249500.0,249500.0,99500.0,124500.00000000001,249500.0,399000.0,399000.0,2499000.0,499000.0,99000.0,900000.0,99000.0,299000.0,299000.0,299000.0,999000.0,299000.0,149000.0,1499000.0,499000.0,799000.0,199000.0,99000.0,99000.0,449000.0,399000.0,399000.0,499000.0,299000.0,299000.0,299000.0,299000.0,399000.0,499000.0,499000.0,395000.0,899000.0,899000.0,249000.00000000003,399000.0,449000.0,199000.0,599000.0,499000.0,1199000.0,499000.0,999000.0,449000.0,349000.0,299000.0,499000.0,499000.0,499000.0,199000.0,449000.0,399000.0,299000.0,1399000.0,349000.0,999000.0,499000.0,299000.0,299000.0,499000.0,299000.0,299000.0,299000.0,299000.0,299000.0,999000.0,99000.0,199000.0,299000.0,149000.0,699000.0,290000.0,299000.0,299000.0,399000.0,299000.0,499000.0,299000.0,299000.0,199000.0,599000.0,499000.0,1495000.0,1245000.0,495000.0,1995000.0,2995000.0,1495000.0,1495000.0,995000.0,1495000.0,2495000.0,995000.0,2490000.0,990000.0,4990000.0,2990000.0,2990000.0,2990000.0,6990000.0,990000.0,5990000.0,1990000.0,2990000.0,990000.0,990000.0,990000.0,990000.0,990000.0,2990000.0,990000.0,5990000.0,1990000.0,9900000.0,69900000.0],\"y0\":\" \",\"yaxis\":\"y\"}],                        {\"boxmode\":\"group\",\"legend\":{\"tracegroupgap\":0},\"template\":{\"data\":{\"bar\":[{\"error_x\":{\"color\":\"#2a3f5f\"},\"error_y\":{\"color\":\"#2a3f5f\"},\"marker\":{\"line\":{\"color\":\"#E5ECF6\",\"width\":0.5},\"pattern\":{\"fillmode\":\"overlay\",\"size\":10,\"solidity\":0.2}},\"type\":\"bar\"}],\"barpolar\":[{\"marker\":{\"line\":{\"color\":\"#E5ECF6\",\"width\":0.5},\"pattern\":{\"fillmode\":\"overlay\",\"size\":10,\"solidity\":0.2}},\"type\":\"barpolar\"}],\"carpet\":[{\"aaxis\":{\"endlinecolor\":\"#2a3f5f\",\"gridcolor\":\"white\",\"linecolor\":\"white\",\"minorgridcolor\":\"white\",\"startlinecolor\":\"#2a3f5f\"},\"baxis\":{\"endlinecolor\":\"#2a3f5f\",\"gridcolor\":\"white\",\"linecolor\":\"white\",\"minorgridcolor\":\"white\",\"startlinecolor\":\"#2a3f5f\"},\"type\":\"carpet\"}],\"choropleth\":[{\"colorbar\":{\"outlinewidth\":0,\"ticks\":\"\"},\"type\":\"choropleth\"}],\"contour\":[{\"colorbar\":{\"outlinewidth\":0,\"ticks\":\"\"},\"colorscale\":[[0.0,\"#0d0887\"],[0.1111111111111111,\"#46039f\"],[0.2222222222222222,\"#7201a8\"],[0.3333333333333333,\"#9c179e\"],[0.4444444444444444,\"#bd3786\"],[0.5555555555555556,\"#d8576b\"],[0.6666666666666666,\"#ed7953\"],[0.7777777777777778,\"#fb9f3a\"],[0.8888888888888888,\"#fdca26\"],[1.0,\"#f0f921\"]],\"type\":\"contour\"}],\"contourcarpet\":[{\"colorbar\":{\"outlinewidth\":0,\"ticks\":\"\"},\"type\":\"contourcarpet\"}],\"heatmap\":[{\"colorbar\":{\"outlinewidth\":0,\"ticks\":\"\"},\"colorscale\":[[0.0,\"#0d0887\"],[0.1111111111111111,\"#46039f\"],[0.2222222222222222,\"#7201a8\"],[0.3333333333333333,\"#9c179e\"],[0.4444444444444444,\"#bd3786\"],[0.5555555555555556,\"#d8576b\"],[0.6666666666666666,\"#ed7953\"],[0.7777777777777778,\"#fb9f3a\"],[0.8888888888888888,\"#fdca26\"],[1.0,\"#f0f921\"]],\"type\":\"heatmap\"}],\"heatmapgl\":[{\"colorbar\":{\"outlinewidth\":0,\"ticks\":\"\"},\"colorscale\":[[0.0,\"#0d0887\"],[0.1111111111111111,\"#46039f\"],[0.2222222222222222,\"#7201a8\"],[0.3333333333333333,\"#9c179e\"],[0.4444444444444444,\"#bd3786\"],[0.5555555555555556,\"#d8576b\"],[0.6666666666666666,\"#ed7953\"],[0.7777777777777778,\"#fb9f3a\"],[0.8888888888888888,\"#fdca26\"],[1.0,\"#f0f921\"]],\"type\":\"heatmapgl\"}],\"histogram\":[{\"marker\":{\"pattern\":{\"fillmode\":\"overlay\",\"size\":10,\"solidity\":0.2}},\"type\":\"histogram\"}],\"histogram2d\":[{\"colorbar\":{\"outlinewidth\":0,\"ticks\":\"\"},\"colorscale\":[[0.0,\"#0d0887\"],[0.1111111111111111,\"#46039f\"],[0.2222222222222222,\"#7201a8\"],[0.3333333333333333,\"#9c179e\"],[0.4444444444444444,\"#bd3786\"],[0.5555555555555556,\"#d8576b\"],[0.6666666666666666,\"#ed7953\"],[0.7777777777777778,\"#fb9f3a\"],[0.8888888888888888,\"#fdca26\"],[1.0,\"#f0f921\"]],\"type\":\"histogram2d\"}],\"histogram2dcontour\":[{\"colorbar\":{\"outlinewidth\":0,\"ticks\":\"\"},\"colorscale\":[[0.0,\"#0d0887\"],[0.1111111111111111,\"#46039f\"],[0.2222222222222222,\"#7201a8\"],[0.3333333333333333,\"#9c179e\"],[0.4444444444444444,\"#bd3786\"],[0.5555555555555556,\"#d8576b\"],[0.6666666666666666,\"#ed7953\"],[0.7777777777777778,\"#fb9f3a\"],[0.8888888888888888,\"#fdca26\"],[1.0,\"#f0f921\"]],\"type\":\"histogram2dcontour\"}],\"mesh3d\":[{\"colorbar\":{\"outlinewidth\":0,\"ticks\":\"\"},\"type\":\"mesh3d\"}],\"parcoords\":[{\"line\":{\"colorbar\":{\"outlinewidth\":0,\"ticks\":\"\"}},\"type\":\"parcoords\"}],\"pie\":[{\"automargin\":true,\"type\":\"pie\"}],\"scatter\":[{\"marker\":{\"colorbar\":{\"outlinewidth\":0,\"ticks\":\"\"}},\"type\":\"scatter\"}],\"scatter3d\":[{\"line\":{\"colorbar\":{\"outlinewidth\":0,\"ticks\":\"\"}},\"marker\":{\"colorbar\":{\"outlinewidth\":0,\"ticks\":\"\"}},\"type\":\"scatter3d\"}],\"scattercarpet\":[{\"marker\":{\"colorbar\":{\"outlinewidth\":0,\"ticks\":\"\"}},\"type\":\"scattercarpet\"}],\"scattergeo\":[{\"marker\":{\"colorbar\":{\"outlinewidth\":0,\"ticks\":\"\"}},\"type\":\"scattergeo\"}],\"scattergl\":[{\"marker\":{\"colorbar\":{\"outlinewidth\":0,\"ticks\":\"\"}},\"type\":\"scattergl\"}],\"scattermapbox\":[{\"marker\":{\"colorbar\":{\"outlinewidth\":0,\"ticks\":\"\"}},\"type\":\"scattermapbox\"}],\"scatterpolar\":[{\"marker\":{\"colorbar\":{\"outlinewidth\":0,\"ticks\":\"\"}},\"type\":\"scatterpolar\"}],\"scatterpolargl\":[{\"marker\":{\"colorbar\":{\"outlinewidth\":0,\"ticks\":\"\"}},\"type\":\"scatterpolargl\"}],\"scatterternary\":[{\"marker\":{\"colorbar\":{\"outlinewidth\":0,\"ticks\":\"\"}},\"type\":\"scatterternary\"}],\"surface\":[{\"colorbar\":{\"outlinewidth\":0,\"ticks\":\"\"},\"colorscale\":[[0.0,\"#0d0887\"],[0.1111111111111111,\"#46039f\"],[0.2222222222222222,\"#7201a8\"],[0.3333333333333333,\"#9c179e\"],[0.4444444444444444,\"#bd3786\"],[0.5555555555555556,\"#d8576b\"],[0.6666666666666666,\"#ed7953\"],[0.7777777777777778,\"#fb9f3a\"],[0.8888888888888888,\"#fdca26\"],[1.0,\"#f0f921\"]],\"type\":\"surface\"}],\"table\":[{\"cells\":{\"fill\":{\"color\":\"#EBF0F8\"},\"line\":{\"color\":\"white\"}},\"header\":{\"fill\":{\"color\":\"#C8D4E3\"},\"line\":{\"color\":\"white\"}},\"type\":\"table\"}]},\"layout\":{\"annotationdefaults\":{\"arrowcolor\":\"#2a3f5f\",\"arrowhead\":0,\"arrowwidth\":1},\"autotypenumbers\":\"strict\",\"coloraxis\":{\"colorbar\":{\"outlinewidth\":0,\"ticks\":\"\"}},\"colorscale\":{\"diverging\":[[0,\"#8e0152\"],[0.1,\"#c51b7d\"],[0.2,\"#de77ae\"],[0.3,\"#f1b6da\"],[0.4,\"#fde0ef\"],[0.5,\"#f7f7f7\"],[0.6,\"#e6f5d0\"],[0.7,\"#b8e186\"],[0.8,\"#7fbc41\"],[0.9,\"#4d9221\"],[1,\"#276419\"]],\"sequential\":[[0.0,\"#0d0887\"],[0.1111111111111111,\"#46039f\"],[0.2222222222222222,\"#7201a8\"],[0.3333333333333333,\"#9c179e\"],[0.4444444444444444,\"#bd3786\"],[0.5555555555555556,\"#d8576b\"],[0.6666666666666666,\"#ed7953\"],[0.7777777777777778,\"#fb9f3a\"],[0.8888888888888888,\"#fdca26\"],[1.0,\"#f0f921\"]],\"sequentialminus\":[[0.0,\"#0d0887\"],[0.1111111111111111,\"#46039f\"],[0.2222222222222222,\"#7201a8\"],[0.3333333333333333,\"#9c179e\"],[0.4444444444444444,\"#bd3786\"],[0.5555555555555556,\"#d8576b\"],[0.6666666666666666,\"#ed7953\"],[0.7777777777777778,\"#fb9f3a\"],[0.8888888888888888,\"#fdca26\"],[1.0,\"#f0f921\"]]},\"colorway\":[\"#636efa\",\"#EF553B\",\"#00cc96\",\"#ab63fa\",\"#FFA15A\",\"#19d3f3\",\"#FF6692\",\"#B6E880\",\"#FF97FF\",\"#FECB52\"],\"font\":{\"color\":\"#2a3f5f\"},\"geo\":{\"bgcolor\":\"white\",\"lakecolor\":\"white\",\"landcolor\":\"#E5ECF6\",\"showlakes\":true,\"showland\":true,\"subunitcolor\":\"white\"},\"hoverlabel\":{\"align\":\"left\"},\"hovermode\":\"closest\",\"mapbox\":{\"style\":\"light\"},\"paper_bgcolor\":\"white\",\"plot_bgcolor\":\"#E5ECF6\",\"polar\":{\"angularaxis\":{\"gridcolor\":\"white\",\"linecolor\":\"white\",\"ticks\":\"\"},\"bgcolor\":\"#E5ECF6\",\"radialaxis\":{\"gridcolor\":\"white\",\"linecolor\":\"white\",\"ticks\":\"\"}},\"scene\":{\"xaxis\":{\"backgroundcolor\":\"#E5ECF6\",\"gridcolor\":\"white\",\"gridwidth\":2,\"linecolor\":\"white\",\"showbackground\":true,\"ticks\":\"\",\"zerolinecolor\":\"white\"},\"yaxis\":{\"backgroundcolor\":\"#E5ECF6\",\"gridcolor\":\"white\",\"gridwidth\":2,\"linecolor\":\"white\",\"showbackground\":true,\"ticks\":\"\",\"zerolinecolor\":\"white\"},\"zaxis\":{\"backgroundcolor\":\"#E5ECF6\",\"gridcolor\":\"white\",\"gridwidth\":2,\"linecolor\":\"white\",\"showbackground\":true,\"ticks\":\"\",\"zerolinecolor\":\"white\"}},\"shapedefaults\":{\"line\":{\"color\":\"#2a3f5f\"}},\"ternary\":{\"aaxis\":{\"gridcolor\":\"white\",\"linecolor\":\"white\",\"ticks\":\"\"},\"baxis\":{\"gridcolor\":\"white\",\"linecolor\":\"white\",\"ticks\":\"\"},\"bgcolor\":\"#E5ECF6\",\"caxis\":{\"gridcolor\":\"white\",\"linecolor\":\"white\",\"ticks\":\"\"}},\"title\":{\"x\":0.05},\"xaxis\":{\"automargin\":true,\"gridcolor\":\"white\",\"linecolor\":\"white\",\"ticks\":\"\",\"title\":{\"standoff\":15},\"zerolinecolor\":\"white\",\"zerolinewidth\":2},\"yaxis\":{\"automargin\":true,\"gridcolor\":\"white\",\"linecolor\":\"white\",\"ticks\":\"\",\"title\":{\"standoff\":15},\"zerolinecolor\":\"white\",\"zerolinewidth\":2}}},\"title\":{\"text\":\"How Much Can Paid Apps Earn?\"},\"xaxis\":{\"anchor\":\"y\",\"categoryorder\":\"min ascending\",\"domain\":[0.0,1.0],\"title\":{\"text\":\"Category\"}},\"yaxis\":{\"anchor\":\"x\",\"domain\":[0.0,1.0],\"title\":{\"text\":\"Paid App Ballpark Revenue\"},\"type\":\"log\"}},                        {\"responsive\": true}                    ).then(function(){\n",
       "                            \n",
       "var gd = document.getElementById('8b4e8710-aad3-41c8-8ef2-e51bdda58b2c');\n",
       "var x = new MutationObserver(function (mutations, observer) {{\n",
       "        var display = window.getComputedStyle(gd).display;\n",
       "        if (!display || display === 'none') {{\n",
       "            console.log([gd, 'removed!']);\n",
       "            Plotly.purge(gd);\n",
       "            observer.disconnect();\n",
       "        }}\n",
       "}});\n",
       "\n",
       "// Listen for the removal of the full notebook cells\n",
       "var notebookContainer = gd.closest('#notebook-container');\n",
       "if (notebookContainer) {{\n",
       "    x.observe(notebookContainer, {childList: true});\n",
       "}}\n",
       "\n",
       "// Listen for the clearing of the current output cell\n",
       "var outputEl = gd.closest('.output');\n",
       "if (outputEl) {{\n",
       "    x.observe(outputEl, {childList: true});\n",
       "}}\n",
       "\n",
       "                        })                };                });            </script>        </div>"
      ]
     },
     "metadata": {},
     "output_type": "display_data"
    }
   ],
   "source": [
    "df_paid_apps = df_apps_clean[df_apps_clean['Type'] == 'Paid']\n",
    "box = px.box(df_paid_apps, \n",
    "             x='Category', \n",
    "             y='Revenue_Estimate',\n",
    "             title='How Much Can Paid Apps Earn?')\n",
    " \n",
    "box.update_layout(xaxis_title='Category',\n",
    "                  yaxis_title='Paid App Ballpark Revenue',\n",
    "                  xaxis={'categoryorder':'min ascending'},\n",
    "                  yaxis=dict(type='log'))\n",
    " \n",
    " \n",
    "box.show()"
   ]
  },
  {
   "cell_type": "markdown",
   "metadata": {
    "id": "uT32ylj4WS9B"
   },
   "source": [
    "# How Much Can You Charge? Examine Paid App Pricing Strategies by Category\n",
    "\n",
    "**Challenge**: What is the median price price for a paid app? Then compare pricing by category by creating another box plot. But this time examine the prices (instead of the revenue estimates) of the paid apps. I recommend using `{categoryorder':'max descending'}` to sort the categories."
   ]
  },
  {
   "cell_type": "code",
   "execution_count": 139,
   "metadata": {
    "id": "AdBr0TUhouqs"
   },
   "outputs": [
    {
     "data": {
      "text/plain": [
       "2.99"
      ]
     },
     "execution_count": 139,
     "metadata": {},
     "output_type": "execute_result"
    }
   ],
   "source": [
    "df_paid_apps.Price.median()\n"
   ]
  },
  {
   "cell_type": "code",
   "execution_count": 140,
   "metadata": {
    "id": "bJnABRw3ovwr"
   },
   "outputs": [
    {
     "data": {
      "application/vnd.plotly.v1+json": {
       "config": {
        "plotlyServerURL": "https://plot.ly"
       },
       "data": [
        {
         "alignmentgroup": "True",
         "hovertemplate": "Category=%{x}<br>Price=%{y}<extra></extra>",
         "legendgroup": "",
         "marker": {
          "color": "#636efa"
         },
         "name": "",
         "notched": false,
         "offsetgroup": "",
         "orientation": "v",
         "showlegend": false,
         "type": "box",
         "x": [
          "GAME",
          "GAME",
          "FAMILY",
          "BUSINESS",
          "LIFESTYLE",
          "FAMILY",
          "PERSONALIZATION",
          "PHOTOGRAPHY",
          "FAMILY",
          "GAME",
          "PRODUCTIVITY",
          "PHOTOGRAPHY",
          "FAMILY",
          "TOOLS",
          "TOOLS",
          "PERSONALIZATION",
          "FAMILY",
          "FAMILY",
          "FAMILY",
          "FAMILY",
          "GAME",
          "TOOLS",
          "PERSONALIZATION",
          "PERSONALIZATION",
          "PERSONALIZATION",
          "TOOLS",
          "FAMILY",
          "FAMILY",
          "BUSINESS",
          "BOOKS_AND_REFERENCE",
          "FAMILY",
          "FAMILY",
          "FAMILY",
          "PERSONALIZATION",
          "PERSONALIZATION",
          "PERSONALIZATION",
          "GAME",
          "PERSONALIZATION",
          "FAMILY",
          "FINANCE",
          "SHOPPING",
          "DATING",
          "PERSONALIZATION",
          "GAME",
          "FAMILY",
          "PRODUCTIVITY",
          "FAMILY",
          "MEDICAL",
          "SPORTS",
          "MEDICAL",
          "PRODUCTIVITY",
          "BUSINESS",
          "PARENTING",
          "LIFESTYLE",
          "FAMILY",
          "TOOLS",
          "MAPS_AND_NAVIGATION",
          "COMMUNICATION",
          "PERSONALIZATION",
          "COMMUNICATION",
          "FAMILY",
          "PERSONALIZATION",
          "FAMILY",
          "FAMILY",
          "FAMILY",
          "TOOLS",
          "FAMILY",
          "SPORTS",
          "FAMILY",
          "MEDICAL",
          "FAMILY",
          "FAMILY",
          "GAME",
          "TOOLS",
          "FAMILY",
          "FAMILY",
          "PERSONALIZATION",
          "BOOKS_AND_REFERENCE",
          "GAME",
          "PERSONALIZATION",
          "GAME",
          "GAME",
          "TOOLS",
          "MEDICAL",
          "TOOLS",
          "TOOLS",
          "PERSONALIZATION",
          "GAME",
          "COMMUNICATION",
          "MEDICAL",
          "SPORTS",
          "PERSONALIZATION",
          "COMMUNICATION",
          "COMMUNICATION",
          "PERSONALIZATION",
          "TOOLS",
          "PERSONALIZATION",
          "PERSONALIZATION",
          "PRODUCTIVITY",
          "MEDICAL",
          "FAMILY",
          "TOOLS",
          "TOOLS",
          "BUSINESS",
          "COMMUNICATION",
          "FAMILY",
          "PERSONALIZATION",
          "PHOTOGRAPHY",
          "MEDICAL",
          "PERSONALIZATION",
          "MEDICAL",
          "COMMUNICATION",
          "PRODUCTIVITY",
          "BOOKS_AND_REFERENCE",
          "TOOLS",
          "WEATHER",
          "FAMILY",
          "FAMILY",
          "MEDICAL",
          "FAMILY",
          "TOOLS",
          "TOOLS",
          "SPORTS",
          "GAME",
          "MEDICAL",
          "PERSONALIZATION",
          "PERSONALIZATION",
          "NEWS_AND_MAGAZINES",
          "COMMUNICATION",
          "TOOLS",
          "MEDICAL",
          "FINANCE",
          "FAMILY",
          "PERSONALIZATION",
          "PERSONALIZATION",
          "MEDICAL",
          "FAMILY",
          "MEDICAL",
          "MEDICAL",
          "FAMILY",
          "FAMILY",
          "FAMILY",
          "GAME",
          "PERSONALIZATION",
          "TOOLS",
          "PERSONALIZATION",
          "GAME",
          "GAME",
          "GAME",
          "FAMILY",
          "FAMILY",
          "PRODUCTIVITY",
          "COMMUNICATION",
          "SPORTS",
          "SPORTS",
          "FAMILY",
          "PERSONALIZATION",
          "MEDICAL",
          "SPORTS",
          "COMMUNICATION",
          "LIFESTYLE",
          "FAMILY",
          "MEDICAL",
          "MEDICAL",
          "TOOLS",
          "PRODUCTIVITY",
          "FINANCE",
          "HEALTH_AND_FITNESS",
          "MEDICAL",
          "PHOTOGRAPHY",
          "FAMILY",
          "FAMILY",
          "PHOTOGRAPHY",
          "SPORTS",
          "ART_AND_DESIGN",
          "FAMILY",
          "PERSONALIZATION",
          "PRODUCTIVITY",
          "HEALTH_AND_FITNESS",
          "MEDICAL",
          "TOOLS",
          "PRODUCTIVITY",
          "GAME",
          "TOOLS",
          "MEDICAL",
          "LIFESTYLE",
          "GAME",
          "MEDICAL",
          "TRAVEL_AND_LOCAL",
          "BUSINESS",
          "MEDICAL",
          "COMMUNICATION",
          "PERSONALIZATION",
          "GAME",
          "TRAVEL_AND_LOCAL",
          "GAME",
          "SPORTS",
          "MEDICAL",
          "FAMILY",
          "MEDICAL",
          "TOOLS",
          "BOOKS_AND_REFERENCE",
          "FAMILY",
          "MEDICAL",
          "MEDICAL",
          "GAME",
          "BUSINESS",
          "TOOLS",
          "FAMILY",
          "MEDICAL",
          "PERSONALIZATION",
          "PHOTOGRAPHY",
          "SPORTS",
          "MAPS_AND_NAVIGATION",
          "PERSONALIZATION",
          "GAME",
          "BOOKS_AND_REFERENCE",
          "EDUCATION",
          "FAMILY",
          "FAMILY",
          "SOCIAL",
          "MEDICAL",
          "TOOLS",
          "SPORTS",
          "FAMILY",
          "FAMILY",
          "TOOLS",
          "WEATHER",
          "VIDEO_PLAYERS",
          "MEDICAL",
          "TOOLS",
          "GAME",
          "PERSONALIZATION",
          "MEDICAL",
          "LIFESTYLE",
          "MEDICAL",
          "DATING",
          "HEALTH_AND_FITNESS",
          "MEDICAL",
          "FAMILY",
          "PRODUCTIVITY",
          "EDUCATION",
          "SPORTS",
          "FAMILY",
          "PERSONALIZATION",
          "PERSONALIZATION",
          "FAMILY",
          "GAME",
          "FINANCE",
          "GAME",
          "MEDICAL",
          "FAMILY",
          "MEDICAL",
          "MEDICAL",
          "TOOLS",
          "TOOLS",
          "TOOLS",
          "TOOLS",
          "PERSONALIZATION",
          "PERSONALIZATION",
          "PERSONALIZATION",
          "PERSONALIZATION",
          "FAMILY",
          "GAME",
          "FAMILY",
          "FAMILY",
          "MEDICAL",
          "SPORTS",
          "LIFESTYLE",
          "FAMILY",
          "FAMILY",
          "TRAVEL_AND_LOCAL",
          "PERSONALIZATION",
          "BOOKS_AND_REFERENCE",
          "FAMILY",
          "MEDICAL",
          "MEDICAL",
          "MEDICAL",
          "MEDICAL",
          "PRODUCTIVITY",
          "SOCIAL",
          "SPORTS",
          "TRAVEL_AND_LOCAL",
          "TOOLS",
          "FAMILY",
          "NEWS_AND_MAGAZINES",
          "ART_AND_DESIGN",
          "GAME",
          "PERSONALIZATION",
          "LIFESTYLE",
          "PERSONALIZATION",
          "LIFESTYLE",
          "MEDICAL",
          "FAMILY",
          "FAMILY",
          "BOOKS_AND_REFERENCE",
          "LIFESTYLE",
          "MEDICAL",
          "MEDICAL",
          "TOOLS",
          "SPORTS",
          "MEDICAL",
          "PHOTOGRAPHY",
          "GAME",
          "SPORTS",
          "FAMILY",
          "SPORTS",
          "TOOLS",
          "LIFESTYLE",
          "FAMILY",
          "COMMUNICATION",
          "COMMUNICATION",
          "COMMUNICATION",
          "FAMILY",
          "FAMILY",
          "TOOLS",
          "MEDICAL",
          "TOOLS",
          "TOOLS",
          "TOOLS",
          "TOOLS",
          "TOOLS",
          "TOOLS",
          "PERSONALIZATION",
          "FAMILY",
          "MEDICAL",
          "MEDICAL",
          "MEDICAL",
          "HEALTH_AND_FITNESS",
          "GAME",
          "FAMILY",
          "FAMILY",
          "PHOTOGRAPHY",
          "PERSONALIZATION",
          "LIFESTYLE",
          "GAME",
          "FAMILY",
          "MEDICAL",
          "FAMILY",
          "BUSINESS",
          "GAME",
          "FAMILY",
          "MEDICAL",
          "FAMILY",
          "MAPS_AND_NAVIGATION",
          "BOOKS_AND_REFERENCE",
          "GAME",
          "PERSONALIZATION",
          "PERSONALIZATION",
          "COMMUNICATION",
          "DATING",
          "FOOD_AND_DRINK",
          "LIFESTYLE",
          "FAMILY",
          "FAMILY",
          "MEDICAL",
          "TRAVEL_AND_LOCAL",
          "TOOLS",
          "TOOLS",
          "TOOLS",
          "PERSONALIZATION",
          "VIDEO_PLAYERS",
          "VIDEO_PLAYERS",
          "GAME",
          "FAMILY",
          "FAMILY",
          "FAMILY",
          "FAMILY",
          "PERSONALIZATION",
          "WEATHER",
          "TOOLS",
          "PERSONALIZATION",
          "TOOLS",
          "ART_AND_DESIGN",
          "PERSONALIZATION",
          "PERSONALIZATION",
          "MEDICAL",
          "TOOLS",
          "FAMILY",
          "FINANCE",
          "TOOLS",
          "GAME",
          "FAMILY",
          "FAMILY",
          "TOOLS",
          "TOOLS",
          "GAME",
          "TOOLS",
          "HEALTH_AND_FITNESS",
          "GAME",
          "MEDICAL",
          "COMMUNICATION",
          "FAMILY",
          "GAME",
          "FAMILY",
          "MEDICAL",
          "PERSONALIZATION",
          "FAMILY",
          "SPORTS",
          "FAMILY",
          "TRAVEL_AND_LOCAL",
          "TOOLS",
          "SHOPPING",
          "TOOLS",
          "FAMILY",
          "FAMILY",
          "FAMILY",
          "FAMILY",
          "FAMILY",
          "FAMILY",
          "GAME",
          "MAPS_AND_NAVIGATION",
          "PERSONALIZATION",
          "GAME",
          "FAMILY",
          "FAMILY",
          "FINANCE",
          "TOOLS",
          "TOOLS",
          "FAMILY",
          "FAMILY",
          "MEDICAL",
          "GAME",
          "FAMILY",
          "COMMUNICATION",
          "COMMUNICATION",
          "FAMILY",
          "FAMILY",
          "MEDICAL",
          "MEDICAL",
          "MEDICAL",
          "PHOTOGRAPHY",
          "TOOLS",
          "TOOLS",
          "PERSONALIZATION",
          "PERSONALIZATION",
          "FAMILY",
          "GAME",
          "SPORTS",
          "MEDICAL",
          "GAME",
          "FAMILY",
          "AUTO_AND_VEHICLES",
          "HEALTH_AND_FITNESS",
          "FAMILY",
          "FAMILY",
          "MEDICAL",
          "PHOTOGRAPHY",
          "SPORTS",
          "TOOLS",
          "VIDEO_PLAYERS",
          "FAMILY",
          "FAMILY",
          "PRODUCTIVITY",
          "PERSONALIZATION",
          "PRODUCTIVITY",
          "PERSONALIZATION",
          "FAMILY",
          "FAMILY",
          "GAME",
          "MEDICAL",
          "FAMILY",
          "FAMILY",
          "FOOD_AND_DRINK",
          "FAMILY",
          "FAMILY",
          "FAMILY",
          "TOOLS",
          "HEALTH_AND_FITNESS",
          "PARENTING",
          "FAMILY",
          "GAME",
          "HEALTH_AND_FITNESS",
          "TRAVEL_AND_LOCAL",
          "GAME",
          "WEATHER",
          "FAMILY",
          "MEDICAL",
          "GAME",
          "GAME",
          "MEDICAL",
          "PERSONALIZATION",
          "FAMILY",
          "FAMILY",
          "FAMILY",
          "FAMILY",
          "GAME",
          "PHOTOGRAPHY",
          "FAMILY",
          "BUSINESS",
          "FAMILY",
          "GAME",
          "FAMILY",
          "FAMILY",
          "WEATHER",
          "EDUCATION",
          "COMMUNICATION",
          "ENTERTAINMENT",
          "HEALTH_AND_FITNESS",
          "HEALTH_AND_FITNESS",
          "GAME",
          "GAME",
          "FAMILY",
          "FAMILY",
          "FAMILY",
          "PHOTOGRAPHY",
          "SPORTS",
          "TRAVEL_AND_LOCAL",
          "TOOLS",
          "TOOLS",
          "PERSONALIZATION",
          "PERSONALIZATION",
          "PRODUCTIVITY",
          "PRODUCTIVITY",
          "MAPS_AND_NAVIGATION",
          "GAME",
          "GAME",
          "PRODUCTIVITY",
          "TOOLS",
          "WEATHER",
          "FAMILY",
          "GAME",
          "FAMILY",
          "GAME",
          "TOOLS",
          "GAME",
          "FAMILY",
          "FAMILY",
          "HEALTH_AND_FITNESS",
          "FAMILY",
          "GAME",
          "FAMILY",
          "PERSONALIZATION",
          "BUSINESS",
          "FINANCE",
          "FAMILY",
          "PHOTOGRAPHY",
          "GAME",
          "FAMILY",
          "FAMILY",
          "FAMILY",
          "FAMILY",
          "GAME",
          "FAMILY",
          "GAME",
          "COMMUNICATION",
          "FAMILY",
          "ENTERTAINMENT",
          "COMMUNICATION",
          "GAME",
          "GAME",
          "GAME",
          "GAME",
          "GAME",
          "GAME",
          "PERSONALIZATION",
          "FAMILY",
          "PERSONALIZATION",
          "FAMILY",
          "EDUCATION",
          "WEATHER",
          "PHOTOGRAPHY",
          "PRODUCTIVITY",
          "GAME",
          "FAMILY",
          "FAMILY",
          "PRODUCTIVITY",
          "PERSONALIZATION",
          "GAME",
          "GAME",
          "FAMILY",
          "COMMUNICATION",
          "TOOLS",
          "GAME",
          "PERSONALIZATION",
          "PHOTOGRAPHY",
          "SPORTS",
          "GAME",
          "FAMILY",
          "GAME",
          "GAME",
          "FAMILY",
          "GAME",
          "FAMILY",
          "GAME",
          "LIFESTYLE",
          "FAMILY",
          "GAME",
          "FAMILY"
         ],
         "x0": " ",
         "xaxis": "x",
         "y": [
          1.49,
          0.99,
          14.99,
          2.49,
          3.04,
          1.49,
          0.99,
          3.49,
          2.99,
          0.99,
          0.99,
          4.99,
          0.99,
          2.99,
          0.99,
          0.99,
          29.99,
          19.99,
          4.99,
          4.99,
          1.99,
          2.99,
          0.99,
          0.99,
          0.99,
          1.76,
          2.99,
          2.99,
          8.99,
          1.75,
          1.49,
          1.49,
          0.99,
          0.99,
          0.99,
          0.99,
          0.99,
          0.99,
          12.99,
          4.99,
          2.49,
          7.99,
          1.99,
          4.99,
          0.99,
          4.99,
          3.99,
          2.99,
          3.88,
          2.99,
          2.99,
          12.99,
          4.59,
          0.99,
          9.99,
          3.99,
          9.99,
          1.49,
          1.49,
          1.49,
          1.49,
          0.99,
          2.99,
          1.99,
          4.99,
          1.49,
          0.99,
          3.49,
          1.99,
          12.99,
          0.99,
          0.99,
          0.99,
          1.99,
          4.99,
          3.99,
          0.99,
          3.99,
          14,
          1.49,
          4.49,
          1.99,
          0.99,
          6.99,
          5.99,
          3.99,
          2.49,
          0.99,
          1.49,
          39.99,
          3.02,
          1.49,
          1.49,
          0.99,
          0.99,
          4.99,
          1.49,
          0.99,
          6.49,
          5.99,
          2.99,
          3.99,
          0.99,
          17.99,
          0.99,
          1.99,
          1.49,
          1.49,
          3.99,
          1.49,
          2.99,
          4.99,
          8.99,
          0.99,
          0.99,
          1.99,
          2.49,
          4.99,
          0.99,
          1.99,
          1.99,
          0.99,
          2.99,
          4.49,
          3.49,
          2,
          1.49,
          2.99,
          3.99,
          3.99,
          15.99,
          3.99,
          2.99,
          1.49,
          0.99,
          9.99,
          2.99,
          4.99,
          9.99,
          2.49,
          10.99,
          2.99,
          0.99,
          1.99,
          1.99,
          0.99,
          3.99,
          1.61,
          0.99,
          1.99,
          2.49,
          4.29,
          0.99,
          3.99,
          0.99,
          2.99,
          1.49,
          15.46,
          1.99,
          2.99,
          4.99,
          7.49,
          3.99,
          5.49,
          2.49,
          2.99,
          1.99,
          4.99,
          4.99,
          19.99,
          2.99,
          1.99,
          9.99,
          0.99,
          1.99,
          2.99,
          1.7,
          0.99,
          7.99,
          29.99,
          2.99,
          7.99,
          0.99,
          1.49,
          2.99,
          4.99,
          2.49,
          79.99,
          2.56,
          3.99,
          19.99,
          2.49,
          0.99,
          0.99,
          8.49,
          6.99,
          2.99,
          0.99,
          2.99,
          1.5,
          4.99,
          1.99,
          4.84,
          14.99,
          29.99,
          4.99,
          4.99,
          3.99,
          19.4,
          33.99,
          1.49,
          2.99,
          2.99,
          0.99,
          0.99,
          1.99,
          3.08,
          5.99,
          3.99,
          2.99,
          0.99,
          1.99,
          5.99,
          2.49,
          0.99,
          0.99,
          0.99,
          6.99,
          0.99,
          16.99,
          0.99,
          3.49,
          1.7,
          3.99,
          37.99,
          9.99,
          6.99,
          1.99,
          3.99,
          10,
          1.29,
          3.99,
          4.49,
          2.99,
          2.49,
          0.99,
          4.99,
          0.99,
          3.99,
          1.99,
          7.49,
          0.99,
          10.99,
          5.99,
          0.99,
          1.49,
          14.99,
          4.99,
          4.99,
          0.99,
          4.99,
          3.99,
          4.99,
          0.99,
          4.49,
          5.99,
          3.99,
          1.99,
          3.99,
          4.99,
          1.99,
          3.99,
          0.99,
          2.99,
          1.49,
          2.49,
          3.99,
          3.99,
          3.99,
          3.99,
          0.99,
          1.99,
          2.99,
          0.99,
          2.99,
          0.99,
          1.99,
          6.99,
          1.99,
          0.99,
          1.49,
          2.99,
          5.99,
          2.99,
          2.99,
          4.6,
          1.99,
          14.99,
          0.99,
          0.99,
          0.99,
          2.99,
          2.99,
          1.99,
          2.99,
          4.99,
          1,
          14.99,
          2.49,
          0.99,
          4.99,
          0.99,
          1.49,
          3.99,
          2.99,
          4.99,
          3.99,
          4.99,
          4.99,
          4.99,
          4.99,
          4.99,
          1,
          6.99,
          2.99,
          9.99,
          24.99,
          2.99,
          3.99,
          0.99,
          3.99,
          3.99,
          1.99,
          0.99,
          7.99,
          4.99,
          2.99,
          10,
          2.99,
          2.99,
          2.99,
          14.99,
          7.99,
          12.99,
          0.99,
          4.49,
          16.99,
          0.99,
          0.99,
          4.99,
          3.99,
          3.49,
          2.49,
          2.99,
          1.49,
          6.99,
          1.99,
          2.5,
          3.9,
          2.95,
          0.99,
          1.49,
          1.99,
          7.99,
          2.99,
          2.99,
          4.99,
          1.99,
          0.99,
          2.99,
          2.99,
          1.99,
          1.97,
          1.99,
          9.99,
          2.99,
          5.49,
          3.28,
          0.99,
          2.99,
          4.99,
          2.99,
          14.99,
          2.99,
          2.99,
          2.99,
          17.99,
          0.99,
          6.99,
          4.99,
          3.99,
          2.99,
          2.99,
          4.99,
          1.2,
          2.99,
          1.99,
          4.99,
          4.99,
          0.99,
          5.99,
          2.59,
          2.99,
          1.99,
          3.99,
          4.99,
          3.99,
          2.99,
          4.99,
          2.99,
          4.99,
          2.99,
          0.99,
          3.99,
          2.49,
          0.99,
          18.99,
          1.99,
          1.99,
          1.59,
          3.99,
          11.99,
          1.99,
          1.99,
          2.99,
          0.99,
          9.99,
          3.99,
          0.99,
          2.99,
          1.99,
          4.99,
          1.99,
          2.99,
          0.99,
          1.99,
          0.99,
          0.99,
          29.99,
          2.99,
          1.99,
          2.99,
          1.99,
          1.99,
          2.99,
          4.99,
          3.99,
          1.99,
          3.99,
          2.99,
          5.99,
          19.99,
          9.99,
          2.99,
          2.49,
          1.49,
          0.99,
          2.99,
          2.99,
          1.99,
          11.99,
          4.99,
          3.99,
          4.99,
          2.99,
          2.99,
          4.77,
          2.99,
          2.99,
          4.99,
          4.99,
          4.99,
          1.99,
          2.49,
          4.99,
          3.99,
          3.99,
          24.99,
          4.99,
          0.99,
          9,
          0.99,
          2.99,
          2.99,
          2.99,
          9.99,
          2.99,
          1.49,
          14.99,
          4.99,
          7.99,
          1.99,
          0.99,
          0.99,
          4.49,
          3.99,
          3.99,
          4.99,
          2.99,
          2.99,
          2.99,
          2.99,
          3.99,
          4.99,
          4.99,
          3.95,
          8.99,
          8.99,
          2.49,
          3.99,
          4.49,
          1.99,
          5.99,
          4.99,
          11.99,
          4.99,
          9.99,
          4.49,
          3.49,
          2.99,
          4.99,
          4.99,
          4.99,
          1.99,
          4.49,
          3.99,
          2.99,
          13.99,
          3.49,
          9.99,
          4.99,
          2.99,
          2.99,
          4.99,
          2.99,
          2.99,
          2.99,
          2.99,
          2.99,
          9.99,
          0.99,
          1.99,
          2.99,
          1.49,
          6.99,
          2.9,
          2.99,
          2.99,
          3.99,
          2.99,
          4.99,
          2.99,
          2.99,
          1.99,
          5.99,
          4.99,
          2.99,
          2.49,
          0.99,
          3.99,
          5.99,
          2.99,
          2.99,
          1.99,
          2.99,
          4.99,
          1.99,
          2.49,
          0.99,
          4.99,
          2.99,
          2.99,
          2.99,
          6.99,
          0.99,
          5.99,
          1.99,
          2.99,
          0.99,
          0.99,
          0.99,
          0.99,
          0.99,
          2.99,
          0.99,
          5.99,
          1.99,
          0.99,
          6.99
         ],
         "y0": " ",
         "yaxis": "y"
        }
       ],
       "layout": {
        "boxmode": "group",
        "legend": {
         "tracegroupgap": 0
        },
        "template": {
         "data": {
          "bar": [
           {
            "error_x": {
             "color": "#2a3f5f"
            },
            "error_y": {
             "color": "#2a3f5f"
            },
            "marker": {
             "line": {
              "color": "#E5ECF6",
              "width": 0.5
             },
             "pattern": {
              "fillmode": "overlay",
              "size": 10,
              "solidity": 0.2
             }
            },
            "type": "bar"
           }
          ],
          "barpolar": [
           {
            "marker": {
             "line": {
              "color": "#E5ECF6",
              "width": 0.5
             },
             "pattern": {
              "fillmode": "overlay",
              "size": 10,
              "solidity": 0.2
             }
            },
            "type": "barpolar"
           }
          ],
          "carpet": [
           {
            "aaxis": {
             "endlinecolor": "#2a3f5f",
             "gridcolor": "white",
             "linecolor": "white",
             "minorgridcolor": "white",
             "startlinecolor": "#2a3f5f"
            },
            "baxis": {
             "endlinecolor": "#2a3f5f",
             "gridcolor": "white",
             "linecolor": "white",
             "minorgridcolor": "white",
             "startlinecolor": "#2a3f5f"
            },
            "type": "carpet"
           }
          ],
          "choropleth": [
           {
            "colorbar": {
             "outlinewidth": 0,
             "ticks": ""
            },
            "type": "choropleth"
           }
          ],
          "contour": [
           {
            "colorbar": {
             "outlinewidth": 0,
             "ticks": ""
            },
            "colorscale": [
             [
              0,
              "#0d0887"
             ],
             [
              0.1111111111111111,
              "#46039f"
             ],
             [
              0.2222222222222222,
              "#7201a8"
             ],
             [
              0.3333333333333333,
              "#9c179e"
             ],
             [
              0.4444444444444444,
              "#bd3786"
             ],
             [
              0.5555555555555556,
              "#d8576b"
             ],
             [
              0.6666666666666666,
              "#ed7953"
             ],
             [
              0.7777777777777778,
              "#fb9f3a"
             ],
             [
              0.8888888888888888,
              "#fdca26"
             ],
             [
              1,
              "#f0f921"
             ]
            ],
            "type": "contour"
           }
          ],
          "contourcarpet": [
           {
            "colorbar": {
             "outlinewidth": 0,
             "ticks": ""
            },
            "type": "contourcarpet"
           }
          ],
          "heatmap": [
           {
            "colorbar": {
             "outlinewidth": 0,
             "ticks": ""
            },
            "colorscale": [
             [
              0,
              "#0d0887"
             ],
             [
              0.1111111111111111,
              "#46039f"
             ],
             [
              0.2222222222222222,
              "#7201a8"
             ],
             [
              0.3333333333333333,
              "#9c179e"
             ],
             [
              0.4444444444444444,
              "#bd3786"
             ],
             [
              0.5555555555555556,
              "#d8576b"
             ],
             [
              0.6666666666666666,
              "#ed7953"
             ],
             [
              0.7777777777777778,
              "#fb9f3a"
             ],
             [
              0.8888888888888888,
              "#fdca26"
             ],
             [
              1,
              "#f0f921"
             ]
            ],
            "type": "heatmap"
           }
          ],
          "heatmapgl": [
           {
            "colorbar": {
             "outlinewidth": 0,
             "ticks": ""
            },
            "colorscale": [
             [
              0,
              "#0d0887"
             ],
             [
              0.1111111111111111,
              "#46039f"
             ],
             [
              0.2222222222222222,
              "#7201a8"
             ],
             [
              0.3333333333333333,
              "#9c179e"
             ],
             [
              0.4444444444444444,
              "#bd3786"
             ],
             [
              0.5555555555555556,
              "#d8576b"
             ],
             [
              0.6666666666666666,
              "#ed7953"
             ],
             [
              0.7777777777777778,
              "#fb9f3a"
             ],
             [
              0.8888888888888888,
              "#fdca26"
             ],
             [
              1,
              "#f0f921"
             ]
            ],
            "type": "heatmapgl"
           }
          ],
          "histogram": [
           {
            "marker": {
             "pattern": {
              "fillmode": "overlay",
              "size": 10,
              "solidity": 0.2
             }
            },
            "type": "histogram"
           }
          ],
          "histogram2d": [
           {
            "colorbar": {
             "outlinewidth": 0,
             "ticks": ""
            },
            "colorscale": [
             [
              0,
              "#0d0887"
             ],
             [
              0.1111111111111111,
              "#46039f"
             ],
             [
              0.2222222222222222,
              "#7201a8"
             ],
             [
              0.3333333333333333,
              "#9c179e"
             ],
             [
              0.4444444444444444,
              "#bd3786"
             ],
             [
              0.5555555555555556,
              "#d8576b"
             ],
             [
              0.6666666666666666,
              "#ed7953"
             ],
             [
              0.7777777777777778,
              "#fb9f3a"
             ],
             [
              0.8888888888888888,
              "#fdca26"
             ],
             [
              1,
              "#f0f921"
             ]
            ],
            "type": "histogram2d"
           }
          ],
          "histogram2dcontour": [
           {
            "colorbar": {
             "outlinewidth": 0,
             "ticks": ""
            },
            "colorscale": [
             [
              0,
              "#0d0887"
             ],
             [
              0.1111111111111111,
              "#46039f"
             ],
             [
              0.2222222222222222,
              "#7201a8"
             ],
             [
              0.3333333333333333,
              "#9c179e"
             ],
             [
              0.4444444444444444,
              "#bd3786"
             ],
             [
              0.5555555555555556,
              "#d8576b"
             ],
             [
              0.6666666666666666,
              "#ed7953"
             ],
             [
              0.7777777777777778,
              "#fb9f3a"
             ],
             [
              0.8888888888888888,
              "#fdca26"
             ],
             [
              1,
              "#f0f921"
             ]
            ],
            "type": "histogram2dcontour"
           }
          ],
          "mesh3d": [
           {
            "colorbar": {
             "outlinewidth": 0,
             "ticks": ""
            },
            "type": "mesh3d"
           }
          ],
          "parcoords": [
           {
            "line": {
             "colorbar": {
              "outlinewidth": 0,
              "ticks": ""
             }
            },
            "type": "parcoords"
           }
          ],
          "pie": [
           {
            "automargin": true,
            "type": "pie"
           }
          ],
          "scatter": [
           {
            "marker": {
             "colorbar": {
              "outlinewidth": 0,
              "ticks": ""
             }
            },
            "type": "scatter"
           }
          ],
          "scatter3d": [
           {
            "line": {
             "colorbar": {
              "outlinewidth": 0,
              "ticks": ""
             }
            },
            "marker": {
             "colorbar": {
              "outlinewidth": 0,
              "ticks": ""
             }
            },
            "type": "scatter3d"
           }
          ],
          "scattercarpet": [
           {
            "marker": {
             "colorbar": {
              "outlinewidth": 0,
              "ticks": ""
             }
            },
            "type": "scattercarpet"
           }
          ],
          "scattergeo": [
           {
            "marker": {
             "colorbar": {
              "outlinewidth": 0,
              "ticks": ""
             }
            },
            "type": "scattergeo"
           }
          ],
          "scattergl": [
           {
            "marker": {
             "colorbar": {
              "outlinewidth": 0,
              "ticks": ""
             }
            },
            "type": "scattergl"
           }
          ],
          "scattermapbox": [
           {
            "marker": {
             "colorbar": {
              "outlinewidth": 0,
              "ticks": ""
             }
            },
            "type": "scattermapbox"
           }
          ],
          "scatterpolar": [
           {
            "marker": {
             "colorbar": {
              "outlinewidth": 0,
              "ticks": ""
             }
            },
            "type": "scatterpolar"
           }
          ],
          "scatterpolargl": [
           {
            "marker": {
             "colorbar": {
              "outlinewidth": 0,
              "ticks": ""
             }
            },
            "type": "scatterpolargl"
           }
          ],
          "scatterternary": [
           {
            "marker": {
             "colorbar": {
              "outlinewidth": 0,
              "ticks": ""
             }
            },
            "type": "scatterternary"
           }
          ],
          "surface": [
           {
            "colorbar": {
             "outlinewidth": 0,
             "ticks": ""
            },
            "colorscale": [
             [
              0,
              "#0d0887"
             ],
             [
              0.1111111111111111,
              "#46039f"
             ],
             [
              0.2222222222222222,
              "#7201a8"
             ],
             [
              0.3333333333333333,
              "#9c179e"
             ],
             [
              0.4444444444444444,
              "#bd3786"
             ],
             [
              0.5555555555555556,
              "#d8576b"
             ],
             [
              0.6666666666666666,
              "#ed7953"
             ],
             [
              0.7777777777777778,
              "#fb9f3a"
             ],
             [
              0.8888888888888888,
              "#fdca26"
             ],
             [
              1,
              "#f0f921"
             ]
            ],
            "type": "surface"
           }
          ],
          "table": [
           {
            "cells": {
             "fill": {
              "color": "#EBF0F8"
             },
             "line": {
              "color": "white"
             }
            },
            "header": {
             "fill": {
              "color": "#C8D4E3"
             },
             "line": {
              "color": "white"
             }
            },
            "type": "table"
           }
          ]
         },
         "layout": {
          "annotationdefaults": {
           "arrowcolor": "#2a3f5f",
           "arrowhead": 0,
           "arrowwidth": 1
          },
          "autotypenumbers": "strict",
          "coloraxis": {
           "colorbar": {
            "outlinewidth": 0,
            "ticks": ""
           }
          },
          "colorscale": {
           "diverging": [
            [
             0,
             "#8e0152"
            ],
            [
             0.1,
             "#c51b7d"
            ],
            [
             0.2,
             "#de77ae"
            ],
            [
             0.3,
             "#f1b6da"
            ],
            [
             0.4,
             "#fde0ef"
            ],
            [
             0.5,
             "#f7f7f7"
            ],
            [
             0.6,
             "#e6f5d0"
            ],
            [
             0.7,
             "#b8e186"
            ],
            [
             0.8,
             "#7fbc41"
            ],
            [
             0.9,
             "#4d9221"
            ],
            [
             1,
             "#276419"
            ]
           ],
           "sequential": [
            [
             0,
             "#0d0887"
            ],
            [
             0.1111111111111111,
             "#46039f"
            ],
            [
             0.2222222222222222,
             "#7201a8"
            ],
            [
             0.3333333333333333,
             "#9c179e"
            ],
            [
             0.4444444444444444,
             "#bd3786"
            ],
            [
             0.5555555555555556,
             "#d8576b"
            ],
            [
             0.6666666666666666,
             "#ed7953"
            ],
            [
             0.7777777777777778,
             "#fb9f3a"
            ],
            [
             0.8888888888888888,
             "#fdca26"
            ],
            [
             1,
             "#f0f921"
            ]
           ],
           "sequentialminus": [
            [
             0,
             "#0d0887"
            ],
            [
             0.1111111111111111,
             "#46039f"
            ],
            [
             0.2222222222222222,
             "#7201a8"
            ],
            [
             0.3333333333333333,
             "#9c179e"
            ],
            [
             0.4444444444444444,
             "#bd3786"
            ],
            [
             0.5555555555555556,
             "#d8576b"
            ],
            [
             0.6666666666666666,
             "#ed7953"
            ],
            [
             0.7777777777777778,
             "#fb9f3a"
            ],
            [
             0.8888888888888888,
             "#fdca26"
            ],
            [
             1,
             "#f0f921"
            ]
           ]
          },
          "colorway": [
           "#636efa",
           "#EF553B",
           "#00cc96",
           "#ab63fa",
           "#FFA15A",
           "#19d3f3",
           "#FF6692",
           "#B6E880",
           "#FF97FF",
           "#FECB52"
          ],
          "font": {
           "color": "#2a3f5f"
          },
          "geo": {
           "bgcolor": "white",
           "lakecolor": "white",
           "landcolor": "#E5ECF6",
           "showlakes": true,
           "showland": true,
           "subunitcolor": "white"
          },
          "hoverlabel": {
           "align": "left"
          },
          "hovermode": "closest",
          "mapbox": {
           "style": "light"
          },
          "paper_bgcolor": "white",
          "plot_bgcolor": "#E5ECF6",
          "polar": {
           "angularaxis": {
            "gridcolor": "white",
            "linecolor": "white",
            "ticks": ""
           },
           "bgcolor": "#E5ECF6",
           "radialaxis": {
            "gridcolor": "white",
            "linecolor": "white",
            "ticks": ""
           }
          },
          "scene": {
           "xaxis": {
            "backgroundcolor": "#E5ECF6",
            "gridcolor": "white",
            "gridwidth": 2,
            "linecolor": "white",
            "showbackground": true,
            "ticks": "",
            "zerolinecolor": "white"
           },
           "yaxis": {
            "backgroundcolor": "#E5ECF6",
            "gridcolor": "white",
            "gridwidth": 2,
            "linecolor": "white",
            "showbackground": true,
            "ticks": "",
            "zerolinecolor": "white"
           },
           "zaxis": {
            "backgroundcolor": "#E5ECF6",
            "gridcolor": "white",
            "gridwidth": 2,
            "linecolor": "white",
            "showbackground": true,
            "ticks": "",
            "zerolinecolor": "white"
           }
          },
          "shapedefaults": {
           "line": {
            "color": "#2a3f5f"
           }
          },
          "ternary": {
           "aaxis": {
            "gridcolor": "white",
            "linecolor": "white",
            "ticks": ""
           },
           "baxis": {
            "gridcolor": "white",
            "linecolor": "white",
            "ticks": ""
           },
           "bgcolor": "#E5ECF6",
           "caxis": {
            "gridcolor": "white",
            "linecolor": "white",
            "ticks": ""
           }
          },
          "title": {
           "x": 0.05
          },
          "xaxis": {
           "automargin": true,
           "gridcolor": "white",
           "linecolor": "white",
           "ticks": "",
           "title": {
            "standoff": 15
           },
           "zerolinecolor": "white",
           "zerolinewidth": 2
          },
          "yaxis": {
           "automargin": true,
           "gridcolor": "white",
           "linecolor": "white",
           "ticks": "",
           "title": {
            "standoff": 15
           },
           "zerolinecolor": "white",
           "zerolinewidth": 2
          }
         }
        },
        "title": {
         "text": "Price per Category"
        },
        "xaxis": {
         "anchor": "y",
         "categoryorder": "max descending",
         "domain": [
          0,
          1
         ],
         "title": {
          "text": "Category"
         }
        },
        "yaxis": {
         "anchor": "x",
         "domain": [
          0,
          1
         ],
         "title": {
          "text": "Paid App Price"
         },
         "type": "log"
        }
       }
      },
      "text/html": [
       "<div>                            <div id=\"78f6eae7-fb23-43e4-bd00-0348d616297c\" class=\"plotly-graph-div\" style=\"height:525px; width:100%;\"></div>            <script type=\"text/javascript\">                require([\"plotly\"], function(Plotly) {                    window.PLOTLYENV=window.PLOTLYENV || {};                                    if (document.getElementById(\"78f6eae7-fb23-43e4-bd00-0348d616297c\")) {                    Plotly.newPlot(                        \"78f6eae7-fb23-43e4-bd00-0348d616297c\",                        [{\"alignmentgroup\":\"True\",\"hovertemplate\":\"Category=%{x}<br>Price=%{y}<extra></extra>\",\"legendgroup\":\"\",\"marker\":{\"color\":\"#636efa\"},\"name\":\"\",\"notched\":false,\"offsetgroup\":\"\",\"orientation\":\"v\",\"showlegend\":false,\"type\":\"box\",\"x\":[\"GAME\",\"GAME\",\"FAMILY\",\"BUSINESS\",\"LIFESTYLE\",\"FAMILY\",\"PERSONALIZATION\",\"PHOTOGRAPHY\",\"FAMILY\",\"GAME\",\"PRODUCTIVITY\",\"PHOTOGRAPHY\",\"FAMILY\",\"TOOLS\",\"TOOLS\",\"PERSONALIZATION\",\"FAMILY\",\"FAMILY\",\"FAMILY\",\"FAMILY\",\"GAME\",\"TOOLS\",\"PERSONALIZATION\",\"PERSONALIZATION\",\"PERSONALIZATION\",\"TOOLS\",\"FAMILY\",\"FAMILY\",\"BUSINESS\",\"BOOKS_AND_REFERENCE\",\"FAMILY\",\"FAMILY\",\"FAMILY\",\"PERSONALIZATION\",\"PERSONALIZATION\",\"PERSONALIZATION\",\"GAME\",\"PERSONALIZATION\",\"FAMILY\",\"FINANCE\",\"SHOPPING\",\"DATING\",\"PERSONALIZATION\",\"GAME\",\"FAMILY\",\"PRODUCTIVITY\",\"FAMILY\",\"MEDICAL\",\"SPORTS\",\"MEDICAL\",\"PRODUCTIVITY\",\"BUSINESS\",\"PARENTING\",\"LIFESTYLE\",\"FAMILY\",\"TOOLS\",\"MAPS_AND_NAVIGATION\",\"COMMUNICATION\",\"PERSONALIZATION\",\"COMMUNICATION\",\"FAMILY\",\"PERSONALIZATION\",\"FAMILY\",\"FAMILY\",\"FAMILY\",\"TOOLS\",\"FAMILY\",\"SPORTS\",\"FAMILY\",\"MEDICAL\",\"FAMILY\",\"FAMILY\",\"GAME\",\"TOOLS\",\"FAMILY\",\"FAMILY\",\"PERSONALIZATION\",\"BOOKS_AND_REFERENCE\",\"GAME\",\"PERSONALIZATION\",\"GAME\",\"GAME\",\"TOOLS\",\"MEDICAL\",\"TOOLS\",\"TOOLS\",\"PERSONALIZATION\",\"GAME\",\"COMMUNICATION\",\"MEDICAL\",\"SPORTS\",\"PERSONALIZATION\",\"COMMUNICATION\",\"COMMUNICATION\",\"PERSONALIZATION\",\"TOOLS\",\"PERSONALIZATION\",\"PERSONALIZATION\",\"PRODUCTIVITY\",\"MEDICAL\",\"FAMILY\",\"TOOLS\",\"TOOLS\",\"BUSINESS\",\"COMMUNICATION\",\"FAMILY\",\"PERSONALIZATION\",\"PHOTOGRAPHY\",\"MEDICAL\",\"PERSONALIZATION\",\"MEDICAL\",\"COMMUNICATION\",\"PRODUCTIVITY\",\"BOOKS_AND_REFERENCE\",\"TOOLS\",\"WEATHER\",\"FAMILY\",\"FAMILY\",\"MEDICAL\",\"FAMILY\",\"TOOLS\",\"TOOLS\",\"SPORTS\",\"GAME\",\"MEDICAL\",\"PERSONALIZATION\",\"PERSONALIZATION\",\"NEWS_AND_MAGAZINES\",\"COMMUNICATION\",\"TOOLS\",\"MEDICAL\",\"FINANCE\",\"FAMILY\",\"PERSONALIZATION\",\"PERSONALIZATION\",\"MEDICAL\",\"FAMILY\",\"MEDICAL\",\"MEDICAL\",\"FAMILY\",\"FAMILY\",\"FAMILY\",\"GAME\",\"PERSONALIZATION\",\"TOOLS\",\"PERSONALIZATION\",\"GAME\",\"GAME\",\"GAME\",\"FAMILY\",\"FAMILY\",\"PRODUCTIVITY\",\"COMMUNICATION\",\"SPORTS\",\"SPORTS\",\"FAMILY\",\"PERSONALIZATION\",\"MEDICAL\",\"SPORTS\",\"COMMUNICATION\",\"LIFESTYLE\",\"FAMILY\",\"MEDICAL\",\"MEDICAL\",\"TOOLS\",\"PRODUCTIVITY\",\"FINANCE\",\"HEALTH_AND_FITNESS\",\"MEDICAL\",\"PHOTOGRAPHY\",\"FAMILY\",\"FAMILY\",\"PHOTOGRAPHY\",\"SPORTS\",\"ART_AND_DESIGN\",\"FAMILY\",\"PERSONALIZATION\",\"PRODUCTIVITY\",\"HEALTH_AND_FITNESS\",\"MEDICAL\",\"TOOLS\",\"PRODUCTIVITY\",\"GAME\",\"TOOLS\",\"MEDICAL\",\"LIFESTYLE\",\"GAME\",\"MEDICAL\",\"TRAVEL_AND_LOCAL\",\"BUSINESS\",\"MEDICAL\",\"COMMUNICATION\",\"PERSONALIZATION\",\"GAME\",\"TRAVEL_AND_LOCAL\",\"GAME\",\"SPORTS\",\"MEDICAL\",\"FAMILY\",\"MEDICAL\",\"TOOLS\",\"BOOKS_AND_REFERENCE\",\"FAMILY\",\"MEDICAL\",\"MEDICAL\",\"GAME\",\"BUSINESS\",\"TOOLS\",\"FAMILY\",\"MEDICAL\",\"PERSONALIZATION\",\"PHOTOGRAPHY\",\"SPORTS\",\"MAPS_AND_NAVIGATION\",\"PERSONALIZATION\",\"GAME\",\"BOOKS_AND_REFERENCE\",\"EDUCATION\",\"FAMILY\",\"FAMILY\",\"SOCIAL\",\"MEDICAL\",\"TOOLS\",\"SPORTS\",\"FAMILY\",\"FAMILY\",\"TOOLS\",\"WEATHER\",\"VIDEO_PLAYERS\",\"MEDICAL\",\"TOOLS\",\"GAME\",\"PERSONALIZATION\",\"MEDICAL\",\"LIFESTYLE\",\"MEDICAL\",\"DATING\",\"HEALTH_AND_FITNESS\",\"MEDICAL\",\"FAMILY\",\"PRODUCTIVITY\",\"EDUCATION\",\"SPORTS\",\"FAMILY\",\"PERSONALIZATION\",\"PERSONALIZATION\",\"FAMILY\",\"GAME\",\"FINANCE\",\"GAME\",\"MEDICAL\",\"FAMILY\",\"MEDICAL\",\"MEDICAL\",\"TOOLS\",\"TOOLS\",\"TOOLS\",\"TOOLS\",\"PERSONALIZATION\",\"PERSONALIZATION\",\"PERSONALIZATION\",\"PERSONALIZATION\",\"FAMILY\",\"GAME\",\"FAMILY\",\"FAMILY\",\"MEDICAL\",\"SPORTS\",\"LIFESTYLE\",\"FAMILY\",\"FAMILY\",\"TRAVEL_AND_LOCAL\",\"PERSONALIZATION\",\"BOOKS_AND_REFERENCE\",\"FAMILY\",\"MEDICAL\",\"MEDICAL\",\"MEDICAL\",\"MEDICAL\",\"PRODUCTIVITY\",\"SOCIAL\",\"SPORTS\",\"TRAVEL_AND_LOCAL\",\"TOOLS\",\"FAMILY\",\"NEWS_AND_MAGAZINES\",\"ART_AND_DESIGN\",\"GAME\",\"PERSONALIZATION\",\"LIFESTYLE\",\"PERSONALIZATION\",\"LIFESTYLE\",\"MEDICAL\",\"FAMILY\",\"FAMILY\",\"BOOKS_AND_REFERENCE\",\"LIFESTYLE\",\"MEDICAL\",\"MEDICAL\",\"TOOLS\",\"SPORTS\",\"MEDICAL\",\"PHOTOGRAPHY\",\"GAME\",\"SPORTS\",\"FAMILY\",\"SPORTS\",\"TOOLS\",\"LIFESTYLE\",\"FAMILY\",\"COMMUNICATION\",\"COMMUNICATION\",\"COMMUNICATION\",\"FAMILY\",\"FAMILY\",\"TOOLS\",\"MEDICAL\",\"TOOLS\",\"TOOLS\",\"TOOLS\",\"TOOLS\",\"TOOLS\",\"TOOLS\",\"PERSONALIZATION\",\"FAMILY\",\"MEDICAL\",\"MEDICAL\",\"MEDICAL\",\"HEALTH_AND_FITNESS\",\"GAME\",\"FAMILY\",\"FAMILY\",\"PHOTOGRAPHY\",\"PERSONALIZATION\",\"LIFESTYLE\",\"GAME\",\"FAMILY\",\"MEDICAL\",\"FAMILY\",\"BUSINESS\",\"GAME\",\"FAMILY\",\"MEDICAL\",\"FAMILY\",\"MAPS_AND_NAVIGATION\",\"BOOKS_AND_REFERENCE\",\"GAME\",\"PERSONALIZATION\",\"PERSONALIZATION\",\"COMMUNICATION\",\"DATING\",\"FOOD_AND_DRINK\",\"LIFESTYLE\",\"FAMILY\",\"FAMILY\",\"MEDICAL\",\"TRAVEL_AND_LOCAL\",\"TOOLS\",\"TOOLS\",\"TOOLS\",\"PERSONALIZATION\",\"VIDEO_PLAYERS\",\"VIDEO_PLAYERS\",\"GAME\",\"FAMILY\",\"FAMILY\",\"FAMILY\",\"FAMILY\",\"PERSONALIZATION\",\"WEATHER\",\"TOOLS\",\"PERSONALIZATION\",\"TOOLS\",\"ART_AND_DESIGN\",\"PERSONALIZATION\",\"PERSONALIZATION\",\"MEDICAL\",\"TOOLS\",\"FAMILY\",\"FINANCE\",\"TOOLS\",\"GAME\",\"FAMILY\",\"FAMILY\",\"TOOLS\",\"TOOLS\",\"GAME\",\"TOOLS\",\"HEALTH_AND_FITNESS\",\"GAME\",\"MEDICAL\",\"COMMUNICATION\",\"FAMILY\",\"GAME\",\"FAMILY\",\"MEDICAL\",\"PERSONALIZATION\",\"FAMILY\",\"SPORTS\",\"FAMILY\",\"TRAVEL_AND_LOCAL\",\"TOOLS\",\"SHOPPING\",\"TOOLS\",\"FAMILY\",\"FAMILY\",\"FAMILY\",\"FAMILY\",\"FAMILY\",\"FAMILY\",\"GAME\",\"MAPS_AND_NAVIGATION\",\"PERSONALIZATION\",\"GAME\",\"FAMILY\",\"FAMILY\",\"FINANCE\",\"TOOLS\",\"TOOLS\",\"FAMILY\",\"FAMILY\",\"MEDICAL\",\"GAME\",\"FAMILY\",\"COMMUNICATION\",\"COMMUNICATION\",\"FAMILY\",\"FAMILY\",\"MEDICAL\",\"MEDICAL\",\"MEDICAL\",\"PHOTOGRAPHY\",\"TOOLS\",\"TOOLS\",\"PERSONALIZATION\",\"PERSONALIZATION\",\"FAMILY\",\"GAME\",\"SPORTS\",\"MEDICAL\",\"GAME\",\"FAMILY\",\"AUTO_AND_VEHICLES\",\"HEALTH_AND_FITNESS\",\"FAMILY\",\"FAMILY\",\"MEDICAL\",\"PHOTOGRAPHY\",\"SPORTS\",\"TOOLS\",\"VIDEO_PLAYERS\",\"FAMILY\",\"FAMILY\",\"PRODUCTIVITY\",\"PERSONALIZATION\",\"PRODUCTIVITY\",\"PERSONALIZATION\",\"FAMILY\",\"FAMILY\",\"GAME\",\"MEDICAL\",\"FAMILY\",\"FAMILY\",\"FOOD_AND_DRINK\",\"FAMILY\",\"FAMILY\",\"FAMILY\",\"TOOLS\",\"HEALTH_AND_FITNESS\",\"PARENTING\",\"FAMILY\",\"GAME\",\"HEALTH_AND_FITNESS\",\"TRAVEL_AND_LOCAL\",\"GAME\",\"WEATHER\",\"FAMILY\",\"MEDICAL\",\"GAME\",\"GAME\",\"MEDICAL\",\"PERSONALIZATION\",\"FAMILY\",\"FAMILY\",\"FAMILY\",\"FAMILY\",\"GAME\",\"PHOTOGRAPHY\",\"FAMILY\",\"BUSINESS\",\"FAMILY\",\"GAME\",\"FAMILY\",\"FAMILY\",\"WEATHER\",\"EDUCATION\",\"COMMUNICATION\",\"ENTERTAINMENT\",\"HEALTH_AND_FITNESS\",\"HEALTH_AND_FITNESS\",\"GAME\",\"GAME\",\"FAMILY\",\"FAMILY\",\"FAMILY\",\"PHOTOGRAPHY\",\"SPORTS\",\"TRAVEL_AND_LOCAL\",\"TOOLS\",\"TOOLS\",\"PERSONALIZATION\",\"PERSONALIZATION\",\"PRODUCTIVITY\",\"PRODUCTIVITY\",\"MAPS_AND_NAVIGATION\",\"GAME\",\"GAME\",\"PRODUCTIVITY\",\"TOOLS\",\"WEATHER\",\"FAMILY\",\"GAME\",\"FAMILY\",\"GAME\",\"TOOLS\",\"GAME\",\"FAMILY\",\"FAMILY\",\"HEALTH_AND_FITNESS\",\"FAMILY\",\"GAME\",\"FAMILY\",\"PERSONALIZATION\",\"BUSINESS\",\"FINANCE\",\"FAMILY\",\"PHOTOGRAPHY\",\"GAME\",\"FAMILY\",\"FAMILY\",\"FAMILY\",\"FAMILY\",\"GAME\",\"FAMILY\",\"GAME\",\"COMMUNICATION\",\"FAMILY\",\"ENTERTAINMENT\",\"COMMUNICATION\",\"GAME\",\"GAME\",\"GAME\",\"GAME\",\"GAME\",\"GAME\",\"PERSONALIZATION\",\"FAMILY\",\"PERSONALIZATION\",\"FAMILY\",\"EDUCATION\",\"WEATHER\",\"PHOTOGRAPHY\",\"PRODUCTIVITY\",\"GAME\",\"FAMILY\",\"FAMILY\",\"PRODUCTIVITY\",\"PERSONALIZATION\",\"GAME\",\"GAME\",\"FAMILY\",\"COMMUNICATION\",\"TOOLS\",\"GAME\",\"PERSONALIZATION\",\"PHOTOGRAPHY\",\"SPORTS\",\"GAME\",\"FAMILY\",\"GAME\",\"GAME\",\"FAMILY\",\"GAME\",\"FAMILY\",\"GAME\",\"LIFESTYLE\",\"FAMILY\",\"GAME\",\"FAMILY\"],\"x0\":\" \",\"xaxis\":\"x\",\"y\":[1.49,0.99,14.99,2.49,3.04,1.49,0.99,3.49,2.99,0.99,0.99,4.99,0.99,2.99,0.99,0.99,29.99,19.99,4.99,4.99,1.99,2.99,0.99,0.99,0.99,1.76,2.99,2.99,8.99,1.75,1.49,1.49,0.99,0.99,0.99,0.99,0.99,0.99,12.99,4.99,2.49,7.99,1.99,4.99,0.99,4.99,3.99,2.99,3.88,2.99,2.99,12.99,4.59,0.99,9.99,3.99,9.99,1.49,1.49,1.49,1.49,0.99,2.99,1.99,4.99,1.49,0.99,3.49,1.99,12.99,0.99,0.99,0.99,1.99,4.99,3.99,0.99,3.99,14.0,1.49,4.49,1.99,0.99,6.99,5.99,3.99,2.49,0.99,1.49,39.99,3.02,1.49,1.49,0.99,0.99,4.99,1.49,0.99,6.49,5.99,2.99,3.99,0.99,17.99,0.99,1.99,1.49,1.49,3.99,1.49,2.99,4.99,8.99,0.99,0.99,1.99,2.49,4.99,0.99,1.99,1.99,0.99,2.99,4.49,3.49,2.0,1.49,2.99,3.99,3.99,15.99,3.99,2.99,1.49,0.99,9.99,2.99,4.99,9.99,2.49,10.99,2.99,0.99,1.99,1.99,0.99,3.99,1.61,0.99,1.99,2.49,4.29,0.99,3.99,0.99,2.99,1.49,15.46,1.99,2.99,4.99,7.49,3.99,5.49,2.49,2.99,1.99,4.99,4.99,19.99,2.99,1.99,9.99,0.99,1.99,2.99,1.7,0.99,7.99,29.99,2.99,7.99,0.99,1.49,2.99,4.99,2.49,79.99,2.56,3.99,19.99,2.49,0.99,0.99,8.49,6.99,2.99,0.99,2.99,1.5,4.99,1.99,4.84,14.99,29.99,4.99,4.99,3.99,19.4,33.99,1.49,2.99,2.99,0.99,0.99,1.99,3.08,5.99,3.99,2.99,0.99,1.99,5.99,2.49,0.99,0.99,0.99,6.99,0.99,16.99,0.99,3.49,1.7,3.99,37.99,9.99,6.99,1.99,3.99,10.0,1.29,3.99,4.49,2.99,2.49,0.99,4.99,0.99,3.99,1.99,7.49,0.99,10.99,5.99,0.99,1.49,14.99,4.99,4.99,0.99,4.99,3.99,4.99,0.99,4.49,5.99,3.99,1.99,3.99,4.99,1.99,3.99,0.99,2.99,1.49,2.49,3.99,3.99,3.99,3.99,0.99,1.99,2.99,0.99,2.99,0.99,1.99,6.99,1.99,0.99,1.49,2.99,5.99,2.99,2.99,4.6,1.99,14.99,0.99,0.99,0.99,2.99,2.99,1.99,2.99,4.99,1.0,14.99,2.49,0.99,4.99,0.99,1.49,3.99,2.99,4.99,3.99,4.99,4.99,4.99,4.99,4.99,1.0,6.99,2.99,9.99,24.99,2.99,3.99,0.99,3.99,3.99,1.99,0.99,7.99,4.99,2.99,10.0,2.99,2.99,2.99,14.99,7.99,12.99,0.99,4.49,16.99,0.99,0.99,4.99,3.99,3.49,2.49,2.99,1.49,6.99,1.99,2.5,3.9,2.95,0.99,1.49,1.99,7.99,2.99,2.99,4.99,1.99,0.99,2.99,2.99,1.99,1.97,1.99,9.99,2.99,5.49,3.28,0.99,2.99,4.99,2.99,14.99,2.99,2.99,2.99,17.99,0.99,6.99,4.99,3.99,2.99,2.99,4.99,1.2,2.99,1.99,4.99,4.99,0.99,5.99,2.59,2.99,1.99,3.99,4.99,3.99,2.99,4.99,2.99,4.99,2.99,0.99,3.99,2.49,0.99,18.99,1.99,1.99,1.59,3.99,11.99,1.99,1.99,2.99,0.99,9.99,3.99,0.99,2.99,1.99,4.99,1.99,2.99,0.99,1.99,0.99,0.99,29.99,2.99,1.99,2.99,1.99,1.99,2.99,4.99,3.99,1.99,3.99,2.99,5.99,19.99,9.99,2.99,2.49,1.49,0.99,2.99,2.99,1.99,11.99,4.99,3.99,4.99,2.99,2.99,4.77,2.99,2.99,4.99,4.99,4.99,1.99,2.49,4.99,3.99,3.99,24.99,4.99,0.99,9.0,0.99,2.99,2.99,2.99,9.99,2.99,1.49,14.99,4.99,7.99,1.99,0.99,0.99,4.49,3.99,3.99,4.99,2.99,2.99,2.99,2.99,3.99,4.99,4.99,3.95,8.99,8.99,2.49,3.99,4.49,1.99,5.99,4.99,11.99,4.99,9.99,4.49,3.49,2.99,4.99,4.99,4.99,1.99,4.49,3.99,2.99,13.99,3.49,9.99,4.99,2.99,2.99,4.99,2.99,2.99,2.99,2.99,2.99,9.99,0.99,1.99,2.99,1.49,6.99,2.9,2.99,2.99,3.99,2.99,4.99,2.99,2.99,1.99,5.99,4.99,2.99,2.49,0.99,3.99,5.99,2.99,2.99,1.99,2.99,4.99,1.99,2.49,0.99,4.99,2.99,2.99,2.99,6.99,0.99,5.99,1.99,2.99,0.99,0.99,0.99,0.99,0.99,2.99,0.99,5.99,1.99,0.99,6.99],\"y0\":\" \",\"yaxis\":\"y\"}],                        {\"boxmode\":\"group\",\"legend\":{\"tracegroupgap\":0},\"template\":{\"data\":{\"bar\":[{\"error_x\":{\"color\":\"#2a3f5f\"},\"error_y\":{\"color\":\"#2a3f5f\"},\"marker\":{\"line\":{\"color\":\"#E5ECF6\",\"width\":0.5},\"pattern\":{\"fillmode\":\"overlay\",\"size\":10,\"solidity\":0.2}},\"type\":\"bar\"}],\"barpolar\":[{\"marker\":{\"line\":{\"color\":\"#E5ECF6\",\"width\":0.5},\"pattern\":{\"fillmode\":\"overlay\",\"size\":10,\"solidity\":0.2}},\"type\":\"barpolar\"}],\"carpet\":[{\"aaxis\":{\"endlinecolor\":\"#2a3f5f\",\"gridcolor\":\"white\",\"linecolor\":\"white\",\"minorgridcolor\":\"white\",\"startlinecolor\":\"#2a3f5f\"},\"baxis\":{\"endlinecolor\":\"#2a3f5f\",\"gridcolor\":\"white\",\"linecolor\":\"white\",\"minorgridcolor\":\"white\",\"startlinecolor\":\"#2a3f5f\"},\"type\":\"carpet\"}],\"choropleth\":[{\"colorbar\":{\"outlinewidth\":0,\"ticks\":\"\"},\"type\":\"choropleth\"}],\"contour\":[{\"colorbar\":{\"outlinewidth\":0,\"ticks\":\"\"},\"colorscale\":[[0.0,\"#0d0887\"],[0.1111111111111111,\"#46039f\"],[0.2222222222222222,\"#7201a8\"],[0.3333333333333333,\"#9c179e\"],[0.4444444444444444,\"#bd3786\"],[0.5555555555555556,\"#d8576b\"],[0.6666666666666666,\"#ed7953\"],[0.7777777777777778,\"#fb9f3a\"],[0.8888888888888888,\"#fdca26\"],[1.0,\"#f0f921\"]],\"type\":\"contour\"}],\"contourcarpet\":[{\"colorbar\":{\"outlinewidth\":0,\"ticks\":\"\"},\"type\":\"contourcarpet\"}],\"heatmap\":[{\"colorbar\":{\"outlinewidth\":0,\"ticks\":\"\"},\"colorscale\":[[0.0,\"#0d0887\"],[0.1111111111111111,\"#46039f\"],[0.2222222222222222,\"#7201a8\"],[0.3333333333333333,\"#9c179e\"],[0.4444444444444444,\"#bd3786\"],[0.5555555555555556,\"#d8576b\"],[0.6666666666666666,\"#ed7953\"],[0.7777777777777778,\"#fb9f3a\"],[0.8888888888888888,\"#fdca26\"],[1.0,\"#f0f921\"]],\"type\":\"heatmap\"}],\"heatmapgl\":[{\"colorbar\":{\"outlinewidth\":0,\"ticks\":\"\"},\"colorscale\":[[0.0,\"#0d0887\"],[0.1111111111111111,\"#46039f\"],[0.2222222222222222,\"#7201a8\"],[0.3333333333333333,\"#9c179e\"],[0.4444444444444444,\"#bd3786\"],[0.5555555555555556,\"#d8576b\"],[0.6666666666666666,\"#ed7953\"],[0.7777777777777778,\"#fb9f3a\"],[0.8888888888888888,\"#fdca26\"],[1.0,\"#f0f921\"]],\"type\":\"heatmapgl\"}],\"histogram\":[{\"marker\":{\"pattern\":{\"fillmode\":\"overlay\",\"size\":10,\"solidity\":0.2}},\"type\":\"histogram\"}],\"histogram2d\":[{\"colorbar\":{\"outlinewidth\":0,\"ticks\":\"\"},\"colorscale\":[[0.0,\"#0d0887\"],[0.1111111111111111,\"#46039f\"],[0.2222222222222222,\"#7201a8\"],[0.3333333333333333,\"#9c179e\"],[0.4444444444444444,\"#bd3786\"],[0.5555555555555556,\"#d8576b\"],[0.6666666666666666,\"#ed7953\"],[0.7777777777777778,\"#fb9f3a\"],[0.8888888888888888,\"#fdca26\"],[1.0,\"#f0f921\"]],\"type\":\"histogram2d\"}],\"histogram2dcontour\":[{\"colorbar\":{\"outlinewidth\":0,\"ticks\":\"\"},\"colorscale\":[[0.0,\"#0d0887\"],[0.1111111111111111,\"#46039f\"],[0.2222222222222222,\"#7201a8\"],[0.3333333333333333,\"#9c179e\"],[0.4444444444444444,\"#bd3786\"],[0.5555555555555556,\"#d8576b\"],[0.6666666666666666,\"#ed7953\"],[0.7777777777777778,\"#fb9f3a\"],[0.8888888888888888,\"#fdca26\"],[1.0,\"#f0f921\"]],\"type\":\"histogram2dcontour\"}],\"mesh3d\":[{\"colorbar\":{\"outlinewidth\":0,\"ticks\":\"\"},\"type\":\"mesh3d\"}],\"parcoords\":[{\"line\":{\"colorbar\":{\"outlinewidth\":0,\"ticks\":\"\"}},\"type\":\"parcoords\"}],\"pie\":[{\"automargin\":true,\"type\":\"pie\"}],\"scatter\":[{\"marker\":{\"colorbar\":{\"outlinewidth\":0,\"ticks\":\"\"}},\"type\":\"scatter\"}],\"scatter3d\":[{\"line\":{\"colorbar\":{\"outlinewidth\":0,\"ticks\":\"\"}},\"marker\":{\"colorbar\":{\"outlinewidth\":0,\"ticks\":\"\"}},\"type\":\"scatter3d\"}],\"scattercarpet\":[{\"marker\":{\"colorbar\":{\"outlinewidth\":0,\"ticks\":\"\"}},\"type\":\"scattercarpet\"}],\"scattergeo\":[{\"marker\":{\"colorbar\":{\"outlinewidth\":0,\"ticks\":\"\"}},\"type\":\"scattergeo\"}],\"scattergl\":[{\"marker\":{\"colorbar\":{\"outlinewidth\":0,\"ticks\":\"\"}},\"type\":\"scattergl\"}],\"scattermapbox\":[{\"marker\":{\"colorbar\":{\"outlinewidth\":0,\"ticks\":\"\"}},\"type\":\"scattermapbox\"}],\"scatterpolar\":[{\"marker\":{\"colorbar\":{\"outlinewidth\":0,\"ticks\":\"\"}},\"type\":\"scatterpolar\"}],\"scatterpolargl\":[{\"marker\":{\"colorbar\":{\"outlinewidth\":0,\"ticks\":\"\"}},\"type\":\"scatterpolargl\"}],\"scatterternary\":[{\"marker\":{\"colorbar\":{\"outlinewidth\":0,\"ticks\":\"\"}},\"type\":\"scatterternary\"}],\"surface\":[{\"colorbar\":{\"outlinewidth\":0,\"ticks\":\"\"},\"colorscale\":[[0.0,\"#0d0887\"],[0.1111111111111111,\"#46039f\"],[0.2222222222222222,\"#7201a8\"],[0.3333333333333333,\"#9c179e\"],[0.4444444444444444,\"#bd3786\"],[0.5555555555555556,\"#d8576b\"],[0.6666666666666666,\"#ed7953\"],[0.7777777777777778,\"#fb9f3a\"],[0.8888888888888888,\"#fdca26\"],[1.0,\"#f0f921\"]],\"type\":\"surface\"}],\"table\":[{\"cells\":{\"fill\":{\"color\":\"#EBF0F8\"},\"line\":{\"color\":\"white\"}},\"header\":{\"fill\":{\"color\":\"#C8D4E3\"},\"line\":{\"color\":\"white\"}},\"type\":\"table\"}]},\"layout\":{\"annotationdefaults\":{\"arrowcolor\":\"#2a3f5f\",\"arrowhead\":0,\"arrowwidth\":1},\"autotypenumbers\":\"strict\",\"coloraxis\":{\"colorbar\":{\"outlinewidth\":0,\"ticks\":\"\"}},\"colorscale\":{\"diverging\":[[0,\"#8e0152\"],[0.1,\"#c51b7d\"],[0.2,\"#de77ae\"],[0.3,\"#f1b6da\"],[0.4,\"#fde0ef\"],[0.5,\"#f7f7f7\"],[0.6,\"#e6f5d0\"],[0.7,\"#b8e186\"],[0.8,\"#7fbc41\"],[0.9,\"#4d9221\"],[1,\"#276419\"]],\"sequential\":[[0.0,\"#0d0887\"],[0.1111111111111111,\"#46039f\"],[0.2222222222222222,\"#7201a8\"],[0.3333333333333333,\"#9c179e\"],[0.4444444444444444,\"#bd3786\"],[0.5555555555555556,\"#d8576b\"],[0.6666666666666666,\"#ed7953\"],[0.7777777777777778,\"#fb9f3a\"],[0.8888888888888888,\"#fdca26\"],[1.0,\"#f0f921\"]],\"sequentialminus\":[[0.0,\"#0d0887\"],[0.1111111111111111,\"#46039f\"],[0.2222222222222222,\"#7201a8\"],[0.3333333333333333,\"#9c179e\"],[0.4444444444444444,\"#bd3786\"],[0.5555555555555556,\"#d8576b\"],[0.6666666666666666,\"#ed7953\"],[0.7777777777777778,\"#fb9f3a\"],[0.8888888888888888,\"#fdca26\"],[1.0,\"#f0f921\"]]},\"colorway\":[\"#636efa\",\"#EF553B\",\"#00cc96\",\"#ab63fa\",\"#FFA15A\",\"#19d3f3\",\"#FF6692\",\"#B6E880\",\"#FF97FF\",\"#FECB52\"],\"font\":{\"color\":\"#2a3f5f\"},\"geo\":{\"bgcolor\":\"white\",\"lakecolor\":\"white\",\"landcolor\":\"#E5ECF6\",\"showlakes\":true,\"showland\":true,\"subunitcolor\":\"white\"},\"hoverlabel\":{\"align\":\"left\"},\"hovermode\":\"closest\",\"mapbox\":{\"style\":\"light\"},\"paper_bgcolor\":\"white\",\"plot_bgcolor\":\"#E5ECF6\",\"polar\":{\"angularaxis\":{\"gridcolor\":\"white\",\"linecolor\":\"white\",\"ticks\":\"\"},\"bgcolor\":\"#E5ECF6\",\"radialaxis\":{\"gridcolor\":\"white\",\"linecolor\":\"white\",\"ticks\":\"\"}},\"scene\":{\"xaxis\":{\"backgroundcolor\":\"#E5ECF6\",\"gridcolor\":\"white\",\"gridwidth\":2,\"linecolor\":\"white\",\"showbackground\":true,\"ticks\":\"\",\"zerolinecolor\":\"white\"},\"yaxis\":{\"backgroundcolor\":\"#E5ECF6\",\"gridcolor\":\"white\",\"gridwidth\":2,\"linecolor\":\"white\",\"showbackground\":true,\"ticks\":\"\",\"zerolinecolor\":\"white\"},\"zaxis\":{\"backgroundcolor\":\"#E5ECF6\",\"gridcolor\":\"white\",\"gridwidth\":2,\"linecolor\":\"white\",\"showbackground\":true,\"ticks\":\"\",\"zerolinecolor\":\"white\"}},\"shapedefaults\":{\"line\":{\"color\":\"#2a3f5f\"}},\"ternary\":{\"aaxis\":{\"gridcolor\":\"white\",\"linecolor\":\"white\",\"ticks\":\"\"},\"baxis\":{\"gridcolor\":\"white\",\"linecolor\":\"white\",\"ticks\":\"\"},\"bgcolor\":\"#E5ECF6\",\"caxis\":{\"gridcolor\":\"white\",\"linecolor\":\"white\",\"ticks\":\"\"}},\"title\":{\"x\":0.05},\"xaxis\":{\"automargin\":true,\"gridcolor\":\"white\",\"linecolor\":\"white\",\"ticks\":\"\",\"title\":{\"standoff\":15},\"zerolinecolor\":\"white\",\"zerolinewidth\":2},\"yaxis\":{\"automargin\":true,\"gridcolor\":\"white\",\"linecolor\":\"white\",\"ticks\":\"\",\"title\":{\"standoff\":15},\"zerolinecolor\":\"white\",\"zerolinewidth\":2}}},\"title\":{\"text\":\"Price per Category\"},\"xaxis\":{\"anchor\":\"y\",\"categoryorder\":\"max descending\",\"domain\":[0.0,1.0],\"title\":{\"text\":\"Category\"}},\"yaxis\":{\"anchor\":\"x\",\"domain\":[0.0,1.0],\"title\":{\"text\":\"Paid App Price\"},\"type\":\"log\"}},                        {\"responsive\": true}                    ).then(function(){\n",
       "                            \n",
       "var gd = document.getElementById('78f6eae7-fb23-43e4-bd00-0348d616297c');\n",
       "var x = new MutationObserver(function (mutations, observer) {{\n",
       "        var display = window.getComputedStyle(gd).display;\n",
       "        if (!display || display === 'none') {{\n",
       "            console.log([gd, 'removed!']);\n",
       "            Plotly.purge(gd);\n",
       "            observer.disconnect();\n",
       "        }}\n",
       "}});\n",
       "\n",
       "// Listen for the removal of the full notebook cells\n",
       "var notebookContainer = gd.closest('#notebook-container');\n",
       "if (notebookContainer) {{\n",
       "    x.observe(notebookContainer, {childList: true});\n",
       "}}\n",
       "\n",
       "// Listen for the clearing of the current output cell\n",
       "var outputEl = gd.closest('.output');\n",
       "if (outputEl) {{\n",
       "    x.observe(outputEl, {childList: true});\n",
       "}}\n",
       "\n",
       "                        })                };                });            </script>        </div>"
      ]
     },
     "metadata": {},
     "output_type": "display_data"
    }
   ],
   "source": [
    "box = px.box(df_paid_apps,\n",
    "             x='Category',\n",
    "             y=\"Price\",\n",
    "             title='Price per Category')\n",
    " \n",
    "box.update_layout(xaxis_title='Category',\n",
    "                  yaxis_title='Paid App Price',\n",
    "                  xaxis={'categoryorder':'max descending'},\n",
    "                  yaxis=dict(type='log'))\n",
    " \n",
    "box.show()"
   ]
  },
  {
   "cell_type": "code",
   "execution_count": null,
   "metadata": {
    "id": "zSXVSlVyQ4Kz"
   },
   "outputs": [],
   "source": []
  }
 ],
 "metadata": {
  "colab": {
   "name": "Google Play Store App Analytics (start).ipynb",
   "provenance": [],
   "toc_visible": true
  },
  "kernelspec": {
   "display_name": "venv",
   "language": "python",
   "name": "venv"
  },
  "language_info": {
   "codemirror_mode": {
    "name": "ipython",
    "version": 3
   },
   "file_extension": ".py",
   "mimetype": "text/x-python",
   "name": "python",
   "nbconvert_exporter": "python",
   "pygments_lexer": "ipython3",
   "version": "3.8.9"
  }
 },
 "nbformat": 4,
 "nbformat_minor": 1
}
