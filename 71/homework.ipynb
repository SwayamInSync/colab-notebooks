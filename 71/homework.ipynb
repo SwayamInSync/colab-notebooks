{
 "cells": [
  {
   "cell_type": "code",
   "execution_count": 8,
   "id": "25da1f88",
   "metadata": {},
   "outputs": [],
   "source": [
    "import pandas as pd"
   ]
  },
  {
   "cell_type": "code",
   "execution_count": 71,
   "id": "f6e82332",
   "metadata": {},
   "outputs": [],
   "source": [
    "df = pd.read_csv('college-salary-report.csv',names=['Rank','Major','Degree Type','Early Career Pay','Mid Career Pay', 'High Meaning'], header=0)"
   ]
  },
  {
   "cell_type": "code",
   "execution_count": 72,
   "id": "0a4694b9",
   "metadata": {},
   "outputs": [
    {
     "data": {
      "text/html": [
       "<div>\n",
       "<style scoped>\n",
       "    .dataframe tbody tr th:only-of-type {\n",
       "        vertical-align: middle;\n",
       "    }\n",
       "\n",
       "    .dataframe tbody tr th {\n",
       "        vertical-align: top;\n",
       "    }\n",
       "\n",
       "    .dataframe thead th {\n",
       "        text-align: right;\n",
       "    }\n",
       "</style>\n",
       "<table border=\"1\" class=\"dataframe\">\n",
       "  <thead>\n",
       "    <tr style=\"text-align: right;\">\n",
       "      <th></th>\n",
       "      <th>Rank</th>\n",
       "      <th>Major</th>\n",
       "      <th>Degree Type</th>\n",
       "      <th>Early Career Pay</th>\n",
       "      <th>Mid Career Pay</th>\n",
       "      <th>High Meaning</th>\n",
       "    </tr>\n",
       "  </thead>\n",
       "  <tbody>\n",
       "    <tr>\n",
       "      <th>0</th>\n",
       "      <td>1</td>\n",
       "      <td>Petroleum Engineering</td>\n",
       "      <td>Bachelors</td>\n",
       "      <td>$92,300</td>\n",
       "      <td>$182,000</td>\n",
       "      <td>69%</td>\n",
       "    </tr>\n",
       "    <tr>\n",
       "      <th>1</th>\n",
       "      <td>2</td>\n",
       "      <td>Electrical Engineering &amp; Computer Science (EECS)</td>\n",
       "      <td>Bachelors</td>\n",
       "      <td>$101,200</td>\n",
       "      <td>$152,300</td>\n",
       "      <td>46%</td>\n",
       "    </tr>\n",
       "    <tr>\n",
       "      <th>2</th>\n",
       "      <td>3</td>\n",
       "      <td>Applied Economics and Management</td>\n",
       "      <td>Bachelors</td>\n",
       "      <td>$60,900</td>\n",
       "      <td>$139,600</td>\n",
       "      <td>67%</td>\n",
       "    </tr>\n",
       "    <tr>\n",
       "      <th>3</th>\n",
       "      <td>3</td>\n",
       "      <td>Operations Research</td>\n",
       "      <td>Bachelors</td>\n",
       "      <td>$78,400</td>\n",
       "      <td>$139,600</td>\n",
       "      <td>52%</td>\n",
       "    </tr>\n",
       "    <tr>\n",
       "      <th>4</th>\n",
       "      <td>5</td>\n",
       "      <td>Public Accounting</td>\n",
       "      <td>Bachelors</td>\n",
       "      <td>$60,000</td>\n",
       "      <td>$138,800</td>\n",
       "      <td>49%</td>\n",
       "    </tr>\n",
       "  </tbody>\n",
       "</table>\n",
       "</div>"
      ],
      "text/plain": [
       "   Rank                                             Major Degree Type  \\\n",
       "0     1                             Petroleum Engineering   Bachelors   \n",
       "1     2  Electrical Engineering & Computer Science (EECS)   Bachelors   \n",
       "2     3                  Applied Economics and Management   Bachelors   \n",
       "3     3                               Operations Research   Bachelors   \n",
       "4     5                                 Public Accounting   Bachelors   \n",
       "\n",
       "  Early Career Pay Mid Career Pay High Meaning  \n",
       "0          $92,300       $182,000          69%  \n",
       "1         $101,200       $152,300          46%  \n",
       "2          $60,900       $139,600          67%  \n",
       "3          $78,400       $139,600          52%  \n",
       "4          $60,000       $138,800          49%  "
      ]
     },
     "execution_count": 72,
     "metadata": {},
     "output_type": "execute_result"
    }
   ],
   "source": [
    "df.head()"
   ]
  },
  {
   "cell_type": "code",
   "execution_count": 74,
   "id": "42ee4a65",
   "metadata": {},
   "outputs": [
    {
     "data": {
      "text/plain": [
       "RangeIndex(start=0, stop=834, step=1)"
      ]
     },
     "execution_count": 74,
     "metadata": {},
     "output_type": "execute_result"
    }
   ],
   "source": [
    "df.index"
   ]
  },
  {
   "cell_type": "code",
   "execution_count": 76,
   "id": "63c781c0",
   "metadata": {},
   "outputs": [
    {
     "data": {
      "text/plain": [
       "0      Bachelors\n",
       "1      Bachelors\n",
       "2      Bachelors\n",
       "3      Bachelors\n",
       "4      Bachelors\n",
       "         ...    \n",
       "829    Bachelors\n",
       "830    Bachelors\n",
       "831    Bachelors\n",
       "832    Bachelors\n",
       "833    Bachelors\n",
       "Name: Degree Type, Length: 834, dtype: object"
      ]
     },
     "execution_count": 76,
     "metadata": {},
     "output_type": "execute_result"
    }
   ],
   "source": [
    "df['Degree Type']"
   ]
  },
  {
   "cell_type": "code",
   "execution_count": null,
   "id": "f9b2b338",
   "metadata": {},
   "outputs": [],
   "source": []
  }
 ],
 "metadata": {
  "kernelspec": {
   "display_name": "venv",
   "language": "python",
   "name": "venv"
  },
  "language_info": {
   "codemirror_mode": {
    "name": "ipython",
    "version": 3
   },
   "file_extension": ".py",
   "mimetype": "text/x-python",
   "name": "python",
   "nbconvert_exporter": "python",
   "pygments_lexer": "ipython3",
   "version": "3.8.9"
  }
 },
 "nbformat": 4,
 "nbformat_minor": 5
}
